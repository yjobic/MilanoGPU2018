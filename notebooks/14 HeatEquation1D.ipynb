{
 "cells": [
  {
   "cell_type": "markdown",
   "metadata": {},
   "source": [
    "# License\n",
    "    IPython notebook for simulating the linear wave equation with CUDA\n",
    "    Copyright (C) 2015, 2018 Andre.Brodtkorb@ifi.uio.no\n",
    "\n",
    "    This program is free software: you can redistribute it and/or modify\n",
    "    it under the terms of the GNU General Public License as published by\n",
    "    the Free Software Foundation, either version 3 of the License, or\n",
    "    (at your option) any later version.\n",
    "\n",
    "    This program is distributed in the hope that it will be useful,\n",
    "    but WITHOUT ANY WARRANTY; without even the implied warranty of\n",
    "    MERCHANTABILITY or FITNESS FOR A PARTICULAR PURPOSE.  See the\n",
    "    GNU General Public License for more details.\n",
    "\n",
    "    You should have received a copy of the GNU General Public License\n",
    "    along with this program.  If not, see <http://www.gnu.org/licenses/>."
   ]
  },
  {
   "cell_type": "code",
   "execution_count": 1,
   "metadata": {},
   "outputs": [],
   "source": [
    "%matplotlib inline \n",
    "\n",
    "#Import packages we need\n",
    "import numpy as np\n",
    "from matplotlib import animation, rc, cm\n",
    "from matplotlib import pyplot as plt\n",
    "\n",
    "import pycuda.compiler as cuda_compiler\n",
    "import pycuda.driver as cuda_driver\n",
    "from pycuda.gpuarray import GPUArray\n",
    "\n",
    "import IPythonMagic\n",
    "from Timer import Timer\n",
    "\n",
    "import pytest\n",
    "from ipytest import run_pytest, clean_tests"
   ]
  },
  {
   "cell_type": "code",
   "execution_count": 2,
   "metadata": {},
   "outputs": [
    {
     "name": "stderr",
     "output_type": "stream",
     "text": [
      "Python version 3.6.6 | packaged by conda-forge | (default, Jul 26 2018, 09:53:17) \n",
      "[GCC 4.8.2 20140120 (Red Hat 4.8.2-15)]\n",
      "Registering context in user workspace\n",
      "Creating context\n",
      "PyCUDA version 2018.1.1\n",
      "CUDA version (8, 0, 0)\n",
      "Driver version 9010\n",
      "Using 'Quadro K2000' GPU\n",
      " => compute capability: (3, 0)\n",
      " => memory: 1876 / 1999 MB available\n",
      "Created context handle <48859888>\n",
      "Using CUDA cache dir /home/jobic/test/cuda/milan2018/MilanoGPU2018/notebooks/cuda_cache\n"
     ]
    }
   ],
   "source": [
    "%setup_logging\n",
    "%cuda_context_handler context"
   ]
  },
  {
   "cell_type": "markdown",
   "metadata": {},
   "source": [
    "# Heat equation in 1D\n",
    "The heat equation can be written\n",
    "$$\n",
    "\\begin{align}\n",
    "\\frac{\\partial u}{\\partial t} &= \\kappa \\nabla^2 u\\\\\n",
    "&= \\kappa \\frac{\\partial^2 u}{\\partial x^2}\n",
    "\\end{align}\n",
    "$$\n",
    "where $u$ is the temperature, and $\\kappa$ is the material specific heat conduction constant. \n",
    "\n",
    "By approximating the temporal derivative with a backward difference, and the spatial derivative with a central difference, we get\n",
    "$$\n",
    "\\frac{1}{\\Delta t} (u_i^{n+1} - u_i^{n}) = \\kappa \\frac{1}{\\Delta x^2}(u_{i-1}^n - 2u_i^n + u_{i+1}^n)\n",
    "$$\n",
    "and gathering $u^n+1$ on the left hand side and $u^n$on the right, we write\n",
    "$$\n",
    "u^{n+1}_i = u_i^n + \\frac{\\kappa\\Delta t}{\\Delta x^2}(u_{i-1}^n - 2u_i^n + u_{i+1}^n)\n",
    "$$\n",
    "This discretization is unstable if the following CFL condition is not met\n",
    "$$\n",
    "\\frac{1}{2} \\gt \\frac{\\kappa\\Delta t}{\\Delta x^2}\n",
    "$$\n",
    "or \n",
    "$$\n",
    "\\Delta t \\lt \\frac{\\Delta x^2}{2\\kappa}\n",
    "$$"
   ]
  },
  {
   "cell_type": "code",
   "execution_count": 3,
   "metadata": {},
   "outputs": [],
   "source": [
    "class HeatEquation(object):\n",
    "    def __init__(self, u0, kappa, dx, dt):\n",
    "        self.u0 = u0\n",
    "        self.u1 = np.empty_like(u0)\n",
    "        self.kappa = kappa\n",
    "        self.dx = dx\n",
    "        self.dt = dt\n",
    "        self.nx = u0.shape[0]-2\n",
    "        \n",
    "        \n",
    "    def step(self):\n",
    "        #Internal cells\n",
    "        for i in range(1, self.nx+1):\n",
    "            self.u1[i] = self.u0[i] + self.kappa*self.dt/(self.dx*self.dx) * (self.u0[i-1] - 2.0*self.u0[i] + self.u0[i+1]);\n",
    "            \n",
    "        #Boundary conditions\n",
    "        self.u1[0] = self.u1[1]\n",
    "        self.u1[self.nx+1] = self.u1[self.nx]\n",
    "        \n",
    "        self.u0, self.u1 = self.u1, self.u0\n",
    "        \n",
    "    def download(self):\n",
    "        return self.u0"
   ]
  },
  {
   "cell_type": "code",
   "execution_count": 4,
   "metadata": {},
   "outputs": [
    {
     "name": "stderr",
     "output_type": "stream",
     "text": [
      "Initialization: 0.029802 ms\n"
     ]
    }
   ],
   "source": [
    "#Create test input data\n",
    "kappa = 1.0\n",
    "nx = 100\n",
    "dx = 1.0\n",
    "dt = 0.4 * dx**2 / (2.0*kappa)\n",
    "\n",
    "u0 = np.zeros(nx, dtype=np.float32)\n",
    "for i in range(nx):\n",
    "    x = (i - nx/2.0) * dx\n",
    "    if (np.sqrt(x**2) < 10*dx):\n",
    "        u0[i] = 10.0\n",
    "\n",
    "        \n",
    "with Timer(\"Initialization\") as t:\n",
    "    simulator = HeatEquation(u0, kappa, dx, dt)"
   ]
  },
  {
   "cell_type": "code",
   "execution_count": 5,
   "metadata": {},
   "outputs": [
    {
     "name": "stderr",
     "output_type": "stream",
     "text": [
      "Animation.save using <class 'matplotlib.animation.FFMpegWriter'>\n",
      "frame size in pixels is 864 x 576\n",
      "MovieWriter.run: running command: ['ffmpeg', '-f', 'rawvideo', '-vcodec', 'rawvideo', '-s', '864x576', '-pix_fmt', 'rgba', '-r', '10.0', '-i', 'pipe:', '-vcodec', 'h264', '-pix_fmt', 'yuv420p', '-y', '/tmp/tmpu0w7u6hd/temp.m4v']\n"
     ]
    },
    {
     "name": "stdout",
     "output_type": "stream",
     "text": [
      ".."
     ]
    },
    {
     "name": "stderr",
     "output_type": "stream",
     "text": [
      "update_title_pos\n",
      "findfont: Matching :family=sans-serif:style=normal:variant=normal:weight=normal:stretch=normal:size=10.0 to DejaVu Sans ('/home/jobic/anaconda3/envs/gpudev/lib/python3.6/site-packages/matplotlib/mpl-data/fonts/ttf/DejaVuSans.ttf') with score of 0.050000.\n",
      "MovieWriter.grab_frame: Grabbing frame.\n",
      "update_title_pos\n"
     ]
    },
    {
     "name": "stdout",
     "output_type": "stream",
     "text": [
      "."
     ]
    },
    {
     "name": "stderr",
     "output_type": "stream",
     "text": [
      "update_title_pos\n",
      "MovieWriter.grab_frame: Grabbing frame.\n",
      "update_title_pos\n"
     ]
    },
    {
     "name": "stdout",
     "output_type": "stream",
     "text": [
      "."
     ]
    },
    {
     "name": "stderr",
     "output_type": "stream",
     "text": [
      "update_title_pos\n",
      "MovieWriter.grab_frame: Grabbing frame.\n",
      "update_title_pos\n"
     ]
    },
    {
     "name": "stdout",
     "output_type": "stream",
     "text": [
      "."
     ]
    },
    {
     "name": "stderr",
     "output_type": "stream",
     "text": [
      "update_title_pos\n",
      "MovieWriter.grab_frame: Grabbing frame.\n",
      "update_title_pos\n"
     ]
    },
    {
     "name": "stdout",
     "output_type": "stream",
     "text": [
      "."
     ]
    },
    {
     "name": "stderr",
     "output_type": "stream",
     "text": [
      "update_title_pos\n",
      "MovieWriter.grab_frame: Grabbing frame.\n",
      "update_title_pos\n"
     ]
    },
    {
     "name": "stdout",
     "output_type": "stream",
     "text": [
      "."
     ]
    },
    {
     "name": "stderr",
     "output_type": "stream",
     "text": [
      "update_title_pos\n",
      "MovieWriter.grab_frame: Grabbing frame.\n",
      "update_title_pos\n"
     ]
    },
    {
     "name": "stdout",
     "output_type": "stream",
     "text": [
      "."
     ]
    },
    {
     "name": "stderr",
     "output_type": "stream",
     "text": [
      "update_title_pos\n",
      "MovieWriter.grab_frame: Grabbing frame.\n",
      "update_title_pos\n"
     ]
    },
    {
     "name": "stdout",
     "output_type": "stream",
     "text": [
      "."
     ]
    },
    {
     "name": "stderr",
     "output_type": "stream",
     "text": [
      "update_title_pos\n",
      "MovieWriter.grab_frame: Grabbing frame.\n",
      "update_title_pos\n"
     ]
    },
    {
     "name": "stdout",
     "output_type": "stream",
     "text": [
      "."
     ]
    },
    {
     "name": "stderr",
     "output_type": "stream",
     "text": [
      "update_title_pos\n",
      "MovieWriter.grab_frame: Grabbing frame.\n",
      "update_title_pos\n"
     ]
    },
    {
     "name": "stdout",
     "output_type": "stream",
     "text": [
      "."
     ]
    },
    {
     "name": "stderr",
     "output_type": "stream",
     "text": [
      "update_title_pos\n",
      "MovieWriter.grab_frame: Grabbing frame.\n",
      "update_title_pos\n"
     ]
    },
    {
     "name": "stdout",
     "output_type": "stream",
     "text": [
      "."
     ]
    },
    {
     "name": "stderr",
     "output_type": "stream",
     "text": [
      "update_title_pos\n",
      "MovieWriter.grab_frame: Grabbing frame.\n",
      "update_title_pos\n"
     ]
    },
    {
     "name": "stdout",
     "output_type": "stream",
     "text": [
      "."
     ]
    },
    {
     "name": "stderr",
     "output_type": "stream",
     "text": [
      "update_title_pos\n",
      "MovieWriter.grab_frame: Grabbing frame.\n",
      "update_title_pos\n"
     ]
    },
    {
     "name": "stdout",
     "output_type": "stream",
     "text": [
      "."
     ]
    },
    {
     "name": "stderr",
     "output_type": "stream",
     "text": [
      "update_title_pos\n",
      "MovieWriter.grab_frame: Grabbing frame.\n",
      "update_title_pos\n"
     ]
    },
    {
     "name": "stdout",
     "output_type": "stream",
     "text": [
      "."
     ]
    },
    {
     "name": "stderr",
     "output_type": "stream",
     "text": [
      "update_title_pos\n",
      "MovieWriter.grab_frame: Grabbing frame.\n",
      "update_title_pos\n"
     ]
    },
    {
     "name": "stdout",
     "output_type": "stream",
     "text": [
      "."
     ]
    },
    {
     "name": "stderr",
     "output_type": "stream",
     "text": [
      "update_title_pos\n",
      "MovieWriter.grab_frame: Grabbing frame.\n",
      "update_title_pos\n"
     ]
    },
    {
     "name": "stdout",
     "output_type": "stream",
     "text": [
      "."
     ]
    },
    {
     "name": "stderr",
     "output_type": "stream",
     "text": [
      "update_title_pos\n",
      "MovieWriter.grab_frame: Grabbing frame.\n",
      "update_title_pos\n"
     ]
    },
    {
     "name": "stdout",
     "output_type": "stream",
     "text": [
      "."
     ]
    },
    {
     "name": "stderr",
     "output_type": "stream",
     "text": [
      "update_title_pos\n",
      "MovieWriter.grab_frame: Grabbing frame.\n",
      "update_title_pos\n"
     ]
    },
    {
     "name": "stdout",
     "output_type": "stream",
     "text": [
      "."
     ]
    },
    {
     "name": "stderr",
     "output_type": "stream",
     "text": [
      "update_title_pos\n",
      "MovieWriter.grab_frame: Grabbing frame.\n",
      "update_title_pos\n"
     ]
    },
    {
     "name": "stdout",
     "output_type": "stream",
     "text": [
      "."
     ]
    },
    {
     "name": "stderr",
     "output_type": "stream",
     "text": [
      "update_title_pos\n",
      "MovieWriter.grab_frame: Grabbing frame.\n",
      "update_title_pos\n"
     ]
    },
    {
     "name": "stdout",
     "output_type": "stream",
     "text": [
      "."
     ]
    },
    {
     "name": "stderr",
     "output_type": "stream",
     "text": [
      "update_title_pos\n",
      "MovieWriter.grab_frame: Grabbing frame.\n",
      "update_title_pos\n"
     ]
    },
    {
     "name": "stdout",
     "output_type": "stream",
     "text": [
      "."
     ]
    },
    {
     "name": "stderr",
     "output_type": "stream",
     "text": [
      "update_title_pos\n",
      "MovieWriter.grab_frame: Grabbing frame.\n",
      "update_title_pos\n"
     ]
    },
    {
     "name": "stdout",
     "output_type": "stream",
     "text": [
      "."
     ]
    },
    {
     "name": "stderr",
     "output_type": "stream",
     "text": [
      "update_title_pos\n",
      "MovieWriter.grab_frame: Grabbing frame.\n",
      "update_title_pos\n"
     ]
    },
    {
     "name": "stdout",
     "output_type": "stream",
     "text": [
      "."
     ]
    },
    {
     "name": "stderr",
     "output_type": "stream",
     "text": [
      "update_title_pos\n",
      "MovieWriter.grab_frame: Grabbing frame.\n",
      "update_title_pos\n"
     ]
    },
    {
     "name": "stdout",
     "output_type": "stream",
     "text": [
      "."
     ]
    },
    {
     "name": "stderr",
     "output_type": "stream",
     "text": [
      "update_title_pos\n",
      "MovieWriter.grab_frame: Grabbing frame.\n",
      "update_title_pos\n"
     ]
    },
    {
     "name": "stdout",
     "output_type": "stream",
     "text": [
      "."
     ]
    },
    {
     "name": "stderr",
     "output_type": "stream",
     "text": [
      "update_title_pos\n",
      "MovieWriter.grab_frame: Grabbing frame.\n",
      "update_title_pos\n"
     ]
    },
    {
     "name": "stdout",
     "output_type": "stream",
     "text": [
      "."
     ]
    },
    {
     "name": "stderr",
     "output_type": "stream",
     "text": [
      "update_title_pos\n",
      "MovieWriter.grab_frame: Grabbing frame.\n",
      "update_title_pos\n"
     ]
    },
    {
     "name": "stdout",
     "output_type": "stream",
     "text": [
      "."
     ]
    },
    {
     "name": "stderr",
     "output_type": "stream",
     "text": [
      "update_title_pos\n",
      "MovieWriter.grab_frame: Grabbing frame.\n",
      "update_title_pos\n"
     ]
    },
    {
     "name": "stdout",
     "output_type": "stream",
     "text": [
      "."
     ]
    },
    {
     "name": "stderr",
     "output_type": "stream",
     "text": [
      "update_title_pos\n",
      "MovieWriter.grab_frame: Grabbing frame.\n",
      "update_title_pos\n"
     ]
    },
    {
     "name": "stdout",
     "output_type": "stream",
     "text": [
      "."
     ]
    },
    {
     "name": "stderr",
     "output_type": "stream",
     "text": [
      "update_title_pos\n",
      "MovieWriter.grab_frame: Grabbing frame.\n",
      "update_title_pos\n"
     ]
    },
    {
     "name": "stdout",
     "output_type": "stream",
     "text": [
      "."
     ]
    },
    {
     "name": "stderr",
     "output_type": "stream",
     "text": [
      "update_title_pos\n",
      "MovieWriter.grab_frame: Grabbing frame.\n",
      "update_title_pos\n"
     ]
    },
    {
     "name": "stdout",
     "output_type": "stream",
     "text": [
      "."
     ]
    },
    {
     "name": "stderr",
     "output_type": "stream",
     "text": [
      "update_title_pos\n",
      "MovieWriter.grab_frame: Grabbing frame.\n",
      "update_title_pos\n"
     ]
    },
    {
     "name": "stdout",
     "output_type": "stream",
     "text": [
      "."
     ]
    },
    {
     "name": "stderr",
     "output_type": "stream",
     "text": [
      "update_title_pos\n",
      "MovieWriter.grab_frame: Grabbing frame.\n",
      "update_title_pos\n"
     ]
    },
    {
     "name": "stdout",
     "output_type": "stream",
     "text": [
      "."
     ]
    },
    {
     "name": "stderr",
     "output_type": "stream",
     "text": [
      "update_title_pos\n",
      "MovieWriter.grab_frame: Grabbing frame.\n",
      "update_title_pos\n"
     ]
    },
    {
     "name": "stdout",
     "output_type": "stream",
     "text": [
      "."
     ]
    },
    {
     "name": "stderr",
     "output_type": "stream",
     "text": [
      "update_title_pos\n",
      "MovieWriter.grab_frame: Grabbing frame.\n",
      "update_title_pos\n"
     ]
    },
    {
     "name": "stdout",
     "output_type": "stream",
     "text": [
      "."
     ]
    },
    {
     "name": "stderr",
     "output_type": "stream",
     "text": [
      "update_title_pos\n",
      "MovieWriter.grab_frame: Grabbing frame.\n",
      "update_title_pos\n"
     ]
    },
    {
     "name": "stdout",
     "output_type": "stream",
     "text": [
      "."
     ]
    },
    {
     "name": "stderr",
     "output_type": "stream",
     "text": [
      "update_title_pos\n",
      "MovieWriter.grab_frame: Grabbing frame.\n",
      "update_title_pos\n"
     ]
    },
    {
     "name": "stdout",
     "output_type": "stream",
     "text": [
      "."
     ]
    },
    {
     "name": "stderr",
     "output_type": "stream",
     "text": [
      "update_title_pos\n",
      "MovieWriter.grab_frame: Grabbing frame.\n",
      "update_title_pos\n"
     ]
    },
    {
     "name": "stdout",
     "output_type": "stream",
     "text": [
      "."
     ]
    },
    {
     "name": "stderr",
     "output_type": "stream",
     "text": [
      "update_title_pos\n",
      "MovieWriter.grab_frame: Grabbing frame.\n",
      "update_title_pos\n"
     ]
    },
    {
     "name": "stdout",
     "output_type": "stream",
     "text": [
      "."
     ]
    },
    {
     "name": "stderr",
     "output_type": "stream",
     "text": [
      "update_title_pos\n",
      "MovieWriter.grab_frame: Grabbing frame.\n",
      "update_title_pos\n"
     ]
    },
    {
     "name": "stdout",
     "output_type": "stream",
     "text": [
      "."
     ]
    },
    {
     "name": "stderr",
     "output_type": "stream",
     "text": [
      "update_title_pos\n",
      "MovieWriter.grab_frame: Grabbing frame.\n",
      "update_title_pos\n"
     ]
    },
    {
     "name": "stdout",
     "output_type": "stream",
     "text": [
      "."
     ]
    },
    {
     "name": "stderr",
     "output_type": "stream",
     "text": [
      "update_title_pos\n",
      "MovieWriter.grab_frame: Grabbing frame.\n",
      "update_title_pos\n"
     ]
    },
    {
     "name": "stdout",
     "output_type": "stream",
     "text": [
      "."
     ]
    },
    {
     "name": "stderr",
     "output_type": "stream",
     "text": [
      "update_title_pos\n",
      "MovieWriter.grab_frame: Grabbing frame.\n",
      "update_title_pos\n"
     ]
    },
    {
     "name": "stdout",
     "output_type": "stream",
     "text": [
      "."
     ]
    },
    {
     "name": "stderr",
     "output_type": "stream",
     "text": [
      "update_title_pos\n",
      "MovieWriter.grab_frame: Grabbing frame.\n",
      "update_title_pos\n"
     ]
    },
    {
     "name": "stdout",
     "output_type": "stream",
     "text": [
      "."
     ]
    },
    {
     "name": "stderr",
     "output_type": "stream",
     "text": [
      "update_title_pos\n",
      "MovieWriter.grab_frame: Grabbing frame.\n",
      "update_title_pos\n"
     ]
    },
    {
     "name": "stdout",
     "output_type": "stream",
     "text": [
      "."
     ]
    },
    {
     "name": "stderr",
     "output_type": "stream",
     "text": [
      "update_title_pos\n",
      "MovieWriter.grab_frame: Grabbing frame.\n",
      "update_title_pos\n"
     ]
    },
    {
     "name": "stdout",
     "output_type": "stream",
     "text": [
      "."
     ]
    },
    {
     "name": "stderr",
     "output_type": "stream",
     "text": [
      "update_title_pos\n",
      "MovieWriter.grab_frame: Grabbing frame.\n",
      "update_title_pos\n"
     ]
    },
    {
     "name": "stdout",
     "output_type": "stream",
     "text": [
      "."
     ]
    },
    {
     "name": "stderr",
     "output_type": "stream",
     "text": [
      "update_title_pos\n",
      "MovieWriter.grab_frame: Grabbing frame.\n",
      "update_title_pos\n"
     ]
    },
    {
     "name": "stdout",
     "output_type": "stream",
     "text": [
      "."
     ]
    },
    {
     "name": "stderr",
     "output_type": "stream",
     "text": [
      "update_title_pos\n",
      "MovieWriter.grab_frame: Grabbing frame.\n",
      "update_title_pos\n"
     ]
    },
    {
     "name": "stdout",
     "output_type": "stream",
     "text": [
      "."
     ]
    },
    {
     "name": "stderr",
     "output_type": "stream",
     "text": [
      "update_title_pos\n",
      "MovieWriter.grab_frame: Grabbing frame.\n",
      "update_title_pos\n"
     ]
    },
    {
     "name": "stdout",
     "output_type": "stream",
     "text": [
      "."
     ]
    },
    {
     "name": "stderr",
     "output_type": "stream",
     "text": [
      "update_title_pos\n",
      "MovieWriter.grab_frame: Grabbing frame.\n",
      "update_title_pos\n",
      "MovieWriter -- Command stdout:\n",
      "b''\n",
      "MovieWriter -- Command stderr:\n",
      "b\"ffmpeg version 4.0.2-static https://johnvansickle.com/ffmpeg/  Copyright (c) 2000-2018 the FFmpeg developers\\n  built with gcc 6.3.0 (Debian 6.3.0-18+deb9u1) 20170516\\n  configuration: --enable-gpl --enable-version3 --enable-static --disable-debug --disable-ffplay --disable-indev=sndio --disable-outdev=sndio --cc=gcc-6 --enable-fontconfig --enable-frei0r --enable-gnutls --enable-gray --enable-libaom --enable-libfribidi --enable-libass --enable-libvmaf --enable-libfreetype --enable-libmp3lame --enable-libopencore-amrnb --enable-libopencore-amrwb --enable-libopenjpeg --enable-librubberband --enable-libsoxr --enable-libspeex --enable-libvorbis --enable-libopus --enable-libtheora --enable-libvidstab --enable-libvo-amrwbenc --enable-libvpx --enable-libwebp --enable-libx264 --enable-libx265 --enable-libxml2 --enable-libxvid --enable-libzimg\\n  libavutil      56. 14.100 / 56. 14.100\\n  libavcodec     58. 18.100 / 58. 18.100\\n  libavformat    58. 12.100 / 58. 12.100\\n  libavdevice    58.  3.100 / 58.  3.100\\n  libavfilter     7. 16.100 /  7. 16.100\\n  libswscale      5.  1.100 /  5.  1.100\\n  libswresample   3.  1.100 /  3.  1.100\\n  libpostproc    55.  1.100 / 55.  1.100\\nInput #0, rawvideo, from 'pipe:':\\n  Duration: N/A, start: 0.000000, bitrate: 159252 kb/s\\n    Stream #0:0: Video: rawvideo (RGBA / 0x41424752), rgba, 864x576, 159252 kb/s, 10 tbr, 10 tbn, 10 tbc\\nStream mapping:\\n  Stream #0:0 -> #0:0 (rawvideo (native) -> h264 (libx264))\\n[libx264 @ 0x64bf780] using cpu capabilities: MMX2 SSE2Fast SSSE3 SSE4.2 AVX\\n[libx264 @ 0x64bf780] profile High, level 3.1\\n[libx264 @ 0x64bf780] 264 - core 155 r2901 7d0ff22 - H.264/MPEG-4 AVC codec - Copyleft 2003-2018 - http://www.videolan.org/x264.html - options: cabac=1 ref=3 deblock=1:0:0 analyse=0x3:0x113 me=hex subme=7 psy=1 psy_rd=1.00:0.00 mixed_ref=1 me_range=16 chroma_me=1 trellis=1 8x8dct=1 cqm=0 deadzone=21,11 fast_pskip=1 chroma_qp_offset=-2 threads=18 lookahead_threads=3 sliced_threads=0 nr=0 decimate=1 interlaced=0 bluray_compat=0 constrained_intra=0 bframes=3 b_pyramid=2 b_adapt=1 b_bias=0 direct=1 weightb=1 open_gop=0 weightp=2 keyint=250 keyint_min=10 scenecut=40 intra_refresh=0 rc_lookahead=40 rc=crf mbtree=1 crf=23.0 qcomp=0.60 qpmin=0 qpmax=69 qpstep=4 ip_ratio=1.40 aq=1:1.00\\nOutput #0, ipod, to '/tmp/tmpu0w7u6hd/temp.m4v':\\n  Metadata:\\n    encoder         : Lavf58.12.100\\n    Stream #0:0: Video: h264 (libx264) (avc1 / 0x31637661), yuv420p, 864x576, q=-1--1, 10 fps, 10240 tbn, 10 tbc\\n    Metadata:\\n      encoder         : Lavc58.18.100 libx264\\n    Side data:\\n      cpb: bitrate max/min/avg: 0/0/0 buffer size: 0 vbv_delay: -1\\nframe=    9 fps=0.0 q=0.0 size=       0kB time=00:00:00.00 bitrate=N/A speed=   0x    \\rframe=   17 fps= 16 q=0.0 size=       0kB time=00:00:00.00 bitrate=N/A speed=   0x    \\rframe=   25 fps= 16 q=0.0 size=       0kB time=00:00:00.00 bitrate=N/A speed=   0x    \\rframe=   33 fps= 16 q=0.0 size=       0kB time=00:00:00.00 bitrate=N/A speed=   0x    \\rframe=   41 fps= 16 q=0.0 size=       0kB time=00:00:00.00 bitrate=N/A speed=   0x    \\rframe=   48 fps= 15 q=0.0 size=       0kB time=00:00:00.00 bitrate=N/A speed=   0x    \\rframe=   50 fps= 15 q=-1.0 Lsize=      32kB time=00:00:04.70 bitrate=  55.8kbits/s speed= 1.4x    \\nvideo:31kB audio:0kB subtitle:0kB other streams:0kB global headers:0kB muxing overhead: 4.501515%\\n[libx264 @ 0x64bf780] frame I:1     Avg QP: 9.53  size:  2772\\n[libx264 @ 0x64bf780] frame P:19    Avg QP:17.44  size:  1053\\n[libx264 @ 0x64bf780] frame B:30    Avg QP:16.58  size:   262\\n[libx264 @ 0x64bf780] consecutive B-frames: 14.0% 16.0%  6.0% 64.0%\\n[libx264 @ 0x64bf780] mb I  I16..4: 83.2% 12.1%  4.6%\\n[libx264 @ 0x64bf780] mb P  I16..4:  0.9%  0.4%  0.1%  P16..4:  2.3%  1.8%  0.6%  0.0%  0.0%    skip:93.8%\\n[libx264 @ 0x64bf780] mb B  I16..4:  0.1%  0.0%  0.0%  B16..8:  3.4%  1.1%  0.0%  direct: 0.0%  skip:95.4%  L0:43.0% L1:34.6% BI:22.4%\\n[libx264 @ 0x64bf780] 8x8 transform intra:16.4% inter:6.2%\\n[libx264 @ 0x64bf780] coded y,uvDC,uvAC intra: 3.4% 5.1% 4.4% inter: 0.4% 0.5% 0.5%\\n[libx264 @ 0x64bf780] i16 v,h,dc,p: 78% 19%  3%  0%\\n[libx264 @ 0x64bf780] i8 v,h,dc,ddl,ddr,vr,hd,vl,hu: 28% 24% 48%  0%  0%  0%  0%  0%  0%\\n[libx264 @ 0x64bf780] i4 v,h,dc,ddl,ddr,vr,hd,vl,hu: 42% 21% 28%  2%  1%  2%  1%  3%  1%\\n[libx264 @ 0x64bf780] i8c dc,h,v,p: 87%  8%  6%  0%\\n[libx264 @ 0x64bf780] Weighted P-Frames: Y:0.0% UV:0.0%\\n[libx264 @ 0x64bf780] ref P L0: 81.3%  0.9% 11.9%  5.9%\\n[libx264 @ 0x64bf780] ref B L0: 84.4% 13.3%  2.3%\\n[libx264 @ 0x64bf780] ref B L1: 97.2%  2.8%\\n[libx264 @ 0x64bf780] kb/s:49.05\\n\"\n"
     ]
    },
    {
     "data": {
      "text/html": [
       "<video width=\"864\" height=\"576\" controls autoplay loop>\n",
       "  <source type=\"video/mp4\" src=\"data:video/mp4;base64,AAAAHGZ0eXBNNFYgAAACAGlzb21pc28yYXZjMQAAAAhmcmVlAAB6em1kYXQAAAKvBgX//6vcRem9\n",
       "5tlIt5Ys2CDZI+7veDI2NCAtIGNvcmUgMTU1IHIyOTAxIDdkMGZmMjIgLSBILjI2NC9NUEVHLTQg\n",
       "QVZDIGNvZGVjIC0gQ29weWxlZnQgMjAwMy0yMDE4IC0gaHR0cDovL3d3dy52aWRlb2xhbi5vcmcv\n",
       "eDI2NC5odG1sIC0gb3B0aW9uczogY2FiYWM9MSByZWY9MyBkZWJsb2NrPTE6MDowIGFuYWx5c2U9\n",
       "MHgzOjB4MTEzIG1lPWhleCBzdWJtZT03IHBzeT0xIHBzeV9yZD0xLjAwOjAuMDAgbWl4ZWRfcmVm\n",
       "PTEgbWVfcmFuZ2U9MTYgY2hyb21hX21lPTEgdHJlbGxpcz0xIDh4OGRjdD0xIGNxbT0wIGRlYWR6\n",
       "b25lPTIxLDExIGZhc3RfcHNraXA9MSBjaHJvbWFfcXBfb2Zmc2V0PS0yIHRocmVhZHM9MTggbG9v\n",
       "a2FoZWFkX3RocmVhZHM9MyBzbGljZWRfdGhyZWFkcz0wIG5yPTAgZGVjaW1hdGU9MSBpbnRlcmxh\n",
       "Y2VkPTAgYmx1cmF5X2NvbXBhdD0wIGNvbnN0cmFpbmVkX2ludHJhPTAgYmZyYW1lcz0zIGJfcHly\n",
       "YW1pZD0yIGJfYWRhcHQ9MSBiX2JpYXM9MCBkaXJlY3Q9MSB3ZWlnaHRiPTEgb3Blbl9nb3A9MCB3\n",
       "ZWlnaHRwPTIga2V5aW50PTI1MCBrZXlpbnRfbWluPTEwIHNjZW5lY3V0PTQwIGludHJhX3JlZnJl\n",
       "c2g9MCByY19sb29rYWhlYWQ9NDAgcmM9Y3JmIG1idHJlZT0xIGNyZj0yMy4wIHFjb21wPTAuNjAg\n",
       "cXBtaW49MCBxcG1heD02OSBxcHN0ZXA9NCBpcF9yYXRpbz0xLjQwIGFxPTE6MS4wMACAAAAK0GWI\n",
       "hAA3//728P4FNjuY0JcRzeidM1R8B5/TOPUBwdgAAAMAAAMAAAMAAHxhoPxm7tWHDEAAAAMATAAM\n",
       "EAdQgeE0kJAGR3d5Pc390em+67hW69Ur8cTq/Cztt1gVHcbgKz15F3OJPnPs6WIgXDygvjzDOt6s\n",
       "ELsCd2xR5+8a1EIoD2Z/cpmuEEnUImA5MNWlJoh491NslYVA34CLgCuU2eN1WDmvBgeE325WpFiB\n",
       "YwQG9LLps1/VzvkNvm6TNa7nZ5v5FP/Iue1ybBG9dsChwbEED0L86o8OzsNPKOP2BKDQbkvnsGZo\n",
       "hT2lyJR4zAat2LJ9xKBAGr/jJy4V7AFZPGwxLP8k+9aG5SP05d/Ct/jAVBUMtzRu4m/N282hz00d\n",
       "H8sxvxSaQvektNSMbPGg00vObtgeKjawY3wMRtQBJwdNdXnW/yPqKniXEpAAB9nIezWLW7zZ2e9X\n",
       "jF/AaiRVGZz67aaraQHxeGTUGaMPn+tt5pvQCFGsT0YdP34OkJOxf9+NmbPj3x5fpLRHbXVlnCyy\n",
       "GQodtYk6PlgEDXeZWs9rMz1vJUvTmbKDaFwnN0LEuXaHBmKKsodZTUdznf+qGlZ0HJCFtWMGRj1P\n",
       "WpdxL8OBuP1KcqTXDA55iaXucB0ZLnC6h3oI1Qb0MdVGaRh1zZmbL1lJePUo++upQ1DbEjMxhd5u\n",
       "zowj3OeSxmh+OYikk8AtZmEESnP740FQVEptbX93Rgt/slJV5RnTihziDmLEcn1qrKJXAFFxSdBO\n",
       "gOwSibtVt1KJqAoyMgVlK36gNDiTKOeue9Fzl32UWcA2krUjZ3VEr63RwVnaUx/dcu6uWo1Zkj0k\n",
       "PrW+XhpEzy5pOte5t5cS0OCfaawvM9+gP0vZq1Hun2/+8lsutvuyj/UJn//kFoD19G0Ee4YSsH4I\n",
       "XrcCMB9LGXmpfRQwTodmNiix9F+Dk8WmqgVneydAqtwKEdGi3PKdtDGfmqOv9dLJjLsSoy+qXpFg\n",
       "2GwNkCM3yrLbl6vQ6ESMPF9ytVrck4coVz+328pKkH8dail59VOGEzAbzro/6Zt5ndZHHL9IJBBq\n",
       "3UsfMJVaBG+EWw9Iw6mHko2BBMPwJjUCeWplnI1FdvCqn9dfT0pjh5khl3aHF4NPH9y7hqDx7Zxq\n",
       "WUhXdvKV8khRia9uKBNgk2L295B0jZsAKLP2KZSK9NusyVK4vwletA8vMj6qt/jF1+KDW5K8AjRV\n",
       "u/MNTREhwAeOasFgpAscMnkgfLDJ2fLBIqREb2n5aKLRAt+iLZDj+WufKW0PoACVNaVGCcKcXCGE\n",
       "T8owHd7trVzPAAuhYkN4xBknd5unQicwz/AEzSz290FV9Rn29l54JvaTsPzmG+VLD7r2D7n2TRMz\n",
       "KKd1tYqZi+6SJ4urzZVjLtOGngq/eRCKHAM+uXJzjRTFMrrph34x0UwsFN1Fc4qrwzh7XDHcphYe\n",
       "EOyk3TkOWOWmpYsGnJ3UBrw1fcZDUTayiupd7agfr62mQ0tC3b1PCU2YOV+DPkEwa3565JZWnAWb\n",
       "cPnxxKBlnsAPhPOvN7Qwpk2L+ap4I3zOR3S6HCdK/S7p99qzdsJkNOn7gI1osUG8+6mAHgrYG65x\n",
       "hrCGyUK7UFjzfU1pHMt0kzWN63rAESESLv3IUJfWO60CR2aOynXlBOzXfJ0QBD/eLrKNp0Did3ik\n",
       "H2tiuzLEr49sTrln/diAgmaAX73Kbvr5GQ9G+tQBVa46MlopEp0ot3jrhWoVgpIYOYLgm8PyW9QW\n",
       "GZbdkT/2JpTMre1PNNmxEdqe6ESAAiSOv465VdMX5oXJ3dpjGPEa3kLCH8Th69Q/NLQTLQ3xHaIv\n",
       "ZDAGL53po1ERHmNAEo3NenvZ1W7PmB+ZTonwX2esEAr+jc3kx2gG3Y6YMaY0GdyKHXRWWXed4G8l\n",
       "dnUZ4bAA4kJWMZY8DvUgdKcxoIvA0YJVtb2NABujLTQzn3PeZKdJEEKTGyzTPbHAsrLn4g7QHeQP\n",
       "r8aGCZAslzdeOwF98pgwFuJxc554/xnOd8yLI12RkizKucT9wrqZEhbW4eJu1rfAZA1oAfill69N\n",
       "HvGVMefK3aP3VSVK5ndrOBacIoJUnVelPON4/Wiru6rztMzRco8TSFFCvQ0bOqwUDaW68x/fJWWo\n",
       "W8jsWuEU07zKa3RhRpt64tRzehOY3c1W5lTdeOuMpahIiCgCb+dUgbaNREzDZzwKo477XLRc/6CJ\n",
       "lGaLD2TjT0onVwCp/cPVEKSsSLTsidDlsq8J/+lG2J0oO3e3ADYtVR1G8dG2L4mib57TCubxyFmz\n",
       "TXUt+p7N5HmyQObEL3P0d797IAYXgBjbcueu4DRM2OBJ5ZPq19MV2Fpu9T+ajshkkEXj7NI/lKGL\n",
       "8k5tfLqjGz7AUjkgiQ4sXpDrocasEJjf/uu/k/91LpBOWGB8jBUhJfujhmYgJ8dKkKCwv02IzhIV\n",
       "n5W7+4YAcRQa1SCRwQa7y0paaVdbkM0fSx0fGHrQOLnglvMMRnSWxEiLXEi2RWjb/BAx7uS6j+Ei\n",
       "HhmR3PIvftFUfgKYARptuLB01hIOxgde9ykvsPyFP951XzVHEDZbdKfTCObwzaHuDynC+2fDMDPI\n",
       "vNgWR1hEHjTRZfO1p2mleBe/iAAAORGkPx9WMItRNaCFMiGbg0PCqeeFVUNnDMjWfR/iQl3l+MPn\n",
       "jhiMqcvyier43zLCQkxCxjpWYW//og9wEiFlmm1Noc8Xw5xzKTfvzG+YbdCQ/uF7kcseqeB/wCFO\n",
       "VUC+adhK1tnSNkK+cz9Q2zG2hGLvYjt4DWxShFOTwxoRc+nwpwBxE/GYghWAZJ27vNigXsN4rQrO\n",
       "gGQWGMpxD5CWmjLHuFW5759WeXgezXlVYhXIbtScPTsTkMmlcgyY5aq75D8Df/ZMOZ5mDdz2H6um\n",
       "WuI3e2g5HHo6N+OXSzkffRx5CoQm8+scarVMliT024mwbAe37lAGWaeMwFLCK2gAD7N0PfXEGAuV\n",
       "ebxchFL+RrWx1Ze6YP71b6bPROYR1sSEL8y+f9WE78tzcoMVa+9hy2rahP1VJrNnrqnG2LgHrXyW\n",
       "Xxie1rYAioT3Ewn8E9jeVolpNnwm4Exbp+OolPT0pOfTYZOUZDv8/Dtv+jD+FxptvF+nIS7ktBYm\n",
       "FPJc3+74aKQrXKU8LA1A2Ei0POtacqOK3MkzyoP270tH6+FVtNtka7EH2ZkEoBfqE74a2qOMQhUY\n",
       "fYtD7mkjj5Vy5rlNzBmgckgs82H89zqYy7QJ5gRwFWr/Lw4mY4MHbB84nui2NFcnYTjso8JtynCr\n",
       "urdokA0HrVvgRdnTcyxLu+A/QbBRGmiCX+5t8KRbjo6t/keslHMPt3Juu/+TRjbJYYnIKNlqEesi\n",
       "JGR2y51e5tSLm0fcs7Qo20Jt951qyv2NE0N8og/9ChamdRYgW43JrBBYbj/U1lHdXPnnH+OpCvR7\n",
       "PU5mq2pdjLK6iGARcaK+HY2MPS6Ljf3rrvpj5eeKKIxR8NeuWDbwbiWOTu1K196vfiDjTWL9JU9v\n",
       "edqkVJqEHWl64UCLYT8jbQoeAEn0w9Ug00Me7deJX2Ay4XyXc55JNDtmpbqcdfyodrG6vBJNaz2P\n",
       "N58BIn1hn0esykHu9hiI9gI2W6pI3qX47BPi2mnUwVcWzP2Qx4v1wUdslD5vHm4B5eRbfIKX7RKV\n",
       "PGXTWu34+u3+AAADANnurIaB1J9AAAADAAADAHpBAAAIKUGaIWxDf/6nhAAGdkh6QV/vM5X1o6z8\n",
       "v9dpbe0hZLdDl/VVpd//kMQmOpW5snw+ACNgWzr8uTzI46Ef+ebfsw+iQfq9ZBDYe2fFuSEa0/h7\n",
       "xvC8RN5HpFuGAXlsWJo9VGTyFE9ngAmiR01e9L91I0U2EtYMEHxpXp6PiIcD5vacK61MLNsJlGOZ\n",
       "GLEDerQQhtBjlcoUd7/vuLvNZgdc7iqS5wcQKE1804pfZ7K7Ep7XIO/i7JViwGxiy9BBvTaoAMoj\n",
       "T1O2x2BfrNPkIDS83tnTLPCEQ73cZ++UX85MxqIgV1JRfpuCTz4wk4mbUvP0rkB3KvdwYzgz19Np\n",
       "nDRfZ2n6QmwqmEs5zYzQkDiuTzzTzMpUh95ro+o5IvYZfjGS3DiGONk5kG9DS9Vnm54aT2DsoBWV\n",
       "JiwJKBDdTR1xT7BNJNxJ1U2Ldr8goohFMn7IMdolA1coccUD1liMlYbKB3m5gCK3f82bciCOpAwH\n",
       "FWRtoE0Hkpy4eo5htsrVoSmVEqV5En/++6NXLQOao8eu4bYv/ZhTa8QNe83OqpYCK+tKCCmwudZN\n",
       "fcY8KlVLrylqFYwPmmyZ1oo8IB9OPj8ycXE2ywQsAteNMBo1rGBn1OAqS69i3/3giZC3zj20MERQ\n",
       "0auzG/eyn9LX8cM6RL5XI2ov15929VMO3YUbzD1HYwBatVKBRYWqRvnHfnC1QOZEv5nyBPFgS9IQ\n",
       "sgmtM558k4Wpgj/R2AlkjIGq9NAapKQzrIDqdUjioqk/RRO9P705v7dKEvcs8f6Zs5cCwR5YPDGk\n",
       "UJUdn8MSMxgt8wKEDVxY4BaOpEE6bFiCqbOnqt3JUUp9Mp0cpGjRcftocZIBdKEq3gpoKnXbD32c\n",
       "yYOGKM/GHpxI0N4f2Z8K7+lREvM3iFi4MD/O2iMXjtKJCZkx3YRcUCX108u1HFQazPMJcMFGYbxp\n",
       "DG1KsW24E07FmGbOniXHmdH/5korMom7g2eUkP+8NhFWwKHxhc+pFjHCfnDswusV5/V2VcurBMAY\n",
       "TxD0i8kPqiqudCdR9f7w692rIcXL9T1IbUii8YaLYd5VUfwUgHduiuS0yFdHZJfRD1kD690/BXX3\n",
       "CB58d8tij9EeKbj/vCs8zfSWVH+LYSqWv3gWRbeWyJ+QKme9JWGP4X9UoHgKGzmTWaqDZpiEe0LH\n",
       "bf4g4qfYjUP7IMgMApTtVYYuBQLez4xVmZbq+IoKHeFyJxKb+zZcfi2NmXq3G/PYxoLHljeHLnAP\n",
       "T2do6lqc+8umlguXdjVR4mCEfY1iq4Zv9kVubEcnc6NfzR50zdAbGGnVXGQCyt8hphxEDkXz8Gm/\n",
       "TDDa6lIBtEfs8ARHdg/d6IAFctp67iVjuLB/0809550H/L20P2Sgrq51jKL9kCJJudro68TVkemW\n",
       "TYl2eSvJ/SLTVEHeRrYQ17LXiKDstwbWDseOEyXj4g6vCOjKF6J/6RvU9HpW7M7ZqQXwTYG19J4w\n",
       "Rpb9aSsZzaZUfS3dfnc2o5X5UweeTgfGwqVZfM4nigZwVCJkyPvBAqs6W1cOW6y2rYzQu0XZMc+c\n",
       "ugT/xE5Is29GTODHB7hfQ+XeQ6ydH9CgZ91svuGiUIxE267ZI66EVDAYIAfe0O0lHqS14RiHYBv2\n",
       "oygPRGh0IBzblMUapmAGLfbVYy49+4nZ4BIgVaZ6E9+PKYpkPBV8yoiC5Y3ReUgkphV72JGQVilO\n",
       "cUgs+BHmh7/S5HgL/XwfpTT/QJyt6MguaNIK3Kd2HI0KbsdLs3WoAfzubDc/trdt9IjPBRj8mTm+\n",
       "a25X+EZE9F6tbarEGX0IAmgb0ERabMreapU8/VhJScnhMG6unNzgpt/uy+wL5WlHaGweuRMEG2XA\n",
       "9IBXQimfvOGGz38iOTYMxMl5UUOfeO6P7hT+pIVrmoTFU3wWXxuipYF0RmOOYJzh5IVi6GwHeE3z\n",
       "JiCSz5t8bhV5z2rdI7IbhARMb1Fh8EpqqwclZvxRPivh6D4voTs/ryssMAPaMWY/IJyCwGhBNVW6\n",
       "f8rucz9o/F92Ld1yWBPn1ApWlGkPVe0MGFVuc7LFzsMdRl2ijzn23HusqlAwH3i5OCbllvHR0XnI\n",
       "rs4IZ1HlSIL3xL46T7YAjGkRT4KyEDluuljl5VRiBd2rL8800VSjdC+DFLPXQ4hZnsAxmCNRohbO\n",
       "PRPIoGBS5RHtHOtsyAedD3xtAYzO9T///u6qD1MNb8MIx6RrSLC/Hy7ce1YL9qqJ/O8uRnaDOTTN\n",
       "FvGbp1NMkv6tAEbbyRyo1W+PiQuZ4j+tPv7NGqP+eCcG8xQVc0UsbQ41R2sWRloRESliG77dCEGv\n",
       "O6WBp0nf+W0yOH+wtDz/h38fFj7QuKM9voNzYnodqjZrkeLej4Mbjtgpf7avNvzeV5ab/ZDumqNQ\n",
       "ZzBigZgxlvASB5Xr0JWIEV7InBUnD84K17W3SanRCqdzJUavXg4Xwt0peaApuQ2lOo7Xve9JTAz6\n",
       "bdmQpw938zXcRnh+bYDSQRIH79XtMf+/9A7kPiiIlPzucZqPQ58z5lLxqvwAjiIkK2WF/ZcZY4iz\n",
       "PGK4cnRFan5lZfp2MmJWpuzD6zn8SBI9UySJsQ8G8V6+Rym4xjHnGcwsj74gCJ7pB6G6dgzTKhDi\n",
       "HUsiir0D4c6TfubED434999KoBKoc0FpCO54O0RFf+2dPoV8R/PsH7crmzjwbXc3jdDs+N6Gcjjy\n",
       "vNZ8/eZKQhu/O+OFgMA6+NlpXlLXSOF3aEWRQD/DClOc3lxG+41zH+ZS66X5vn+av45LYHLOg4CR\n",
       "Noy/g8NrECDTh+gAoIAAAAXOQZpCPCGTKYQ3//6nhAAA+XwM/eP4QE7bAIq93jIhWVqEwc1vj7P8\n",
       "oYAEYaFt/pgvnhHmOovY0OTnnSM3onJW+86TPHAT0PCZig+8RBC7KLq9hlPq8EyjXqbY9sbXu4ug\n",
       "m3kEZ63kKb8d4EnF6jtYJcA2broiW3G4bBjqRm9ShI7LVT7bRu6AYwxMo1uA6EHJCVADGApQq9Ns\n",
       "hK9D/aJYGu+Ci1tC8iIFC1LQzDqiDqdylPBwHVhU9yUfmhE3rS2JgBQI2DPKq+lUtXEh5VejZkdF\n",
       "LgnM5nn3rFP3Bunzpum/3mfaKRReGqzeZDgJrEKhqyMX6pMGmMbBzRnVW0WOkhmXARTEACINTcG9\n",
       "LJF3uQyOyDJwwwKqlUuuwmdNMZGbM2vgGF68CgwNsjXhVd/8g8jaibLkvFbWttEe2n5fj469LIwz\n",
       "RLp0J0pDijrk9YA43eY9hyEHoD5kzNYjiT3IuukvCcQtoj2NFgQdQGgk2l3M6XgMHRWRROvm9tg6\n",
       "tw4reEPh5sw4iT3p4pKoooVS2TEbkgYrwa62rNFtNA/1CxoU1TTrhFgDNbeeDUs4ngicGo0NwA8P\n",
       "isnUE7n/1YCF0Lh7GltYPM4yshlQw+jMWiN+ZYGHo8XcnvuwEiWMUQOpZXXsCctBzIrvpgE2MQz4\n",
       "U/zxFnryZ5W6G+WIw8oxyvBQ+NDmLS5llMLCWiA8baGAyYU/4mbm8iHWitmndx+CAFbdqFEr0LLd\n",
       "KfRcIhPy1Xr2g1qWIIMpyf/2FskGMF0Ol3HhXmJ9AdO4lNTm0tK42WXfwGAGPVauoCkxERA8EX0K\n",
       "qCIxVLeqUb/9HYtVjuW/4Zpsj1EBaqFQvIh+KxV1hqCukU7e7/LD6omUpoK5baE6zR9nTarQYa+C\n",
       "efMx+8oAtUAtlDCZPWEAeyLGFsQRJwfATjV7SruLT1u/+l89kv8UqqLd7uzNzdt8GhlTFOf4SxqC\n",
       "Z5Yhulqcn4GDFojRENfyy1eInLEDAwdNgGhYgVs2lLC5r25oK8iRAtpqIYdqWQtr8bsx9qcfNvHb\n",
       "irec1/SCQvmz61BUioACEfvRzLZYPSxhPLhuTUTMFmaTXJPyop7c+VMFsVFiN0znygJa1sQQ41Kq\n",
       "8h6jH10r/1fZRqWl4Ed3Dg3AdN3ndesq3suqiUCGV9537doh8onZSYvC9jMs37jKwHK4Tm/UFOKX\n",
       "my0VAKzzxC+rjuZZQ/BdyG/jXpaTFsox/+BJ82AAOkl+diHhhbD2ryw0Nn/84QUQWjAJ6eKrRkCA\n",
       "6F5HJsBIAzl57aIMTV4viFGGW9/IftgTEMScXAWopCWRJ6d2CjkGs7+1Yip99IEZRQVUoypDkmfZ\n",
       "0NTeJJE8lbxGpuYwqA7YRj5WMWayQdR6UHnqzi1/UsRH85HKXW72eNUfjnUEfRcoamm342yszKON\n",
       "1J6y1Zh3TN95Ad+Yu+0obR5ZngSsts5XtaL6dKMDQHIGltSpUiMCmmLGY6hSF1cx9yA60DIzZgu5\n",
       "UK+uBmmgHdiNfgrKKap/ZCLep/+HFTxtTLpNUx+7UVL0DaLk2TawmaZFqWziHXmLY+NDrfop4fhL\n",
       "xZ00Iy/NwSB4yBwySeisxKSEUsYvyNiNY24wih+87O56QvM8Xf6RTD3uFzlWtYEcS6E/CILeAvWj\n",
       "m46AE2W4MLET+6N0hSrF6GsibUTP2ZidXBBNg4oGyFkYJPxbnkeaL9EGn6YnTKGHut/JJ2Wcmd4u\n",
       "c4VBlXcqptM0d9Ws7l+cpfGEcWwcPDKGiOeDzi42R8c990S5OdlQ//y4tbwfoDZnJcaQ9Gc/+v/f\n",
       "yU/K+qDCnv89Dm3CgJAgg92eB3Muz8NL5/A2uoOmZwEPp96aKloYOMaKbvIm/oo3r0GvenCs00Sh\n",
       "8V+B/wLpDp0h5iMFEMZau6FZ1jvwK8vG+CxVXhfD1dy3IBmCZjzLD3GB9cP0LugRH8I15zO/2a4r\n",
       "C6zjV4atmqAotqBnNH7CJWaZF6QOgQAABBNBmmNJ4Q8mUwIb//6nhAAA8rFudTslcIRnK4fPMUj3\n",
       "DN65CPLWkKoqCfVz6rtdg19H9wptW6487DLlrw8HI433Qo9rof3JDUtTk7DEHWItXASprMSPX5Md\n",
       "Wqlk31Rty7wT2UDewhBD8HLeU49KX58gsEu2GozImh7EKYQdQjevLccRcSDht8v3jbk66GWRkJg3\n",
       "TL4sdjhrLtXwxxl0pDlTpZIh1YRS+u92u/Li1l6ljHrTDBqWsylkrqZGeOs3Fde5qNaKYTB6+hz4\n",
       "UI1pjUTHYDZrLHYaL4LWhqeFMNwbUliJAWoRxYcYL27TeF/oU7YVddeV//3m9A0edflNvJBOhSDK\n",
       "c3dCtwpiQbKq2BNsJIWjKsntIiQP0Ihg51cQPgPmcypi5xaDofQmzd81KqhBM2kQVsUZGEs7pkng\n",
       "kySvqVGd5X2mOMy41GlvOs4ajFi953K/vDTSvEaIRQqIEwFUZN0X3yDhafhokHGQm6wb9j1f+UmX\n",
       "ZO3aRNNgApbMe0/+0aUEZ+Zbi2QQv16ux2mpGdGYdulNSxa+F5XtP3KiWHk3vXkNGQxSCRV6KgBX\n",
       "hxxstaMq8hTTKTasv2GPjS9moEllyjAJ3cZL6f6MBnB8UIyt2hURbOXH2zEr+w/550ZOt9fkkCam\n",
       "3nBuTFyzQ8jJ39O3wEM+Cu6lw9zsLQr09qLRBbSrgFp5SQnvSMlw2l3Tfz/b2DsloMZJcdKdsGML\n",
       "6RoSawqUH/yRgxy8ixIbVo9J10YItkLfYMXFO4Uk0pwxzRr5bZugLoFLFbZYVPpjGEss4AvxKb6b\n",
       "s2NDzyYLy+VAc5J0Am/1koITfTKlBklQYP8dUqtEAaG3JyWD7KuUnxOZl9/HVhWhKimZ1wrlKuty\n",
       "PsdUHSkzpsv11it1ETIVRWYgBglmfDkLjOTtBNuMX9PoaPmXDn8Doi2gWyMYNnZsa4qSpmsUxWmN\n",
       "QmnaTziULClFxyirW017K6VA3IiS2ykG9piRUp8O4rGECSzbpH9uq2fvCklp090arAtX3z924eAr\n",
       "tVfPSrdPNwFShQu3I/ijAkZv/qQgpZeLTxKT+Hk5Hr+zean2uEGldbiDJxuhLIzX1d3ugsRUWisu\n",
       "nvZMaIlqeX/I+Am6fPvD/xJ7dEMVRUuEewHZkFeKSY8qoy7aFVNrr29pLZR+qXjks3yp7QH7KGFS\n",
       "wsuuM3wQ7Gm7iEev5SvpZbsarp1vHpYbvxh8NEiEfoQUbXohTyOR/JVI9xFZwdDqV0z+D0DIox9x\n",
       "Wof2fQF8nFKAJtU4GSWvkLI6irA0mf2ZO31xltuSGSobbkPTNW+X7Q+yHBPmKUzulIr+NpVx4Xnm\n",
       "hDhFcgMyNlE0fSgM9FJrOHzqnxBT0xYHm+G4Y7h2BItZV61ffTI8YaMWkAAAA+pBmoRJ4Q8mUwIb\n",
       "//6nhAAA8/CZxD3u8DK6AL7q06ImE+fVdkp2c50C/cd0qzwSFFRSiabxTN2BmVgfMQ1KcDgyA1oA\n",
       "EkCE47WAnw3t9EHII0cowPHSfnCw1YWyQGMifViul8eRxMMkiG6enq04mKZa7mGXEkV0R7xYPQpi\n",
       "Zk0NP2YAAc0YLmzQ9aoU3VwtIahOz22AO8X/yu9VLCwgwfibQ0ngFu57PowSWBQI0w0KaeaqDw9e\n",
       "rBR4JQe389Ll9o6UkRfrQQn42o/daA7kkSJau7+g/qCtDsdK/jLZjObfaJNH2VpIUKDS+r83vhRW\n",
       "gsi6CwvIqQlbdEZZsme/WF6zTojlomeFV1kjPw8HchhxIYlaJfQKMRbUsg9xiMutAW+qz3hDFwq/\n",
       "qii14bXBSJiup0RbSfvIjwh6fZT3CuO+KTGd8YUXc716q170ljO1O1gyg5VyLoAn/3fUzEJ8GiyJ\n",
       "IsVCnhC6a5B/DkdCaLecNqj0VCKjWMuqfrO2RWUSif4LKAc+b8m0V/0GxaQbuLBJ0GJNmssuLHXO\n",
       "4vgAHzLAxwbm0HLs/1Ey/CFIFrTuI4GkohbWthyl8dwA8QBCIkc/aK4VzO4cQrnyQr2KQYVPvbK8\n",
       "p8W2So4qkxXiXX8Vbp/orv2/V5P8wFS4mysBo2ABySnKSNX76WKhPgTt02dwFpeDgdTwDVIhGiUK\n",
       "FHp6a8eq7lfY778xIc3mpwg0wygbg3xiLGvwj8t/4BxPLgZo4qB8C8FhsiijMbcHHWO00zwcV8Nm\n",
       "QtxkH4GdhwLQSn/Ow+WJrt+9GkIfJ8L9s+MuyO72Gh7KK+lral4uVrXigDUkdQGgQFVkIDXq+9Yj\n",
       "LEl+nbm3iJh8z72zBZ5N7AAd9ncfAmLBq1KyPpCoK4pq0jd8Pj0XyqZhHeSKbWvJH5goCUIyFfSm\n",
       "fZDmEk2i7oR+0gg3IZSNaCWoOxSFimwsE2jMYfaJyXONXI0iWMseGQ7VI2vmjlS0Q4pESErwlTR1\n",
       "rJgfwQCmj23zProAKltEM426lrplleoEzHwcRyn6mOWAAwgOoYbnQ7nsefhHepwNR+Iv+Hug4PZA\n",
       "AvHcnaiO5b355JLrkIVo350aSrRPs3auvjIvKNJklSkTbvL4FLwy+i1xDn99BDBhinYjbhGbp4jN\n",
       "fRrqH2SYJ95uyfJrNP6jHoE2qiMhg5T36EEjPirSMcAISD+uleu/G4YuAxSL7kqKOt9UVU/m0L65\n",
       "bVei78ZPS2kY49JVBis9g5XsAlm7NyUvX7AJJq91dzu3F2CxyTDdc5PPnQI7qTKSQI9IJvLwdvMY\n",
       "CVz0blppDFQfYrBH4FhBuj2eIAOFzSkAAAMAQZqlSeEPJlMCG//+p4QAAO57Kfgt/Z8RjrIF06KP\n",
       "Kc3IAXMTHOxitBOuKmK9QqdnGo6hw+QkZXGzx9KAWmfGDUFmY+Z3CaEJC+726LEbRX2qvU67p7pQ\n",
       "EZNGFf6cBN+E5cVAfRkxpvMW3v0GsMM5RaSQ2xa+08BBQwuZt7yxSBgB6TQDHZyoNpaHyLIA6IjE\n",
       "pKX8VdRzqLzC7MEM8lCRe9cdo9mxY0ZNnSQkuifp/RN7EYWsezpPh01QNAd0wSEGEaXluLMJlVKf\n",
       "mfVYszUR2aEfmf5YHwh9M3ahEMpU5IpGvFmTTlfjOOdkVc61tjDyO8+yYG8qhCBGicLOrM263DXH\n",
       "gPWI2nrXePpkw/TE0vZW8UkkRhs4ytpXDC9c6satIDcicCIa+FEDKFYue1vavazS5Q2FrKp0RkRU\n",
       "hqIi3XSusguAGoBUbY4fcHf+P3doR5DxyC6V8rKSrC2GU8OuixHxkuXYPptkST1Rp4NIDZFSPrha\n",
       "vA3QV4qP1M7lbf/KH7PU/GJuedYVztch9nFDakM0HzBNXNS3vjRmodk/PySbuOc+6jfrLP2ZsC4k\n",
       "N6dDeF7RFxK9FVlpBvINwZuNSzmJ1aUzqgsnfbhuJf1dpoV9OjA6rCl8SYk1/++Ifie9pG1Pyzfp\n",
       "TKf+NWfhZERLbGbDpX1synicCA+knB1Jub0HCS7IPMB21W0GyJas2qGTIwlEfh35eOCXGlWgyhT9\n",
       "1qrse4QhIb4JiKPF7fKyatt0zmBdquGoBIckPltQl0veC3fDZJQ/j5jqWnxO3MbbWqjYBuTFQH/P\n",
       "HKUt3JexotSeC/jM2LN6yLLXN2xpLoDv9klKUyole0y/Dyk9JSTv86e0HfKSKcFsDkLEMAzgICEY\n",
       "amo0Fy4Mhc5XXQSM0alSgf9awlk9XZyv+18MdXC/pPPF1W+47VQopK8jwNWfLPRZQI8b8ei0J4jL\n",
       "g/gA1s+fVrqXJkGdziJJ8OsVc14/boxPRCmZIcqFII47M6CJeNDwdHMSaRVcdXkkh/JuKO3BAAAD\n",
       "90Gax0nhDyZTBRE8O//+qZYAAB6vZRkfhDlIYQT5oSFiv4jsQYPN8NACVx5EYVYK7CHD3s4DWbtJ\n",
       "/rKE66w7rmwffZG1q7JpF0aaSAg2wcxb4DRPHXGE9waPjv5IAuxLTYmxE012WLoSh7Jw51+hgsFw\n",
       "Sa1LlW7GfpU9gwsyYsSxf3AgxqWxq61IHv+7ryC2svpGojIy0D1oY+b8HugDyyn0VaQDTJTL4EOL\n",
       "/5jbTYWr9jX34w4IeGz7C8X0k5+z+EoDkiTLugpyTvZ1YXkfCfkkc9voMELcOIbp6i0AKd15fc7f\n",
       "STxrSBrIdbNgLA6VdXpwXfQyhNQgz90vR5ZCrpddWuMPva5BH+s1HbkpNk3tvmd1uBL9WrALFFJi\n",
       "BGLRuTyqxb5/JJikd2NQJCqQwkPulc9Bb64yQIHCpLjgRD6cMlM/V/ZYbT0UMFYkU7LEebUZLith\n",
       "WHcS33karibrtp7u6HWw6GP0jOCQcHUkK2ENj9gCCBbWbToP0/32crKwFpxED90mquxeo50UOgt4\n",
       "a98XEv5zsTsvOdENLbdLC/Xy/vl9GEGtRO4TE8eT6PeneG+j9E8p8jG6P6mNLK9iJ2wwTgwkht2G\n",
       "aSJM7XGcxRFORp+AsF6mvnr+gK4CJKMG7bOWuMNOso2oBTzC1yWTF+BflcUclFMc3SDPLkEcU0qh\n",
       "JMZbRXaezTK6sMG4quOlaR/F0RsY7Mw2kLQogfVQXmDdHZEVXD8bSL3AFimdZo/WBxTQHb4Wa69V\n",
       "0z0R9NhwSr3IPtVdPapUbpH8o2PCUkIi2gg/S3yJTRT16iEJWpHrPjF4G2KvNqnMtnhXB+O2898k\n",
       "bJwSWV/RpfwoHAt+qVGsd1L1bhcgua5p7NhGUbY+7vb5z+4n7TinnlWHas7y5yU+j0yNWSzqZiRF\n",
       "dnxqXV+JD9Z/wsTfN3RFzh3aAt48g8bdsnS2IFm2815T6CwzL7I+BkeFskfgnB3j5Pl3A9KueYCz\n",
       "7pLXzsETUnoaS5gm/4WPbeIHBAkj31J7L/heHf+OB5Bo8T0liuhguD5Jv4NO6BpBzsK9yzU3ZXXG\n",
       "z4EnN+40F+S3CfB/Z3OfmX7P1PygLm4QqtBz/gkNuq+z1saqoe9EU6ylQgF3P8EwP/MftmQ8S2zi\n",
       "nrhvbPEhlAQ8xvLAwTa9KL8c3xgSGKQ7XoEDAGoWSOoox11VtZ1wd3pu33sPf37qHjSVv8oRtgWY\n",
       "1EDS0c2+QMjpy+E4+ZOnAdkkKPQbqpkBPP33sdjrOBkNZHyaqCTxmLl8e9qdWtaPbj4s9/XzkT5L\n",
       "gYiJvriqyytAExdcJcc+IBh+6N1gp6iLIeLqvE/eqnFzAqe0uQawGZaJaRDQgpEAAAEfAZ7makN/\n",
       "AAAWJOnbK03Ng7a9Mvsk+mpd2Ap7k/5vp97X0tLUxdcJvABmewlAf/CFVtgbkNHrL4Ep0WvClSVl\n",
       "HFKVnNnbUwMLIcnJ1jEfrKQn40jJAaoDzv3AcBZn8YPjdG+tPVWeur2Eyi/CAESTrG4zO6Ak32hM\n",
       "VTCDvoOYdyJr1MwybKKW2zPwAJimRgzIrNcgx09i7jsoqzK8Kbm2OAbUB8NCmQAUDGS9EQ6s7rpq\n",
       "mFHl5raM0ySTryZxqVj+IH6Al6vO9VGLf/bFL1q4MqVD8dwsSwDRYKA+RQsGvb+88EIALUOUFjwN\n",
       "GHX2OdviT5DxMop1r+u6dN/hbmsx1M3S/CoTRtElthv/PHvZalzmDphWITt0z1GP8r0AGPEAAASr\n",
       "QZrqSeEPJlMCG//+p4QAAA8/sp+Cwzg9/foPe3rAAIx6JuVQ7EK3f5zTJEqCckxMTCsdwcFDCJpM\n",
       "uk0ywnuul4JaZD3ZMmUPrI2oPBIEo8hiLj986DQtq4uCOo/BK9BNfoEgzxKeB+6eiV7mTJzT4WSZ\n",
       "sZaUGCs78rhJHCNCLl4ZzaBQnac9l6oKzjDYpPgxQ230GuqI9zFezjphj88jYXEhf4jNJJ889WM6\n",
       "eMtaz1TtHO0+bnDTG7kC5JqBuCSHz0+GNucSrgBoyEPOpEJFT1s68LIuh5gwZKrqNfJt7PRB/Quh\n",
       "o/bqprcUoqxqOQvHRtxdyFMdLp1MY+8K6ffKXkoBp/xZ1ka9SpvkmU53WJdzwfA2t8ngLLkJhzWJ\n",
       "zRlN1XJ2lH7QD6xynlb25TgM5Go3VmK97KgSKZJEXhW8Zk70p2NGunDOrz+brsaiCwotkYtOqF5g\n",
       "SKBFTifEXAliT1I7KImMdnbGMRM09E0LDgFgX49w2GhlJWQ46KSs3qkT38scgk8sZaPSihMQtNcz\n",
       "YLSP7J48qQZY6cppd1RSZ4jtEnYHo1lYUihFHs04MCuWndIJyh7sbr2l4g0aOgHD7QnSv4AdgltX\n",
       "lW0VSDUunYHdIso4rO+8wOljItAsZsJ5DX+POryF54+LCEj94cbncOYuLkxE0PmBWqK+1rZQAwiD\n",
       "jA5AulQoCQmEW9FP3NXgC32XSlXhAo92RRyV1kZRrOxr6fOkONLWgSpUOIyFB/vq2tTGhHG71Nf7\n",
       "P1vb6bw9Cdl9dnxKh6Re4J+lZFpb2IasMgbvYesUrBQgGf85Q0ZRzKGMRA16xleMvjveateLpcBo\n",
       "ZfUTfvEOwocbYfnymMO7OK0aFadAO3B+Fhx9Tl8nJkwxqIyL46WKfEUm8jp119xANqW4UhV9x1iI\n",
       "kJhNjFhhbTRaXpIR0BdwapoLAsYkPKv6Ca9vVsp1jGylWkpQcmZLQGmm/XTM0lAesF/HwxFGdJni\n",
       "l9RrKnASxXXgrM1qFCtaF4MdUT99Dx/2NZE9KZ+LtbTVe1DBn+8yHsviXtvxTbo9YX0UUP2IVjW9\n",
       "ZnqtZ45iFXWabkAfkJTriCKtWwQITJChL2Vw8CoV4YLlugDziBz6R6jU2E4GtIxA0yCg8Ctp0iHg\n",
       "t/hrwjGZvbK9bSbsYfPFDG2g8/h/5qCVIBrsLPd68N0Nv9guu3JqXLWKedth/W0r9rz0uG3UICwW\n",
       "jLj2EuAdxX9RnmvRnFbjlK4WRHz61MqRbeW2c/ZYYkbgTfvAVC34IReYuC1M/eMT+g7Oq+mHu/xC\n",
       "E4ubRNABqh8llvpz/AjdaQoVj96W8q7EYDlFdXc7gVyYcbQ6NkzL3O6y4jXUmFKgMnV1IzMITk7X\n",
       "O24N+auyCGxjJBkJMMlbkcrDU/U275alBZZgXJteJZvIxWh9mXhmGJb6EI2mwDut/Fpyfd3aOtxs\n",
       "4Q8nPXqwXu9M3J35aJugrNmueUucuxy6qTsmazYLO6SRRCyKZroT/pl8+MYeO7tQU57v401ePQ6O\n",
       "drwgVgsqG1TIvpcgct8p3kduaUnJXCDQ2b4UjA/LfiXGEUWAjOb4xgAkTllP5OnxCNZxQmtydAAA\n",
       "AVpBnwhFETw3/wAABYk6jI3brAC2S9r38qXpBnkVyyWCXzlQASA2O6mHu2sei4W7GKxDSOMbRwNY\n",
       "rAVWEYu7hgmOeK7kNeMU7QGHzQ7YDT2ZkfhN0o71Yf+MFMu0nP0414HfUmz5mWGK+UlCrfCsPRAv\n",
       "/srSI4YrRmjujdg371DmudmL0cnJR9X8kcB0Tf9E3deJKeD406Z3Vs1gvU1jQLSXcCUe0cZXSZvk\n",
       "GwRVgT5RjZ9HQDnxnFaM8gS5H/FpK571QGWHNaQDNkKYIe1XHBMRRLD+3tmk2gDx3zodY/sYzBKD\n",
       "WAn6KFZpQc4F+dYuASAOpcVDLupd5KlYiKxYTM1Yr0TGz2t6MdF/LnleVrt2/TtNZ35bP6KE12b8\n",
       "zbuQr+rshus/myGRHXxR/p6KIUeIXgRmBBWjPunIVHWxbgLYhdoM2SjX7yZ38iBF02fBdNKKMcBx\n",
       "s6NAAH+AAAABAQGfKWpDfwAABWU6RJwsFGdPMQAtpX0rUb8FlMIlblLpgLlfiy6NTkDbT1Qr3SgI\n",
       "dWrAhzkuCfkw5TKdoFcRkchMoIr93IwpWo4Sj7wqqXF2TmEH4rvUzy97O0pvCCcw4VwbEo2jJYao\n",
       "RRwWPpSoLBMwkK8z/OjIInjuF8iP5TE4wzCpXErr8F1Ve0x7FYQVFeGLad4s9P/4gFHuJgxV3edx\n",
       "mKmNJYrmrjgayu55xDvML2nL9Zhtgd71r3zdaC5Khvk0ds+LBmAuhqt3NC6YaaIHSdu0wM12HpJY\n",
       "Qe5BVtaCsY3u3E5myLP6kogeEmCLeGkLuuNciV6WRmBw+j6NgCLhAAACZUGbK0moQWiZTAgj//61\n",
       "KoAAAD1fCl+jLOhtPk5YOyyghQyC8ZAAVB332HFmWFNvseme0VJF37qpJ4FgB24r0UXg51N0tcyt\n",
       "L+ZJoFe1YhLeivZPQsok9209K0gf0n2wP+AHyrBR+AXsBoOb7gbn6KgSmqIXAPdGX/j8afRU1g+X\n",
       "Z+NRa4n0J8R3Y948KO9+N4IQvjLzOC+iP4kWn5lUv8Fvq0bs72O///m5ksWfOX5BCG/sMNCDECRY\n",
       "wWqB12DHV4GtZeU1X1Co8PrPXPhK/Ueg4ws5TbtFRHMmAzrCFkvoJC8Jn84A4iXraZhxCNxX42wf\n",
       "g+skxecrPbQGLj34rWMgNFoibk4SIDd6zQq8sN/v7K8PeaYUi2N03Qu55/7b+oLXe9dszTp+etz7\n",
       "qr3irj3I1N4EYxmIBMdWZ6r2uKru6K2NAR3XYeUaA58OPanxPXW+UhVtMwjF09NQnMzwrz17ARc/\n",
       "DheWh5VQDoz8baH9XrxBYTe/3nvjCzKPB5BAkJDwjhQ9DL1CVhZH/wSIg7KjKfrdc/nLzVAP7w4d\n",
       "a1vCLcbbUGlOFpGu02JZ47cx0Fkh8KoYti6ILAkZPJIvCAt2ELY9ckHN4zQUMidLGt3bLCJsMBlP\n",
       "Xo5ec0hwxDYG5C3eKJvF9qV1fbE0W5UtBT3RqAivtgLitv/U/4NQX59VtDgfoZD1/0nQQY2zwLg9\n",
       "/CjaVVL+mH6ljvbZFApO77lfIyqTuvE4Tq/V3NZMIfPSWGfLz+K0u8/8nIqKDy7eJyJwuGG0D27R\n",
       "MmTUeHlUCXFBAE5SJjZ1/dQQDSBT1tzTtNygiNEAAAVfQZtPSeEKUmUwII///rUqgAAAD6/HzJXT\n",
       "YeY/a38I2IUARikbsm0TSoLCnDylPkduPjgB/qduJzbrK6wVyjuXHoMOzocy1MR0e00yI4ofTO5w\n",
       "iwf6H4c6rBXmwFXbBU0CMy87MFvXqYnQ+nlWNBdFYNLaPgm+OMRud396oareCktvAjs/sjLWGMWJ\n",
       "v689u5ixqN1umD5ks08PaWguplglTS7Ecb7kfVwKGraCoTFP1O6FjJh7w4TFuxchiyNY3BHj8gz4\n",
       "liiK9TIdYtwd8YjW0ORCN85+Fir/7+ma/2xFmBmRmBqXRw/tvz5bpUuWcH8wRgIFGinGQcmSWaeM\n",
       "udAskog2d5UnYI8Y5r6tM+BOH/0XIb7cijZ4unmFzXb8ViTaXTh8RduEktpnyAqXgSMEKkpfTvFI\n",
       "s2kF37o4+cVS5Ba5lghJCR+FhF+jay0LQCYdmhrQ9uV7z0dLEOPgGGjDHvbDNeIYClAB01BAXZKC\n",
       "sLydeBq3AKh7jD44p87q75UstaFRuwLWsYeJLoP2KmcylMHuCHOsUvseYt6IgcYhafDu9vqo43Kk\n",
       "jxWGt5ABxc5P01cdRjkHwNP2EHnlHQRfBGbl4OdcNkpbrY8QBjL8TCpXCLd6u1FOY3Q4NNVzf2As\n",
       "BYx0ayVNUhA9V/jO1kkd7rx6kMNDvxG6Dikh5o3m9+SoC0AQ+m3hfksR80zlD7pzBGiZ5luGbf/y\n",
       "K8fnlFndHLjjSpDT82ycycPlSADC9ue8xJ0msVXosCrl5IGpjWvMtLGcDlPKoFkMifgMitXyeQko\n",
       "ZNH8Ua8pSwgSmztXiSMWFFAXhVx+YvMsGvKJWighO1LzD6aey8QGjxjVh/5Im/+VNqAcxSlBEDzb\n",
       "kCnVmZUE5zVeSQrEseF6mrsMU9Knj4wOT4u0gCOe+mzXtoJBhXufKjMSe1xn4Cy4ha4hmrDizYRi\n",
       "LN04IZNU81aEoGMC1NLxpp1kHfEIQ5RHkL3ZGbWC2i9dSgB4fAnylX6/Qn4Zy/S8snd+wtTES3Ue\n",
       "ylCeyGvLOwPrzKgzogKYZOaJHNDpmqcOZG+H1lUPrTvzYx+woAungePk/a//qOFQEs0F8QNkmJ82\n",
       "+JmsAXFkfoa6R+uKkPC/4q8G2mPOlj183fnIF/L73RhiZhFKcrxhuqeZFtH53HfUlELYYnWL7UT4\n",
       "0S3qEgwW6B5sq1I0xKWtLiIlCZgAgBEY9ispIIJcTy79nKE9/XAb7BgHbV/blWMNuTXhnPfwXzmQ\n",
       "YYsW4uqO3WFUcs/wJPBp4oTJkwanArv+Z07X8I+/oPD70tg4Y4xKIBn4PjrcNt4r3oD+S7/ZZfpn\n",
       "yC8YRqK5fkac6P2Umn5+B0Wl2fKklliXqgmn7TVXukty3MbUtaBPaDk8KvQmvMZhcUB7sTg7mD2/\n",
       "Oeyjhe4G3gT7p8+JrJY2k1pYK5SP1NXek1gV4Z4grveUxkchrFyoZzTKxWIvLNdKqmGwfMfpSi+7\n",
       "yP+LRhtngGYH9gD3z65Nc6LNXoVNrRTLvIqtHSSYx9sIzsm2zmGHtOHnNX1KFvHbOLp2RSJzzbbd\n",
       "m419pyWlQ3ibU4PmGCmaIz00XztCdze/Nyx+L+XO3Dv39G7TKkwnV3fiEq79wnpc7buwbqN7YJj/\n",
       "d901xzjoftIogWrHV5k6Nburrhghh5WA2Y+MNjTsUWWXJgKQjUOx4xPffFg4INNX0Zi8O0RG5pK8\n",
       "itiDYXtEBIMd8TuxCOp9PBi6gNY8BUFNMI3xTnB1/cTlKtJiPM/v/xPcq6OmaQhmz1Zs2YbQbtUV\n",
       "/xQU8sb+Efz2bN/U6q6hD4dY4ieYH/VuRLs3jkxw8WZtE6MCa+eq/AAAAZhBn21FNEw7/wAAAwP2\n",
       "ACn60qYWzuhfyj0AIyoSM3DtnSli9jdyQBEF4TbKEkdpED+mg8QHYabs9vTJyxqo4ZimrG/tvZZo\n",
       "M48dsW/rWjKTAAZN7JusPGVFxV3kjFu0Y9eSQoOHJYtdTfkA1x1trU+btG5tG1xBLyPGLAJhnLkD\n",
       "mk6eU2Hz+sUy0S0g9RHJHev9OjEDf5qLujLd7+yG3agG+5GXIa4LnAOK8g/Ek57lVIOucRjUDU63\n",
       "q8cJXQs+QLA44vvOGJ9GGrLA2Lc3xjRXn+/p5xCbTH9WKWM+hzCbGbJVOI8OT61ZOzJydGcebG3g\n",
       "irKqnW/0kRQXhS4WihHX/tshrfZE3ju7PoABJ/cwtlNiXnM+dghsAxe5L7NvmjOn4G8D/iT+LaPj\n",
       "UtTcK2vfc9r5gCUcJDbASmyxkI9+ScutflHyRzQiBmdFobsxmBIsQpJOMJ/J3XU42Unv2T7CRdVX\n",
       "FFPwZgMpwcqPiUh7IqBbWSoC48zceoPpXen0si/NF3BclBA/cssQjYcSsB53k8J/ThKAAeEAAADr\n",
       "AZ+MdEN/AAADAFiO6COYisAJT7xMsGjByvSXJPe/MAKMA2AuXrz4kLEbPAxMLQ4gwSUGyTbi+Ozr\n",
       "iFmgypGENqNiV4gUjfTdQ+PN1Zi6fv65ka8Gj+yIBdnuosTENPUgizTkzyBemXuO1ac84mhiIBjw\n",
       "A0p4o2msynNvHclXDdlPlHoWcPRqEY6xVHn/AiPkKgVDEBK97j1+/TODBEgbvpBFLUKRr/UlFJL6\n",
       "HIb97jUtHaldVB9zGnTX3P5JT8xcJ3L5QAaa9rmX7Gkq9KbVHwtmg9KMUj2w55calq8YNXQV4Nl7\n",
       "hBdCAAC2gQAAAPQBn45qQ38AAAMAFiTnaJC7exogAViGDfApr5NSU62hAZm/OwGfhi+tDiV2deXD\n",
       "U8LozBSQxGqerr6mji1glnQ1vV+w7xqDoN6wL4rR33mF/fyPTjto/tOfS5JUgYv5+pEvfQDfpNuh\n",
       "/fqrBE90WARdRBX10v0wKNrDORHzXGLqy7J3PAawedcm9Pnzyttw88Nr8rOygS4YsGmy+Dxn9Ux1\n",
       "xHxTmEouRP4rQEnaPp2+zJGtYL86BtqsMoKYSq7rLs7lbuwBy7wMD8NWZMoPV6OmGDqIkemsx4Ul\n",
       "+UrCkMxMvG4VYt++49tDj7W0EeDjFzdKABlxAAAFakGbk0moQWiZTAgh//6qVQAAAwAHq96lZLpN\n",
       "viPMTOVOaW3YM/8LtyKAMEVjEObjUJSfZJopCbYXMMcdcXIpsW7N69pR4fxF9JAuLZNg6yDmbAFM\n",
       "SdQ0zoBf38c4cZqki+IebNxNLi2c2rdVxmh7uTg7FIL6p2ucecXgRbuRIKil+Wi7RmKkwA2R5gih\n",
       "2Hl2vNVrUYNO6H70S5AwJ4ljCQdLYlUvAfwzT37EdT2lNT7C9hY4UobSy4RTTR7hKALzoxl6GG19\n",
       "RpBc5zOG5qd2lGDxIhcGI3m2X36pddwZrNC2d3guJO4vSi87L3a3F2er4V7lGKxn0QFHX6M3OoND\n",
       "ow9OiYEYntuNyc8Wzmn5HCeHlagyU6bq5FfJyOcbNbPFyiV+rQYndfjo7qYgv+QYjb+82LnRMh7I\n",
       "J8M/a2P7eU5slPVdKBl5i956RPxox93Kcso4AUXFfGItg3YRgFcuhE2e44bqTLiCv0JwFiOp5Jr+\n",
       "wxWqhBwjv/gb2V/clAwgSALP90lIhB7zsjhaiIpYub9HfdFHUgaqDa9NJ4e7Q5Cl1GA0MusDd5mX\n",
       "fahoa2gn1NL2vPrJM7bzC9Pa4nLrNlRDqn2vmRxQ+uDk4wfn8ZGR8BM/PB4k5+m6/0tknPfN9pin\n",
       "UTR19zqPKkMDX5R8cWSavM4VPWgqEArhX3/A/LOs7jFh9pkJ/IKMMW7xOO2vBa/5fgWUsFw1Z9WP\n",
       "uoexXxTkgyUe9U9wmTerAx5OnbnuQjT4HhxPC0aFVJh5w9jeSE1WF7HFwakX5udMZqWhECHDyCgq\n",
       "NMgt4GIoJUrNMK9drbTuD6HkZzOHv7sogYD00jKWfQwPG5a76utZGc9JJEoZi8JMTyLLe7CkPlrc\n",
       "3Pi8MtgG8cCFteEVsnU6LsWzPwYISIGSYqDjVwzZCH/EITy0O7ANCdULET8NPpMjmX+nlGKQEJUE\n",
       "fhM1JzgK6/HOY+hW0G1VYObgtuX+HyXAwWyT/sHpx+RzgpA06KSPN4hEpmcdtb8JSfheNTh/6Pgo\n",
       "sEtzlzmO+MNQJN6gydM1xUTLIuzrCaBTDk1DItMGpC+JefWW6DxPIdYrx9PaMchtz0VEnmzlrELl\n",
       "J7QD7EGN+TXApk0dp8UnQPoDypT47QPr7YvddR0bi6tneAkqUb3Y0kNjOgvzDrl7z1JCXCxWXlDU\n",
       "zlzrtP2DYBKwV9hgz/eTMSp05hW0n72YIKR0w9W4K9P+whRn6WD4dQveiCXgt/hZSulep78xfx8k\n",
       "I6BMAgHy6Ve1MtYyPxLww7qmuYf6PhfDAKOgrgSjsp0Noyi/MbSOaayJGGACR7W/4cX+Tx+M4c79\n",
       "m2zfTBfdq/I6hZnZEG5cKbpiha9jim559/CafiED+YypXTv8Azvhlm1oclXChpkqCpiLFE7+Deza\n",
       "PjS+nW4V7jHSOrAYCoo4+GSbawQNz0NL17dfyQOiGxo2kqAQD1sHldE8Fs61czpzKkXe5/M6rf8b\n",
       "/tZ9azYcDsUGZmTFQpsXTtGy1BvNkAq0dxI5ahwda7GVC+vsSDdSAwDIVVx5e+rfaiM7UNO2YyNq\n",
       "MUXXdn2JW5pLtlYAqF1G7Ufbhqo9W/Lm0hyR7SjupvGbgse3rTxspGQIvciqE0Mnm8EirIhkSRBw\n",
       "vrWu3HogkW437YvW2+l4bU4m+SOMuITiStACtPyR8Xxj2ddfzBu42A11cXvKriHJelE7MfvpoVR7\n",
       "9KVaMZzMdeuYRvD8rPmAQ6kWIyGO3F25v8T7lg7VoHcy+WrRGbZh6UcAwQcr1J+3UTNbuGU1RW+q\n",
       "MTRsDuf6IB7LQA9TBUm6tpEicKxEvDqmAlPi6PIAlu3TXScwAnzGqnpcb4l//fvqlgAAAbpBn7FF\n",
       "ESw7/wAABAKVC3QMGpFArzEJX+8MmAALpbafbg1vXuRfjyTFsc/tGt5sfOTJiyCMg+IBDaCmnBYm\n",
       "k0cST1b9z9s+npFyz8RE6Cb1IehAQl98krEseIztWLi4FlSf/bMTzjfFxpenKhhmaGgJx6TR/o4x\n",
       "8+lrkQkjz0fn6ZD8bKMOln4EUrDWLIbF1fVg2WK2cOI67Lv+9T0uywG7wlC23BLxz15WOHXJoLHt\n",
       "JTc/hKnqPyosm0C6wkSpsSJD/v+yYUi962PgmtCwGXM5PG5cPSVaxA7qgppQKMGUPpaKCGNUOYyP\n",
       "52x6gNqG9IKFPeHPxLiyQqBdYKOxMWZ2g5TkrZtJDPK8r8/DtFzJ4HdEVo1vo0HhrTjvq23THXqA\n",
       "rbXUj2Qkf+71FmAi14d/JUhuXGW243k3rIF7N2A7H6orehHAi3XChHEJpKekKSkUMqSp0T9rkLSw\n",
       "JvUEQ2Vt3g4VpBAM8GPvp79iRCn68cwqtHzQwOxRxaCXQyAABysZNZO09NwFn3tHrdN7bwipj70Z\n",
       "cgTcTru7BGQ1tA2axKBgP4OVlGEltXmm8Aorv9V8fTqa4N+XUAZkAAAA+wGf0HRDfwAAAwAVk7o1\n",
       "cbb7vhYks+kMcDHO62JgBIKsMbppzx3Vyyx3YYVrmoYNLFAIo0X2IOTFuNtL7tWS4WGWBZgW44Wc\n",
       "l1jlbYxD30W2CoPX++9xFgOxgjapdt3i9cCTPbFDiNqluWL5Vg4Hu82cRt679hexEuHQe/PFr88+\n",
       "+phK0gfnvIqJMvwxAtLMloOX3/QDvPJ+HguSpheUk4RbFoY7uJ4cmcw4dfjRvXJBqUztu5UVDTHk\n",
       "iVT00gVMnJ25uxhXH5k2AyeeMf8Lzm6gsMvwKG49kXDwa34fyvpLX/uE/qhaPm5xyMLKjYDtoQ0p\n",
       "6fJaMG8C8B3RAAAA5gGf0mpDfwAAAwAFiTpDW7+dGPzxvOThfCfBAnKZJqAK+JXmnnY8IkkXXABc\n",
       "uHVLBBtTNQFYMNNah3UF08Aa3y5u/eYlkh2ZEz4PX7Qj+aHuZgaeVpQYNAv08BXoJxFzCuEPskXW\n",
       "BOgn5/gON6ndJC2T9lA/cx6I7MdyeW+6dnXOQNJNNDHJ1wMMqsoLp6glBBkvLvXCVyl1sgriFGH1\n",
       "naKO+eqpe0wzaZ2q2DHT1YluRwiKAi+KSL41sTcUw8aKBdj9lDTgD3iD8p+OibXGJOo7TYsNylb9\n",
       "KmqlEE9kiliyJYBASYNmAAADuEGb1UmoQWyZTBRMEP/+qlUAAAMAAH197RHIKYQHONMYfzwafAue\n",
       "vG/39PVz7eAPlgVKve8F0TDOLxeBbca8H1ADi/cIZ6+GBaMHFAJEAHjHCq4UsyS63Vca3W3FSk2U\n",
       "qvwRJP3vvkdllfWtWdFRkfJ3Chiy+uAJb6dpDv64ZtqA1XXP1cOiW8h4hS9bI3Jznnshn07/X8Of\n",
       "/83/DsXXf1ACyWikPQapzi1vyJpKrY6HTsVkPWXCq1GhFoE3euy2goZ8ZXNZTen/LOhD4Ue4UT9n\n",
       "pqwR+Zl0xER4bH/tqfFtrmIK1XLBd1MJUlNtPRgGdr/2mtOdE0a9P4sNeQIg9y/knNxkF8weWSAL\n",
       "AzNy8yquAVHde0/Bp645KHzsuymJYmes5FBAhjqBOOzsJL/4no+a66o4E1/5IYtQvHyhj+E70UIy\n",
       "tdIU7fiXXnEk7I+7y5e3NEOMV/SSRB2wdV0zwaBqcYSAsZbRx/VXF2Fshy3dIVAl/PphKgQisLzE\n",
       "ML+dOpWTBxJDoZmfougFrywnvbofhI3BJLrDCqnMNSvSFqTiD+eJCaEQYCwt3GpJDlvq5rfFC2B5\n",
       "fIzSzuEPRwLCWfEjSpHS9ptdTeyPq9nIt+rl2Vnyk6iDGf7xQOp6+wMsKLkH7pJb5QGhuVEOOLQi\n",
       "s1pla2+KbPI8oN619HEedKc/6/vnP+5sSGslnD2QOA4HQ9+Qf62Qeng2NBYjWM1j/nrCt0sCuwqJ\n",
       "4GoyBYPkBmVbuGF/D9X6dq91mYK+1BiMyhpcMgddzR5By7n7yuUD30H6HJ2rhnspXqiyZydi0gAz\n",
       "ZNdJtH7Perd7yu646pSP95d+/j+Fx0z1QmfK7PwfqaOFshJN8yLg+URgbsAt/blmbVrrCUg9EsuP\n",
       "0gFNfZJ04EzjZii6uFnHvhr1IvY6LlevcXpD1u6j3g9D7VAGALpknIj1+EsW8R0qW/RmRTAVhH+M\n",
       "1TNasLK1++XjGLZbZgbGfIu4XDG9vaM5MGVTxx7NxKPuHsnSLHdnWqk+xfuDEO5hZEdN3jPFPPcw\n",
       "tOoaI8/JnvkX9WcOMSE1QmMjtX3ZrKosy1WnP8WHj7g69XHDngexfoauu8FSbvSBc9qRqyEMvutZ\n",
       "RGbCMk7pCYYl1uGZa9qoSINS/+iYBA9/ZwPr1RBw0anmmaZX5f85xAXQGOviCbhp1rjp82qILzGM\n",
       "ibKmi4MhWUJSurqpjSLM0vFO6mC+m0tB0x/mBdx8QhL39H2IzkpWFbxlnPfd/CSz2BVUSR9iy7SF\n",
       "9FgAAADiAZ/0akN/AAAF0mB0sA1LEmH9sRKyylOMbZuOuZr8Y2yQSqtp4nb4abCQ20dfwbF55eEI\n",
       "ulq190tRLWUMOIz9jijSAmWqy5p6y9dItKXSrjG83qmKoakzf0WDoW9ToFgFUh3wiWouCqi39+k1\n",
       "8OypcLGCy5knkihDl024j7bIo7MG4aa4ejWkhbbbfcaKamIIqwA1TwaObkrLkiiywf4ALhQ04s/e\n",
       "dmh4rrNJc6b+mdXcT41P4b0dQaWmVbIs+gzd/8FKbA3cVF87cGKKS1dlETsQv3Zl62NHVpgzHEnC\n",
       "pLgakQAAAtdBm/dJ4QpSZTBSwR/+tSqAAAADAD1ch8gG+aYgLNKhAA4yH85uvXfugOqjizfQtWjh\n",
       "oa34q5LH1hRXxYRoY3lXBnb/k+vGfDOcqgPjeg8mKS+sT8/dT2J3nLGwz/nZUmB9c+B9a+Jd2+Bm\n",
       "piOMXefWRZ4YVSuCnPpv3MhtXavnd1CqF4Ynx/997tawXwMc8u5xg+/6SeH14XIoqeYFCZuKKXQ9\n",
       "DVcFlKZKCH0Yd73KQX0hv/+/ZO5W6HFC7xgUflqzmHqnURvTuwROCAEPNYxms1ixWMALIuhfxy6A\n",
       "fyXG0nvMjWRQcPjP9dZ79WbBmJI7hahhf/hKEQJ4Ta565hG79/q62djj+z1YntlFh98pTYYgmGd+\n",
       "n+gjKd0sWTHGmcDC/aO2mtmtPygGVfRIsNM60f4q3dOxsI6zdTluXepboxXMlvgUeFuel+pmqPJ2\n",
       "00+d0ZzLk3fX0bzo0ZKGOWmgI+BU/GKqAeg98RiEkzvClJAY2nCDvE60oGleMeBhgn3Z2mmGK3Mz\n",
       "yu2rdZK6gpKSjOl1oviA2lG/pslJ1ojrAHpgz+9nkcyPn6QLhpxO9gvi/FFzgLqmw5SqlI/iYM4k\n",
       "dx9z1o5M9q5TnxKlB9q66Jw0A76vU9Xr4nhtRn6XucW9o0aztBerJCQbqsZKTECqGT+WTHWJxBn0\n",
       "b/INAotqNzPNkEB4tHAtqy3qBbJjJ5LepzqLix0pyZzmM2cyksRjCtS3tISwvIU8Gm2tonNL1Kiv\n",
       "XqPd8Db3LItQKAR2GutPHJ+jn1X4sNn0kX0JMWamP7VuwVkRzV5TfoZotszsRtYjPN/yEUK65lmD\n",
       "iMHPRXZyGqWEDoIH9o8QfKqysjDlrziLLxxYcKsb5MEFz0UVvlSQo9CTQESvliVUkmy1de0wQ4cI\n",
       "g62vtZAfPU28+pOuOsqjWzCcITldMlD4MUzSRRF2VgeHcxbF9kDEKr1qhnkMr73p1ZhIAAAA9QGe\n",
       "FmpDfwAAAwAEyj/96E7aZFZWdQWpZVcVhACVid7SGDfj+uSNrpie9I66ml5/wW3QNF2BsIxEPbhk\n",
       "BccSzQmL6VZUI8xSKZAjKmwS7xZnoq+J3kb8fOiPdnaAyAeKtLWeAD47OMZjmvXNV6jJPH1vC1OU\n",
       "e2kAG9kvsYc6PT8b8vtgWlvcKNiQ3+79VbPBcTUXpZlGVHjts8DGxB2KI0UbeXoDmwcA+LZvtiLC\n",
       "rvuNoStFDjL4g95flUHtRWyba9ROd3ZYdMRZyT4RVJ5xH4KCx625lAH87TAz6o1QYs+3kE4PK3Gu\n",
       "EihdU2ikZAaHVd+0AIOBAAAC2EGaGUnhDomUwUTBH/61KoAAAAMAD6/IMKdHc0GAirgjTEAUh1UQ\n",
       "oRxnXe7ynntnFQ0wyr9PHaG/4txpwvqOuQgcCuFoofStehjJku1BtDx1kdBpPDxJ/Oxr7/hRHoY0\n",
       "0jEmgivALouraVgZ6nerxjNxUbuejdBwZ3+WjDEzHv6X7Z/2PwYhXWfHbSWIa0KaUs9r7I3wNw43\n",
       "AHmBbgKQqG2siRbKrJgYjdl00MFieBya7o5kHFuyMmN5m8iEeEtSKjVL6by2XDdHEmv2kr4IfWIC\n",
       "nZv2TfCKGHui5uLdyoGq1ZLOdrzLrI7tV9XajP5CcM1GDjZb3y38DrETNCCSYWDFSq2LutOcGI5T\n",
       "vg55FwbRnOZSWVNFYwRyBZ1NFpy/2T/eCl50p1/A5G+AGHDktYZTxGnq+Oh0OO8UKpuFWfW38Dvl\n",
       "3gPXkA548m62RgnHWbpWpXUBLb30ln2Pes4sKRgl8qDNg1WrIStDJnHsfrLfLS5lb3sXEkjQcony\n",
       "e81J+8AdPvJk8hQ3xd5f3EvG8ryD40F0FFf7ytIF6gH1VQTGjwPKLalK/TafCL+qS9403nnnjgrK\n",
       "Zr/yD0XgVikbWLjHee7a5RgHaqrNfMizdtklPYoALHuYOqYtc2UXKNag7AjDboX8zh0si4JHJJcw\n",
       "SIa5IY12Q3slMckzjNLnEA04f0qTIPCNLH5uwoDofygevKEJlDrce2D4g9I3jB7tgE9Y7qdqucaH\n",
       "ADD7omS1maGnmZZfivPvB9IUumhSN+hlhY2PB4tbTuVr6TbI5Nax4X6Ylz2Kj3jRHLbqd0+QdtYO\n",
       "g7fM7j5x3wwz7ZuUgXvqQSQ7NV0kHaHCoY/bRIMiDPf6Uw9LFXgyIdsq5Oc0NHu01yhsC7ZGJlvf\n",
       "S+leelrNk2GUkD/pyksrXR9PblzEsBLJR2piK4m0GuvORFoIEWoXd3/EFnTUitIqpQvntgvniJb7\n",
       "V7NzCd1FAAAA5wGeOGpDfwAAAwAEyj/8Ed0M+JtifkR3D+MqTkG6x70WRD0FJ8MFfInIAK3ufG+r\n",
       "sXqlGY3PzKlIQWtc4hfHJReLsOgbfvtlafTGDHbDxhyFYhcDICLzOMk4hj0Is8ZB4mY0/72uKjqF\n",
       "BNFMHqJQmdTWGjhJCdrsCS29mGTub7bJ40UX744tetFPRRv8PzcjniE0FEJkmm7A6lbPOcNByjUr\n",
       "qEH0243tGsUtNgNJ7EE3TTiVKopepGsYRw97OY/WmZxRBSmcHsrGl16bfZnaX7d5xOSCVZL0zEUS\n",
       "I//xSQGUeWViVSQGVAAABHtBmj1J4Q8mUwII//61KoAAAAMAD1fHzJXb+eIgxzaFEWMC2sYUcl3E\n",
       "P5D8DtrEXEl9q82EyE+zVtYJDuHAY+3U7X6vNaKUqndL6toUqjA4tt7Nk9ylOpWzo25v/x0+1c6M\n",
       "XFUFrTqj17yAquJXSgeeSh3LQw2yltI2MZP9p8JRbzSxWMzsVjE8nmoyFVS+h+ZJDvd8XdTAd/5h\n",
       "/+zjmKs5WcG2NJQzNO9tiGT6FmoBPJh1bg4Pv/ppnHmnG+2sB4DCOP8fzhwWU8wVonZpwfFsXSZA\n",
       "Zwmsa1kZhjZNYmASI1yvUUU2peeTQxl4okhp7cgoD3ZpY7ou91UZDfBtC8hvQRWM/rz4QzZu/XgZ\n",
       "DNbb+0DrnMFMYMFxYIN/GkOFSQDvJCXsis/gXPyk9S97T4w30nZJD+9UwAjBfReQzars3dgIlXrE\n",
       "YMnPb4RVK8B4BGCW+5Lh24asYzRSDAohq3wJ2Yauzx51eRd3333TTQLXVH20S7AgwRpcofSGi8Er\n",
       "dxOWPkN/or6mCKG7zbh6deO37HDwiQn8MvlgPjTGyL5YZxeO4H/ih6+0jfpT/zW1RKKqj5qaqweU\n",
       "/De5zM1J5d4zJEq0xpqSo1nGxJj86bRoyKHBOJX59WliCiOioYjIt+0eEqWFGc1geDPsYBSHVhLr\n",
       "dfmOH8WKVCYw7SUlmAlnjttTieDds6YEwAEEOOfcJnWjir+K1Nzo7t4cVVtSBzLlhfumIg6i3pgr\n",
       "7H2CX5W2QyM/X6AIVA4nun/fcaXs+Y83bD7nEwYD8HQ9V+N/UtiV4DuDh9yrAZRyzeKV9ocevUaX\n",
       "fUirWS5vf+3uQn+nFBrInwR5OuACKxApkRmGffJihO9TQnoee418zIcZptz1yqDTkazofEJbh7wq\n",
       "VHVJe+NvkElB5J03SyeufeWv1yfPazeuTTWqelWB/Ihxtlw5njNGOUnvPAZ+J5EJxgdwbasaOpj0\n",
       "j/aiqFTWETtaSmdySacfvgAJ1zGwGmfjRCzfbrwZ/F8T816fsIpkPTRv6sincCBtIOm1T0V9QM+6\n",
       "3oy6S1XHZV/e6EpPBaL1l7kdg1SJ05kYNloAFUZpP0cv0Yx5hcMM4iU+KYXCmmkgO/Dvv90AFZvJ\n",
       "mPJ1yNCmlBxyXrzGLVdnIeWjU8L6PaYdXUXrQXgcbsLJUf7tzoTrcRCtMFAqJXboArrdohqtTxlS\n",
       "H4i7ILaPFkqtuLwbAOkUnJ7DpIforfR9JRlpHosi8PHryoH0jtzjxvMzthc9remZ4mQeAQKLobc+\n",
       "JavrcVSzpt+5dEj98J/5KFdVJABamyJgJqQI2AKcvQgLJbAJMP5iNgZ5JrQFtsYv5vjVUc3pyF8P\n",
       "xwj5yHoCRNlFBa8itC+vcOjtkwO7+3mOPNzKQYdB4/duBSt8SFN04NsBMPAwxwSl+IhqZ2XU8hu/\n",
       "UoVj8Hi2oHaWxUSQZVvN5VNlckgvjybJV5KHEqbPcJg187CkuE9zLGa0ekR4CVDNRcIHhrwOtxPI\n",
       "Dppmi1dabArokMJHPYaZUBkwNEXpAFLhAAABekGeW0URPDv/AAADA/YAKaTruQKLPP6eYr+LVlQA\n",
       "QJijRUzVvPiFgjvnCB8a2+sp5BoqdCh2Bn8ZHX0azROjotkIduPmHvpKGccSG0z3zBrFtAl/4HSw\n",
       "TShgZHVIfySRzxeBVjhj69rR4hrYqD+q2VpjXFsaQui9/GL12FPvTFOxIJfBBQfVjsZWGpDdQe1M\n",
       "MBVwHUsfo8qQxgJZi0uAqxS49fNeZ0uPuJVbWpt7MkmJEPPG2e34tN9qY5B63yFOC4uQ7+jHxvYI\n",
       "rwUcLuzm6v4VxO3edewzlcjVV7Ggwi7bYBv3sT+teTWBP2i3E35waQpI2eggbRLKXmjRN5g5eWlH\n",
       "CmDvxO9cjFse4LqaH8NfjPkeJ8evBHUTuSCoxErWCyiPGGB1hydtAGvO6udTP/3xZk1LvtPp7cuf\n",
       "+VPfLtxaBpOH3YhAw575cmHK7QZVbt+ayDLDL//f8b1k/ckf0d+wW96A2M+/rwASAXKQy0UMwhy6\n",
       "daPXosBvQAAAAPYBnnp0Q38AAAMAAFZO6NXG38cpLGgE7kTaABbULOW0ckrzgJb+k6c03/yXrN28\n",
       "p66Q0G+XW0OmrCdtXjR6NxfkX5V46IZ+U/AhP65gozbhqjTkUgGyo7t+wIbEEmIkO5LWw2mQ4sVU\n",
       "/xyD2fZonZnEXOBFjfJ5A5qSGxbG8W0Dr5dB86n+t3UyKUhJGhqISL51TmywyNT00UMNgEla8fci\n",
       "DOzA7IGVSQA1ScVqNdOL7kd8ZfNitR5x1pHMBDGNrCB2gPSaOLC9gfNkBGAoi/scxYhtLrrIS031\n",
       "CC5Ox/FPzUCVdzJZXVmLHf1kTpoJ/qarg6BcaEEAAADjAZ58akN/AAADAAAWJk7+ehpnGQcgALld\n",
       "Hjzh5jq4OH4H4dhV5oynaHXebdlpgOKifOApH4uPkoV4rtTJaYaiCF/9Q4BSzb9VI0FD5m02qqL0\n",
       "ZXk8A/LCYsimuCI8Aw0t7H7+XryIxT/zdTVGMyB6OKfFtQ5sHBHXn/+lv4Sx4s9f9a0sveI6yeBo\n",
       "ts4CJE7a2UQVgow7gLsuIB14PTqn3n1mC5cRQnMFLEkJ1MDZn900cV6WWwB9mHKswJIR/Q+yyOeq\n",
       "KAX162HI4eAFfWKkaK96oFKTmM4VxwtsWVJadCAAEnEAAASNQZphSahBaJlMCCP//rUqgAAAAwAD\n",
       "1fIMPLUWgNsbBInWOgBSvcNpPDtS88VCxUiZciT1gGDXaCXxSqc5e3ZJ9mOWo2xZenUvcIfvgP0K\n",
       "dEF169pvHMv/sE2sdQI4biAyJ/bkI0kuJonrdS8TuDrcN70LpBIK5rX11ypiiDth4y+qgu9uUCZC\n",
       "sz9U9PNK1TOhSxBORTEQzFRouXQQGSkNpKmAqNEHnFu5ehri1SUYhOWTq9MJB4pP91vzgQ8OTo7W\n",
       "0RxEqXtXcbkVCoBN7G4uDe19eZ7CikUeZCOLSRtpRIIYCWVYQdmGlHm9ZxXG/MvwbEPx18DhxsNc\n",
       "W55lqE2PbqTQcrADmhGBBw1EhGRkltYZRA2s7fu69PRpRJRqtq74L5wic6JzNCZoKKR5yPOJjC3T\n",
       "A2GqKiFEd2xcXTbI4eywFjCHPkWbeKumct/dTsthXUu8abtA5NJ2V2KE1ah1QQxFAaTAANUoqXq7\n",
       "8oOSFP/Qs125HinW4ljXplaj1gpyq8zGRyjSq+to/WtFEyqOYy7Y9GsLMweGaAyVlcscgA8Qa3Gt\n",
       "Gmu2l79EDvRvTHRGEbxMougFDuPoi6IPbhmo8UUrli0N7pzVgtzfAkF/10TVn874kYEvR8SwJH1X\n",
       "Ryy0Gdjf04aUI+kUZB5tDkWGQ5TUg32qC+bTWJMLQsg293z9sikxY55KDIZezpHDbcQtepPcGSrO\n",
       "t6YV5jSjuTmF5zIjaTtq2V7wcocd2k62OY5mC7CPWGuSPY9y1C0SBvZ3uZq2EiSAxrgLsoNXw/Pc\n",
       "Rm40ZNVCF5QiivHLdt6mTH9U/se6zpu4ujLve+HSVptwa3HCdjioG6OVykGgqh/a3wd4+PSbjUUo\n",
       "vajdLTnMnXEN+CIi9IRucvaL+HaVc5SUut5MEyg8W6H7klIgXKBm6nklPzcdvS2BmvAfHIfP5jq5\n",
       "IHyRbiMiGUCfatJCcYd6U3k28nNgaLXs/gHkSxmAFznEkL6/fSaFkY/N4DxV07k1wspU6uHT0r3G\n",
       "OVc+p4/iYimWAxExjTqFCXFqJK20plp/qshQi68x3dPz8bkYJJw9Uy00L+XbbFw+3TgF+X2Wpg1A\n",
       "8/qSim1hZLlKBKjWlJyTwPVr2H1yi2tH9LO2q2B0R+TpW/iZmzT2GPm2X/mh47LjfdvIFdFFw+vt\n",
       "D6M/viRk3dGt2WGakCG1nv8p24qRmcV9FDPslD1XKINLjsm2tSyDgo0DPmBT5IEHvci03dkuh8VK\n",
       "rucUjW2TKt+/0+J6xMDV4hRpqBbw5Nn+7PUtv/7bssCBVIp9Y99KNiKi0Sf3cPfeegG2AUdB1xHw\n",
       "cm+kVaLYhc98zrxEtQJsiR4zE4jasXFj3Gogx1pMMnnr3W6E3Kz7+htNav7I8nX8Ez/qb7T9cJPZ\n",
       "I9ML9ywh9jb4Dk1tQDGSRAYBrXhA5F1+Od1RA6g3or0NWBxngZXe2tRBht5pxcCrB00+zo9iEEBp\n",
       "AQTXEmowskWxsy3Q/f/2DIyXo5K88RQLqef8sB1RCBFf5t09NplkIC6jvCtl83cwV3sk22ARGjJn\n",
       "zIXB0AAAAVpBnp9FESw7/wAABAKVC1gEqqpsicj2Yj4dDLYwYV9hruAFxoGmdrkiU7s94aZCEK10\n",
       "iAVO7FxsK2Dr53Np1bol4dv/5RWinVn9knKfpTED6JSZsJoTXifaBMwLrXlng3N1CvfV63aaW7Zz\n",
       "N3P/G14PhwauRvVVT2cyBThOUMbrXPHHUaRK0ZKgVUtNq/lmKtCWFZej491WeUtEkF3imN4cW2hZ\n",
       "X+ojw/1huOIWdFNcDJ12AxbFPZUlFG5uOYtrpj29SBqFx9FeBBrvtWbxP9IX1UOTlyEwxWeHD0pd\n",
       "H8exEhr2XNvZbZECttpNcph5e7sr6rYyF36gtpe7mje0TSCX8tMiryjkYCIWz/TEn5m6ZrO3wX/Q\n",
       "Z3f1G/bbUJQKE7VaonyP4LoFn5cZ+nrMsy3CDeKx0TcVn11onE3+nG50EDZUH1NF28bqaw8QSOxO\n",
       "6r5NtyU9KUznaAu4AAAA2AGevnRDfwAAAwAAFZY1YoeDkDFNxwpaeAFVHVD0+QUKp2P/YIeTG2u+\n",
       "6Wv8xDCO8Ipm1fXeTRpl10byK5h2hKzOz5O75zbZbTILFQ4A98FQP09nsZA05oDaMlcKxNfGbJEy\n",
       "swEh+gqywwpWtzUkEuQc6HDs8RYgtcNeP4C+UN2xr2efIC/XviX+F5UFuZ8MKTa/v7Hz1cbY+bue\n",
       "lRB7s3OdsxPOTX/spmGAm+Zu7MD63VzwlakdQkvcKLZiqCXfbcjQKbgfnR+3l8OIvByKtQVxCenH\n",
       "dKA1IQAAAMsBnqBqQ38AAAMAABWU79dUt1ODSKNRWdJNseWc6v/Una9QlRxK+47Yax5ze5tlVxQT\n",
       "pI3cxlyXBEqoT9ACJLgniRj5ipTAEHrs+WZIzmq5IxwNKnHTP/U4AsNUsuCAvr9apa3s8maEnaS4\n",
       "q4IAu+B8PGMJmnuqlwhPNfbRLE0xWIq5dWfD7r9QAO+kvCPXblprW4dSvzL1Fk/iLtxUoA++qVSw\n",
       "6yZh7088wh5GwyS2+NwApRScpVKm1S+JF7oFjGDvVYH616ExBoAJuAAABFxBmqVJqEFsmUwII//+\n",
       "tSqAAAADAAD6/P4ZWIzVdHkTZroZpmQTTlwQzXiQzxQNtcmafsOopVeFtq7Zff3RU2PnQkl6m7Ay\n",
       "Ew4BAjrSu70qgG92LRHktqQeNYF14ztfluP5dM5n3IhYWboIJFPb+cZ8WSyDvkkF3iQ+L39f9hsk\n",
       "99o+0J5kOrm+8eWG6qEBm7Wa8I5WtE3/U7PphkxMHcspcIzp4cySCD/RP2kET+NNDsqAp3qi8bGf\n",
       "dwaT/DHXeI6bW1nt3JxLRbn3R1lfeGFH8f8uZx7zOHhBsrXpFp5tnSDm4miFwrUP0uqElzok6pHP\n",
       "x+qMRsJ15KUqCqnT+vIk7V9BD0gtqtlWCxFc5DBmrYlW2DLg9+FA4GuGT4dmgkbRaCgW6QwyWaf1\n",
       "0sxdoCL/uCVytC4bZYR5xQzSinuqhgceM1L0Inon3OitvlILKHPGFk3o+NaFUMC3Dkvq8YbO+MrE\n",
       "/FIN7UtRrbDP221ERg1o2uU7i5+Hl5cvPHTq2CG4/0VIp7fLBE/tZZ+U+lQ5LCfpYRegdN1FP+Lf\n",
       "TmAlMwP2jG6vTzVB1XLPtFlnOf92SVFNo+QGurP0pn3+7XY0ydfZwfK6jQpBUlS8DVG0rX+e7qZj\n",
       "skggkbv/WzYXwL1JI8YFRYPkjV8Sb7WzetA7wpJeuRduRTmKtcw/UQXNplTHMvZ8RDa+NTy1pD/Q\n",
       "eaKw5jf6Z0MoOBWN/c2Pb/h9HvP2+rrL7AxfCn6NkJYB8p6ihwMymhD4GlhANwmgbxv4EFCis7ab\n",
       "zD5ly7tDMKupjL7Y/ocqBNzqdmtZYV4NiHvvCADKIwnKwkjiCqVs0wNV+K7vVhkGsYZmJB6b8i7G\n",
       "Na4Gf4Abo5sO2AaoAWoTxvnW8tx+SWSA1S6HS0ZFcYQxMmVd2/T7dQNHcQtMoG0rKQn/Qj323q17\n",
       "AqeRsWo9LmqRuRBx4t+WjpZWoEhIeEeLq6WUS1vySebgv0sFG4i0pDRt/XBTLF6A7F2lgXjPXt+J\n",
       "dm8HhJg2uuwJwn6wL5TL3Y9o5QkIKa48QDIJTyFjmPNpAz6QLBt/pRNnouPOX0bMABUcT2BwbNse\n",
       "LMgOBWfLdmL4b0lYfDZsUu2RFZKGQ4MwEpy2/0yb2fs1N1vprWg5a88OiwZ0tHn79UhMfVleiMWS\n",
       "ETCk3wmGxFhM+cbowKEtzlSUxqtXcMXD+T5XD7HE2zOdGXD7ShlG0j/96EVrDit9Zc5dMWOERUXQ\n",
       "5HUyzeEPHDimSDGGM5c/lbhJ3FaHNqpCBBSmXG8Uphrsj2wFHKJnT4Q4cTwiTMzh+uoNREwq5DvE\n",
       "e5R5y6ErliPdgB9SDOUj0YlPnTyuS2QeQh/8zHAZKdiJZlGFhrEmEBjp8RV209Nq9wc1BPcwy7a3\n",
       "1uu5dobFlEm1XzWskbWmxnEjJrdLFOvNEV4mB8x7TTt1Noxo39Dlg6BHsNQLDwMRgKH32fs5lnbe\n",
       "I2ZCYY/Eowb34v37dSQbiFZVOdkAAAFNQZ7DRRUsO/8AAAQClQtYBKqqbImLDbJqJFUARJruCmr/\n",
       "iDsEl2RYqKtZcESRON+nFkIyBbK3UtBpdXNfCF+p9qdRdVBlrzKb1vzoI/ekslyQD/7ruv9PNQ8d\n",
       "k5abvrQCZJ+XxWznSz3PskZNkgF9HuC6VRQlN4+22in8SIay3wjJKqgFfngHnx/jMTNFCz52+RsH\n",
       "IHhUtreiiglj2OPnPxJUD6Aw0CSEx2GyM2vx5Qnp2HR4NZLqSRyD6aUZqG5Az661E71HY7m+b4uy\n",
       "SwlyXep0owhaqQlj5/LqV1YqjdKN48uHE7QmRhYBKa6Xh4uKrybZc/Cf+WxM3vKqGBRmmmcZV5NQ\n",
       "OSVqBZ2UfuiCWI1cqw9YyQELGyYS0fWpFa/oKhO3DavYAqKh8DftGfij+vfdEKPo7VT1BNBXJ5Tt\n",
       "1eR2Jm6E8nqivSNlwHdAAAAAzQGe4nRDfwAAAwAABYjubagctJH2oAC6gAMXwAPSklOu+XDVLKpe\n",
       "kyNecpyzpVXBl9le/YrUVFfQrjQUE/8qROCf51bB7oLBA1JZEjOuZNaJT/ZIv4KzTfN5UrP4aM5J\n",
       "0mvN4BfljGLazX+KKoiSXvfzNxU9MJlK6k8tuFfBdo8qz1ifh9GSC/1idLvtPAakX7dOZcxnLx9X\n",
       "TOcijUHHmq+uvzHXwu7pk6klE7xS1M0yu8I9Od2miBsjgAFlM4ooW1IeihljvjYT4MIBh4EAAAC3\n",
       "AZ7kakN/AAADAAAFiTpDWdaul7K80SIn0ouvn0Dq8BAOdijLH9NLZilEDYVZlK7OqOhuvV7L68Jq\n",
       "eoYwiZMjrNQaT9rqc7/BIp7D4j2Im+QpsUtFKPd/vhuSqkVdod8fS10WK/eF5KnanltgfeMd2/Ee\n",
       "LykrE1YsTmqjonrBT+JNPrMYdtmn/8iWqopnUSeokNG80wMNaAde+WhG6lFPQXxsGs9f6vGM8vE7\n",
       "kpkN1vk/hgEzAPCBAAADuUGa6UmoQWyZTAgh//6qVQAAAwAAAwB9f6uAaMi+PBK/4ujcwYRk7Y24\n",
       "cN+Dnfhyzqg7UW0MjcC61Q4kCA2xyupV0y0VJu8hDegpkiZxnHo9R0vuaVsAMEz50PvwqCynYNo1\n",
       "jClHU6DBxGXsi1JixR/SXpkeCiO+3a1x2ygHPsGCmZFLINi+Ke2gFd1nQ4hXI/FktV/QfjFZlyky\n",
       "1KjTLqyWKKsra2xyrVBExQhIvc6LdI7v4OV8gnxwl4wxMViuFJZMOYDhZbzHycZNhqoR2AGNBp2Q\n",
       "KPkjp16e84M+i4ypQSeaT+jGqj0mOiKRE7/Xgrvm67weN+LY7MMMeB80DP1uiAkqANsO6cvuL1rc\n",
       "aCdrL+5p8pQha5Pi6LWusqfxm2wM0hLL+GndiIN78iwYWM6e1LlAsX7hs8yVhKMlRFQFJG2tErMQ\n",
       "mlOnV16yTB2mFQLQ2iNDRdHkRpfvGMrCT+eO8HNNsD+4ZLK/lntesgfCCm7VR1NtqYQ1wLwn+Evu\n",
       "dlu0f8Jv3sfr6mwuX8fYmpBt7S6mlwziBkCAOXoaaEvlN7lnG0eGCvay9GVIg+zvgCmEdWX1vl6c\n",
       "RmIZUXX3Rs8a6iemAgvwtNo0jPDpbzieSyzDSE7Powm4QIaxDYdmQTGa1PclP3bGBtBPEpBiQY0B\n",
       "aR8Y3Ry7XNxrNQ1SkbQefMw60xbaml3+FGpM2Y33s59cRtmXuLYO0szhDz3ma7xfdd7TtlodW8+x\n",
       "tDBN+cAnQ/zZv86d6fcgXSqJZKOGKMscsNFIeZB6BPQUHfMHqNLjRj+YW/YEBByfW+uSj62jBM10\n",
       "PMSj/uAgRNb1PqX3QX/U06MjA7bdWWAt7Mkcz5YInC8S0JVaLZNlAYIEUMXBut5DvKRRnTAk0gxT\n",
       "A1uqtGdIhZcUUBT9f0m2zk9C8GyqHE4JCRGPMg/qClB+9JsdrTefi6L26l6kVzF7Q8Niau1xK8DR\n",
       "l+V0s7Gz8Emn7noriXtSXLnS8dg9Len9CXrnBpk+v4AdrF1ok3t12VT/kiy/sCeCnYkQRR/IQ8Hq\n",
       "unO3r6kTASpvFx/9DcoMwKr20sj+DveDv3+TIV+JZt9vG8TjYmnF92JHuEZaGlDg2KPWGXdJjckG\n",
       "VRCw+Z1XO8g2mx4if/7JXtrGt7g7Blv1GKNKoWI/9XNWzF7UJVbrxOc+5b6o0nnXo5W3BjR/VI3J\n",
       "fgSCMYM9NZxYwYt9+YtzfB/7GRr+gvdvEt/m2XW4t6R/QNW3WL2bySfM5g8+8QDdwrhRxLg6GRIZ\n",
       "AAABJ0GfB0UVLDv/AAAEApULWASqqmyJeuDjN7faAEX4WsUNc+GIkYAhEFLzX4NcDcwsBDHTAGti\n",
       "Rnul4EiqnoS3yy8IaMgR87bOEhla2F+AaFu5dMWoXY0+RwbJxDHJAxrozFR4LUfbHMmknZ3swvSy\n",
       "2d9sd4+6ONOdjB8b8lAVPwQtA+qWgnd0T71ZjV50PUf3JbUPtjgPkJB8xf0kUzbJ/ziWy6Vlbzu4\n",
       "NlhxuLpgZo/WYQBifYNbBGxyrqmWIgjEh2UMgPUJHhMpI6uMECOrGhy9DC9IrZUdL3pM76WF4fuS\n",
       "gtbk6eUCH/ZeFtPcro40rOi77f30c+6qePcSGMlM1yPvFSuNsyxxZEOw7YNkb30aaCoblbzbSEII\n",
       "4UB5YmakMhLrlkfgQ6cAAAC+AZ8mdEN/AAADAAADAWIWUH6HsHvWLgzwDR1Q8ABdEcjbwOubQLPK\n",
       "GP4d1/U58zru20Wc3ba3g8vW4+mosQySohzj16Y1ZpLGQNsxlVP/LWuDR7O3kG48CT5ZMa1znOE0\n",
       "ADITa4L26VxdatMtt0yGArulxRcgcLTGk2raqUwev54CMc0FKbZGf27BEvxspEbdWIzHaw8v1pR8\n",
       "bEXdNno8CsxHMGmmbsvcDeN4ixWQG73rPfGYgt7PybGpvXAI+AAAALgBnyhqQ38AAAMAAAMBYi6M\n",
       "gAp/+GGsMrG9rWlVvMwNeEY816VxsgcK+oumClm9RWSV+NXsG5vJUB3uvqS7Ign5B2Gl83cMsACO\n",
       "+1e5W7fhrZlAnlYW9Qd2xCofWDesAQ1HI9KnWlCKdoWndVi0txBDNf/3KJ+bCeVUjgADJxHXJSLX\n",
       "reYjnl2Z0tL0L6kkIx9u3AJYPh0QAMVHnbNeXIGHSVcQfKNMYLMFV7P89QC46OLlha+vmBNwAAAD\n",
       "BEGbLUmoQWyZTAgh//6qVQAAAwAAAwB9fe0UQQwPFyfdOANr8fVBB1dYCnw4+qtzNG4aIYBsNRLm\n",
       "4gApnc5AoCDFg174UbFZzq+Ci0ZukmIC0ijAE3uXVKkGWz3vbL/og1kDTiT4jaECy5lY0ctSCVkx\n",
       "jL8aoa05O/fMuJwfYqxBlcTFmX2IsFroD1ZaucwLCv4mH+y15LVH/SSyFWxIpCUBInYkU/HRAdws\n",
       "KPTzhgJIUB7bMBWEizKzmItP19F7kE4R5uuOlZG6MQBqKvyi1z9TbVSm6Dat14eTc5FxR1iq8d/a\n",
       "tpa2YysI5GhDYaJR0muBJ0sl7jkkVPjXLaHIQBrJf3KtSXmQg5qF8gLCSkg+wb+HWYcpe1GGsw6Q\n",
       "zvAc/6216uT1x+5zcVyGlXL3Z1Myz4EA/3XUDrwH5ssEkZkUdWtBXGoB2rDw9UG90ByhF5DFeOoM\n",
       "60VgDpBJauHS7E0up9LUKUe2W5cTGWZk9CW8ke+9tIZVsFl5jzg0Q3JY8lPqGLG7w/ym1Qs4BEMp\n",
       "wzHhBHv8dJJAcqp8Dn6S3CtOkEMOYQ5yEbhu6tlITAKO6H3GZm4NG993j7DVPY13vFkfuQ6ADPAt\n",
       "fqE57+3863VKohpGxbOWzC2wwTV+09N8s8l1/PFzBHFTUqC12HQEl0mficPthQOscrSlQKXO9NTx\n",
       "cDqCzetLLvT0wDMwfBL59HNUqxkeavsHDLZ3b8wAJEwa7QD0mxNLvk9iJZfOfAOWOqwqJH3nNZl3\n",
       "+UsT2m4JB7kkUbmAHkWrbcMGdKU3jHsJjuH06ny9ag92zkoR2eJZ/sqONqhVnG40kmHSWMwUCLh9\n",
       "AYNVJael13IuCWv2rrf3q2yDUtekWWjD/+vY7VaUpdllr2cOgOPHAxsy72b61L+pxlWauMqAqT1r\n",
       "5QWHVA3bD2qCPSyrsFtUhg/5H+xIWkTbrApm7jlXDhDyZ2ZUueJ9HQy6684irZznMhOtAtdRsXmc\n",
       "/tizo/2Ba03wVHTBkhxgIt0b2RoVcIonTeXWu3qBDIEAAAEYQZ9LRRUsO/8AAAQClQtYBKqqbIl6\n",
       "v2Yj6bIrimb/oZiQA1ILLYdd3M1/y5Z1c1hynczcnoMGV7BGoojKNqPlkoapQHzzmrI6nXnCdutb\n",
       "db7XFBC2SBxXtnfzsClOP52zqmDFYzFkyHknOu215UcGtLb5+OUYFz8JpP900A4j4vQK1gJaUXzq\n",
       "zmvPmy3SlnKhvR24lVOFacPW7u/m+u9qirGTPJAVOc/YB7F4+daVjRnYYT1JJsDJEvjXwZnK/44U\n",
       "tmr3j7bFf0iomowIDxiAoTFs17BO6jP4nVxhgKz4oxO94DEFkzjBDr5mxhgH25lGMSQBiCkqSHsz\n",
       "PXPDrSgz7UtTO0IxnTqZuvVQF9LQ6CErGH9FUAA/wAAAAMABn2p0Q38AAAMAAAMBWTefnTk6Bz7r\n",
       "nYIFl+CqJWwNx1+iQt3vxtK2zhPiAcE5rWeyOFsZr3rFwt9y3+iTBGfsUKl4wvvxNopTtdFf4Ise\n",
       "5kRuLxt6xevkBklU5Jzk2p2L1zp7vuVvtnuL8Po8vKIA3F3OP60e7N2vD+R+Xa9KwxHSSyPXy+Re\n",
       "ddfv8XMB+8l5cR0a03hi60MN0l1/ncPWYcBMcTk2U13fgEbZvpngfvPF9oOYdxSTBJtUguRwDFgA\n",
       "AAC8AZ9sakN/AAADAAADAFrPGP+SJRoKqlC8OgpZcaikZmvsT641aSyIIBH5HQsszibDA4P8hOZb\n",
       "zxmcclmZ1DYQx5fZXGT32qE0auZA8GhEVu6znj4ltG21Icy6DO/8ty5y2UPrys6iO0k4WWW5RpoR\n",
       "LtT9SG/fHoN3bycsv/+NuXKwqSR0hWzcY5APgeZ3paDyZThTn7p7H+jpJAvgDnr+xnkCfHYqEG+S\n",
       "6QYGdz/wYwoWc1faqfm5GKoADekAAAGYQZtxSahBbJlMCG///qeEAAADAAADAPKutPkIy1WhAJNA\n",
       "AC6dWGhZQo0W2+sPOUNuSwn2a0TBAvN3qchh5/5xtDpMO6PmgQSUIIaFcV+JkW3LGCD47I6dwy8J\n",
       "0QhrvGzlpzbJAYPQHUSo8Sm8gxAULUa2/4ct2L4PAdYdx6VUeoDisY2jdOwrlm1EHHtPb2NFu2em\n",
       "Mse8bwP4Vke3y6GkV4nDpKOy5ObQVi+VPBuyLah928ld29jIzIOHHcwTF6pTJbJrEUVQLDccm8/G\n",
       "xxPFmnNk/LgOP3Y66hoWDJ3UsYyu8ux2mQ5QTLzqrn+o17Km+woPwFZo3J/RhPLuGKs5IE7umc6M\n",
       "e+AolT0wnS7um8szHlNxbGqhwCXdC2X2aPFnDwUxTwPu8B4/K8cASIVslSIUJkKbuUBT0mvN0pE7\n",
       "EkzxBIwqTkwRRnGlZLLxjkPHty5Q/HP1AIP69/mA/bQq5oBR34Uig4q4ebH1np/t45cmIy93rTwf\n",
       "va0ztXrmxzVmdL6Yo5Q4qdURGdF/s7PvsZpAsz3MPmXFAAABVUGfj0UVLDv/AAAEApULWASqqmyJ\n",
       "dtlXrrw6jHLt+NkANwYK78ZeYzK1HKwlL0HQv0rEJbzjZN6ub++Aqv+lf3ndrbvXeLqeQCPhjWOd\n",
       "TVGEOzAHpgYJ1aWkFrct47FICsBPTwGbMSduRvjgZ6dYUzTqWFtrgiX5vLgfke9mNShFX/WoN95A\n",
       "RG4LTzmsWkPJvj9xU0KG5kTHC9k8jXO99tMqi/VNsusmL0w9Uw7KhRg8gEeCWRkB8KVH9cEPk3/u\n",
       "xn2cwwDLeMnk8CZlXu7guEpIshM3p/pr82nwY6uesUJtT29IPimfPEqe30WtjwBzhmnl7E/LP9zP\n",
       "Xzi9Y5GcueTgWM2X/AjrGXHXxHxLkppu03H02mC/mvswpJRjBoz+0PTUJkPd16rk6pXhSx/+mA8Y\n",
       "np/2mOEk8m0vSnf/yTAtv3i1HQEzFgVycTHeNsXTOO6JIpIfAAAAqQGfrnRDfwAAAwAAAwBYoOop\n",
       "mhSGgpgn3gw57qMzo0xy0Jy2gyaus2/Wxj/MEkqUOK7TdGQXmeipLjmKAyxArCcyvhRmiQuyraNF\n",
       "9HV+V/Ke4EQjFliWgGroV67g5cs2Lx0JAvQ5/+ZdEBb6WY4AlDYFEpwoCYJYytwrVo78B09CNfzK\n",
       "X+BLYhlByBRUIDK8kBKI1aLCkf6SOFJTvocQ9Lm4aaqq0JCAlYAAAACpAZ+wakN/AAADAAADAFeC\n",
       "dDKyzWzeQpD9lLvcVW2S3NX7WjY1XPnEYT3FjQE3x4NnI+lUweABhT73CZJ7ly6lFOfdJjEwXY2Q\n",
       "0e7wdURogmxs5tXtwvmsBGLbKuu6vj8nRPDg7sWrg7XKOJidzQK9vNkQ3XXqNbD8nJFosnePHP4I\n",
       "npYzvuWBCIDUDjlHKSQ44XVAUzs6psxbZZP4uivmUE2LP9MNU+rC2gAABVZtb292AAAAbG12aGQA\n",
       "AAAAAAAAAAAAAAAAAAPoAAATiAABAAABAAAAAAAAAAAAAAAAAQAAAAAAAAAAAAAAAAAAAAEAAAAA\n",
       "AAAAAAAAAAAAAEAAAAAAAAAAAAAAAAAAAAAAAAAAAAAAAAAAAAAAAAACAAAEgHRyYWsAAABcdGto\n",
       "ZAAAAAMAAAAAAAAAAAAAAAEAAAAAAAATiAAAAAAAAAAAAAAAAAAAAAAAAQAAAAAAAAAAAAAAAAAA\n",
       "AAEAAAAAAAAAAAAAAAAAAEAAAAADYAAAAkAAAAAAACRlZHRzAAAAHGVsc3QAAAAAAAAAAQAAE4gA\n",
       "AAgAAAEAAAAAA/htZGlhAAAAIG1kaGQAAAAAAAAAAAAAAAAAACgAAADIAFXEAAAAAAAtaGRscgAA\n",
       "AAAAAAAAdmlkZQAAAAAAAAAAAAAAAFZpZGVvSGFuZGxlcgAAAAOjbWluZgAAABR2bWhkAAAAAQAA\n",
       "AAAAAAAAAAAAJGRpbmYAAAAcZHJlZgAAAAAAAAABAAAADHVybCAAAAABAAADY3N0YmwAAACzc3Rz\n",
       "ZAAAAAAAAAABAAAAo2F2YzEAAAAAAAAAAQAAAAAAAAAAAAAAAAAAAAADYAJAAEgAAABIAAAAAAAA\n",
       "AAEAAAAAAAAAAAAAAAAAAAAAAAAAAAAAAAAAAAAAAAAAAAAY//8AAAAxYXZjQwFkAB//4QAYZ2QA\n",
       "H6zZQNgSaEAAAAMAQAAABQPGDGWAAQAGaOvjyyLAAAAAHHV1aWRraEDyXyRPxbo5pRvPAyPzAAAA\n",
       "AAAAABhzdHRzAAAAAAAAAAEAAAAyAAAEAAAAABRzdHNzAAAAAAAAAAEAAAABAAABcGN0dHMAAAAA\n",
       "AAAALAAAAAYAAAgAAAAAAQAADAAAAAABAAAEAAAAAAEAABAAAAAAAgAABAAAAAABAAAIAAAAAAEA\n",
       "ABQAAAAAAQAACAAAAAABAAAAAAAAAAEAAAQAAAAAAQAAFAAAAAABAAAIAAAAAAEAAAAAAAAAAQAA\n",
       "BAAAAAABAAAMAAAAAAEAAAQAAAAAAQAADAAAAAABAAAEAAAAAAEAAAwAAAAAAQAABAAAAAABAAAU\n",
       "AAAAAAEAAAgAAAAAAQAAAAAAAAABAAAEAAAAAAEAABQAAAAAAQAACAAAAAABAAAAAAAAAAEAAAQA\n",
       "AAAAAQAAFAAAAAABAAAIAAAAAAEAAAAAAAAAAQAABAAAAAABAAAUAAAAAAEAAAgAAAAAAQAAAAAA\n",
       "AAABAAAEAAAAAAEAABQAAAAAAQAACAAAAAABAAAAAAAAAAEAAAQAAAAAAQAAFAAAAAABAAAIAAAA\n",
       "AAEAAAAAAAAAAQAABAAAAAAcc3RzYwAAAAAAAAABAAAAAQAAADIAAAABAAAA3HN0c3oAAAAAAAAA\n",
       "AAAAADIAAA2HAAAILQAABdIAAAQXAAAD7gAAAwQAAAP7AAABIwAABK8AAAFeAAABBQAAAmkAAAVj\n",
       "AAABnAAAAO8AAAD4AAAFbgAAAb4AAAD/AAAA6gAAA7wAAADmAAAC2wAAAPkAAALcAAAA6wAABH8A\n",
       "AAF+AAAA+gAAAOcAAASRAAABXgAAANwAAADPAAAEYAAAAVEAAADRAAAAuwAAA70AAAErAAAAwgAA\n",
       "ALwAAAMIAAABHAAAAMQAAADAAAABnAAAAVkAAACtAAAArQAAABRzdGNvAAAAAAAAAAEAAAAsAAAA\n",
       "YnVkdGEAAABabWV0YQAAAAAAAAAhaGRscgAAAAAAAAAAbWRpcmFwcGwAAAAAAAAAAAAAAAAtaWxz\n",
       "dAAAACWpdG9vAAAAHWRhdGEAAAABAAAAAExhdmY1OC4xMi4xMDA=\n",
       "\">\n",
       "  Your browser does not support the video tag.\n",
       "</video>"
      ],
      "text/plain": [
       "<matplotlib.animation.FuncAnimation at 0x7f41c0a3d1d0>"
      ]
     },
     "execution_count": 5,
     "metadata": {},
     "output_type": "execute_result"
    }
   ],
   "source": [
    "fig = plt.figure(figsize=(12, 8))\n",
    "ax = fig.add_subplot(111)\n",
    "\n",
    "x = np.linspace(0, nx*dx, nx)\n",
    "line, = ax.plot(x, u0)\n",
    "\n",
    "def animate(i):\n",
    "    print(\".\", end='', flush=True)\n",
    "    if (i > 0):\n",
    "        for k in range(10):\n",
    "            simulator.step()\n",
    "    \n",
    "    u2 = simulator.download()\n",
    "    line.set_ydata(u2)\n",
    "    \n",
    "plt.rcParams[\"animation.html\"] = \"html5\"\n",
    "anim = animation.FuncAnimation(fig, animate, range(50), interval=100)\n",
    "plt.close()\n",
    "anim"
   ]
  },
  {
   "cell_type": "code",
   "execution_count": 6,
   "metadata": {},
   "outputs": [
    {
     "name": "stderr",
     "output_type": "stream",
     "text": [
      "Initialization: 696.822166 ms\n"
     ]
    }
   ],
   "source": [
    "class HeatEquationGPU(object):\n",
    "    def __init__(self):\n",
    "        pass\n",
    "        \n",
    "    def initialize(self, u0, kappa, dx, dt, block_width=128):\n",
    "        self.kappa = np.float32(kappa)\n",
    "        self.dx = np.float32(dx)\n",
    "        self.dt = np.float32(dt)\n",
    "        self.nx = np.int32(u0.shape[0]-2)\n",
    "        \n",
    "        self.block_size = (block_width, 1, 1)\n",
    "        self.grid_size = (int(np.ceil(self.nx / block_width)), 1, 1)\n",
    "        self.stream = cuda_driver.Stream()\n",
    "        \n",
    "        self.u1_g = GPUArray(u0.shape, u0.dtype)\n",
    "        self.u0_g = GPUArray(u0.shape, u0.dtype)\n",
    "        \n",
    "        self.u0_g.set_async(u0, stream=self.stream)\n",
    "        \n",
    "        \n",
    "        cuda_kernel = \\\n",
    "        \"\"\"\n",
    "        #define BLOCK_WIDTH {:d}\n",
    "        \"\"\".format(block_width) \\\n",
    "        + \\\n",
    "        \"\"\"\n",
    "        __global__ void heatEqn(float* u1, const float* u0, float kappa, float dx, float dt, int nx) {\n",
    "            //Plus one to skip the \"ghost cells\"\n",
    "            int i = blockIdx.x*blockDim.x + threadIdx.x + 1;\n",
    "            int tx = threadIdx.x + 1;\n",
    "\n",
    "            //First read into shared memory, including the local ghost cells / apron\n",
    "            __shared__ float u0_shared[BLOCK_WIDTH+2];\n",
    "            for (int k=threadIdx.x; k<BLOCK_WIDTH+2; k += blockDim.x) {\n",
    "                int s = min(blockIdx.x*blockDim.x + k, nx+1);\n",
    "                u0_shared[k] = u0[s];\n",
    "            }\n",
    "            __syncthreads();\n",
    "\n",
    "            //Then fix the boundary conditions\n",
    "            //[0 | 1 2 3 4 | 5]\n",
    "            if (i == 1) {\n",
    "                u0_shared[tx-1] = u0_shared[tx];\n",
    "            }\n",
    "            else if (i == nx) {\n",
    "                u0_shared[tx+1] = u0_shared[tx];\n",
    "            }\n",
    "            __syncthreads();\n",
    "\n",
    "            if (i >= 1 && i <= nx) {\n",
    "                u1[i] = u0_shared[tx] + kappa*dt/(dx*dx) * (u0_shared[tx-1] - 2.0f*u0_shared[tx] + u0_shared[tx+1]);\n",
    "            }\n",
    "        }\n",
    "        \"\"\"\n",
    "        self.module = cuda_compiler.SourceModule(cuda_kernel, \\\n",
    "                                            options=['--use_fast_math'])\n",
    "        self.heat_eqn_kernel = self.module.get_function(\"heatEqn\");\n",
    "        self.heat_eqn_kernel.prepare(\"PPfffi\")\n",
    "        \n",
    "        \n",
    "        \n",
    "    def step(self):\n",
    "        self.heat_eqn_kernel.prepared_async_call(self.grid_size, self.block_size, self.stream, \\\n",
    "                                                    self.u1_g.gpudata, self.u0_g.gpudata, \\\n",
    "                                                    self.kappa, self.dx, self.dt, self.nx)\n",
    "        self.u0_g, self.u1_g = self.u1_g, self.u0_g\n",
    "    \n",
    "    \n",
    "    def download(self):\n",
    "        #self.u2 = cuda_driver.pagelocked_empty(u1.shape, u1.dtype)\n",
    "        u0 = np.empty(self.u0_g.shape, self.u0_g.dtype)\n",
    "        self.u0_g.get(u0)\n",
    "        return u0\n",
    "        \n",
    "        \n",
    "        \n",
    "        \n",
    "#Create test input data\n",
    "kappa = 1.0\n",
    "nx = 100\n",
    "dx = 1.0\n",
    "dt = 0.4 * dx**2 / (2.0*kappa)\n",
    "\n",
    "u0 = np.zeros(nx, dtype=np.float32)\n",
    "for i in range(nx):\n",
    "    x = (i - nx/2.0) * dx\n",
    "    if (np.sqrt(x**2) < 10*dx):\n",
    "        u0[i] = 10.0\n",
    "\n",
    "with Timer(\"Initialization\") as t:\n",
    "    simulator = HeatEquationGPU()\n",
    "    simulator.initialize(u0, kappa, dx, dt)"
   ]
  },
  {
   "cell_type": "code",
   "execution_count": 10,
   "metadata": {},
   "outputs": [
    {
     "name": "stderr",
     "output_type": "stream",
     "text": [
      "Animation.save using <class 'matplotlib.animation.FFMpegWriter'>\n",
      "frame size in pixels is 864 x 576\n",
      "MovieWriter.run: running command: ['ffmpeg', '-f', 'rawvideo', '-vcodec', 'rawvideo', '-s', '864x576', '-pix_fmt', 'rgba', '-r', '10.0', '-i', 'pipe:', '-vcodec', 'h264', '-pix_fmt', 'yuv420p', '-y', 'C:\\\\Users\\\\anbro\\\\AppData\\\\Local\\\\Temp\\\\tmpkkbh8uyo.m4v']\n"
     ]
    },
    {
     "name": "stdout",
     "output_type": "stream",
     "text": [
      ".190.00002\n",
      "."
     ]
    },
    {
     "name": "stderr",
     "output_type": "stream",
     "text": [
      "MovieWriter.grab_frame: Grabbing frame.\n"
     ]
    },
    {
     "name": "stdout",
     "output_type": "stream",
     "text": [
      "190.00002\n",
      "."
     ]
    },
    {
     "name": "stderr",
     "output_type": "stream",
     "text": [
      "MovieWriter.grab_frame: Grabbing frame.\n"
     ]
    },
    {
     "name": "stdout",
     "output_type": "stream",
     "text": [
      "190.00002\n",
      "."
     ]
    },
    {
     "name": "stderr",
     "output_type": "stream",
     "text": [
      "MovieWriter.grab_frame: Grabbing frame.\n"
     ]
    },
    {
     "name": "stdout",
     "output_type": "stream",
     "text": [
      "190.00003\n",
      "."
     ]
    },
    {
     "name": "stderr",
     "output_type": "stream",
     "text": [
      "MovieWriter.grab_frame: Grabbing frame.\n"
     ]
    },
    {
     "name": "stdout",
     "output_type": "stream",
     "text": [
      "190.0\n",
      "."
     ]
    },
    {
     "name": "stderr",
     "output_type": "stream",
     "text": [
      "MovieWriter.grab_frame: Grabbing frame.\n"
     ]
    },
    {
     "name": "stdout",
     "output_type": "stream",
     "text": [
      "190.00002\n",
      ".190.00002\n"
     ]
    },
    {
     "name": "stderr",
     "output_type": "stream",
     "text": [
      "MovieWriter.grab_frame: Grabbing frame.\n"
     ]
    },
    {
     "name": "stdout",
     "output_type": "stream",
     "text": [
      ".190.00002\n"
     ]
    },
    {
     "name": "stderr",
     "output_type": "stream",
     "text": [
      "MovieWriter.grab_frame: Grabbing frame.\n"
     ]
    },
    {
     "name": "stdout",
     "output_type": "stream",
     "text": [
      ".190.00002\n"
     ]
    },
    {
     "name": "stderr",
     "output_type": "stream",
     "text": [
      "MovieWriter.grab_frame: Grabbing frame.\n"
     ]
    },
    {
     "name": "stdout",
     "output_type": "stream",
     "text": [
      "."
     ]
    },
    {
     "name": "stderr",
     "output_type": "stream",
     "text": [
      "MovieWriter.grab_frame: Grabbing frame.\n"
     ]
    },
    {
     "name": "stdout",
     "output_type": "stream",
     "text": [
      "190.00002\n",
      "."
     ]
    },
    {
     "name": "stderr",
     "output_type": "stream",
     "text": [
      "MovieWriter.grab_frame: Grabbing frame.\n"
     ]
    },
    {
     "name": "stdout",
     "output_type": "stream",
     "text": [
      "190.00002\n",
      ".190.00003\n"
     ]
    },
    {
     "name": "stderr",
     "output_type": "stream",
     "text": [
      "MovieWriter.grab_frame: Grabbing frame.\n"
     ]
    },
    {
     "name": "stdout",
     "output_type": "stream",
     "text": [
      "."
     ]
    },
    {
     "name": "stderr",
     "output_type": "stream",
     "text": [
      "MovieWriter.grab_frame: Grabbing frame.\n"
     ]
    },
    {
     "name": "stdout",
     "output_type": "stream",
     "text": [
      "190.00002\n",
      ".190.00003\n"
     ]
    },
    {
     "name": "stderr",
     "output_type": "stream",
     "text": [
      "MovieWriter.grab_frame: Grabbing frame.\n"
     ]
    },
    {
     "name": "stdout",
     "output_type": "stream",
     "text": [
      "."
     ]
    },
    {
     "name": "stderr",
     "output_type": "stream",
     "text": [
      "MovieWriter.grab_frame: Grabbing frame.\n"
     ]
    },
    {
     "name": "stdout",
     "output_type": "stream",
     "text": [
      "190.00002\n",
      ".190.00003\n"
     ]
    },
    {
     "name": "stderr",
     "output_type": "stream",
     "text": [
      "MovieWriter.grab_frame: Grabbing frame.\n"
     ]
    },
    {
     "name": "stdout",
     "output_type": "stream",
     "text": [
      ".190.00002\n"
     ]
    },
    {
     "name": "stderr",
     "output_type": "stream",
     "text": [
      "MovieWriter.grab_frame: Grabbing frame.\n"
     ]
    },
    {
     "name": "stdout",
     "output_type": "stream",
     "text": [
      ".190.00002\n"
     ]
    },
    {
     "name": "stderr",
     "output_type": "stream",
     "text": [
      "MovieWriter.grab_frame: Grabbing frame.\n"
     ]
    },
    {
     "name": "stdout",
     "output_type": "stream",
     "text": [
      "."
     ]
    },
    {
     "name": "stderr",
     "output_type": "stream",
     "text": [
      "MovieWriter.grab_frame: Grabbing frame.\n"
     ]
    },
    {
     "name": "stdout",
     "output_type": "stream",
     "text": [
      "190.00002\n",
      ".190.0\n"
     ]
    },
    {
     "name": "stderr",
     "output_type": "stream",
     "text": [
      "MovieWriter.grab_frame: Grabbing frame.\n"
     ]
    },
    {
     "name": "stdout",
     "output_type": "stream",
     "text": [
      ".190.00003\n"
     ]
    },
    {
     "name": "stderr",
     "output_type": "stream",
     "text": [
      "MovieWriter.grab_frame: Grabbing frame.\n"
     ]
    },
    {
     "name": "stdout",
     "output_type": "stream",
     "text": [
      ".190.00003\n"
     ]
    },
    {
     "name": "stderr",
     "output_type": "stream",
     "text": [
      "MovieWriter.grab_frame: Grabbing frame.\n"
     ]
    },
    {
     "name": "stdout",
     "output_type": "stream",
     "text": [
      ".190.0\n"
     ]
    },
    {
     "name": "stderr",
     "output_type": "stream",
     "text": [
      "MovieWriter.grab_frame: Grabbing frame.\n"
     ]
    },
    {
     "name": "stdout",
     "output_type": "stream",
     "text": [
      ".190.00002\n"
     ]
    },
    {
     "name": "stderr",
     "output_type": "stream",
     "text": [
      "MovieWriter.grab_frame: Grabbing frame.\n"
     ]
    },
    {
     "name": "stdout",
     "output_type": "stream",
     "text": [
      ".190.00002\n"
     ]
    },
    {
     "name": "stderr",
     "output_type": "stream",
     "text": [
      "MovieWriter.grab_frame: Grabbing frame.\n"
     ]
    },
    {
     "name": "stdout",
     "output_type": "stream",
     "text": [
      "."
     ]
    },
    {
     "name": "stderr",
     "output_type": "stream",
     "text": [
      "MovieWriter.grab_frame: Grabbing frame.\n"
     ]
    },
    {
     "name": "stdout",
     "output_type": "stream",
     "text": [
      "190.00003\n",
      ".190.00002\n"
     ]
    },
    {
     "name": "stderr",
     "output_type": "stream",
     "text": [
      "MovieWriter.grab_frame: Grabbing frame.\n"
     ]
    },
    {
     "name": "stdout",
     "output_type": "stream",
     "text": [
      ".190.00005\n"
     ]
    },
    {
     "name": "stderr",
     "output_type": "stream",
     "text": [
      "MovieWriter.grab_frame: Grabbing frame.\n"
     ]
    },
    {
     "name": "stdout",
     "output_type": "stream",
     "text": [
      ".190.00002\n"
     ]
    },
    {
     "name": "stderr",
     "output_type": "stream",
     "text": [
      "MovieWriter.grab_frame: Grabbing frame.\n"
     ]
    },
    {
     "name": "stdout",
     "output_type": "stream",
     "text": [
      ".190.00003\n"
     ]
    },
    {
     "name": "stderr",
     "output_type": "stream",
     "text": [
      "MovieWriter.grab_frame: Grabbing frame.\n"
     ]
    },
    {
     "name": "stdout",
     "output_type": "stream",
     "text": [
      "."
     ]
    },
    {
     "name": "stderr",
     "output_type": "stream",
     "text": [
      "MovieWriter.grab_frame: Grabbing frame.\n"
     ]
    },
    {
     "name": "stdout",
     "output_type": "stream",
     "text": [
      "190.00003\n",
      ".190.00003\n"
     ]
    },
    {
     "name": "stderr",
     "output_type": "stream",
     "text": [
      "MovieWriter.grab_frame: Grabbing frame.\n"
     ]
    },
    {
     "name": "stdout",
     "output_type": "stream",
     "text": [
      ".190.00003\n"
     ]
    },
    {
     "name": "stderr",
     "output_type": "stream",
     "text": [
      "MovieWriter.grab_frame: Grabbing frame.\n"
     ]
    },
    {
     "name": "stdout",
     "output_type": "stream",
     "text": [
      "."
     ]
    },
    {
     "name": "stderr",
     "output_type": "stream",
     "text": [
      "MovieWriter.grab_frame: Grabbing frame.\n"
     ]
    },
    {
     "name": "stdout",
     "output_type": "stream",
     "text": [
      "190.00003\n",
      ".190.00003\n"
     ]
    },
    {
     "name": "stderr",
     "output_type": "stream",
     "text": [
      "MovieWriter.grab_frame: Grabbing frame.\n"
     ]
    },
    {
     "name": "stdout",
     "output_type": "stream",
     "text": [
      "."
     ]
    },
    {
     "name": "stderr",
     "output_type": "stream",
     "text": [
      "MovieWriter.grab_frame: Grabbing frame.\n"
     ]
    },
    {
     "name": "stdout",
     "output_type": "stream",
     "text": [
      "190.00003\n",
      ".190.00003\n"
     ]
    },
    {
     "name": "stderr",
     "output_type": "stream",
     "text": [
      "MovieWriter.grab_frame: Grabbing frame.\n"
     ]
    },
    {
     "name": "stdout",
     "output_type": "stream",
     "text": [
      ".190.00002\n"
     ]
    },
    {
     "name": "stderr",
     "output_type": "stream",
     "text": [
      "MovieWriter.grab_frame: Grabbing frame.\n"
     ]
    },
    {
     "name": "stdout",
     "output_type": "stream",
     "text": [
      ".190.00003\n"
     ]
    },
    {
     "name": "stderr",
     "output_type": "stream",
     "text": [
      "MovieWriter.grab_frame: Grabbing frame.\n"
     ]
    },
    {
     "name": "stdout",
     "output_type": "stream",
     "text": [
      ".190.00003\n"
     ]
    },
    {
     "name": "stderr",
     "output_type": "stream",
     "text": [
      "MovieWriter.grab_frame: Grabbing frame.\n"
     ]
    },
    {
     "name": "stdout",
     "output_type": "stream",
     "text": [
      ".190.00005\n"
     ]
    },
    {
     "name": "stderr",
     "output_type": "stream",
     "text": [
      "MovieWriter.grab_frame: Grabbing frame.\n"
     ]
    },
    {
     "name": "stdout",
     "output_type": "stream",
     "text": [
      ".190.00003\n"
     ]
    },
    {
     "name": "stderr",
     "output_type": "stream",
     "text": [
      "MovieWriter.grab_frame: Grabbing frame.\n"
     ]
    },
    {
     "name": "stdout",
     "output_type": "stream",
     "text": [
      ".190.00003\n"
     ]
    },
    {
     "name": "stderr",
     "output_type": "stream",
     "text": [
      "MovieWriter.grab_frame: Grabbing frame.\n"
     ]
    },
    {
     "name": "stdout",
     "output_type": "stream",
     "text": [
      ".190.00002\n"
     ]
    },
    {
     "name": "stderr",
     "output_type": "stream",
     "text": [
      "MovieWriter.grab_frame: Grabbing frame.\n"
     ]
    },
    {
     "name": "stdout",
     "output_type": "stream",
     "text": [
      ".190.00003\n"
     ]
    },
    {
     "name": "stderr",
     "output_type": "stream",
     "text": [
      "MovieWriter.grab_frame: Grabbing frame.\n"
     ]
    },
    {
     "name": "stdout",
     "output_type": "stream",
     "text": [
      ".190.00003\n"
     ]
    },
    {
     "name": "stderr",
     "output_type": "stream",
     "text": [
      "MovieWriter.grab_frame: Grabbing frame.\n"
     ]
    },
    {
     "name": "stdout",
     "output_type": "stream",
     "text": [
      "."
     ]
    },
    {
     "name": "stderr",
     "output_type": "stream",
     "text": [
      "MovieWriter.grab_frame: Grabbing frame.\n"
     ]
    },
    {
     "name": "stdout",
     "output_type": "stream",
     "text": [
      "190.00005\n",
      ".190.00005"
     ]
    },
    {
     "name": "stderr",
     "output_type": "stream",
     "text": [
      "MovieWriter.grab_frame: Grabbing frame.\n"
     ]
    },
    {
     "name": "stdout",
     "output_type": "stream",
     "text": [
      "\n",
      ".190.00005\n"
     ]
    },
    {
     "name": "stderr",
     "output_type": "stream",
     "text": [
      "MovieWriter.grab_frame: Grabbing frame.\n"
     ]
    },
    {
     "name": "stdout",
     "output_type": "stream",
     "text": [
      ".190.00003\n"
     ]
    },
    {
     "name": "stderr",
     "output_type": "stream",
     "text": [
      "MovieWriter.grab_frame: Grabbing frame.\n"
     ]
    },
    {
     "name": "stdout",
     "output_type": "stream",
     "text": [
      ".190.00003\n"
     ]
    },
    {
     "name": "stderr",
     "output_type": "stream",
     "text": [
      "MovieWriter.grab_frame: Grabbing frame.\n",
      "MovieWriter -- Command stdout:\n",
      "b''\n",
      "MovieWriter -- Command stderr:\n",
      "b\"ffmpeg version N-76278-gd897d4c Copyright (c) 2000-2015 the FFmpeg developers\\r\\n  built with gcc 5.2.0 (GCC)\\r\\n  configuration: --enable-gpl --enable-version3 --disable-w32threads --enable-avisynth --enable-bzlib --enable-fontconfig --enable-frei0r --enable-gnutls --enable-iconv --enable-libass --enable-libbluray --enable-libbs2b --enable-libcaca --enable-libdcadec --enable-libfreetype --enable-libgme --enable-libgsm --enable-libilbc --enable-libmodplug --enable-libmp3lame --enable-libopencore-amrnb --enable-libopencore-amrwb --enable-libopenjpeg --enable-libopus --enable-librtmp --enable-libschroedinger --enable-libsoxr --enable-libspeex --enable-libtheora --enable-libtwolame --enable-libvidstab --enable-libvo-aacenc --enable-libvo-amrwbenc --enable-libvorbis --enable-libvpx --enable-libwavpack --enable-libwebp --enable-libx264 --enable-libx265 --enable-libxavs --enable-libxvid --enable-lzma --enable-decklink --enable-zlib\\r\\n  libavutil      55.  4.100 / 55.  4.100\\r\\n  libavcodec     57. 10.100 / 57. 10.100\\r\\n  libavformat    57. 11.100 / 57. 11.100\\r\\n  libavdevice    57.  0.100 / 57.  0.100\\r\\n  libavfilter     6. 14.100 /  6. 14.100\\r\\n  libswscale      4.  0.100 /  4.  0.100\\r\\n  libswresample   2.  0.100 /  2.  0.100\\r\\n  libpostproc    54.  0.100 / 54.  0.100\\r\\nInput #0, rawvideo, from 'pipe:':\\r\\n  Duration: N/A, start: 0.000000, bitrate: 159252 kb/s\\r\\n    Stream #0:0: Video: rawvideo (RGBA / 0x41424752), rgba, 864x576, 159252 kb/s, 10 tbr, 10 tbn, 10 tbc\\r\\n[libx264 @ 00000063e35e8de0] using cpu capabilities: MMX2 SSE2Fast SSSE3 SSE4.2 AVX FMA3 AVX2 LZCNT BMI2\\r\\n[libx264 @ 00000063e35e8de0] profile High, level 3.1\\r\\n[libx264 @ 00000063e35e8de0] 264 - core 148 r2638 7599210 - H.264/MPEG-4 AVC codec - Copyleft 2003-2015 - http://www.videolan.org/x264.html - options: cabac=1 ref=3 deblock=1:0:0 analyse=0x3:0x113 me=hex subme=7 psy=1 psy_rd=1.00:0.00 mixed_ref=1 me_range=16 chroma_me=1 trellis=1 8x8dct=1 cqm=0 deadzone=21,11 fast_pskip=1 chroma_qp_offset=-2 threads=6 lookahead_threads=1 sliced_threads=0 nr=0 decimate=1 interlaced=0 bluray_compat=0 constrained_intra=0 bframes=3 b_pyramid=2 b_adapt=1 b_bias=0 direct=1 weightb=1 open_gop=0 weightp=2 keyint=250 keyint_min=10 scenecut=40 intra_refresh=0 rc_lookahead=40 rc=crf mbtree=1 crf=23.0 qcomp=0.60 qpmin=0 qpmax=69 qpstep=4 ip_ratio=1.40 aq=1:1.00\\r\\nOutput #0, ipod, to 'C:\\\\Users\\\\anbro\\\\AppData\\\\Local\\\\Temp\\\\tmpkkbh8uyo.m4v':\\r\\n  Metadata:\\r\\n    encoder         : Lavf57.11.100\\r\\n    Stream #0:0: Video: h264 (libx264) (avc1 / 0x31637661), yuv420p, 864x576, q=-1--1, 10 fps, 10240 tbn, 10 tbc\\r\\n    Metadata:\\r\\n      encoder         : Lavc57.10.100 libx264\\r\\nStream mapping:\\r\\n  Stream #0:0 -> #0:0 (rawvideo (native) -> h264 (libx264))\\r\\nframe=   11 fps=0.0 q=0.0 size=       0kB time=00:00:00.00 bitrate=N/A    \\rframe=   21 fps= 20 q=0.0 size=       0kB time=00:00:00.00 bitrate=N/A    \\rframe=   31 fps= 20 q=0.0 size=       0kB time=00:00:00.00 bitrate=N/A    \\rframe=   41 fps= 19 q=0.0 size=       0kB time=00:00:00.00 bitrate=N/A    \\rframe=   50 fps= 19 q=0.0 size=       0kB time=00:00:00.00 bitrate=N/A    \\rframe=   50 fps= 18 q=-1.0 Lsize=      29kB time=00:00:04.80 bitrate=  49.1kbits/s    \\r\\nvideo:27kB audio:0kB subtitle:0kB other streams:0kB global headers:0kB muxing overhead: 5.205509%\\r\\n[libx264 @ 00000063e35e8de0] frame I:1     Avg QP: 7.73  size:  5168\\r\\n[libx264 @ 00000063e35e8de0] frame P:25    Avg QP:13.33  size:   721\\r\\n[libx264 @ 00000063e35e8de0] frame B:24    Avg QP:15.53  size:   173\\r\\n[libx264 @ 00000063e35e8de0] consecutive B-frames:  4.0% 96.0%  0.0%  0.0%\\r\\n[libx264 @ 00000063e35e8de0] mb I  I16..4: 85.1%  9.5%  5.3%\\r\\n[libx264 @ 00000063e35e8de0] mb P  I16..4:  0.3%  0.1%  0.0%  P16..4:  3.7%  1.4%  0.3%  0.0%  0.0%    skip:94.2%\\r\\n[libx264 @ 00000063e35e8de0] mb B  I16..4:  0.1%  0.1%  0.0%  B16..8:  2.7%  0.5%  0.0%  direct: 0.1%  skip:96.7%  L0:42.5% L1:34.0% BI:23.5%\\r\\n[libx264 @ 00000063e35e8de0] 8x8 transform intra:12.5% inter:6.2%\\r\\n[libx264 @ 00000063e35e8de0] coded y,uvDC,uvAC intra: 2.5% 5.7% 4.8% inter: 0.4% 0.6% 0.5%\\r\\n[libx264 @ 00000063e35e8de0] i16 v,h,dc,p: 87%  9%  4%  0%\\r\\n[libx264 @ 00000063e35e8de0] i8 v,h,dc,ddl,ddr,vr,hd,vl,hu: 43% 16% 40%  0%  0%  0%  0%  0%  0%\\r\\n[libx264 @ 00000063e35e8de0] i4 v,h,dc,ddl,ddr,vr,hd,vl,hu: 16% 25% 41%  5%  5%  1%  3%  1%  2%\\r\\n[libx264 @ 00000063e35e8de0] i8c dc,h,v,p: 93%  4%  3%  0%\\r\\n[libx264 @ 00000063e35e8de0] Weighted P-Frames: Y:0.0% UV:0.0%\\r\\n[libx264 @ 00000063e35e8de0] ref P L0: 78.6%  0.4% 15.4%  5.7%\\r\\n[libx264 @ 00000063e35e8de0] ref B L0: 81.2% 18.8%\\r\\n[libx264 @ 00000063e35e8de0] kb/s:43.74\\r\\n\"\n"
     ]
    },
    {
     "data": {
      "text/html": [
       "<video width=\"864\" height=\"576\" controls autoplay loop>\n",
       "  <source type=\"video/mp4\" src=\"data:video/mp4;base64,AAAAHGZ0eXBNNFYgAAACAGlzb21pc28yYXZjMQAAAAhmcmVlAABthW1kYXQAAAKuBgX//6rcRem9\n",
       "5tlIt5Ys2CDZI+7veDI2NCAtIGNvcmUgMTQ4IHIyNjM4IDc1OTkyMTAgLSBILjI2NC9NUEVHLTQg\n",
       "QVZDIGNvZGVjIC0gQ29weWxlZnQgMjAwMy0yMDE1IC0gaHR0cDovL3d3dy52aWRlb2xhbi5vcmcv\n",
       "eDI2NC5odG1sIC0gb3B0aW9uczogY2FiYWM9MSByZWY9MyBkZWJsb2NrPTE6MDowIGFuYWx5c2U9\n",
       "MHgzOjB4MTEzIG1lPWhleCBzdWJtZT03IHBzeT0xIHBzeV9yZD0xLjAwOjAuMDAgbWl4ZWRfcmVm\n",
       "PTEgbWVfcmFuZ2U9MTYgY2hyb21hX21lPTEgdHJlbGxpcz0xIDh4OGRjdD0xIGNxbT0wIGRlYWR6\n",
       "b25lPTIxLDExIGZhc3RfcHNraXA9MSBjaHJvbWFfcXBfb2Zmc2V0PS0yIHRocmVhZHM9NiBsb29r\n",
       "YWhlYWRfdGhyZWFkcz0xIHNsaWNlZF90aHJlYWRzPTAgbnI9MCBkZWNpbWF0ZT0xIGludGVybGFj\n",
       "ZWQ9MCBibHVyYXlfY29tcGF0PTAgY29uc3RyYWluZWRfaW50cmE9MCBiZnJhbWVzPTMgYl9weXJh\n",
       "bWlkPTIgYl9hZGFwdD0xIGJfYmlhcz0wIGRpcmVjdD0xIHdlaWdodGI9MSBvcGVuX2dvcD0wIHdl\n",
       "aWdodHA9MiBrZXlpbnQ9MjUwIGtleWludF9taW49MTAgc2NlbmVjdXQ9NDAgaW50cmFfcmVmcmVz\n",
       "aD0wIHJjX2xvb2thaGVhZD00MCByYz1jcmYgbWJ0cmVlPTEgY3JmPTIzLjAgcWNvbXA9MC42MCBx\n",
       "cG1pbj0wIHFwbWF4PTY5IHFwc3RlcD00IGlwX3JhdGlvPTEuNDAgYXE9MToxLjAwAIAAABQsZYiE\n",
       "ABD//veBvzLLXyK6yXH5530srM885DxyXYmuuNAAAAMAAAMAAAMABiMSN/6H8XjN/AAAAwAAtwAY\n",
       "UA0Gf/iJ4jMBRdGRMIgRQVcECMmAm+90yhnopj1of4pqLAAEfk02tDqSPs1xNCrq2xiGRRXXBtxZ\n",
       "0vsxjFLCJqpjMlZEt6VJuW3lYwQ6yBP9CUn5n/NqcC556v40OBtT6QBi5VeXzg2astuOIlSc+Z2O\n",
       "GpAqTgmktY3CGF8pzfxwFA7ny9W1Z/kXPa5Ngk5BXMpwbEED0L872mGUcp0ssilSSxe2KCTQhFx3\n",
       "2d/Xy7pxgc40fNWAAAAxqAEAAaADxAmYUFdq7AcPzHrNTfbLuo3ovOEz34bEH3UV0wSjGZ8MmJ8l\n",
       "ceslz94oAc4fdTAu0AFO+SMhzOo+kNM2vXVInVNByqk+bUIT1J5jNXlGdOKHOIOYLT+7cW0AAjoF\n",
       "SAvAAAAw8B6b/mIcRLg0jAt2jpo7Lm2N+FYbag3aLlRu3DDhqrjkuZXlW8dojdO/hBnsZjc8oDlk\n",
       "5u4C8PHhmHnlvAllci8UdlDyO54WGCRVkdpf8uLDP2Od6QShA7upoohYK3m/iGTSrAAAAwACBdIA\n",
       "lqDItbVJ/KqAKtLIwqZjDsiOW+366oJv3ZJSFLWEbzEi4jEhJdoHrzUzsa7gmopNeBTr5yZ0FtVu\n",
       "Xx1jafNfHTelzDb6f/48QHdKqRHYv2qDFvQWNz9/xpGKrj9yEh/jxOrACYTHxrKBMvIfOFYIXknz\n",
       "DqjqzC9q1pFap1R3F8ccSzcwPMOvRSlyA5P5NWgIkdCkCqFgsZCiltJUcp1AQ/vdAPvR3Q1wdh68\n",
       "6mdqHvxWoEoIExfnYSFxfflA+fdLxBlPMU2msZ6UtnuMmbtIgGuVMD6kfHmJ6BbK53HyK+cmrmM6\n",
       "XIvwU7+wxy+cLBxOJh7zNbXn30b0oqL284N19JrFEMyVggjtqt/Q++bO1nBzFFMPxKEeuvGtUe8c\n",
       "zGEXFcCf0JqlEWeSxIHo9IpfUdzNOrQ+mtw46johqlCQ+ewmJY3L0WCYOnHqlNf0vRav4Jj3/yVd\n",
       "8TOpJOakKV8u6mQgRVGJZXETVX02BcgjRAnlzfVtn3/LVPwgtoD/T+iUrbONPZKjFLrCMgZs2AAx\n",
       "Hnmy6tAslpDIv+8mxMVHL4EGGgB7VEeNyQBltSxAnPISnSzD1OBnaHwD+aLAaaS6td9UTNmDWpPc\n",
       "+Qs9J0DeebOBa5rVtFEdF9B/OFYt9CNRGKSpHnrFtitILbbBw5WE0NihWziEPoatsfgV6xQGPbOY\n",
       "C7idQzOrqg/jECei7lGqwb7FxuQ73SIUNXuNd7exCPZo/WErssKH7Zc6DxZpygmFK13LGkc82JLY\n",
       "pw5v3Vp+a9dtJ0xGuSD6YZLiN+EU43AuLTlZfGyLUTJdqkr/U5YD07mU/1aDJBAr4h5fRXChhuNx\n",
       "f034KA2r3Q/j7H5lPAgTKtvA/+252CAgvifuoW5qyiYYnspN05Dljqq5EtLHWLdRuiP9xkNRMgqG\n",
       "mCOMmrRQD25atUH1/8D4O8lX1KEue8EtfjPZS4fPjiUC2AAZivoJ06yWx6ZE/Xwrlp3Rcmp75gmc\n",
       "3qxlBxfDLfo7vTbm/tPyCSyT5FIBAuHBZinEIxoW/ZTveYOg0r6wk+FkdmV18bo2pgt1/kdc3wbX\n",
       "Z3DSFWC+d0da8irII+qqLK+Rz02goh7hVDRkFTygowAzCVcrL+9E4bag7jYnngJZ+QZbDyrzBRkj\n",
       "iFDyCdmJjcFHi+/YAAW02ovET3yMcMNTHb3/g3v8klCDldwFz2KMGPJrSt/3v1Jfa9a84TaTIb2e\n",
       "e5X7kK899UCeAAKlGfDGkNevycVTH2tVbOeHMpmd7rMTg0v97uTIlLsZf8cpPp3nJfFzLYVTQWc7\n",
       "hZ3wicz5797yqcrTuvsZiNGg4DamHeRIS5liKgVgI/Jvfng9Lpw8s6ls+K1H24s9lfZVPgvm8xmp\n",
       "oxC/EB+ARd2Jz3L8VnoBnarCcDiH6H1TTIVBR93i7HbqPxewVK7OnpNfdWjXwnr1030SsUs9voTj\n",
       "+/vL4eLLc7CUe0Q7JNhQeqCBiRKrEZqqTIAqxdkHG+MnRslTABYXAmzJRCPYntXh9Aj/QewV2p1a\n",
       "Cbo+TAIpdX+ZK5YAL/h5llBb257+ySYld9A3Nh4QVgFJXggjQBs9dSvJkl11l4cQJs+ctHZyxzT+\n",
       "oWFSxQfCwlYUkSplUnr8V7lKiH8tnsVy7cCO/mfLAfzROs+ozUx42iQYnizWjV2PLiCPmWn9nan2\n",
       "W1mWdkyUG5EuGFRynPko+O5b70kFbn2qGpfuTjNT4JUm36MMdiekiadv9KByoevzxOckOcVN6nty\n",
       "JV4AFRtx6/ty5iaw1hufTK8FBNxAxDYGLE/myq3fyNLZqkywoNUxwSvWvRSHo4OETCV7auhsi5Du\n",
       "iK+4pbuXNrNpiAND/24kUWmUoLoKSGLxy5UsLDHPn/47he2wU8fFaO1KUo9lOh9J/hA+OH5ZP7o5\n",
       "pj+/c3sVDqUHSb+PS17s3C99js4g+i3JgqoxS3v85bWt+HB5yCy7QbsnbUKdpdKU7KBv2YwRoakA\n",
       "26VPzPlmoTvB+wO72Q+KZ50u4Hzx795elawQD7T8SAh6kVPZbJ32xNgaadbGbUFVQln0yazxb+l7\n",
       "NQ+Fw2saqzxGhMqPHTHem3WtBpn9pKfraOG6Z0mpizGrjHFiIdqp8w5QzspxuZRgsqD92luY7Q7p\n",
       "QS5K5fsYyRiJPHzlF0SnP2/sZtYxzQX657ED54kp9dSfd8RdCqyZSBchT8OwIdo2GER0vKIk/8sL\n",
       "wpIrD4tGYQQZNTiefb2aq0LZvgsaHrLmzm9XxwS3K43FP+iBkGYHBhiztcVSpf9vhN/pPe+K4W7O\n",
       "JKnbxLyiD6bQAGaCJI87ObhvXGHXGHhMXyRjaMI4IrssuxdpYE1NRaCKxZmM4NI0I69WJS8HKu9S\n",
       "PbT4gwTHUv5LfbnJ3lUG+5/5pIuPH1kb/Sh0S7z6/muVT8pg6uDO8joWEeRxh91g/D05cVyenrqL\n",
       "+/6CCJw17KLlqJzA+gz5UcuTeX30uCQIaMRJn3NsOsz7Fg/jn1gtV36te/lpWYIeNTk88J67YsA1\n",
       "DQYe3VdMy5131eAcaSyYX+IxKkk/nNWMCa+pZIfhmKMIv3ZhZ2gWXjSs7knxrOKOW8Pp4b5KAHIE\n",
       "bkGBw+WxZUfZkQeM+hEOCeTrNopMzuJzyAUaY2tPal03D4a/UKY76g5W7ZDb9/5ZoCcP3QMbX/mz\n",
       "y4Spx3/3+LTtNMwYB6cQD68rLP4q0ygBRH0i6lxQpuYi+Q642PNKyLolM7aE8EvHC3SHBVmmv/eD\n",
       "b8rLF7w6t5yrh+f6We9Aj1SONGSPZJ3aoTNWmG672M83N3oVg2jbNKiH/mjBvJbKG0tG4veK76by\n",
       "0akVkMXjqVONf+QoDxp4T0sHuwW0tJd5LUrphPBkDXcGzlBVoseSWen0DB3pj04Xo70LLOmj83oT\n",
       "oeBUF+twFtmnm4zAWVqqbmMJnrAPZuN84rAP4axmgwUY3WD9WlHUiqYFc1+SfBeT6BUKDsvg69so\n",
       "ieT5tOK2uuDrMNZL1em+bDve24Km+uHSsGJdv5IWkjx111xJjvEl5u8CFqGxYK+TM6ihsPeHHpoZ\n",
       "clLhBR6nTeQifzqvvQgsGm6FN9VeNl4Dl7M0CyJkggGke0emuq1gCOlvBhLEmiTcLDspAnPStEHn\n",
       "cgQ/wugD5Q9TNiEkq3LXhbmslcuDrYik4Z8EDerQ9ztY+8eDL+gcYm/pPovh1CPJvJSz/0wtUTLk\n",
       "Wj/dz3XgSREDSR+ZZ0F92SjWctlurAjXl/TeZLx1T1a1cScFYDBAD0CbO3joAvIjMdnH2S4be6gz\n",
       "zjTYJcB9j0zXGwmWsV8iA4hjALJphCUyNitfPz3hKvcey+Ij0WvAe6aCF7xVdOlPjhkEzdsB0e6V\n",
       "p7HU6/Uo/m9WgU+nRhE6Ig49coYLAqemqxGHQoBeetbd3A7/+uZO6oU6N/gpcEAa2m08OWtV12cN\n",
       "GL9fYNdIpzdEkNooqMnIEyGDkcRGm3cijmIVfIJFmtMwD20kTSaJYfjunETHlw9opgSLrzkoLcrS\n",
       "7c1GuKgkdVOqs8T+PBixHyl7nwIu10FuAfo2RK589QsVQci/eQ/sWTGr6w04vdrDHsumTqfJxVjJ\n",
       "lSgQH4nkiQPv1/LksJa98c3/Ps2DDjPI6o5wsNOjmrPfVC7FVNFpBdVHvCLfOO+Ll+hmqZZW3TG/\n",
       "Z7IfkCAn9DEMGh0bt7kuk9t1zOgNnxCK4/2Sf9/l65oQTxOp6xW2DeMGxqp7GXyoPtyVIl0gl+AO\n",
       "wTbM/5UJvbVuy7yUflak1LW30jCZ+5owDz94K4ZaHIThpIAYm3Ul5HRpQBiyHK14GE+n4yveIW3h\n",
       "tb25Usdby1gvGczVjxpnHF6ZWJXfQwpPR8jDwuMsSyVsZPsjPtTli6DD55nezNxharNOWRDeR3Qr\n",
       "Yj6fZSUc93x8t9uhEj5xbu9yh4XXHuttoG1SjiDoZ+gn7JQqjtFMD0qwEaiznVz/jFOMF9Snp1UW\n",
       "qLh3XWzVh9q4xBteT97lPvEE7W4nSpIBlSgWAHLtPc+2+c7+UDgyyzZYjyX8dwPtXHUAdr1Hy+Vc\n",
       "P/PjjmHlzYadHAzaHgn2pvaNPWgfjgihN4JvKhi66ObWqLtUIN1k2XZsxXONiaTdIuQhG/UDgElN\n",
       "MLybf+GhdHsZu6GaqmkGHJPK3oh9iJVqILuRegs2VchEfL7vXK8I+MRiQZeUBPPGmxG1dZsFVmlo\n",
       "8SAS+IMVU5DeAU8pLrfK+x00lZVuGqfrcnskQ35kiPSuymHib40rLrgaFHmECllbXKCttkF6cGJi\n",
       "aCV6WysriQUiXof3UMTphauGHu5p4vR67Iy+adDoOEoA7yMioSdXI3+aQCHbdq0Bj982apI6P2pa\n",
       "rRNLI9H4MFTDYwX/rc4KYa6zYkTjvV/3AP+RnGFQTkkpz5CKjIfqumN2SE21Jqsa4Cai6L4tCUWP\n",
       "1Fi+Y4L/hKWwiapOv5OoQAWk+3EYpHvv4U7P5S/o+2Ip4rhoin+A3TnUp4hC96O4IZZjv3nzCh4n\n",
       "yLiNUApDsSU6meB4L6q7Qbf9sL7nf2Zqrq+9lXwOwO1rpgQ77ZFBpDn3sYxf68AQAT3mKg86vKCa\n",
       "shqQS5xgORCsR9XJ/USar6I6Q2VV6kjN5T7PolrGd7OQWz0TikLV08tUOPgFRMqWcGKhuR96TtYD\n",
       "Wsa2xSB8fM2f08ByEmW1MnU9Ru8gEqVffXAGYXRsBWGi6PdDV1Na0rXQgw2h5K5gTk3mUEDIJ3pT\n",
       "3R3VLh+sgHvABuHbnEHKLWSZDobAr2X0KthBkUJH/2uIomODJVqzA99OertFuQMInPlPTRthUm4I\n",
       "IYgwB6BOkuuvY+iFF7vF67Te0cvWuuqciL9u9Jjtc4NUVyeMgAXzgAVzWDKchp7X6iUCtNk37S5a\n",
       "+3/gz4ATycyKsUondg0Cs5HSgkP1AkJGykP4snaI7LA4O/XkYy1+pF1bREMYh8BR8pmKPrxrnj7Y\n",
       "NyDi3tN2JLZtB8Cu6YrAUz/+WCOcdtO6No/r3HfrqM8HP2FXi9VY1/7EtFUZJZRxBb5Eg6W5cEZm\n",
       "bQ497EqlBXpmHkeVQo0Be+K6xcF+YO1nc2WXHWwwRWG5RsPlkf3Slug7l6wNcDRg4K1RIgN1ENYJ\n",
       "A2XI3CMqdLm+JAquWifEMZNsGx4aDnLV9StagXiaDY39R6VFcgZXW+8HmX3tDtTuJWXfZejTJfdt\n",
       "eobPIe/uz5SIk+iA5JF8HKvNZz7eh8hhOXWO+JtB4NAnldhgl/LSekRl23egFCc2zL8Lkv3yj5VF\n",
       "h5RIhLjPsz/mEhtk0Vo5T/j6HuvrXFJjGK2kCuqTGHmH602m5KQ8gZo8unclFZz6eS/RNkL/PDqU\n",
       "m8UGmL72pFq8o3J0ucsyhL/fcRnPaBlGj9rNvZI37TDjy6rx2UQUKy6dKcziUg3j3HiiAtPUebsC\n",
       "B41Rtqj2KvXohHDWhzad0NllCZiq3t7yd356xjCy/ERBnOOZGO5zr+QHiOq1B1G9urTHli5NIKmX\n",
       "2U64J2gwB/4JROH72OPAonUdq176bgPEEEEHn8ch6TBekPpzKm4JeV804uL6IsBodRGN0jaTAulF\n",
       "09/0a1Ffv2EREy8C5asbAIuC6H7tjTVcCIChnLNvze0ezGmAqsLGGuh+0QqUoEdRpEzmVlbtVlSH\n",
       "9pIKXgtbyNSNjEJQiUzBih92louUzHFRpicpevFnWfHxy5ZGK2eXKT4XX8Hp8L3pjWfvZuwpmSQT\n",
       "uicZ7oRt5X8oXRshsa3vAbbrXLPVASradTFka7NcrlgxFxyP1ZZxHg/Ns2kT/ajJs0BFyHI566xT\n",
       "CJc/e16EkvHRMBqwe0O94upNI9DyUIyhTX4KTq/u5qTUp+RwqGDKSqSob4Zei4e/V9WubSGxXYcK\n",
       "7m3YUsGpDLk+G8OpRXW47Sa0vPur10RGR4HexoRQVdR3jIsPSDTQnqMPeu2JuTPHZRDQZkidJfyt\n",
       "gQJG+Gbra4uZqZebSotYxi+bQmwBMCzaEJpMHZAyJWbH/Fv3ZT/+NQ7mM14DSjscvytDXHt82SA7\n",
       "pRqfCp+1fWIsSz3xjoRFsvYaK6DImGc+UgN5jg0PnG4/PG39RR8NeuWDbwbiWOUI1K196vfiDjTW\n",
       "LtKBy5abqoYxOU4Hhyfy17yeEppX24PHJPplDc03HF5iu4sjCWy4XyXc6K/bsXOaludMNeVDtY3V\n",
       "4JK7Wex5kC35UlCZ+j7WTCn3mkULs/FdmFNoxoM7sE+LaadTBVxDEieZjj9uMYxRddccQ/uN75BS\n",
       "/aJSp4y6a1ZKw4sAAQnpy3gGlIKAAAADAAADAACKgQAAA5hBmiJsQQ/+qlUAANRlmYBSbhK//8u7\n",
       "/v5yxL/zfsPl4wOxGmcgpcAAA6PvTexLBih01ngMhuGYmcO9DjzJ/8ABiWhrL3isWjQt/v5gBdm8\n",
       "YhTgppyPZ/80zLFm7i59r8wk9OVcf2pz3KM1VpHlV0nE+eeLmtzqpQgWA+Bz8ipiBWyFy05Gp5OD\n",
       "/QpuBgCB9PDGhiHE6JaK6q15a47Lmn7V2PO4Kmxb3UJLIkB45QKI7YYeaVfF6r7Tm3ZJNP3bu42R\n",
       "y98zAgRk4WVfNw66CdjltRFHbp6FOoNC9jrabYaN/RhPR8XS1nCiffAF9mwr688dZBGuF4c6yWYd\n",
       "mzWcrI26/OCRwKojUM1QKfQkHOE9hS6r+Ua0h/36Gxb2p+O9wLvtLeePkgOl/QdtBtOzyjKhdmsG\n",
       "FwFHkZD+FKGa5apTlj7bGHTBWNdf4qkbly5t1ZqrYiapqqD9KYrHmJLut/4LD6/Ieki5d4CFF0m+\n",
       "kuUqP/GphaTWaXQ6KeKlzEh7QxK+7HFpZ+5w12+wR8+i+K6stlQP+b4h/6WKH4NYax68jGAOobDV\n",
       "PuynZM+LDQA78/yz0+rU8IVYxcdKUrIdokYHc72kDE/uOctqRPB6dY9OUmMgq6oJA/EnM5M/0l2v\n",
       "lXMMREukT65+tKzQxCr+BADoRU0fwZ0nKYqp2ZOwj3sZm5K+5D/d6PY8ksHP7gJq9Pw/oYhmgh6Z\n",
       "+vT51Bdmcis3SqjMy++wSi/988Ny1E8LvP5lA/MeXVXOJ0WRw4+gVveIVaMzGvXH3mpRDorLG9Vj\n",
       "azPgzS2TX16gsnnHiHtaYzIIjqFbSVoHOvT+m11Od5bBoQFJBIUu5e/phnr5J6zItmE/4xnIpxxu\n",
       "abNl0u6cg8JgOLoMOfsyTZ4p4S0P0Q76ZEEbvlrAnkgzYRmy6t0tbSsYPmsnyXuywOQ2Valy/brf\n",
       "GD0VwrAgiXo1WTD0cza4Na/p7xyos+CIQZf2mED/jZTL9T/d6L/qkCTcp36S8tc8Z+E/tiaBwd60\n",
       "/Yey9pZDFRNldgVt6MwOH+3dYs7qfZLbNX1gLayhaAt0FBenE++1Xr5EJs0eQv2GtxPWX03TYEMa\n",
       "S8kRICvTAVlawgwTj49bEOcv1cIfvKIHHAqiV91wwTIRsZnyX3q4c4U/ac///agdgw0fqEJxZiFX\n",
       "W01dh6WrDNbQmPyNaV13PdGDIPPgMCvhZCCTuva1bzy5UPhew4nt9/dN4AAAAKsBnkF5Df8AAksZ\n",
       "sUAABdzmDCNAqoLd9QzCGqU/a14Sr+9ulLhl4T5HRwj043B64Q7JJiuFY6nrK3LE7stGe9dRX4FC\n",
       "4H5Lx6DKdVR19n/S0RbwC7elmKjQr88q1vqi5sc2oS7OSOEnTnU+R3WQHZ0mofD5LxMm+6EKp7JY\n",
       "GHKLmRbkOsIQZey38LgKye1IIa2JeLRtJIYfuMsBsjhtxwEEOQ67jcwMCVKgEXEAAAMSQZpEPCGT\n",
       "KYQQ//6qVQAAAwAAAwAer3tNCKNrXevOme+A8U1/GvtdXyJDfnEHuYM8xodl8zUmH33TtauMmYgj\n",
       "2+t3vMYP7LYAiG26dVyv3Ha2oeN9TDdVHRcuwCTgiPyFf0bOAn3vL7+6I4tsvOq01rsAwY79lZ1X\n",
       "U4XIjlJYpTaSEkFR/8d88pWJiBax3DOtwQQ//snzDNPGDfyLvnfGOUSEYi5wjF3NwDVEH/gDylu9\n",
       "JoPFybRiI9gZMwZhdyZNKweGUr6V6wsuUgsNdFGjn5CgCU5S4X0WKEijNtFnMo2Y/Uwdjek4Q8sv\n",
       "aFZIScgHmGuAZ3Stcvv56BLr2FKmODtfpRiKHiDHalexgXxXy8ac3echjROsVKyey1aXAeJR7ww5\n",
       "V8cy6z0svd6DvvuLdrF8/rc0p5l9KeI9XWouaRBl3GsnxTzPOUpjislr5Rquab3NNmfRvwsNIonw\n",
       "IEBWjQnjcI9zIKtArJyHiKJGm9vibtQTjyrQFk4aK/tVhdMIWMuuzV2n56wjo9P4sI6eUzIWwV/J\n",
       "cd/LRTTHs60khp0pVCaTaB8Es436l9iMJpgul14rT2oTsxtFBWlwk8SbtJ9OAFkuIdZcUIVpHpvB\n",
       "8gcjxP4ybNlv37tR786eCCZfa5xdepVYtqOgH7RsTlUlPHyw9WHEZnAgvyElmIR+Az5ScOaAj+36\n",
       "A2QLrzrlYNkV4Mhs/CLaAErRAYr8BClTmp//Cr/I6m5YWN9A2Ym4V9fuNSD30lLeONWPY4U6noBd\n",
       "OwxYm0e4pawNfNPnAhAc+b20obSBvc2KIsJf2vX9lR2vuZ2eF5TVaqNJoDJt6HEpTrv2CeoiwjZb\n",
       "wcIzfSTLVwIK9yBVzH+mm3keUBmrigkTdF9H/S6N6PTlB3sZ5Wuv1Dc2gsGe++RZzowjuxgvQoty\n",
       "n/+XZVlElEIyvltOM7qHSmLbmjHfBUSO7YiSCIImSa8RC6javEBXxeiJuj3/k0vbCDYw5/qtS36m\n",
       "N4YTFBDCw1T2pFUGQG29mxiMIQnJvuNWGN46neCpi3YxDDDQSDhSAAAArgGeY2pDfwAAAwAAAwBU\n",
       "E7++CzMt4EZCiPg1I64shlQ2qWNajXX294wt+O6e7crha4H0kcMU9jPohWEIDuGressQbA8wepLV\n",
       "pmebvDvLq/AvcN96Rn4/PKO8a8/8gatnpgy/2j1/WHyY//7kjjkf9QP+mxo4yETRF7PoPEzTvv84\n",
       "enPiYN8dolEQtwxi9aScYJlWMo/JqLCu1Ynv9cLgKPEEtKeCLy4M4lmQDtwScQAAA4hBmmZJ4Q8m\n",
       "UwU8EP/+qlUAAAMAAAMACAGrbJcRO9GBvgBunCH7zPEx30wZ61hneXm5D4WcRAMqN4xg2gfWPy2H\n",
       "7yW7s++UbiGuntxaOkgiRws26srLNelUtc1nBJbgd01shbLu0lYHCAUeZ3id0PdpWn+AkoF/7umd\n",
       "3DvxVDB+GJ3/0jfySVs0OGb6sZeEaaTt5YTX3HyPDq9+OSIGfvls6PzGgOE3Yfc8i3EvtJJf0njT\n",
       "SXObwbbmFBwD82tYbCmNuxYLELOanRZukzTobC+/j5CwfG8k+oPOL5vtdl23h91pr8Q4VPlsZnkT\n",
       "J0NIc8atrjRHc6vu5bXT5IpPJJ5LcCvDuoXIBdYpmECov8PWeCVW+bwKDtg3N5JIESYBKM1eIVG1\n",
       "5ehnVnvqwXOtyxOB19H3dFkzXNBf7AsCaIX0V1CSGsQcTBk8aPL6ObbRJLnEz7rMzW05s8eUhBPi\n",
       "EME+9dXNS0jj9wzSdksWLqk2EIc7tjSin5/yy+Cvx/PXGKo9RWH/T6mKgdwWRoyBmkD5TlV+br2g\n",
       "E7ohkW5L9Lxykccmdojzu1wfb9iro9i2Op+s/U7IdKqVSYbQe68pMFNW/scJ3MRXjAr+DD4yfdC5\n",
       "3ayy9o+srAKVqgip6oKOxXL+abu7kRTNUSMr1q0WrE0Tzu6AH6oA8ll/aBKxGtvXWa9IP6OxJPFv\n",
       "7NhLFZ3g4s2KJrxmGc+fc41OqsMvzIdxUIM8SzO0pAX8m5JmA8so8rT/kWuKUs2+ufsz6Pqeh1cU\n",
       "FoFp9Lh/qD4WsLPmcSe0Qd36o9tLtpGu2zJV/3CqhBbRZVSHPNqicyJBp9D7gPH6U7FpZg+THJeN\n",
       "+D+iqNDvGZzd2QKwk5mExIeIiB2S4ZdmoYvcyNT1QolWR4D1/O0Ba/ORhk0o+pAmrNoYxsLF6za3\n",
       "/bVCeMhL3PnhbgGu0djmwMNCjvX4f3gsSGgN3s4LUgO7v1DNRJrO8sioa1eKOg0POtgAJfqemFH4\n",
       "uUpLqnOwJ1msBY24XVtwCu7WseBUPgt/zpzNjJlOJ2uX7yIN+zrJ863PsEMKG/uoj+DOGAHedXXk\n",
       "alUbupSaCr9RKufTYnnPwcUlGr9Uw3deTnNueBI65O+xE5UbvvaNe3/TrW60ChdJtBvhjPgQoKeR\n",
       "aAzZFQxf//yNbO48gMF7vRqISkX2a7Tvdw8M496t4u+75lQrd1IBn9qBAAAAtwGehWpDfwAAAwAA\n",
       "AwAWt0MwE50HKxUI4EuvxiMLgBbUzOt95oxq+c/ULI4Ar3MfwQUXJJaNOONNARoN39H6n9LYFQfM\n",
       "w0j6//OiyYn/GAekBcDsBip6qT+3lcAYU1TnG3h4I2OsW8AAO9AIlFMsH2sUR81P3yU9NLhUUYod\n",
       "jhMrpJAAf6s3LZ6qkUoxQy/XcVhv5GlZavECcCDYG3tMHK9MNYrc3mtrQygxGvopomBovz0bYXC7\n",
       "gQAAA15BmohJ4Q8mUwU8EP/+qlUAAAMAAAMACA/NSjLJZ1f9v972Ls09jic7PmNw7DVSGhABXGMF\n",
       "9vqGyh1I2KNVdLULf2MZXCzftNrTwnzCN5zAERq0NR1sxtZ9zq5fEU7TkOB1zUykWF4daTOUydR7\n",
       "wNbtbYoc/chz6brSJlbcWX8V6jBeasCJuDVGuUyo13hYpkAMqOYG2XJBOMkJgkoRXSF5fNpR78xq\n",
       "HSldLsZcNqgA8zI9nBX7VVVRd/7pt+fiAHNkRsTttMNu7RWgVGOCjVJ9uR8lE9jBYCneEpDvnuyx\n",
       "wV59VGBUWMQpnVy/v2vEPuzAuKz7rpTvzQBOimDYgiTyLQkactiq5Ze27F6YyB4w8L2xh1gJqD+2\n",
       "0PtKrV/8dT0P+b+fCov+wjFIRcXEgCxmdA/vq9pFR8HOr3OF9WpaEeYlgQezP/ecjirvBnwdwCzz\n",
       "q+bS0clhYE1/AfEd5Uk/4YRG1mos11EJZGEhQK+U0yqXcYgTM3kXsIwcSiWbY/Gsqy01Bz1PHGUO\n",
       "3+lITUPFHszP1//4pGDVvvpl7kShP1VQp3SWQMuntQBqze5DNo8CCDH0dCb08l9gfx4rHrz62Dhz\n",
       "M7Ua7M+mNQLikLFtIcOXgzGd1VjtNCN5QodVTwv7XztyqUatgGEajHKQQ5MGwEnpXN9cXpT5DY1I\n",
       "Mfi17wWpDTRPRQmRDRrHFCvcn4HRTEDBjY+q7ui59XDixupRprOKGGP7zJrtngyolN1/H6eaK5TN\n",
       "U1uMKULSG8DHVIYIaVNaHzztrIt1JAevKZWjkCpNtmls6/3mauvxVWkSiTHj80jO9UKyzZ2EQonr\n",
       "x9Vtybibg7UH7VBciymMb7qnH8gq95td6w1d1/GodEFXD2ZNEL0RMHqdGbvLOgiWvxwjkLcO0hSh\n",
       "o726zOPW4nqSMsfMuWETrDujLOB9U1NdzZhl7MTwsNKlLFYOdkQWZfE5V2AmC/HrR9LIEDnDU4Zw\n",
       "xXUdkSekRx5WwRt84yjOv/CPrRWg+LrwyMlxU12wg58UmhK14Du5kPFZbPA7Y6KnOTOFRbxxnGoD\n",
       "zYgpEUZF+m074jB4STOsW0kpKPOV+QOYd7AypAAD5nP2JDokaSnqnMKMLvsHa8nbGKNycUywKPuv\n",
       "OZgJKkeDZnrSlRfZAAAAxQGep2pDfwAAAwAAAwAWtOCfCQVqSWFnm30t4ARfd6+rPQdVv96UpAFG\n",
       "3xIEj3S4dyFJSH5ks1xtDLPAtXa7+MUQRM35eU/+OHD174dkx1tAwp34zU2+jk+lqLkC0u+6z/LA\n",
       "2y/Uw01JCgqIjLNCjQRXRHjXO7kiFa6UXFEaxz3fdBw9R/C+vxyzUvx3xSRth+HPxn8cDzW8SWvY\n",
       "LCfU5qXJHjlEeMfyFUz6Pnp4vFwAAgEnw7G6hiH+pmnieSPCul3T84TcAAADh0GaqknhDyZTBTwQ\n",
       "//6qVQAAAwAAAwAH0948J2IAZ0HFqWZYED5imCHNcGUZw7TNmPrzwF90Gx+zeB1KAPxUf7B5lytL\n",
       "yGm34u7jrwONmwYFqBodszU4JcAtKKNNye7cZzBBpzw9mPoO7q5fPibALd0zw/KWz74Rbm1XYWlW\n",
       "5hB5dMgD8az97yeOMMzz8PYyrEODmhUFO5mn5bGvOIiHFw0iawGhgIuh4l3ue2ipdCErezP0hsJ0\n",
       "vgQzfviec6DCDrLtFryLrbu4nuwJ7elTRmxS3zO5doBt7hSeLQOxyLpuvj/NHNP4sm7YCLN4GRg2\n",
       "ZRzoaCfXVfR5b6matSIvmf9SlcWALa6o5PDNm1E9awWmRfOCAJsQQYFsHor8ocxYFd/dkIlEASDv\n",
       "PU9jor9/o33byzYlaOMNwm0DlLItxkEeSoZ4HE38g1QBd/6/of0it2nvzmBWX2TT9NyciXo3cx6t\n",
       "EYSsB3DJOlMjV59xI8ewzJ59tZXitI0DQNAYTW7z7xGkudZn5CngqoN6hPaUlw1Ch6HcgWi5cJUT\n",
       "ewoHfwkkOf60W31TMBkId7rYLH7h7ovs37KTDH5XADsvbSROqvHtC4Bl0Y/bQAppTdmtwnrRQo5E\n",
       "f49GtF47CwYLSr0JiRSQ5DPHRsbcmOkV+1v6tDp5IhSnrBUOuWMJQSRjyhMKxfIHxHhx2QuxObfO\n",
       "TQwQmvBuj8xFVE1vQB4ZZrZjyFjZNbY7IoJXxqEHqFMUwfH9A6O941gLEvdX0HPMmhOtuXDi6GYU\n",
       "Ks/21BAZE2a8q0gwGYZBP4RTc3VDpF1myGpAlrmJ2YnugxUR/fT9hzQk9jWIi1fyaL3xEPlToCH/\n",
       "5ccisUn45wjoZ/vztFTN+t+QLgU1gJiQCM0/fsL8P5asiQwxfCayPQ8z1g/SmtvSWOF5SogInlS6\n",
       "EmmcqES78WQ0MfdfuvUC9z1LfwL/HVKyA8rFwEk+0z0T1HUzRsPkJRbI3oyXl8FURAl5xrmggA5y\n",
       "oTL4dM/QS3avQMOgkm4ljeL+pZr5F4iU+LdADfIXWc3NNVmh2IylIfOphlX7WbrYTLdQawQPvhWg\n",
       "eP4oZeeCrLSxli0jRy3Dnxi9nLglHJkcmQ/u4inaSs7yM713aNSnY9dIv9qBIjeHRjfEZFcX2n2d\n",
       "iZft9jlzlMB2EhzK8sBalhzygGIkPyo1k2b5uamJxPDX+/8m0gAAAMgBnslqQ38AAAMAAAMAFhzw\n",
       "/I20L0KJXGoAS1QAAJXToyqfJ8//iKoJ635TIF3DPuKRec5SN5p7oJDgcqEvRNSimWQrlwFUk50V\n",
       "PzL61lkLtj725p8pkGhsoNvDEnbgcwH7eqhgV7glBkw/FAWzQ9Ka8be134XlQ8ugEzZWUNsvXofJ\n",
       "hU+I1nuoL6Eg+plhxM03pB+/M9RPiHjyB9ADOi/Dfqylya5n6Qmjlde8+HowGitDqEVT444gHfr2\n",
       "MPlj+tqdXtVBEtxbQQAAAzxBmsxJ4Q8mUwU8EP/+qlUAAAMAAAMAB9f6ud7wqYbwsevRABQAMY4L\n",
       "hwjww8pQT3d8PXnpyRuG61HNSCdETxnmitB6J1TiWcXFIB7MluiedOZ17qam1mFGxhWrfxUG7m3F\n",
       "BHb+FQ4vu9+eBghfXFd6NNN7/2ED3c8IUBJFzccM2jfgQ8TDn5MGtIKjw5OiYT+0iXAj8UAFByBL\n",
       "MtSh89Nv1Jjc8Bm++dX5gTb+jllyuj6dugUxxbz9FaVN/2Y1EQ12Hz0c/B66f03qfjUvqVOXGfdG\n",
       "VcwBGS1mi4jvsBF8Nwqb3ndK0R/nYCbkOXHF1CXrRBrHLJQHMrFxVDzBhy6UAws26RLrLZoiWq3f\n",
       "mpmJWMS8ZJGNma6atxf7+cR5wVTHtZq+LSyk9KnXFSFYvJf2N4A4Qpm3PRo3sYpN1GXpRY+ekrCF\n",
       "aC7MDKXtU6hwbSyoGoz+RLyImSYF9WrDJPFNRE6e0QpAMC102SQvNqp0rMeUEd2FYv2ikjZ0MFCo\n",
       "cy+jqa7jC8O8fnKSGld1AoAtcTReBRHrElM8YD2h0xXFCpoyQNrT6r9H+poSerxhe5GgHBcA7rJ8\n",
       "p/VVjo4XWZe2ifp8tRE66hq0GRbJCEz5MvQiM1lSIRWyeRdG+Mk4iF61EFN1rI3HNX0qMAV5zcEW\n",
       "1UG8lkddruoPPjnAIG7c09ga9JCbKJj0s4ogB/hZYDV1u/a/wgQKMMkMxxNQABL7Y783NKxjnPFq\n",
       "RRoXTbm9RAah+w60n4pikEVhl7twLig9E0tj1ryIc+mDHmnIMu7X7Oqqr2/yy2ajiOEKtfp3cdES\n",
       "p2CKSySIOGmBnz3lYKC+milxDbL+HWaIWztQe2f36Oyu96n6wqvsRVc6ygOCKEyr2421rWHcgRup\n",
       "8zrP8B+NwPlajR+iIgMYxlZ00WZK8T8eIchPqlkOECh6WVxOhT1jy55FzBLdCffIz1cEGN9QYJ6Q\n",
       "7fx5hluIpnPc+HWVSFHsatly8+VIlcjnwHmjV6UwPy/lPiTKE8T+LjYHyaRRhOXMGFuNf0sX41MQ\n",
       "VAJr9pm5djBW31mc4uW18ClPLFdWl9c18euQnU3pyC7PYy/c+6SY8foX/psRywwAAAC3AZ7rakN/\n",
       "AAADAAADAFDsuPSimb9YePbhAAub4N/q1QkexOh+ytq6NRwpVHv791BBLh5SA1X+T6M3nykCfbZG\n",
       "GwzfoZHj/WlMik6zJfk7YfKzFHa8nbZjs45y58gMyIzFnsN9PvMXWac7x9d33zbQMnR09YozuU8Q\n",
       "IQ9duZdjm3zaQfTHVx4LG2coZmTORxZ1Nu2xUqO2FCEyCnwV1mUgQNFNtnImbgkuuSv67RLxJW5e\n",
       "neNMGAUkAAADHEGa7knhDyZTBTwQ//6qVQAAAwAAAwAH197RQvW/n1rVsx5t/mW7uSCfjIE1AUT8\n",
       "EvPdq/jWpoOMflLVs74LxMMbNAXjs9u7wgy215CFuIRtc/IansEU/MZyzAi0VrTMO/agP/fGJHZh\n",
       "iZE08ppehZcL1Hc2+ucKqdshdVQx6fcvw+eVhIUdLb3L/hBfsSkIxVCJMS1/ppyePAIp+VRY5y1e\n",
       "CcPTs4d5+b9GrF9NIBygK57xN7u4IvaJOInc3fyUHhHfKLhcruvHA++J6so29IjaZbNiIK5ZodOJ\n",
       "t1zMyjsVxrmMwIJgUVawWBUWAOTE5Hcn3T9qQxmRIfGM7sWNQ24snCR+LPJqHp3RlbLsWV38sos6\n",
       "q0Epnx+20PVgZBibqGxxATIluJafECY+1d+oiob0QPFlmp/pIyaSLx9Tp3QPNfYeu4NKb070q/7L\n",
       "hcBQu3RJkmWM7N+Jt2q77yb9xTvxvoHWtSzIKvZ9HapLDyGNSsNo9DomqYWi/Qh0sIMQ03SYJ+8b\n",
       "GjHeGy/Nwi+9hYPX0veOmylm1pd90Agt587gOV9CLL7cNpO/2ARfQvZ8GIDjMuUcwrY6iTdHl7yL\n",
       "FkO+04Mxks7gpHchMzq8IXdChAmiR6AJRstHaPdDlqq2wnzXpbvgPCUh+FQJq1cOwiwreHAIcdvp\n",
       "/+fwTx6omoueSLOxJM6UuHz9hi/Reua3OneqzdvWSxFnOMKKSkmM7SRVfilt6S6JbekrcO6qY41E\n",
       "y4pkEIwqLjP1m2iU5/gZa3QxQnO1uW2kL2NXNKLopB0DfAiiIwwiSVdsleb/LpdBcUFSEWo45OV1\n",
       "AB3bWv1qS1EGJDlye6sUeoMpAkG7PXdR4BwndCfhVWX1j4JkjRyOpW7iUSay7Grq8TtJP81FcA+c\n",
       "guClUIewEYa0p2YTK8R3VSP4PFKldN75/rutyI5dxb3wqH6GfigD17OV7CcnWCh89UMdbTFoTqkT\n",
       "6kPudb/suPrn7iyv/k3XkWRBt65s4iXsekbgg64jBygB1VjO2y3QwHFHewO9S4rnYZaP9uupzYDK\n",
       "tFWFry7FlIEAAACtAZ8NakN/AAADAAADABWU6QD7k36DVXxzTclQOoNTvwvCTHMFM/cMJlvkduTT\n",
       "WkynWXAEStVkZJX9PRlwfJB2G1QMFNZxDCKpNrPtUr4jQf/jI7W/eqVRC8rIr2MiuE/9D6uheSJq\n",
       "4kf/1o0S3De3FgQh2HThyaDZYU3yrxTCiLfiESmwUhbuMxzpmO/OGHoYEo9fQEKIBvhbmaiyam+9\n",
       "HbZFi1zJHPDS1x59AYsAAAOTQZsQSeEPJlMFPBD//qpVAAADAAADAAIAbz4nYgCb49AGXV+C3PTJ\n",
       "N3B9ajuGvNDmMFr6DggejceCVoAXQeRpf3Ztn1imOFiWGvxTZttePTiQjOXY38Rn3WhZGspGLGRs\n",
       "wxop3Cu1SH0agFGXfFS1bcDENBMu+q3jraB3Nh45x7k4xb6RnZ/pkBnzQlLKnzznlVrLiq7dEDaw\n",
       "cyD4tsmF0qfI+fozWPeF1WtwTfoA/XvQrlvMXyknz6z9FfRNjt/6OvG9uAqCuj3D7N++XajAVxK/\n",
       "vzRFpLWU7u6ym9XYWpg+CSwCel4Wni4UfxIn9aRXAO5qi3WoEoqTZuaXBxPt8Eb6wgf+H1BJDIzN\n",
       "fYLQKvTB3V/azBHQhoVsNaOxmHfXpbF0X8fzdF8kC6VEhKTOyUEkzHOIjZ/jr4pfe63YMgw3iGmw\n",
       "+8K06/mW5VEGaZNt2Xd5uOBCY1Wr2PnDsfMQARTuyYlW+fN6M3ajKtQJ85/ZE498SFyrXR+B4p3y\n",
       "+WK4notAW1UIypDK+bxtS0uaaSBkq5cJ5ys3qAZ9Ta8lGWxnPhVjOMzeBDl2N64vkjIN39Z9qh4i\n",
       "BK+qnT7cXIFEVaUEJD5mckoxZILs8vjaJYD3du+hgAijpjIdpsJ9H9c99QGaSYoPXgVnO3sre8JZ\n",
       "8W3okBiBi3EU2cP8hXpJYZMiTl4eyY6Tu1UEDbpmviIaGgMZibt+09P7OjBJAs1XQa07Q2zkYJpO\n",
       "pkOZ1iSK28MNKNIIwTVbJfiR8WFzRrMtzwhCwuqMvq+sALRu/jeF3VgZwVb5vNGGtRDTxvjTJC1n\n",
       "9SuyqOigBQKhNCHq/LiY+7TFlFTE75oDJhiEdRiPfR4XQGp0fu560u1TQUyvGN7oWeiKCmmo17uF\n",
       "zfpw4ajFWBvm2DGA55wW1iOSZWP/YClkLhGGM4WvX4VgKJLSIEy1hSx+IBgjqtpeVCdnrBd1L0vX\n",
       "tqkjSPHzrp4wkqha+Upa/x+Kq4rfqHa60Oz7QNN8fBrktxFIqam8wVJpjlrF/uvphi33mdtpm33/\n",
       "TG/sFwAP+A9iPvqM8cssBjOp8tfO7hhC/gnkV0Rye1dq14HR4j8V/lNNKWlPETTfFLdKiY+ZyDHa\n",
       "YBkFgXegV99dRTYHinnxVrb/l0QQ5vyazAoQIPGBRlxiLL4eMAASFuyzlKBZLd3gN4V57Rxbalch\n",
       "WqiB7RyqOaVu6hS+fDU2qfftrLwJAAAAqAGfL2pDfwAAAwAAAwAUOy4+TzRrHq1nClII2KDCdGAT\n",
       "oxgtRz3lNiPt180iANjyQXAVjmA/CXxdctFIxArhA8DcSalZzaPNIvKp98C2PQ58W6zYIWRCgFMN\n",
       "87GXqUF2J/50Q18DzcpAEP5VP+eYSf+9fTjuunC1BKefC6hgH8BGbSPd73e5xrx6A0jC4cBSi2+w\n",
       "ADKtm3fhB8Mu9OY5NLk6ZqD0BAAVMAAAA3pBmzJJ4Q8mUwU8EP/+qlUAAAMAAAMAAhPzUp3ylpDB\n",
       "9aG8zLwC6u4HdmOzViyfZu4MgVvNaq3Wv0DgOqZeHqMmoHjkESAwMpvxA60k8YrS+bj9a3AGvHty\n",
       "XrhRIbgWYqKov/1NSItMSQsiqROvwkOF86NnQS7EiYGUhDaDXh2VJnv0jIXANi9Mj+WyWEB++aAx\n",
       "XdWGzRujp27dsz8DbgCSyioVoi/yLie69h5GK7Mul64y32FKnWTNG1CfeyWfICLvqAxnX7MLKByu\n",
       "SafPHZiLxs4o+VUHSg5l+C/rQYnEbW9BWlU3e3q8TQ6vgyfEc52NGntv1k1oDFn6g3d6xuYDbJUE\n",
       "dNFu0sf3DFNOBz49GpkshvNWKgG3/x8YYaOUFV/cJTAbozD1hGobfIk5GZ9nyrn2jUz7SFFbQAKM\n",
       "yJ7+XDR44TZCILGHcgaHUmE+yrgiiuCqM1VA7mYMDgP4gfLObj9gTSoHn2FLurA9zawC7hVJ7VTO\n",
       "X0LhjUVJ8knyJxPnhAIpZk8+zxftAraPo7YHxag0NNV7kJEoFYmpGNJWep4VKcCBOu5Bl3dGvSwg\n",
       "6IY8k4mbm0MZuVoTcKBWkXs5YXGa8mWeT/fqbpoPAmeDRCCj/SEzOqDT4Q+4eaemOlF2cGsHwcTg\n",
       "VI0pgrt/6LdEYty9ALWboywmdeRpu2QBgnixnAwFHtk9WRWr9lkeY1NsSVsYPg1JfY0BnshjtTqb\n",
       "GDIBvXw+PtBuMdIz7IxFZrit/4bXA/5U/gG2rm5t/Z8a5bNks389Bch+7C2Y4jv/y1IxJB8hjeBM\n",
       "VBTU6PEc8m24kooDpK5ZInqh/zbJkaXeDYYMoM3rYM2/TORgsXAxEHbFwJ9/cHyWRhyPwY+QWhWu\n",
       "e7MVcN+ig4KDgknG4IbQfW8NQdIAmJ8JNjABeZEJBbB92pF9avB13UsDT70GlAw+YVtdZ/fJ8S4j\n",
       "k1llyLEMM6zcXwan/UvwjGCZ3QqBWruYQgjSv3FZTpdjSrZ0TwpozZjHjfeBk5KAyAG1BhjkCCdt\n",
       "//p0FjXE279D5X2iT7zQRU579PxwHjM1B0sG2DUliVVo3WV4aPMTJbUZgMpnv54D+jpCh5vnenjG\n",
       "WlUzOZi6dGNPTOy74hND0njmCps53F9IaoAPgO/7/FRIewsxlapyunqBuvUoEi/hWj0gjw0hqi3/\n",
       "YbT60AAAAL0Bn1FqQ38AAAMAAAMAFZmDP3wkFjQhM9YatVg6nQRACxN91bIfZznCF5xF5yi2zYV4\n",
       "UmaqYHbqPdxu8ULzjrbqBTxnTv14yzKvNv9FBcnihMHrs7bZ4ZX2MZJDYOSOTtDPsdi7GrPBbfdr\n",
       "c6Hn3SC6lf2x7mEyIFKG+tglGf8lelryJFxRUh8nLc/TRoU6QKmvLQiZvddKfFF7R88vMmIOEpS2\n",
       "XAzqTJ3fSuL6KGh7FAW9dKHhYWoS1VpAd0EAAAMqQZtUSeEPJlMFPBD//qpVAAADAAADAAdT3th6\n",
       "3KDVSMEXSYH/XmWAJDkSMlfNoYvjViYAS0d5DPQ8bitbDHwzDdRhaKW2uG0s0uTN4GHklp4Uud9d\n",
       "yfCht8kxpGz64FcvsUA2lZicgwI1+ZO2KcAZ9R+qoEDSywLq3WukONoycisq8osD4Q6B05fm5hJl\n",
       "4TuYgkN71mKR2mbSpok0U3zbcuBGMs/DVtabHTCuRLLQZSTnU9R37wNX1aa+gBfEIlgQ1CTD+D2b\n",
       "oKmlJhCi+aoUZA6NnobgVcKfeHWqzbPSio2r4pDmUPijMOBXQjrMyZuT6hBywYJoPMxRE6ss+Wez\n",
       "ip+7Zrl4zxk3LaTC2qg0kPcvmO7Gyi/E+wen50IPcLZyW4rPK84WUbx06CAMYaRBO43kMhLwNaAQ\n",
       "1vVbge7HLSuyfpBUR71NXX7i92x5hEj3mImt1jgVJiyd+ItZ2NJ9F0w9ziONCVqh1M9+VCjycdbp\n",
       "AGol+2uuKjmw1sNbuOgikQsLT91ruXH0ZYbP/V5b2+rfzGbWENQkmrNbYqKIqhpm38ioX4we4Rs9\n",
       "v/jiDNvG2PhU8/TXSPOGP49T5x2HL+pLKRZRhOhdKUfE6177cYB4OpAJEJCLdJQrLHk7B85nG9Qn\n",
       "wN5eIXwxJIxUKfObK6MmlJrKF4pJONYBWgQ2BiU7eRMDYkmcDXYotzSmlf8D7s0CutHQyo7x1X24\n",
       "4BD7RuOaMLFGV7IpvdaBl2Sr5pH8eqAG+qMI21wQ6EkQDzTlAahVpHoK0EvhD98aTbfDXLdo37u4\n",
       "WdeBydu0tlXSgC26Y+BcvtAEmH2Hh7Xid10u4cSzQyfPVNozKZy6dyVRSe+fw3CM0lIeGAEGUzTC\n",
       "SFsfAoct5a+/TNMURvk0PbFYemw3ViHwFP6RL0PtX6krC5VQygB0h60viccphLvfRdpFMGwPnLhX\n",
       "Hbkd64J3Krnv3MkGbnzK7JA67YCpz/dStfUw2z2R1hGgXj24xlnaYZLLlpraaeEELCaLmQxeozcU\n",
       "Yn1cw173bHEAVnLAektwj3pv6Qh672AWtaThdWai6yw9oEdZgURC9sa2AAAAswGfc2pDfwAAAwAA\n",
       "AwAUdO/5RY5JeY9dWTZHC5Q2QAIxALbk7t7Y3WvnWVrOVFFfrklOmk+decsuVTYvCZaROEUM/9ZI\n",
       "wrXn+QOknEVIuk4H3wyAEahZWX8GzJR62uY5SeI25x8ziBQTHfmTaNGmfAc3a6ltxwmlyY7PBaKe\n",
       "o7POCAZmkGmjnBRouvAVtc1fz28kUbFvm7fKRZYgMpEPhXpoXuEILZx2/1cuggqdS4G60oKmAAAC\n",
       "+kGbdUnhDyZTAgh//qpVAAADAAADAAIAm67z6LqPCm5e4+S7CrdqjJfQPv0v1UQriEBicSirq6PC\n",
       "3MoNERd17khwGxEumagw3RH+Xx0lu7zZ6zxWrj1VV83lWgtt8p5y5GztYng8EuVHMG9Ys2eQMWF2\n",
       "BAJzWOfk02SO8Xeb5HbD1pFaDbWcUS0pOlz70EcDbedb/CiHsl81kLCOx5Q47ea0WnbHMpTPhabZ\n",
       "vsKydWng46fAl5ZD96AceAhFszxsdBaH5R+DqmlR1BSD6PuFb/wfTIpsn7p/D8vsQK95k/8e0xVX\n",
       "sPchlLJUrJ49EKfly9B2D4st+aYSqX4kp+JrI4slUY8rqTIxQDUU9NqafcvaWoAA/sWbDX+OyDGU\n",
       "S7J9tC53ZmCfdo0BBqs3+GDEwYIQGOs/XNxFlc6wYor+CO06Pz0ExoN9R1EjuExNUPvmy5zEThxG\n",
       "/CpUSn/sZfaTaEJ4U23Mn4g4eaZmTNWFyMIOAakdddTfJJLxyVKCp3O4ulUzKqmqalFWhrB0qV1A\n",
       "B4cRq/8mdxpsMxrRCMJqsTg9IqpnmK8V0yeGHNmWo+c/XTF+nCw12W5SW7J4uDdudZ/CXYm9wIuB\n",
       "BRU01pzSwj/434jK7hK3oLN2gaOneg8a2+A25NKW3+TifnFZSjMGpbJkYvx2s1l/oHcORS+Dz+MX\n",
       "xGpvhge5q2G+iJtXKd6dFD5rrs56s+p+ohHkKGx65Ed5mo88IDrneBP3CRiybfiXaJpv1l6GY4IL\n",
       "/dHoN7+sCqseArDLCUrmcXbYmblGohdNJxp+1KVbd681VfG8qGl6vnALSuR0jeLsNbdpQyi72zP0\n",
       "HVgOKh0hPMfOK2y0Z38wAIrJCNrxq+e6FnXq4p0cTOmIDsAJzMyxfiM1eM8fTaS+ZFDKXsf5d0hA\n",
       "mIB6UfJV0D/w/3Gg7JrleEq5CCySbxwZ2qBa9qVvITrn1lob/lg371bSpflrThMUposUcUBzNJXn\n",
       "8uPzSWM+oonz+FIY3oCEewcymXYY5QAAAx9Bm5dJ4Q8mUwURPBD//qpVAAADAAADAAIAvux3ZL0L\n",
       "dSWQADhqatz7svtMIDm4GOw3D/KBQ0rQEavynhYP9VZGSYfPeOtLfWth8jQVly2btoGiD66cOizF\n",
       "BxHZUDMhRHHmXzuSit9ND4ITuq7sSLrbvHFFBmfAOj5+RPHM89l4zE9sLoW26dQDB/M9Amn+Eegu\n",
       "OBnSAL/EA6FAsChf9oupj2Kyf5dRAO4KLhwwSsEBose8JOdeZVjkkxwKjFdgnATlTvnVNXbdN4Ai\n",
       "8JOY28YjwTKGCR9vxWg45ap6tlXSzLjVDvQuU5/TTDry3c1N+kCOHigTScBAw1rJGzkVgLzcFE2C\n",
       "uILlhVbP/hENiev9H9dRbzr80gFN2WwAUQ+NL1vpBX1P8bHiyxb+QS+vubAFjpFpGVgzcqH2WEPP\n",
       "0qz6uylMIcoa/ZV3pWU//hi+nF8ny5Fs5Dp48xpH/EyMVAUQIceHWb/U2t8Yg580gTb+xgGOLkSl\n",
       "2eK6ckHsa83jTDhEPCmdmIIqEcEna18Hqhv3z7d7b0Dy1bTSeal22phdzLxWDvc1bVlmO7a9IDrQ\n",
       "A/lAIfFOFlqRyDRBtG05yiiWj4F7+JoooqFhVGrIOhhewa1AtmSk5DIqKHR/7ETEUrvDsqNMqxsu\n",
       "qp+1a1VWYjvRF6JrIcUB/G0eRuq/P7uOErRC2VVM+61iKnkSFi1qfn7qv5DhYeyIxEQempyk1HZ/\n",
       "S6NQj2d/BXewKn3aXvw0KAFCq4TLOWD9flGzvY736ZqRc10jbdIjYqnZV7op/64DnFcyWu0JTpox\n",
       "Qi7XnLf0BSMyKZszi3aULXPJCAsDXWZ6W6TW6Lasz8SOLBn9FAwJdT2vdVqIyK5zw0H/WtJiHpgb\n",
       "KqTiPpMhm6Rt/MaFgyrnhChNH2T9Vww2Y/fc97uQltwr+cGLHucjNnBGn1SRmuPjIi9urwwYztEa\n",
       "NdTU7RN/c0cNQIWBUi4uIpbrrn6DKi08feP6F5tcvLJWj54j1RaW20BEpwJ5A2Y7WS9HRBvaGzK/\n",
       "pvOFEnaamWt3ZGS64FjyXNjpoC0ECeSpVcMCAAAAmwGftmpDfwAAAwAAAwAFrTnftf6cTHuV6paZ\n",
       "3IIy2DxLrbMi9yHP/dCqVbb0e2UacYw5meffOvNlnAcHWD/e6YwVl615pn//gOIfWlFKX4VFx1sX\n",
       "PssCWIcajnA3zgfysJakcDAL8M2E+16MZmaM3t21n5bqAAXLAzW63PJ2g3YR5KmnUgRkJ6UK3Pki\n",
       "6iQByFFjAIdWEKPWQLuBAAACtkGbuUnhDyZTBTwQ//6qVQAAAwAAAwAB89vpj9h9D0AAXUAESrJA\n",
       "OfW6svfDmi7T+LRw+3s8vmgwviqgp2R6pX+so6WYqBmkQ74za8cBHlGZfYVgb1H74nK9UI5g4NPo\n",
       "jSuzhLBwgofRpA/xJp2wVWX+6T1xBJEFLdxkf4rWcq8xYshnith7g8C6PDGeuchUanUtBxcwJafp\n",
       "OJeEgTZzANs/FflFhe5KBuyN2VD2m2Oh39HXvT0SIOSbNEcjqKtTvV/8z/+5/qVVC8GhtgcgwQn0\n",
       "6watc3dELmAW12UjkyUdYo3WsfwYFnPQLzxqvULgKMgMpnlLT+wkQh3ayHGnND0CfWBOw9tZSmba\n",
       "ahHlWv2Pio7Q7VNh7Z4sg01HZuYKxsnUgew+ZFn9jMPIWF0BXP9E2eyRZBPKCaKrw4BsnbT4S6bJ\n",
       "wmHpnhsg0+uZkbhXM8OSbsEd0a9XSg4Lwrm3q6hgzysQfyRudTUQAdZa5ByILhMrlFWcr3vTxL2C\n",
       "pcooQlTvUtGdFNzRGoylmnfAcP787Q6DYkWFGp/3WM8W0ovJLDC3099a/MCmm8vvDFPPrF+5JBi9\n",
       "8qtsuX32FWrGPgQscNvNCJb0BwKSGJFDdjNIL06TijZdRxM79EPGOOvRNXVTlh7qvOz1kbZbZFHp\n",
       "Kif2mWNVhzO4DdUSkiY2BMwhZ35KX0xnZd8TlSLFatY2irwt9Gxr8o5DCw6diC0DWLTKnP4pAyPZ\n",
       "Fw6BLAG8iQDUmg0UuP8/RFZVgLz+6nO4L0YShqMn8pS2rX/+NlUpBBoHvkukgWmQnF56owegMNIy\n",
       "+o0oMXkoyXuBk2/u8f6Pw7jM/5UML/vlgAvSQI6cp6j1i82PaqZ0QWRXyAaYUsXLr/oKJjQ6GCNG\n",
       "MQ5/9dLLI/Ot29t/32AecQiytk9Sd1ePNw62eqEAAACoAZ/YakN/AAADAAADAAWHV8ppfzBJ8ScG\n",
       "toI5/Dh2lxLB2Fby85cB8mcAKtgcgThJ4NIcoWmvzK3VnOQ7MyEunqR17xblCuFaL0VA4EhZnq4V\n",
       "ML2b+j3nY21gsTt54+ykzOP9oUrGh2xnhI0DTkb4qFpLTMMIJiNy5zQh+fS0+2qINHQMbTLKbJtr\n",
       "dug6MDQijZ5axSpTJ2MAZyCAL/ZLwSKvc//6sg44AAAC30Gb20nhDyZTBTwQ//6qVQAAAwAAAwAB\n",
       "81DJQfn6rozgu5LDuSz7LQMa9p+WtYmJHnYf4VnjWlVySZrX/lYSUdJY81y/X3zppk5ixvNY+sY7\n",
       "EfXlvxCirpNNdO16wZSR4XkJla5s+tIpQ1sfDrjw+v9pVuTe5WJNZUApP0bchvW0geCYg43GeiMN\n",
       "qIDncZL2VpClIjnP8muYq7m7KQQDGEGZ9qJGTB3JV+sHnp6bIcl8urCww/D/S1fo5qNqkZmcWdB4\n",
       "BVZ4mZEsSFZnBcehUVKmAL/MgLaGK8ir/VqvFB2xdXYuYTYoaPM/7h/bxnrWRC+wdLjekU2LKUtq\n",
       "OyIL7LJF23yjRgcorCl9V8RQ5iUM4BlQ+/aPNILAZahpFvvJczoOCIdJfu3DOFVe/l0YlRh4TKPd\n",
       "Qoo8D0pooKw7hrOM7dP41c67zO41Xrafsj2hdIRPrvc0YV/+d9PrIy8xiOlA7m0eOKGqlQOfYIKt\n",
       "ynBvqITr1pqUqva4Fp0D4HqVMSvNMYDOYHpaq4SJZKVJp/UGLdNnY4H8WCNot4Rnd6CPDJzyTHIj\n",
       "jo7bA1o4yidQ3uF8G8jRVjrJEu9quZswASaawbXSbzvMy09d26pPN4YRpfnQzDOEdsRtVijMJuaE\n",
       "53wa0gGAC0kxzDP+ElOnPq+3XxU6xlt+MwjB2Y2xx7VPHeHu+Y+jPM0bhajD8KPJ/Ge4otBmJYxp\n",
       "sjn+dRV+QTgRxeV5TsNGjJimQoAeaTfo//RZ/P9u4WF2DUvDNXCbmkHD1hs3lwsip5HXaCg4HlEn\n",
       "qyChaCJHAXatORXU23B4de3/CyuZn5juSkKtKE3fBf+B/9j0EJ4JSwceXmm49QLKX/2s5DyjxMMc\n",
       "457m/aWR6ausrxV7pezJLJw5RNN9WTjSKutuv8Q+v3pULLCGx8wre1wj7KpoFI8hVUOUlwMCUk60\n",
       "Uz2ofMrLxg4aaTIzgB0CuY9ehmqnkVuxg02+dwAAAI4Bn/pqQ38AAAMAAAMABYk6GuR+oDz+jOhy\n",
       "a+9On+OQrzxF3noOVE+Lb/eMbseW0eYP0e/5HOxx8obFmTJFe3CQXrGSrQPThBodaWq3xhRfEG/1\n",
       "KHRAYpdDDsUxuIbRDYkvLX4UBdHsAAXUCh6+54056KExDX3oLVT8CDhtk4/bbvjJrqhfNhe+X8xj\n",
       "yynpAAAC9UGb/UnhDyZTBTwQ//6qVQAAAwAAAwAB9fe0UQYRnFJQREszSJXw1jqz94yoQGOPuYt0\n",
       "Ol8pXHLkuDp1Frw7PBMVsgpbTQhm4yNqgbY7aOLsngLMfKZFJnnirivpWyMRzyuFCPhCkv7uf6rB\n",
       "PRkuSubBPcPu7gzcRWcbElPoCLpXRY3qWVvAwtlmzltFHh41VojsOc3nxn1OJaeRBDyHlNSN1mY/\n",
       "VCAoFSU1TXpKiRKvoKMtLN58iTX0Tn/3MHR3Vsu3GPMBIFORp5jB2IDcSXZzRxSnjYoL/wW0JK/L\n",
       "KZ4LsHK0/CrydDwwNEorr/7Yuysw4mq9lo3NXNf7g53csyrrwTqQi8YSASBzRte/EgLYtr4Q4oUC\n",
       "XskvctCncrDTgNvGilyQrPNCScmskA+/XCmhfvvZtGqEWzBZgrc1Esh0qyKozOnACysAI+Ho/a/+\n",
       "C0PkO0XKnV7YRCT9x5XPZaVgUAsSfuy/YXBihHFvE/cutlcbXBR8D+IdlecmlGXRu9gjhRpq9tJ6\n",
       "LNvwkJ2J6rOSeepFWN6d29vxcLXRjfkQIA5d92r6tb0njjfuC5uJzyYpnMl428UlAVDrBi+Y8IvY\n",
       "E4cEbxE9fYPHb/XZgM+7JN07UmcOHLZKHxVgWTf5FIyf1Wk5h70xvphRPs7ky9qg2J+Sx82FpVjP\n",
       "1+mOJ7LUwxv3XGrZVSXOhKT9IlttzUspDnl7TcIGcnlihyQul5NAS+33kxaOg7uP9qkYQdCQ78fy\n",
       "Pk7wuienTFQRyUOD0/HMiDiSPv+x3J5wZZ0U7HsmjOt/syT523KQreLDRlzhd/9+YlsvI6aotfIL\n",
       "Xt5RZ2ir4JrSr8nRT/Qfc0C9VR5QWOSWnPCtaHUHSQyVfbHwj3PhmrTXcr1qHz+WE5DM2lQs3hlK\n",
       "JEFQopnP41Cxav2oOX04Tb1FyVrKImWCiyDXVRTLeJ6WmqqngwVAS7XvJPxU7+8HonN3wnokzb7Q\n",
       "YmRErgViKh74m9J0XRDHP+l3RIYFfY0AAACcAZ4cakN/AAADAAADAAVlOkSfPDaBVnsbzzDfRssJ\n",
       "mjTUPPRETxoUx8158Jro4gkXDLNB5iMCxMlm3SbnKQekcfq+O7Gjqe/krgeHJH3bRTrxz4dHMrpo\n",
       "S/Vt7xMPSVNJebMOALU2jncD4GxcXUgBLVKCwVlNQNXJErI/gGk4ZcY5I1x7zho0+957fU8NN2ky\n",
       "ZSW0RFv0N/eywBZRAAAC5UGaH0nhDyZTBTwQ//6qVQAAAwAAAwAB6ve00K16w2VNzTtAcgR12BV5\n",
       "ptyd7wMA/MZY05S33ui3J4z0SbCX6m7/DPOMtK6nwJNa4bveN2xzYKZH+6rmRPvc9W6VvSV/JqlC\n",
       "h2v8+FSnZgksY3LRb8uXMXm9rarx00ZKQpZKrXXKvGLLKD9JAH72GTG9lMoGCQIVfxpeJj+0XWYC\n",
       "3l3DWJ3TeK7Oy1kZV/SUY9K9pfCwATJIfH5HY7+oVUKU2wj+sCZ1kTJ++bifSGSsgU+bPIulZWdQ\n",
       "/eyWFGk/Ib1Q/lYaQ9S66MUINH4fgTAPQ+t+MJtDghERijRw4ji5LmfTjMJQ81DqBKBQIMgIL1Sb\n",
       "9pkcJ1ZXIqYu6uCU1qPeVoZBPi6238HCw95PYd88/S4DzkiH67BulhWZbXDEOHA6c7QWrkFGCmVV\n",
       "D7TvPixMbjiKAXjW2ZkqbLW76RFmDJiRJVDY/Xxes2WkHB2ch5REhy2lXRy12g9hgprBZmrOxc/r\n",
       "q9bimFfoFyn5pI67KaU7iDvJhv0ZTgV+JduHcC0q+hWQzXfEYE9M3cwHiAeKeTkngOqnXPW79uQ9\n",
       "XOjxZjLq16axsTUJYGMUrSy7xQeTjGRiN6PgmX6pKrQr+AptGmkUSDEvcZrd7QyF4rqL0TTLFDi3\n",
       "2Ti05K6x0msJhzg8DKVoK0lGThdbzfHrEV1eHfTsWrSSGb274eP14/i9yfpq62MHoxar8oDP0d/E\n",
       "5gzED5st1t5PYeGqfO7+Vmj5GSyvF4DrvCF02LkAOSY5tW9vKdTwDwFoUSm3HDDUxcGQdfdwZzc4\n",
       "mw9R9XhwHyV+wPXBkm1aC1Xy0W7WKP83mIJFtMneiT9ki6U1x1QjZs7hQ+OeSGb/FZLqYkk3xl0b\n",
       "uhnlsqg1mp0QKXiZBHwrwd8vI6NIFvR+JQe1flMAhznUYTnJY5aeUGRrxEfkiocxahMuE923WobS\n",
       "X59AsP/j2Q/TULoXO8fC6AAAAJkBnj5qQ38AAAMAAAMAAXR1Bi0gcCkSaLyLfFj/kfv8SXPY6EhH\n",
       "BJwADTs0I6v8dbA8AC6HP6WwWZT4jHR6hmzN1eNui+YmQIj9kj+eqMWin1IJfCXvFcXexJB4iRaV\n",
       "GbJp2MhNwFVWdphZ/0udeD2HS/Kw8oAA4sl9EiiZUgkZE8HyWLj+Bb0pjbvg7X2g1sQ1ZuAdLnww\n",
       "bMAAAALZQZohSeEPJlMFPBD//qpVAAADAAADAACE/21B3UHLRxWSK1Lt/xN0BZiWiBliuf7ViskN\n",
       "IVx08MSq0DuxK2cpibq0fknnkXnXrfaiNpWkPutnLTeN8fEjSa/rxqrShljXlwzATQ8CD+MAfgdn\n",
       "P7tQ389AsORnEu1kuTNoj0z33rrYkOfY+nouNpqKXNRzplMnayndZLA3mfzjuo0C6Ltvht9TXw8/\n",
       "QrC3m5wKdaFP9ldEw4nFkHYeiFRwIY6NgUl5hoOEogH7ubwfgw++UhwBeytIrTwb7zSHxXOZja30\n",
       "WdNISEaaQtwNfE9cm6KZEyUY0y5Ru/FWqmj7UuAx5oV/lulivJmkMi30DiQZGq3/+c1Aq4kT+q71\n",
       "tQ1a18/sR0+ZlTv7ku78KFhUbjBuUjiIuZ/aiwhshyhcor3dzbxsbfBgaRKz8f/JsUNhgl0dZthc\n",
       "iUNXGDOwgVxAlgDgcNYzbBqqw+uHL5WZ2HPMG+UlZm160yKRJCMaLcg/5tkk50blsS3XsbYL3lbQ\n",
       "p5i3vY1BadBJo2jfVoAtxP5laN0EoZMt4nUWRU2JR11fc85HL2ddHPWs3/Jq0n9XIevVK6Sdq0jo\n",
       "qMigXrN8FoIsjLJe3mFEwaIQ2P3cksLbTZnRzigaWiuW0gIVssr9P3M77SvNbHAhCohK7DCU5x+d\n",
       "oQr8r2DyOFVA/BHLL8W34lBWjlDidgVw4o4sOkZFVIjruOm6dKOXomb2W9lem4qy3K5Cy+IETh1N\n",
       "88z3X2n8fhynQRHCRqdybqYmEcVGZQu4fO73uH2NtakrnKzeAHhgUpXHbgLDXxPOzypq9W9NV1rR\n",
       "uzJQ6pNp+zn4f8mvNaKhwu/UywXyt231T/2o5q1+BpGncxeadvUzGnUQQVopsQL9GZT8hGulIQ54\n",
       "mP6+QJDpioTI3YVjsvI79CzcUHHNEtHyfHc8Sea2NLEsK18DhcOmqLlBgxzS/D/txaSRAAAAjQGe\n",
       "QGpDfwAAAwAAAwABdE5pi7KU16m8/3qOfOBcBwTl+764puXAdF2+aCE6I0pOWmQv73rlEIdzvNUL\n",
       "ZiihgxmA/1UbukDN8w8szP9ZIITaVgFl0FmHCL3ZT88iUlaHfhY6X/mchjMV908AKqjcEDotgtF7\n",
       "fUdG9ZFIqwBtdPQhXJ/9swE2KWqUqOwDrgAAAppBmkNJ4Q8mUwU8EP/+qlUAAAMAAAMAAIT1b2Qq\n",
       "UXlf2sSDc+HaPOAALqmT4Bd6eEl2VJ5XzTDuVDOZP8tTNk6IVOpkdYA27GCRDNcBcl33THXckED/\n",
       "FG+Tj0lyzZHx+4hIC1IAalP0OcFd+DgJD0uH9L4sCAIu7xUnn78ZvltwI2GMEKx8PLQYxD0LOtyR\n",
       "iQE6fYtwI4PkJ1YfaCyhrw0MrNiTqWFvf2xVtq1FCmIwfIB7Ss80UotZkdvKBVBU03x0iCxcPXxz\n",
       "iy47NSN62zDBT4Jw4VniQOO88J/8eQCc/ZQ2IwEI2I090b/ea4TRpl91ItK1qQw8oxHf59iCbJ4T\n",
       "3Ph0SXiwl2FiOiSKYTZ4j+RSwOya2WR5h/1B+gO1FHaLkkMU2wFBIaqUtV/o+OXKUeTTXs0d4gzU\n",
       "0mpI5qMmhz9RRQ87+dlsf3mQvYUA21bD04HOv4intZJoCPoQ1/pP1zzxZXsD2zFZO3eX2+T0YNEM\n",
       "3WDmcJetIoLpZcnyqsoHB+L0PNpo7DesUaZOPEyJ/IEIhzbmWQqU3IHhLpSFjAyuZ7legAWqwKhh\n",
       "a1N2OeKjYe8gga3hSAG5l/PzgWEBNZKURe+6eMw/i9Ie2N5IBWF0oAqq+gj5l1z705a6rQrQI6cV\n",
       "ofaAZCumsgmB3HfiHfsXkK2r1/HAYTbXoGrPn3N7SUKYjZ1ubgJMii0HotiOPYGdGCsEvbFypql2\n",
       "/pJSsuoHs6TMaKVk1tmQBbYlsqtq+tDogh3HqPFt8tABiOqNUI7nM2mT1n3yTCvrbVJyOFlt7Wcf\n",
       "+YMxhmsY0zlAFHMcjGKwceT72vzRlf6SnjbL15FL5eup6MI3mydRlNCR+2C9n5tyNeHdC6odzB0i\n",
       "8aUxEa7/tUd++EEAAACaAZ5iakN/AAADAAADAAFrdfMXTBD2hLnwvda5YKgD6pIxir+MSQevSOXZ\n",
       "7pBr22m+9zJAnGy/UppSRNlpkwP/tJSyJuv5bRZUCNQHdPCUW37M5DRCHZrsWJU23pyHlG1TlEIZ\n",
       "CLAHX8/HyD6ffdjLSroRIXSlABWxll4IxEwAJlskwNPbR19dguOd1GBW/qYNYAEjhtCria31MwAA\n",
       "AotBmmVJ4Q8mUwU8EP/+qlUAAAMAAAMAAIAb/Cqkaa6TiYAW7RurRpIQTwbpEdrBxoUysgxq1dy/\n",
       "pOPEU/N+xKUI849MZP9kzEKnU/ROshFOaOcNrz6c9MM12exoZ1eCclzblFprHNMI3Fjh2X++7oYI\n",
       "4wKq2LFCDtL6K8Y21tq6gD2NJvqFTbTnRA7eZ+BlttwDuCfDbn/jAZlXo5wngyrMotDtdtftEvP9\n",
       "uowc2HF4/n06zf7A21ys2ZeOVrnpbnGYQEpKR5g3OnOk3yJFaOvxspj/qUKzft2PHAS33P8x8m1b\n",
       "C3FT/AlBwxBTL78mT8EcX4TDk9R6CeLxRj5lHLRSvhHABaIV/WrIZwTihUcGAnYw8Ze3AAGJ1SxZ\n",
       "6PwerakVFIWoWU6MF8yP/9KcLMm93z8xwXzCkxuYL0H4xu56hqjENgtkQt88LsInKcXQiVeJV2uK\n",
       "wzK0QxPACf6Hu1J+bTHB94M87a8yHvYgDluQ+gZvQiZPy3yA/eenv2DDcmd5/LNMUs+5laaAtUJZ\n",
       "J76NGZHlrCTPyXHqPVXVpyQqfeSnZ8zpePIqckypdFCWBXEwJiZVvBMBSo9HdK8nu43dCAdfZBby\n",
       "AmCJF7+516IaVHIuFi8dEWdHFHc0XlgazmXQybyqdyvyHAQ/f4Rvs7cPnXO7k01k0Pzw8d5P94OP\n",
       "q1UAASSTEZRrEo7df/jpdoGxZd6tFmRc4ZhpCmEXcFTKrhTZMp5jiX1zL8cz9tBcrLi9rqUhYSzF\n",
       "oD0BwcRLZGX+p1kFxocBgijWijUveLmqhADomiGKJv1GGC7l4FcCE5rtTvneEiJ3H2fsdKKLBnRT\n",
       "46cCgaHCaky+gpFCXYVaDbz1XKYg/1BUyGkAAACjAZ6EakN/AAADAAADAAFrRW15Ufas4l5s8cAK\n",
       "qVfHj74qcs4oaquh8mZcaoY4QIbvWgU1VtbIh4yR/8fc59BfgNce6f8RWblGXQIj6/fTkn4FETQe\n",
       "wulkj32UEeIRKQTCWLsUwZq+DeYqrD2D5RXzMYKkfChN3coLihso6OU9G4FIFlkQh+25ZDdAMjfM\n",
       "5tvM0bdNYBcjYHlAHZ9PkdKFlJqNSQAAAoBBmodJ4Q8mUwU8EP/+qlUAAAMAAAMAAIAb0CqkX6yR\n",
       "ovlkuAEbcA2tp6IWXnVLYd8PONi5MCnPeLp7L88yku5IFQeGpUv9lYjLDBSksYHPQx06aw51Iciz\n",
       "zN6dTuCZk1mMM6Kf00674jmb+fhzKukUHqltfEER4CP0ZcnYIaKkg54wZJTFbeKFZbzTe0DnTdhN\n",
       "uJu+L8uNN0oZc3Ov//wnenu1uCSYw4w3qyptkxMRZQiVENcrJYuP+F/Zv6sueiuh/vuKfkjLEkCX\n",
       "b7ls3HWdEnF+Qh9Y7Jum27dRBfMU6YOJGFoPG2CTcwqYXiabQMbohjjqJrCmfyz3/wxX67iUI56r\n",
       "DVfTt/WdRBPvvAONsHe/dPJMboWglM3AqJ7+5+d9RSv8KOjCqIlogUAJhvBr/h57r5rse1MEL7lg\n",
       "d3eMxJBBJJ04OPQkL5A82QTDMBOi1qvoXlGNPRPqA6uTfupoyxL6HdBFohnKftmJXYY1dtuCMcFA\n",
       "1NdLUPN8GrRfeJdvkBS6rlAtTuEyHgA4IkFHPQNd/VqJ9vP0E8/BzhdYdA/pYemI4B8ouPYnHKQX\n",
       "83vvc8M88OgZjLwdzmgqEX55pbz25CkjNGUYNjXpWuu9fCN6aQR+3nTY6PAKaKgkmV/BE0gUqm8r\n",
       "d70neoTZon853G1frb1BvTQRQfDr8bIpakADMhtc9X0B8cyroYkTY6djbMIlNOnEFTBa6GwfgUA8\n",
       "q0jjCHxYd6uPwSPA/NsU4HY7qe96nuSXIadHSy/T9fmTucrGPR5ZNrO5ij3nlZj3h2YpW7/ngZJg\n",
       "18byZP29ikPOpnYwRUDPtL+/1ILOm99vR2wQOcnbrZDmFg0zIIsZAAAAlgGepmpDfwAAAwAAAwAB\n",
       "a3QzZhNjYcOBO7aGkZgh/WdsSzOHHH88uF4pAXUk3pwnsj0wmdrJo7MejlUXw8La69eZzdeDPNTy\n",
       "oONfZnxBZBNBNSF4UWJalWuonduTjKbhL30Tj7IXkca/8Y7jNRgq72HqAwOnUXMlqUNmh/MxeCx/\n",
       "/hoAW0TvetyKiXSus9rooL4hvWhvQQAAAnxBmqlJ4Q8mUwU8EP/+qlUAAAMAAAMAAID/bU8kXzxn\n",
       "HEAiyUd6Tu14DFtt+PcyY7uqww1SJvzskFtaR7Z05/nmT/O9qif0CeJU0wzI+BAQMuVFO/7seVX7\n",
       "okAWlhVlPBOqYXJRa+OLaixYRuWYoqUX1dnLEFNzvmgovR3Mszoacb33HFsbTIGWNi6Sg4cy1dAI\n",
       "HQaesFDNjpbaiJRWpz/bUHeovmu5OgysT51Ec6IFSFhKuC9zPIkpkvGPL2IB6qaieUvUtSWJi3vF\n",
       "wAnahpT7sxMXoJBO7In44KdcA5YITgDVP0nLWazdkP+KxHf0dCk0Nppgs07L83/5+ZVQln+w0Q6R\n",
       "i+6TNB614yiEQdYl1oO83SzaKn/ytZ5uySsH+89qP0JATIY0s0+hwTibpXWlyXkQwQiiWLe8I+aH\n",
       "3/jHwowGZcic/Ti7ogU24YRCGN4+3HZHL6VBnfX9+dvfKNHt0B+FUiIM/cbDom0NaWywY0Kw57mP\n",
       "O5oGwBbi3MYo4kMeu5jgJT4vhoyS7ipotNz74iJMYlXW+1+C8sQ6hlnfj6ltl9glH68M7W7gqHHy\n",
       "LfDzqNrMecFf+/pRhihAqy806zXTdEYYQI8mGldxdNZk57ngNbyqp1Ca0YFceZPsyyMd2HIik4Jg\n",
       "4lQulf/EudOwOBtywvci4Yj9+rwnS+/EBv73aS7a+tHKftPs7oFb1CkjQDfv2MDnCDYjfqQrOrRd\n",
       "3XdSpEvs6ox7hbREWH/Y/uVmerMrlTqgR+ZpuBUK5SR1CCH1cCLuj2AoctDI0/z3dfa7F/24IiQu\n",
       "f6lGtSVYOBfh/oeDY5dLopQqc8ndLjCnLeDrlPdCCU66q8AAAACnAZ7IakN/AAADAAADAAFnXI0t\n",
       "W2gUf6Zc/6nePIaNd6KAhrDKtlalYA1m+LKlFC5Lj/xU3nxqH/TJFMAj5OVG7u5sqHWjk5JaaRkw\n",
       "ZvXwTMZFeMX10m/YgiV11WeSs8Vb81uqcku10ohUO8YQE4bwxaTcwboSFmRI38CSyf92Jgbbe6ZQ\n",
       "P0A6Xywv+fWD1+jPhM/9/X8x8ESc1VtNioylxZxS8shQBSQAAAIAQZrLSeEPJlMFPBD//qpVAAAD\n",
       "AAADAAB8y35W2FA+5AAloAKZWFxHrywoBQB4PMlwL4b2kIW+EylWBSSajxs4e77vUDm4t/9pU7Rn\n",
       "auqhBTXgjk57RYd++f/+kSRt9O90x9XXZRgdjBVQLxh4d43/eWm4gj0H6XQpeRBfN/5gxAIP8GRx\n",
       "FJ3hhzhlsLg5FqyEBjJs0rOJCNbYaq/3ZmoEUjTVlkQlFvCYuuEVuMTSsUwTBg0qfMi10++RLENc\n",
       "/awZ+sWvz7vBEcWYexHkM/UwAWFo2MFfsmXg4PMWDEy/C5rCVQ9MfIWkqB755V4jKzlW1RCjGOdO\n",
       "spJKERnVoS8nOij1xoqOio2oNENLx/kbIn6pQCtaas2CskRlGNqwgnuBCQqRVM5xXeC0EZXD/xvS\n",
       "pY/lIN9NRQKJNvRDinN9BmejYif4MJMXWMM7lm3RkwQC+yXakJKoTq/cTB7RYZHQO4nRBujEpBjO\n",
       "FNMvGeYVny6u6rBhi0n6HzrFDoyp/vgI9xgQUHXiMdvXiHcLsJOdmR8H8PO7zt2chgaW9XqC+GaD\n",
       "TV4dNXps1IKfyf3t/i5abAS+mps2W1xgKjkKRxq+vytrRgQPx79bszqt1PpgGCkkxvwQT8Gz5Ysc\n",
       "J6Kq6Ww3Qr8ve0buM/vuFr4jXZJPVL71nlmCGEL3JSicQwRSdu0AAACbAZ7qakN/AAADAAADAAFi\n",
       "dKySNbByDGqBpkdks77bpEL6Umu6/DU5Kwyn4oOadYkq8HL+DSgJaRhOju3vygVtd8SLkapEI1h6\n",
       "Upw2s0AoUHKOb5smO0Ha14ZBWEQc0FsyCXv7CWCl167ZO+3EGwhzEl1TpeW+6mD1UczAC2pmeLGX\n",
       "3gCblujNX5jMQNJKykA5LGcb/zMbcefyETAAAAGRQZrtSeEPJlMFPD///qmWAAADAAADAAHobVID\n",
       "GgoOzSOjrWGPQr69LXRXKp9S/EkwVOXdyIKAGemZnDfW7bo0QaQhik0wzCFlJpBVDFoX4uriR6Dd\n",
       "VAZ9tp5KE//Q9Wo4J5O+D8JQAgJRBZA5KoDDU//UHvATtNumAmcR2NrwnJTE1b//4LhdZQ9ivW04\n",
       "DK6W8eYPZm342TrAO+SC8TnvrBlr3Py1/UxrFsvzB+OYsaGAl/wH3/3yva6riEvZtIIgK3vS7SIo\n",
       "ZqindCoVyhXEQjizzpLi29z4L1FBD8xCWck5iuc/ed37BRpMGZfOgMbMc4KSPdsmDiRfXalifGAQ\n",
       "A+uoxWe4AGx4ZvcjpyF+qp2IFMkTlOH74AiRvbf/408fkFFuNklwCozzp5zdl3NzMArNUi3a/Plx\n",
       "iyhvowF3QAbAbR1C+lrDcqwjMfWsMRrOa4nlDp9O6385IRHgOWA5gBX8haU4YQkBvIM2GxBb+Zec\n",
       "zFhAuVOG03KynZUXcG/ODXokns4Df8kYL8bQLZMH2lAAAACqAZ8MakN/AAADAAADAAFiczuma4Aq\n",
       "AAs0pAa0TuT3EJZ7hFBGFpAgo/6ckkXYOniQowH7WivjkAeltAQiE0pXwyg8nr5kBhAKop12wzs9\n",
       "jQyFTaouhv4wzzNsh6oyRFNIFsyCZMFCM4cfKjo7ltBficyQZtxzl7pSMQL47UUBYxJvnpKC1oTF\n",
       "rlo43WnAUZxk1zjcPrlJG7Rw1giPRmtEuFp6zDZkR0tNIssAAAFLQZsPSeEPJlMFPD///qmWAAAD\n",
       "AAADAAHq/lZaMiptvckwDCCFyUhMjCK3UNJH75k3NGAQF2gOQDtK7wNLMDsSEkR8zn610Fn3XmRf\n",
       "f6hsCV+KCpzHrSEmsHSOVAf/HTGjT3USzKZyWf7hlmSnb561596cYrI6PbVEWRvrzO6XBSLCAXCT\n",
       "QnsqaJaXFws76qwoQJo8fqHtDGvpryklrX71hfvktNrlJBX3ytL78oEzYwdC1wA11NBoiHfoVOeX\n",
       "I6cpys33WCzC347qcAQofk8YYToK7rbyts1BgOHxEMl21oBnCblke7xQaLAREelWyv8rDtTqvqxD\n",
       "+TOilL070iF3rZrBZxaugdKnXYUWIqKC/agoYP5in7KkQZBGs7qSPDi46w5QLLoIB/lqLsKKjCuE\n",
       "JprZD3VdBf3VjUGGOtq9K8YFLdXWF8g2BnymnQAAAMMBny5qQ38AAAMAAAMAAV6y3a1CNswBtSka\n",
       "xS3uogGeVueV2iqocOhsQZ/wO7acQ5Kn9mpqXPOVm0/iCE7a/nU8wJdFh+DIMzBpQN1W83+MAzWu\n",
       "x0aMq6caCektRxtNIcrlEyvIzlrKpd7YEaT7PZA3GV2oKyUZpXqX0s5Jsx0HukJM1Y/eDFsVA97A\n",
       "R+6VnZJ3eotc4SvVf8weHfLUjxO8iuDZOTOY0I5f72g8ECiz/u/vuNEOiOqCsO9kR+AML564S8EA\n",
       "AAD9QZsxSeEPJlMFPDf//qeEAAADAAADAAD9hDuRZqYq91O2Vn6hgBLGkOBavrNoJFLHLNjNT0Zx\n",
       "fMc0TvZFJrTMbIiBzKjsXuVrTn9yNvK9snzRwfd5v4dup98QGr+AAULH2NDPp1+GKKQ8LYN0lUof\n",
       "dE+pEXrCv7P6cRes1zwp//F5VcFtTncl5tz4aQnji5z/J69242zGcRxPzsSbPN9kfQWDqdJw3C19\n",
       "bp5zjShxiYIHyW1Y/5LtFCc8Q4SlnsV6pDBTN1qzQEacd03olW0XhOy/ZzItzqYNe05Ol2Jv/eu9\n",
       "nKGgwA+myTtquw5+7oqBLir+VgvX7I0M4Gwv1gAAAKgBn1BqQ38AAAMAAAMAAVB59726uA2a69gC\n",
       "9RqkbABXyef45xyGkPSCG+9erz8Ayb0i/cgBewuZBr0nxc0feh/eYerAgIh3CnTsOXgz79CpV86O\n",
       "tFGff3dxgfZ7o1bEwpbNNCfKNNEAiqmHU1JpGXQQvT0bjVSkj/n0IC4jUj20AurQ1vr9l0PdZS5A\n",
       "zZ2y+SPEjJGnZ5YZ/GsZObv8IWQQ/csG4edgb0AAAAWGbW9vdgAAAGxtdmhkAAAAAAAAAAAAAAAA\n",
       "AAAD6AAAE4gAAQAAAQAAAAAAAAAAAAAAAAEAAAAAAAAAAAAAAAAAAAABAAAAAAAAAAAAAAAAAABA\n",
       "AAAAAAAAAAAAAAAAAAAAAAAAAAAAAAAAAAAAAAAAAgAABLB0cmFrAAAAXHRraGQAAAADAAAAAAAA\n",
       "AAAAAAABAAAAAAAAE4gAAAAAAAAAAAAAAAAAAAAAAAEAAAAAAAAAAAAAAAAAAAABAAAAAAAAAAAA\n",
       "AAAAAABAAAAAA2AAAAJAAAAAAAAkZWR0cwAAABxlbHN0AAAAAAAAAAEAABOIAAAIAAABAAAAAAQo\n",
       "bWRpYQAAACBtZGhkAAAAAAAAAAAAAAAAAAAoAAAAyABVxAAAAAAALWhkbHIAAAAAAAAAAHZpZGUA\n",
       "AAAAAAAAAAAAAABWaWRlb0hhbmRsZXIAAAAD021pbmYAAAAUdm1oZAAAAAEAAAAAAAAAAAAAACRk\n",
       "aW5mAAAAHGRyZWYAAAAAAAAAAQAAAAx1cmwgAAAAAQAAA5NzdGJsAAAAs3N0c2QAAAAAAAAAAQAA\n",
       "AKNhdmMxAAAAAAAAAAEAAAAAAAAAAAAAAAAAAAAAA2ACQABIAAAASAAAAAAAAAABAAAAAAAAAAAA\n",
       "AAAAAAAAAAAAAAAAAAAAAAAAAAAAAAAAGP//AAAAMWF2Y0MBZAAf/+EAGGdkAB+s2UDYEmhAAAAD\n",
       "AEAAAAUDxgxlgAEABmjr48siwAAAABx1dWlka2hA8l8kT8W6OaUbzwMj8wAAAAAAAAAYc3R0cwAA\n",
       "AAAAAAABAAAAMgAABAAAAAAUc3RzcwAAAAAAAAABAAAAAQAAAaBjdHRzAAAAAAAAADIAAAABAAAI\n",
       "AAAAAAEAAAwAAAAAAQAABAAAAAABAAAMAAAAAAEAAAQAAAAAAQAADAAAAAABAAAEAAAAAAEAAAwA\n",
       "AAAAAQAABAAAAAABAAAMAAAAAAEAAAQAAAAAAQAADAAAAAABAAAEAAAAAAEAAAwAAAAAAQAABAAA\n",
       "AAABAAAMAAAAAAEAAAQAAAAAAQAADAAAAAABAAAEAAAAAAEAAAwAAAAAAQAABAAAAAABAAAIAAAA\n",
       "AAEAAAwAAAAAAQAABAAAAAABAAAMAAAAAAEAAAQAAAAAAQAADAAAAAABAAAEAAAAAAEAAAwAAAAA\n",
       "AQAABAAAAAABAAAMAAAAAAEAAAQAAAAAAQAADAAAAAABAAAEAAAAAAEAAAwAAAAAAQAABAAAAAAB\n",
       "AAAMAAAAAAEAAAQAAAAAAQAADAAAAAABAAAEAAAAAAEAAAwAAAAAAQAABAAAAAABAAAMAAAAAAEA\n",
       "AAQAAAAAAQAADAAAAAABAAAEAAAAAAEAAAwAAAAAAQAABAAAAAABAAAMAAAAAAEAAAQAAAAAHHN0\n",
       "c2MAAAAAAAAAAQAAAAEAAAAyAAAAAQAAANxzdHN6AAAAAAAAAAAAAAAyAAAW4gAAA5wAAACvAAAD\n",
       "FgAAALIAAAOMAAAAuwAAA2IAAADJAAADiwAAAMwAAANAAAAAuwAAAyAAAACxAAADlwAAAKwAAAN+\n",
       "AAAAwQAAAy4AAAC3AAAC/gAAAyMAAACfAAACugAAAKwAAALjAAAAkgAAAvkAAACgAAAC6QAAAJ0A\n",
       "AALdAAAAkQAAAp4AAACeAAACjwAAAKcAAAKEAAAAmgAAAoAAAACrAAACBAAAAJ8AAAGVAAAArgAA\n",
       "AU8AAADHAAABAQAAAKwAAAAUc3RjbwAAAAAAAAABAAAALAAAAGJ1ZHRhAAAAWm1ldGEAAAAAAAAA\n",
       "IWhkbHIAAAAAAAAAAG1kaXJhcHBsAAAAAAAAAAAAAAAALWlsc3QAAAAlqXRvbwAAAB1kYXRhAAAA\n",
       "AQAAAABMYXZmNTcuMTEuMTAw\n",
       "\">\n",
       "  Your browser does not support the video tag.\n",
       "</video>"
      ],
      "text/plain": [
       "<matplotlib.animation.FuncAnimation at 0x36a6dd3160>"
      ]
     },
     "execution_count": 10,
     "metadata": {},
     "output_type": "execute_result"
    }
   ],
   "source": [
    "fig = plt.figure(figsize=(12, 8))\n",
    "ax = fig.add_subplot(111)\n",
    "\n",
    "x = np.linspace(0, nx*dx, nx)\n",
    "line, = ax.plot(x, u0)\n",
    "\n",
    "def animate(i):\n",
    "    print(\".\", end='', flush=True)\n",
    "    if (i > 0):\n",
    "        for k in range(10):\n",
    "            simulator.step()\n",
    "    \n",
    "    u1 = simulator.download()\n",
    "    line.set_ydata(u1)\n",
    "    print(np.sum(u1[1:-1]))\n",
    "    \n",
    "    \n",
    "\n",
    "plt.rcParams[\"animation.html\"] = \"html5\"\n",
    "anim = animation.FuncAnimation(fig, animate, range(50), interval=100)\n",
    "plt.close()\n",
    "anim"
   ]
  },
  {
   "cell_type": "code",
   "execution_count": 26,
   "metadata": {},
   "outputs": [
    {
     "name": "stdout",
     "output_type": "stream",
     "text": [
      "============================= test session starts =============================\n",
      "platform win32 -- Python 3.6.5, pytest-3.8.0, py-1.5.3, pluggy-0.7.1 -- C:\\Users\\anbro\\AppData\\Local\\Continuum\\anaconda3\\python.exe\n",
      "cachedir: .pytest_cache\n",
      "rootdir: c:\\Users\\anbro\\Documents\\projects\\demos\\MilanoGPU2018\\notebooks, inifile:\n",
      "plugins: remotedata-0.2.1, openfiles-0.3.0, doctestplus-0.1.3, arraydiff-0.2\n",
      "collecting ... collected 1 item\n",
      "\n",
      "14 HeatEquation1D.py::test_HeatEquationGPU <- <ipython-input-26-fae2a9f781e9> PASSED [100%]\n",
      "\n",
      "============================== warnings summary ===============================\n",
      "C:\\Users\\anbro\\AppData\\Local\\Continuum\\anaconda3\\lib\\site-packages\\_pytest\\assertion\\rewrite.py:274: PytestWarning: Module already imported so cannot be rewritten: pytest_remotedata\n",
      "  self.config,\n",
      "C:\\Users\\anbro\\AppData\\Local\\Continuum\\anaconda3\\lib\\site-packages\\_pytest\\assertion\\rewrite.py:274: PytestWarning: Module already imported so cannot be rewritten: pytest_openfiles\n",
      "  self.config,\n",
      "C:\\Users\\anbro\\AppData\\Local\\Continuum\\anaconda3\\lib\\site-packages\\_pytest\\assertion\\rewrite.py:274: PytestWarning: Module already imported so cannot be rewritten: pytest_doctestplus\n",
      "  self.config,\n",
      "C:\\Users\\anbro\\AppData\\Local\\Continuum\\anaconda3\\lib\\site-packages\\_pytest\\assertion\\rewrite.py:274: PytestWarning: Module already imported so cannot be rewritten: pytest_arraydiff\n",
      "  self.config,\n",
      "\n",
      "-- Docs: https://docs.pytest.org/en/latest/warnings.html\n",
      "==================== 1 passed, 4 warnings in 0.18 seconds =====================\n"
     ]
    },
    {
     "data": {
      "text/plain": [
       "0"
      ]
     },
     "execution_count": 26,
     "metadata": {},
     "output_type": "execute_result"
    }
   ],
   "source": [
    "clean_tests()\n",
    "\n",
    "\n",
    "def test_HeatEquationGPU():\n",
    "    kappa = 1.0\n",
    "    nx = 10\n",
    "    dx = 1.0\n",
    "    dt = 0.4 * dx**2 / (2.0*kappa)\n",
    "\n",
    "    u0 = np.zeros(nx, dtype=np.float32)\n",
    "    for i in range(nx):\n",
    "        x = (i - nx/2.0) * dx\n",
    "        if (np.sqrt(x**2) < 0.25*dx*nx):\n",
    "            u0[i] = 10.0\n",
    "    u_sum = np.sum(u0[1:-1])\n",
    "            \n",
    "    cpu_simulator = HeatEquation(u0.copy(), kappa, dx, dt)\n",
    "\n",
    "    gpu_simulator = HeatEquationGPU()\n",
    "    gpu_simulator.initialize(u0, kappa, dx, dt)\n",
    "        \n",
    "    for i in range(100):\n",
    "        cpu_simulator.step()\n",
    "        gpu_simulator.step()\n",
    "        \n",
    "        cpu_u = cpu_simulator.download()\n",
    "        gpu_u = gpu_simulator.download()\n",
    "        print(\"CPU: \", cpu_u[1:-1])\n",
    "        print(\"GPU: \", gpu_u[1:-1])\n",
    "        assert cpu_u[1:-1] == pytest.approx(gpu_u[1:-1])\n",
    "        \n",
    "        print(u_sum)\n",
    "        print(np.sum(gpu_u[1:-1]))\n",
    "        assert u_sum == pytest.approx(np.sum(gpu_u[1:-1]))\n",
    "        assert u_sum == pytest.approx(np.sum(cpu_u[1:-1]))\n",
    "        \n",
    "run_pytest(filename='14 HeatEquation1D.ipynb', pytest_options=['-vvv'])"
   ]
  },
  {
   "cell_type": "code",
   "execution_count": null,
   "metadata": {},
   "outputs": [],
   "source": []
  },
  {
   "cell_type": "code",
   "execution_count": null,
   "metadata": {},
   "outputs": [],
   "source": []
  }
 ],
 "metadata": {
  "kernelspec": {
   "display_name": "Python [conda env:gpudev]",
   "language": "python",
   "name": "conda-env-gpudev-py"
  },
  "language_info": {
   "codemirror_mode": {
    "name": "ipython",
    "version": 3
   },
   "file_extension": ".py",
   "mimetype": "text/x-python",
   "name": "python",
   "nbconvert_exporter": "python",
   "pygments_lexer": "ipython3",
   "version": "3.6.6"
  }
 },
 "nbformat": 4,
 "nbformat_minor": 2
}
