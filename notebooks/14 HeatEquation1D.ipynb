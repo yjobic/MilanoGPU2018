{
 "cells": [
  {
   "cell_type": "markdown",
   "metadata": {},
   "source": [
    "# License\n",
    "    IPython notebook for simulating the linear wave equation with CUDA\n",
    "    Copyright (C) 2015, 2018 Andre.Brodtkorb@ifi.uio.no\n",
    "\n",
    "    This program is free software: you can redistribute it and/or modify\n",
    "    it under the terms of the GNU General Public License as published by\n",
    "    the Free Software Foundation, either version 3 of the License, or\n",
    "    (at your option) any later version.\n",
    "\n",
    "    This program is distributed in the hope that it will be useful,\n",
    "    but WITHOUT ANY WARRANTY; without even the implied warranty of\n",
    "    MERCHANTABILITY or FITNESS FOR A PARTICULAR PURPOSE.  See the\n",
    "    GNU General Public License for more details.\n",
    "\n",
    "    You should have received a copy of the GNU General Public License\n",
    "    along with this program.  If not, see <http://www.gnu.org/licenses/>."
   ]
  },
  {
   "cell_type": "code",
   "execution_count": 1,
   "metadata": {},
   "outputs": [],
   "source": [
    "%matplotlib inline \n",
    "\n",
    "#Import packages we need\n",
    "import numpy as np\n",
    "from matplotlib import animation, rc, cm\n",
    "from matplotlib import pyplot as plt\n",
    "\n",
    "import pycuda.compiler as cuda_compiler\n",
    "import pycuda.driver as cuda_driver\n",
    "from pycuda.gpuarray import GPUArray\n",
    "\n",
    "import IPythonMagic\n",
    "from Timer import Timer\n",
    "\n",
    "import pytest\n",
    "from ipytest import run_pytest, clean_tests"
   ]
  },
  {
   "cell_type": "code",
   "execution_count": 2,
   "metadata": {},
   "outputs": [
    {
     "name": "stderr",
     "output_type": "stream",
     "text": [
      "Python version 3.6.5 |Anaconda custom (64-bit)| (default, Mar 29 2018, 13:32:41) [MSC v.1900 64 bit (AMD64)]\n",
      "Registering context in user workspace\n",
      "Creating context\n",
      "PyCUDA version 2017.1.1\n",
      "CUDA version (9, 1, 0)\n",
      "Driver version 9010\n",
      "Using 'GeForce 840M' GPU\n",
      " => compute capability: (5, 0)\n",
      " => memory: 1891 / 2048 MB available\n",
      "Created context handle <234566434736>\n",
      "Using CUDA cache dir c:\\Users\\anbro\\Documents\\projects\\demos\\MilanoGPU2018\\notebooks\\cuda_cache\n"
     ]
    }
   ],
   "source": [
    "%setup_logging\n",
    "%cuda_context_handler context"
   ]
  },
  {
   "cell_type": "markdown",
   "metadata": {},
   "source": [
    "# Heat equation in 1D\n",
    "The heat equation can be written\n",
    "$$\n",
    "\\begin{align}\n",
    "\\frac{\\partial u}{\\partial t} &= \\kappa \\nabla^2 u\\\\\n",
    "&= \\kappa \\frac{\\partial^2 u}{\\partial x^2}\n",
    "\\end{align}\n",
    "$$\n",
    "where $u$ is the temperature, and $\\kappa$ is the material specific heat conduction constant. \n",
    "\n",
    "By approximating the temporal derivative with a backward difference, and the spatial derivative with a central difference, we get\n",
    "$$\n",
    "\\frac{1}{\\Delta t} (u_i^{n+1} - u_i^{n}) = \\kappa \\frac{1}{\\Delta x^2}(u_{i-1}^n - 2u_i^n + u_{i+1}^n)\n",
    "$$\n",
    "and gathering $u^n+1$ on the left hand side and $u^n$on the right, we write\n",
    "$$\n",
    "u^{n+1}_i = u_i^n + \\frac{\\kappa\\Delta t}{\\Delta x^2}(u_{i-1}^n - 2u_i^n + u_{i+1}^n)\n",
    "$$\n",
    "This discretization is unstable if the following CFL condition is not met\n",
    "$$\n",
    "\\frac{1}{2} \\gt \\frac{\\kappa\\Delta t}{\\Delta x^2}\n",
    "$$\n",
    "or \n",
    "$$\n",
    "\\Delta t \\lt \\frac{\\Delta x^2}{2\\kappa}\n",
    "$$"
   ]
  },
  {
   "cell_type": "code",
   "execution_count": 19,
   "metadata": {},
   "outputs": [],
   "source": [
    "class HeatEquation(object):\n",
    "    def __init__(self, u0, kappa, dx, dt):\n",
    "        self.u0 = u0\n",
    "        self.u1 = np.empty_like(u0)\n",
    "        self.kappa = kappa\n",
    "        self.dx = dx\n",
    "        self.dt = dt\n",
    "        self.nx = u0.shape[0]-2\n",
    "        \n",
    "        \n",
    "    def step(self):\n",
    "        #Internal cells\n",
    "        for i in range(1, self.nx+1):\n",
    "            self.u1[i] = self.u0[i] + self.kappa*self.dt/(self.dx*self.dx) * (self.u0[i-1] - 2.0*self.u0[i] + self.u0[i+1]);\n",
    "            \n",
    "        #Boundary conditions\n",
    "        self.u1[0] = self.u1[1]\n",
    "        self.u1[self.nx+1] = self.u1[self.nx]\n",
    "        \n",
    "        self.u0, self.u1 = self.u1, self.u0\n",
    "        \n",
    "    def download(self):\n",
    "        return self.u0"
   ]
  },
  {
   "cell_type": "code",
   "execution_count": 20,
   "metadata": {},
   "outputs": [
    {
     "name": "stderr",
     "output_type": "stream",
     "text": [
      "Initialization: 0.000000 ms\n"
     ]
    }
   ],
   "source": [
    "#Create test input data\n",
    "kappa = 1.0\n",
    "nx = 100\n",
    "dx = 1.0\n",
    "dt = 0.4 * dx**2 / (2.0*kappa)\n",
    "\n",
    "u0 = np.zeros(nx, dtype=np.float32)\n",
    "for i in range(nx):\n",
    "    x = (i - nx/2.0) * dx\n",
    "    if (np.sqrt(x**2) < 10*dx):\n",
    "        u0[i] = 10.0\n",
    "\n",
    "        \n",
    "with Timer(\"Initialization\") as t:\n",
    "    simulator = HeatEquation(u0, kappa, dx, dt)"
   ]
  },
  {
   "cell_type": "code",
   "execution_count": 21,
   "metadata": {},
   "outputs": [
    {
     "name": "stderr",
     "output_type": "stream",
     "text": [
      "Animation.save using <class 'matplotlib.animation.FFMpegWriter'>\n",
      "frame size in pixels is 864 x 576\n",
      "MovieWriter.run: running command: ['ffmpeg', '-f', 'rawvideo', '-vcodec', 'rawvideo', '-s', '864x576', '-pix_fmt', 'rgba', '-r', '10.0', '-i', 'pipe:', '-vcodec', 'h264', '-pix_fmt', 'yuv420p', '-y', 'C:\\\\Users\\\\anbro\\\\AppData\\\\Local\\\\Temp\\\\tmpptzo65yu.m4v']\n"
     ]
    },
    {
     "name": "stdout",
     "output_type": "stream",
     "text": [
      ".."
     ]
    },
    {
     "name": "stderr",
     "output_type": "stream",
     "text": [
      "MovieWriter.grab_frame: Grabbing frame.\n"
     ]
    },
    {
     "name": "stdout",
     "output_type": "stream",
     "text": [
      "."
     ]
    },
    {
     "name": "stderr",
     "output_type": "stream",
     "text": [
      "MovieWriter.grab_frame: Grabbing frame.\n"
     ]
    },
    {
     "name": "stdout",
     "output_type": "stream",
     "text": [
      "."
     ]
    },
    {
     "name": "stderr",
     "output_type": "stream",
     "text": [
      "MovieWriter.grab_frame: Grabbing frame.\n"
     ]
    },
    {
     "name": "stdout",
     "output_type": "stream",
     "text": [
      "."
     ]
    },
    {
     "name": "stderr",
     "output_type": "stream",
     "text": [
      "MovieWriter.grab_frame: Grabbing frame.\n"
     ]
    },
    {
     "name": "stdout",
     "output_type": "stream",
     "text": [
      "."
     ]
    },
    {
     "name": "stderr",
     "output_type": "stream",
     "text": [
      "MovieWriter.grab_frame: Grabbing frame.\n"
     ]
    },
    {
     "name": "stdout",
     "output_type": "stream",
     "text": [
      "."
     ]
    },
    {
     "name": "stderr",
     "output_type": "stream",
     "text": [
      "MovieWriter.grab_frame: Grabbing frame.\n"
     ]
    },
    {
     "name": "stdout",
     "output_type": "stream",
     "text": [
      "."
     ]
    },
    {
     "name": "stderr",
     "output_type": "stream",
     "text": [
      "MovieWriter.grab_frame: Grabbing frame.\n"
     ]
    },
    {
     "name": "stdout",
     "output_type": "stream",
     "text": [
      "."
     ]
    },
    {
     "name": "stderr",
     "output_type": "stream",
     "text": [
      "MovieWriter.grab_frame: Grabbing frame.\n"
     ]
    },
    {
     "name": "stdout",
     "output_type": "stream",
     "text": [
      "."
     ]
    },
    {
     "name": "stderr",
     "output_type": "stream",
     "text": [
      "MovieWriter.grab_frame: Grabbing frame.\n"
     ]
    },
    {
     "name": "stdout",
     "output_type": "stream",
     "text": [
      "."
     ]
    },
    {
     "name": "stderr",
     "output_type": "stream",
     "text": [
      "MovieWriter.grab_frame: Grabbing frame.\n"
     ]
    },
    {
     "name": "stdout",
     "output_type": "stream",
     "text": [
      "."
     ]
    },
    {
     "name": "stderr",
     "output_type": "stream",
     "text": [
      "MovieWriter.grab_frame: Grabbing frame.\n"
     ]
    },
    {
     "name": "stdout",
     "output_type": "stream",
     "text": [
      "."
     ]
    },
    {
     "name": "stderr",
     "output_type": "stream",
     "text": [
      "MovieWriter.grab_frame: Grabbing frame.\n"
     ]
    },
    {
     "name": "stdout",
     "output_type": "stream",
     "text": [
      "."
     ]
    },
    {
     "name": "stderr",
     "output_type": "stream",
     "text": [
      "MovieWriter.grab_frame: Grabbing frame.\n"
     ]
    },
    {
     "name": "stdout",
     "output_type": "stream",
     "text": [
      "."
     ]
    },
    {
     "name": "stderr",
     "output_type": "stream",
     "text": [
      "MovieWriter.grab_frame: Grabbing frame.\n"
     ]
    },
    {
     "name": "stdout",
     "output_type": "stream",
     "text": [
      "."
     ]
    },
    {
     "name": "stderr",
     "output_type": "stream",
     "text": [
      "MovieWriter.grab_frame: Grabbing frame.\n"
     ]
    },
    {
     "name": "stdout",
     "output_type": "stream",
     "text": [
      "."
     ]
    },
    {
     "name": "stderr",
     "output_type": "stream",
     "text": [
      "MovieWriter.grab_frame: Grabbing frame.\n"
     ]
    },
    {
     "name": "stdout",
     "output_type": "stream",
     "text": [
      "."
     ]
    },
    {
     "name": "stderr",
     "output_type": "stream",
     "text": [
      "MovieWriter.grab_frame: Grabbing frame.\n"
     ]
    },
    {
     "name": "stdout",
     "output_type": "stream",
     "text": [
      "."
     ]
    },
    {
     "name": "stderr",
     "output_type": "stream",
     "text": [
      "MovieWriter.grab_frame: Grabbing frame.\n"
     ]
    },
    {
     "name": "stdout",
     "output_type": "stream",
     "text": [
      "."
     ]
    },
    {
     "name": "stderr",
     "output_type": "stream",
     "text": [
      "MovieWriter.grab_frame: Grabbing frame.\n"
     ]
    },
    {
     "name": "stdout",
     "output_type": "stream",
     "text": [
      "."
     ]
    },
    {
     "name": "stderr",
     "output_type": "stream",
     "text": [
      "MovieWriter.grab_frame: Grabbing frame.\n"
     ]
    },
    {
     "name": "stdout",
     "output_type": "stream",
     "text": [
      "."
     ]
    },
    {
     "name": "stderr",
     "output_type": "stream",
     "text": [
      "MovieWriter.grab_frame: Grabbing frame.\n"
     ]
    },
    {
     "name": "stdout",
     "output_type": "stream",
     "text": [
      "."
     ]
    },
    {
     "name": "stderr",
     "output_type": "stream",
     "text": [
      "MovieWriter.grab_frame: Grabbing frame.\n"
     ]
    },
    {
     "name": "stdout",
     "output_type": "stream",
     "text": [
      "."
     ]
    },
    {
     "name": "stderr",
     "output_type": "stream",
     "text": [
      "MovieWriter.grab_frame: Grabbing frame.\n"
     ]
    },
    {
     "name": "stdout",
     "output_type": "stream",
     "text": [
      "."
     ]
    },
    {
     "name": "stderr",
     "output_type": "stream",
     "text": [
      "MovieWriter.grab_frame: Grabbing frame.\n"
     ]
    },
    {
     "name": "stdout",
     "output_type": "stream",
     "text": [
      "."
     ]
    },
    {
     "name": "stderr",
     "output_type": "stream",
     "text": [
      "MovieWriter.grab_frame: Grabbing frame.\n"
     ]
    },
    {
     "name": "stdout",
     "output_type": "stream",
     "text": [
      "."
     ]
    },
    {
     "name": "stderr",
     "output_type": "stream",
     "text": [
      "MovieWriter.grab_frame: Grabbing frame.\n"
     ]
    },
    {
     "name": "stdout",
     "output_type": "stream",
     "text": [
      "."
     ]
    },
    {
     "name": "stderr",
     "output_type": "stream",
     "text": [
      "MovieWriter.grab_frame: Grabbing frame.\n"
     ]
    },
    {
     "name": "stdout",
     "output_type": "stream",
     "text": [
      "."
     ]
    },
    {
     "name": "stderr",
     "output_type": "stream",
     "text": [
      "MovieWriter.grab_frame: Grabbing frame.\n"
     ]
    },
    {
     "name": "stdout",
     "output_type": "stream",
     "text": [
      "."
     ]
    },
    {
     "name": "stderr",
     "output_type": "stream",
     "text": [
      "MovieWriter.grab_frame: Grabbing frame.\n"
     ]
    },
    {
     "name": "stdout",
     "output_type": "stream",
     "text": [
      "."
     ]
    },
    {
     "name": "stderr",
     "output_type": "stream",
     "text": [
      "MovieWriter.grab_frame: Grabbing frame.\n"
     ]
    },
    {
     "name": "stdout",
     "output_type": "stream",
     "text": [
      "."
     ]
    },
    {
     "name": "stderr",
     "output_type": "stream",
     "text": [
      "MovieWriter.grab_frame: Grabbing frame.\n"
     ]
    },
    {
     "name": "stdout",
     "output_type": "stream",
     "text": [
      "."
     ]
    },
    {
     "name": "stderr",
     "output_type": "stream",
     "text": [
      "MovieWriter.grab_frame: Grabbing frame.\n"
     ]
    },
    {
     "name": "stdout",
     "output_type": "stream",
     "text": [
      "."
     ]
    },
    {
     "name": "stderr",
     "output_type": "stream",
     "text": [
      "MovieWriter.grab_frame: Grabbing frame.\n"
     ]
    },
    {
     "name": "stdout",
     "output_type": "stream",
     "text": [
      "."
     ]
    },
    {
     "name": "stderr",
     "output_type": "stream",
     "text": [
      "MovieWriter.grab_frame: Grabbing frame.\n"
     ]
    },
    {
     "name": "stdout",
     "output_type": "stream",
     "text": [
      "."
     ]
    },
    {
     "name": "stderr",
     "output_type": "stream",
     "text": [
      "MovieWriter.grab_frame: Grabbing frame.\n"
     ]
    },
    {
     "name": "stdout",
     "output_type": "stream",
     "text": [
      "."
     ]
    },
    {
     "name": "stderr",
     "output_type": "stream",
     "text": [
      "MovieWriter.grab_frame: Grabbing frame.\n"
     ]
    },
    {
     "name": "stdout",
     "output_type": "stream",
     "text": [
      "."
     ]
    },
    {
     "name": "stderr",
     "output_type": "stream",
     "text": [
      "MovieWriter.grab_frame: Grabbing frame.\n"
     ]
    },
    {
     "name": "stdout",
     "output_type": "stream",
     "text": [
      "."
     ]
    },
    {
     "name": "stderr",
     "output_type": "stream",
     "text": [
      "MovieWriter.grab_frame: Grabbing frame.\n"
     ]
    },
    {
     "name": "stdout",
     "output_type": "stream",
     "text": [
      "."
     ]
    },
    {
     "name": "stderr",
     "output_type": "stream",
     "text": [
      "MovieWriter.grab_frame: Grabbing frame.\n"
     ]
    },
    {
     "name": "stdout",
     "output_type": "stream",
     "text": [
      "."
     ]
    },
    {
     "name": "stderr",
     "output_type": "stream",
     "text": [
      "MovieWriter.grab_frame: Grabbing frame.\n"
     ]
    },
    {
     "name": "stdout",
     "output_type": "stream",
     "text": [
      "."
     ]
    },
    {
     "name": "stderr",
     "output_type": "stream",
     "text": [
      "MovieWriter.grab_frame: Grabbing frame.\n"
     ]
    },
    {
     "name": "stdout",
     "output_type": "stream",
     "text": [
      "."
     ]
    },
    {
     "name": "stderr",
     "output_type": "stream",
     "text": [
      "MovieWriter.grab_frame: Grabbing frame.\n"
     ]
    },
    {
     "name": "stdout",
     "output_type": "stream",
     "text": [
      "."
     ]
    },
    {
     "name": "stderr",
     "output_type": "stream",
     "text": [
      "MovieWriter.grab_frame: Grabbing frame.\n"
     ]
    },
    {
     "name": "stdout",
     "output_type": "stream",
     "text": [
      "."
     ]
    },
    {
     "name": "stderr",
     "output_type": "stream",
     "text": [
      "MovieWriter.grab_frame: Grabbing frame.\n"
     ]
    },
    {
     "name": "stdout",
     "output_type": "stream",
     "text": [
      "."
     ]
    },
    {
     "name": "stderr",
     "output_type": "stream",
     "text": [
      "MovieWriter.grab_frame: Grabbing frame.\n"
     ]
    },
    {
     "name": "stdout",
     "output_type": "stream",
     "text": [
      "."
     ]
    },
    {
     "name": "stderr",
     "output_type": "stream",
     "text": [
      "MovieWriter.grab_frame: Grabbing frame.\n"
     ]
    },
    {
     "name": "stdout",
     "output_type": "stream",
     "text": [
      "."
     ]
    },
    {
     "name": "stderr",
     "output_type": "stream",
     "text": [
      "MovieWriter.grab_frame: Grabbing frame.\n"
     ]
    },
    {
     "name": "stdout",
     "output_type": "stream",
     "text": [
      "."
     ]
    },
    {
     "name": "stderr",
     "output_type": "stream",
     "text": [
      "MovieWriter.grab_frame: Grabbing frame.\n"
     ]
    },
    {
     "name": "stdout",
     "output_type": "stream",
     "text": [
      "."
     ]
    },
    {
     "name": "stderr",
     "output_type": "stream",
     "text": [
      "MovieWriter.grab_frame: Grabbing frame.\n"
     ]
    },
    {
     "name": "stdout",
     "output_type": "stream",
     "text": [
      "."
     ]
    },
    {
     "name": "stderr",
     "output_type": "stream",
     "text": [
      "MovieWriter.grab_frame: Grabbing frame.\n",
      "MovieWriter -- Command stdout:\n",
      "b''\n",
      "MovieWriter -- Command stderr:\n",
      "b\"ffmpeg version N-76278-gd897d4c Copyright (c) 2000-2015 the FFmpeg developers\\r\\n  built with gcc 5.2.0 (GCC)\\r\\n  configuration: --enable-gpl --enable-version3 --disable-w32threads --enable-avisynth --enable-bzlib --enable-fontconfig --enable-frei0r --enable-gnutls --enable-iconv --enable-libass --enable-libbluray --enable-libbs2b --enable-libcaca --enable-libdcadec --enable-libfreetype --enable-libgme --enable-libgsm --enable-libilbc --enable-libmodplug --enable-libmp3lame --enable-libopencore-amrnb --enable-libopencore-amrwb --enable-libopenjpeg --enable-libopus --enable-librtmp --enable-libschroedinger --enable-libsoxr --enable-libspeex --enable-libtheora --enable-libtwolame --enable-libvidstab --enable-libvo-aacenc --enable-libvo-amrwbenc --enable-libvorbis --enable-libvpx --enable-libwavpack --enable-libwebp --enable-libx264 --enable-libx265 --enable-libxavs --enable-libxvid --enable-lzma --enable-decklink --enable-zlib\\r\\n  libavutil      55.  4.100 / 55.  4.100\\r\\n  libavcodec     57. 10.100 / 57. 10.100\\r\\n  libavformat    57. 11.100 / 57. 11.100\\r\\n  libavdevice    57.  0.100 / 57.  0.100\\r\\n  libavfilter     6. 14.100 /  6. 14.100\\r\\n  libswscale      4.  0.100 /  4.  0.100\\r\\n  libswresample   2.  0.100 /  2.  0.100\\r\\n  libpostproc    54.  0.100 / 54.  0.100\\r\\nInput #0, rawvideo, from 'pipe:':\\r\\n  Duration: N/A, start: 0.000000, bitrate: 159252 kb/s\\r\\n    Stream #0:0: Video: rawvideo (RGBA / 0x41424752), rgba, 864x576, 159252 kb/s, 10 tbr, 10 tbn, 10 tbc\\r\\n[libx264 @ 000000782aba8de0] using cpu capabilities: MMX2 SSE2Fast SSSE3 SSE4.2 AVX FMA3 AVX2 LZCNT BMI2\\r\\n[libx264 @ 000000782aba8de0] profile High, level 3.1\\r\\n[libx264 @ 000000782aba8de0] 264 - core 148 r2638 7599210 - H.264/MPEG-4 AVC codec - Copyleft 2003-2015 - http://www.videolan.org/x264.html - options: cabac=1 ref=3 deblock=1:0:0 analyse=0x3:0x113 me=hex subme=7 psy=1 psy_rd=1.00:0.00 mixed_ref=1 me_range=16 chroma_me=1 trellis=1 8x8dct=1 cqm=0 deadzone=21,11 fast_pskip=1 chroma_qp_offset=-2 threads=6 lookahead_threads=1 sliced_threads=0 nr=0 decimate=1 interlaced=0 bluray_compat=0 constrained_intra=0 bframes=3 b_pyramid=2 b_adapt=1 b_bias=0 direct=1 weightb=1 open_gop=0 weightp=2 keyint=250 keyint_min=10 scenecut=40 intra_refresh=0 rc_lookahead=40 rc=crf mbtree=1 crf=23.0 qcomp=0.60 qpmin=0 qpmax=69 qpstep=4 ip_ratio=1.40 aq=1:1.00\\r\\nOutput #0, ipod, to 'C:\\\\Users\\\\anbro\\\\AppData\\\\Local\\\\Temp\\\\tmpptzo65yu.m4v':\\r\\n  Metadata:\\r\\n    encoder         : Lavf57.11.100\\r\\n    Stream #0:0: Video: h264 (libx264) (avc1 / 0x31637661), yuv420p, 864x576, q=-1--1, 10 fps, 10240 tbn, 10 tbc\\r\\n    Metadata:\\r\\n      encoder         : Lavc57.10.100 libx264\\r\\nStream mapping:\\r\\n  Stream #0:0 -> #0:0 (rawvideo (native) -> h264 (libx264))\\r\\nframe=   11 fps=0.0 q=0.0 size=       0kB time=00:00:00.00 bitrate=N/A    \\rframe=   19 fps= 18 q=0.0 size=       0kB time=00:00:00.00 bitrate=N/A    \\rframe=   27 fps= 17 q=0.0 size=       0kB time=00:00:00.00 bitrate=N/A    \\rframe=   35 fps= 17 q=0.0 size=       0kB time=00:00:00.00 bitrate=N/A    \\rframe=   44 fps= 16 q=0.0 size=       0kB time=00:00:00.00 bitrate=N/A    \\rframe=   50 fps= 16 q=0.0 size=       0kB time=00:00:00.00 bitrate=N/A    \\rframe=   50 fps= 15 q=-1.0 Lsize=      32kB time=00:00:04.80 bitrate=  55.2kbits/s    \\r\\nvideo:31kB audio:0kB subtitle:0kB other streams:0kB global headers:0kB muxing overhead: 4.395639%\\r\\n[libx264 @ 000000782aba8de0] frame I:1     Avg QP: 9.19  size:  2894\\r\\n[libx264 @ 000000782aba8de0] frame P:28    Avg QP:16.89  size:   833\\r\\n[libx264 @ 000000782aba8de0] frame B:21    Avg QP:17.32  size:   230\\r\\n[libx264 @ 000000782aba8de0] consecutive B-frames: 20.0% 72.0%  0.0%  8.0%\\r\\n[libx264 @ 000000782aba8de0] mb I  I16..4: 86.9% 10.6%  2.5%\\r\\n[libx264 @ 000000782aba8de0] mb P  I16..4:  0.5%  0.3%  0.1%  P16..4:  2.8%  1.6%  0.5%  0.0%  0.0%    skip:94.1%\\r\\n[libx264 @ 000000782aba8de0] mb B  I16..4:  0.1%  0.1%  0.0%  B16..8:  3.2%  1.0%  0.0%  direct: 0.0%  skip:95.6%  L0:40.5% L1:37.9% BI:21.6%\\r\\n[libx264 @ 000000782aba8de0] 8x8 transform intra:16.7% inter:8.0%\\r\\n[libx264 @ 000000782aba8de0] coded y,uvDC,uvAC intra: 3.8% 5.1% 4.2% inter: 0.5% 0.6% 0.5%\\r\\n[libx264 @ 000000782aba8de0] i16 v,h,dc,p: 82% 15%  3%  0%\\r\\n[libx264 @ 000000782aba8de0] i8 v,h,dc,ddl,ddr,vr,hd,vl,hu: 38% 11% 51%  0%  0%  0%  0%  0%  0%\\r\\n[libx264 @ 000000782aba8de0] i4 v,h,dc,ddl,ddr,vr,hd,vl,hu: 25% 21% 41%  2%  1%  3%  1%  4%  1%\\r\\n[libx264 @ 000000782aba8de0] i8c dc,h,v,p: 89%  5%  6%  0%\\r\\n[libx264 @ 000000782aba8de0] Weighted P-Frames: Y:0.0% UV:0.0%\\r\\n[libx264 @ 000000782aba8de0] ref P L0: 79.2%  0.9% 14.0%  5.9%\\r\\n[libx264 @ 000000782aba8de0] ref B L0: 81.0% 18.5%  0.5%\\r\\n[libx264 @ 000000782aba8de0] ref B L1: 99.4%  0.6%\\r\\n[libx264 @ 000000782aba8de0] kb/s:49.68\\r\\n\"\n"
     ]
    },
    {
     "data": {
      "text/html": [
       "<video width=\"864\" height=\"576\" controls autoplay loop>\n",
       "  <source type=\"video/mp4\" src=\"data:video/mp4;base64,AAAAHGZ0eXBNNFYgAAACAGlzb21pc28yYXZjMQAAAAhmcmVlAAB8AW1kYXQAAAKuBgX//6rcRem9\n",
       "5tlIt5Ys2CDZI+7veDI2NCAtIGNvcmUgMTQ4IHIyNjM4IDc1OTkyMTAgLSBILjI2NC9NUEVHLTQg\n",
       "QVZDIGNvZGVjIC0gQ29weWxlZnQgMjAwMy0yMDE1IC0gaHR0cDovL3d3dy52aWRlb2xhbi5vcmcv\n",
       "eDI2NC5odG1sIC0gb3B0aW9uczogY2FiYWM9MSByZWY9MyBkZWJsb2NrPTE6MDowIGFuYWx5c2U9\n",
       "MHgzOjB4MTEzIG1lPWhleCBzdWJtZT03IHBzeT0xIHBzeV9yZD0xLjAwOjAuMDAgbWl4ZWRfcmVm\n",
       "PTEgbWVfcmFuZ2U9MTYgY2hyb21hX21lPTEgdHJlbGxpcz0xIDh4OGRjdD0xIGNxbT0wIGRlYWR6\n",
       "b25lPTIxLDExIGZhc3RfcHNraXA9MSBjaHJvbWFfcXBfb2Zmc2V0PS0yIHRocmVhZHM9NiBsb29r\n",
       "YWhlYWRfdGhyZWFkcz0xIHNsaWNlZF90aHJlYWRzPTAgbnI9MCBkZWNpbWF0ZT0xIGludGVybGFj\n",
       "ZWQ9MCBibHVyYXlfY29tcGF0PTAgY29uc3RyYWluZWRfaW50cmE9MCBiZnJhbWVzPTMgYl9weXJh\n",
       "bWlkPTIgYl9hZGFwdD0xIGJfYmlhcz0wIGRpcmVjdD0xIHdlaWdodGI9MSBvcGVuX2dvcD0wIHdl\n",
       "aWdodHA9MiBrZXlpbnQ9MjUwIGtleWludF9taW49MTAgc2NlbmVjdXQ9NDAgaW50cmFfcmVmcmVz\n",
       "aD0wIHJjX2xvb2thaGVhZD00MCByYz1jcmYgbWJ0cmVlPTEgY3JmPTIzLjAgcWNvbXA9MC42MCBx\n",
       "cG1pbj0wIHFwbWF4PTY5IHFwc3RlcD00IGlwX3JhdGlvPTEuNDAgYXE9MToxLjAwAIAAAAtKZYiE\n",
       "AD///vdonwKbWkN6gOSVxSXbT4H/q2dwfI/pAwAAAwAAAwAAAwAAdaFhgCmDV9FhwAAAAwAJoAFQ\n",
       "AK93P4ieGzAe4MH6OUkEWOCTV6SFaUEFs2GJ0Ny3+KaiyGswCJv6bWgynJ8NNXQYPj0OJzFho5UY\n",
       "eqxmYqwo9beNavAmBj0qTckXKxgh1kCf9EpPtG+P2cQc4mTb+cDgvVcps8bqsIUADA8JvtytSLEF\n",
       "5akCpOCaS1jcIWXynN+IR8DufL1bVn+Rc9rk2CQ0B5VN22IIHoX535MMo5TpZZFKkli9h40mhCLj\n",
       "vs7+vl3XBAvoI+KMAGcCjKI4X9K7LtnjXwA6EkspkawRIrvoQbNy1QmVuTtrTNHglG2Cv4n/i+6p\n",
       "3921BhiNPQRMVHFXMdJd6ewUJlvsSCdym1gutZ4oiAJ3+sh7vE7cTuEIqoKAABKHKX/oqBnxszWZ\n",
       "OPwvmSEWcPFW7zleTNx6K/3fS8LfxgMxAcDuyJkiyUppcvwBxeP31UWo0x2Te1pFT9J8EU84qyLG\n",
       "4KnkdMtBtqklENLdhoKcqCVhSYHABEmH4xVqdcWDeNZ+9NeLaOSa0GiGggVmp623VabJjsRCHMgH\n",
       "Tw+dz+EgxdV8RzyIDF53Di468fHbxQj2VH+wM9WnCiMC6lR8B9eL6bbeMfIBHeumRUsEMY07vBbT\n",
       "DfLqrDlgcWJtHr6PcHiQaXTU9zaR8RpOLjHr55a0A95Caj6Q0za9dUdEtS8lVJ82oQnpVYbNXlGd\n",
       "OKHOIOX71a43NAkffPt8t5BQ22l3ZGTcfeAPYAuMhSzmhM60yy9dxeceK2UAw75dezqZPB8+0XfR\n",
       "quvVWrColluxnLwcdDkCLpmmOt0SSy4xGL2fGBvz/CaHIxyJ5TlJqsT/AiULOrtQGTCTH6rPHBb2\n",
       "A23RlA46DEJL+pabFIMf2Xvr26Nt3zItzXn1KGonVli2EJmeAU580yVpSJrPu46otwLdHMwSvAH+\n",
       "C8REQG4zLnolKNMzuL3yOw3MXN9sqDvJhRmG0VGc8m8lmcif0AfP6hU3Jvcgy3mXxE8VtsIcx72a\n",
       "LVeOVado+sif5S/61Gn7iXBpGBbtHStwdtevnW5JKlHq1sXvbhhw1VxyXMrx8uhmu14e+/i8G+yR\n",
       "ao1aubuAvDx4ZhSUrQOg8a55IRKco5R4DkirI7S/5cWGfsdAYUKDrzE03hVT3+znSFg/C5iuDMo/\n",
       "lsy5rdUzJ4BPeV2FPwoUOiPgaYS+pCoud7lR+n9FYGKWUfIRHaKN/FHTh4h4sA8Eh6Z6Tr6cGfwg\n",
       "tkQbZtvxJ7SNAwG4U2DYeHPnul+VcwuV689yxw0LHvOnyJG8Zk1N6xoHjInGAXBKqHczZnhvhpJP\n",
       "QVsV1uCkcEP+Yl2Cl2st0gXXLkz3p6lhrTlCfIYf4T94MR9yf6W0Lo+LnDQDi4LY9Z36ykkXt2z/\n",
       "u9QjXoiqjpH+g+oudn1MzfA1cJRHH2PdGZM97kYKzuNYde9zDEwQbeAvm56lQ3P9MBi6//vCPScO\n",
       "u6vi6Ie+90bojGlrlo6C5viKI7Jj36qHYohFuvfbZus33pTRd33B9muyrN0lnclmWLetHNSQurSJ\n",
       "f5tx+60nlkhQ797849/ED8diRvA7EniuKqTQF344JCEYK8flMJClfWqVy4LDTx+upm4buzTlrkH1\n",
       "uN91W/p7/7nZax8kdF5CoL1DRDhfsyHK7Fuq4+lQwmh37obVYaJpnVOTNp2pmAbx8OmvwzdW1YFs\n",
       "DQR/ZDfk2uyz8eaX+k3Fg6AGiy3tDMURtdgIVm2977mTtAj/+0kLIQ7aC7C2430TEAjnUM92doFG\n",
       "EMi7IWdSrfqqma/elddHHIqd2zbnMAwM9p2aK6lnpWkpZS5mxu0KA67SccdOZHpXtALrz6xpGCYv\n",
       "w+JCuisuMzUgDKFbejnSVLG8+teYR584TyRIGdqMPnvUuJQmBf9+3pPaYRWAKAapFeIDGTNTfzj3\n",
       "KQws7ew5+8ZsNTMX2jpm+ZlTJo7EcdcoYdhtukXoqhOU+L53po2vJHjgVFyjd9o/gn3RZvOjbW9k\n",
       "xuxlomB7N8GTW7Lf+hON3DC76Um85BlEktp9bl7hCrRsP97SANhwU+aEouCfgC2kUi4QUgGqdFHe\n",
       "780V3/A5AM9PadRByVrywyc9OBUXRYHiw86/N4QAXlmOqfBsyp4hkCAaqUU+EzCN21NNDHehVAAf\n",
       "d8x/VPSOAvcH9/HAt+8AUMvJ6xpZzVhgM6ipp0RSFERQEsmZ7lXaApJ/y1EC11XjlTshd6T4I7Uu\n",
       "3JAaNl8+iR46VICIRLAWqaRt5CEVM99IsqawXsNmOP12g7xuzoQLVwV8y7E2HIUabWcRtvwLE4BT\n",
       "gt9WgXu1EJEQUATfwPSzRNBiQ0qc6koQ7ZT7qW2iWT9/IR/nk6uAT/6cxKE7Hm3/VGVdpY/NBWNb\n",
       "6hncrrc14+nQ+pw0u1hgBqd1rUD6njiMPEtwHTIBXYMafqe9oYXRIIKwcLmgYWRhlvJPMizSQuiu\n",
       "U8oii2yM5CJUXe/e9QLG4f+cculVQQroGN9fDPkxTu7ZtQX9W3iSlEgrXt/+Hc7nZX+tXS0YqWL3\n",
       "Y7LcArrmUwX8mqRQW7FTaoGuDXU1ot+/S5kZI+04tddmtkpgBRZ2FOqw8JfHzB5fic0onYwIj2g0\n",
       "YnJJnAcFx0/y5B/9H8zanjV8fYLVMtzskFp2Ts5QHzdYR4/UKeSO05narNf0CdlUL0xlcWRSt4zf\n",
       "g4uGHyEcgBpebs+GM7iZBFDxCk0RnSt6vPNd6EoeeY/o5qDZ1H7Mhl91FyPZEULGni5OjsKGIexk\n",
       "UEcuDgAJX/ggZxrvsRlTl/cPmxP3pzUZLMdKzC4AB1ZAo0tygeuUBmNgB8TfvzG+U/Bgj+4XuRyx\n",
       "7a5aywBrjR96qnYStbCbRxncJlJubZJKDRCm0SqkhEZaoblbeb/Jsta9PhTgDiJsVVn+62vO0QeG\n",
       "ggjIGB/hZOoDWeU4h8hNfHD27uNz3z6s8vAL5YBViIMZu1JvPt1okhbo0pp2XoG78Ipz/79BLIKl\n",
       "GRZY853rVchY20HI49DzRQWVs5H30ceRfXYJysNHx345Zal4K1W7nj+lbzPlmnjMBSwjauB6byJ+\n",
       "AFiZljItdqXZxutmXsH/0kr6tH9xRL+9W+mz0cJu36M9I0gGY1kBx9jMNSlsfZ1HLAPDUYhgcVb2\n",
       "zKGIChG618lJPQRZijSgWYlCjYQSUMTduP1WJ1pE4ULdPx1Ep6elJz6bHU2DMAqT4XX8Hp8L3ptj\n",
       "S37X/h6thO6Jxp91u8ynlBFDlvwKoznz8e7XdUiNrl+gcvxcYS0mzu+SwPHTLl9IVAPHftunRPky\n",
       "1i0KJNH1wluzpUSnys+Pa1zEFaHe8XVZK+i+1y6F6Cb9KCxStiflvMPyMP+0dbBg7YPmy/rxH1QG\n",
       "eWv896BpJjIHAuMj8fbeDcNGcLrcXzNaXfuk6BJY5gHdFgGBx/VV5X2iGZP5fhl4pwjWkgil4s8T\n",
       "/GsnpzBTQJ5RuEUisw7oMGcfHx8k6RVaPMXVedcmujjRNDfKIUP9f3cKtqxgMPEofI3KCCw3H+pr\n",
       "KO6sWdO7WCtnHrpUIg8azD/ilBLaT6t80V8OxsYeJ3Vjf3rrvpj5eeMVNRR8NeuWDbwbiWOTfrHS\n",
       "Pmq8V6vdlPNJN9afXrsKa3AMFRge3E+cLt9lGIxATMqJ/ijuUzmK57SMJaK/tB6D40ZX8gP4coSV\n",
       "HKqQimnhnELkncHG5EFJK2seGfxPyJ3r8EXkJIm4Q1PNJlC7HdZAF7uZ8kPs9CD0geJ2CEGocfCj\n",
       "5iqtcqBhFNyDKpTznynttus4IzpygAAAAwATMAAAAwAAAwDNgQAACBNBmiFsQ//+qZYAAz2NZgM3\n",
       "1VDUKqXIdlOVE/+b9h8u3m2x+i0WtP1bZrugItEQM6F9BakJebHnOdU4Kwq3BOui8FZfWpuUwtEm\n",
       "slKYlCVi2TExbxZnUo5tYLt/qtpltqtjR/7oK5UOiAe3z2W2d5bpmM8Y+O+942/Pzy344J0NpBY4\n",
       "pWgiatlDrQ9F8mJ8xg0E4U+Z/m5gm5qiBsQDkqJXQOTRM8IVDth/HK+V2JT29HRPE9VLNFif4h1N\n",
       "faRfysKyS0eTtyovDfT8exuVE+iMMhtviBFSGbYdmwn1CLlNAnDZ1/G9kYef4wCUwAx5epozdCee\n",
       "G4uCK6+m0zvIAFkQQUDfGHlM5qzfiLy246TkRu1AT8cRqkFntpIzxGd3TRON49ZvACnPibZsnh0q\n",
       "JmssiBF2JIyaayZwwVp6hWvnnekkWEME4oQrNzb/XMjXpUxe+yMu62oxbYaZVqD9JszJTVjpo5hr\n",
       "WIW9gcKHu057hkr7FLt9b3zzol4S+ZaiEvTLe5bgWvjAl6CJEbAbBsvJMEtTlp0oM15buOJ1GAx4\n",
       "JP/9MZ2aBGrJiyWZ3BKuhrw06hvxmCslMXSNlKoO+NBa/9OEUy99Y/kcRpb6JU18J4aHIWX1w9hw\n",
       "4Miwr5ptFdZfGOOgmL8JPFETTmAM5F18BA04/3/Tr3UmfqflUZrLky82U1XrCaOhmrkxbjttHaCn\n",
       "fUbwkKrNrnnqmaZlWwWIkWMaB1441giDYXmFIlopl+y4A/b/AR5dFEFWE2BYvcLueSQfpyEm3rpr\n",
       "rgr273Bu7fde3A9jaToczIYgHVzjfqm8yMXDLIw0sj80++o/FQu0aW0xNAmQ2wbOQ9qR1SeKJx6Z\n",
       "gD/up5w+ITd10gM0SF3Io9WVIZNJOtxsZaGb7SYD/7MshO7kmh+5G5t6MPgJ89E+mY+8/uvU69Bt\n",
       "gCNPblhMW5f+u1xodCOi2QjCY+WtH5IVzRMHSD+WSnGy6PG7t1ILPY+zlzfGmsEWcKxjIUfMVNoe\n",
       "xDlC9PFUT2iHv/oyl0eMSYM1dwwPW4ds07a/O9UNXIGR4A5XFFEFrQMc3YOhwkJ8bEe02iNVA6PR\n",
       "wyP+rt/yMN6bMPjvdF2wsoWlLBF7srLuKb0CEG07ykuP1/UAtR8XElfog+KAKfEr21bWfBMJ0jlU\n",
       "0rqIJl8EQThYS0tc7EwYEiZ0QoD+mPCliGA6P3gHDwrAjoPkk/LkenSaGEpHlUaxNFfdqZfh9Tuq\n",
       "zh4TiWczsWnTKb8ew2IK5tXe6+t7uDv6bxTCTipLEAieXnF4DWsi1M/u6aW5liXPxZP/fC44xULg\n",
       "JOF9sbuKZ7Bg04Jp6q1ao4NEr5qJN0hQbRtvpFj8OpGvV61oFUqomeB2qy/CTNDAHUermDBseUG2\n",
       "uPM3bz567+Yh3wfVuqgSndUWWOpo1iTgbMA3V7syatJyNltgtP4dP3tj4FHkHZYLlk35KYyCUbXw\n",
       "oMcKI+yp0WO+c1lPAo4mzzNqbCC/DtWoeXVXkNU8xBaoNT64cQ/QgkWty3FXvk4xAy3D05HTnGLH\n",
       "5PhaHdVWtkNN7lPVDdPgcrYXaU7ATJLAXUMA9SnBogmrLAeFLTbmJBqoZn5Z9S7tkW1MXHsP2Z/x\n",
       "BACoNmgtA1uX0BLDpfhOChnF4ZCmdcn+1pM0D9RBopLSSL5FhXiv08fY7y9rct/RjsTvp+uTiE7C\n",
       "Jh1+AastnXPS/h15Lj0AqEY/qUvR72aNnM4TANbbcqaZ0/zz5tvqQHM9/q+eVcUlh/9kSEVMn4nU\n",
       "AcX648znraANaVNWPWnrxnV5dXCYrRWsRKale2ABreg2a9p88k8vwSWqEMUxNaUpqAl/9SiiI/fO\n",
       "mmjRGxMx58GkcAnavSS4Ye0B4q0yoeEBfwKNAVLtUp53LVZsX2ypwl1xsDGTQPqPvr0U4iyMLdQx\n",
       "LBQjztdL+7kRxdIAQEuyXVUqzfyvI6WJPe86rI6W/mv2CESr8enerCtP7CL/i6baLTjltvO5rJgK\n",
       "wJ48NQRDlPOaZoT/jz+5ZRYzySqmZwOKCQsVMB+/Ttlt1LB9mjzKiaHbVCr9TGNiwq5hYYPjR17r\n",
       "SNlMbZfOmkQKtLz4oebDzpeThifucFpyy+O7xz+Fw3gPKpCh+XwCn741u77GIDnKvUbj5Y5SSib6\n",
       "MxvBJ3U1njvpviFhE53mMgnK5/pYQ6uEgo/MWfpsbrWrhpWwb3B0R6yrb3nUNrQ23Kh1bilNV8jV\n",
       "HiQOnd8XmgFFcDs1hybdkYTuFKyjz+k+yQ971xrcaLQ3TcRHBci6/unNqFOgh9idcP58/P3OntZU\n",
       "ql8807LEZ2HhWbBwWtbgsZQemYV2vuFmySj47dKSAFRRzTahvSeTldR7cQilVpH6k+ceS107DA4S\n",
       "mb+gCK8NgcpnFVnR2+BiX1nWHQz3AURYOb5eudnk4QNSESweO78hkmlTg/NVyYKksNxdduUkjXcA\n",
       "IBiLdgsHsdTAR6ZfcdGZwMHtAffa/lNCOQ6OoAkgifdxyt9k9kmB5aTXuz7Ybl1F/Wd8VuCmA4/N\n",
       "jj3LqwJ+vP4VeXPfpmVTmHzomIDWOERI86eAvjEsCArDA9FmgThAXynft07D4PNXB8gpphgxOiCi\n",
       "owCkZrYMaV4955DbVieq/iiae3DjwDq7XeXBxOwEFbXsa2E1AggRT2ZRNcGFfh5kASRhX+/o7J6e\n",
       "vMlZFWjbUTeD+cl+/Twd8Yu5ckoYzzMHjND3B2XfI7VUTunT4BU//TM/p2kG8rhWwI+mO6oAC2gA\n",
       "AAV6QZpCPCGTKYQ///6plgAAfX3RR36XvV9F50JoAN2/9e3o7CetciAeO0qFdi1WjgbaZa5WNSX2\n",
       "yoV2R5eH2wdqVv0vnfWgVX+1wIwKSuucXQS91I+zFdWYHBrlISpf56QWl+8Yrk6CV5nPdYrl/PWu\n",
       "fDB7BhxEe35RKgovuh45v8WVb/tzZY76Ukj3y+21vQzSjJH4q1hVdVeipI4J48qRQmhcreHDOkO7\n",
       "YalVJgk/Xl/M+HdYaLFfERYD9Yehupj5wlvLzhg3BLdYc6QJSkE+M+ekArK/ho5Lp6f+dnZYfzFu\n",
       "50NI0inh6aTZApte+E09Rd624U1GAQkl4xqC9xnOoU++9afFf4tkxnKk4QOg9DGcuJKiQ4SwrG3q\n",
       "sV/t5klJ6a+9iNDtiq86OzgXz6bngbi+Oe1DTtd3AXvqx+KMwXlsDxLvyjjtHJwMDlNdbZ+AhI/y\n",
       "4O9b/hAOao6r6L9B3hQ+G0VgiWhwzgmDZaJMbPW23GHrb76QiBUjP9EaZ7b03RHvdVW1QoOcfiHE\n",
       "FTTK2IjGFm5JOPotSFeObOXguKDkaNCN1+zW1HYou3XmaI9GL2JkN49Y5OwXYTZ8PXRIp+MR0HeG\n",
       "+aIoZxASJ6LpS1vgFEfqQr7Tx1cgF2wMAE+r4Hg6kFb0SVo8r4pfx9LsmIbCto7rwYi3kd4Tcu/F\n",
       "2VBk5IKiEvhUMnpfOf+UGFQR2v2/npCILinQtHo23CiTGLnrgv/8pqq2jukepCNqiyR0ebC7ZPI9\n",
       "WeUeEs+3nPeZAslwQnMS4hlz6rWk94Nm4m2ZN5D+1Y8+ynBH70AmDEtKt+cVge8/V7WHoiujfry4\n",
       "FNU/MSHGNK7EiLSJobkI/lOiEl6vZ2U08onWomdan2KQ89FHVWRhWrDGexglRHcOXlLph101AriE\n",
       "D/ZSVdZ4RSYnR7tZckWv7OMgV1RPXzlPjqIFmUelGtC3i1xeOZGVbH58eJqSMewpqXakjjR44oOv\n",
       "kcYZBNyY01uszWmwohrNl1HZvZntTap2bVmILV48lipdDE9dhYmzeRMVE1idxmqJ0e+1fofQ1SW8\n",
       "GR+DccDTDxHH1Hyyw8XAuy7KeWsJN+LZhTbu/he40QT/pgJD1ReOIZTQXIUw2ujcgKSuHerqt+A/\n",
       "H5e/RED1qKNzWrGTW2CJjah2r8TN3jwiaSWpuMG5W/JNCx5FhQaHU872PJ81auZsTE4TO+OGS3PB\n",
       "OvyfAfiAVREzrwsJVCn7+TFFYkGXTymDJZrJxtDMmbRXe/y1LLMzphF6dO6UsOY9v1mufR5+KpYG\n",
       "4HW1lnkkwgxTK6f0OT+8GUGY6HQShAOcJDYDSeZ9QHyKrzpC5o1h3ULmRLGXYWcWQe9P6brzbqpf\n",
       "fWC9349W7Eac9BQPAnESMSiEjPs/pFGceKJi1FH7kaFpD4l16WcADhoRww0kfcTmF88ZhCNVZ07M\n",
       "5fU6ME91qSh1RZ3/8QWSKt36vDh1Qjx/Gc8gv/jp5jIep7RMJgAEiY1+44XZ9BKvMTJncCSu2m1p\n",
       "Q+Kb9CRM1qQKcy56REZwXKMFqAdudvYA26VJF2SqQ+b5OxZoxXeVxcZrs2OJ+wW9/2sywvQqhk0Y\n",
       "9udmbRfUBb18FKc2GClvg80MfbEYhGwHqG/S2XEFKSzLS6NRmzrNcQesnrhhyL7DlTn3xt94g8nW\n",
       "/xRoCKQf0WaSzVY1QO6sSMAYFWMWWGylPIpaYwxPWDxfghvUXFwsFC7Sw4JinvNXbLTSn+8s7uT7\n",
       "vCs2eYaX/ruBZl270A7Vq/M2od95qXkTqx6dHviOVNs+/vlYSPmtCaIQfIGg2H/rEm1AONI4rDbZ\n",
       "23H+YNi1aaj3Aapl75ISLocQu02omzSewBK1zIMJOX3Wh5/WxQAABBxBmmNJ4Q8mUwIf//6plgAA\n",
       "erZ/8E/gFLdledmaNsQddSQmxGPyFLFkr/sFKgbtnHoqyK/vtIQ+8QDCACv+1Ec0oBnXx8Edjcgs\n",
       "1BCvuWzmpfAr9CtjhcdTDb0nAtMCmSYLNTMiw8Cwc/zuL6MOKvbFj8j9rx2LapuNX4zeSqD9mtcB\n",
       "lBMrM242Jw+dLruVAZip1jcBwrdRCv7Aqe/NJYFPenD13hTfP94atbiGDaYb0DHpoTU3hf2bYUVv\n",
       "1OE2fYlDdAbWGRTgclkxAm7Cjiy1zvfFPrWS/bHbHyB110JAnoROC03aDMKSHW8sPF9GgKFCAS48\n",
       "y4rbWqRVZD1w6Ein7p9H5r4WvwzoKmICQo2LKyKXd0EfwstLqJ8dVnkZ8V7m4M1E4E+UvZxAfmjl\n",
       "oeE9sUHZo1JvBLmAvvWJZNI1DqfJMQB4slPIw1QmHeMcCEC06dRQa2XygZ36urR2TMriUZpR7O0Q\n",
       "ubp1LJemlzE7hJDIedaM/la8loUgMmPve6CzVWZ8MljY1EQ4mt5HznQr653x3CCY+7DSWvW+VNsJ\n",
       "LMeaMmliwdT8HKfyRKy7ZoWJjW5jVfLnhwkhjT3TVQc+d88JvQqduuc6UuDcJz6WegyeDiXE20jX\n",
       "W9hgQB+cnOQ7VjmobNksu+QQzWJIEhlTbu49f3cIUXxYsGWPbtl21bZEw2kSwAeYgRk++SWVmrWl\n",
       "fktOhpCOv/9+Yv4d2f1lQA2SOVl07kRsBVmoX2LEYFaNGy8Nb7A5WXEhCt8CcNH9VaNZJn/LfwNJ\n",
       "+0YXGT9FK61Y+Aif4OGvUVm2fytDtEc3KCZcAVZM8vK+vlvmSELBIIc0mOLiOsDOBZ7ROC1l0W7t\n",
       "eG0JLJ5x+cN5r+QaY04rWPkDnugbRs3E5nLjX60qqgjNvptK38vRE/ni/+74yY0Umr8Yhg1xgo6q\n",
       "s+luZs2uRtB8YezkuKJRIwT0IxQLXu8DGzO6JSGSzm9rMPR2WT1cTNxCR9+I0NVW1P0XaldXx660\n",
       "ZDDc0Zgip3Q6xwrWpgbGz/2WZ7gQvgWezwZ68r8Nh5QxXFHMYBxXqFMcM7FyQGOPoodo99Tbl9mR\n",
       "Cz4xdSQKZXkry/D32ammI68CJkrRynHKXfSme16SfIwsDQ7KTbLinna30/4maV+Mkrm99uI0aFR+\n",
       "X6ToM5RFIaH9syNYFHQRwNF/ZEfvwKHZWFs+iSXTe/P8NpZSV2vD9leRH9MKPngxYbslJeqIsrZh\n",
       "Ohdbe0hZbvo5lkDnSDMrM+k7pyor8Wthr2ydn3dLQcQ6QmM2rB7KZiJ3rKK87TOZL39AABbQuSHB\n",
       "AkHsFun6qABecgNp4MgP5VRJsTvwYd49QWvSYxPhrnRK8UWqX6suFv+R6I3Kjcxb7hbrFimUgmO/\n",
       "cOJjhcEXktry/wAAA6dBmoRJ4Q8mUwIf//6plgAAeri/eHnqDG8gJnABYfjqgJAKu1KAMPFM7b21\n",
       "4pGOwnL14NZ/vFyPoX0iGgK7kk3aH/gdbwJmC6CRdMYJuM3EInYT3GCPAOneEKSvKpidmhFw0X3M\n",
       "oXhQDJRRElUKFLHSU79YfGL2e3HPuAFYJ8+KkzCFavtVm1Sfv1mi2L1ufBOU2IFZSgc2oEGfD+nr\n",
       "kuxMTMsqyAePJKl23oeBi3NAZlJH9EASToVtou3Ib/YrvwNc5n3tSbPS0revqNBDTkosuyqx8Xkn\n",
       "A64ZF33O6M2IJWANfMd+k4U4kIocdRHnTGln9khsyQWStm1rmTWkQuY9Qf9juIBqF9AOb//NjSyF\n",
       "WTfiClD/t0cWwfr4yBgzKw+Ra22TTreffIJAhFTde1DSNyXK0Sg01wE/mz7SpymMynYsc443PHb1\n",
       "j/E0eZi8gSKceWnZ6IGg18mAf3Rsr/8NYjdLF/VEd73QkTs6r0Wlg/TwY8IyRMn1SF3QH27WKpm5\n",
       "iwp/NgR7RZOulrIKVjfKBNlCMnCpaZbYHh+YYbw3atjwNjBdZ8u/jZb+BM+KN2TvN/NHdgsmRg7g\n",
       "aMKucscMOuKFyL7d7jtsfg+AAeYrAweSWVDNAC6thqXyiKtPIaLuYT9TktbXIIl5vUGQmUOmB+5B\n",
       "VToJqmCxrbu2VychXVMWkJ2stUWbK+kT+DLGCdUFjlBry92MjN3L54Bq4j3uQCfl7vvEBgeyalkE\n",
       "OelWY0rxkknNqPdzkcLxAG7S8QNE23Yl83X/wiJttv3BoMxAQ0bSXETzLpJJzXYLc+CopYX/arom\n",
       "ySp9qVd0RIqvHYtJjVye4whlBfJhOXgUfD3oa6oY3/zdk9nPTxt7OyfOZdkM1m8ca0tbBE0i7TER\n",
       "N4ZsmifsofmPlLTh+KTdFH6xXRg31YYy/UivgblH0wFyyq3pkO3NKJpK8f4DZZQMFBuNUTtYmehz\n",
       "pelqrmbNeT1MyEWadE6X2Lj3NH3IN6ORFg7D2787nUzqPxQOR1Xm2wCwg61MZ9TJoXqqEMIvckIa\n",
       "r0apwPIG7AI7owVSoU9r68FYmDiPizxXX93ibMTFgG+p3E64mE3Xt6C0f8kOdaQ6u4hjH75cREOi\n",
       "/Myl/W1cnQlQn6k6xitnkARkLTFBw1X/5euhtfkL3UZGbpadEmvpVdDK2bAjdCRkL/nof8/s2nQu\n",
       "QGyGIGgxRbqUL5B/wRsILcghmFhUR8Shqw3QsrVG5fVb6KOVCQAAA1JBmqVJ4Q8mUwIf//6plgAA\n",
       "d/3WgbLhHWk6vQku33tZ/dQMbgRVtTnJONePGkTnJ438Krn3k+lEJDJTvLvj4jT7Zo+YXeDlRepC\n",
       "yIA287TK/14YfzVLhJREKbkUyPxxJ/obGH6stxDkYQO0WJ/sG+/iACAPtNjeU54ndQyR7IeRHUj8\n",
       "oklQ/6VSGdSwyaxGG1j7V7S+AVwj50zkF3gQIDeBtpRqCc8Kd166xqPXSe275XA4cVbfGgOgJAq/\n",
       "5ptlsibb1k9PoognnLvq3qwPt4NE26tehJQ8fuIpMz1JWvkdQmxsSOWeFcEfyVo1lm+fNfE2LqJb\n",
       "Yei+bnvfP6chwrH+W9bovCFzm/WSSN7AJ/zZWeruTo2A7Be2WwUvYm8+y1mbqlFrM5UVvU5QCy3P\n",
       "Lm7NNsYWDKp7sK95FJkXUpKhBvmAGV31zfC98NXzGPvKAgij0DXYl8IzMo6ufMKg1AIctgyeJkht\n",
       "jtu5uW2mMZpKVaA0TrYjwi5rTuAv94NPr/gdMGcpri5C7x2neNfEMguxTACBugbU2ZhFDQjaIbqf\n",
       "MwKY/a+01LdTW8lkg1/IQFozToLTdO7WIMTkuMoMJLmoY90WlgXv1MLs1w/lpoakI2NKdDfyAALt\n",
       "T7XLSZeq/9uhggbUj9falKS0IXCDQE045h6B9UIdmtHOXe9Nb4GR3FFqzrrA9F5vyqy+DeHeHJVO\n",
       "vvssr0UO/5P12gjq9xUbKGiKKxdYmzLX/2Khemms1cJ1PBd0lHXaSOYCuX4YhILXHdI4yuJUPjl6\n",
       "EvUva5Apj3HUozApwfOxjmTSaZA2jPgeRRquYnnapJZnUCWqHjv78v73qcZ89eS83jgMkcMQu8gK\n",
       "qA1iyY7Bu8yOfv7vCs6VwBB2xnSDJKPY9EDH5KR4D4t2lLOGMndG4S2ydNHoEUaHY6hG8ogH81xx\n",
       "C0w2fgQDsev5jAImZxyHz7wCB+dwSt1ACHp1nCjwOo/CdCV5/cZHu8ijmVkleDfzNBNL6qQXoBn3\n",
       "cIbhzfz2eME1H2OYBZhJaEUg++T5RHIwhCDlZPEemixDp45vdsFmKW9NNL9jLwLnaDVbOXNH/3gp\n",
       "odgapkX17cQQeag2C2tFYJm2sctrp0djPkyOu78wyoir7mhhAAACakGaxknhDyZTAgh//qpVAAAH\n",
       "197TN74gHBeA2Q5YpKSNSksd12G1xoyMy94zSWZ/dQ1aH+PDhuxQiFiWTCwrGoA/B2afH1dB8Ali\n",
       "N68wxVzjuoe+ma4FWMe//THkypM3U4g11AMcsQ7TL6DYJ3PxLI9jIe2AQcEzIpP3szQEexbsHfM/\n",
       "gkKzJubD3EdSVmCnpp2TLHwOU4JuboZwspw+CuS6UeoEsv2g2BKTOs6WdXufZ0IvTOwthP72NaU6\n",
       "fpnK8c4NJ1FJVKtCAm+yUMl5thT4MM5YSQRg/LGSEOiQVksozGazeXjH/eVELZy0hpMyq7qsWkxW\n",
       "MQ4lQP32NGfUe/0wL/NcHk4U4tvvJodwR/77KPHFtHLPbRZKZUAVmwTQXJP+82YdedIDS3xytfi8\n",
       "4Gtkgmp+CWUO5+TVfIcUpTv34WHw2h5aIFGKls+sODk3OlS1xfaPcquokFSfVeG6W7akQt39m1+k\n",
       "AjzfJAMGRfGMeQG2+50Y9+1H83cButaD3fGIPCtnZSrPU0imeEc5RBGIxwH2Tn+QNdeNolGGSu1L\n",
       "jtSjXD+p8EjkjtqZre1r+jsy058aH/oZ5DaHzP7zLYULbDKt9emlOmK38IZUvFDr4vvOxSKExJIy\n",
       "O2wcuhWi4dmhIR9srQh9z9ekCYVAp6j0qDCvWGzBdpYVXv8MACytMkqkhTxncfJIqzVIJ2ISQdbP\n",
       "QWyviICJojSN7N0Ebg1DZUI1slYkbEMH2LUH0AHA1i744lSxYBxdXXr7oPZCuVIcXhYTrYSzwPLV\n",
       "kJSAa6qxLP5Q8S+J2bxwAZNRD5OXe/c/04aW3EnTmQAAAjJBmudJ4Q8mUwIIf/6qVQAAB6ve0UQQ\n",
       "wVpRFt0AJBkCMhBWgzwYWreSLiNKkRdhg7no/oQp6GT5p8VRxHQQKEvbzqNuvWol0IF3SxK7U/mk\n",
       "Krw+grmG0FbOjjll2YB+UfDXChRbEeN7Jd7naCkI0ppMCYmG8UTMpn/0oAOZoopMURtKlPnf4pEN\n",
       "OcB9Y7uwfJ39hq/RgIkj899EncsWsbgWNkAGDIpyYZ3s+Ipq1N+XA7qNp4SB9FTojUXxs1Wjj19O\n",
       "BWiSWhPRSlziVMBRojl+TfBIlOlx9zFT0dmJ/ilSTEolulra9eY4lFTeqGgwJQNVKcT70GzcXAAO\n",
       "Q54YeD2dp+wK9CT1RMlb57ogJJFv6C8N/+uSosZC7QBXgm7Tj+G7eKPgv0jui3ySvTX+PBY4dV40\n",
       "B+2PHuz0pZq/v8DIzlj9cQlXswcWgpRd4JI9NqUmM1W3NG69LlRoLvTt8/gIyoAY5BSlWXw9A+Yc\n",
       "aRX0bvToVHrViuGXFdBcLIC/AkQOv/WukjK/GNvK/OOTLzkr3QXfAQ9Uz92Ewk9UK5ySigCuMKB9\n",
       "EW+gWM3jQhV8jd8lQErN3AGH2q2jR2Zoeyaxjq5vQT+dBIypL+WrRdJc97mCMn9Sy5AukBYlY25e\n",
       "07BCAp0hWW9DNKp9p2GfQdXwYLN4ibzaZGsZcjcO/n65HO+8cuzsG7QUlIWKB7W/FX6zZnlt+nwO\n",
       "73xmYMlWqAbBy8ck/u74QS6FluzNOa1apAlBAAACIkGbCEnhDyZTAgj//rUqgAAA+vx7UvbnfUAH\n",
       "8q3mYvvDiu13gTzpLhv3CWRHwyhVlxBHT9DXmNB9BYgmUbkwPNkDOjP/+DbenQwEGwIoOvTGdPZ6\n",
       "QGzMXqI9PTskiuIJcL8EosOm3Yw1rq9wQ1TEpiWPVyQvZPS01fGwAdCWA1az/J8m90LeaRZDGp56\n",
       "bq8MvxYeo6U6VgbJvLZL5LIQSlitpVpOa4IP5Qa0mhBW918QvNriMZ1+HKuoqTg9mbo3luFad2n/\n",
       "kuV5aVdDfAKQpMWbenx+Q+H9saNfiHENytN3O/ToET6z8jUj0HdgXuIQKSHrbrF+x+6B/OrXjIvF\n",
       "MJ9OrkIb3tcDBxUnqlZo5shDukYtivGIJzXV0J+Q8PT8a0aO4kmeXmC2KHKcu3mnedZKlWHLfSeh\n",
       "jnCGyZ+rAnlCmRcK8uj1ku4h02gMOX507WC9x9oqdPd4MUkf4wyXUpeezobh92IbKzWrqrhXeOIC\n",
       "NT2/FuQ95JP8dAdcKJxWw3Fri5fxH6PusJXb+YpjzhIA9uF5smt/IiVF8xAnh3kTZiWILazeisKd\n",
       "7XWo/BygKd99GorMUF8QzuB2IdPJzxd4NP5KgeW1RY4/LRO0EhrUn+BZgPqRBBhuVLlesCzm1bWe\n",
       "LZygPluHqRLUV+rddRPQkFfXYS/SBg/IHe05FZN5s1skZ7Y3w3LYjhd53120YZsUk5N7SIyYCcbf\n",
       "RrvjP/yjgAAABR9BmyxJ4Q8mUwIIf/6qVQAAAwHq96lZLpNshaLgxALSjQOR5v4gA7QbGgeM+oyA\n",
       "Tp0vS0zgcsKsbHB7fel+/9olgXK0T22k7vhSUiukoBs4vXnPiregluPrt7zvFdTw+u73gOK2/25m\n",
       "+JuJsAYhP4AK7Nkg6o8NdAvnQ7O8y9xxaq0hW4d9Q7ORnYpNN9RUjSqELbE3c1ORpCOJuaVPJ7Q+\n",
       "ioNcn81+1NxFTIqHrwZogJemkx5IbFLcMehd7vcaq/2LfvLABlOsHDgRmekmGtlc5y0psWKiHLoC\n",
       "PNvcJKYaeJZRDfAxnR5LQ/6dgdNJgdQ/RYZwll9YksCWbeAjmhIGoEcjBh49FG4nhRna3TpcepFU\n",
       "3BCd8MzHAunp2M81pLBS/E8Z1cIwU4hmZJe6kBFGZEx3TpQoDO/tw/TLtS3TGN9UarBjJkFzLRSG\n",
       "/hTasfnLHPzPXnOCLLNzxdTvEt8TYjIQGY93SZV5PlbXEVvrgQtmGEfS7vWF+IrEGGZaHARf3JaQ\n",
       "YkzHWk8NAo/6QdCkBt5kEUXWtN6Oe1GaQnX3TovjMGAtDK87E5lNBTYPLfrh2PQMITNGaM0Ewl0s\n",
       "oqUeXOsvT9l0AHD6gFa20pMSd2AGZ1bnnDPNfKrxX/G7/mWlzASK3UoYImDve9hFCd41lrnPCzrE\n",
       "yV5mDGRZI9ID5oHP9GJ423Ij/hmZiioWqLC2OQSrRHKRwoYlWkia17sgDzqL/oA7PprCaD2kq/uI\n",
       "9pGw5qK2SOg9BRN54uBOEmuNewevlcLBQkPm2RiaoOrqI+dz9Qc/NpcNYD7B9ir4QGWTykquHsN8\n",
       "byULm4y7e7nwmqM+M1CmWKF8rXS20xDtOaztYp41glXyB1gdnHEHDJPgZQKKmTQ/xzc+n0iJydTB\n",
       "QuXukDLw5Ss5GLYZh1mdU3u/OvP0Z6w4si3pj+5KBtq0bg7Rwm10dmab2cJv5FcKnczGH5xvVYsy\n",
       "x9v22WOftmLL7490FnLWZrRrUXogYLvY6nerHd+wWEMeDo0W7ZpU0fJ4RWOOiRo2/0Bc3G9LuQGY\n",
       "44VL/t4q6fr7EDyP3yuDXqCsO9qxmfELty6AN5F75/fnBtvTIcvFTxVjL+teBB9ZRGHd4c/PzI5Y\n",
       "7a69PC8UV2XHC9gZ1vBqJ1Zsr9InUJs6TipXaqWgsJMhiUYm6dchflUP+HrSUcyPaYbg0bTyp9PN\n",
       "09s06yR/vjIXRy3ORC2aBat8voXK5qFbATytulr1HwmecHZuchYaKkG8eEu4u5rs6h52bPk8ddeB\n",
       "5kRdOym+q3QeLwLN6N4RojxNz2jesw8UlxmbNwxNnvto2f6k0TBP7j1Mxq6xUlKqaratL/doC2gy\n",
       "nd4vhrTU3U91gbePE74r4zhmY5KJVfn6PddM/InItyvtWHQS1BU+xkucDjLwUCPb7gvdTw6z6gqz\n",
       "nx5csuNyhulrNekwEwtRJEwP2HMCbAwKtVjpjDhBaqPQBCRJkb8xc2BOPoWhbJcKH+qKpe2oh9F9\n",
       "1xqf6MPk5ooNE5h35ykfgrjoS6P4gws+6K4kd3l8CSEa41cNppF2oasnvSl2Ciz8hfY1NYAavCAu\n",
       "34p686JTMVB4YC33pybJRtBixGdZ1DiLQAaE+lybiVQGCFIAqEkLcS7UWI8VQMhncxMo8Xnpug1D\n",
       "prWNVuYsJKY5xw8R3SG/uSV2BnqKSSz32oSqrZK3oV2SGppECoayZv1SpW4qZcW2y3lTT223vIhe\n",
       "Pl1L98vAFz4I94AAAAGaQZ9KRRE8O/8AADcbXeCq9XxVotCI7WgoO5U+8AJZ6VEj79lX+Atf8QVn\n",
       "hakHq4hBl1ohpFDzznKP3LVamk74QqP0CL+Kf+PfOuFxzxMPkv6N2KfMbeiONW0+kqPmyxQ0KHEI\n",
       "Wp0iOfnAyumL1qpZyp5otYNsV3JOXLWTkJXw7+HDEaVuH2GFDerVmJVGM4cVb7FC583BA4VA52Ny\n",
       "X7d/29rNbJ3E34odwWyGx8NhX4IV1dgJWTUMFxH776s5VLmjk006J6mBEE1Ymjmqca63MgGFc1QC\n",
       "qNHUe/A/kk7tUY0kuEvyuTat/RnVRGXaflTCgXzOwFtTmyRNMtIOg/ik26X0FjE9a0SJ6mMQI/o1\n",
       "37cJbOnlgjfBzJGTcjOLDuAXntjTafQKTGhBf50/Y74Jknvuqyu09VK7BgitKQH6pNYTYLuXbEUZ\n",
       "iKHm3DrQu+EoWUgu07jLCBgZCTaR1eAG4Jk7+fsT7cdCeI+JZSyTXtmxfM+2aK8dQdbYKob14uAo\n",
       "OI75z6lleTkKZdpBILJbW6/kgYMJT5xDqakAAAD9AZ9pdEN/AABPjvcLWYH1ovP8xZpfEuCS4e+R\n",
       "hAd4AK3wkHoPAWEAK0/dbPvAMePx5NonrTKtUs26qomCrSK4SwCVQqKPuawzasnpULy+zujGRx/o\n",
       "yocexq00CBHzPM6B+881mqcGBz2Z3db4fR786cxBRIZKfgdEgo2AJhcKwWi+VPQtvSOimLMHHXn6\n",
       "SOVO90D3LHzYzGssYMxgf3ZTb4MIIenLR4YoN+WTv80C9Nhs1RBjp0hJni5zpGNRizwSenUewNGw\n",
       "ju4WrmkNDgEguILhe//ar3btnCNtqAv5maPlgO+az7PNRtk24Hr90WCAhe9wdvZcz570UY6VsAAA\n",
       "AQABn2tqQ38AAE+eg0HPPXUaBQQ52O2XEnfx/u8m7IAStn+XfwSkN0/GexojZtsTw7y9Z0AwIcHn\n",
       "7srjfXHDvkkp07Mpt2PmpnYw0ALGpnThBScLUaQfxx8mu2Xc5Z82dJV4pMWVexCks5HMMUtU7xPe\n",
       "ouXPCYWZ3QbpXVDiPLQsRHi1TBu9aoBIS1t8XLiVS1Qe65TzWM7wKI9coEym1elJOiVDHbv9Irm7\n",
       "AVJ+1fbhvHqVV6oFHz6Pji6S++ovjsR0VoyH2x6BP2NSAzdmuOjLAly5rHJFtlWAiRb0o30aAca1\n",
       "DOdCzOFW2T39A9tIoAFiUMvVNnGR9NQMgSg8wCZgAAADp0GbbkmoQWiZTBTwQ//+qlUAAAMAHq96\n",
       "lZLpNOvKAPLPV1kAFtIhnjaoqn5zxia6BFpMklafoigwYZctAAay99wGw97uSRsN9IbN502RobQD\n",
       "Ck3Tw/Uwpo/Q3A3RLIrqYcO7ooh+MDTUcj2BWrLhODlnmPiPxJFCdxANGxgX6RXnUTof49u0II2m\n",
       "vRAvYB/h2V40u37o8zFWFC9CEBhbFxDZ0Wx0A8ilf5QnT6J9/65wFK3Ec8+01cx2IS15KR79VRQr\n",
       "U2UQB7SbwyooEEYJl7DlWMPZKj9yVAfiNT96puzFN72qwqnNx7U+xhALOlSXtHwwljf+ECTo1a1Z\n",
       "oFEQUwwvnADUZbHErvPL+qxdRzBHUBZKlTZOVF3VVgAenfVckSFYshZnsb9vUwOkoLO+CDh6oHsX\n",
       "tJI6HgSsMMcBKdOu2yJLlCKHaD3/FyxQ39upeSxsLuRjbgis/RHiMPIuKxW86JbgHYGNar9yY7mx\n",
       "McAE8gtB1fy/bXSxDrGMRDab1WR6in2wNgQHCpJ3BnucMtE8YJvlnTzuEHVvMf/N/8eG4tU8S/bF\n",
       "aLygpyjK6fgUP8sDSyciSPx5gsvcbKZ8rLkYZcFu/AQsLobs90agXM2jbQuOHo/ODB398IDuDJ51\n",
       "6cZh2RRZifsbukrC0qG4zswPVxhUOfPn4mtdpCqt9JI54Mbpo+WQSMZuHi8FM4X0Lex+f4o8Efh9\n",
       "UfJXSrHAavKSoDT7zLSEu9Gjco7CdnBGwNnC8jBUEkaqGZa1U5RUg///NU9e8ZXw1THdkvxsjq7l\n",
       "F7clZSL183ZOO7zHhD5g/OrhJCkuyQB2vqiR+0ZCbFsK+tfUKcVL6gXO/7THXgJxZa7HwW6SPigU\n",
       "VBpF6o5aGbmi9s1fhpa2pgDrsbJKkt63WlVgGutktY56XZt5POzavsSHsl7uluKLUawJWHbb8tN5\n",
       "RqeHkujs5ocXY8tZBKLAsVgRmo+hHXnsy49vIhgr5/Nuk/i1mHzUUDkHeUDYprUTeENEP1e5d8T3\n",
       "Rom1tpDlkjPXKOmiECpc0uJLLl+XG4O0xx6/s8a89xFu20ZFOzN7LoblDTD+8QAIwYl3i54Q+pJk\n",
       "vLJUmTL6MEiws+xohghIVsqmA0xt+iYUSWR/s/eC4F3+PT0dYEqLorLocGxKKaJx0TOwH4YrtqAg\n",
       "lTSzfv2x/QguNvGCDlk8RXAqo/0ufV6pqyeUTXgtYWmPXylUsRjKA3U4XKfUAzJx73SAqit4KnSL\n",
       "AAAA9gGfjWpDfwAAT6YHYOpKzTDT/ZOuSobLV8iv4UgArAsnN9jibhHtJfNMJtdeCMPERGw39Aja\n",
       "Pd1tEJvJJZzWL2wjpXPlUWEDrw7PBg369nJh4vqPF2dbZ6TzBM75RjJmzsdQmnFTN2itEZ5C0/5W\n",
       "blUvHFZrPsvyAjvq3SjnHIE5lczyNHzg2dh+OYvBizswUiZCMltUG1WUnWFvfrHeYTy89fU3Pz+t\n",
       "0vnmUqi1o9UlCYI6+GM5Y75sK0Gl2dv7RGcqv5KdluoWaiG0lreihJMSw2u/I8YFVzeD79s8RoBx\n",
       "Zzw5URawxFBd3vnJV0zhT7SAZyvCHwAAA2RBm5BJ4QpSZTBSwQ/+qlUAAAMAB6vepWXz1pPNxkQB\n",
       "UAQo/BMnjQIOgVVY5pNk90Gz60/lda6ia/e2uMAAl5pqJd9vXryRd6uh9t+j0boe7Ags2uBKtXhE\n",
       "GfyPzRzFbojL43tY4GtVM+XiiVn7cUEhOO2IVmQ0GFlBCkOCqGEos+5J+RrK3D7ot+tcJcKG4kgY\n",
       "/Rksw0j1bC9DpZxWg2RXJHGhdDaXdSZIvCqwKoMQmIj8EtLInGUgoO6GqIAN8wZawSba3PqBZgg/\n",
       "Rn5NC+TbbmQ2k9q9EWZpm+koGUlFDsnQTFsRrEPayXyqxQ7dl/Htcp9et7znSNa9lLw85IhSd0CL\n",
       "/sEYxNfG1gxH1ytbRnRbLPEbtdSu82NOtBn/LI7XEkotAnEd0jYUMWF+3qwWxbd507wuISvZH25O\n",
       "ZIQf4ypceBAcQfCYVjmHgyesS5sNI4L0k1gt7sN3rFWIXgbTJperINzo9ko3y5RsBYOxe8tnyeak\n",
       "t5lQxcbdEv6yR5wJis5+BG0r3WikWwujYdajga08/PcUt56lL7YPj5w3fY+GpLH6JJvBVoyR0pUi\n",
       "u4c9TIqRpR2nxuqQzHL37n8fnAAm/YF/TQJYTuBKLecTEqhRJ+ug/2vQPh8fhs4K7RQJ7doKf4zI\n",
       "+hMX2DLTvSIpsS4HgzD6i2Ax2K23D7NjF8mxXhAHbYR0+x7S/kT8zWCFGqnQ+JBtIaVXjeJZnBth\n",
       "HUe3d/u8DH+HnxKpamEaSf4Jh5Kcva81wUUzpCHfJkHyzazSMwsGHj6SWR6oCGQtkY1pnG+LU0/F\n",
       "duCgu6ENfAUTlf/Df6aHbzXge+PSh8ydsAGSXAYheNhVK02zbVo1vjoTTSDnHXQk4q9MNmsBvf41\n",
       "5289z2zfS6G5Q81lU0OYCyOTihcdOSpbZ6oRHh96jzTqyegJnhoSMuXOjWbYYisUO1SmUQF4JK+1\n",
       "zi6+tgH03hnWPLKI3Py1kX/kVtcN/b81HPx0OJ7UnXy+4JMgqZnWkGuDur9yxfXeO9V2RLbW5vji\n",
       "azRAWwu7trRLcgXb5lYEJMWeRyawbJ2wfcnczAwY62DDG5lW2gDRtTFVN5nJ3YWb5TVLbayoKhIM\n",
       "eKcDS7XsQovVJ709s9X2EobQHmuECZrij/TDhuGXyHJUHp0TFlJBAAAA+AGfr2pDfwAAAwAVUsnN\n",
       "/giigqEWENIryAocH7Nl8M6hL5vq93RUZ0uFB+PDKyRuei0qcbgQFWNKAvRHI5di2A9dAAjCy2qK\n",
       "LHl7xbEbXEjebqbKlAOoSUL1ByibJby/THtKEFuDSPo6eq1RovA+RarkWqful3LRX+gI5IesGIQS\n",
       "naqQSG62RZrToX7rHMlAUQQl10+qSim9TqCqKyX8UZsyzZORWPcK+sFNULPM3JY7OUSYaZIqMLcl\n",
       "HxD4Zkgb01kZks+xqoEQhepo6oNHxXcDah7sVBsKCFHMf66LsZ+emDBdBMaclHfwkFiPb73zvYo+\n",
       "0/2QDAfMAAADHkGbsknhDomUwUTBD/6qVQAAAwAB9fjoMH6FybLBTz6yH3r75PtzE1UI4KrXk3Xl\n",
       "HWNRFOAH5WzIiz5yonyKz5uN1hPbeBJvAxlIZ4LsTOy24IFYAA2IEw9iiMmgEsGA9W9u+XEZHOBa\n",
       "xTV4KZfSnG/W2hSSxrh1Ywz0D/zcxQb6fJK9TC3B1vG/p5m0AhObdxphwOA8YViCpyOXO/ZiE51r\n",
       "AhZgKrKmeBF46QSUqepIb5OL+mvxarnR+RRiHIrar8/jqT9cnfEkUb/MkqJ6jJhz48AXIB7LoDQp\n",
       "/90gu/yHES6URydSPg98zAt3cs8bQs+p3KB5nhRtnAQtSh5M6GeO/eLudmI83pXwu7/crERgubua\n",
       "RvcWIMAn9d7PZsGc8cAjRh6NJrJRcLwHVGtJTOkWOI+uASZnFi7oEiyTrDA1q7YxAjhlV5uA7wu2\n",
       "WZyiY7BBlvzv4XCfMmV+Kp3b2k/kFXHCJKr2TwK1eOER2vT/vNawwy4bngnoChlwqrbZWW0dQLpo\n",
       "f7nOfK8md80UXrVfq1n4nYzMtMur6duwjqYZNReOqHyKa5l5c4bS6/M4/ki+srzNLiBoub8/Fb0j\n",
       "Luvr/wPM1SA4UZJlNTqV3nhV/BzzqHo2T/sP1KPUH7h8TSPn0ZNJjTO1YuxJ8bfso1+FC4ceL8O4\n",
       "RQEW50LU0GQtFRs4TIv0aqXXrCZ+JzcrhcnieOYO/eocEUy48873SXESSrwjC8C3iPK1YAojWj6Z\n",
       "2PvH7iw5EkZLO8dgK//5uH3bwrP8zc8FakAsTEhbA8v9ktW8RytTozikh3ANZarZAati/0l2MZr9\n",
       "MSen7mquOccD7f/iFQhUY0ChAh1q/X6O5K9d3fP5F6FZHVaivezlX1agDSTgct19gjJY6tynfxqQ\n",
       "8gFbmwKCG/s+gxw9XEzzSGgpVUz0xyDeaYuquXUgJCs5Cth9wMyMuYpqu93nAm0WjvoKPukD6DKw\n",
       "oOsE+ITmoAcINXGnmQKjsdtJhDWIb5HsAZO0tkrlrjc9eDbmtTtYfvK+I0CGs52KPqDyE0iqSsdD\n",
       "mIox8jz6Z3Ee2AAAAPABn9FqQ38AAAMAFQgMbl13iYyaP3MIAWtRXffYZiHO7vj52kPNLb1YPhBx\n",
       "jYQDL+0mIPP+jCbKDJGKuS6IwyW+JJWlx3OxcdwUg4t75i/2JtrS4n0D/eSv0L+9VrNqPwQhTE7B\n",
       "UWtSw+7MQ2+qA4EBLIK6n9Kp8Y+z5KRidGRb0rJc3tdsj0IaPYy9IOEX3PjFSfAQo1CSBVbDCSkt\n",
       "GIiVHS/2ycytwWczt1FFEI3O3QX8POYm2q63R7A8rRi9CfgdThp0/CYLgOzJsQwM4cigHrP0CVXU\n",
       "CSyJYLmAeMktPi9ze3iKSuJ4Yhnp/ZxAGVEAAAMFQZvUSeEPJlMFPBD//qpVAAADAAHq96mLa//B\n",
       "e2sYIsAEOwaohNWFAwUTGvoDndHRRwtryukmn+am4GVfAY2KNw1avUsP3x1s18teuUeXtHjfFru9\n",
       "/6dGfUJxt1N85PwGxt3R9n4qtaPUNezCwATcb5EPsLf9YhvP63yHMGa05r1bseb2ouq3syV+jo3q\n",
       "Pl7Els/m/qZ68MVtc5rtnem7Zd499erApjZ2gzHjDZxICEACz0feInjtK617maoOodl3HR3xEuy+\n",
       "kApbe/3SXxdRriQnT4OrN1Nqa8BY0QRHqOpA6DuW+dn+FwxgPnkH7Ia8Ev5F5OW6HsyzasUDA2oF\n",
       "wFv4/l6OKJ7ii3/Rp6676Y25KtFv0PkSS3K+lItTZmFSuKJuAmVo6hZjrdd0mJ9bmJtHpwpujaYd\n",
       "MJqe+xnTIkKTcGW/+PcJNgPOZCO0LVQa0a5f7AwvlDB/085Lu30YW8p0hE5AVYZRWfWoJ2WyEOeU\n",
       "4xx571JKYkGt3sLRHsSAzOlVu9WP7R6BaV49MVzh67Xzf+0Iq7HaAcknAfXY8nDxlSHx2qFd/+Ha\n",
       "qlp3KcfXpDzbPxPoxZEonI4lhAl9tTyiVapqf2+kHMAljqHDpRC6p1toJUCQW5FgjmPm8DWZeX7j\n",
       "mDvSrq3iM4fweNz2gdGxHEtmjD/UFa2hiQ31HJHrYiMCGRtgPX1pI5LpWk/KlB5Gc+whhV3ggqfL\n",
       "iv+jVM3KMTwjNMfYEmsPLJiHPsi6QX4VQ3YFtW5KSOv3k+XosbEv4GaSp9JKIcaxjn+LvcB9cWs3\n",
       "s7bz+uhMrq50k7ktKMH4ZW9tV0I2fMmNZ4yIuzKUi0OO2gviJJIBQDBoEpRw4i3nJFT9hlx49SqH\n",
       "RgqOZy9fKUPgxdWhK9/doaWPpZmUt/qFNPoLbG4o30ZsScfWHUsX4wj/lj3yj/DtVDweUNfGmI1V\n",
       "BRZxyPBIPnr09XHd+8bl3ONJK2xy9Agn//XYFLPHXmF92BJeGuX/D9Th0XcuBr0zr95Lmqi9Um4h\n",
       "ZwL3CIgAAAD2AZ/zakN/AAADABUJr+re0PdbV5x2odGeT1hwAlcbPPHuvyYpAix+n4xRAX4zgPjT\n",
       "99gz/ExCuWLSlr19l7jDPwhjSoqJPECJbjRlaMyKJNSrKQIdVHBHyk0DoidnnnAdZKxh+tC3vKZS\n",
       "EVk9cV+Sn2SYwaOXzHJZhFty1AfAv9JVJIQLoq4Q+6urxrS5+wuqp6oQwlbLCY6KcyC278+QnDAG\n",
       "kC9GHgLIOS5neBbZAb2AR4AD+u6y8xjQFNk9FOMXli0pQ+tplu4LYMATCGRBUlzlxiYzy+t+w3PN\n",
       "zI9EcBrCZq7pggS1Zq2sxh4kXASYYqVQ4Ab0AAAC5kGb9knhDyZTBTwQ//6qVQAAAwAAer3tFEEM\n",
       "FaURbdZmCLNSd2rqLLgJkxR/xYIflIRG+wNP/zD5ff8axPv+1OUBBAkT2fellASRs2sPBTzCx4Kd\n",
       "vtpUwbKu5Ve6e6Z6No0RtBIlSLQnpS38ZcPy6QXjHx/Dd/ECCP+cZO/Fxqx3zjBMSQqwfxnJ1ZAs\n",
       "3fecaRW1oWcypXQC9UhXUy7gcorurdG891LLj+0QKJ9LycamEgBMgaS/ouym7C77LvRlSnk1Smd/\n",
       "+a4Ar5YPg2pxxAxW3whV9qFEQrownKLLRN7PeAU2PmrzDOemUd5e1bTygBDjHi+IxvJ1N+xMGMSA\n",
       "LGj2jeDST4Z414h4hss6lsYaN5FJA07jKZeLA8OuYttDRipNrRlyZn0FCac0jgHxKUmrJJmC08tp\n",
       "amZGzzvw2x5bHY5ee1ZacmNruUWxn6b+Yu7/z2fY95KnwFbuO/rqXzt5HA1maFHu4uDgalbRUkLu\n",
       "4bhVCOCWk0kzu/ZDQidwb9CkrzL0u18B+uAoG8LJ6TGoI4texyXFuWIH885EG8pKr08WUa4KyIvH\n",
       "wDdy796rhFJDPVPxfC0/erZQuOvdBdsS7pzpV/OuPI2XwByTlv2yVf6f7v7xB3Ai+VsxyItxUIHz\n",
       "ehF5Ks9fG9pzXThc34S3aaO0hqBiuAF6BCMQ8an6NHf9UknqQsWkSoqWS3Ps1l1ePthJHEJCHtkh\n",
       "9PK6HkJ5qT08B9J9jxbE9xDZLrKytLWYZlQrDGoJw50YipKUBCpqRMxxXHnPegCg7B9M1SFrGsr7\n",
       "6IAASw6kolsqnQaj0yR34Ovi0AB1ZoRpwpSfqoMIUEAh5dkqI0kTc9bnYM3q1TIJTdqd65YVydqs\n",
       "GmEDeMsct7lMddQZdHQpcF5pcp7iPE4sdbNIhbe0KnlT5gp6oHV/iF5PaZe4Le62J5odCJwWoa8K\n",
       "TzwY8zlKhYbmAz4EPL5eATKmzdUpaQdnhwwqq44fRJ8AAADzAZ4VakN/AAADAAFZdkygjkALaB1N\n",
       "ZdEluyzBXLBcLw0zAlIGL68OjtnkOuxEWTXLU+d30n3AuQQNSNx+fOtkTbptR90/bddhlPsW2NP7\n",
       "jqrjdjfI0lABppBNdbS/S8k668BW1+gLNuscA/o34H16h5JCN5zSfA4VqH8MAf7znWfuOcCL02f9\n",
       "uFbjxMae8U5MHa+znnVXn1FKMLUcUnB21GataahjaQbRRJg4mBxlZ38ywj7Qe/v6P2/0mzgI16Fj\n",
       "F/J8GlmE8uM2uUlO5slu8ObQcNllHJpksw1K2VWgBEAVDc9THAOZCQ6fhpXG+qZU3EXAAAADUkGa\n",
       "GEnhDyZTBTwQ//6qVQAAAwAAH19sdHFmumYc4AA6VkClCwfiiD6uDacAv9NTmA7h6Oi6r484aHzY\n",
       "yIxUeXZ0ePcvGLZeM41MHOGLJ+JeLpazqgwZQfaYYrxLJLQKZYW2OwbSyq1bo9iRcO6cuAy3L5oc\n",
       "sYgShqpxEFf+HxP6+PauQznK7AuavG539UOsqOtw9cBsndSuM8wFJBd3cHUV9c5x9s/ZfWNsmAgd\n",
       "rC6AI76AbS25rT40tPDtncO3C1UzFOr4TKIwIY95IbQ9stIgEw6j0lSbC253CWTv+mSR6fb/Ou4O\n",
       "5PE79zTNRSQkk3fckaw9/eCEbeVdHRj1RdCJHbKuB6kSGzhyS401bp3HMo3WrcVFxz5IXeH2wdQs\n",
       "0vFppQjzb55BjZ8Q6cp5qh9ipJcPfcvpMpuZxyowgi2is6B/bUBbtXA8lirfmj0RSIYhThClD4lU\n",
       "2GJGYSEscIODy/bMS3mAnWJeF2UFkH2IcRcn+j03iKW5qfzuS9ZvzNlC9yu4S1hLGCJANQkWtGWU\n",
       "mR4kcFB139r18WoHurWyv3auvNuwvaXr2vk94Ldz5c3wcFWQDw4OlBntcQgjMpR4L3G+sCxv7gki\n",
       "AnujKwYAelBpkahRv0zbP215F6pLupb+mkfvhwaZwwVojimr3CU523x/Xj//fCdMWnmXtIqL0BAn\n",
       "7Mfffn2S+ps/TM3y5QTNElcbCNKb+snWT5zbt0wbsLMiMxt03ZTSjB9y2gcJ5CP997ZHfw+R3SEo\n",
       "d9f3kcRy0E8475aS9ptuRoF9nXrvHkcCDzJJk0SVJK4vlGjplHwoUze9xlKUEBMviCA7GLIBZ2po\n",
       "WBYpyQWDsUocWru2dP2eAyDdyBXPdPVgWToN0ITnLh3lMYub154/bSAnqa3bjYXO/MGR2JhIVdDV\n",
       "/npUeLcoVxmXcC56fQzKISZJ5pueeyWneqiNoQKcV+YViXO++vpqpxW3fgdVx0QcW3pcFkC4URQY\n",
       "14Gu3ka/LZeFZTBG+2sTgdyHuLn+J5oCYwXXjkk/AaIa+N6vwgyZwU9vprNV5djsoQqdy+f3nsHa\n",
       "N/Ooo27a/ZgORVSaBNBBu85Q0xYxcQliv4tzBaI97ZgDfPvN0s3L7nc/CeCLr4iQkVMAAADUAZ43\n",
       "akN/AAADAABXix4HxtnBTM0weNFbIKdqaNuDtcLPKJs+solVuO6DACWNeo0tQP6qBCVwCcDYBGIY\n",
       "l5+h+vOn5I85Xf/hDUd36Yp7GCDsX+eGWts/r2F2FSOyaLsiOcsndwNKh1tEs5JXxG/rBQwFufwC\n",
       "ZeaW6wIb/e+r7EhCpXSJDf9tERZrId+rOBGsuXxAYNtn2AHCtJG6Urz3izEMZyjKWkQcdHk8B96t\n",
       "F+KrxvZyXBIynwk2sgx4/u4xNOFumDJc9cWZOsL8m0xhpsgAl4EAAAL9QZo6SeEPJlMFPBD//qpV\n",
       "AAADAAAer3tEcr0bWk926rRYDItxySf7yZ9RRk+Bo/aJnZlLIIrUU6gYa+lcoSWPX1il+jbgKFg/\n",
       "GF7u6P420fN2pHzTBuWiVp6FHai2ttP1yPfg5XQlA8O3WhDggS4H+fmyqMnYrywb394Knt8gISRQ\n",
       "d4T8lZVVEkp/+SPfG+L/QWH82uV+8bYfwmqc/uoPWs7/xrwLv7f/u1oG4Zg6HEh9GqQZelOx579o\n",
       "QO5v+1hyJq+r/xo1MGh8CdAmeAqckd/Bme2cODewkUvmEM6yeQ2/npneNZi/6au8ufRhFTlOebGh\n",
       "4Cn99MTHVzC//3ozxYzncLU1HfAreFnB35KhYeJV8eL7CqxoaYsw/IS6RDS0lEtY0/ZRd4tgpPoo\n",
       "Aoj6bHHiJMkoK2TmHhp+QqOQR8kHhV8M+OfFDFySacLH1o63PfGW2/gFUSEPIEa4A8zBq3VChv9l\n",
       "Dgxr5OD9tA3eqqmRm09fxd61tCgW+lHNgoVTV81mBLGrQGUJlT0IlXJxh4hLn5YMCxQ9uzthhcrK\n",
       "Hy7yzsI3RgUz085nRnbauM81lbq/O8sIW/I+31a/4iS5bUpzlHp3VWNS3AhCpapNSW1ew9zFGh8g\n",
       "51pBmKRO/mNjG/Z1RkByPGQN4G+XnxDT5eYlwzmNxfUWuj8wZudhWYRAsy6jbf/ieQmqww8p31hh\n",
       "vEt1b62VMXcR5rw6G7Q9PRbt0Pwm70UnhnfC1COiPu/yaegDFcW2x0jcmIgcnqltmWS4UIWfxvbm\n",
       "bROY1CZBRFPNZj6ru3FeIm+i53yPWxn7jNdyi4zqWNhy0dKbKGgecC6JeFxhRUZ6+5FHhm/Zy/2y\n",
       "AXpv7fbBg9/9Mi/szdwse/7O0bKVxKH0Mxt1M8fngux2wE8Lvf8Qr8j4Sbn5O9msY7ss/LzUvX3p\n",
       "bIMM3YmnPyz2DRBdLCkIf9WkWxLx36QiU81DSgdqh/RkBAkRyz8EpkkEY3NLBJl3nr+S/bB7zQtS\n",
       "EU9Z8PIh9Hf4AAAA0AGeWWpDfwAAAwAAVVuZFXzgDl74wvjHwjNOyV04TceAW+IFW6/w5paLTqHc\n",
       "lIBz1y3lRQHEKl8F2xoAQiFBdGXdaTjTlSSc7JbfuSk5/GtGPdM8Lg7SQZLfttmFLPN/VpJ/cl5R\n",
       "v5pitsBieIF7tXJXxesC6NFi9kvweL1ynbMW2zM1rPWcbjPEWiy8rDA1u9l+Cv+me5oLcM55zZ7v\n",
       "Eiy6Q8GVMspb87APV54PeDbkaCG4ZJnokGEEAUWy8Eq7s73DF62Exb7L9uE5OO2kd0EAAAL7QZpc\n",
       "SeEPJlMFPBD//qpVAAADAAHU96mJilJefQzzS4lAAF0nKzej69kOB5Ln73cMM4aPoVGxglYyOhj0\n",
       "oYXysoe8f+vkcSmt8yy2U0r9wKIoBOAQOgkzCjqGM0TQ7jY4FmzBLjVu4DSiW4llpz+0RpRA0JOu\n",
       "nquvGjSQRTdq17jUvHoZmqQ/ck4zeDkQAauswRkMvPyvOrtYRXypJeJtzWyR00PBY0Il9ZUdpGHp\n",
       "K4SnM4+1Jf/q1x9AlhX9OwFh25nq1y63UkbqirbGBRyY2V9GYXFM9KgS/86oimdVYjVH4VjFF4wt\n",
       "GbZ/jP6H20Qbg/UZFGZfT6HsuGCWEVevg4G84/kLyup/JAgZlIqooYOck3FOPlip++R528o6GuMX\n",
       "Kf3FBaQtQdZnavd+ysIkw0Qb0im9bXqTC8PIwj9DTmkNBtSoc4MaUbJF6mlhO+E/XZLgpUkv4TNH\n",
       "/ZKF4eh/BA3tM1bkrfFN2sdtjc2zzaMxZ94MT+xSVwPst5BZyctsBuniUoh9DPIWWG3UsQL8HR3V\n",
       "H6urIYxrKJxVmEq6sfWwUGCS5jhjspiDLlz377zrIBqMan7++/H/EXte8k+Z6Wk8FqcgNqJAlk9j\n",
       "UJukjW816M8xVdsH31LMfWje4SevmulbIqsWgBkfu5MC6VZbVF74aOMqAqKaqneu3Sp17mAcClit\n",
       "2C2jAsDMR1UK7gcpMp4I+iSyieJxiyqvb/Y2GF++E5UdVyZ5eKx81PDL/e8SVKyKG5hp8fqEpI/t\n",
       "vhEOvhR3klWN30Z7PanK4OizzEZKi2O3HNg78rVczbtVaSrURapFaxdJGWF7Grd6HES3B0fa7i4o\n",
       "9aiA/llJIH8TssLuDHzef9cBN6RnUtDKFRTwA7Cmc2S0+a+KGcZ+hmNhTZBd7xgACyOQYEO19EBD\n",
       "1I/9bz1a9KrhuSnOjwTZEQovUMODjWTDQwfOfS96CL+nuVkPv5Q189ZK/eM1fIaozjup7hWvobxS\n",
       "CxIdty3j+gdhWSwg/rKo1utvIAAAANUBnntqQ38AAAMABR072yYdPkzMBCq6ABc52GfQ5BtC/uH3\n",
       "Uc8p0ZCX5/U1mCE935X/CsR2AFV3VIDul4SwjCKasgS+KIXJi9AbXFKKqaKjrTmg3xNrnJtwAcdo\n",
       "k4FhTACMmA+RpeyddElBncO+hnMM6L2yF8NNzJtRnUJYouc/Wb3UCEsu4fbtbkiG0wQvkC31vAg5\n",
       "SIqyPeqCQMN1N6gyiF9LNOl0/Kbuw2plizq9TxvUa/MFvCVyvZNDtaQc7konZOHQTo3LZjFaHEWc\n",
       "MOAABbeArYEAAAMwQZp+SeEPJlMFPBD//qpVAAADAAAH197RRBhFHspRtkRdI9xNLYmTaLa1jmBf\n",
       "Kx+NfMlmt5MNtgoDZ7lgzYltbWD+K3LtN/LX2z7GDNYTfw0T/acx/qVj1ODMWNK5PeQUMK5/5fNw\n",
       "Tf6qvMowl/Gjr1eGvGp/K2hU+Xj91spzpro8J7qYIDofY+G1+NrqnJTme+SuT6/Yy+rSJOyoegzm\n",
       "DfxNoKmXX06RYqAYi10wj1dq2y3tcFncC4aPPoUa2muh9LQ5yhBPKkIEnYOXUoMI/8HgC1lpSMLK\n",
       "fYb8NVPxg4t4S0sDGp2JdxR8tGIaYrMMLotXxJ1M72qxhv9ohrYdprgc8lq2O+U4w/YQWB138dM5\n",
       "hP1WrnsL8lZj6DCwDA8jHAenTS8oDnstBPzl6bA7gj2fw9uBfP1ylwdQyIiDih6TLNSE0huncHne\n",
       "MavJF+uAGJivqlyKWG/qAXpM90F5hJ/OHKQ2N2tSGpSeP2rteqR4WbUQEjZoWLomyn/6hbHf1feR\n",
       "QyymI8tblOpuwus9FT5A2uKgpT8rySQJtoQsFzywDgE+VQFhzkiFMz7d1i9WdchvUjNf4STRThRu\n",
       "/Hwjbr0IW2wWCoj9JQ+lEcEGN9fQJj4ikz+6IMt8HfWDNDYE7UIjjYz8BASATkdtuHNhNfvQy1Z3\n",
       "yc1RwA82GNerl7P9soMKvPzOB5fgZCuH6w8vr9211eTwX3xcM0yfsC2L4t98kQLz3p+ZtGESymex\n",
       "UAs55NwGvgecPF3Alc5JfZl86guLNf1wO3J5KIbG5XswTnwDrQrSdJkzpDXqK0jX2N58ghvIkJ3L\n",
       "Blly3NAOW3923Zo3/8zl9CKyK5F7eKZD4hBtwv8gMlN0c+FOxaAw9CEF2bQHyf6q+U2eVkZBK4GZ\n",
       "PLbdCb+vKVy2iDLwYdQQTVq8xXDY55CK8qHVbNwPF07kQJK20rv8anPgK9ereaXWFhbgfbg/e+/M\n",
       "P3CvDS+HPi3VXfc1C5dZHNXJIkmvd/x9mp6wBb4UN9kSnrhZ7OjGv8horijpRF6iM83eMam1cbZS\n",
       "te5x/clfEl8gWbJkNyIiH1wPO72eIbGaJ8dCEhoxAAAAzwGenWpDfwAAAwAAFiTTPF7I8o33AC3L\n",
       "t+3BZD5clOYuIQnSwgwH3Ikv+Ea+3WMbFw/BRo1GWJFBOl73/N7DowhN2XV5uVimr5T08NNk+nmG\n",
       "cUp7iqqpERVXja1NSuGq8DDuAkpIe9dhUjjJt3vJCQWMA/8BIHbP/04ybTKtP/rYLmpHPDk5hwc1\n",
       "X3orHoc27UDd2+f410bxSgC4UYl7pixTKA63DgtuIennzhe2gOeYJE+cIuyVmCRWhoF1iVsXn6xK\n",
       "5Ye9KUHReUbxgAAOmAAAA3RBmoBJ4Q8mUwU8EP/+qlUAAAMAAAer3tFEEMFaV3INRzyYQLU3EG35\n",
       "FqcyQpwOoQtR/zB1s/FbVI9hulpwR05MVjyrAeqngAxzjNBJb0AKcFfNvnOD20RdD73+mDI5Mwz/\n",
       "8PLyANlTMT8nt8FvPdyifx7eIYadUOu2pJTATH8K7VkrnRrruMPCvwwFaMHvBwJJkntREI7+Mk/A\n",
       "09M9bU0M2ieyG7WpVmEHDUccBPEXiZBpd0h+4vpI0tEn12H7luQ8kwnshx6PAEwuaGy/cTPzupUn\n",
       "4g/brztHm/XSPQuUMwNP7sPb9TSI6mrQ03kNUUvdNODlWQMn66n18YI4esxEz7E/D+grXTQVEpV5\n",
       "gHqFtcYWSU15tmQzo+B8p1OJsmGUokH9UdrUYhy+8tEZCOOsBpjITu0Se+P1Gcp4Eb5ckImyaJ1O\n",
       "Smcb3MMppkC1Omj8CRqZ048nz78yEH7NH2je47hHdpUJVqSYRfu3r73DccGL2sNkOsMYJt3dcfO3\n",
       "fEfT0Xz39shyxyf0+vUKe2PYPslypSYbOdXHCpZZptANyihMeJSvTQxj5pUb0WxJ6iY/xni+6slJ\n",
       "y7pQWLR1XwLXJXcrpSjnAVrng4uTOrOyindb7P4NNZvuDEu45czwzlgsAz4iUl8EgwdP2FcWJ4eB\n",
       "s9bve0iR+zEyPqmDia4xcBUvlG08jEs+wiWDsM15/egCc3jh2G2aeZtNJSoCEdMWUFIhwRH0vAnK\n",
       "/izdHpdZu54MdZ7I7PzB7lzpcjS3GXu7A8cOHwH3D5r1FKxL6auSsKz+UM9Em9o8uwfn8KPiBklO\n",
       "qQjBcfFHGRsx8fb8usbUxi5QKDjgKKL6Qk9XfCfGpMQI2NvGKQ/P782S9uvG2+Qqb//raJAgm7M0\n",
       "ilP32vzw5XC1j7TtD2f0cTC8yRZD+oKqphxXSlAsp2yZJ67meVQNgsZLZs4S0jbQgeg1ZTbz120W\n",
       "jZ5jRc+8ku0WhaXvs/jc5b33Q93fACAhroMA6nbk1PL09bVE1lw/QaA6QDwWHadl9qL463+8wtrj\n",
       "l3AVeEv/VYL3XXB2Kxu225NOT3/k2sanO5Bst22mG0jmVz5ntFHUL8Q6E1bxR9DgZE5mHEFz/5sx\n",
       "siocArLKsamqb+25FIi8F/15d/gfD6CjIpadiEHGxmmob0EsTgO7BaL9K4jHwAAAAMMBnr9qQ38A\n",
       "AAMAAAWIhlaI8bqdgfiVYWHv3J3RDDa/hl2+WmfzQM8Zdq/OwEOt8QPH1yMnrxuaKyKGdVGH3eVZ\n",
       "IMVEXimu7OQlLJH/yghMZZDAdleNRgc2hvZWolvnz/syumv/qdElJl/EHjQXtc/4uWG2luPa7JuM\n",
       "g5QhbFa8rXOrz1Tp38TJ9xW8oTspsCavG19xcpP56EhaUhJZyR49cNSg1AJGn87mrZhpgF4TkpBp\n",
       "/scQ2ypkdqvCKgRwlKaAB90AAAOFQZqiSeEPJlMFPBD//qpVAAADAAADAfXaX8E7H58DVBh2eHXT\n",
       "ee2WlYtm8W0tDquChMEgAnbHMmlTDrCVf21OlWPemJ8EybW+CQmiW8DpJ5JdN2Tv/1XPK+slOzVz\n",
       "udkaDNgG5UiuyvsoTD1hKZ+groV/DJJGle3bZNYiPOoRXSOH3bbSjmqd1Loy0Z0Cpo9B4IWcWlI8\n",
       "+tqeBwVCWgk3Ao0ATMDOfutW6xHRO9qYbNVaIsRWRz5IgBApFZWLfJboTOoAqF+ZPty3/NIqktxw\n",
       "rJf9QNRmzmZaL1t1xw8waHRXLH7kDDWzJpg1H4t1w8F0VPyy7T+V5fLIYG+4Nh1E5l4sUpLUZuW/\n",
       "f3MfA/k6Q5AxsOb1MXZY7+pwGV5VSR7E12viHP2VeAule4PqPNaUr6qmkBA034a6fmV/tMjYlb6t\n",
       "l5YtjIGJt8z372yT30BIKog5yNy00LKn+XYn7q6MaUkdVe3Uj2rOiiM1QM+AXfdEADIVOdBEE5yK\n",
       "V6OOVlWj34Y9ACIpbHejPqGHCVa2AmTLrW7jsBt/D8/ETccfQ8Npm9D98rGL1HJFzJsG1EwiOq8S\n",
       "/UI00GOZKMO+R2/F1US/V66e1TMuQUNHQsyFYJB8Bqa05olwqfgkBCtmS7198KsnTz7aWAebtVzt\n",
       "kCWH50Axzai38Ac0XzMnetd7+rtIkPvvC+cMlGfhbhCoDvHk1o5Vm9d3/skSTb3aLOaep69ruLu1\n",
       "VGq6jrkXr29dZ28RPHXrgDjvmuE5iocAeQkbbUtCX7BPNCZm5FAyKQ/MclBXdD4OazwUDB8QE+TZ\n",
       "oLGpRKUq+wWlw6x5Vg5xCOg30DQxepQM7DeroC4oRLuqpPt+3FP7qu0dH/u0TUeN7SZxtH1QWqkB\n",
       "8pi44KGw06DFa2/7TVZb5bKLQ/cIKVvJZXDf4PcAfeAgZSffBBPa19Zluob/PXNPrVFZ7iktiWui\n",
       "qpihajIO8e8+kUQx9cmK1SLrLGC9bb9TDECaq9uMhVwq5T7O6AYrTrug7g6jwrXoB3NNWm3zY1AZ\n",
       "/TOBCvaii1dO9vFqKLkf+dKav0cg+Qr/ym9edDgHOShGwgHFfd6Ze0TgvlV9VLOMgWdgIA/R/aD8\n",
       "D3nPrb0Hc1Bdw8IAl/+Dc450PIaAv8+mYmTa9ur84EnxFZxp8J/6Z9xi7RD9S/5DeByjog5nrWu0\n",
       "bWixU9+2IVa1PAAAAMwBnsFqQ38AAAMAAAWHpnuFsVNtc92Qk2hj7o6mNhGYdqlEu5KSs6/n6M7x\n",
       "iogDu80QjHZ9Y1O0vZ7DjIw3EXBebVa+3hFGmPzojqK8DnteZQvXkTlbQhDmd0pqsIwPRx60F274\n",
       "81muvEcTsK88JLd2GGxwObTKo31S6suS7gmYxwFGF9fAHXjNn1lVWkt/VCZHiyXlYV+8bn+casOY\n",
       "4Xg8Cz1o5/4Q5iHFW7tTp1NFjCdlllyAIkpn4ERv/JM/jN96zCl4/yE4dhywA1MAAAOAQZrESeEP\n",
       "JlMFPBD//qpVAAADAAADAfXi/fMtoyHifwLs2iP5ciOtJjnNwyjldoqm9eR9UF7FsGd42A95q7io\n",
       "H88LTlAC5fDb4tudcBUjC9lf0fxHs7aRYQo6JHUyg2Gboo1Kl54NM8Vg2IyRlLf0NBzyD4vj0DPz\n",
       "ccpDJQrpDPz4/rOxeVaFJauFH/5HD3E57i4U6qrtsnMMu9R+Tc3wQlbaq2QYzDKcxwUw72OGz3sX\n",
       "HR6b0ZsS9ot9TQ7Qu65T9fKMOWBfJruswFczuOMhtTbIrMrTYhJ1dBDPmNLkzm+1dy5ZCCj6sXc+\n",
       "9lJoVkbUN1FXug3MB0XdFJ6D0xVH2tD/LB902tdEi5FYQr92ogJBPyD2gIlTPiUdREbmoWTFrbtZ\n",
       "s9VXBEeHSv8xJfc+tHG4wlhKRyjv/OW85UcpPkdt0fKU+V8UE6grLaUT7e4ixoY8Mq2rQpCpjJph\n",
       "/HcGSvhFwms6DUi9ynwhwrVEa034WuXeNB6LDCk44QunlbJmzfwFaVWj4I72eW36lofA3bMmO3i0\n",
       "2JnUZCXDP07MiZRHZs9bao3DpUGLKSEmRtLhM9WLPPjtXc/gBht+wxDLSPue5BjOCtW4D6rtbVpU\n",
       "M2HD9WvLxzwnqT9Qpkz+SumAnc5CPYHhrXHs9+r1XtfIok56qer1IFuGtUuPOx5/d+x8Wbhy0eRD\n",
       "GoF/VcaiTGBROxM43MIvDk+2HwterJKmAVlgQUtNAg/dgDR2/8QSpuUjv1GMOPsq5Xh2L8G4Ou5a\n",
       "hTwcYbvbWLEX8zCSEIZaIfz9PCKBZhZbG2ZWriEYSjQP0eV1PAM0yAR9xj4YDZ0R3Op+szveyNos\n",
       "vU+2PQJ8ws4gLFJfECIVSClFy/ZX8sfWcNxQ3UWR4XNC5LvTLpbbS6ST9OKUlwPd8fSsMARhdMbz\n",
       "hi4zf8QO5kerLa8gGPvZ156QqtdrW/jzkPvHGT87DkK/ZeAYBaBCH7BozluTtc73JVj4xrc3cNdk\n",
       "m6qTQyFITQhsBHypxwCv+berTmHpz14bVGJ9DAk+uBk3XmZJ5KOGLfIo+9uhJKAfU8u+1aajTg2Y\n",
       "8QG7Sth0ln4VjjXNOcMNDLctj6zQfYNiAB7U+SOvtgQ4kPfUMLGp9U+pZaLnA2QGfyTeq///NxW/\n",
       "ZQUpr1Hq5E5Sc4l3cYkSulTuuJO8bSHfxDhP7ARgWgN/ElQAAADkAZ7jakN/AAADAAAFiTrS+rec\n",
       "kAOOcSV3IEhu1nLig6tmVN/He0ypk9xKnj/UxlzjCRryyFGv/gHs2mUnrInBj89zKUuy/ZYUzfHi\n",
       "1PcG9vihhLrr0R1x9qcHtXXsMSZRlNspq/FsX08t+foAK20IPFHtUvn+IMjo6a9k5wVOiwSNJJ0T\n",
       "6VWvr9ohWntF1wJZ6GLd+0X2cDT2g8oHNwbKjy+xg55gKEIppZ3ckRMMKJbsgo8W1NCoxk2yyIvj\n",
       "IiYO4d+HrN5ZrLzrMIdkg9MvDVKUQIgZrPjf3EdyUpjpmzxAABsxAAAC2EGa5knhDyZTBTwQ//6q\n",
       "VQAAAwAAAwHf4v3zgPIYy3VV5UFKUIAG7Ox5p0OAs4gtK3R/EkZPehpKGp69bgwHPm0Fp3yhWff2\n",
       "hpS/vJQyz6iG0QWA4AmDlXQpcTy4doR3JZ8/cbVhLQM6k2lH5j0qLlMrltLNzmg0XggMzU6YqVCT\n",
       "nOsa1DKI4RTPNlZHcfI+0ud6cuQwe+Wtlzq1fG2cpz3kB9F6r6x9W+wH52tMRhsJh8gNM4yg6TOY\n",
       "/GOcCkm9+To62o8lENw0DdhuXmpgwAP1oJNhyjVKqDsi19uJAjzl3gUrsHz3QM98Adnv+H/kg+Nr\n",
       "CrvDsiS2Ksz7QM1xthCE5yn9whV7nmMWn+AFa1uILsPvMO/uHSjuTqIrVkZ59Kx55njrAja72ux6\n",
       "EWduu6NBnnvddaKRZYgSh4dDlNdSqG+at0zOxau1KqBiETW/4xwARIDQk9lfI+JQskNQD97hmaWT\n",
       "xbRbvvQbJ8ksKOy/EoCk57j4DKMBklSHZFsR5Rn5dZTpN6r9SKipPxiw9D1izr5gfyhEhYQsvrq1\n",
       "oBc46WA4RulWkeJT8Gj1Z7DTAyRhdsNF2rAOmY1pyEvZZYBCmEd7nqd5pcEUATGoBLhOwb+7qi4W\n",
       "jg3aXyDSl1kdz0T43c22/XtWfYKgV4xxbhn/rqiezufSiyrYjEJ2/6t0dN3wgweJbmSU1yZyArzx\n",
       "lt945u7ucy9Cuv8TTXJAx/aGAelJuOO/d2lxzh3POn/l+vfXiuQFo5kBGzFJ8NpiTCyKPxPGB6sM\n",
       "MMoK6fBCgoN87b/E4p0KLIDG2KZV+o2BU4EzmYxWD2ed89oo/iHqegALPOIq4g4YpMI2MVyZDQfe\n",
       "LT67TNSNo0FGFEPOTcgIDx1+IF5sWF9UUvqS+dBFLc0rSP0UIZIfrnaY5gN1p0hCshf0Vm7+pZN6\n",
       "kaZ98NKeaBz9W3LKKsHWZbDGfzCauLBe9v2x40q1AAAA0gGfBWpDfwAAAwAAAwFrTjiEOzX5acJ2\n",
       "8OQZbACWbMwwcrADHFn7qDldDl17ZD4Cs4CyPhH60bsZqFrCgWrs64LxOmId75l7ZfTb/fCUiN6z\n",
       "U7qMHKH9+B2PiRu6pogRLv2NwG6FUTlRZH5DSEnYl3ov45P8Rw3YUBPtTs0Y6xR/mIozWdFjtOFl\n",
       "2JW6NGznAQruLpvzNAUfTSDCdC1MDOVzVMOAPa0xz2xp689jS/ZJWOpqqY7KSSv6Oot6ZRuZnIQy\n",
       "NH0GWGm1aNxxgJzSjIAOOQAAAzZBmwhJ4Q8mUwU8EP/+qlUAAAMAAAMAfNc5/L4y0lujQAFyj8EI\n",
       "RaXVmZWqfjj13vexAzyKZA5ESqgM5PQ2TfMuFoiDoOl38XLpT4vesRv7pZ2fi8UzNqe2MSQKWrHk\n",
       "a2Hk5gjoBgJ/V2YPv2CiWpWASnEnG9WIRLiMd6HfYCmXYxO9iYe+stTRhBtotKu1LgOLIRzrH0A7\n",
       "lNSaPkjA4mtPviK8KPCl5V40am2Hw7sTz2Mx0XdDvKCNNG5gj4vgIlcT+wV0D2CDHpYiRD4RGReG\n",
       "K+VwAo7ilQWi6OyhUEgNZVKIj6BuL0WzV1ZmtTlhnHsCeAhWJMLGRuPZKH3fm2Peu/9CelPJOJ9u\n",
       "YQJk6i9+2ZV4PZLJ9s2Lu3tE4uGY7gnyZcrvuoCCsxr7qyR6p8RbM1Rf5EBox/7Llep47286V0Kv\n",
       "CNSmF/LwQIROmI2HHoQaD+VTORU4tApyFM7UE6qkDOgwYBb22KI16A+Q73oCYGCvY9D3B3gVSwRi\n",
       "izYkMqQxsrSxlu5MSeJFaBWzxq6LTDyzdq4w4GGceCqMLgPDifMzAr8Ls6PZZJOEsumv6bZLRupE\n",
       "OIpLv5JNbiKAyz2jclqKHMw2DiP2CAbJblN0XskrT/iEeuLlcuzWwLUV5TDBv3OAO34b9c6nX/fz\n",
       "lo8maON9JIcuWkt5f/Hyne0RBA9K2cArNSWtHH9w472irXCaBJasAnD/PbDTXZ3lqcqorrScU9ub\n",
       "wHTjcek9dt4purRbraKQmWN4K3ZtLEk/lXyRMxubuASgs9B9rMZzjF/4crNbhQUOSHoy7hTeSmyd\n",
       "cHXWCttMoQIxqlrwyfJZo/vpZ0G7xDwNIS3trYxRiSfWVkuMmQMdA9hVQmFbJngMfNLvLcsbHi33\n",
       "HdDlFljyD6dUZOcyUc0wa1/vj+8qBXWmK52W1B8OVTQ17kFlRCgAUsZx85XvSRRWqNTSb/GmPLcH\n",
       "Cj7Je3/ap1t5fz/8cHY59NB6SF+D7hXscGDQ+e/s/yVMX5SX/yLi1ZAG6/j2WvAE0SJ//VmWajCD\n",
       "uOsGajGNx6QzzsMqaGfbTKIrXsX0Imo/u8PmX3m8SXiBa0tp+1ScHLnxZ4EAAADIAZ8nakN/AAAD\n",
       "AAADAWIujNKbiwn7YARZIjAMnoe2bB0odUiL7gwZs9g9uvwC9k1KMv8vrf+1Ptfmuwhr5SnTsDD/\n",
       "d6MtqKRoWLkMNrIItL7133vf4VxqTcLoPIakriERN1YzEBWTR2h3yXnkyNqFBmmCKWcsTViBHUEm\n",
       "XNQpnbdMYuLz5yElaj4OR8OXJwrhPEJUeS805+WjnBQYDyUjisr1uBJ0dEB1YC59wR+107uXLb9/\n",
       "iwpcerM6aHRFV2JtCKD2nqJgYUAAAAK0QZsqSeEPJlMFPBD//qpVAAADAAADAH197RHISYW0WWOr\n",
       "C4ZW8gJLRpPo+SKHnRShe8ci93b8UEvDB9f5l0RFX8SxDtT9Fgk1KWQ/zZidFgQQFVT3a1aWLDis\n",
       "v4mR9d5d8LKeEJdrCp+dBipfbXl7tB8njEsXqUCnFx4HOZwlYaio0dckfbZTZ2KrKSGZEewKccH5\n",
       "QRYOUcoEPV5Ge58lmuCxQbUBD9qXyENcEMENlnEWVwTf4yWjXzt560VR8pMxJEAr5JFDXHOB9Vpq\n",
       "KgxVy6dg31K4/wVO84em77YYdz3A73D4lkYe/UbYuaIHSgWTK2MFwje9Aixv/sD/oGr7gk242eDy\n",
       "BPIG/1hECcDcCLcIe2hTHGPvH+sxqPrlqwIC7SKEKGuGZg3MpEB6c6alsHuKvnxA8OEqfLym0Hte\n",
       "SovCjMqqjIoAl77GCppxAf2UfxJTgN/liXsPua2A/XrsTjIjbiKD0j8/9aNtXrADiPo7EtdyNiMi\n",
       "HWooV5JuNvQFWHxNMynjA/GA0op2ilatTaml74Zep2asGt1slGQkpA3gKplZYW3Rku4UGKMOl5xz\n",
       "YQAsimOCtMjY5osxAHcX1ToYDIiKEMEZ2xO6rFtJz0XfCMt5rErGVLJ6kfIUywuHXHGIInBm4ZJP\n",
       "dNtJfko8psC4jAl2104yZ2q0qzTAumO2NmNebnm2cjqtYdgAmAVzbpXpYJOswO/0iWN/kFCvgy+V\n",
       "x7lzXj7XjfIsnCcvHxQBiG89xNmV32wMgRGtgUZKq68cZcpJURYy69m5eD0g37Yi+3BG3ngJPZTu\n",
       "14ku5Zu4AUOOvSgBhbXvkL0bf1sJG0D07h0hd0bGBSy51/W50Wc9LI1SBtgB6XZQ9UZoQy7aPhq0\n",
       "Ej2VkK3k7mhEarHyAO6jZknKGoIHNi8/Iv/vXON3mmAAAAC9AZ9JakN/AAADAAADAWJOdv5P6vYU\n",
       "j4Mhc7rW+XwoQBYWxa5gw0DWRuP+x3uE4vKDaxHqJQcVu0WprKZGsEQVK1NEonUSh0p0yBpqgKMC\n",
       "2QCvSayQQeU+oZr40y6ExscvRDm5VTnKko5yhOV4LLMqTXBNJ4e2Z0PoGw9MeuJv+BVP3SGW0fWf\n",
       "MDI7cZH6krwOMy2wbdEpBTy8gy6XwB/d0dzV9oCrXp487IYJOYZpnKyAEApUMlTIkEKNEI+BAAAC\n",
       "MUGbTEnhDyZTBTwQ//6qVQAAAwAAAwB6uL6meMMgG4Es4tg4yR5UAD9VwJY+Hvcbn8KC83a5+Mrh\n",
       "zdzL9RzA9UFq+qWjm9r6DpkyMWfZHUfT38ZsmiaNkpQq3SsPGscaM1Nq2lC0f0erS/bm7GnrXV7b\n",
       "nici2KYRTMJT3vqchMRnqvF20HxPKZUiKhJAII7MMLv11SJmfA5D1qlNJPC3DskyQCZ9p9hrTaCq\n",
       "62un4Yb3kE1LLtXpSKVjU2PlrWm01RsNdHHWofj6eJF0fJWBreppLhelNT4JYpoR7VOsb/jqAQw7\n",
       "KVsjvQfVTwl1+fFPPVQ2eftEyB+W22gQbm/GjEBrDxpFLAsLHhNOo0EBgTbspdvb8umMPaypBWwr\n",
       "IRqZAeebOS+TZGeTUEGXfFGuMiY48JMsuKgW/AXJf3ug767fMODDgUz/v0CrGc5A1EUriJCxp5DC\n",
       "hTACggJ/XhT4pZM3l8vbLZv/l17Lo4D3sAfQF/f1WALuVdvtwA9JSWEgMVoOfPRGWepCF6L0H+UO\n",
       "W10jaRA2vU/T+d/429r1NtG2JcPl4yVdA17ejnf679wU0nf+vtmLnqqmWVi+W66wR0QeHmm6GFde\n",
       "XvXu7Og+rZN9IPzO71p6AdkSvHuMbwBOV9xg/IKV1JS2PAUYI/2yCGvtcgaBRQV/uDT+W236oy9k\n",
       "dW8irSq8WL4yf5ommTnJkeNVY9XHPvvRmq2s40JRF5D6fvyWue6Hv8qCenTpQiqatAAAALkBn2tq\n",
       "Q38AAAMAAAMBWU1y/+hnM5HLfXCiB2cVU6eHcoXdDdwuXfuw4XT8lEeOM02flQ8U8J5E2ck8jWEP\n",
       "ZBTbR52zNl0xhaZ3wQBdm79axskp+lu/7T60HHiVW2z7TO0QXIQq/Qq9lHdub2S29gUuXf3sOxU1\n",
       "Kxj6mXOtR0jJMUioK80oZElY6AWdzuxyBhKXylBrJxlqZBRxgcwewSJTp3S0qtD3FyJDrGJpacRK\n",
       "YwVe4pQh7t4YsAAAAdxBm25J4Q8mUwU8P//+qZYAAAMAAAMAfX3WgayEjG9ntb8ADDUYK+zzs9du\n",
       "WTvet4N2sDyQzTEo8e1SpH2D91i4X/EJaeIHv24m+cn+SXLzJEiCLVbfvY7g6yTy9nBP9hhdJTGj\n",
       "eYBrrQI6Lt7kqWm7E+hFH0K2brdzzy/NHbKKNBxOYHQ1EvXMTfqYEZEmosDlvfz9xj80BZiaPHBh\n",
       "ih2eR/eavOOOsCzq8yg/XGSXzz0Kw1c/qpjxOVa6zNkpLEax75PQ5KLwcxkKcdqgBgBWlRtETGjm\n",
       "/FNFa3vXj/cNS1wJpw2FrHYKuGzGNaWSKBugvson7kTfc41oyTdVVlGdRMQtS2Be1bV17WB71vbM\n",
       "ku3eeIk2Nu3HULc1fzMkHi/46i2Rp1d8QqLoyOcKQY5CL2gALvtvIOER2EACJcxNCRnai2RXqC7k\n",
       "esvzclKJd06oBN+dhiwI6V1Yd7oq+OeWHhaOiGZ3njsB+ztNSVXSNzYAxjeu9X5wS6Yju+vgfDs6\n",
       "zUIgQQ0WM99ot6ad9bfrmGSPZpdhsBtpPuy/SnTMGAM61huI8YA0CPSkzyR0+hZbSL0H/WcaEb4C\n",
       "7n1fRBC4P7ciDLLk4yziTxI7E5JiZy8lyzQHfq+R+qMgaQAAAKoBn41qQ38AAAMAAAMAWtOpVIh0\n",
       "tZOEH6tik85wZJNbCgVQ/nX3HMfVUn/B3DDQmXvS1EiKSUJVGB+WqvRFCg06isAlWyUOEV2LW1LI\n",
       "oY2/s4TxH9GZyW1ASYCeVl6gnwiObzSfKqcblt3cMq1O4SCAo1Ubm5REp8ZhvMvr0MmfuaDRYYGo\n",
       "XXSxiplRQn3RAD2H14QD8xBC5dZ53brNVVFoQz8xEptp4wA3oQAAAWVBm5BJ4Q8mUwU8O//+qZYA\n",
       "AAMAAAMAeggJpQTq0/zbgBKfteicb3txPJHrbfHsxL71IZ8ajIdyaKJLQ2WTtgE+/+aHBba7Frvq\n",
       "t736taYrN0hbkzTaezWS7nf07Jai5CEE65XpZ6rTZTmmDjksPb78YElH9hmKrn/YlibLozM8K/7L\n",
       "KdBcdR2//FbC73nv34bSs7P30Jv3X0815jtUjb6AqSMG/3oWJgNqBYoLD8MKQqyla7Ug1ViUxkoo\n",
       "Xa2IansGn9lud9OGG8f0tQYZb6z+De1pNZ/zS9HCeuWgqMTnp55sna4OgXH4/3yi3S0q4C7hvw/u\n",
       "TUtiNJYkI3URzbbN2FjFfzi7Q28i+4iPX40mD0OhzewdE9o2fxuzwMY4vif1gqMCYb1gfaCyn1co\n",
       "k9QBUOuANl2beyeNvwJsh1rTDM3kqTdc1ium8QFMUWsPHIBg7Ao8LXHuwig9cr8SIabwO5LnBEEA\n",
       "AAC5AZ+vakN/AAADAAADAFidzRTLrPVj63+G/HqRtz4WoXGdtHG6zFj6Z1Cq9NqYi9XlG1nfQwGd\n",
       "67hM6LhNuwOvC8gcXmeHXiww/T4TG7qxM9ZDPPpm5bUxrpg9Vf4cFEJp41dQ2z3pYUoVBGoWWngo\n",
       "KHKU0Zhq1opnveuS8PNg4mdpe8qjRZ24AWhcxocu+tKwHuA3d0qePtjAXidwpz+kYlmppa9Bcu5t\n",
       "WgTUM9jwU84BbH4UggAAK2AAAADvQZuxSeEPJlMCG//+p4QAAAMAAAMA8ob69uq6JAC3ejb8VJg0\n",
       "n//4Qb9eyLDwzJ30P5pHJ/KF4eq17SG2FmV3ASA5YGkgaiA3zXcocSy3yElW8O7YOAsrDYD0BEWE\n",
       "WHdD855VcnJFhCDwPcageg0FhRN4RYeaq8ubHI0u44CiL+FRBDkAEuaTGQKDlqX51BGOW9mcSNRm\n",
       "dtfhk7tYkmget5emWBSopI3FP75E9P0j39DlbZQMDhQRuHWs6u+smCU/N9cAwqa3EcU03XcSwsJD\n",
       "Hq/07Z/vWDnOWKB2V4W3WqRh/O323HfossvvLpxQZEAAAAVGbW9vdgAAAGxtdmhkAAAAAAAAAAAA\n",
       "AAAAAAAD6AAAE4gAAQAAAQAAAAAAAAAAAAAAAAEAAAAAAAAAAAAAAAAAAAABAAAAAAAAAAAAAAAA\n",
       "AABAAAAAAAAAAAAAAAAAAAAAAAAAAAAAAAAAAAAAAAAAAgAABHB0cmFrAAAAXHRraGQAAAADAAAA\n",
       "AAAAAAAAAAABAAAAAAAAE4gAAAAAAAAAAAAAAAAAAAAAAAEAAAAAAAAAAAAAAAAAAAABAAAAAAAA\n",
       "AAAAAAAAAABAAAAAA2AAAAJAAAAAAAAkZWR0cwAAABxlbHN0AAAAAAAAAAEAABOIAAAIAAABAAAA\n",
       "AAPobWRpYQAAACBtZGhkAAAAAAAAAAAAAAAAAAAoAAAAyABVxAAAAAAALWhkbHIAAAAAAAAAAHZp\n",
       "ZGUAAAAAAAAAAAAAAABWaWRlb0hhbmRsZXIAAAADk21pbmYAAAAUdm1oZAAAAAEAAAAAAAAAAAAA\n",
       "ACRkaW5mAAAAHGRyZWYAAAAAAAAAAQAAAAx1cmwgAAAAAQAAA1NzdGJsAAAAs3N0c2QAAAAAAAAA\n",
       "AQAAAKNhdmMxAAAAAAAAAAEAAAAAAAAAAAAAAAAAAAAAA2ACQABIAAAASAAAAAAAAAABAAAAAAAA\n",
       "AAAAAAAAAAAAAAAAAAAAAAAAAAAAAAAAAAAAGP//AAAAMWF2Y0MBZAAf/+EAGGdkAB+s2UDYEmhA\n",
       "AAADAEAAAAUDxgxlgAEABmjr48siwAAAABx1dWlka2hA8l8kT8W6OaUbzwMj8wAAAAAAAAAYc3R0\n",
       "cwAAAAAAAAABAAAAMgAABAAAAAAUc3RzcwAAAAAAAAABAAAAAQAAAWBjdHRzAAAAAAAAACoAAAAJ\n",
       "AAAIAAAAAAEAABQAAAAAAQAACAAAAAABAAAAAAAAAAEAAAQAAAAAAQAADAAAAAABAAAEAAAAAAEA\n",
       "AAwAAAAAAQAABAAAAAABAAAMAAAAAAEAAAQAAAAAAQAADAAAAAABAAAEAAAAAAEAAAwAAAAAAQAA\n",
       "BAAAAAABAAAMAAAAAAEAAAQAAAAAAQAADAAAAAABAAAEAAAAAAEAAAwAAAAAAQAABAAAAAABAAAM\n",
       "AAAAAAEAAAQAAAAAAQAADAAAAAABAAAEAAAAAAEAAAwAAAAAAQAABAAAAAABAAAMAAAAAAEAAAQA\n",
       "AAAAAQAADAAAAAABAAAEAAAAAAEAAAwAAAAAAQAABAAAAAABAAAMAAAAAAEAAAQAAAAAAQAADAAA\n",
       "AAABAAAEAAAAAAEAAAwAAAAAAQAABAAAAAABAAAMAAAAAAEAAAQAAAAAAQAACAAAAAAcc3RzYwAA\n",
       "AAAAAAABAAAAAQAAADIAAAABAAAA3HN0c3oAAAAAAAAAAAAAADIAAA4AAAAIFwAABX4AAAQgAAAD\n",
       "qwAAA1YAAAJuAAACNgAAAiYAAAUjAAABngAAAQEAAAEEAAADqwAAAPoAAANoAAAA/AAAAyIAAAD0\n",
       "AAADCQAAAPoAAALqAAAA9wAAA1YAAADYAAADAQAAANQAAAL/AAAA2QAAAzQAAADTAAADeAAAAMcA\n",
       "AAOJAAAA0AAAA4QAAADoAAAC3AAAANYAAAM6AAAAzAAAArgAAADBAAACNQAAAL0AAAHgAAAArgAA\n",
       "AWkAAAC9AAAA8wAAABRzdGNvAAAAAAAAAAEAAAAsAAAAYnVkdGEAAABabWV0YQAAAAAAAAAhaGRs\n",
       "cgAAAAAAAAAAbWRpcmFwcGwAAAAAAAAAAAAAAAAtaWxzdAAAACWpdG9vAAAAHWRhdGEAAAABAAAA\n",
       "AExhdmY1Ny4xMS4xMDA=\n",
       "\">\n",
       "  Your browser does not support the video tag.\n",
       "</video>"
      ],
      "text/plain": [
       "<matplotlib.animation.FuncAnimation at 0x36a70c90f0>"
      ]
     },
     "execution_count": 21,
     "metadata": {},
     "output_type": "execute_result"
    }
   ],
   "source": [
    "fig = plt.figure(figsize=(12, 8))\n",
    "ax = fig.add_subplot(111)\n",
    "\n",
    "x = np.linspace(0, nx*dx, nx)\n",
    "line, = ax.plot(x, u0)\n",
    "\n",
    "def animate(i):\n",
    "    print(\".\", end='', flush=True)\n",
    "    if (i > 0):\n",
    "        for k in range(10):\n",
    "            simulator.step()\n",
    "    \n",
    "    u2 = simulator.download()\n",
    "    line.set_ydata(u2)\n",
    "    \n",
    "plt.rcParams[\"animation.html\"] = \"html5\"\n",
    "anim = animation.FuncAnimation(fig, animate, range(50), interval=100)\n",
    "plt.close()\n",
    "anim"
   ]
  },
  {
   "cell_type": "code",
   "execution_count": 6,
   "metadata": {},
   "outputs": [
    {
     "name": "stderr",
     "output_type": "stream",
     "text": [
      "Initialization: 696.822166 ms\n"
     ]
    }
   ],
   "source": [
    "class HeatEquationGPU(object):\n",
    "    def __init__(self):\n",
    "        pass\n",
    "        \n",
    "    def initialize(self, u0, kappa, dx, dt, block_width=128):\n",
    "        self.kappa = np.float32(kappa)\n",
    "        self.dx = np.float32(dx)\n",
    "        self.dt = np.float32(dt)\n",
    "        self.nx = np.int32(u0.shape[0]-2)\n",
    "        \n",
    "        self.block_size = (block_width, 1, 1)\n",
    "        self.grid_size = (int(np.ceil(self.nx / block_width)), 1, 1)\n",
    "        self.stream = cuda_driver.Stream()\n",
    "        \n",
    "        self.u1_g = GPUArray(u0.shape, u0.dtype)\n",
    "        self.u0_g = GPUArray(u0.shape, u0.dtype)\n",
    "        \n",
    "        self.u0_g.set_async(u0, stream=self.stream)\n",
    "        \n",
    "        \n",
    "        cuda_kernel = \\\n",
    "        \"\"\"\n",
    "        #define BLOCK_WIDTH {:d}\n",
    "        \"\"\".format(block_width) \\\n",
    "        + \\\n",
    "        \"\"\"\n",
    "        __global__ void heatEqn(float* u1, const float* u0, float kappa, float dx, float dt, int nx) {\n",
    "            //Plus one to skip the \"ghost cells\"\n",
    "            int i = blockIdx.x*blockDim.x + threadIdx.x + 1;\n",
    "            int tx = threadIdx.x + 1;\n",
    "\n",
    "            //First read into shared memory, including the local ghost cells / apron\n",
    "            __shared__ float u0_shared[BLOCK_WIDTH+2];\n",
    "            for (int k=threadIdx.x; k<BLOCK_WIDTH+2; k += blockDim.x) {\n",
    "                int s = min(blockIdx.x*blockDim.x + k, nx+1);\n",
    "                u0_shared[k] = u0[s];\n",
    "            }\n",
    "            __syncthreads();\n",
    "\n",
    "            //Then fix the boundary conditions\n",
    "            //[0 | 1 2 3 4 | 5]\n",
    "            if (i == 1) {\n",
    "                u0_shared[tx-1] = u0_shared[tx];\n",
    "            }\n",
    "            else if (i == nx) {\n",
    "                u0_shared[tx+1] = u0_shared[tx];\n",
    "            }\n",
    "            __syncthreads();\n",
    "\n",
    "            if (i >= 1 && i <= nx) {\n",
    "                u1[i] = u0_shared[tx] + kappa*dt/(dx*dx) * (u0_shared[tx-1] - 2.0f*u0_shared[tx] + u0_shared[tx+1]);\n",
    "            }\n",
    "        }\n",
    "        \"\"\"\n",
    "        self.module = cuda_compiler.SourceModule(cuda_kernel, \\\n",
    "                                            options=['--use_fast_math'])\n",
    "        self.heat_eqn_kernel = self.module.get_function(\"heatEqn\");\n",
    "        self.heat_eqn_kernel.prepare(\"PPfffi\")\n",
    "        \n",
    "        \n",
    "        \n",
    "    def step(self):\n",
    "        self.heat_eqn_kernel.prepared_async_call(self.grid_size, self.block_size, self.stream, \\\n",
    "                                                    self.u1_g.gpudata, self.u0_g.gpudata, \\\n",
    "                                                    self.kappa, self.dx, self.dt, self.nx)\n",
    "        self.u0_g, self.u1_g = self.u1_g, self.u0_g\n",
    "    \n",
    "    \n",
    "    def download(self):\n",
    "        #self.u2 = cuda_driver.pagelocked_empty(u1.shape, u1.dtype)\n",
    "        u0 = np.empty(self.u0_g.shape, self.u0_g.dtype)\n",
    "        self.u0_g.get(u0)\n",
    "        return u0\n",
    "        \n",
    "        \n",
    "        \n",
    "        \n",
    "#Create test input data\n",
    "kappa = 1.0\n",
    "nx = 100\n",
    "dx = 1.0\n",
    "dt = 0.4 * dx**2 / (2.0*kappa)\n",
    "\n",
    "u0 = np.zeros(nx, dtype=np.float32)\n",
    "for i in range(nx):\n",
    "    x = (i - nx/2.0) * dx\n",
    "    if (np.sqrt(x**2) < 10*dx):\n",
    "        u0[i] = 10.0\n",
    "\n",
    "with Timer(\"Initialization\") as t:\n",
    "    simulator = HeatEquationGPU()\n",
    "    simulator.initialize(u0, kappa, dx, dt)"
   ]
  },
  {
   "cell_type": "code",
   "execution_count": 10,
   "metadata": {},
   "outputs": [
    {
     "name": "stderr",
     "output_type": "stream",
     "text": [
      "Animation.save using <class 'matplotlib.animation.FFMpegWriter'>\n",
      "frame size in pixels is 864 x 576\n",
      "MovieWriter.run: running command: ['ffmpeg', '-f', 'rawvideo', '-vcodec', 'rawvideo', '-s', '864x576', '-pix_fmt', 'rgba', '-r', '10.0', '-i', 'pipe:', '-vcodec', 'h264', '-pix_fmt', 'yuv420p', '-y', 'C:\\\\Users\\\\anbro\\\\AppData\\\\Local\\\\Temp\\\\tmpkkbh8uyo.m4v']\n"
     ]
    },
    {
     "name": "stdout",
     "output_type": "stream",
     "text": [
      ".190.00002\n",
      "."
     ]
    },
    {
     "name": "stderr",
     "output_type": "stream",
     "text": [
      "MovieWriter.grab_frame: Grabbing frame.\n"
     ]
    },
    {
     "name": "stdout",
     "output_type": "stream",
     "text": [
      "190.00002\n",
      "."
     ]
    },
    {
     "name": "stderr",
     "output_type": "stream",
     "text": [
      "MovieWriter.grab_frame: Grabbing frame.\n"
     ]
    },
    {
     "name": "stdout",
     "output_type": "stream",
     "text": [
      "190.00002\n",
      "."
     ]
    },
    {
     "name": "stderr",
     "output_type": "stream",
     "text": [
      "MovieWriter.grab_frame: Grabbing frame.\n"
     ]
    },
    {
     "name": "stdout",
     "output_type": "stream",
     "text": [
      "190.00003\n",
      "."
     ]
    },
    {
     "name": "stderr",
     "output_type": "stream",
     "text": [
      "MovieWriter.grab_frame: Grabbing frame.\n"
     ]
    },
    {
     "name": "stdout",
     "output_type": "stream",
     "text": [
      "190.0\n",
      "."
     ]
    },
    {
     "name": "stderr",
     "output_type": "stream",
     "text": [
      "MovieWriter.grab_frame: Grabbing frame.\n"
     ]
    },
    {
     "name": "stdout",
     "output_type": "stream",
     "text": [
      "190.00002\n",
      ".190.00002\n"
     ]
    },
    {
     "name": "stderr",
     "output_type": "stream",
     "text": [
      "MovieWriter.grab_frame: Grabbing frame.\n"
     ]
    },
    {
     "name": "stdout",
     "output_type": "stream",
     "text": [
      ".190.00002\n"
     ]
    },
    {
     "name": "stderr",
     "output_type": "stream",
     "text": [
      "MovieWriter.grab_frame: Grabbing frame.\n"
     ]
    },
    {
     "name": "stdout",
     "output_type": "stream",
     "text": [
      ".190.00002\n"
     ]
    },
    {
     "name": "stderr",
     "output_type": "stream",
     "text": [
      "MovieWriter.grab_frame: Grabbing frame.\n"
     ]
    },
    {
     "name": "stdout",
     "output_type": "stream",
     "text": [
      "."
     ]
    },
    {
     "name": "stderr",
     "output_type": "stream",
     "text": [
      "MovieWriter.grab_frame: Grabbing frame.\n"
     ]
    },
    {
     "name": "stdout",
     "output_type": "stream",
     "text": [
      "190.00002\n",
      "."
     ]
    },
    {
     "name": "stderr",
     "output_type": "stream",
     "text": [
      "MovieWriter.grab_frame: Grabbing frame.\n"
     ]
    },
    {
     "name": "stdout",
     "output_type": "stream",
     "text": [
      "190.00002\n",
      ".190.00003\n"
     ]
    },
    {
     "name": "stderr",
     "output_type": "stream",
     "text": [
      "MovieWriter.grab_frame: Grabbing frame.\n"
     ]
    },
    {
     "name": "stdout",
     "output_type": "stream",
     "text": [
      "."
     ]
    },
    {
     "name": "stderr",
     "output_type": "stream",
     "text": [
      "MovieWriter.grab_frame: Grabbing frame.\n"
     ]
    },
    {
     "name": "stdout",
     "output_type": "stream",
     "text": [
      "190.00002\n",
      ".190.00003\n"
     ]
    },
    {
     "name": "stderr",
     "output_type": "stream",
     "text": [
      "MovieWriter.grab_frame: Grabbing frame.\n"
     ]
    },
    {
     "name": "stdout",
     "output_type": "stream",
     "text": [
      "."
     ]
    },
    {
     "name": "stderr",
     "output_type": "stream",
     "text": [
      "MovieWriter.grab_frame: Grabbing frame.\n"
     ]
    },
    {
     "name": "stdout",
     "output_type": "stream",
     "text": [
      "190.00002\n",
      ".190.00003\n"
     ]
    },
    {
     "name": "stderr",
     "output_type": "stream",
     "text": [
      "MovieWriter.grab_frame: Grabbing frame.\n"
     ]
    },
    {
     "name": "stdout",
     "output_type": "stream",
     "text": [
      ".190.00002\n"
     ]
    },
    {
     "name": "stderr",
     "output_type": "stream",
     "text": [
      "MovieWriter.grab_frame: Grabbing frame.\n"
     ]
    },
    {
     "name": "stdout",
     "output_type": "stream",
     "text": [
      ".190.00002\n"
     ]
    },
    {
     "name": "stderr",
     "output_type": "stream",
     "text": [
      "MovieWriter.grab_frame: Grabbing frame.\n"
     ]
    },
    {
     "name": "stdout",
     "output_type": "stream",
     "text": [
      "."
     ]
    },
    {
     "name": "stderr",
     "output_type": "stream",
     "text": [
      "MovieWriter.grab_frame: Grabbing frame.\n"
     ]
    },
    {
     "name": "stdout",
     "output_type": "stream",
     "text": [
      "190.00002\n",
      ".190.0\n"
     ]
    },
    {
     "name": "stderr",
     "output_type": "stream",
     "text": [
      "MovieWriter.grab_frame: Grabbing frame.\n"
     ]
    },
    {
     "name": "stdout",
     "output_type": "stream",
     "text": [
      ".190.00003\n"
     ]
    },
    {
     "name": "stderr",
     "output_type": "stream",
     "text": [
      "MovieWriter.grab_frame: Grabbing frame.\n"
     ]
    },
    {
     "name": "stdout",
     "output_type": "stream",
     "text": [
      ".190.00003\n"
     ]
    },
    {
     "name": "stderr",
     "output_type": "stream",
     "text": [
      "MovieWriter.grab_frame: Grabbing frame.\n"
     ]
    },
    {
     "name": "stdout",
     "output_type": "stream",
     "text": [
      ".190.0\n"
     ]
    },
    {
     "name": "stderr",
     "output_type": "stream",
     "text": [
      "MovieWriter.grab_frame: Grabbing frame.\n"
     ]
    },
    {
     "name": "stdout",
     "output_type": "stream",
     "text": [
      ".190.00002\n"
     ]
    },
    {
     "name": "stderr",
     "output_type": "stream",
     "text": [
      "MovieWriter.grab_frame: Grabbing frame.\n"
     ]
    },
    {
     "name": "stdout",
     "output_type": "stream",
     "text": [
      ".190.00002\n"
     ]
    },
    {
     "name": "stderr",
     "output_type": "stream",
     "text": [
      "MovieWriter.grab_frame: Grabbing frame.\n"
     ]
    },
    {
     "name": "stdout",
     "output_type": "stream",
     "text": [
      "."
     ]
    },
    {
     "name": "stderr",
     "output_type": "stream",
     "text": [
      "MovieWriter.grab_frame: Grabbing frame.\n"
     ]
    },
    {
     "name": "stdout",
     "output_type": "stream",
     "text": [
      "190.00003\n",
      ".190.00002\n"
     ]
    },
    {
     "name": "stderr",
     "output_type": "stream",
     "text": [
      "MovieWriter.grab_frame: Grabbing frame.\n"
     ]
    },
    {
     "name": "stdout",
     "output_type": "stream",
     "text": [
      ".190.00005\n"
     ]
    },
    {
     "name": "stderr",
     "output_type": "stream",
     "text": [
      "MovieWriter.grab_frame: Grabbing frame.\n"
     ]
    },
    {
     "name": "stdout",
     "output_type": "stream",
     "text": [
      ".190.00002\n"
     ]
    },
    {
     "name": "stderr",
     "output_type": "stream",
     "text": [
      "MovieWriter.grab_frame: Grabbing frame.\n"
     ]
    },
    {
     "name": "stdout",
     "output_type": "stream",
     "text": [
      ".190.00003\n"
     ]
    },
    {
     "name": "stderr",
     "output_type": "stream",
     "text": [
      "MovieWriter.grab_frame: Grabbing frame.\n"
     ]
    },
    {
     "name": "stdout",
     "output_type": "stream",
     "text": [
      "."
     ]
    },
    {
     "name": "stderr",
     "output_type": "stream",
     "text": [
      "MovieWriter.grab_frame: Grabbing frame.\n"
     ]
    },
    {
     "name": "stdout",
     "output_type": "stream",
     "text": [
      "190.00003\n",
      ".190.00003\n"
     ]
    },
    {
     "name": "stderr",
     "output_type": "stream",
     "text": [
      "MovieWriter.grab_frame: Grabbing frame.\n"
     ]
    },
    {
     "name": "stdout",
     "output_type": "stream",
     "text": [
      ".190.00003\n"
     ]
    },
    {
     "name": "stderr",
     "output_type": "stream",
     "text": [
      "MovieWriter.grab_frame: Grabbing frame.\n"
     ]
    },
    {
     "name": "stdout",
     "output_type": "stream",
     "text": [
      "."
     ]
    },
    {
     "name": "stderr",
     "output_type": "stream",
     "text": [
      "MovieWriter.grab_frame: Grabbing frame.\n"
     ]
    },
    {
     "name": "stdout",
     "output_type": "stream",
     "text": [
      "190.00003\n",
      ".190.00003\n"
     ]
    },
    {
     "name": "stderr",
     "output_type": "stream",
     "text": [
      "MovieWriter.grab_frame: Grabbing frame.\n"
     ]
    },
    {
     "name": "stdout",
     "output_type": "stream",
     "text": [
      "."
     ]
    },
    {
     "name": "stderr",
     "output_type": "stream",
     "text": [
      "MovieWriter.grab_frame: Grabbing frame.\n"
     ]
    },
    {
     "name": "stdout",
     "output_type": "stream",
     "text": [
      "190.00003\n",
      ".190.00003\n"
     ]
    },
    {
     "name": "stderr",
     "output_type": "stream",
     "text": [
      "MovieWriter.grab_frame: Grabbing frame.\n"
     ]
    },
    {
     "name": "stdout",
     "output_type": "stream",
     "text": [
      ".190.00002\n"
     ]
    },
    {
     "name": "stderr",
     "output_type": "stream",
     "text": [
      "MovieWriter.grab_frame: Grabbing frame.\n"
     ]
    },
    {
     "name": "stdout",
     "output_type": "stream",
     "text": [
      ".190.00003\n"
     ]
    },
    {
     "name": "stderr",
     "output_type": "stream",
     "text": [
      "MovieWriter.grab_frame: Grabbing frame.\n"
     ]
    },
    {
     "name": "stdout",
     "output_type": "stream",
     "text": [
      ".190.00003\n"
     ]
    },
    {
     "name": "stderr",
     "output_type": "stream",
     "text": [
      "MovieWriter.grab_frame: Grabbing frame.\n"
     ]
    },
    {
     "name": "stdout",
     "output_type": "stream",
     "text": [
      ".190.00005\n"
     ]
    },
    {
     "name": "stderr",
     "output_type": "stream",
     "text": [
      "MovieWriter.grab_frame: Grabbing frame.\n"
     ]
    },
    {
     "name": "stdout",
     "output_type": "stream",
     "text": [
      ".190.00003\n"
     ]
    },
    {
     "name": "stderr",
     "output_type": "stream",
     "text": [
      "MovieWriter.grab_frame: Grabbing frame.\n"
     ]
    },
    {
     "name": "stdout",
     "output_type": "stream",
     "text": [
      ".190.00003\n"
     ]
    },
    {
     "name": "stderr",
     "output_type": "stream",
     "text": [
      "MovieWriter.grab_frame: Grabbing frame.\n"
     ]
    },
    {
     "name": "stdout",
     "output_type": "stream",
     "text": [
      ".190.00002\n"
     ]
    },
    {
     "name": "stderr",
     "output_type": "stream",
     "text": [
      "MovieWriter.grab_frame: Grabbing frame.\n"
     ]
    },
    {
     "name": "stdout",
     "output_type": "stream",
     "text": [
      ".190.00003\n"
     ]
    },
    {
     "name": "stderr",
     "output_type": "stream",
     "text": [
      "MovieWriter.grab_frame: Grabbing frame.\n"
     ]
    },
    {
     "name": "stdout",
     "output_type": "stream",
     "text": [
      ".190.00003\n"
     ]
    },
    {
     "name": "stderr",
     "output_type": "stream",
     "text": [
      "MovieWriter.grab_frame: Grabbing frame.\n"
     ]
    },
    {
     "name": "stdout",
     "output_type": "stream",
     "text": [
      "."
     ]
    },
    {
     "name": "stderr",
     "output_type": "stream",
     "text": [
      "MovieWriter.grab_frame: Grabbing frame.\n"
     ]
    },
    {
     "name": "stdout",
     "output_type": "stream",
     "text": [
      "190.00005\n",
      ".190.00005"
     ]
    },
    {
     "name": "stderr",
     "output_type": "stream",
     "text": [
      "MovieWriter.grab_frame: Grabbing frame.\n"
     ]
    },
    {
     "name": "stdout",
     "output_type": "stream",
     "text": [
      "\n",
      ".190.00005\n"
     ]
    },
    {
     "name": "stderr",
     "output_type": "stream",
     "text": [
      "MovieWriter.grab_frame: Grabbing frame.\n"
     ]
    },
    {
     "name": "stdout",
     "output_type": "stream",
     "text": [
      ".190.00003\n"
     ]
    },
    {
     "name": "stderr",
     "output_type": "stream",
     "text": [
      "MovieWriter.grab_frame: Grabbing frame.\n"
     ]
    },
    {
     "name": "stdout",
     "output_type": "stream",
     "text": [
      ".190.00003\n"
     ]
    },
    {
     "name": "stderr",
     "output_type": "stream",
     "text": [
      "MovieWriter.grab_frame: Grabbing frame.\n",
      "MovieWriter -- Command stdout:\n",
      "b''\n",
      "MovieWriter -- Command stderr:\n",
      "b\"ffmpeg version N-76278-gd897d4c Copyright (c) 2000-2015 the FFmpeg developers\\r\\n  built with gcc 5.2.0 (GCC)\\r\\n  configuration: --enable-gpl --enable-version3 --disable-w32threads --enable-avisynth --enable-bzlib --enable-fontconfig --enable-frei0r --enable-gnutls --enable-iconv --enable-libass --enable-libbluray --enable-libbs2b --enable-libcaca --enable-libdcadec --enable-libfreetype --enable-libgme --enable-libgsm --enable-libilbc --enable-libmodplug --enable-libmp3lame --enable-libopencore-amrnb --enable-libopencore-amrwb --enable-libopenjpeg --enable-libopus --enable-librtmp --enable-libschroedinger --enable-libsoxr --enable-libspeex --enable-libtheora --enable-libtwolame --enable-libvidstab --enable-libvo-aacenc --enable-libvo-amrwbenc --enable-libvorbis --enable-libvpx --enable-libwavpack --enable-libwebp --enable-libx264 --enable-libx265 --enable-libxavs --enable-libxvid --enable-lzma --enable-decklink --enable-zlib\\r\\n  libavutil      55.  4.100 / 55.  4.100\\r\\n  libavcodec     57. 10.100 / 57. 10.100\\r\\n  libavformat    57. 11.100 / 57. 11.100\\r\\n  libavdevice    57.  0.100 / 57.  0.100\\r\\n  libavfilter     6. 14.100 /  6. 14.100\\r\\n  libswscale      4.  0.100 /  4.  0.100\\r\\n  libswresample   2.  0.100 /  2.  0.100\\r\\n  libpostproc    54.  0.100 / 54.  0.100\\r\\nInput #0, rawvideo, from 'pipe:':\\r\\n  Duration: N/A, start: 0.000000, bitrate: 159252 kb/s\\r\\n    Stream #0:0: Video: rawvideo (RGBA / 0x41424752), rgba, 864x576, 159252 kb/s, 10 tbr, 10 tbn, 10 tbc\\r\\n[libx264 @ 00000063e35e8de0] using cpu capabilities: MMX2 SSE2Fast SSSE3 SSE4.2 AVX FMA3 AVX2 LZCNT BMI2\\r\\n[libx264 @ 00000063e35e8de0] profile High, level 3.1\\r\\n[libx264 @ 00000063e35e8de0] 264 - core 148 r2638 7599210 - H.264/MPEG-4 AVC codec - Copyleft 2003-2015 - http://www.videolan.org/x264.html - options: cabac=1 ref=3 deblock=1:0:0 analyse=0x3:0x113 me=hex subme=7 psy=1 psy_rd=1.00:0.00 mixed_ref=1 me_range=16 chroma_me=1 trellis=1 8x8dct=1 cqm=0 deadzone=21,11 fast_pskip=1 chroma_qp_offset=-2 threads=6 lookahead_threads=1 sliced_threads=0 nr=0 decimate=1 interlaced=0 bluray_compat=0 constrained_intra=0 bframes=3 b_pyramid=2 b_adapt=1 b_bias=0 direct=1 weightb=1 open_gop=0 weightp=2 keyint=250 keyint_min=10 scenecut=40 intra_refresh=0 rc_lookahead=40 rc=crf mbtree=1 crf=23.0 qcomp=0.60 qpmin=0 qpmax=69 qpstep=4 ip_ratio=1.40 aq=1:1.00\\r\\nOutput #0, ipod, to 'C:\\\\Users\\\\anbro\\\\AppData\\\\Local\\\\Temp\\\\tmpkkbh8uyo.m4v':\\r\\n  Metadata:\\r\\n    encoder         : Lavf57.11.100\\r\\n    Stream #0:0: Video: h264 (libx264) (avc1 / 0x31637661), yuv420p, 864x576, q=-1--1, 10 fps, 10240 tbn, 10 tbc\\r\\n    Metadata:\\r\\n      encoder         : Lavc57.10.100 libx264\\r\\nStream mapping:\\r\\n  Stream #0:0 -> #0:0 (rawvideo (native) -> h264 (libx264))\\r\\nframe=   11 fps=0.0 q=0.0 size=       0kB time=00:00:00.00 bitrate=N/A    \\rframe=   21 fps= 20 q=0.0 size=       0kB time=00:00:00.00 bitrate=N/A    \\rframe=   31 fps= 20 q=0.0 size=       0kB time=00:00:00.00 bitrate=N/A    \\rframe=   41 fps= 19 q=0.0 size=       0kB time=00:00:00.00 bitrate=N/A    \\rframe=   50 fps= 19 q=0.0 size=       0kB time=00:00:00.00 bitrate=N/A    \\rframe=   50 fps= 18 q=-1.0 Lsize=      29kB time=00:00:04.80 bitrate=  49.1kbits/s    \\r\\nvideo:27kB audio:0kB subtitle:0kB other streams:0kB global headers:0kB muxing overhead: 5.205509%\\r\\n[libx264 @ 00000063e35e8de0] frame I:1     Avg QP: 7.73  size:  5168\\r\\n[libx264 @ 00000063e35e8de0] frame P:25    Avg QP:13.33  size:   721\\r\\n[libx264 @ 00000063e35e8de0] frame B:24    Avg QP:15.53  size:   173\\r\\n[libx264 @ 00000063e35e8de0] consecutive B-frames:  4.0% 96.0%  0.0%  0.0%\\r\\n[libx264 @ 00000063e35e8de0] mb I  I16..4: 85.1%  9.5%  5.3%\\r\\n[libx264 @ 00000063e35e8de0] mb P  I16..4:  0.3%  0.1%  0.0%  P16..4:  3.7%  1.4%  0.3%  0.0%  0.0%    skip:94.2%\\r\\n[libx264 @ 00000063e35e8de0] mb B  I16..4:  0.1%  0.1%  0.0%  B16..8:  2.7%  0.5%  0.0%  direct: 0.1%  skip:96.7%  L0:42.5% L1:34.0% BI:23.5%\\r\\n[libx264 @ 00000063e35e8de0] 8x8 transform intra:12.5% inter:6.2%\\r\\n[libx264 @ 00000063e35e8de0] coded y,uvDC,uvAC intra: 2.5% 5.7% 4.8% inter: 0.4% 0.6% 0.5%\\r\\n[libx264 @ 00000063e35e8de0] i16 v,h,dc,p: 87%  9%  4%  0%\\r\\n[libx264 @ 00000063e35e8de0] i8 v,h,dc,ddl,ddr,vr,hd,vl,hu: 43% 16% 40%  0%  0%  0%  0%  0%  0%\\r\\n[libx264 @ 00000063e35e8de0] i4 v,h,dc,ddl,ddr,vr,hd,vl,hu: 16% 25% 41%  5%  5%  1%  3%  1%  2%\\r\\n[libx264 @ 00000063e35e8de0] i8c dc,h,v,p: 93%  4%  3%  0%\\r\\n[libx264 @ 00000063e35e8de0] Weighted P-Frames: Y:0.0% UV:0.0%\\r\\n[libx264 @ 00000063e35e8de0] ref P L0: 78.6%  0.4% 15.4%  5.7%\\r\\n[libx264 @ 00000063e35e8de0] ref B L0: 81.2% 18.8%\\r\\n[libx264 @ 00000063e35e8de0] kb/s:43.74\\r\\n\"\n"
     ]
    },
    {
     "data": {
      "text/html": [
       "<video width=\"864\" height=\"576\" controls autoplay loop>\n",
       "  <source type=\"video/mp4\" src=\"data:video/mp4;base64,AAAAHGZ0eXBNNFYgAAACAGlzb21pc28yYXZjMQAAAAhmcmVlAABthW1kYXQAAAKuBgX//6rcRem9\n",
       "5tlIt5Ys2CDZI+7veDI2NCAtIGNvcmUgMTQ4IHIyNjM4IDc1OTkyMTAgLSBILjI2NC9NUEVHLTQg\n",
       "QVZDIGNvZGVjIC0gQ29weWxlZnQgMjAwMy0yMDE1IC0gaHR0cDovL3d3dy52aWRlb2xhbi5vcmcv\n",
       "eDI2NC5odG1sIC0gb3B0aW9uczogY2FiYWM9MSByZWY9MyBkZWJsb2NrPTE6MDowIGFuYWx5c2U9\n",
       "MHgzOjB4MTEzIG1lPWhleCBzdWJtZT03IHBzeT0xIHBzeV9yZD0xLjAwOjAuMDAgbWl4ZWRfcmVm\n",
       "PTEgbWVfcmFuZ2U9MTYgY2hyb21hX21lPTEgdHJlbGxpcz0xIDh4OGRjdD0xIGNxbT0wIGRlYWR6\n",
       "b25lPTIxLDExIGZhc3RfcHNraXA9MSBjaHJvbWFfcXBfb2Zmc2V0PS0yIHRocmVhZHM9NiBsb29r\n",
       "YWhlYWRfdGhyZWFkcz0xIHNsaWNlZF90aHJlYWRzPTAgbnI9MCBkZWNpbWF0ZT0xIGludGVybGFj\n",
       "ZWQ9MCBibHVyYXlfY29tcGF0PTAgY29uc3RyYWluZWRfaW50cmE9MCBiZnJhbWVzPTMgYl9weXJh\n",
       "bWlkPTIgYl9hZGFwdD0xIGJfYmlhcz0wIGRpcmVjdD0xIHdlaWdodGI9MSBvcGVuX2dvcD0wIHdl\n",
       "aWdodHA9MiBrZXlpbnQ9MjUwIGtleWludF9taW49MTAgc2NlbmVjdXQ9NDAgaW50cmFfcmVmcmVz\n",
       "aD0wIHJjX2xvb2thaGVhZD00MCByYz1jcmYgbWJ0cmVlPTEgY3JmPTIzLjAgcWNvbXA9MC42MCBx\n",
       "cG1pbj0wIHFwbWF4PTY5IHFwc3RlcD00IGlwX3JhdGlvPTEuNDAgYXE9MToxLjAwAIAAABQsZYiE\n",
       "ABD//veBvzLLXyK6yXH5530srM885DxyXYmuuNAAAAMAAAMAAAMABiMSN/6H8XjN/AAAAwAAtwAY\n",
       "UA0Gf/iJ4jMBRdGRMIgRQVcECMmAm+90yhnopj1of4pqLAAEfk02tDqSPs1xNCrq2xiGRRXXBtxZ\n",
       "0vsxjFLCJqpjMlZEt6VJuW3lYwQ6yBP9CUn5n/NqcC556v40OBtT6QBi5VeXzg2astuOIlSc+Z2O\n",
       "GpAqTgmktY3CGF8pzfxwFA7ny9W1Z/kXPa5Ngk5BXMpwbEED0L872mGUcp0ssilSSxe2KCTQhFx3\n",
       "2d/Xy7pxgc40fNWAAAAxqAEAAaADxAmYUFdq7AcPzHrNTfbLuo3ovOEz34bEH3UV0wSjGZ8MmJ8l\n",
       "ceslz94oAc4fdTAu0AFO+SMhzOo+kNM2vXVInVNByqk+bUIT1J5jNXlGdOKHOIOYLT+7cW0AAjoF\n",
       "SAvAAAAw8B6b/mIcRLg0jAt2jpo7Lm2N+FYbag3aLlRu3DDhqrjkuZXlW8dojdO/hBnsZjc8oDlk\n",
       "5u4C8PHhmHnlvAllci8UdlDyO54WGCRVkdpf8uLDP2Od6QShA7upoohYK3m/iGTSrAAAAwACBdIA\n",
       "lqDItbVJ/KqAKtLIwqZjDsiOW+366oJv3ZJSFLWEbzEi4jEhJdoHrzUzsa7gmopNeBTr5yZ0FtVu\n",
       "Xx1jafNfHTelzDb6f/48QHdKqRHYv2qDFvQWNz9/xpGKrj9yEh/jxOrACYTHxrKBMvIfOFYIXknz\n",
       "DqjqzC9q1pFap1R3F8ccSzcwPMOvRSlyA5P5NWgIkdCkCqFgsZCiltJUcp1AQ/vdAPvR3Q1wdh68\n",
       "6mdqHvxWoEoIExfnYSFxfflA+fdLxBlPMU2msZ6UtnuMmbtIgGuVMD6kfHmJ6BbK53HyK+cmrmM6\n",
       "XIvwU7+wxy+cLBxOJh7zNbXn30b0oqL284N19JrFEMyVggjtqt/Q++bO1nBzFFMPxKEeuvGtUe8c\n",
       "zGEXFcCf0JqlEWeSxIHo9IpfUdzNOrQ+mtw46johqlCQ+ewmJY3L0WCYOnHqlNf0vRav4Jj3/yVd\n",
       "8TOpJOakKV8u6mQgRVGJZXETVX02BcgjRAnlzfVtn3/LVPwgtoD/T+iUrbONPZKjFLrCMgZs2AAx\n",
       "Hnmy6tAslpDIv+8mxMVHL4EGGgB7VEeNyQBltSxAnPISnSzD1OBnaHwD+aLAaaS6td9UTNmDWpPc\n",
       "+Qs9J0DeebOBa5rVtFEdF9B/OFYt9CNRGKSpHnrFtitILbbBw5WE0NihWziEPoatsfgV6xQGPbOY\n",
       "C7idQzOrqg/jECei7lGqwb7FxuQ73SIUNXuNd7exCPZo/WErssKH7Zc6DxZpygmFK13LGkc82JLY\n",
       "pw5v3Vp+a9dtJ0xGuSD6YZLiN+EU43AuLTlZfGyLUTJdqkr/U5YD07mU/1aDJBAr4h5fRXChhuNx\n",
       "f034KA2r3Q/j7H5lPAgTKtvA/+252CAgvifuoW5qyiYYnspN05Dljqq5EtLHWLdRuiP9xkNRMgqG\n",
       "mCOMmrRQD25atUH1/8D4O8lX1KEue8EtfjPZS4fPjiUC2AAZivoJ06yWx6ZE/Xwrlp3Rcmp75gmc\n",
       "3qxlBxfDLfo7vTbm/tPyCSyT5FIBAuHBZinEIxoW/ZTveYOg0r6wk+FkdmV18bo2pgt1/kdc3wbX\n",
       "Z3DSFWC+d0da8irII+qqLK+Rz02goh7hVDRkFTygowAzCVcrL+9E4bag7jYnngJZ+QZbDyrzBRkj\n",
       "iFDyCdmJjcFHi+/YAAW02ovET3yMcMNTHb3/g3v8klCDldwFz2KMGPJrSt/3v1Jfa9a84TaTIb2e\n",
       "e5X7kK899UCeAAKlGfDGkNevycVTH2tVbOeHMpmd7rMTg0v97uTIlLsZf8cpPp3nJfFzLYVTQWc7\n",
       "hZ3wicz5797yqcrTuvsZiNGg4DamHeRIS5liKgVgI/Jvfng9Lpw8s6ls+K1H24s9lfZVPgvm8xmp\n",
       "oxC/EB+ARd2Jz3L8VnoBnarCcDiH6H1TTIVBR93i7HbqPxewVK7OnpNfdWjXwnr1030SsUs9voTj\n",
       "+/vL4eLLc7CUe0Q7JNhQeqCBiRKrEZqqTIAqxdkHG+MnRslTABYXAmzJRCPYntXh9Aj/QewV2p1a\n",
       "Cbo+TAIpdX+ZK5YAL/h5llBb257+ySYld9A3Nh4QVgFJXggjQBs9dSvJkl11l4cQJs+ctHZyxzT+\n",
       "oWFSxQfCwlYUkSplUnr8V7lKiH8tnsVy7cCO/mfLAfzROs+ozUx42iQYnizWjV2PLiCPmWn9nan2\n",
       "W1mWdkyUG5EuGFRynPko+O5b70kFbn2qGpfuTjNT4JUm36MMdiekiadv9KByoevzxOckOcVN6nty\n",
       "JV4AFRtx6/ty5iaw1hufTK8FBNxAxDYGLE/myq3fyNLZqkywoNUxwSvWvRSHo4OETCV7auhsi5Du\n",
       "iK+4pbuXNrNpiAND/24kUWmUoLoKSGLxy5UsLDHPn/47he2wU8fFaO1KUo9lOh9J/hA+OH5ZP7o5\n",
       "pj+/c3sVDqUHSb+PS17s3C99js4g+i3JgqoxS3v85bWt+HB5yCy7QbsnbUKdpdKU7KBv2YwRoakA\n",
       "26VPzPlmoTvB+wO72Q+KZ50u4Hzx795elawQD7T8SAh6kVPZbJ32xNgaadbGbUFVQln0yazxb+l7\n",
       "NQ+Fw2saqzxGhMqPHTHem3WtBpn9pKfraOG6Z0mpizGrjHFiIdqp8w5QzspxuZRgsqD92luY7Q7p\n",
       "QS5K5fsYyRiJPHzlF0SnP2/sZtYxzQX657ED54kp9dSfd8RdCqyZSBchT8OwIdo2GER0vKIk/8sL\n",
       "wpIrD4tGYQQZNTiefb2aq0LZvgsaHrLmzm9XxwS3K43FP+iBkGYHBhiztcVSpf9vhN/pPe+K4W7O\n",
       "JKnbxLyiD6bQAGaCJI87ObhvXGHXGHhMXyRjaMI4IrssuxdpYE1NRaCKxZmM4NI0I69WJS8HKu9S\n",
       "PbT4gwTHUv5LfbnJ3lUG+5/5pIuPH1kb/Sh0S7z6/muVT8pg6uDO8joWEeRxh91g/D05cVyenrqL\n",
       "+/6CCJw17KLlqJzA+gz5UcuTeX30uCQIaMRJn3NsOsz7Fg/jn1gtV36te/lpWYIeNTk88J67YsA1\n",
       "DQYe3VdMy5131eAcaSyYX+IxKkk/nNWMCa+pZIfhmKMIv3ZhZ2gWXjSs7knxrOKOW8Pp4b5KAHIE\n",
       "bkGBw+WxZUfZkQeM+hEOCeTrNopMzuJzyAUaY2tPal03D4a/UKY76g5W7ZDb9/5ZoCcP3QMbX/mz\n",
       "y4Spx3/3+LTtNMwYB6cQD68rLP4q0ygBRH0i6lxQpuYi+Q642PNKyLolM7aE8EvHC3SHBVmmv/eD\n",
       "b8rLF7w6t5yrh+f6We9Aj1SONGSPZJ3aoTNWmG672M83N3oVg2jbNKiH/mjBvJbKG0tG4veK76by\n",
       "0akVkMXjqVONf+QoDxp4T0sHuwW0tJd5LUrphPBkDXcGzlBVoseSWen0DB3pj04Xo70LLOmj83oT\n",
       "oeBUF+twFtmnm4zAWVqqbmMJnrAPZuN84rAP4axmgwUY3WD9WlHUiqYFc1+SfBeT6BUKDsvg69so\n",
       "ieT5tOK2uuDrMNZL1em+bDve24Km+uHSsGJdv5IWkjx111xJjvEl5u8CFqGxYK+TM6ihsPeHHpoZ\n",
       "clLhBR6nTeQifzqvvQgsGm6FN9VeNl4Dl7M0CyJkggGke0emuq1gCOlvBhLEmiTcLDspAnPStEHn\n",
       "cgQ/wugD5Q9TNiEkq3LXhbmslcuDrYik4Z8EDerQ9ztY+8eDL+gcYm/pPovh1CPJvJSz/0wtUTLk\n",
       "Wj/dz3XgSREDSR+ZZ0F92SjWctlurAjXl/TeZLx1T1a1cScFYDBAD0CbO3joAvIjMdnH2S4be6gz\n",
       "zjTYJcB9j0zXGwmWsV8iA4hjALJphCUyNitfPz3hKvcey+Ij0WvAe6aCF7xVdOlPjhkEzdsB0e6V\n",
       "p7HU6/Uo/m9WgU+nRhE6Ig49coYLAqemqxGHQoBeetbd3A7/+uZO6oU6N/gpcEAa2m08OWtV12cN\n",
       "GL9fYNdIpzdEkNooqMnIEyGDkcRGm3cijmIVfIJFmtMwD20kTSaJYfjunETHlw9opgSLrzkoLcrS\n",
       "7c1GuKgkdVOqs8T+PBixHyl7nwIu10FuAfo2RK589QsVQci/eQ/sWTGr6w04vdrDHsumTqfJxVjJ\n",
       "lSgQH4nkiQPv1/LksJa98c3/Ps2DDjPI6o5wsNOjmrPfVC7FVNFpBdVHvCLfOO+Ll+hmqZZW3TG/\n",
       "Z7IfkCAn9DEMGh0bt7kuk9t1zOgNnxCK4/2Sf9/l65oQTxOp6xW2DeMGxqp7GXyoPtyVIl0gl+AO\n",
       "wTbM/5UJvbVuy7yUflak1LW30jCZ+5owDz94K4ZaHIThpIAYm3Ul5HRpQBiyHK14GE+n4yveIW3h\n",
       "tb25Usdby1gvGczVjxpnHF6ZWJXfQwpPR8jDwuMsSyVsZPsjPtTli6DD55nezNxharNOWRDeR3Qr\n",
       "Yj6fZSUc93x8t9uhEj5xbu9yh4XXHuttoG1SjiDoZ+gn7JQqjtFMD0qwEaiznVz/jFOMF9Snp1UW\n",
       "qLh3XWzVh9q4xBteT97lPvEE7W4nSpIBlSgWAHLtPc+2+c7+UDgyyzZYjyX8dwPtXHUAdr1Hy+Vc\n",
       "P/PjjmHlzYadHAzaHgn2pvaNPWgfjgihN4JvKhi66ObWqLtUIN1k2XZsxXONiaTdIuQhG/UDgElN\n",
       "MLybf+GhdHsZu6GaqmkGHJPK3oh9iJVqILuRegs2VchEfL7vXK8I+MRiQZeUBPPGmxG1dZsFVmlo\n",
       "8SAS+IMVU5DeAU8pLrfK+x00lZVuGqfrcnskQ35kiPSuymHib40rLrgaFHmECllbXKCttkF6cGJi\n",
       "aCV6WysriQUiXof3UMTphauGHu5p4vR67Iy+adDoOEoA7yMioSdXI3+aQCHbdq0Bj982apI6P2pa\n",
       "rRNLI9H4MFTDYwX/rc4KYa6zYkTjvV/3AP+RnGFQTkkpz5CKjIfqumN2SE21Jqsa4Cai6L4tCUWP\n",
       "1Fi+Y4L/hKWwiapOv5OoQAWk+3EYpHvv4U7P5S/o+2Ip4rhoin+A3TnUp4hC96O4IZZjv3nzCh4n\n",
       "yLiNUApDsSU6meB4L6q7Qbf9sL7nf2Zqrq+9lXwOwO1rpgQ77ZFBpDn3sYxf68AQAT3mKg86vKCa\n",
       "shqQS5xgORCsR9XJ/USar6I6Q2VV6kjN5T7PolrGd7OQWz0TikLV08tUOPgFRMqWcGKhuR96TtYD\n",
       "Wsa2xSB8fM2f08ByEmW1MnU9Ru8gEqVffXAGYXRsBWGi6PdDV1Na0rXQgw2h5K5gTk3mUEDIJ3pT\n",
       "3R3VLh+sgHvABuHbnEHKLWSZDobAr2X0KthBkUJH/2uIomODJVqzA99OertFuQMInPlPTRthUm4I\n",
       "IYgwB6BOkuuvY+iFF7vF67Te0cvWuuqciL9u9Jjtc4NUVyeMgAXzgAVzWDKchp7X6iUCtNk37S5a\n",
       "+3/gz4ATycyKsUondg0Cs5HSgkP1AkJGykP4snaI7LA4O/XkYy1+pF1bREMYh8BR8pmKPrxrnj7Y\n",
       "NyDi3tN2JLZtB8Cu6YrAUz/+WCOcdtO6No/r3HfrqM8HP2FXi9VY1/7EtFUZJZRxBb5Eg6W5cEZm\n",
       "bQ497EqlBXpmHkeVQo0Be+K6xcF+YO1nc2WXHWwwRWG5RsPlkf3Slug7l6wNcDRg4K1RIgN1ENYJ\n",
       "A2XI3CMqdLm+JAquWifEMZNsGx4aDnLV9StagXiaDY39R6VFcgZXW+8HmX3tDtTuJWXfZejTJfdt\n",
       "eobPIe/uz5SIk+iA5JF8HKvNZz7eh8hhOXWO+JtB4NAnldhgl/LSekRl23egFCc2zL8Lkv3yj5VF\n",
       "h5RIhLjPsz/mEhtk0Vo5T/j6HuvrXFJjGK2kCuqTGHmH602m5KQ8gZo8unclFZz6eS/RNkL/PDqU\n",
       "m8UGmL72pFq8o3J0ucsyhL/fcRnPaBlGj9rNvZI37TDjy6rx2UQUKy6dKcziUg3j3HiiAtPUebsC\n",
       "B41Rtqj2KvXohHDWhzad0NllCZiq3t7yd356xjCy/ERBnOOZGO5zr+QHiOq1B1G9urTHli5NIKmX\n",
       "2U64J2gwB/4JROH72OPAonUdq176bgPEEEEHn8ch6TBekPpzKm4JeV804uL6IsBodRGN0jaTAulF\n",
       "09/0a1Ffv2EREy8C5asbAIuC6H7tjTVcCIChnLNvze0ezGmAqsLGGuh+0QqUoEdRpEzmVlbtVlSH\n",
       "9pIKXgtbyNSNjEJQiUzBih92louUzHFRpicpevFnWfHxy5ZGK2eXKT4XX8Hp8L3pjWfvZuwpmSQT\n",
       "uicZ7oRt5X8oXRshsa3vAbbrXLPVASradTFka7NcrlgxFxyP1ZZxHg/Ns2kT/ajJs0BFyHI566xT\n",
       "CJc/e16EkvHRMBqwe0O94upNI9DyUIyhTX4KTq/u5qTUp+RwqGDKSqSob4Zei4e/V9WubSGxXYcK\n",
       "7m3YUsGpDLk+G8OpRXW47Sa0vPur10RGR4HexoRQVdR3jIsPSDTQnqMPeu2JuTPHZRDQZkidJfyt\n",
       "gQJG+Gbra4uZqZebSotYxi+bQmwBMCzaEJpMHZAyJWbH/Fv3ZT/+NQ7mM14DSjscvytDXHt82SA7\n",
       "pRqfCp+1fWIsSz3xjoRFsvYaK6DImGc+UgN5jg0PnG4/PG39RR8NeuWDbwbiWOUI1K196vfiDjTW\n",
       "LtKBy5abqoYxOU4Hhyfy17yeEppX24PHJPplDc03HF5iu4sjCWy4XyXc6K/bsXOaludMNeVDtY3V\n",
       "4JK7Wex5kC35UlCZ+j7WTCn3mkULs/FdmFNoxoM7sE+LaadTBVxDEieZjj9uMYxRddccQ/uN75BS\n",
       "/aJSp4y6a1ZKw4sAAQnpy3gGlIKAAAADAAADAACKgQAAA5hBmiJsQQ/+qlUAANRlmYBSbhK//8u7\n",
       "/v5yxL/zfsPl4wOxGmcgpcAAA6PvTexLBih01ngMhuGYmcO9DjzJ/8ABiWhrL3isWjQt/v5gBdm8\n",
       "YhTgppyPZ/80zLFm7i59r8wk9OVcf2pz3KM1VpHlV0nE+eeLmtzqpQgWA+Bz8ipiBWyFy05Gp5OD\n",
       "/QpuBgCB9PDGhiHE6JaK6q15a47Lmn7V2PO4Kmxb3UJLIkB45QKI7YYeaVfF6r7Tm3ZJNP3bu42R\n",
       "y98zAgRk4WVfNw66CdjltRFHbp6FOoNC9jrabYaN/RhPR8XS1nCiffAF9mwr688dZBGuF4c6yWYd\n",
       "mzWcrI26/OCRwKojUM1QKfQkHOE9hS6r+Ua0h/36Gxb2p+O9wLvtLeePkgOl/QdtBtOzyjKhdmsG\n",
       "FwFHkZD+FKGa5apTlj7bGHTBWNdf4qkbly5t1ZqrYiapqqD9KYrHmJLut/4LD6/Ieki5d4CFF0m+\n",
       "kuUqP/GphaTWaXQ6KeKlzEh7QxK+7HFpZ+5w12+wR8+i+K6stlQP+b4h/6WKH4NYax68jGAOobDV\n",
       "PuynZM+LDQA78/yz0+rU8IVYxcdKUrIdokYHc72kDE/uOctqRPB6dY9OUmMgq6oJA/EnM5M/0l2v\n",
       "lXMMREukT65+tKzQxCr+BADoRU0fwZ0nKYqp2ZOwj3sZm5K+5D/d6PY8ksHP7gJq9Pw/oYhmgh6Z\n",
       "+vT51Bdmcis3SqjMy++wSi/988Ny1E8LvP5lA/MeXVXOJ0WRw4+gVveIVaMzGvXH3mpRDorLG9Vj\n",
       "azPgzS2TX16gsnnHiHtaYzIIjqFbSVoHOvT+m11Od5bBoQFJBIUu5e/phnr5J6zItmE/4xnIpxxu\n",
       "abNl0u6cg8JgOLoMOfsyTZ4p4S0P0Q76ZEEbvlrAnkgzYRmy6t0tbSsYPmsnyXuywOQ2Valy/brf\n",
       "GD0VwrAgiXo1WTD0cza4Na/p7xyos+CIQZf2mED/jZTL9T/d6L/qkCTcp36S8tc8Z+E/tiaBwd60\n",
       "/Yey9pZDFRNldgVt6MwOH+3dYs7qfZLbNX1gLayhaAt0FBenE++1Xr5EJs0eQv2GtxPWX03TYEMa\n",
       "S8kRICvTAVlawgwTj49bEOcv1cIfvKIHHAqiV91wwTIRsZnyX3q4c4U/ac///agdgw0fqEJxZiFX\n",
       "W01dh6WrDNbQmPyNaV13PdGDIPPgMCvhZCCTuva1bzy5UPhew4nt9/dN4AAAAKsBnkF5Df8AAksZ\n",
       "sUAABdzmDCNAqoLd9QzCGqU/a14Sr+9ulLhl4T5HRwj043B64Q7JJiuFY6nrK3LE7stGe9dRX4FC\n",
       "4H5Lx6DKdVR19n/S0RbwC7elmKjQr88q1vqi5sc2oS7OSOEnTnU+R3WQHZ0mofD5LxMm+6EKp7JY\n",
       "GHKLmRbkOsIQZey38LgKye1IIa2JeLRtJIYfuMsBsjhtxwEEOQ67jcwMCVKgEXEAAAMSQZpEPCGT\n",
       "KYQQ//6qVQAAAwAAAwAer3tNCKNrXevOme+A8U1/GvtdXyJDfnEHuYM8xodl8zUmH33TtauMmYgj\n",
       "2+t3vMYP7LYAiG26dVyv3Ha2oeN9TDdVHRcuwCTgiPyFf0bOAn3vL7+6I4tsvOq01rsAwY79lZ1X\n",
       "U4XIjlJYpTaSEkFR/8d88pWJiBax3DOtwQQ//snzDNPGDfyLvnfGOUSEYi5wjF3NwDVEH/gDylu9\n",
       "JoPFybRiI9gZMwZhdyZNKweGUr6V6wsuUgsNdFGjn5CgCU5S4X0WKEijNtFnMo2Y/Uwdjek4Q8sv\n",
       "aFZIScgHmGuAZ3Stcvv56BLr2FKmODtfpRiKHiDHalexgXxXy8ac3echjROsVKyey1aXAeJR7ww5\n",
       "V8cy6z0svd6DvvuLdrF8/rc0p5l9KeI9XWouaRBl3GsnxTzPOUpjislr5Rquab3NNmfRvwsNIonw\n",
       "IEBWjQnjcI9zIKtArJyHiKJGm9vibtQTjyrQFk4aK/tVhdMIWMuuzV2n56wjo9P4sI6eUzIWwV/J\n",
       "cd/LRTTHs60khp0pVCaTaB8Es436l9iMJpgul14rT2oTsxtFBWlwk8SbtJ9OAFkuIdZcUIVpHpvB\n",
       "8gcjxP4ybNlv37tR786eCCZfa5xdepVYtqOgH7RsTlUlPHyw9WHEZnAgvyElmIR+Az5ScOaAj+36\n",
       "A2QLrzrlYNkV4Mhs/CLaAErRAYr8BClTmp//Cr/I6m5YWN9A2Ym4V9fuNSD30lLeONWPY4U6noBd\n",
       "OwxYm0e4pawNfNPnAhAc+b20obSBvc2KIsJf2vX9lR2vuZ2eF5TVaqNJoDJt6HEpTrv2CeoiwjZb\n",
       "wcIzfSTLVwIK9yBVzH+mm3keUBmrigkTdF9H/S6N6PTlB3sZ5Wuv1Dc2gsGe++RZzowjuxgvQoty\n",
       "n/+XZVlElEIyvltOM7qHSmLbmjHfBUSO7YiSCIImSa8RC6javEBXxeiJuj3/k0vbCDYw5/qtS36m\n",
       "N4YTFBDCw1T2pFUGQG29mxiMIQnJvuNWGN46neCpi3YxDDDQSDhSAAAArgGeY2pDfwAAAwAAAwBU\n",
       "E7++CzMt4EZCiPg1I64shlQ2qWNajXX294wt+O6e7crha4H0kcMU9jPohWEIDuGressQbA8wepLV\n",
       "pmebvDvLq/AvcN96Rn4/PKO8a8/8gatnpgy/2j1/WHyY//7kjjkf9QP+mxo4yETRF7PoPEzTvv84\n",
       "enPiYN8dolEQtwxi9aScYJlWMo/JqLCu1Ynv9cLgKPEEtKeCLy4M4lmQDtwScQAAA4hBmmZJ4Q8m\n",
       "UwU8EP/+qlUAAAMAAAMACAGrbJcRO9GBvgBunCH7zPEx30wZ61hneXm5D4WcRAMqN4xg2gfWPy2H\n",
       "7yW7s++UbiGuntxaOkgiRws26srLNelUtc1nBJbgd01shbLu0lYHCAUeZ3id0PdpWn+AkoF/7umd\n",
       "3DvxVDB+GJ3/0jfySVs0OGb6sZeEaaTt5YTX3HyPDq9+OSIGfvls6PzGgOE3Yfc8i3EvtJJf0njT\n",
       "SXObwbbmFBwD82tYbCmNuxYLELOanRZukzTobC+/j5CwfG8k+oPOL5vtdl23h91pr8Q4VPlsZnkT\n",
       "J0NIc8atrjRHc6vu5bXT5IpPJJ5LcCvDuoXIBdYpmECov8PWeCVW+bwKDtg3N5JIESYBKM1eIVG1\n",
       "5ehnVnvqwXOtyxOB19H3dFkzXNBf7AsCaIX0V1CSGsQcTBk8aPL6ObbRJLnEz7rMzW05s8eUhBPi\n",
       "EME+9dXNS0jj9wzSdksWLqk2EIc7tjSin5/yy+Cvx/PXGKo9RWH/T6mKgdwWRoyBmkD5TlV+br2g\n",
       "E7ohkW5L9Lxykccmdojzu1wfb9iro9i2Op+s/U7IdKqVSYbQe68pMFNW/scJ3MRXjAr+DD4yfdC5\n",
       "3ayy9o+srAKVqgip6oKOxXL+abu7kRTNUSMr1q0WrE0Tzu6AH6oA8ll/aBKxGtvXWa9IP6OxJPFv\n",
       "7NhLFZ3g4s2KJrxmGc+fc41OqsMvzIdxUIM8SzO0pAX8m5JmA8so8rT/kWuKUs2+ufsz6Pqeh1cU\n",
       "FoFp9Lh/qD4WsLPmcSe0Qd36o9tLtpGu2zJV/3CqhBbRZVSHPNqicyJBp9D7gPH6U7FpZg+THJeN\n",
       "+D+iqNDvGZzd2QKwk5mExIeIiB2S4ZdmoYvcyNT1QolWR4D1/O0Ba/ORhk0o+pAmrNoYxsLF6za3\n",
       "/bVCeMhL3PnhbgGu0djmwMNCjvX4f3gsSGgN3s4LUgO7v1DNRJrO8sioa1eKOg0POtgAJfqemFH4\n",
       "uUpLqnOwJ1msBY24XVtwCu7WseBUPgt/zpzNjJlOJ2uX7yIN+zrJ863PsEMKG/uoj+DOGAHedXXk\n",
       "alUbupSaCr9RKufTYnnPwcUlGr9Uw3deTnNueBI65O+xE5UbvvaNe3/TrW60ChdJtBvhjPgQoKeR\n",
       "aAzZFQxf//yNbO48gMF7vRqISkX2a7Tvdw8M496t4u+75lQrd1IBn9qBAAAAtwGehWpDfwAAAwAA\n",
       "AwAWt0MwE50HKxUI4EuvxiMLgBbUzOt95oxq+c/ULI4Ar3MfwQUXJJaNOONNARoN39H6n9LYFQfM\n",
       "w0j6//OiyYn/GAekBcDsBip6qT+3lcAYU1TnG3h4I2OsW8AAO9AIlFMsH2sUR81P3yU9NLhUUYod\n",
       "jhMrpJAAf6s3LZ6qkUoxQy/XcVhv5GlZavECcCDYG3tMHK9MNYrc3mtrQygxGvopomBovz0bYXC7\n",
       "gQAAA15BmohJ4Q8mUwU8EP/+qlUAAAMAAAMACA/NSjLJZ1f9v972Ls09jic7PmNw7DVSGhABXGMF\n",
       "9vqGyh1I2KNVdLULf2MZXCzftNrTwnzCN5zAERq0NR1sxtZ9zq5fEU7TkOB1zUykWF4daTOUydR7\n",
       "wNbtbYoc/chz6brSJlbcWX8V6jBeasCJuDVGuUyo13hYpkAMqOYG2XJBOMkJgkoRXSF5fNpR78xq\n",
       "HSldLsZcNqgA8zI9nBX7VVVRd/7pt+fiAHNkRsTttMNu7RWgVGOCjVJ9uR8lE9jBYCneEpDvnuyx\n",
       "wV59VGBUWMQpnVy/v2vEPuzAuKz7rpTvzQBOimDYgiTyLQkactiq5Ze27F6YyB4w8L2xh1gJqD+2\n",
       "0PtKrV/8dT0P+b+fCov+wjFIRcXEgCxmdA/vq9pFR8HOr3OF9WpaEeYlgQezP/ecjirvBnwdwCzz\n",
       "q+bS0clhYE1/AfEd5Uk/4YRG1mos11EJZGEhQK+U0yqXcYgTM3kXsIwcSiWbY/Gsqy01Bz1PHGUO\n",
       "3+lITUPFHszP1//4pGDVvvpl7kShP1VQp3SWQMuntQBqze5DNo8CCDH0dCb08l9gfx4rHrz62Dhz\n",
       "M7Ua7M+mNQLikLFtIcOXgzGd1VjtNCN5QodVTwv7XztyqUatgGEajHKQQ5MGwEnpXN9cXpT5DY1I\n",
       "Mfi17wWpDTRPRQmRDRrHFCvcn4HRTEDBjY+q7ui59XDixupRprOKGGP7zJrtngyolN1/H6eaK5TN\n",
       "U1uMKULSG8DHVIYIaVNaHzztrIt1JAevKZWjkCpNtmls6/3mauvxVWkSiTHj80jO9UKyzZ2EQonr\n",
       "x9Vtybibg7UH7VBciymMb7qnH8gq95td6w1d1/GodEFXD2ZNEL0RMHqdGbvLOgiWvxwjkLcO0hSh\n",
       "o726zOPW4nqSMsfMuWETrDujLOB9U1NdzZhl7MTwsNKlLFYOdkQWZfE5V2AmC/HrR9LIEDnDU4Zw\n",
       "xXUdkSekRx5WwRt84yjOv/CPrRWg+LrwyMlxU12wg58UmhK14Du5kPFZbPA7Y6KnOTOFRbxxnGoD\n",
       "zYgpEUZF+m074jB4STOsW0kpKPOV+QOYd7AypAAD5nP2JDokaSnqnMKMLvsHa8nbGKNycUywKPuv\n",
       "OZgJKkeDZnrSlRfZAAAAxQGep2pDfwAAAwAAAwAWtOCfCQVqSWFnm30t4ARfd6+rPQdVv96UpAFG\n",
       "3xIEj3S4dyFJSH5ks1xtDLPAtXa7+MUQRM35eU/+OHD174dkx1tAwp34zU2+jk+lqLkC0u+6z/LA\n",
       "2y/Uw01JCgqIjLNCjQRXRHjXO7kiFa6UXFEaxz3fdBw9R/C+vxyzUvx3xSRth+HPxn8cDzW8SWvY\n",
       "LCfU5qXJHjlEeMfyFUz6Pnp4vFwAAgEnw7G6hiH+pmnieSPCul3T84TcAAADh0GaqknhDyZTBTwQ\n",
       "//6qVQAAAwAAAwAH0948J2IAZ0HFqWZYED5imCHNcGUZw7TNmPrzwF90Gx+zeB1KAPxUf7B5lytL\n",
       "yGm34u7jrwONmwYFqBodszU4JcAtKKNNye7cZzBBpzw9mPoO7q5fPibALd0zw/KWz74Rbm1XYWlW\n",
       "5hB5dMgD8az97yeOMMzz8PYyrEODmhUFO5mn5bGvOIiHFw0iawGhgIuh4l3ue2ipdCErezP0hsJ0\n",
       "vgQzfviec6DCDrLtFryLrbu4nuwJ7elTRmxS3zO5doBt7hSeLQOxyLpuvj/NHNP4sm7YCLN4GRg2\n",
       "ZRzoaCfXVfR5b6matSIvmf9SlcWALa6o5PDNm1E9awWmRfOCAJsQQYFsHor8ocxYFd/dkIlEASDv\n",
       "PU9jor9/o33byzYlaOMNwm0DlLItxkEeSoZ4HE38g1QBd/6/of0it2nvzmBWX2TT9NyciXo3cx6t\n",
       "EYSsB3DJOlMjV59xI8ewzJ59tZXitI0DQNAYTW7z7xGkudZn5CngqoN6hPaUlw1Ch6HcgWi5cJUT\n",
       "ewoHfwkkOf60W31TMBkId7rYLH7h7ovs37KTDH5XADsvbSROqvHtC4Bl0Y/bQAppTdmtwnrRQo5E\n",
       "f49GtF47CwYLSr0JiRSQ5DPHRsbcmOkV+1v6tDp5IhSnrBUOuWMJQSRjyhMKxfIHxHhx2QuxObfO\n",
       "TQwQmvBuj8xFVE1vQB4ZZrZjyFjZNbY7IoJXxqEHqFMUwfH9A6O941gLEvdX0HPMmhOtuXDi6GYU\n",
       "Ks/21BAZE2a8q0gwGYZBP4RTc3VDpF1myGpAlrmJ2YnugxUR/fT9hzQk9jWIi1fyaL3xEPlToCH/\n",
       "5ccisUn45wjoZ/vztFTN+t+QLgU1gJiQCM0/fsL8P5asiQwxfCayPQ8z1g/SmtvSWOF5SogInlS6\n",
       "EmmcqES78WQ0MfdfuvUC9z1LfwL/HVKyA8rFwEk+0z0T1HUzRsPkJRbI3oyXl8FURAl5xrmggA5y\n",
       "oTL4dM/QS3avQMOgkm4ljeL+pZr5F4iU+LdADfIXWc3NNVmh2IylIfOphlX7WbrYTLdQawQPvhWg\n",
       "eP4oZeeCrLSxli0jRy3Dnxi9nLglHJkcmQ/u4inaSs7yM713aNSnY9dIv9qBIjeHRjfEZFcX2n2d\n",
       "iZft9jlzlMB2EhzK8sBalhzygGIkPyo1k2b5uamJxPDX+/8m0gAAAMgBnslqQ38AAAMAAAMAFhzw\n",
       "/I20L0KJXGoAS1QAAJXToyqfJ8//iKoJ635TIF3DPuKRec5SN5p7oJDgcqEvRNSimWQrlwFUk50V\n",
       "PzL61lkLtj725p8pkGhsoNvDEnbgcwH7eqhgV7glBkw/FAWzQ9Ka8be134XlQ8ugEzZWUNsvXofJ\n",
       "hU+I1nuoL6Eg+plhxM03pB+/M9RPiHjyB9ADOi/Dfqylya5n6Qmjlde8+HowGitDqEVT444gHfr2\n",
       "MPlj+tqdXtVBEtxbQQAAAzxBmsxJ4Q8mUwU8EP/+qlUAAAMAAAMAB9f6ud7wqYbwsevRABQAMY4L\n",
       "hwjww8pQT3d8PXnpyRuG61HNSCdETxnmitB6J1TiWcXFIB7MluiedOZ17qam1mFGxhWrfxUG7m3F\n",
       "BHb+FQ4vu9+eBghfXFd6NNN7/2ED3c8IUBJFzccM2jfgQ8TDn5MGtIKjw5OiYT+0iXAj8UAFByBL\n",
       "MtSh89Nv1Jjc8Bm++dX5gTb+jllyuj6dugUxxbz9FaVN/2Y1EQ12Hz0c/B66f03qfjUvqVOXGfdG\n",
       "VcwBGS1mi4jvsBF8Nwqb3ndK0R/nYCbkOXHF1CXrRBrHLJQHMrFxVDzBhy6UAws26RLrLZoiWq3f\n",
       "mpmJWMS8ZJGNma6atxf7+cR5wVTHtZq+LSyk9KnXFSFYvJf2N4A4Qpm3PRo3sYpN1GXpRY+ekrCF\n",
       "aC7MDKXtU6hwbSyoGoz+RLyImSYF9WrDJPFNRE6e0QpAMC102SQvNqp0rMeUEd2FYv2ikjZ0MFCo\n",
       "cy+jqa7jC8O8fnKSGld1AoAtcTReBRHrElM8YD2h0xXFCpoyQNrT6r9H+poSerxhe5GgHBcA7rJ8\n",
       "p/VVjo4XWZe2ifp8tRE66hq0GRbJCEz5MvQiM1lSIRWyeRdG+Mk4iF61EFN1rI3HNX0qMAV5zcEW\n",
       "1UG8lkddruoPPjnAIG7c09ga9JCbKJj0s4ogB/hZYDV1u/a/wgQKMMkMxxNQABL7Y783NKxjnPFq\n",
       "RRoXTbm9RAah+w60n4pikEVhl7twLig9E0tj1ryIc+mDHmnIMu7X7Oqqr2/yy2ajiOEKtfp3cdES\n",
       "p2CKSySIOGmBnz3lYKC+milxDbL+HWaIWztQe2f36Oyu96n6wqvsRVc6ygOCKEyr2421rWHcgRup\n",
       "8zrP8B+NwPlajR+iIgMYxlZ00WZK8T8eIchPqlkOECh6WVxOhT1jy55FzBLdCffIz1cEGN9QYJ6Q\n",
       "7fx5hluIpnPc+HWVSFHsatly8+VIlcjnwHmjV6UwPy/lPiTKE8T+LjYHyaRRhOXMGFuNf0sX41MQ\n",
       "VAJr9pm5djBW31mc4uW18ClPLFdWl9c18euQnU3pyC7PYy/c+6SY8foX/psRywwAAAC3AZ7rakN/\n",
       "AAADAAADAFDsuPSimb9YePbhAAub4N/q1QkexOh+ytq6NRwpVHv791BBLh5SA1X+T6M3nykCfbZG\n",
       "GwzfoZHj/WlMik6zJfk7YfKzFHa8nbZjs45y58gMyIzFnsN9PvMXWac7x9d33zbQMnR09YozuU8Q\n",
       "IQ9duZdjm3zaQfTHVx4LG2coZmTORxZ1Nu2xUqO2FCEyCnwV1mUgQNFNtnImbgkuuSv67RLxJW5e\n",
       "neNMGAUkAAADHEGa7knhDyZTBTwQ//6qVQAAAwAAAwAH197RQvW/n1rVsx5t/mW7uSCfjIE1AUT8\n",
       "EvPdq/jWpoOMflLVs74LxMMbNAXjs9u7wgy215CFuIRtc/IansEU/MZyzAi0VrTMO/agP/fGJHZh\n",
       "iZE08ppehZcL1Hc2+ucKqdshdVQx6fcvw+eVhIUdLb3L/hBfsSkIxVCJMS1/ppyePAIp+VRY5y1e\n",
       "CcPTs4d5+b9GrF9NIBygK57xN7u4IvaJOInc3fyUHhHfKLhcruvHA++J6so29IjaZbNiIK5ZodOJ\n",
       "t1zMyjsVxrmMwIJgUVawWBUWAOTE5Hcn3T9qQxmRIfGM7sWNQ24snCR+LPJqHp3RlbLsWV38sos6\n",
       "q0Epnx+20PVgZBibqGxxATIluJafECY+1d+oiob0QPFlmp/pIyaSLx9Tp3QPNfYeu4NKb070q/7L\n",
       "hcBQu3RJkmWM7N+Jt2q77yb9xTvxvoHWtSzIKvZ9HapLDyGNSsNo9DomqYWi/Qh0sIMQ03SYJ+8b\n",
       "GjHeGy/Nwi+9hYPX0veOmylm1pd90Agt587gOV9CLL7cNpO/2ARfQvZ8GIDjMuUcwrY6iTdHl7yL\n",
       "FkO+04Mxks7gpHchMzq8IXdChAmiR6AJRstHaPdDlqq2wnzXpbvgPCUh+FQJq1cOwiwreHAIcdvp\n",
       "/+fwTx6omoueSLOxJM6UuHz9hi/Reua3OneqzdvWSxFnOMKKSkmM7SRVfilt6S6JbekrcO6qY41E\n",
       "y4pkEIwqLjP1m2iU5/gZa3QxQnO1uW2kL2NXNKLopB0DfAiiIwwiSVdsleb/LpdBcUFSEWo45OV1\n",
       "AB3bWv1qS1EGJDlye6sUeoMpAkG7PXdR4BwndCfhVWX1j4JkjRyOpW7iUSay7Grq8TtJP81FcA+c\n",
       "guClUIewEYa0p2YTK8R3VSP4PFKldN75/rutyI5dxb3wqH6GfigD17OV7CcnWCh89UMdbTFoTqkT\n",
       "6kPudb/suPrn7iyv/k3XkWRBt65s4iXsekbgg64jBygB1VjO2y3QwHFHewO9S4rnYZaP9uupzYDK\n",
       "tFWFry7FlIEAAACtAZ8NakN/AAADAAADABWU6QD7k36DVXxzTclQOoNTvwvCTHMFM/cMJlvkduTT\n",
       "WkynWXAEStVkZJX9PRlwfJB2G1QMFNZxDCKpNrPtUr4jQf/jI7W/eqVRC8rIr2MiuE/9D6uheSJq\n",
       "4kf/1o0S3De3FgQh2HThyaDZYU3yrxTCiLfiESmwUhbuMxzpmO/OGHoYEo9fQEKIBvhbmaiyam+9\n",
       "HbZFi1zJHPDS1x59AYsAAAOTQZsQSeEPJlMFPBD//qpVAAADAAADAAIAbz4nYgCb49AGXV+C3PTJ\n",
       "N3B9ajuGvNDmMFr6DggejceCVoAXQeRpf3Ztn1imOFiWGvxTZttePTiQjOXY38Rn3WhZGspGLGRs\n",
       "wxop3Cu1SH0agFGXfFS1bcDENBMu+q3jraB3Nh45x7k4xb6RnZ/pkBnzQlLKnzznlVrLiq7dEDaw\n",
       "cyD4tsmF0qfI+fozWPeF1WtwTfoA/XvQrlvMXyknz6z9FfRNjt/6OvG9uAqCuj3D7N++XajAVxK/\n",
       "vzRFpLWU7u6ym9XYWpg+CSwCel4Wni4UfxIn9aRXAO5qi3WoEoqTZuaXBxPt8Eb6wgf+H1BJDIzN\n",
       "fYLQKvTB3V/azBHQhoVsNaOxmHfXpbF0X8fzdF8kC6VEhKTOyUEkzHOIjZ/jr4pfe63YMgw3iGmw\n",
       "+8K06/mW5VEGaZNt2Xd5uOBCY1Wr2PnDsfMQARTuyYlW+fN6M3ajKtQJ85/ZE498SFyrXR+B4p3y\n",
       "+WK4notAW1UIypDK+bxtS0uaaSBkq5cJ5ys3qAZ9Ta8lGWxnPhVjOMzeBDl2N64vkjIN39Z9qh4i\n",
       "BK+qnT7cXIFEVaUEJD5mckoxZILs8vjaJYD3du+hgAijpjIdpsJ9H9c99QGaSYoPXgVnO3sre8JZ\n",
       "8W3okBiBi3EU2cP8hXpJYZMiTl4eyY6Tu1UEDbpmviIaGgMZibt+09P7OjBJAs1XQa07Q2zkYJpO\n",
       "pkOZ1iSK28MNKNIIwTVbJfiR8WFzRrMtzwhCwuqMvq+sALRu/jeF3VgZwVb5vNGGtRDTxvjTJC1n\n",
       "9SuyqOigBQKhNCHq/LiY+7TFlFTE75oDJhiEdRiPfR4XQGp0fu560u1TQUyvGN7oWeiKCmmo17uF\n",
       "zfpw4ajFWBvm2DGA55wW1iOSZWP/YClkLhGGM4WvX4VgKJLSIEy1hSx+IBgjqtpeVCdnrBd1L0vX\n",
       "tqkjSPHzrp4wkqha+Upa/x+Kq4rfqHa60Oz7QNN8fBrktxFIqam8wVJpjlrF/uvphi33mdtpm33/\n",
       "TG/sFwAP+A9iPvqM8cssBjOp8tfO7hhC/gnkV0Rye1dq14HR4j8V/lNNKWlPETTfFLdKiY+ZyDHa\n",
       "YBkFgXegV99dRTYHinnxVrb/l0QQ5vyazAoQIPGBRlxiLL4eMAASFuyzlKBZLd3gN4V57Rxbalch\n",
       "WqiB7RyqOaVu6hS+fDU2qfftrLwJAAAAqAGfL2pDfwAAAwAAAwAUOy4+TzRrHq1nClII2KDCdGAT\n",
       "oxgtRz3lNiPt180iANjyQXAVjmA/CXxdctFIxArhA8DcSalZzaPNIvKp98C2PQ58W6zYIWRCgFMN\n",
       "87GXqUF2J/50Q18DzcpAEP5VP+eYSf+9fTjuunC1BKefC6hgH8BGbSPd73e5xrx6A0jC4cBSi2+w\n",
       "ADKtm3fhB8Mu9OY5NLk6ZqD0BAAVMAAAA3pBmzJJ4Q8mUwU8EP/+qlUAAAMAAAMAAhPzUp3ylpDB\n",
       "9aG8zLwC6u4HdmOzViyfZu4MgVvNaq3Wv0DgOqZeHqMmoHjkESAwMpvxA60k8YrS+bj9a3AGvHty\n",
       "XrhRIbgWYqKov/1NSItMSQsiqROvwkOF86NnQS7EiYGUhDaDXh2VJnv0jIXANi9Mj+WyWEB++aAx\n",
       "XdWGzRujp27dsz8DbgCSyioVoi/yLie69h5GK7Mul64y32FKnWTNG1CfeyWfICLvqAxnX7MLKByu\n",
       "SafPHZiLxs4o+VUHSg5l+C/rQYnEbW9BWlU3e3q8TQ6vgyfEc52NGntv1k1oDFn6g3d6xuYDbJUE\n",
       "dNFu0sf3DFNOBz49GpkshvNWKgG3/x8YYaOUFV/cJTAbozD1hGobfIk5GZ9nyrn2jUz7SFFbQAKM\n",
       "yJ7+XDR44TZCILGHcgaHUmE+yrgiiuCqM1VA7mYMDgP4gfLObj9gTSoHn2FLurA9zawC7hVJ7VTO\n",
       "X0LhjUVJ8knyJxPnhAIpZk8+zxftAraPo7YHxag0NNV7kJEoFYmpGNJWep4VKcCBOu5Bl3dGvSwg\n",
       "6IY8k4mbm0MZuVoTcKBWkXs5YXGa8mWeT/fqbpoPAmeDRCCj/SEzOqDT4Q+4eaemOlF2cGsHwcTg\n",
       "VI0pgrt/6LdEYty9ALWboywmdeRpu2QBgnixnAwFHtk9WRWr9lkeY1NsSVsYPg1JfY0BnshjtTqb\n",
       "GDIBvXw+PtBuMdIz7IxFZrit/4bXA/5U/gG2rm5t/Z8a5bNks389Bch+7C2Y4jv/y1IxJB8hjeBM\n",
       "VBTU6PEc8m24kooDpK5ZInqh/zbJkaXeDYYMoM3rYM2/TORgsXAxEHbFwJ9/cHyWRhyPwY+QWhWu\n",
       "e7MVcN+ig4KDgknG4IbQfW8NQdIAmJ8JNjABeZEJBbB92pF9avB13UsDT70GlAw+YVtdZ/fJ8S4j\n",
       "k1llyLEMM6zcXwan/UvwjGCZ3QqBWruYQgjSv3FZTpdjSrZ0TwpozZjHjfeBk5KAyAG1BhjkCCdt\n",
       "//p0FjXE279D5X2iT7zQRU579PxwHjM1B0sG2DUliVVo3WV4aPMTJbUZgMpnv54D+jpCh5vnenjG\n",
       "WlUzOZi6dGNPTOy74hND0njmCps53F9IaoAPgO/7/FRIewsxlapyunqBuvUoEi/hWj0gjw0hqi3/\n",
       "YbT60AAAAL0Bn1FqQ38AAAMAAAMAFZmDP3wkFjQhM9YatVg6nQRACxN91bIfZznCF5xF5yi2zYV4\n",
       "UmaqYHbqPdxu8ULzjrbqBTxnTv14yzKvNv9FBcnihMHrs7bZ4ZX2MZJDYOSOTtDPsdi7GrPBbfdr\n",
       "c6Hn3SC6lf2x7mEyIFKG+tglGf8lelryJFxRUh8nLc/TRoU6QKmvLQiZvddKfFF7R88vMmIOEpS2\n",
       "XAzqTJ3fSuL6KGh7FAW9dKHhYWoS1VpAd0EAAAMqQZtUSeEPJlMFPBD//qpVAAADAAADAAdT3th6\n",
       "3KDVSMEXSYH/XmWAJDkSMlfNoYvjViYAS0d5DPQ8bitbDHwzDdRhaKW2uG0s0uTN4GHklp4Uud9d\n",
       "yfCht8kxpGz64FcvsUA2lZicgwI1+ZO2KcAZ9R+qoEDSywLq3WukONoycisq8osD4Q6B05fm5hJl\n",
       "4TuYgkN71mKR2mbSpok0U3zbcuBGMs/DVtabHTCuRLLQZSTnU9R37wNX1aa+gBfEIlgQ1CTD+D2b\n",
       "oKmlJhCi+aoUZA6NnobgVcKfeHWqzbPSio2r4pDmUPijMOBXQjrMyZuT6hBywYJoPMxRE6ss+Wez\n",
       "ip+7Zrl4zxk3LaTC2qg0kPcvmO7Gyi/E+wen50IPcLZyW4rPK84WUbx06CAMYaRBO43kMhLwNaAQ\n",
       "1vVbge7HLSuyfpBUR71NXX7i92x5hEj3mImt1jgVJiyd+ItZ2NJ9F0w9ziONCVqh1M9+VCjycdbp\n",
       "AGol+2uuKjmw1sNbuOgikQsLT91ruXH0ZYbP/V5b2+rfzGbWENQkmrNbYqKIqhpm38ioX4we4Rs9\n",
       "v/jiDNvG2PhU8/TXSPOGP49T5x2HL+pLKRZRhOhdKUfE6177cYB4OpAJEJCLdJQrLHk7B85nG9Qn\n",
       "wN5eIXwxJIxUKfObK6MmlJrKF4pJONYBWgQ2BiU7eRMDYkmcDXYotzSmlf8D7s0CutHQyo7x1X24\n",
       "4BD7RuOaMLFGV7IpvdaBl2Sr5pH8eqAG+qMI21wQ6EkQDzTlAahVpHoK0EvhD98aTbfDXLdo37u4\n",
       "WdeBydu0tlXSgC26Y+BcvtAEmH2Hh7Xid10u4cSzQyfPVNozKZy6dyVRSe+fw3CM0lIeGAEGUzTC\n",
       "SFsfAoct5a+/TNMURvk0PbFYemw3ViHwFP6RL0PtX6krC5VQygB0h60viccphLvfRdpFMGwPnLhX\n",
       "Hbkd64J3Krnv3MkGbnzK7JA67YCpz/dStfUw2z2R1hGgXj24xlnaYZLLlpraaeEELCaLmQxeozcU\n",
       "Yn1cw173bHEAVnLAektwj3pv6Qh672AWtaThdWai6yw9oEdZgURC9sa2AAAAswGfc2pDfwAAAwAA\n",
       "AwAUdO/5RY5JeY9dWTZHC5Q2QAIxALbk7t7Y3WvnWVrOVFFfrklOmk+decsuVTYvCZaROEUM/9ZI\n",
       "wrXn+QOknEVIuk4H3wyAEahZWX8GzJR62uY5SeI25x8ziBQTHfmTaNGmfAc3a6ltxwmlyY7PBaKe\n",
       "o7POCAZmkGmjnBRouvAVtc1fz28kUbFvm7fKRZYgMpEPhXpoXuEILZx2/1cuggqdS4G60oKmAAAC\n",
       "+kGbdUnhDyZTAgh//qpVAAADAAADAAIAm67z6LqPCm5e4+S7CrdqjJfQPv0v1UQriEBicSirq6PC\n",
       "3MoNERd17khwGxEumagw3RH+Xx0lu7zZ6zxWrj1VV83lWgtt8p5y5GztYng8EuVHMG9Ys2eQMWF2\n",
       "BAJzWOfk02SO8Xeb5HbD1pFaDbWcUS0pOlz70EcDbedb/CiHsl81kLCOx5Q47ea0WnbHMpTPhabZ\n",
       "vsKydWng46fAl5ZD96AceAhFszxsdBaH5R+DqmlR1BSD6PuFb/wfTIpsn7p/D8vsQK95k/8e0xVX\n",
       "sPchlLJUrJ49EKfly9B2D4st+aYSqX4kp+JrI4slUY8rqTIxQDUU9NqafcvaWoAA/sWbDX+OyDGU\n",
       "S7J9tC53ZmCfdo0BBqs3+GDEwYIQGOs/XNxFlc6wYor+CO06Pz0ExoN9R1EjuExNUPvmy5zEThxG\n",
       "/CpUSn/sZfaTaEJ4U23Mn4g4eaZmTNWFyMIOAakdddTfJJLxyVKCp3O4ulUzKqmqalFWhrB0qV1A\n",
       "B4cRq/8mdxpsMxrRCMJqsTg9IqpnmK8V0yeGHNmWo+c/XTF+nCw12W5SW7J4uDdudZ/CXYm9wIuB\n",
       "BRU01pzSwj/434jK7hK3oLN2gaOneg8a2+A25NKW3+TifnFZSjMGpbJkYvx2s1l/oHcORS+Dz+MX\n",
       "xGpvhge5q2G+iJtXKd6dFD5rrs56s+p+ohHkKGx65Ed5mo88IDrneBP3CRiybfiXaJpv1l6GY4IL\n",
       "/dHoN7+sCqseArDLCUrmcXbYmblGohdNJxp+1KVbd681VfG8qGl6vnALSuR0jeLsNbdpQyi72zP0\n",
       "HVgOKh0hPMfOK2y0Z38wAIrJCNrxq+e6FnXq4p0cTOmIDsAJzMyxfiM1eM8fTaS+ZFDKXsf5d0hA\n",
       "mIB6UfJV0D/w/3Gg7JrleEq5CCySbxwZ2qBa9qVvITrn1lob/lg371bSpflrThMUposUcUBzNJXn\n",
       "8uPzSWM+oonz+FIY3oCEewcymXYY5QAAAx9Bm5dJ4Q8mUwURPBD//qpVAAADAAADAAIAvux3ZL0L\n",
       "dSWQADhqatz7svtMIDm4GOw3D/KBQ0rQEavynhYP9VZGSYfPeOtLfWth8jQVly2btoGiD66cOizF\n",
       "BxHZUDMhRHHmXzuSit9ND4ITuq7sSLrbvHFFBmfAOj5+RPHM89l4zE9sLoW26dQDB/M9Amn+Eegu\n",
       "OBnSAL/EA6FAsChf9oupj2Kyf5dRAO4KLhwwSsEBose8JOdeZVjkkxwKjFdgnATlTvnVNXbdN4Ai\n",
       "8JOY28YjwTKGCR9vxWg45ap6tlXSzLjVDvQuU5/TTDry3c1N+kCOHigTScBAw1rJGzkVgLzcFE2C\n",
       "uILlhVbP/hENiev9H9dRbzr80gFN2WwAUQ+NL1vpBX1P8bHiyxb+QS+vubAFjpFpGVgzcqH2WEPP\n",
       "0qz6uylMIcoa/ZV3pWU//hi+nF8ny5Fs5Dp48xpH/EyMVAUQIceHWb/U2t8Yg580gTb+xgGOLkSl\n",
       "2eK6ckHsa83jTDhEPCmdmIIqEcEna18Hqhv3z7d7b0Dy1bTSeal22phdzLxWDvc1bVlmO7a9IDrQ\n",
       "A/lAIfFOFlqRyDRBtG05yiiWj4F7+JoooqFhVGrIOhhewa1AtmSk5DIqKHR/7ETEUrvDsqNMqxsu\n",
       "qp+1a1VWYjvRF6JrIcUB/G0eRuq/P7uOErRC2VVM+61iKnkSFi1qfn7qv5DhYeyIxEQempyk1HZ/\n",
       "S6NQj2d/BXewKn3aXvw0KAFCq4TLOWD9flGzvY736ZqRc10jbdIjYqnZV7op/64DnFcyWu0JTpox\n",
       "Qi7XnLf0BSMyKZszi3aULXPJCAsDXWZ6W6TW6Lasz8SOLBn9FAwJdT2vdVqIyK5zw0H/WtJiHpgb\n",
       "KqTiPpMhm6Rt/MaFgyrnhChNH2T9Vww2Y/fc97uQltwr+cGLHucjNnBGn1SRmuPjIi9urwwYztEa\n",
       "NdTU7RN/c0cNQIWBUi4uIpbrrn6DKi08feP6F5tcvLJWj54j1RaW20BEpwJ5A2Y7WS9HRBvaGzK/\n",
       "pvOFEnaamWt3ZGS64FjyXNjpoC0ECeSpVcMCAAAAmwGftmpDfwAAAwAAAwAFrTnftf6cTHuV6paZ\n",
       "3IIy2DxLrbMi9yHP/dCqVbb0e2UacYw5meffOvNlnAcHWD/e6YwVl615pn//gOIfWlFKX4VFx1sX\n",
       "PssCWIcajnA3zgfysJakcDAL8M2E+16MZmaM3t21n5bqAAXLAzW63PJ2g3YR5KmnUgRkJ6UK3Pki\n",
       "6iQByFFjAIdWEKPWQLuBAAACtkGbuUnhDyZTBTwQ//6qVQAAAwAAAwAB89vpj9h9D0AAXUAESrJA\n",
       "OfW6svfDmi7T+LRw+3s8vmgwviqgp2R6pX+so6WYqBmkQ74za8cBHlGZfYVgb1H74nK9UI5g4NPo\n",
       "jSuzhLBwgofRpA/xJp2wVWX+6T1xBJEFLdxkf4rWcq8xYshnith7g8C6PDGeuchUanUtBxcwJafp\n",
       "OJeEgTZzANs/FflFhe5KBuyN2VD2m2Oh39HXvT0SIOSbNEcjqKtTvV/8z/+5/qVVC8GhtgcgwQn0\n",
       "6watc3dELmAW12UjkyUdYo3WsfwYFnPQLzxqvULgKMgMpnlLT+wkQh3ayHGnND0CfWBOw9tZSmba\n",
       "ahHlWv2Pio7Q7VNh7Z4sg01HZuYKxsnUgew+ZFn9jMPIWF0BXP9E2eyRZBPKCaKrw4BsnbT4S6bJ\n",
       "wmHpnhsg0+uZkbhXM8OSbsEd0a9XSg4Lwrm3q6hgzysQfyRudTUQAdZa5ByILhMrlFWcr3vTxL2C\n",
       "pcooQlTvUtGdFNzRGoylmnfAcP787Q6DYkWFGp/3WM8W0ovJLDC3099a/MCmm8vvDFPPrF+5JBi9\n",
       "8qtsuX32FWrGPgQscNvNCJb0BwKSGJFDdjNIL06TijZdRxM79EPGOOvRNXVTlh7qvOz1kbZbZFHp\n",
       "Kif2mWNVhzO4DdUSkiY2BMwhZ35KX0xnZd8TlSLFatY2irwt9Gxr8o5DCw6diC0DWLTKnP4pAyPZ\n",
       "Fw6BLAG8iQDUmg0UuP8/RFZVgLz+6nO4L0YShqMn8pS2rX/+NlUpBBoHvkukgWmQnF56owegMNIy\n",
       "+o0oMXkoyXuBk2/u8f6Pw7jM/5UML/vlgAvSQI6cp6j1i82PaqZ0QWRXyAaYUsXLr/oKJjQ6GCNG\n",
       "MQ5/9dLLI/Ot29t/32AecQiytk9Sd1ePNw62eqEAAACoAZ/YakN/AAADAAADAAWHV8ppfzBJ8ScG\n",
       "toI5/Dh2lxLB2Fby85cB8mcAKtgcgThJ4NIcoWmvzK3VnOQ7MyEunqR17xblCuFaL0VA4EhZnq4V\n",
       "ML2b+j3nY21gsTt54+ykzOP9oUrGh2xnhI0DTkb4qFpLTMMIJiNy5zQh+fS0+2qINHQMbTLKbJtr\n",
       "dug6MDQijZ5axSpTJ2MAZyCAL/ZLwSKvc//6sg44AAAC30Gb20nhDyZTBTwQ//6qVQAAAwAAAwAB\n",
       "81DJQfn6rozgu5LDuSz7LQMa9p+WtYmJHnYf4VnjWlVySZrX/lYSUdJY81y/X3zppk5ixvNY+sY7\n",
       "EfXlvxCirpNNdO16wZSR4XkJla5s+tIpQ1sfDrjw+v9pVuTe5WJNZUApP0bchvW0geCYg43GeiMN\n",
       "qIDncZL2VpClIjnP8muYq7m7KQQDGEGZ9qJGTB3JV+sHnp6bIcl8urCww/D/S1fo5qNqkZmcWdB4\n",
       "BVZ4mZEsSFZnBcehUVKmAL/MgLaGK8ir/VqvFB2xdXYuYTYoaPM/7h/bxnrWRC+wdLjekU2LKUtq\n",
       "OyIL7LJF23yjRgcorCl9V8RQ5iUM4BlQ+/aPNILAZahpFvvJczoOCIdJfu3DOFVe/l0YlRh4TKPd\n",
       "Qoo8D0pooKw7hrOM7dP41c67zO41Xrafsj2hdIRPrvc0YV/+d9PrIy8xiOlA7m0eOKGqlQOfYIKt\n",
       "ynBvqITr1pqUqva4Fp0D4HqVMSvNMYDOYHpaq4SJZKVJp/UGLdNnY4H8WCNot4Rnd6CPDJzyTHIj\n",
       "jo7bA1o4yidQ3uF8G8jRVjrJEu9quZswASaawbXSbzvMy09d26pPN4YRpfnQzDOEdsRtVijMJuaE\n",
       "53wa0gGAC0kxzDP+ElOnPq+3XxU6xlt+MwjB2Y2xx7VPHeHu+Y+jPM0bhajD8KPJ/Ge4otBmJYxp\n",
       "sjn+dRV+QTgRxeV5TsNGjJimQoAeaTfo//RZ/P9u4WF2DUvDNXCbmkHD1hs3lwsip5HXaCg4HlEn\n",
       "qyChaCJHAXatORXU23B4de3/CyuZn5juSkKtKE3fBf+B/9j0EJ4JSwceXmm49QLKX/2s5DyjxMMc\n",
       "457m/aWR6ausrxV7pezJLJw5RNN9WTjSKutuv8Q+v3pULLCGx8wre1wj7KpoFI8hVUOUlwMCUk60\n",
       "Uz2ofMrLxg4aaTIzgB0CuY9ehmqnkVuxg02+dwAAAI4Bn/pqQ38AAAMAAAMABYk6GuR+oDz+jOhy\n",
       "a+9On+OQrzxF3noOVE+Lb/eMbseW0eYP0e/5HOxx8obFmTJFe3CQXrGSrQPThBodaWq3xhRfEG/1\n",
       "KHRAYpdDDsUxuIbRDYkvLX4UBdHsAAXUCh6+54056KExDX3oLVT8CDhtk4/bbvjJrqhfNhe+X8xj\n",
       "yynpAAAC9UGb/UnhDyZTBTwQ//6qVQAAAwAAAwAB9fe0UQYRnFJQREszSJXw1jqz94yoQGOPuYt0\n",
       "Ol8pXHLkuDp1Frw7PBMVsgpbTQhm4yNqgbY7aOLsngLMfKZFJnnirivpWyMRzyuFCPhCkv7uf6rB\n",
       "PRkuSubBPcPu7gzcRWcbElPoCLpXRY3qWVvAwtlmzltFHh41VojsOc3nxn1OJaeRBDyHlNSN1mY/\n",
       "VCAoFSU1TXpKiRKvoKMtLN58iTX0Tn/3MHR3Vsu3GPMBIFORp5jB2IDcSXZzRxSnjYoL/wW0JK/L\n",
       "KZ4LsHK0/CrydDwwNEorr/7Yuysw4mq9lo3NXNf7g53csyrrwTqQi8YSASBzRte/EgLYtr4Q4oUC\n",
       "XskvctCncrDTgNvGilyQrPNCScmskA+/XCmhfvvZtGqEWzBZgrc1Esh0qyKozOnACysAI+Ho/a/+\n",
       "C0PkO0XKnV7YRCT9x5XPZaVgUAsSfuy/YXBihHFvE/cutlcbXBR8D+IdlecmlGXRu9gjhRpq9tJ6\n",
       "LNvwkJ2J6rOSeepFWN6d29vxcLXRjfkQIA5d92r6tb0njjfuC5uJzyYpnMl428UlAVDrBi+Y8IvY\n",
       "E4cEbxE9fYPHb/XZgM+7JN07UmcOHLZKHxVgWTf5FIyf1Wk5h70xvphRPs7ky9qg2J+Sx82FpVjP\n",
       "1+mOJ7LUwxv3XGrZVSXOhKT9IlttzUspDnl7TcIGcnlihyQul5NAS+33kxaOg7uP9qkYQdCQ78fy\n",
       "Pk7wuienTFQRyUOD0/HMiDiSPv+x3J5wZZ0U7HsmjOt/syT523KQreLDRlzhd/9+YlsvI6aotfIL\n",
       "Xt5RZ2ir4JrSr8nRT/Qfc0C9VR5QWOSWnPCtaHUHSQyVfbHwj3PhmrTXcr1qHz+WE5DM2lQs3hlK\n",
       "JEFQopnP41Cxav2oOX04Tb1FyVrKImWCiyDXVRTLeJ6WmqqngwVAS7XvJPxU7+8HonN3wnokzb7Q\n",
       "YmRErgViKh74m9J0XRDHP+l3RIYFfY0AAACcAZ4cakN/AAADAAADAAVlOkSfPDaBVnsbzzDfRssJ\n",
       "mjTUPPRETxoUx8158Jro4gkXDLNB5iMCxMlm3SbnKQekcfq+O7Gjqe/krgeHJH3bRTrxz4dHMrpo\n",
       "S/Vt7xMPSVNJebMOALU2jncD4GxcXUgBLVKCwVlNQNXJErI/gGk4ZcY5I1x7zho0+957fU8NN2ky\n",
       "ZSW0RFv0N/eywBZRAAAC5UGaH0nhDyZTBTwQ//6qVQAAAwAAAwAB6ve00K16w2VNzTtAcgR12BV5\n",
       "ptyd7wMA/MZY05S33ui3J4z0SbCX6m7/DPOMtK6nwJNa4bveN2xzYKZH+6rmRPvc9W6VvSV/JqlC\n",
       "h2v8+FSnZgksY3LRb8uXMXm9rarx00ZKQpZKrXXKvGLLKD9JAH72GTG9lMoGCQIVfxpeJj+0XWYC\n",
       "3l3DWJ3TeK7Oy1kZV/SUY9K9pfCwATJIfH5HY7+oVUKU2wj+sCZ1kTJ++bifSGSsgU+bPIulZWdQ\n",
       "/eyWFGk/Ib1Q/lYaQ9S66MUINH4fgTAPQ+t+MJtDghERijRw4ji5LmfTjMJQ81DqBKBQIMgIL1Sb\n",
       "9pkcJ1ZXIqYu6uCU1qPeVoZBPi6238HCw95PYd88/S4DzkiH67BulhWZbXDEOHA6c7QWrkFGCmVV\n",
       "D7TvPixMbjiKAXjW2ZkqbLW76RFmDJiRJVDY/Xxes2WkHB2ch5REhy2lXRy12g9hgprBZmrOxc/r\n",
       "q9bimFfoFyn5pI67KaU7iDvJhv0ZTgV+JduHcC0q+hWQzXfEYE9M3cwHiAeKeTkngOqnXPW79uQ9\n",
       "XOjxZjLq16axsTUJYGMUrSy7xQeTjGRiN6PgmX6pKrQr+AptGmkUSDEvcZrd7QyF4rqL0TTLFDi3\n",
       "2Ti05K6x0msJhzg8DKVoK0lGThdbzfHrEV1eHfTsWrSSGb274eP14/i9yfpq62MHoxar8oDP0d/E\n",
       "5gzED5st1t5PYeGqfO7+Vmj5GSyvF4DrvCF02LkAOSY5tW9vKdTwDwFoUSm3HDDUxcGQdfdwZzc4\n",
       "mw9R9XhwHyV+wPXBkm1aC1Xy0W7WKP83mIJFtMneiT9ki6U1x1QjZs7hQ+OeSGb/FZLqYkk3xl0b\n",
       "uhnlsqg1mp0QKXiZBHwrwd8vI6NIFvR+JQe1flMAhznUYTnJY5aeUGRrxEfkiocxahMuE923WobS\n",
       "X59AsP/j2Q/TULoXO8fC6AAAAJkBnj5qQ38AAAMAAAMAAXR1Bi0gcCkSaLyLfFj/kfv8SXPY6EhH\n",
       "BJwADTs0I6v8dbA8AC6HP6WwWZT4jHR6hmzN1eNui+YmQIj9kj+eqMWin1IJfCXvFcXexJB4iRaV\n",
       "GbJp2MhNwFVWdphZ/0udeD2HS/Kw8oAA4sl9EiiZUgkZE8HyWLj+Bb0pjbvg7X2g1sQ1ZuAdLnww\n",
       "bMAAAALZQZohSeEPJlMFPBD//qpVAAADAAADAACE/21B3UHLRxWSK1Lt/xN0BZiWiBliuf7ViskN\n",
       "IVx08MSq0DuxK2cpibq0fknnkXnXrfaiNpWkPutnLTeN8fEjSa/rxqrShljXlwzATQ8CD+MAfgdn\n",
       "P7tQ389AsORnEu1kuTNoj0z33rrYkOfY+nouNpqKXNRzplMnayndZLA3mfzjuo0C6Ltvht9TXw8/\n",
       "QrC3m5wKdaFP9ldEw4nFkHYeiFRwIY6NgUl5hoOEogH7ubwfgw++UhwBeytIrTwb7zSHxXOZja30\n",
       "WdNISEaaQtwNfE9cm6KZEyUY0y5Ru/FWqmj7UuAx5oV/lulivJmkMi30DiQZGq3/+c1Aq4kT+q71\n",
       "tQ1a18/sR0+ZlTv7ku78KFhUbjBuUjiIuZ/aiwhshyhcor3dzbxsbfBgaRKz8f/JsUNhgl0dZthc\n",
       "iUNXGDOwgVxAlgDgcNYzbBqqw+uHL5WZ2HPMG+UlZm160yKRJCMaLcg/5tkk50blsS3XsbYL3lbQ\n",
       "p5i3vY1BadBJo2jfVoAtxP5laN0EoZMt4nUWRU2JR11fc85HL2ddHPWs3/Jq0n9XIevVK6Sdq0jo\n",
       "qMigXrN8FoIsjLJe3mFEwaIQ2P3cksLbTZnRzigaWiuW0gIVssr9P3M77SvNbHAhCohK7DCU5x+d\n",
       "oQr8r2DyOFVA/BHLL8W34lBWjlDidgVw4o4sOkZFVIjruOm6dKOXomb2W9lem4qy3K5Cy+IETh1N\n",
       "88z3X2n8fhynQRHCRqdybqYmEcVGZQu4fO73uH2NtakrnKzeAHhgUpXHbgLDXxPOzypq9W9NV1rR\n",
       "uzJQ6pNp+zn4f8mvNaKhwu/UywXyt231T/2o5q1+BpGncxeadvUzGnUQQVopsQL9GZT8hGulIQ54\n",
       "mP6+QJDpioTI3YVjsvI79CzcUHHNEtHyfHc8Sea2NLEsK18DhcOmqLlBgxzS/D/txaSRAAAAjQGe\n",
       "QGpDfwAAAwAAAwABdE5pi7KU16m8/3qOfOBcBwTl+764puXAdF2+aCE6I0pOWmQv73rlEIdzvNUL\n",
       "ZiihgxmA/1UbukDN8w8szP9ZIITaVgFl0FmHCL3ZT88iUlaHfhY6X/mchjMV908AKqjcEDotgtF7\n",
       "fUdG9ZFIqwBtdPQhXJ/9swE2KWqUqOwDrgAAAppBmkNJ4Q8mUwU8EP/+qlUAAAMAAAMAAIT1b2Qq\n",
       "UXlf2sSDc+HaPOAALqmT4Bd6eEl2VJ5XzTDuVDOZP8tTNk6IVOpkdYA27GCRDNcBcl33THXckED/\n",
       "FG+Tj0lyzZHx+4hIC1IAalP0OcFd+DgJD0uH9L4sCAIu7xUnn78ZvltwI2GMEKx8PLQYxD0LOtyR\n",
       "iQE6fYtwI4PkJ1YfaCyhrw0MrNiTqWFvf2xVtq1FCmIwfIB7Ss80UotZkdvKBVBU03x0iCxcPXxz\n",
       "iy47NSN62zDBT4Jw4VniQOO88J/8eQCc/ZQ2IwEI2I090b/ea4TRpl91ItK1qQw8oxHf59iCbJ4T\n",
       "3Ph0SXiwl2FiOiSKYTZ4j+RSwOya2WR5h/1B+gO1FHaLkkMU2wFBIaqUtV/o+OXKUeTTXs0d4gzU\n",
       "0mpI5qMmhz9RRQ87+dlsf3mQvYUA21bD04HOv4intZJoCPoQ1/pP1zzxZXsD2zFZO3eX2+T0YNEM\n",
       "3WDmcJetIoLpZcnyqsoHB+L0PNpo7DesUaZOPEyJ/IEIhzbmWQqU3IHhLpSFjAyuZ7legAWqwKhh\n",
       "a1N2OeKjYe8gga3hSAG5l/PzgWEBNZKURe+6eMw/i9Ie2N5IBWF0oAqq+gj5l1z705a6rQrQI6cV\n",
       "ofaAZCumsgmB3HfiHfsXkK2r1/HAYTbXoGrPn3N7SUKYjZ1ubgJMii0HotiOPYGdGCsEvbFypql2\n",
       "/pJSsuoHs6TMaKVk1tmQBbYlsqtq+tDogh3HqPFt8tABiOqNUI7nM2mT1n3yTCvrbVJyOFlt7Wcf\n",
       "+YMxhmsY0zlAFHMcjGKwceT72vzRlf6SnjbL15FL5eup6MI3mydRlNCR+2C9n5tyNeHdC6odzB0i\n",
       "8aUxEa7/tUd++EEAAACaAZ5iakN/AAADAAADAAFrdfMXTBD2hLnwvda5YKgD6pIxir+MSQevSOXZ\n",
       "7pBr22m+9zJAnGy/UppSRNlpkwP/tJSyJuv5bRZUCNQHdPCUW37M5DRCHZrsWJU23pyHlG1TlEIZ\n",
       "CLAHX8/HyD6ffdjLSroRIXSlABWxll4IxEwAJlskwNPbR19dguOd1GBW/qYNYAEjhtCria31MwAA\n",
       "AotBmmVJ4Q8mUwU8EP/+qlUAAAMAAAMAAIAb/Cqkaa6TiYAW7RurRpIQTwbpEdrBxoUysgxq1dy/\n",
       "pOPEU/N+xKUI849MZP9kzEKnU/ROshFOaOcNrz6c9MM12exoZ1eCclzblFprHNMI3Fjh2X++7oYI\n",
       "4wKq2LFCDtL6K8Y21tq6gD2NJvqFTbTnRA7eZ+BlttwDuCfDbn/jAZlXo5wngyrMotDtdtftEvP9\n",
       "uowc2HF4/n06zf7A21ys2ZeOVrnpbnGYQEpKR5g3OnOk3yJFaOvxspj/qUKzft2PHAS33P8x8m1b\n",
       "C3FT/AlBwxBTL78mT8EcX4TDk9R6CeLxRj5lHLRSvhHABaIV/WrIZwTihUcGAnYw8Ze3AAGJ1SxZ\n",
       "6PwerakVFIWoWU6MF8yP/9KcLMm93z8xwXzCkxuYL0H4xu56hqjENgtkQt88LsInKcXQiVeJV2uK\n",
       "wzK0QxPACf6Hu1J+bTHB94M87a8yHvYgDluQ+gZvQiZPy3yA/eenv2DDcmd5/LNMUs+5laaAtUJZ\n",
       "J76NGZHlrCTPyXHqPVXVpyQqfeSnZ8zpePIqckypdFCWBXEwJiZVvBMBSo9HdK8nu43dCAdfZBby\n",
       "AmCJF7+516IaVHIuFi8dEWdHFHc0XlgazmXQybyqdyvyHAQ/f4Rvs7cPnXO7k01k0Pzw8d5P94OP\n",
       "q1UAASSTEZRrEo7df/jpdoGxZd6tFmRc4ZhpCmEXcFTKrhTZMp5jiX1zL8cz9tBcrLi9rqUhYSzF\n",
       "oD0BwcRLZGX+p1kFxocBgijWijUveLmqhADomiGKJv1GGC7l4FcCE5rtTvneEiJ3H2fsdKKLBnRT\n",
       "46cCgaHCaky+gpFCXYVaDbz1XKYg/1BUyGkAAACjAZ6EakN/AAADAAADAAFrRW15Ufas4l5s8cAK\n",
       "qVfHj74qcs4oaquh8mZcaoY4QIbvWgU1VtbIh4yR/8fc59BfgNce6f8RWblGXQIj6/fTkn4FETQe\n",
       "wulkj32UEeIRKQTCWLsUwZq+DeYqrD2D5RXzMYKkfChN3coLihso6OU9G4FIFlkQh+25ZDdAMjfM\n",
       "5tvM0bdNYBcjYHlAHZ9PkdKFlJqNSQAAAoBBmodJ4Q8mUwU8EP/+qlUAAAMAAAMAAIAb0CqkX6yR\n",
       "ovlkuAEbcA2tp6IWXnVLYd8PONi5MCnPeLp7L88yku5IFQeGpUv9lYjLDBSksYHPQx06aw51Iciz\n",
       "zN6dTuCZk1mMM6Kf00674jmb+fhzKukUHqltfEER4CP0ZcnYIaKkg54wZJTFbeKFZbzTe0DnTdhN\n",
       "uJu+L8uNN0oZc3Ov//wnenu1uCSYw4w3qyptkxMRZQiVENcrJYuP+F/Zv6sueiuh/vuKfkjLEkCX\n",
       "b7ls3HWdEnF+Qh9Y7Jum27dRBfMU6YOJGFoPG2CTcwqYXiabQMbohjjqJrCmfyz3/wxX67iUI56r\n",
       "DVfTt/WdRBPvvAONsHe/dPJMboWglM3AqJ7+5+d9RSv8KOjCqIlogUAJhvBr/h57r5rse1MEL7lg\n",
       "d3eMxJBBJJ04OPQkL5A82QTDMBOi1qvoXlGNPRPqA6uTfupoyxL6HdBFohnKftmJXYY1dtuCMcFA\n",
       "1NdLUPN8GrRfeJdvkBS6rlAtTuEyHgA4IkFHPQNd/VqJ9vP0E8/BzhdYdA/pYemI4B8ouPYnHKQX\n",
       "83vvc8M88OgZjLwdzmgqEX55pbz25CkjNGUYNjXpWuu9fCN6aQR+3nTY6PAKaKgkmV/BE0gUqm8r\n",
       "d70neoTZon853G1frb1BvTQRQfDr8bIpakADMhtc9X0B8cyroYkTY6djbMIlNOnEFTBa6GwfgUA8\n",
       "q0jjCHxYd6uPwSPA/NsU4HY7qe96nuSXIadHSy/T9fmTucrGPR5ZNrO5ij3nlZj3h2YpW7/ngZJg\n",
       "18byZP29ikPOpnYwRUDPtL+/1ILOm99vR2wQOcnbrZDmFg0zIIsZAAAAlgGepmpDfwAAAwAAAwAB\n",
       "a3QzZhNjYcOBO7aGkZgh/WdsSzOHHH88uF4pAXUk3pwnsj0wmdrJo7MejlUXw8La69eZzdeDPNTy\n",
       "oONfZnxBZBNBNSF4UWJalWuonduTjKbhL30Tj7IXkca/8Y7jNRgq72HqAwOnUXMlqUNmh/MxeCx/\n",
       "/hoAW0TvetyKiXSus9rooL4hvWhvQQAAAnxBmqlJ4Q8mUwU8EP/+qlUAAAMAAAMAAID/bU8kXzxn\n",
       "HEAiyUd6Tu14DFtt+PcyY7uqww1SJvzskFtaR7Z05/nmT/O9qif0CeJU0wzI+BAQMuVFO/7seVX7\n",
       "okAWlhVlPBOqYXJRa+OLaixYRuWYoqUX1dnLEFNzvmgovR3Mszoacb33HFsbTIGWNi6Sg4cy1dAI\n",
       "HQaesFDNjpbaiJRWpz/bUHeovmu5OgysT51Ec6IFSFhKuC9zPIkpkvGPL2IB6qaieUvUtSWJi3vF\n",
       "wAnahpT7sxMXoJBO7In44KdcA5YITgDVP0nLWazdkP+KxHf0dCk0Nppgs07L83/5+ZVQln+w0Q6R\n",
       "i+6TNB614yiEQdYl1oO83SzaKn/ytZ5uySsH+89qP0JATIY0s0+hwTibpXWlyXkQwQiiWLe8I+aH\n",
       "3/jHwowGZcic/Ti7ogU24YRCGN4+3HZHL6VBnfX9+dvfKNHt0B+FUiIM/cbDom0NaWywY0Kw57mP\n",
       "O5oGwBbi3MYo4kMeu5jgJT4vhoyS7ipotNz74iJMYlXW+1+C8sQ6hlnfj6ltl9glH68M7W7gqHHy\n",
       "LfDzqNrMecFf+/pRhihAqy806zXTdEYYQI8mGldxdNZk57ngNbyqp1Ca0YFceZPsyyMd2HIik4Jg\n",
       "4lQulf/EudOwOBtywvci4Yj9+rwnS+/EBv73aS7a+tHKftPs7oFb1CkjQDfv2MDnCDYjfqQrOrRd\n",
       "3XdSpEvs6ox7hbREWH/Y/uVmerMrlTqgR+ZpuBUK5SR1CCH1cCLuj2AoctDI0/z3dfa7F/24IiQu\n",
       "f6lGtSVYOBfh/oeDY5dLopQqc8ndLjCnLeDrlPdCCU66q8AAAACnAZ7IakN/AAADAAADAAFnXI0t\n",
       "W2gUf6Zc/6nePIaNd6KAhrDKtlalYA1m+LKlFC5Lj/xU3nxqH/TJFMAj5OVG7u5sqHWjk5JaaRkw\n",
       "ZvXwTMZFeMX10m/YgiV11WeSs8Vb81uqcku10ohUO8YQE4bwxaTcwboSFmRI38CSyf92Jgbbe6ZQ\n",
       "P0A6Xywv+fWD1+jPhM/9/X8x8ESc1VtNioylxZxS8shQBSQAAAIAQZrLSeEPJlMFPBD//qpVAAAD\n",
       "AAADAAB8y35W2FA+5AAloAKZWFxHrywoBQB4PMlwL4b2kIW+EylWBSSajxs4e77vUDm4t/9pU7Rn\n",
       "auqhBTXgjk57RYd++f/+kSRt9O90x9XXZRgdjBVQLxh4d43/eWm4gj0H6XQpeRBfN/5gxAIP8GRx\n",
       "FJ3hhzhlsLg5FqyEBjJs0rOJCNbYaq/3ZmoEUjTVlkQlFvCYuuEVuMTSsUwTBg0qfMi10++RLENc\n",
       "/awZ+sWvz7vBEcWYexHkM/UwAWFo2MFfsmXg4PMWDEy/C5rCVQ9MfIWkqB755V4jKzlW1RCjGOdO\n",
       "spJKERnVoS8nOij1xoqOio2oNENLx/kbIn6pQCtaas2CskRlGNqwgnuBCQqRVM5xXeC0EZXD/xvS\n",
       "pY/lIN9NRQKJNvRDinN9BmejYif4MJMXWMM7lm3RkwQC+yXakJKoTq/cTB7RYZHQO4nRBujEpBjO\n",
       "FNMvGeYVny6u6rBhi0n6HzrFDoyp/vgI9xgQUHXiMdvXiHcLsJOdmR8H8PO7zt2chgaW9XqC+GaD\n",
       "TV4dNXps1IKfyf3t/i5abAS+mps2W1xgKjkKRxq+vytrRgQPx79bszqt1PpgGCkkxvwQT8Gz5Ysc\n",
       "J6Kq6Ww3Qr8ve0buM/vuFr4jXZJPVL71nlmCGEL3JSicQwRSdu0AAACbAZ7qakN/AAADAAADAAFi\n",
       "dKySNbByDGqBpkdks77bpEL6Umu6/DU5Kwyn4oOadYkq8HL+DSgJaRhOju3vygVtd8SLkapEI1h6\n",
       "Upw2s0AoUHKOb5smO0Ha14ZBWEQc0FsyCXv7CWCl167ZO+3EGwhzEl1TpeW+6mD1UczAC2pmeLGX\n",
       "3gCblujNX5jMQNJKykA5LGcb/zMbcefyETAAAAGRQZrtSeEPJlMFPD///qmWAAADAAADAAHobVID\n",
       "GgoOzSOjrWGPQr69LXRXKp9S/EkwVOXdyIKAGemZnDfW7bo0QaQhik0wzCFlJpBVDFoX4uriR6Dd\n",
       "VAZ9tp5KE//Q9Wo4J5O+D8JQAgJRBZA5KoDDU//UHvATtNumAmcR2NrwnJTE1b//4LhdZQ9ivW04\n",
       "DK6W8eYPZm342TrAO+SC8TnvrBlr3Py1/UxrFsvzB+OYsaGAl/wH3/3yva6riEvZtIIgK3vS7SIo\n",
       "ZqindCoVyhXEQjizzpLi29z4L1FBD8xCWck5iuc/ed37BRpMGZfOgMbMc4KSPdsmDiRfXalifGAQ\n",
       "A+uoxWe4AGx4ZvcjpyF+qp2IFMkTlOH74AiRvbf/408fkFFuNklwCozzp5zdl3NzMArNUi3a/Plx\n",
       "iyhvowF3QAbAbR1C+lrDcqwjMfWsMRrOa4nlDp9O6385IRHgOWA5gBX8haU4YQkBvIM2GxBb+Zec\n",
       "zFhAuVOG03KynZUXcG/ODXokns4Df8kYL8bQLZMH2lAAAACqAZ8MakN/AAADAAADAAFiczuma4Aq\n",
       "AAs0pAa0TuT3EJZ7hFBGFpAgo/6ckkXYOniQowH7WivjkAeltAQiE0pXwyg8nr5kBhAKop12wzs9\n",
       "jQyFTaouhv4wzzNsh6oyRFNIFsyCZMFCM4cfKjo7ltBficyQZtxzl7pSMQL47UUBYxJvnpKC1oTF\n",
       "rlo43WnAUZxk1zjcPrlJG7Rw1giPRmtEuFp6zDZkR0tNIssAAAFLQZsPSeEPJlMFPD///qmWAAAD\n",
       "AAADAAHq/lZaMiptvckwDCCFyUhMjCK3UNJH75k3NGAQF2gOQDtK7wNLMDsSEkR8zn610Fn3XmRf\n",
       "f6hsCV+KCpzHrSEmsHSOVAf/HTGjT3USzKZyWf7hlmSnb561596cYrI6PbVEWRvrzO6XBSLCAXCT\n",
       "QnsqaJaXFws76qwoQJo8fqHtDGvpryklrX71hfvktNrlJBX3ytL78oEzYwdC1wA11NBoiHfoVOeX\n",
       "I6cpys33WCzC347qcAQofk8YYToK7rbyts1BgOHxEMl21oBnCblke7xQaLAREelWyv8rDtTqvqxD\n",
       "+TOilL070iF3rZrBZxaugdKnXYUWIqKC/agoYP5in7KkQZBGs7qSPDi46w5QLLoIB/lqLsKKjCuE\n",
       "JprZD3VdBf3VjUGGOtq9K8YFLdXWF8g2BnymnQAAAMMBny5qQ38AAAMAAAMAAV6y3a1CNswBtSka\n",
       "xS3uogGeVueV2iqocOhsQZ/wO7acQ5Kn9mpqXPOVm0/iCE7a/nU8wJdFh+DIMzBpQN1W83+MAzWu\n",
       "x0aMq6caCektRxtNIcrlEyvIzlrKpd7YEaT7PZA3GV2oKyUZpXqX0s5Jsx0HukJM1Y/eDFsVA97A\n",
       "R+6VnZJ3eotc4SvVf8weHfLUjxO8iuDZOTOY0I5f72g8ECiz/u/vuNEOiOqCsO9kR+AML564S8EA\n",
       "AAD9QZsxSeEPJlMFPDf//qeEAAADAAADAAD9hDuRZqYq91O2Vn6hgBLGkOBavrNoJFLHLNjNT0Zx\n",
       "fMc0TvZFJrTMbIiBzKjsXuVrTn9yNvK9snzRwfd5v4dup98QGr+AAULH2NDPp1+GKKQ8LYN0lUof\n",
       "dE+pEXrCv7P6cRes1zwp//F5VcFtTncl5tz4aQnji5z/J69242zGcRxPzsSbPN9kfQWDqdJw3C19\n",
       "bp5zjShxiYIHyW1Y/5LtFCc8Q4SlnsV6pDBTN1qzQEacd03olW0XhOy/ZzItzqYNe05Ol2Jv/eu9\n",
       "nKGgwA+myTtquw5+7oqBLir+VgvX7I0M4Gwv1gAAAKgBn1BqQ38AAAMAAAMAAVB59726uA2a69gC\n",
       "9RqkbABXyef45xyGkPSCG+9erz8Ayb0i/cgBewuZBr0nxc0feh/eYerAgIh3CnTsOXgz79CpV86O\n",
       "tFGff3dxgfZ7o1bEwpbNNCfKNNEAiqmHU1JpGXQQvT0bjVSkj/n0IC4jUj20AurQ1vr9l0PdZS5A\n",
       "zZ2y+SPEjJGnZ5YZ/GsZObv8IWQQ/csG4edgb0AAAAWGbW9vdgAAAGxtdmhkAAAAAAAAAAAAAAAA\n",
       "AAAD6AAAE4gAAQAAAQAAAAAAAAAAAAAAAAEAAAAAAAAAAAAAAAAAAAABAAAAAAAAAAAAAAAAAABA\n",
       "AAAAAAAAAAAAAAAAAAAAAAAAAAAAAAAAAAAAAAAAAgAABLB0cmFrAAAAXHRraGQAAAADAAAAAAAA\n",
       "AAAAAAABAAAAAAAAE4gAAAAAAAAAAAAAAAAAAAAAAAEAAAAAAAAAAAAAAAAAAAABAAAAAAAAAAAA\n",
       "AAAAAABAAAAAA2AAAAJAAAAAAAAkZWR0cwAAABxlbHN0AAAAAAAAAAEAABOIAAAIAAABAAAAAAQo\n",
       "bWRpYQAAACBtZGhkAAAAAAAAAAAAAAAAAAAoAAAAyABVxAAAAAAALWhkbHIAAAAAAAAAAHZpZGUA\n",
       "AAAAAAAAAAAAAABWaWRlb0hhbmRsZXIAAAAD021pbmYAAAAUdm1oZAAAAAEAAAAAAAAAAAAAACRk\n",
       "aW5mAAAAHGRyZWYAAAAAAAAAAQAAAAx1cmwgAAAAAQAAA5NzdGJsAAAAs3N0c2QAAAAAAAAAAQAA\n",
       "AKNhdmMxAAAAAAAAAAEAAAAAAAAAAAAAAAAAAAAAA2ACQABIAAAASAAAAAAAAAABAAAAAAAAAAAA\n",
       "AAAAAAAAAAAAAAAAAAAAAAAAAAAAAAAAGP//AAAAMWF2Y0MBZAAf/+EAGGdkAB+s2UDYEmhAAAAD\n",
       "AEAAAAUDxgxlgAEABmjr48siwAAAABx1dWlka2hA8l8kT8W6OaUbzwMj8wAAAAAAAAAYc3R0cwAA\n",
       "AAAAAAABAAAAMgAABAAAAAAUc3RzcwAAAAAAAAABAAAAAQAAAaBjdHRzAAAAAAAAADIAAAABAAAI\n",
       "AAAAAAEAAAwAAAAAAQAABAAAAAABAAAMAAAAAAEAAAQAAAAAAQAADAAAAAABAAAEAAAAAAEAAAwA\n",
       "AAAAAQAABAAAAAABAAAMAAAAAAEAAAQAAAAAAQAADAAAAAABAAAEAAAAAAEAAAwAAAAAAQAABAAA\n",
       "AAABAAAMAAAAAAEAAAQAAAAAAQAADAAAAAABAAAEAAAAAAEAAAwAAAAAAQAABAAAAAABAAAIAAAA\n",
       "AAEAAAwAAAAAAQAABAAAAAABAAAMAAAAAAEAAAQAAAAAAQAADAAAAAABAAAEAAAAAAEAAAwAAAAA\n",
       "AQAABAAAAAABAAAMAAAAAAEAAAQAAAAAAQAADAAAAAABAAAEAAAAAAEAAAwAAAAAAQAABAAAAAAB\n",
       "AAAMAAAAAAEAAAQAAAAAAQAADAAAAAABAAAEAAAAAAEAAAwAAAAAAQAABAAAAAABAAAMAAAAAAEA\n",
       "AAQAAAAAAQAADAAAAAABAAAEAAAAAAEAAAwAAAAAAQAABAAAAAABAAAMAAAAAAEAAAQAAAAAHHN0\n",
       "c2MAAAAAAAAAAQAAAAEAAAAyAAAAAQAAANxzdHN6AAAAAAAAAAAAAAAyAAAW4gAAA5wAAACvAAAD\n",
       "FgAAALIAAAOMAAAAuwAAA2IAAADJAAADiwAAAMwAAANAAAAAuwAAAyAAAACxAAADlwAAAKwAAAN+\n",
       "AAAAwQAAAy4AAAC3AAAC/gAAAyMAAACfAAACugAAAKwAAALjAAAAkgAAAvkAAACgAAAC6QAAAJ0A\n",
       "AALdAAAAkQAAAp4AAACeAAACjwAAAKcAAAKEAAAAmgAAAoAAAACrAAACBAAAAJ8AAAGVAAAArgAA\n",
       "AU8AAADHAAABAQAAAKwAAAAUc3RjbwAAAAAAAAABAAAALAAAAGJ1ZHRhAAAAWm1ldGEAAAAAAAAA\n",
       "IWhkbHIAAAAAAAAAAG1kaXJhcHBsAAAAAAAAAAAAAAAALWlsc3QAAAAlqXRvbwAAAB1kYXRhAAAA\n",
       "AQAAAABMYXZmNTcuMTEuMTAw\n",
       "\">\n",
       "  Your browser does not support the video tag.\n",
       "</video>"
      ],
      "text/plain": [
       "<matplotlib.animation.FuncAnimation at 0x36a6dd3160>"
      ]
     },
     "execution_count": 10,
     "metadata": {},
     "output_type": "execute_result"
    }
   ],
   "source": [
    "fig = plt.figure(figsize=(12, 8))\n",
    "ax = fig.add_subplot(111)\n",
    "\n",
    "x = np.linspace(0, nx*dx, nx)\n",
    "line, = ax.plot(x, u0)\n",
    "\n",
    "def animate(i):\n",
    "    print(\".\", end='', flush=True)\n",
    "    if (i > 0):\n",
    "        for k in range(10):\n",
    "            simulator.step()\n",
    "    \n",
    "    u1 = simulator.download()\n",
    "    line.set_ydata(u1)\n",
    "    print(np.sum(u1[1:-1]))\n",
    "    \n",
    "    \n",
    "\n",
    "plt.rcParams[\"animation.html\"] = \"html5\"\n",
    "anim = animation.FuncAnimation(fig, animate, range(50), interval=100)\n",
    "plt.close()\n",
    "anim"
   ]
  },
  {
   "cell_type": "code",
   "execution_count": 26,
   "metadata": {},
   "outputs": [
    {
     "name": "stdout",
     "output_type": "stream",
     "text": [
      "============================= test session starts =============================\n",
      "platform win32 -- Python 3.6.5, pytest-3.8.0, py-1.5.3, pluggy-0.7.1 -- C:\\Users\\anbro\\AppData\\Local\\Continuum\\anaconda3\\python.exe\n",
      "cachedir: .pytest_cache\n",
      "rootdir: c:\\Users\\anbro\\Documents\\projects\\demos\\MilanoGPU2018\\notebooks, inifile:\n",
      "plugins: remotedata-0.2.1, openfiles-0.3.0, doctestplus-0.1.3, arraydiff-0.2\n",
      "collecting ... collected 1 item\n",
      "\n",
      "14 HeatEquation1D.py::test_HeatEquationGPU <- <ipython-input-26-fae2a9f781e9> PASSED [100%]\n",
      "\n",
      "============================== warnings summary ===============================\n",
      "C:\\Users\\anbro\\AppData\\Local\\Continuum\\anaconda3\\lib\\site-packages\\_pytest\\assertion\\rewrite.py:274: PytestWarning: Module already imported so cannot be rewritten: pytest_remotedata\n",
      "  self.config,\n",
      "C:\\Users\\anbro\\AppData\\Local\\Continuum\\anaconda3\\lib\\site-packages\\_pytest\\assertion\\rewrite.py:274: PytestWarning: Module already imported so cannot be rewritten: pytest_openfiles\n",
      "  self.config,\n",
      "C:\\Users\\anbro\\AppData\\Local\\Continuum\\anaconda3\\lib\\site-packages\\_pytest\\assertion\\rewrite.py:274: PytestWarning: Module already imported so cannot be rewritten: pytest_doctestplus\n",
      "  self.config,\n",
      "C:\\Users\\anbro\\AppData\\Local\\Continuum\\anaconda3\\lib\\site-packages\\_pytest\\assertion\\rewrite.py:274: PytestWarning: Module already imported so cannot be rewritten: pytest_arraydiff\n",
      "  self.config,\n",
      "\n",
      "-- Docs: https://docs.pytest.org/en/latest/warnings.html\n",
      "==================== 1 passed, 4 warnings in 0.18 seconds =====================\n"
     ]
    },
    {
     "data": {
      "text/plain": [
       "0"
      ]
     },
     "execution_count": 26,
     "metadata": {},
     "output_type": "execute_result"
    }
   ],
   "source": [
    "clean_tests()\n",
    "\n",
    "\n",
    "def test_HeatEquationGPU():\n",
    "    kappa = 1.0\n",
    "    nx = 10\n",
    "    dx = 1.0\n",
    "    dt = 0.4 * dx**2 / (2.0*kappa)\n",
    "\n",
    "    u0 = np.zeros(nx, dtype=np.float32)\n",
    "    for i in range(nx):\n",
    "        x = (i - nx/2.0) * dx\n",
    "        if (np.sqrt(x**2) < 0.25*dx*nx):\n",
    "            u0[i] = 10.0\n",
    "    u_sum = np.sum(u0[1:-1])\n",
    "            \n",
    "    cpu_simulator = HeatEquation(u0.copy(), kappa, dx, dt)\n",
    "\n",
    "    gpu_simulator = HeatEquationGPU()\n",
    "    gpu_simulator.initialize(u0, kappa, dx, dt)\n",
    "        \n",
    "    for i in range(100):\n",
    "        cpu_simulator.step()\n",
    "        gpu_simulator.step()\n",
    "        \n",
    "        cpu_u = cpu_simulator.download()\n",
    "        gpu_u = gpu_simulator.download()\n",
    "        print(\"CPU: \", cpu_u[1:-1])\n",
    "        print(\"GPU: \", gpu_u[1:-1])\n",
    "        assert cpu_u[1:-1] == pytest.approx(gpu_u[1:-1])\n",
    "        \n",
    "        print(u_sum)\n",
    "        print(np.sum(gpu_u[1:-1]))\n",
    "        assert u_sum == pytest.approx(np.sum(gpu_u[1:-1]))\n",
    "        assert u_sum == pytest.approx(np.sum(cpu_u[1:-1]))\n",
    "        \n",
    "run_pytest(filename='14 HeatEquation1D.ipynb', pytest_options=['-vvv'])"
   ]
  },
  {
   "cell_type": "code",
   "execution_count": null,
   "metadata": {},
   "outputs": [],
   "source": []
  },
  {
   "cell_type": "code",
   "execution_count": null,
   "metadata": {},
   "outputs": [],
   "source": []
  }
 ],
 "metadata": {
  "kernelspec": {
   "display_name": "Python 3",
   "language": "python",
   "name": "python3"
  },
  "language_info": {
   "codemirror_mode": {
    "name": "ipython",
    "version": 3
   },
   "file_extension": ".py",
   "mimetype": "text/x-python",
   "name": "python",
   "nbconvert_exporter": "python",
   "pygments_lexer": "ipython3",
   "version": "3.6.5"
  }
 },
 "nbformat": 4,
 "nbformat_minor": 2
}
