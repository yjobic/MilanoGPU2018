{
 "cells": [
  {
   "cell_type": "markdown",
   "metadata": {},
   "source": [
    "# License\n",
    "\n",
    "    IPython notebook for running a trivial OpenCL program\n",
    "    Copyright (C) 2018 Andre.Brodtkorb@ifi.uio.no\n",
    "\n",
    "    This program is free software: you can redistribute it and/or modify\n",
    "    it under the terms of the GNU General Public License as published by\n",
    "    the Free Software Foundation, either version 3 of the License, or\n",
    "    (at your option) any later version.\n",
    "\n",
    "    This program is distributed in the hope that it will be useful,\n",
    "    but WITHOUT ANY WARRANTY; without even the implied warranty of\n",
    "    MERCHANTABILITY or FITNESS FOR A PARTICULAR PURPOSE.  See the\n",
    "    GNU General Public License for more details.\n",
    "\n",
    "    You should have received a copy of the GNU General Public License\n",
    "    along with this program.  If not, see <http://www.gnu.org/licenses/>."
   ]
  },
  {
   "cell_type": "markdown",
   "metadata": {},
   "source": [
    "# Installing\n",
    "\n",
    "Installing PyCUDA and PyOpenCL requires that you install both a driver to access the GPU, and the python environment. This can be a bit tricky, and will vary from operating system to operating system, but the following is a rough guideline."
   ]
  },
  {
   "cell_type": "markdown",
   "metadata": {},
   "source": [
    "# Prerequisites CUDA\n",
    "\n",
    "Install Nvidia CUDA by downloading from https://developer.nvidia.com/cuda-downloads Make sure that you install both the CUDA driver and the toolkit.\n",
    "\n",
    "# Prerequisites OpenCL on Intel/NVIDIA/AMD\n",
    "\n",
    "Install OpenCL drivers from your vendor\n",
    "* AMD: https://support.amd.com/en-us/kb-articles/Pages/OpenCL2-Driver.aspx\n",
    "* Intel: https://software.intel.com/en-us/articles/opencl-drivers\n",
    "* Nvidia: Use the CUDA toolkit"
   ]
  },
  {
   "cell_type": "markdown",
   "metadata": {},
   "source": [
    "# Prerequisites Python\n",
    "\n",
    "* Install Anaconda or miniconda from https://www.anaconda.com/ Make sure you use Python version 3.7 or higher\n",
    "* Miniconda is recommended for Linux users, anaconda works very well on Windows"
   ]
  },
  {
   "cell_type": "markdown",
   "metadata": {},
   "source": [
    "# Installing environment\n",
    "In a terminal / Anaconda prompt, run the following commands:\n",
    "    \n",
    "```\n",
    "conda install -c conda-forge jupyter\n",
    "conda install -c conda-forge jupyterlab\n",
    "conda install -c conda-forge nb_conda_kernels\n",
    "```\n",
    "\n",
    "Then create a file called ```gpu_dev_environment.yml``` with the following contents\n",
    "```\n",
    "name: gpudev\n",
    "channels:\n",
    "- conda-forge\n",
    "\n",
    "dependencies:\n",
    "- python\n",
    "- numpy\n",
    "- matplotlib\n",
    "- jupyter\n",
    "- pytest\n",
    "- xmlrunner\n",
    "- scipy\n",
    "- pip:\n",
    "  - pycuda\n",
    "```\n",
    "\n",
    "Finally create your environment using\n",
    "```\n",
    "conda env create -f gpu_dev_environment.yml\n",
    "```\n",
    "\n",
    "You should now be able to start Jupyter using the following command in a terminal / command prompt\n",
    "```\n",
    "jupyter lab\n",
    "```\n",
    "and select the correct kernel environment (look for the dropdown, and select gpudev)"
   ]
  },
  {
   "cell_type": "code",
   "execution_count": null,
   "metadata": {},
   "outputs": [],
   "source": []
  }
 ],
 "metadata": {
  "kernelspec": {
   "display_name": "Python [conda env:anaconda3]",
   "language": "python",
   "name": "conda-env-anaconda3-py"
  },
  "language_info": {
   "codemirror_mode": {
    "name": "ipython",
    "version": 3
   },
   "file_extension": ".py",
   "mimetype": "text/x-python",
   "name": "python",
   "nbconvert_exporter": "python",
   "pygments_lexer": "ipython3",
   "version": "3.7.0"
  }
 },
 "nbformat": 4,
 "nbformat_minor": 2
}
