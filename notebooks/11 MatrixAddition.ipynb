{
 "cells": [
  {
   "cell_type": "markdown",
   "metadata": {},
   "source": [
    "# License\n",
    "\n",
    "    Jupyter notebook for accessing CUDA\n",
<<<<<<< HEAD
    "    Copyright (C) 2018 Andre.Brodtkorb@ifi.uio.no\n",
=======
    "    Copyright (C) 2018 Andre.Brodtkorb@ifi.uio.no, changed in October by André Brodtkorb\n",
>>>>>>> 247aa5ec0b6a1de6fac00fda446ce11f995e5b66
    "\n",
    "    This program is free software: you can redistribute it and/or modify\n",
    "    it under the terms of the GNU General Public License as published by\n",
    "    the Free Software Foundation, either version 3 of the License, or\n",
    "    (at your option) any later version.\n",
    "\n",
    "    This program is distributed in the hope that it will be useful,\n",
    "    but WITHOUT ANY WARRANTY; without even the implied warranty of\n",
    "    MERCHANTABILITY or FITNESS FOR A PARTICULAR PURPOSE.  See the\n",
    "    GNU General Public License for more details.\n",
    "\n",
    "    You should have received a copy of the GNU General Public License\n",
    "    along with this program.  If not, see <http://www.gnu.org/licenses/>."
   ]
  },
  {
   "cell_type": "code",
<<<<<<< HEAD
   "execution_count": 1,
=======
   "execution_count": 2,
>>>>>>> 247aa5ec0b6a1de6fac00fda446ce11f995e5b66
   "metadata": {},
   "outputs": [],
   "source": [
    "#Lets have matplotlib \"inline\"\n",
    "%matplotlib inline\n",
    "\n",
    "#Import packages we need\n",
    "import numpy as np\n",
    "import pycuda.compiler as cuda_compiler\n",
    "from pycuda.gpuarray import GPUArray\n",
    "import pycuda.driver as cuda_driver\n",
    "\n",
    "from matplotlib import pyplot as plt"
   ]
  },
  {
   "cell_type": "code",
<<<<<<< HEAD
   "execution_count": 2,
=======
   "execution_count": 3,
>>>>>>> 247aa5ec0b6a1de6fac00fda446ce11f995e5b66
   "metadata": {},
   "outputs": [],
   "source": [
    "#Initialize CUDA - must be first call to CUDA!\n",
    "cuda_driver.init()"
   ]
  },
  {
   "cell_type": "code",
<<<<<<< HEAD
   "execution_count": 3,
=======
   "execution_count": 4,
>>>>>>> 247aa5ec0b6a1de6fac00fda446ce11f995e5b66
   "metadata": {},
   "outputs": [
    {
     "name": "stdout",
     "output_type": "stream",
     "text": [
<<<<<<< HEAD
      "Using 'Quadro K2000'\n",
      " => compute capability: (3, 0)\n",
      " => memory: 1893 / 1999 MB available\n"
=======
      "Using 'Tesla K80'\n",
      " => compute capability: (3, 7)\n",
      " => memory: 10455 / 11441 MB available\n"
>>>>>>> 247aa5ec0b6a1de6fac00fda446ce11f995e5b66
     ]
    }
   ],
   "source": [
    "#Create CUDA context\n",
    "cuda_device = cuda_driver.Device(0)\n",
    "print(\"Using '{:s}'\".format(cuda_device.name()))\n",
    "print(\" => compute capability: {:s}\".format(str(cuda_device.compute_capability())))\n",
    "context = cuda_device.make_context()\n",
    "free, total = cuda_driver.mem_get_info()\n",
    "print(\" => memory: {:d} / {:d} MB available\".format(int(free/(1024*1024)), int(total/(1024*1024))))"
   ]
  },
  {
   "cell_type": "code",
<<<<<<< HEAD
   "execution_count": 4,
=======
   "execution_count": 9,
>>>>>>> 247aa5ec0b6a1de6fac00fda446ce11f995e5b66
   "metadata": {},
   "outputs": [],
   "source": [
    "cuda_kernel = \"\"\"\n",
    "__global__ void addVectorKernel(float* c, float* a, float* b) {\n",
    "    unsigned int i = blockIdx.x*blockDim.x + threadIdx.x;\n",
    "    c[i] = a[i] + b[i];\n",
    "}\n",
    "\n",
<<<<<<< HEAD
    "__global__ void addMatrixKernel(float* c, float* a, float* b, int nbCols) {\n",
    "    unsigned int iX = blockIdx.x*blockDim.x + threadIdx.x;\n",
    "    unsigned int iY = blockIdx.y*blockDim.y + threadIdx.y;\n",
    "    unsigned int position = iY*nbCols + iX;\n",
    "    \n",
    "    c[position] = a[position] + b[position];\n",
=======
    "__global__ void addMatrixKernel(float* c, float* a, float* b, int cols) {\n",
    "    unsigned int i = blockIdx.x*blockDim.x + threadIdx.x;\n",
    "    unsigned int j = blockIdx.y*blockDim.y + threadIdx.y;\n",
    "    \n",
    "    //Pseudocode\n",
    "    //c[j][i] = a[j][a] + b[j][i]\n",
    "    unsigned int k = j*cols + i;\n",
    "    \n",
    "    c[k] = a[k] + b[k];\n",
>>>>>>> 247aa5ec0b6a1de6fac00fda446ce11f995e5b66
    "}\n",
    "\"\"\"\n",
    "module = cuda_compiler.SourceModule(cuda_kernel)\n",
    "kernel = module.get_function(\"addMatrixKernel\");"
   ]
  },
  {
   "cell_type": "code",
<<<<<<< HEAD
   "execution_count": 5,
=======
   "execution_count": 13,
>>>>>>> 247aa5ec0b6a1de6fac00fda446ce11f995e5b66
   "metadata": {},
   "outputs": [
    {
     "data": {
<<<<<<< HEAD
      "text/plain": [
       "<bound method Figure.show of <Figure size 864x576 with 2 Axes>>"
      ]
     },
     "execution_count": 5,
     "metadata": {},
     "output_type": "execute_result"
    },
    {
     "data": {
      "image/png": "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\n",
      "text/plain": [
       "<Figure size 864x576 with 2 Axes>"
=======
      "image/png": "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\n",
      "text/plain": [
       "<matplotlib.figure.Figure at 0x7ff3e55cfb70>"
>>>>>>> 247aa5ec0b6a1de6fac00fda446ce11f995e5b66
      ]
     },
     "metadata": {
      "needs_background": "light"
     },
     "output_type": "display_data"
    }
   ],
   "source": [
    "#Size of our test\n",
<<<<<<< HEAD
    "test_size = (16,24)\n",
=======
    "test_size = (16, 24)\n",
>>>>>>> 247aa5ec0b6a1de6fac00fda446ce11f995e5b66
    "\n",
    "#Create test input / output data\n",
    "a = np.random.random(test_size).astype(np.float32)\n",
    "b = np.random.random(test_size).astype(np.float32)\n",
    "c = np.empty_like(a)\n",
    "\n",
    "fig = plt.figure(figsize=(12,8))\n",
    "plt.imshow(a)\n",
    "plt.colorbar()\n",
<<<<<<< HEAD
    "fig.show"
=======
    "fig.show()"
>>>>>>> 247aa5ec0b6a1de6fac00fda446ce11f995e5b66
   ]
  },
  {
   "cell_type": "code",
<<<<<<< HEAD
   "execution_count": 6,
=======
   "execution_count": 14,
>>>>>>> 247aa5ec0b6a1de6fac00fda446ce11f995e5b66
   "metadata": {},
   "outputs": [
    {
     "name": "stdout",
     "output_type": "stream",
     "text": [
      "(16, 24)\n"
     ]
    }
   ],
   "source": [
    "print(a.shape)"
   ]
  },
  {
   "cell_type": "code",
<<<<<<< HEAD
   "execution_count": 7,
=======
   "execution_count": 15,
>>>>>>> 247aa5ec0b6a1de6fac00fda446ce11f995e5b66
   "metadata": {},
   "outputs": [],
   "source": [
    "#Upload data to the device\n",
    "a_g = GPUArray(a.shape, np.float32)\n",
    "b_g = GPUArray(b.shape, np.float32)\n",
    "a_g.set(a)\n",
<<<<<<< HEAD
    "b_g.set(b)\n",
    "\n",
=======
    "b_g.set(b)"
   ]
  },
  {
   "cell_type": "code",
   "execution_count": 16,
   "metadata": {},
   "outputs": [],
   "source": [
>>>>>>> 247aa5ec0b6a1de6fac00fda446ce11f995e5b66
    "#Allocate output data\n",
    "c_g = GPUArray(c.shape, np.float32)"
   ]
  },
  {
   "cell_type": "code",
<<<<<<< HEAD
   "execution_count": 8,
=======
   "execution_count": 25,
>>>>>>> 247aa5ec0b6a1de6fac00fda446ce11f995e5b66
   "metadata": {},
   "outputs": [
    {
     "name": "stdout",
     "output_type": "stream",
     "text": [
<<<<<<< HEAD
      "Domain size is(24, 16)\n",
      "Block size is(8, 8, 1)\n",
      "grid size is(3, 2, 1)\n"
=======
      "Domain size is (24, 16)\n",
      "Block size is (8, 4, 1)\n",
      "Grid size is (3, 4, 1)\n"
>>>>>>> 247aa5ec0b6a1de6fac00fda446ce11f995e5b66
     ]
    }
   ],
   "source": [
<<<<<<< HEAD
    "#a.shape = [rows, columns] => [y,x]\n",
    "domain_size = (a.shape[1], a.shape[0])\n",
    "block_size = (8,8,1)\n",
    "grid_size = (domain_size[0] // block_size[0], domain_size[1] // block_size[1], 1)\n",
    "\n",
    "print(\"Domain size is\" + str(domain_size))\n",
    "print(\"Block size is\" + str(block_size))\n",
    "print(\"grid size is\" + str(grid_size))"
=======
    "#a.shape = [rows, columns] => [y, x]\n",
    "domain_size = (a.shape[1], a.shape[0]) # now domain size is [x, y]\n",
    "block_size = (8, 4, 1) #These need to be [x, y, z]\n",
    "grid_size = (domain_size[0] // block_size[0], domain_size[1] // block_size[1], 1)\n",
    "\n",
    "print(\"Domain size is \" + str(domain_size))\n",
    "print(\"Block size is \" + str(block_size))\n",
    "print(\"Grid size is \" + str(grid_size))"
>>>>>>> 247aa5ec0b6a1de6fac00fda446ce11f995e5b66
   ]
  },
  {
   "cell_type": "code",
<<<<<<< HEAD
   "execution_count": 9,
   "metadata": {},
   "outputs": [],
   "source": [
    "#Execute program on device\n",
    "#Be careful of the number of columns, which is domain_size[0]\n",
    "#in order to be sur to pass an int32, we use np.int32\n",
    "kernel(c_g, a_g, b_g, np.int32(domain_size[0]), block=block_size, grid=grid_size)"
   ]
  },
  {
   "cell_type": "code",
   "execution_count": 10,
=======
   "execution_count": 29,
>>>>>>> 247aa5ec0b6a1de6fac00fda446ce11f995e5b66
   "metadata": {},
   "outputs": [
    {
     "data": {
      "text/plain": [
<<<<<<< HEAD
       "array([[0.60322267, 1.0468098 , 1.1983753 , 1.9262348 , 0.89835006,\n",
       "        0.906222  , 1.4546161 , 1.6911205 , 1.978102  , 1.3054461 ,\n",
       "        1.0412226 , 1.35692   , 1.0133168 , 1.2303996 , 0.10033523,\n",
       "        1.2331028 , 1.5808566 , 1.2942475 , 0.5658936 , 0.8669513 ,\n",
       "        0.88242453, 1.2309461 , 0.82934564, 0.69193554],\n",
       "       [0.7168466 , 1.6120322 , 0.75725263, 1.157334  , 0.620676  ,\n",
       "        0.48420516, 0.4940294 , 1.6156669 , 1.105315  , 1.4619782 ,\n",
       "        0.62774295, 1.5831487 , 0.8725915 , 1.2806256 , 1.1019967 ,\n",
       "        1.5444654 , 1.162895  , 1.7543331 , 0.26421344, 1.0163856 ,\n",
       "        1.1796987 , 1.3012791 , 0.35339397, 0.40573174],\n",
       "       [1.6354585 , 1.4026561 , 1.5605586 , 0.26916593, 1.7632315 ,\n",
       "        0.3751415 , 0.72241926, 0.7698139 , 0.74775344, 0.7810175 ,\n",
       "        1.2501473 , 0.3789937 , 1.1904    , 0.5639826 , 1.3499365 ,\n",
       "        0.5003946 , 1.2212272 , 1.17519   , 1.2731848 , 0.99027365,\n",
       "        1.9214172 , 0.792005  , 1.4393531 , 0.5552401 ],\n",
       "       [1.6310323 , 1.4323742 , 1.4394674 , 0.9824313 , 0.20260848,\n",
       "        0.7571567 , 0.51081324, 0.98858726, 1.4202936 , 1.2065673 ,\n",
       "        0.44174558, 0.8911921 , 0.3639782 , 0.93059474, 1.7209935 ,\n",
       "        0.84164083, 1.284883  , 1.4625044 , 0.6014381 , 1.0777863 ,\n",
       "        0.6029905 , 0.6708625 , 1.2991055 , 1.5391129 ],\n",
       "       [1.1485084 , 1.2435647 , 1.1767273 , 0.9191135 , 0.63101935,\n",
       "        0.37020814, 1.0966072 , 1.076539  , 0.542154  , 1.2810491 ,\n",
       "        1.5016145 , 0.7866803 , 0.8514203 , 1.3940883 , 0.70581466,\n",
       "        1.551224  , 1.2518481 , 1.2649691 , 1.5193281 , 1.203485  ,\n",
       "        0.7930478 , 1.426892  , 0.7157978 , 0.33201343],\n",
       "       [0.8862651 , 1.011183  , 0.65784216, 0.46350494, 1.209239  ,\n",
       "        1.1669877 , 0.49741936, 0.72926915, 1.1426181 , 0.64136946,\n",
       "        1.558944  , 1.0272653 , 1.7217519 , 0.668938  , 1.2133468 ,\n",
       "        0.40099362, 0.5948678 , 1.1385906 , 0.58478403, 1.08863   ,\n",
       "        1.4806764 , 1.3525887 , 0.45253217, 0.8081757 ],\n",
       "       [1.7433097 , 0.6994705 , 0.69433165, 1.019089  , 0.8890346 ,\n",
       "        0.6025727 , 1.1681936 , 1.4138772 , 0.82210696, 0.52153915,\n",
       "        1.1271988 , 0.9508968 , 0.9713782 , 1.4018631 , 0.98951185,\n",
       "        0.9242028 , 0.4610624 , 0.9911142 , 1.353734  , 1.6801052 ,\n",
       "        1.2350438 , 1.4722986 , 1.5219601 , 0.9153894 ],\n",
       "       [0.6267245 , 0.52424675, 1.5485175 , 1.42834   , 1.6068562 ,\n",
       "        0.91755724, 0.83160293, 1.2079539 , 1.4155657 , 1.1069173 ,\n",
       "        0.59610426, 0.6188894 , 0.3920569 , 1.1594504 , 0.6826043 ,\n",
       "        1.100315  , 1.0579493 , 0.63590026, 0.9335899 , 1.1854875 ,\n",
       "        1.1497263 , 0.7757902 , 0.74684393, 1.1727026 ],\n",
       "       [0.85478836, 1.156169  , 0.36367574, 0.6202628 , 0.79001963,\n",
       "        1.2243454 , 1.3066607 , 1.2117168 , 0.6041934 , 0.13601074,\n",
       "        1.2746475 , 0.94570243, 1.0431576 , 1.2873147 , 1.1804416 ,\n",
       "        1.3414917 , 0.912102  , 0.7367116 , 1.5762236 , 1.0109661 ,\n",
       "        1.6120634 , 0.38138667, 0.6832311 , 0.5102203 ],\n",
       "       [1.50979   , 0.9401756 , 0.43925807, 0.13127331, 1.2020833 ,\n",
       "        0.95395905, 1.1955928 , 0.7111864 , 1.4664044 , 0.8224484 ,\n",
       "        0.82795525, 0.8910577 , 0.35625163, 0.47003365, 1.0866708 ,\n",
       "        1.0442944 , 1.6258311 , 0.8320414 , 1.0545318 , 1.1643783 ,\n",
       "        1.184213  , 1.1511245 , 1.5466684 , 0.7371241 ],\n",
       "       [0.5145764 , 1.319613  , 1.0414808 , 0.5837143 , 0.8450559 ,\n",
       "        1.2486473 , 1.1552936 , 1.0067132 , 1.8796751 , 1.3142956 ,\n",
       "        0.94735694, 1.2382154 , 1.2988327 , 0.27343974, 0.5210946 ,\n",
       "        0.5865929 , 0.50957745, 1.8036728 , 0.7847882 , 0.9316133 ,\n",
       "        1.2485898 , 1.256953  , 1.6185758 , 1.0821731 ],\n",
       "       [0.822012  , 1.4416392 , 1.4430637 , 0.8098394 , 0.705522  ,\n",
       "        0.21077575, 1.3064487 , 1.4875616 , 0.62011695, 1.328646  ,\n",
       "        0.6045274 , 1.0041995 , 0.88432175, 0.6400949 , 1.0545428 ,\n",
       "        0.10639927, 0.29672807, 0.6047482 , 0.7923242 , 1.1515739 ,\n",
       "        1.5134803 , 0.78813016, 1.0530972 , 1.6585193 ],\n",
       "       [0.56506455, 0.5270062 , 0.509964  , 0.9590681 , 0.6373201 ,\n",
       "        1.0230473 , 0.62895536, 0.759277  , 1.3303695 , 0.27601302,\n",
       "        0.5142789 , 0.11673883, 0.3596935 , 1.6608036 , 0.97236264,\n",
       "        1.3951573 , 0.89717627, 0.6065843 , 1.2728682 , 1.3160899 ,\n",
       "        1.4823694 , 0.52186245, 1.1924833 , 1.1335828 ],\n",
       "       [0.27605376, 0.80782473, 0.9886943 , 1.6621299 , 0.7295378 ,\n",
       "        1.3782997 , 1.8095515 , 0.8562267 , 0.80376047, 0.5757365 ,\n",
       "        0.98867834, 0.90088046, 0.75019646, 0.30581772, 0.5849701 ,\n",
       "        0.80223477, 1.1948868 , 0.5406758 , 0.2402701 , 0.49732155,\n",
       "        1.0898702 , 1.3779283 , 0.40763092, 1.6771045 ],\n",
       "       [0.49027765, 0.8427812 , 1.4476845 , 1.1215894 , 0.39942157,\n",
       "        0.7981601 , 1.4074719 , 1.6812236 , 0.764687  , 0.7172917 ,\n",
       "        1.2786666 , 0.7955405 , 1.7353091 , 1.690691  , 0.66382784,\n",
       "        0.79891384, 0.15837313, 1.3082771 , 0.5201666 , 1.3752239 ,\n",
       "        0.93522507, 0.5348663 , 0.876263  , 0.6086612 ],\n",
       "       [0.74650633, 1.1748239 , 0.5754337 , 1.25547   , 0.8436613 ,\n",
       "        0.78987026, 1.5766199 , 1.5118866 , 1.2604532 , 1.0463994 ,\n",
       "        0.15027907, 1.1043981 , 0.74550885, 0.63417816, 0.8037693 ,\n",
       "        1.1730917 , 0.8728522 , 1.1291479 , 0.6877918 , 1.1307448 ,\n",
       "        0.785441  , 1.4685528 , 0.8188604 , 0.44679728]], dtype=float32)"
      ]
     },
     "execution_count": 10,
=======
       "array([[1.331604  , 0.6833059 , 1.6361595 , 0.7412193 , 1.4187589 ,\n",
       "        1.2796102 , 0.92713153, 1.1710606 , 0.79203516, 1.1588718 ,\n",
       "        1.0635885 , 0.5272921 , 1.7265787 , 0.8416593 , 0.86052036,\n",
       "        1.4796038 , 0.70685595, 1.2922579 , 0.718171  , 1.3839214 ,\n",
       "        1.4730489 , 1.3551692 , 0.2448189 , 1.1604248 ],\n",
       "       [1.5403695 , 0.5332219 , 1.5351458 , 1.0697228 , 0.23758158,\n",
       "        0.835173  , 1.0787506 , 0.37792388, 1.0672488 , 1.19579   ,\n",
       "        0.48136014, 0.6498078 , 1.7323378 , 0.5584149 , 1.6462158 ,\n",
       "        1.2277045 , 1.2710173 , 1.0891317 , 1.173923  , 0.9569369 ,\n",
       "        0.73041314, 1.2151816 , 0.35225147, 0.9852752 ],\n",
       "       [0.9849657 , 1.0954164 , 1.7332226 , 1.2962323 , 1.1550025 ,\n",
       "        1.3515822 , 0.86592674, 0.87610614, 1.5513527 , 1.2079406 ,\n",
       "        1.6343534 , 1.2156935 , 1.007573  , 1.176581  , 1.5586231 ,\n",
       "        1.3250573 , 0.31843144, 1.3348824 , 1.3106498 , 1.2382176 ,\n",
       "        0.3173633 , 0.9997216 , 1.2932045 , 0.6015496 ],\n",
       "       [1.2099931 , 1.142343  , 0.7815242 , 0.97876096, 1.2704113 ,\n",
       "        1.0435803 , 0.14882839, 0.9634764 , 0.77041924, 1.7484229 ,\n",
       "        0.83989435, 0.81586283, 0.90195084, 0.97498876, 0.91527796,\n",
       "        1.4168038 , 0.54014534, 0.70552576, 1.4704032 , 1.6885135 ,\n",
       "        0.9307481 , 0.311371  , 1.6131444 , 1.4010108 ],\n",
       "       [0.52883697, 1.2226299 , 1.5495481 , 1.6866093 , 0.3919881 ,\n",
       "        0.9872174 , 0.9758967 , 1.4324315 , 1.5812829 , 1.3813102 ,\n",
       "        0.69817555, 1.0501463 , 0.84195626, 1.3027716 , 0.9520278 ,\n",
       "        0.714751  , 0.28647274, 1.2583158 , 0.53052735, 0.55903506,\n",
       "        1.9276714 , 1.136666  , 1.1137512 , 0.7154042 ],\n",
       "       [0.5418538 , 1.1263634 , 1.7234862 , 1.4638556 , 1.134659  ,\n",
       "        1.9541193 , 0.48113394, 1.3573753 , 0.7419594 , 1.4146806 ,\n",
       "        0.43936557, 0.33201855, 0.84574074, 0.14611226, 1.6778824 ,\n",
       "        0.68948597, 0.62597924, 0.42427623, 0.4951735 , 0.7227949 ,\n",
       "        0.47076342, 0.9309274 , 1.1309426 , 0.9736324 ],\n",
       "       [1.1016767 , 1.0599016 , 1.4678906 , 1.332289  , 0.80333424,\n",
       "        0.5993724 , 1.469037  , 0.85842836, 0.8787304 , 0.7684014 ,\n",
       "        1.4358156 , 1.1755805 , 0.22836804, 0.92374206, 0.37192363,\n",
       "        0.9591299 , 1.2162548 , 1.1842074 , 1.1242378 , 0.8089615 ,\n",
       "        1.6228442 , 1.4803863 , 0.3908779 , 1.2930924 ],\n",
       "       [1.5074435 , 1.5348939 , 0.62653506, 0.59989053, 1.135874  ,\n",
       "        1.0533608 , 0.9115766 , 1.045094  , 0.73103106, 0.44957748,\n",
       "        1.4724205 , 1.8367321 , 0.4859442 , 1.1960237 , 0.65887475,\n",
       "        1.0019488 , 0.26553532, 1.4807353 , 1.1921852 , 0.70591086,\n",
       "        1.0249603 , 1.5467441 , 0.3630401 , 1.4237354 ],\n",
       "       [0.8264537 , 0.77747273, 1.272383  , 1.3925457 , 1.8280321 ,\n",
       "        0.90450007, 1.2762089 , 0.790227  , 0.37747473, 1.1752946 ,\n",
       "        1.5354701 , 0.88657147, 1.3157408 , 1.1490252 , 1.5638857 ,\n",
       "        1.1509048 , 1.1527188 , 1.1714513 , 0.7819862 , 0.73664224,\n",
       "        0.9434192 , 1.222867  , 0.62682927, 1.5819656 ],\n",
       "       [1.6193749 , 0.86294174, 1.0825241 , 0.7398224 , 0.48677555,\n",
       "        1.2468616 , 0.97957224, 0.6678404 , 0.5502474 , 1.1322505 ,\n",
       "        1.3267959 , 1.5912379 , 1.3003594 , 0.9608356 , 1.8473697 ,\n",
       "        0.9600488 , 1.6457586 , 0.6560899 , 0.14340994, 1.1609769 ,\n",
       "        0.8261478 , 0.32503957, 1.3335187 , 1.2967231 ],\n",
       "       [0.06578512, 0.7089634 , 1.6504041 , 0.5461605 , 1.2798033 ,\n",
       "        1.0239997 , 1.0606834 , 0.0848318 , 1.2487991 , 1.1140056 ,\n",
       "        1.1973877 , 1.2741135 , 0.6002495 , 1.3237501 , 1.3075651 ,\n",
       "        0.7100576 , 0.63070613, 1.4151616 , 1.3304859 , 0.8402663 ,\n",
       "        1.7901063 , 0.02911417, 0.6653584 , 1.0083076 ],\n",
       "       [1.1934117 , 0.69911563, 0.65754044, 1.0493009 , 1.0093293 ,\n",
       "        0.8519603 , 1.466371  , 0.77106845, 0.59979737, 1.0319153 ,\n",
       "        1.2899721 , 1.1506875 , 1.2302842 , 0.84917927, 1.0494249 ,\n",
       "        1.15307   , 0.62838423, 1.4768658 , 0.4619069 , 1.3207594 ,\n",
       "        0.7423539 , 0.37508976, 1.4242516 , 1.1532471 ],\n",
       "       [0.9541234 , 1.1186715 , 1.7931845 , 1.0316889 , 1.2504401 ,\n",
       "        0.9439659 , 0.66701806, 1.4410043 , 1.0124669 , 0.6199204 ,\n",
       "        0.40804452, 0.93809557, 1.2933025 , 0.7593315 , 1.167105  ,\n",
       "        0.6592523 , 0.5141581 , 1.0741699 , 1.192347  , 1.4283428 ,\n",
       "        0.8130394 , 0.97617275, 1.102017  , 0.6470416 ],\n",
       "       [1.191974  , 0.3110353 , 0.79333735, 1.5544597 , 1.0851258 ,\n",
       "        1.303006  , 0.6597192 , 1.0986412 , 0.9217187 , 0.8941255 ,\n",
       "        0.8537669 , 0.7724462 , 1.4538298 , 1.4216008 , 1.3197851 ,\n",
       "        0.43378296, 0.9756912 , 1.4270505 , 1.3412316 , 1.1023518 ,\n",
       "        0.6552944 , 0.4685375 , 1.4641917 , 0.9277009 ],\n",
       "       [0.4559585 , 1.0225685 , 1.2442564 , 1.6752286 , 1.6869185 ,\n",
       "        0.9095069 , 1.2226411 , 0.6153308 , 0.9437048 , 1.3746622 ,\n",
       "        1.2268876 , 0.4918446 , 0.9999112 , 0.62661684, 1.4000329 ,\n",
       "        1.2429758 , 0.73616225, 1.4666274 , 0.42943072, 1.713269  ,\n",
       "        0.615967  , 0.9519759 , 0.5921532 , 0.7736093 ],\n",
       "       [0.7677194 , 1.382483  , 0.7222274 , 1.8858442 , 0.91562474,\n",
       "        0.42801374, 0.0907509 , 1.1215321 , 1.0063664 , 0.6824803 ,\n",
       "        1.6156087 , 1.2599336 , 1.081613  , 1.7363021 , 1.0447319 ,\n",
       "        0.5159998 , 1.6162101 , 0.7984853 , 0.7861936 , 1.6100005 ,\n",
       "        1.193196  , 1.877456  , 1.3619106 , 0.87117046]], dtype=float32)"
      ]
     },
     "execution_count": 29,
>>>>>>> 247aa5ec0b6a1de6fac00fda446ce11f995e5b66
     "metadata": {},
     "output_type": "execute_result"
    }
   ],
   "source": [
<<<<<<< HEAD
=======
    "#Execute program on device\n",
    "kernel(c_g, a_g, b_g, np.int32(domain_size[0]), block=block_size, grid=grid_size)\n",
    "\n",
>>>>>>> 247aa5ec0b6a1de6fac00fda446ce11f995e5b66
    "#Copy data from device to host\n",
    "c_g.get(c)"
   ]
  },
  {
   "cell_type": "code",
<<<<<<< HEAD
   "execution_count": 11,
=======
   "execution_count": 30,
>>>>>>> 247aa5ec0b6a1de6fac00fda446ce11f995e5b66
   "metadata": {},
   "outputs": [
    {
     "name": "stdout",
     "output_type": "stream",
     "text": [
<<<<<<< HEAD
      "('C   = ', array([[0.60322267, 1.0468098 , 1.1983753 , 1.9262348 , 0.89835006,\n",
      "        0.906222  , 1.4546161 , 1.6911205 , 1.978102  , 1.3054461 ,\n",
      "        1.0412226 , 1.35692   , 1.0133168 , 1.2303996 , 0.10033523,\n",
      "        1.2331028 , 1.5808566 , 1.2942475 , 0.5658936 , 0.8669513 ,\n",
      "        0.88242453, 1.2309461 , 0.82934564, 0.69193554],\n",
      "       [0.7168466 , 1.6120322 , 0.75725263, 1.157334  , 0.620676  ,\n",
      "        0.48420516, 0.4940294 , 1.6156669 , 1.105315  , 1.4619782 ,\n",
      "        0.62774295, 1.5831487 , 0.8725915 , 1.2806256 , 1.1019967 ,\n",
      "        1.5444654 , 1.162895  , 1.7543331 , 0.26421344, 1.0163856 ,\n",
      "        1.1796987 , 1.3012791 , 0.35339397, 0.40573174],\n",
      "       [1.6354585 , 1.4026561 , 1.5605586 , 0.26916593, 1.7632315 ,\n",
      "        0.3751415 , 0.72241926, 0.7698139 , 0.74775344, 0.7810175 ,\n",
      "        1.2501473 , 0.3789937 , 1.1904    , 0.5639826 , 1.3499365 ,\n",
      "        0.5003946 , 1.2212272 , 1.17519   , 1.2731848 , 0.99027365,\n",
      "        1.9214172 , 0.792005  , 1.4393531 , 0.5552401 ],\n",
      "       [1.6310323 , 1.4323742 , 1.4394674 , 0.9824313 , 0.20260848,\n",
      "        0.7571567 , 0.51081324, 0.98858726, 1.4202936 , 1.2065673 ,\n",
      "        0.44174558, 0.8911921 , 0.3639782 , 0.93059474, 1.7209935 ,\n",
      "        0.84164083, 1.284883  , 1.4625044 , 0.6014381 , 1.0777863 ,\n",
      "        0.6029905 , 0.6708625 , 1.2991055 , 1.5391129 ],\n",
      "       [1.1485084 , 1.2435647 , 1.1767273 , 0.9191135 , 0.63101935,\n",
      "        0.37020814, 1.0966072 , 1.076539  , 0.542154  , 1.2810491 ,\n",
      "        1.5016145 , 0.7866803 , 0.8514203 , 1.3940883 , 0.70581466,\n",
      "        1.551224  , 1.2518481 , 1.2649691 , 1.5193281 , 1.203485  ,\n",
      "        0.7930478 , 1.426892  , 0.7157978 , 0.33201343],\n",
      "       [0.8862651 , 1.011183  , 0.65784216, 0.46350494, 1.209239  ,\n",
      "        1.1669877 , 0.49741936, 0.72926915, 1.1426181 , 0.64136946,\n",
      "        1.558944  , 1.0272653 , 1.7217519 , 0.668938  , 1.2133468 ,\n",
      "        0.40099362, 0.5948678 , 1.1385906 , 0.58478403, 1.08863   ,\n",
      "        1.4806764 , 1.3525887 , 0.45253217, 0.8081757 ],\n",
      "       [1.7433097 , 0.6994705 , 0.69433165, 1.019089  , 0.8890346 ,\n",
      "        0.6025727 , 1.1681936 , 1.4138772 , 0.82210696, 0.52153915,\n",
      "        1.1271988 , 0.9508968 , 0.9713782 , 1.4018631 , 0.98951185,\n",
      "        0.9242028 , 0.4610624 , 0.9911142 , 1.353734  , 1.6801052 ,\n",
      "        1.2350438 , 1.4722986 , 1.5219601 , 0.9153894 ],\n",
      "       [0.6267245 , 0.52424675, 1.5485175 , 1.42834   , 1.6068562 ,\n",
      "        0.91755724, 0.83160293, 1.2079539 , 1.4155657 , 1.1069173 ,\n",
      "        0.59610426, 0.6188894 , 0.3920569 , 1.1594504 , 0.6826043 ,\n",
      "        1.100315  , 1.0579493 , 0.63590026, 0.9335899 , 1.1854875 ,\n",
      "        1.1497263 , 0.7757902 , 0.74684393, 1.1727026 ],\n",
      "       [0.85478836, 1.156169  , 0.36367574, 0.6202628 , 0.79001963,\n",
      "        1.2243454 , 1.3066607 , 1.2117168 , 0.6041934 , 0.13601074,\n",
      "        1.2746475 , 0.94570243, 1.0431576 , 1.2873147 , 1.1804416 ,\n",
      "        1.3414917 , 0.912102  , 0.7367116 , 1.5762236 , 1.0109661 ,\n",
      "        1.6120634 , 0.38138667, 0.6832311 , 0.5102203 ],\n",
      "       [1.50979   , 0.9401756 , 0.43925807, 0.13127331, 1.2020833 ,\n",
      "        0.95395905, 1.1955928 , 0.7111864 , 1.4664044 , 0.8224484 ,\n",
      "        0.82795525, 0.8910577 , 0.35625163, 0.47003365, 1.0866708 ,\n",
      "        1.0442944 , 1.6258311 , 0.8320414 , 1.0545318 , 1.1643783 ,\n",
      "        1.184213  , 1.1511245 , 1.5466684 , 0.7371241 ],\n",
      "       [0.5145764 , 1.319613  , 1.0414808 , 0.5837143 , 0.8450559 ,\n",
      "        1.2486473 , 1.1552936 , 1.0067132 , 1.8796751 , 1.3142956 ,\n",
      "        0.94735694, 1.2382154 , 1.2988327 , 0.27343974, 0.5210946 ,\n",
      "        0.5865929 , 0.50957745, 1.8036728 , 0.7847882 , 0.9316133 ,\n",
      "        1.2485898 , 1.256953  , 1.6185758 , 1.0821731 ],\n",
      "       [0.822012  , 1.4416392 , 1.4430637 , 0.8098394 , 0.705522  ,\n",
      "        0.21077575, 1.3064487 , 1.4875616 , 0.62011695, 1.328646  ,\n",
      "        0.6045274 , 1.0041995 , 0.88432175, 0.6400949 , 1.0545428 ,\n",
      "        0.10639927, 0.29672807, 0.6047482 , 0.7923242 , 1.1515739 ,\n",
      "        1.5134803 , 0.78813016, 1.0530972 , 1.6585193 ],\n",
      "       [0.56506455, 0.5270062 , 0.509964  , 0.9590681 , 0.6373201 ,\n",
      "        1.0230473 , 0.62895536, 0.759277  , 1.3303695 , 0.27601302,\n",
      "        0.5142789 , 0.11673883, 0.3596935 , 1.6608036 , 0.97236264,\n",
      "        1.3951573 , 0.89717627, 0.6065843 , 1.2728682 , 1.3160899 ,\n",
      "        1.4823694 , 0.52186245, 1.1924833 , 1.1335828 ],\n",
      "       [0.27605376, 0.80782473, 0.9886943 , 1.6621299 , 0.7295378 ,\n",
      "        1.3782997 , 1.8095515 , 0.8562267 , 0.80376047, 0.5757365 ,\n",
      "        0.98867834, 0.90088046, 0.75019646, 0.30581772, 0.5849701 ,\n",
      "        0.80223477, 1.1948868 , 0.5406758 , 0.2402701 , 0.49732155,\n",
      "        1.0898702 , 1.3779283 , 0.40763092, 1.6771045 ],\n",
      "       [0.49027765, 0.8427812 , 1.4476845 , 1.1215894 , 0.39942157,\n",
      "        0.7981601 , 1.4074719 , 1.6812236 , 0.764687  , 0.7172917 ,\n",
      "        1.2786666 , 0.7955405 , 1.7353091 , 1.690691  , 0.66382784,\n",
      "        0.79891384, 0.15837313, 1.3082771 , 0.5201666 , 1.3752239 ,\n",
      "        0.93522507, 0.5348663 , 0.876263  , 0.6086612 ],\n",
      "       [0.74650633, 1.1748239 , 0.5754337 , 1.25547   , 0.8436613 ,\n",
      "        0.78987026, 1.5766199 , 1.5118866 , 1.2604532 , 1.0463994 ,\n",
      "        0.15027907, 1.1043981 , 0.74550885, 0.63417816, 0.8037693 ,\n",
      "        1.1730917 , 0.8728522 , 1.1291479 , 0.6877918 , 1.1307448 ,\n",
      "        0.785441  , 1.4685528 , 0.8188604 , 0.44679728]], dtype=float32))\n",
      "('Ref = ', array([[0.60322267, 1.0468098 , 1.1983753 , 1.9262348 , 0.89835006,\n",
      "        0.906222  , 1.4546161 , 1.6911205 , 1.978102  , 1.3054461 ,\n",
      "        1.0412226 , 1.35692   , 1.0133168 , 1.2303996 , 0.10033523,\n",
      "        1.2331028 , 1.5808566 , 1.2942475 , 0.5658936 , 0.8669513 ,\n",
      "        0.88242453, 1.2309461 , 0.82934564, 0.69193554],\n",
      "       [0.7168466 , 1.6120322 , 0.75725263, 1.157334  , 0.620676  ,\n",
      "        0.48420516, 0.4940294 , 1.6156669 , 1.105315  , 1.4619782 ,\n",
      "        0.62774295, 1.5831487 , 0.8725915 , 1.2806256 , 1.1019967 ,\n",
      "        1.5444654 , 1.162895  , 1.7543331 , 0.26421344, 1.0163856 ,\n",
      "        1.1796987 , 1.3012791 , 0.35339397, 0.40573174],\n",
      "       [1.6354585 , 1.4026561 , 1.5605586 , 0.26916593, 1.7632315 ,\n",
      "        0.3751415 , 0.72241926, 0.7698139 , 0.74775344, 0.7810175 ,\n",
      "        1.2501473 , 0.3789937 , 1.1904    , 0.5639826 , 1.3499365 ,\n",
      "        0.5003946 , 1.2212272 , 1.17519   , 1.2731848 , 0.99027365,\n",
      "        1.9214172 , 0.792005  , 1.4393531 , 0.5552401 ],\n",
      "       [1.6310323 , 1.4323742 , 1.4394674 , 0.9824313 , 0.20260848,\n",
      "        0.7571567 , 0.51081324, 0.98858726, 1.4202936 , 1.2065673 ,\n",
      "        0.44174558, 0.8911921 , 0.3639782 , 0.93059474, 1.7209935 ,\n",
      "        0.84164083, 1.284883  , 1.4625044 , 0.6014381 , 1.0777863 ,\n",
      "        0.6029905 , 0.6708625 , 1.2991055 , 1.5391129 ],\n",
      "       [1.1485084 , 1.2435647 , 1.1767273 , 0.9191135 , 0.63101935,\n",
      "        0.37020814, 1.0966072 , 1.076539  , 0.542154  , 1.2810491 ,\n",
      "        1.5016145 , 0.7866803 , 0.8514203 , 1.3940883 , 0.70581466,\n",
      "        1.551224  , 1.2518481 , 1.2649691 , 1.5193281 , 1.203485  ,\n",
      "        0.7930478 , 1.426892  , 0.7157978 , 0.33201343],\n",
      "       [0.8862651 , 1.011183  , 0.65784216, 0.46350494, 1.209239  ,\n",
      "        1.1669877 , 0.49741936, 0.72926915, 1.1426181 , 0.64136946,\n",
      "        1.558944  , 1.0272653 , 1.7217519 , 0.668938  , 1.2133468 ,\n",
      "        0.40099362, 0.5948678 , 1.1385906 , 0.58478403, 1.08863   ,\n",
      "        1.4806764 , 1.3525887 , 0.45253217, 0.8081757 ],\n",
      "       [1.7433097 , 0.6994705 , 0.69433165, 1.019089  , 0.8890346 ,\n",
      "        0.6025727 , 1.1681936 , 1.4138772 , 0.82210696, 0.52153915,\n",
      "        1.1271988 , 0.9508968 , 0.9713782 , 1.4018631 , 0.98951185,\n",
      "        0.9242028 , 0.4610624 , 0.9911142 , 1.353734  , 1.6801052 ,\n",
      "        1.2350438 , 1.4722986 , 1.5219601 , 0.9153894 ],\n",
      "       [0.6267245 , 0.52424675, 1.5485175 , 1.42834   , 1.6068562 ,\n",
      "        0.91755724, 0.83160293, 1.2079539 , 1.4155657 , 1.1069173 ,\n",
      "        0.59610426, 0.6188894 , 0.3920569 , 1.1594504 , 0.6826043 ,\n",
      "        1.100315  , 1.0579493 , 0.63590026, 0.9335899 , 1.1854875 ,\n",
      "        1.1497263 , 0.7757902 , 0.74684393, 1.1727026 ],\n",
      "       [0.85478836, 1.156169  , 0.36367574, 0.6202628 , 0.79001963,\n",
      "        1.2243454 , 1.3066607 , 1.2117168 , 0.6041934 , 0.13601074,\n",
      "        1.2746475 , 0.94570243, 1.0431576 , 1.2873147 , 1.1804416 ,\n",
      "        1.3414917 , 0.912102  , 0.7367116 , 1.5762236 , 1.0109661 ,\n",
      "        1.6120634 , 0.38138667, 0.6832311 , 0.5102203 ],\n",
      "       [1.50979   , 0.9401756 , 0.43925807, 0.13127331, 1.2020833 ,\n",
      "        0.95395905, 1.1955928 , 0.7111864 , 1.4664044 , 0.8224484 ,\n",
      "        0.82795525, 0.8910577 , 0.35625163, 0.47003365, 1.0866708 ,\n",
      "        1.0442944 , 1.6258311 , 0.8320414 , 1.0545318 , 1.1643783 ,\n",
      "        1.184213  , 1.1511245 , 1.5466684 , 0.7371241 ],\n",
      "       [0.5145764 , 1.319613  , 1.0414808 , 0.5837143 , 0.8450559 ,\n",
      "        1.2486473 , 1.1552936 , 1.0067132 , 1.8796751 , 1.3142956 ,\n",
      "        0.94735694, 1.2382154 , 1.2988327 , 0.27343974, 0.5210946 ,\n",
      "        0.5865929 , 0.50957745, 1.8036728 , 0.7847882 , 0.9316133 ,\n",
      "        1.2485898 , 1.256953  , 1.6185758 , 1.0821731 ],\n",
      "       [0.822012  , 1.4416392 , 1.4430637 , 0.8098394 , 0.705522  ,\n",
      "        0.21077575, 1.3064487 , 1.4875616 , 0.62011695, 1.328646  ,\n",
      "        0.6045274 , 1.0041995 , 0.88432175, 0.6400949 , 1.0545428 ,\n",
      "        0.10639927, 0.29672807, 0.6047482 , 0.7923242 , 1.1515739 ,\n",
      "        1.5134803 , 0.78813016, 1.0530972 , 1.6585193 ],\n",
      "       [0.56506455, 0.5270062 , 0.509964  , 0.9590681 , 0.6373201 ,\n",
      "        1.0230473 , 0.62895536, 0.759277  , 1.3303695 , 0.27601302,\n",
      "        0.5142789 , 0.11673883, 0.3596935 , 1.6608036 , 0.97236264,\n",
      "        1.3951573 , 0.89717627, 0.6065843 , 1.2728682 , 1.3160899 ,\n",
      "        1.4823694 , 0.52186245, 1.1924833 , 1.1335828 ],\n",
      "       [0.27605376, 0.80782473, 0.9886943 , 1.6621299 , 0.7295378 ,\n",
      "        1.3782997 , 1.8095515 , 0.8562267 , 0.80376047, 0.5757365 ,\n",
      "        0.98867834, 0.90088046, 0.75019646, 0.30581772, 0.5849701 ,\n",
      "        0.80223477, 1.1948868 , 0.5406758 , 0.2402701 , 0.49732155,\n",
      "        1.0898702 , 1.3779283 , 0.40763092, 1.6771045 ],\n",
      "       [0.49027765, 0.8427812 , 1.4476845 , 1.1215894 , 0.39942157,\n",
      "        0.7981601 , 1.4074719 , 1.6812236 , 0.764687  , 0.7172917 ,\n",
      "        1.2786666 , 0.7955405 , 1.7353091 , 1.690691  , 0.66382784,\n",
      "        0.79891384, 0.15837313, 1.3082771 , 0.5201666 , 1.3752239 ,\n",
      "        0.93522507, 0.5348663 , 0.876263  , 0.6086612 ],\n",
      "       [0.74650633, 1.1748239 , 0.5754337 , 1.25547   , 0.8436613 ,\n",
      "        0.78987026, 1.5766199 , 1.5118866 , 1.2604532 , 1.0463994 ,\n",
      "        0.15027907, 1.1043981 , 0.74550885, 0.63417816, 0.8037693 ,\n",
      "        1.1730917 , 0.8728522 , 1.1291479 , 0.6877918 , 1.1307448 ,\n",
      "        0.785441  , 1.4685528 , 0.8188604 , 0.44679728]], dtype=float32))\n",
      "('Sad = ', 0.0)\n"
=======
      "C   =  [[1.331604   0.6833059  1.6361595  0.7412193  1.4187589  1.2796102\n",
      "  0.92713153 1.1710606  0.79203516 1.1588718  1.0635885  0.5272921\n",
      "  1.7265787  0.8416593  0.86052036 1.4796038  0.70685595 1.2922579\n",
      "  0.718171   1.3839214  1.4730489  1.3551692  0.2448189  1.1604248 ]\n",
      " [1.5403695  0.5332219  1.5351458  1.0697228  0.23758158 0.835173\n",
      "  1.0787506  0.37792388 1.0672488  1.19579    0.48136014 0.6498078\n",
      "  1.7323378  0.5584149  1.6462158  1.2277045  1.2710173  1.0891317\n",
      "  1.173923   0.9569369  0.73041314 1.2151816  0.35225147 0.9852752 ]\n",
      " [0.9849657  1.0954164  1.7332226  1.2962323  1.1550025  1.3515822\n",
      "  0.86592674 0.87610614 1.5513527  1.2079406  1.6343534  1.2156935\n",
      "  1.007573   1.176581   1.5586231  1.3250573  0.31843144 1.3348824\n",
      "  1.3106498  1.2382176  0.3173633  0.9997216  1.2932045  0.6015496 ]\n",
      " [1.2099931  1.142343   0.7815242  0.97876096 1.2704113  1.0435803\n",
      "  0.14882839 0.9634764  0.77041924 1.7484229  0.83989435 0.81586283\n",
      "  0.90195084 0.97498876 0.91527796 1.4168038  0.54014534 0.70552576\n",
      "  1.4704032  1.6885135  0.9307481  0.311371   1.6131444  1.4010108 ]\n",
      " [0.52883697 1.2226299  1.5495481  1.6866093  0.3919881  0.9872174\n",
      "  0.9758967  1.4324315  1.5812829  1.3813102  0.69817555 1.0501463\n",
      "  0.84195626 1.3027716  0.9520278  0.714751   0.28647274 1.2583158\n",
      "  0.53052735 0.55903506 1.9276714  1.136666   1.1137512  0.7154042 ]\n",
      " [0.5418538  1.1263634  1.7234862  1.4638556  1.134659   1.9541193\n",
      "  0.48113394 1.3573753  0.7419594  1.4146806  0.43936557 0.33201855\n",
      "  0.84574074 0.14611226 1.6778824  0.68948597 0.62597924 0.42427623\n",
      "  0.4951735  0.7227949  0.47076342 0.9309274  1.1309426  0.9736324 ]\n",
      " [1.1016767  1.0599016  1.4678906  1.332289   0.80333424 0.5993724\n",
      "  1.469037   0.85842836 0.8787304  0.7684014  1.4358156  1.1755805\n",
      "  0.22836804 0.92374206 0.37192363 0.9591299  1.2162548  1.1842074\n",
      "  1.1242378  0.8089615  1.6228442  1.4803863  0.3908779  1.2930924 ]\n",
      " [1.5074435  1.5348939  0.62653506 0.59989053 1.135874   1.0533608\n",
      "  0.9115766  1.045094   0.73103106 0.44957748 1.4724205  1.8367321\n",
      "  0.4859442  1.1960237  0.65887475 1.0019488  0.26553532 1.4807353\n",
      "  1.1921852  0.70591086 1.0249603  1.5467441  0.3630401  1.4237354 ]\n",
      " [0.8264537  0.77747273 1.272383   1.3925457  1.8280321  0.90450007\n",
      "  1.2762089  0.790227   0.37747473 1.1752946  1.5354701  0.88657147\n",
      "  1.3157408  1.1490252  1.5638857  1.1509048  1.1527188  1.1714513\n",
      "  0.7819862  0.73664224 0.9434192  1.222867   0.62682927 1.5819656 ]\n",
      " [1.6193749  0.86294174 1.0825241  0.7398224  0.48677555 1.2468616\n",
      "  0.97957224 0.6678404  0.5502474  1.1322505  1.3267959  1.5912379\n",
      "  1.3003594  0.9608356  1.8473697  0.9600488  1.6457586  0.6560899\n",
      "  0.14340994 1.1609769  0.8261478  0.32503957 1.3335187  1.2967231 ]\n",
      " [0.06578512 0.7089634  1.6504041  0.5461605  1.2798033  1.0239997\n",
      "  1.0606834  0.0848318  1.2487991  1.1140056  1.1973877  1.2741135\n",
      "  0.6002495  1.3237501  1.3075651  0.7100576  0.63070613 1.4151616\n",
      "  1.3304859  0.8402663  1.7901063  0.02911417 0.6653584  1.0083076 ]\n",
      " [1.1934117  0.69911563 0.65754044 1.0493009  1.0093293  0.8519603\n",
      "  1.466371   0.77106845 0.59979737 1.0319153  1.2899721  1.1506875\n",
      "  1.2302842  0.84917927 1.0494249  1.15307    0.62838423 1.4768658\n",
      "  0.4619069  1.3207594  0.7423539  0.37508976 1.4242516  1.1532471 ]\n",
      " [0.9541234  1.1186715  1.7931845  1.0316889  1.2504401  0.9439659\n",
      "  0.66701806 1.4410043  1.0124669  0.6199204  0.40804452 0.93809557\n",
      "  1.2933025  0.7593315  1.167105   0.6592523  0.5141581  1.0741699\n",
      "  1.192347   1.4283428  0.8130394  0.97617275 1.102017   0.6470416 ]\n",
      " [1.191974   0.3110353  0.79333735 1.5544597  1.0851258  1.303006\n",
      "  0.6597192  1.0986412  0.9217187  0.8941255  0.8537669  0.7724462\n",
      "  1.4538298  1.4216008  1.3197851  0.43378296 0.9756912  1.4270505\n",
      "  1.3412316  1.1023518  0.6552944  0.4685375  1.4641917  0.9277009 ]\n",
      " [0.4559585  1.0225685  1.2442564  1.6752286  1.6869185  0.9095069\n",
      "  1.2226411  0.6153308  0.9437048  1.3746622  1.2268876  0.4918446\n",
      "  0.9999112  0.62661684 1.4000329  1.2429758  0.73616225 1.4666274\n",
      "  0.42943072 1.713269   0.615967   0.9519759  0.5921532  0.7736093 ]\n",
      " [0.7677194  1.382483   0.7222274  1.8858442  0.91562474 0.42801374\n",
      "  0.0907509  1.1215321  1.0063664  0.6824803  1.6156087  1.2599336\n",
      "  1.081613   1.7363021  1.0447319  0.5159998  1.6162101  0.7984853\n",
      "  0.7861936  1.6100005  1.193196   1.877456   1.3619106  0.87117046]]\n",
      "Ref =  [[1.331604   0.6833059  1.6361595  0.7412193  1.4187589  1.2796102\n",
      "  0.92713153 1.1710606  0.79203516 1.1588718  1.0635885  0.5272921\n",
      "  1.7265787  0.8416593  0.86052036 1.4796038  0.70685595 1.2922579\n",
      "  0.718171   1.3839214  1.4730489  1.3551692  0.2448189  1.1604248 ]\n",
      " [1.5403695  0.5332219  1.5351458  1.0697228  0.23758158 0.835173\n",
      "  1.0787506  0.37792388 1.0672488  1.19579    0.48136014 0.6498078\n",
      "  1.7323378  0.5584149  1.6462158  1.2277045  1.2710173  1.0891317\n",
      "  1.173923   0.9569369  0.73041314 1.2151816  0.35225147 0.9852752 ]\n",
      " [0.9849657  1.0954164  1.7332226  1.2962323  1.1550025  1.3515822\n",
      "  0.86592674 0.87610614 1.5513527  1.2079406  1.6343534  1.2156935\n",
      "  1.007573   1.176581   1.5586231  1.3250573  0.31843144 1.3348824\n",
      "  1.3106498  1.2382176  0.3173633  0.9997216  1.2932045  0.6015496 ]\n",
      " [1.2099931  1.142343   0.7815242  0.97876096 1.2704113  1.0435803\n",
      "  0.14882839 0.9634764  0.77041924 1.7484229  0.83989435 0.81586283\n",
      "  0.90195084 0.97498876 0.91527796 1.4168038  0.54014534 0.70552576\n",
      "  1.4704032  1.6885135  0.9307481  0.311371   1.6131444  1.4010108 ]\n",
      " [0.52883697 1.2226299  1.5495481  1.6866093  0.3919881  0.9872174\n",
      "  0.9758967  1.4324315  1.5812829  1.3813102  0.69817555 1.0501463\n",
      "  0.84195626 1.3027716  0.9520278  0.714751   0.28647274 1.2583158\n",
      "  0.53052735 0.55903506 1.9276714  1.136666   1.1137512  0.7154042 ]\n",
      " [0.5418538  1.1263634  1.7234862  1.4638556  1.134659   1.9541193\n",
      "  0.48113394 1.3573753  0.7419594  1.4146806  0.43936557 0.33201855\n",
      "  0.84574074 0.14611226 1.6778824  0.68948597 0.62597924 0.42427623\n",
      "  0.4951735  0.7227949  0.47076342 0.9309274  1.1309426  0.9736324 ]\n",
      " [1.1016767  1.0599016  1.4678906  1.332289   0.80333424 0.5993724\n",
      "  1.469037   0.85842836 0.8787304  0.7684014  1.4358156  1.1755805\n",
      "  0.22836804 0.92374206 0.37192363 0.9591299  1.2162548  1.1842074\n",
      "  1.1242378  0.8089615  1.6228442  1.4803863  0.3908779  1.2930924 ]\n",
      " [1.5074435  1.5348939  0.62653506 0.59989053 1.135874   1.0533608\n",
      "  0.9115766  1.045094   0.73103106 0.44957748 1.4724205  1.8367321\n",
      "  0.4859442  1.1960237  0.65887475 1.0019488  0.26553532 1.4807353\n",
      "  1.1921852  0.70591086 1.0249603  1.5467441  0.3630401  1.4237354 ]\n",
      " [0.8264537  0.77747273 1.272383   1.3925457  1.8280321  0.90450007\n",
      "  1.2762089  0.790227   0.37747473 1.1752946  1.5354701  0.88657147\n",
      "  1.3157408  1.1490252  1.5638857  1.1509048  1.1527188  1.1714513\n",
      "  0.7819862  0.73664224 0.9434192  1.222867   0.62682927 1.5819656 ]\n",
      " [1.6193749  0.86294174 1.0825241  0.7398224  0.48677555 1.2468616\n",
      "  0.97957224 0.6678404  0.5502474  1.1322505  1.3267959  1.5912379\n",
      "  1.3003594  0.9608356  1.8473697  0.9600488  1.6457586  0.6560899\n",
      "  0.14340994 1.1609769  0.8261478  0.32503957 1.3335187  1.2967231 ]\n",
      " [0.06578512 0.7089634  1.6504041  0.5461605  1.2798033  1.0239997\n",
      "  1.0606834  0.0848318  1.2487991  1.1140056  1.1973877  1.2741135\n",
      "  0.6002495  1.3237501  1.3075651  0.7100576  0.63070613 1.4151616\n",
      "  1.3304859  0.8402663  1.7901063  0.02911417 0.6653584  1.0083076 ]\n",
      " [1.1934117  0.69911563 0.65754044 1.0493009  1.0093293  0.8519603\n",
      "  1.466371   0.77106845 0.59979737 1.0319153  1.2899721  1.1506875\n",
      "  1.2302842  0.84917927 1.0494249  1.15307    0.62838423 1.4768658\n",
      "  0.4619069  1.3207594  0.7423539  0.37508976 1.4242516  1.1532471 ]\n",
      " [0.9541234  1.1186715  1.7931845  1.0316889  1.2504401  0.9439659\n",
      "  0.66701806 1.4410043  1.0124669  0.6199204  0.40804452 0.93809557\n",
      "  1.2933025  0.7593315  1.167105   0.6592523  0.5141581  1.0741699\n",
      "  1.192347   1.4283428  0.8130394  0.97617275 1.102017   0.6470416 ]\n",
      " [1.191974   0.3110353  0.79333735 1.5544597  1.0851258  1.303006\n",
      "  0.6597192  1.0986412  0.9217187  0.8941255  0.8537669  0.7724462\n",
      "  1.4538298  1.4216008  1.3197851  0.43378296 0.9756912  1.4270505\n",
      "  1.3412316  1.1023518  0.6552944  0.4685375  1.4641917  0.9277009 ]\n",
      " [0.4559585  1.0225685  1.2442564  1.6752286  1.6869185  0.9095069\n",
      "  1.2226411  0.6153308  0.9437048  1.3746622  1.2268876  0.4918446\n",
      "  0.9999112  0.62661684 1.4000329  1.2429758  0.73616225 1.4666274\n",
      "  0.42943072 1.713269   0.615967   0.9519759  0.5921532  0.7736093 ]\n",
      " [0.7677194  1.382483   0.7222274  1.8858442  0.91562474 0.42801374\n",
      "  0.0907509  1.1215321  1.0063664  0.6824803  1.6156087  1.2599336\n",
      "  1.081613   1.7363021  1.0447319  0.5159998  1.6162101  0.7984853\n",
      "  0.7861936  1.6100005  1.193196   1.877456   1.3619106  0.87117046]]\n",
      "Sad =  0.0\n"
>>>>>>> 247aa5ec0b6a1de6fac00fda446ce11f995e5b66
     ]
    }
   ],
   "source": [
    "#Compute reference using Numpy\n",
    "c_ref = a + b\n",
    "\n",
    "#Print result\n",
    "print(\"C   = \", c)\n",
    "print(\"Ref = \", c_ref)\n",
    "print(\"Sad = \", np.sum(np.abs(c - c_ref)))"
   ]
  },
  {
   "cell_type": "code",
<<<<<<< HEAD
   "execution_count": 12,
=======
   "execution_count": 31,
>>>>>>> 247aa5ec0b6a1de6fac00fda446ce11f995e5b66
   "metadata": {},
   "outputs": [
    {
     "data": {
      "text/plain": [
<<<<<<< HEAD
       "<matplotlib.image.AxesImage at 0x7fc9c5094910>"
      ]
     },
     "execution_count": 12,
=======
       "<matplotlib.image.AxesImage at 0x7ff3e5252240>"
      ]
     },
     "execution_count": 31,
>>>>>>> 247aa5ec0b6a1de6fac00fda446ce11f995e5b66
     "metadata": {},
     "output_type": "execute_result"
    },
    {
     "data": {
<<<<<<< HEAD
      "image/png": "iVBORw0KGgoAAAANSUhEUgAAAsMAAADtCAYAAABatXgtAAAABHNCSVQICAgIfAhkiAAAAAlwSFlzAAALEgAACxIB0t1+/AAAADl0RVh0U29mdHdhcmUAbWF0cGxvdGxpYiB2ZXJzaW9uIDIuMi4zLCBodHRwOi8vbWF0cGxvdGxpYi5vcmcvIxREBQAAGm1JREFUeJzt3XmQleWVx/HfoTf2RdkEWhYDuGFc2mXUJO7iFkzMoqMZzSTDpFyi0ZRjksmYmpqkrCRukxiVqMHMuKVc0EkZgzouMwkhaRQRRQHZkVUU6IamtzN/cJ1gQ9v39N3ofr6fKovu2+fwPC/v7Z+nb997X3N3AQAAACnqUeoNAAAAAKXCMAwAAIBkMQwDAAAgWQzDAAAASBbDMAAAAJLFMAwAAIBkMQwDAAAgWQzDAAAASBbDMAAAAJJVXszFKqr6eFWffUI9TX2Di5S3Bhukg/ptCPe8tWFYuCeqZ/8d4Z4B5dvDPUPKmkL1b9THzqEktTaWhXvKezaH6pu3x+/OVhm/v1Quif8bN47rFaofWBVfY3Njz3BP2Xuxn4dbelp4jc7w3vHzYvWxY+kRu3tpR90mNTfUF+cfYC9BZseQ2WR2BJld2MyWpG3vrdro7kM6qivqMFzVZx9NOv3qUM/aE4Inct94GD1/0h3hnhPuvjbco+ChTDjtnfASZw99PdwzdcC7ofpP/vmi8Bp1SweEe4YeGPsf3ob5Q8Nr9Bi1Ldwz9qLXwj1Lf/TJUP2UifPCazyz/KBwz6D7Y5PLewd1IjI6kcVNk+rDPVVz+oTqe74XuxT9W0/eGqrvDsjsWDmZTWZHkNmFzWxJeuW+65ZnU8fTJAAAAJCsnIZhM5tsZm+b2WIzuyFfmwIAFAa5DQAf1elh2MzKJN0h6SxJB0u6yMwOztfGAAD5RW4DwO5yeWT4GEmL3X2JuzdKeljSlPxsCwBQAOQ2ALSRyzA8UtLKXT5flbntI8xsqpnVmllt0466HJYDAOSow9wmswGkpuAvoHP3ae5e4+41FVXR99wBABQTmQ0gNbkMw6slVe/y+ajMbQCAvRO5DQBt5DIM/0XSeDMba2aVki6U9FR+tgUAKAByGwDa6PRFN9y92cyulPR7SWWS7nP3N/K2MwBAXpHbALC7nK5A5+5PS3o6T3sBABQYuQ0AH8UV6AAAAJCsnB4Zjmotk3YMjM3ff3fyS6H6GXefFKqXpCObvhnu2W9Ra7in18amUP2WWaPCa6y5eWXHRW2MfercUP0RBy8Nr7H24fh17j910juh+t++PCy8hsY1h1sW3nlMuOesT8SuW//o3KPCa9z+qQfDPXe/emqo/t0T4vfJ1qE7wj19ezWGe0bOjK3T2rMiVF/WEP+e7+rIbDI7gsyOIbMLm9kRPDIMAACAZDEMAwAAIFkMwwAAAEgWwzAAAACSxTAMAACAZDEMAwAAIFkMwwAAAEgWwzAAAACSxTAMAACAZDEMAwAAIFkMwwAAAEiWuXvRFht1yAC/4jcnhHpmrjsoVD9p0LuhekladMGIcM/lz80M9/zsixeE6jfW9A+v0VJl4R5rid0HWsvja2w/sS7cM/amllD9wm9VhdcY9Xh5uKdx6qZwT+/bBobqV1zWHF6jtbEs3NOzb+za8E2L+4XX+PPFN4d7Tvrpt8M91Z9bGqrfcmt1qH7ui7er7v1V8Tt/F0Zmk9kRZHYMmV3YzJakP8y4fo6713RUxyPDAAAASBbDMAAAAJLV6WHYzKrN7AUze9PM3jCzq/O5MQBAfpHbALC7+JNv/qpZ0nXu/oqZ9ZM0x8yedfc387Q3AEB+kdsA0EanHxl29zXu/krm462SFkgama+NAQDyi9wGgN3l5TnDZjZG0hGSZufj7wMAFBa5DQA75TwMm1lfSY9Jusbdt+zh61PNrNbMauvfb8x1OQBAjj4ut8lsAKnJaRg2swrtDNQH3P3xPdW4+zR3r3H3mj6DKnNZDgCQo45ym8wGkJpc3k3CJN0raYG735K/LQEACoHcBoDd5fLI8AmSviLpFDObm/nv7DztCwCQf+Q2ALTR6bdWc/f/lZTUpUkBoCsjtwFgd1yBDgAAAMnK5aIbYS5Ti8fm76qy5lD94q1DQvWStOgb8bfZvOPY48M96748IFQ/8J34K7lXnVwR7hl39MpQ/eI18X/jcT+L/9y14uy+ofqJN78fXmPp5weFe75/wAvhnpsO/3KovmfP7eE1JoxaHe5Z97Nxofo1n2kNr3Hutd8K9/Ts5eGeFR8MDNWf+M/zQvVvvx0/J10dmU1mR5DZMWR2YTNbkv4wI7s6HhkGAABAshiGAQAAkCyGYQAAACSLYRgAAADJYhgGAABAshiGAQAAkCyGYQAAACSLYRgAAADJYhgGAABAshiGAQAAkCyGYQAAACSLYRgAAADJMncv2mJVY0b58H+5KtRT0bcxVN/cUBGql6SqpVXhnoELW+M9C7aE6t+a2je8hrVauKf6mdh9YONX68NrHDViZbhn3kOHhuqbe4WX0JDTVod7tj48Itxz3DdeCdU/u2RieI0ePeLfy8dXLw3Vv7h4fHiNvn+Jn5j9piwP92x8cP9Q/dA/vheqn/XOfdq8fU38G6wLI7PJ7AgyO4bMLmxmS9Lv3/jRHHev6aiOR4YBAACQLIZhAAAAJCvnYdjMyszsVTP7bT42BAAoHDIbAD4qH48MXy1pQR7+HgBA4ZHZALCLnIZhMxsl6RxJ9+RnOwCAQiGzAWB3uT4yfJuk6yW1+zJdM5tqZrVmVttSF39FKwAgb8hsAGij08OwmZ0rab27z/m4Onef5u417l5T1rdPZ5cDAOSAzAaAPcvlkeETJH3WzJZJeljSKWb2n3nZFQAg38hsANiDTg/D7v4ddx/l7mMkXSjpv939krztDACQN2Q2AOwZ7zMMAACAZJXn4y9x9xclvZiPvwsAUFhkNgD8VV6G4WxZo6nX0spQT+PA2HXrh8wLlUuS+q1sCPcs+4f4NcXXnhG73vfYh9p9wXe7No+J/XtJ0orzm0L1wx/rF15j4LXbwz11o2PH/2/nPhJe49YfXhju+eDM+P1l8eUTQvVDRsevDb/6zPj95e2HDwnV+ynhJXTQl94K9yzbvE+4Z9Ci2HlZfebgUH3jA0WNy70CmU1mR5DZMWR2YTNbkvRGdmU8TQIAAADJYhgGAABAshiGAQAAkCyGYQAAACSLYRgAAADJYhgGAABAshiGAQAAkCyGYQAAACSLYRgAAADJYhgGAABAshiGAQAAkCyGYQAAACTL3L1oix0wqY/f9MSBoZ6bbro4tkgnDuf9Q+JNle/Hf44YtLAlVP/u2c3hNSbsvy7cs+bp/UP1+7zZFF5j+fnhFlWuLw/Ve1l8jepjVod7VtSODPeUN1iofuSLDeE1lk+uCvfse9iGUP1lY2aF17jltdPCPYdXrwr39CvfEar/4+8OC9Uvv/sWNby7MnYiuzgym8yOILNjyOzCZrYkLfzBtXPcvaajOh4ZBgAAQLIYhgEAAJCsnIZhMxtoZo+a2VtmtsDM/iZfGwMA5B+5DQAfFXuCz+5ul/SMu3/BzCol9c7DngAAhUNuA8AuOj0Mm9kASZ+WdJkkuXujpMb8bAsAkG/kNgDsLpenSYyVtEHSr8zsVTO7x8z6tC0ys6lmVmtmtVs2xV9pCwDImw5zm8wGkJpchuFySUdKutPdj5BUL+mGtkXuPs3da9y9pv8+uT4rAwCQgw5zm8wGkJpchuFVkla5++zM549qZ8gCAPZO5DYAtNHpYdjd10paaWYTMzedKunNvOwKAJB35DYA7C7X34FdJemBzCuSl0j6au5bAgAUELkNALvIaRh297mSOrzMHQBg70BuA8BHcQU6AAAAJMvcvWiL9d232g8985pQT+XmllD9of86L1QvSUvq9g33HL3P8nDPbx7/TKi+vD68hLYfsT3cc8DwDaH6hYtGhNcY+ZyFe1rLYj3936kLr/H25T3DPUNergj3bDg2dj+2xvjPqcNmd1zT1vsTY+s0jmkIr+HN8WMZMLcy3NOjOZZlHxwbe3vdNTf+XDuWrorfkbswMpvMjiCzY8jswma2JC2/9Dtz3L3D34TxyDAAAACSxTAMAACAZDEMAwAAIFkMwwAAAEgWwzAAAACSxTAMAACAZDEMAwAAIFkMwwAAAEgWwzAAAACSxTAMAACAZDEMAwAAIFnlxVyspVLaMjo2f9dPaA7V9/r6uFC9JG0+cEC4Z8bwMeGe5mO3heore+8Ir6H6+HXb6+4aGaqfOOPV8BorHx4f7ml+s3+oft1xfcNr9Bm4Ndyz8eTWcM+QwbF1ts4eEl6jsV/sOu+SdN55s0L1Tzx/XHiNr5zxUrhn1i+OCPdsmhS7v4x+yEL1720KlXcLZDaZHUFmx5DZhc1sSVqeZR2PDAMAACBZDMMAAABIVk7DsJl9y8zeMLP5ZvaQmcV/3wMAKBpyGwA+qtPDsJmNlPRNSTXufqikMkkX5mtjAID8IrcBYHe5Pk2iXFIvMyuX1FvSu7lvCQBQQOQ2AOyi08Owu6+W9FNJKyStkbTZ3Wfma2MAgPwitwFgd7k8TWKQpCmSxkoaIamPmV2yh7qpZlZrZrXN2+o7v1MAQE6yyW0yG0BqcnmaxGmSlrr7BndvkvS4pOPbFrn7NHevcfea8t59clgOAJCjDnObzAaQmlyG4RWSjjOz3mZmkk6VtCA/2wIAFAC5DQBt5PKc4dmSHpX0iqTXM3/XtDztCwCQZ+Q2AOwup8sxu/uNkm7M014AAAVGbgPAR3EFOgAAACTL3L1oiw0+aLCfc/9nQz2zZh4aqq+euT1UL0lls98M9yz61SHhnvJlsQs9NY9uCK8x6KX4xaTGXLooVL9wxoTwGm7hFrVUxepH/9em8BpN+/YO9yz5QkW4xxpj/wBfPfXF8BqP/PqUcE99dWuo3vs3hdewHvGM8eb4z+nnHPZ6qH7WPUeG6t9+7FZtW7+yE/fkrovMJrMjyOwYMruwmS1Jc++6bo6713RUxyPDAAAASBbDMAAAAJLFMAwAAIBkMQwDAAAgWQzDAAAASBbDMAAAAJLFMAwAAIBkMQwDAAAgWQzDAAAASBbDMAAAAJLFMAwAAIBkMQwDAAAgWeXFXGzHuz217AcHhnp6X74pVL+k36BQvSSNGHpEuKf3vLJwT+NRdaH61rrK8BqbJ4Rb9JP9Z4TqP//pr4fX2DYvfl58fH2ofvXRFl6j+pqN4Z79fzss3NPcO/Zz5/PPnBhe4647fx7uueK2K0P1DftWhdfwA2P3e0ky83DPkMqtofr3J7WG6lueDpV3C2Q2mR1BZseQ2YXN7AgeGQYAAECyGIYBAACQrA6HYTO7z8zWm9n8XW7bx8yeNbNFmT/jv08BABQEuQ0A2cvmkeHpkia3ue0GSc+7+3hJz2c+BwDsHaaL3AaArHQ4DLv7y5LaviJiiqT7Mx/fL+n8PO8LANBJ5DYAZK+zzxke5u5rMh+vldTuSzXNbKqZ1ZpZbVNj7JWmAIC8ySq3yWwAqcn5BXTu7pLafU8Nd5/m7jXuXlNR2SfX5QAAOfq43CazAaSms8PwOjPbT5Iyf67P35YAAAVAbgPAHnR2GH5K0qWZjy+V9GR+tgMAKBByGwD2IJu3VntI0ixJE81slZl9TdJNkk43s0WSTst8DgDYC5DbAJC9Di/H7O4XtfOlU/O8FwBAHpDbAJA9rkAHAACAZNnOFxUXR6/h1X7AV64N9ex/3tJQfQ+LH8/yGePCPRVb4usMfWpxqH71LweH1zhkyNpwz7J/nxiq33FJ27cv7VjPX8cvdrX+6NjPapUfWHiN/stawz3rjg23aPzVfwrVl31ibHiNzUcMDffUjSgL1W85rDG8xkmHvB3uefXBSeGereNi5/Kq058J1d/6xdlaOX9L/E7WhZHZZHYEmR1DZhc2syXpuoOfm+PuNR3V8cgwAAAAksUwDAAAgGQxDAMAACBZDMMAAABIFsMwAAAAksUwDAAAgGQxDAMAACBZDMMAAABIFsMwAAAAksUwDAAAgGQxDAMAACBZ5cVcrGyHa+A7zaGeuh+PCtVbS/z68w2fjvf0XhfvWfhPB4TqhzwSXkILBsWvJ9/jko2h+uFXNYTX2HZg/Hry426oDdX3mDQhvMaZD84K9/ziybPCPY3Pjg7Vr3tpv/AagxbG/42bPrUlVD+wIvb9K0nbWyrCPQMXNYV7ttS0hOpv/8Ppofr1dQtC9d0BmU1mR5DZMWR2YTN7p+eyquKRYQAAACSLYRgAAADJ6nAYNrP7zGy9mc3f5bafmNlbZjbPzJ4ws4GF3SYAIFvkNgBkL5tHhqdLmtzmtmclHeruh0laKOk7ed4XAKDzpovcBoCsdDgMu/vLkja1uW2mu3/4rOw/SYq9YgIAUDDkNgBkLx/PGf57Sb9r74tmNtXMas2stnlHfR6WAwDkqN3cJrMBpCanYdjMviepWdID7dW4+zR3r3H3mvKqPrksBwDIUUe5TWYDSE2n32fYzC6TdK6kU909/gaOAICiIrcBYHedGobNbLKk6yV9xt235XdLAIB8I7cBYM+yeWu1hyTNkjTRzFaZ2dck/VxSP0nPmtlcM7urwPsEAGSJ3AaA7HX4yLC7X7SHm+8twF4AAHlAbgNA9rgCHQAAAJJlxXwNxYCq4X78yItDPas+F3srzG3D4sdzxXntvjNcu/7j9rPCPX0uWBuq//H4R8NrfH3aVeGesoZYff/lLeE11h4b/7mrot5C9T03xs/98OfXh3u2TBoc7tlaXRaqrztqe3iNUY9UhHv6vroqVL/9kBHhNZZNiR27JI36RPy89Pp+31D9Z6e/GKr/yRdqtWL+ltidsosjs8nsCDI7hswubGZL0jcPemGOu9d0VMcjwwAAAEgWwzAAAACSxTAMAACAZDEMAwAAIFkMwwAAAEgWwzAAAACSxTAMAACAZDEMAwAAIFkMwwAAAEgWwzAAAACSxTAMAACAZDEMAwAAIFnm7kVbrF//UX7UcVeGejYcWRWqH3vOklC9JL3+VnW4Z+I9DeGeNSf0C9UPPW9leI0L9nsl3HP3HVNC9WWN8fvM9slbwj3lLw8I1X/vigfCa3zQ0ifcc++PYv9ektSwr4XqR0ybG17j3QdHh3sG3d03VN989XvhNTbOHh7uGf7npnDPhsMqQvUD32kN1b8+8zbVbVoZO5FdHJlNZkeQ2TFkdmEzW5L+9Mi357h7TUd1PDIMAACAZDEMAwAAIFkdDsNmdp+ZrTez+Xv42nVm5mY2uDDbAwBEkdsAkL1sHhmeLmly2xvNrFrSGZJW5HlPAIDcTBe5DQBZ6XAYdveXJW3aw5dulXS9pOK9Ag8A0CFyGwCy16nnDJvZFEmr3f21LGqnmlmtmdU2NdV3ZjkAQI6yzW0yG0BqyqMNZtZb0ne181dtHXL3aZKmSTvfpie6HgAgN5HcJrMBpKYzjwwfIGmspNfMbJmkUZJeMbP4G9MBAIqB3AaAdoQfGXb31yUN/fDzTLDWuPvGPO4LAJAn5DYAtC+bt1Z7SNIsSRPNbJWZfa3w2wIAdBa5DQDZ6/CRYXe/qIOvj8nbbgAAOSO3ASB74adJ5KKlp+mD8ZWhnvqDd4Tq378tfq3vqou2hXtWnxy7Zr0k9Ygdig4ftCq8xuwt48I9DSdtDdU3ropfG37Cxe+Ee9669bBQ/U23/G14jarN8dcHNQyLXbNekrYeHjv5K64+PLzGtvXxa8NXDo9FwMYV+4bXGPBeuEWDb1ga7tn0xIRQfe81sXPSo6k1VN8dkNmxejKbzI4gswub2RFcjhkAAADJYhgGAABAshiGAQAAkCyGYQAAACSLYRgAAADJYhgGAABAshiGAQAAkCyGYQAAACSLYRgAAADJYhgGAABAshiGAQAAkCyGYQAAACTL3L14i5ltkLR8D18aLGlj0Tay90n5+FM+dint4+9qxz7a3YeUehPF9DGZLXW985dPHHu6Uj7+rnjsWeV2UYfhdjdhVuvuNaXeR6mkfPwpH7uU9vGnfOzdQcrnj2NP89iltI+/Ox87T5MAAABAshiGAQAAkKy9ZRieVuoNlFjKx5/ysUtpH3/Kx94dpHz+OPZ0pXz83fbY94rnDAMAAAClsLc8MgwAAAAUHcMwAAAAklXyYdjMJpvZ22a22MxuKPV+isnMlpnZ62Y218xqS72fQjOz+8xsvZnN3+W2fczsWTNblPlzUCn3WCjtHPsPzGx15vzPNbOzS7nHQjGzajN7wczeNLM3zOzqzO1JnPvuJuXMltLK7ZQzWyK3U8rtkg7DZlYm6Q5JZ0k6WNJFZnZwKfdUAie7++Hd9b372pguaXKb226Q9Ly7j5f0fObz7mi6dj92Sbo1c/4Pd/eni7ynYmmWdJ27HyzpOElXZL7PUzn33QaZ/f9Sye3pSjezJXI7mdwu9SPDx0ha7O5L3L1R0sOSppR4TygQd39Z0qY2N0+RdH/m4/slnV/UTRVJO8eeBHdf4+6vZD7eKmmBpJFK5Nx3M2R2QlLObIncTim3Sz0Mj5S0cpfPV2VuS4VLmmlmc8xsaqk3UyLD3H1N5uO1koaVcjMlcKWZzcv8Oq5b/Lrp45jZGElHSJotzn1XlHpmS+Q237fkdrc7/6UehlN3orsfqZ2/crzCzD5d6g2Vku98n7+U3uvvTkkHSDpc0hpJN5d2O4VlZn0lPSbpGnffsuvXEjz36LrI7YxEv2/J7YzudP5LPQyvllS9y+ejMrclwd1XZ/5cL+kJ7fwVZGrWmdl+kpT5c32J91M07r7O3VvcvVXSL9WNz7+ZVWhnoD7g7o9nbk723HdhSWe2RG4r8e9bcrt7nv9SD8N/kTTezMaaWaWkCyU9VeI9FYWZ9TGzfh9+LOkMSfM/vqtbekrSpZmPL5X0ZAn3UlQfBkrG59RNz7+ZmaR7JS1w91t2+VKy574LSzazJXI7I+nvW3K7e57/kl+BLvO2JLdJKpN0n7v/sKQbKhIzG6edjypIUrmkB7v7sZvZQ5JOkjRY0jpJN0qaIek3kvaXtFzSl9y9271goZ1jP0k7f9XmkpZJ+sddnovVbZjZiZL+R9LrklozN39XO59/1u3PfXeTamZL6eV2ypktkdtKKLdLPgwDAAAApVLqp0kAAAAAJcMwDAAAgGQxDAMAACBZDMMAAABIFsMwAAAAksUwDAAAgGQxDAMAACBZ/wcRkcknjojZmAAAAABJRU5ErkJggg==\n",
      "text/plain": [
       "<Figure size 864x576 with 2 Axes>"
=======
      "image/png": "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\n",
      "text/plain": [
       "<matplotlib.figure.Figure at 0x7ff3e5339748>"
>>>>>>> 247aa5ec0b6a1de6fac00fda446ce11f995e5b66
      ]
     },
     "metadata": {
      "needs_background": "light"
     },
     "output_type": "display_data"
    }
   ],
   "source": [
<<<<<<< HEAD
    "plt.figure(figsize=(12,8))\n",
=======
    "fig = plt.figure(figsize=(12,8))\n",
>>>>>>> 247aa5ec0b6a1de6fac00fda446ce11f995e5b66
    "plt.subplot(1,2,1)\n",
    "plt.imshow(c)\n",
    "plt.subplot(1,2,2)\n",
    "plt.imshow(c_ref)"
   ]
  },
  {
   "cell_type": "code",
<<<<<<< HEAD
   "execution_count": 8,
   "metadata": {},
   "outputs": [
    {
     "name": "stdout",
     "output_type": "stream",
     "text": [
      "shqhin\n"
     ]
    }
   ],
   "source": [
    "print(\"shqhin\")"
   ]
  },
  {
   "cell_type": "code",
=======
>>>>>>> 247aa5ec0b6a1de6fac00fda446ce11f995e5b66
   "execution_count": null,
   "metadata": {},
   "outputs": [],
   "source": []
  }
 ],
 "metadata": {
  "kernelspec": {
<<<<<<< HEAD
   "display_name": "Python 2",
   "language": "python",
   "name": "python2"
=======
   "display_name": "Python 3",
   "language": "python",
   "name": "python3"
>>>>>>> 247aa5ec0b6a1de6fac00fda446ce11f995e5b66
  },
  "language_info": {
   "codemirror_mode": {
    "name": "ipython",
<<<<<<< HEAD
    "version": 2
=======
    "version": 3
>>>>>>> 247aa5ec0b6a1de6fac00fda446ce11f995e5b66
   },
   "file_extension": ".py",
   "mimetype": "text/x-python",
   "name": "python",
   "nbconvert_exporter": "python",
<<<<<<< HEAD
   "pygments_lexer": "ipython2",
   "version": "2.7.5"
=======
   "pygments_lexer": "ipython3",
   "version": "3.6.6"
>>>>>>> 247aa5ec0b6a1de6fac00fda446ce11f995e5b66
  }
 },
 "nbformat": 4,
 "nbformat_minor": 2
}
