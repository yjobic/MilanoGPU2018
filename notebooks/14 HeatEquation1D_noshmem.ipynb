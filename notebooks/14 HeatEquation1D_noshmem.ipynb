{
 "cells": [
  {
   "cell_type": "code",
   "execution_count": 1,
   "metadata": {},
   "outputs": [],
   "source": [
    "%matplotlib inline\n",
    "\n",
    "from matplotlib import pyplot as plt\n",
    "\n",
    "import numpy as np\n",
    "import pycuda\n",
    "import pycuda.compiler as cuda_compiler\n",
    "import pycuda.driver as cuda_driver\n",
    "from pycuda.gpuarray import GPUArray\n",
    "\n",
    "from Timer import Timer\n",
    "import IPythonMagic\n",
    "\n",
    "import pytest\n",
    "from ipytest import clean_tests, run_pytest"
   ]
  },
  {
   "cell_type": "code",
   "execution_count": 2,
   "metadata": {},
   "outputs": [
    {
     "name": "stderr",
     "output_type": "stream",
     "text": [
      "Python version 3.6.5 |Anaconda custom (64-bit)| (default, Mar 29 2018, 13:32:41) [MSC v.1900 64 bit (AMD64)]\n",
      "Registering context in user workspace\n",
      "Creating context\n",
      "PyCUDA version 2017.1.1\n",
      "CUDA version (9, 1, 0)\n",
      "Driver version 9010\n",
      "Using 'GeForce 840M' GPU\n",
      " => compute capability: (5, 0)\n",
      " => memory: 1947 / 2048 MB available\n",
      "Created context handle <592437890384>\n",
      "Using CUDA cache dir c:\\Users\\anbro\\Documents\\projects\\demos\\MilanoGPU2018\\notebooks\\cuda_cache\n"
     ]
    }
   ],
   "source": [
    "#These were from the IPythonMagic module\n",
    "%setup_logging\n",
    "%cuda_context_handler context"
   ]
  },
  {
   "cell_type": "markdown",
   "metadata": {},
   "source": [
    "# Heat equation in 1D\n",
    "The heat equation can be written\n",
    "$$\n",
    "\\begin{align}\n",
    "\\frac{\\partial u}{\\partial t} &= \\kappa \\nabla^2 u\\\\\n",
    "&= \\kappa \\frac{\\partial^2 u}{\\partial x^2}\n",
    "\\end{align}\n",
    "$$\n",
    "where $u$ is the temperature, and $\\kappa$ is the material specific heat conduction constant. \n",
    "\n",
    "By approximating the temporal derivative with a backward difference, and the spatial derivative with a central difference, we get\n",
    "$$\n",
    "\\frac{1}{\\Delta t} (u_i^{n+1} - u_i^{n}) = \\kappa \\frac{1}{\\Delta x^2}(u_{i-1}^n - 2u_i^n + u_{i+1}^n)\n",
    "$$\n",
    "and gathering $u^n+1$ on the left hand side and $u^n$on the right, we write\n",
    "$$\n",
    "u^{n+1}_i = u_i^n + \\frac{\\kappa\\Delta t}{\\Delta x^2}(u_{i-1}^n - 2u_i^n + u_{i+1}^n)\n",
    "$$\n",
    "This discretization is unstable if the following CFL condition is not met\n",
    "$$\n",
    "\\frac{1}{2} \\gt \\frac{\\kappa\\Delta t}{\\Delta x^2}\n",
    "$$\n",
    "or \n",
    "$$\n",
    "\\Delta t \\lt \\frac{\\Delta x^2}{2\\kappa}\n",
    "$$"
   ]
  },
  {
   "cell_type": "code",
   "execution_count": 3,
   "metadata": {},
   "outputs": [],
   "source": [
    "class HeatEquation1D(object):\n",
    "    \"\"\"\n",
    "    This class approximates the solution of the heat eqution\n",
    "    using an explicit finite difference scheme\n",
    "    \"\"\"\n",
    "    \n",
    "    def __init__(self, u0, kappa, dx, dt):\n",
    "        self.u0 = u0.copy()\n",
    "        self.u1 = np.empty_like(self.u0)\n",
    "        self.kappa = kappa\n",
    "        self.dx = dx\n",
    "        self.dt = dt\n",
    "        #Nx is u0.shape minus two because of boundaries\n",
    "        self.nx = self.u0.shape[0] - 2\n",
    "        \n",
    "    def step(self):\n",
    "        for i in range(1, self.nx+1):\n",
    "            self.u1[i] = self.u0[i] \\\n",
    "                 + self.kappa*self.dt/self.dx**2 \\\n",
    "                 * (self.u0[i-1] - 2.0*self.u0[i] + self.u0[i+1])\n",
    "        \n",
    "        self.u1[0] = self.u1[1]\n",
    "        self.u1[self.nx+1] = self.u1[self.nx]\n",
    "        \n",
    "        #Swap u1 and u0\n",
    "        #After step is complete, u0 is the most\n",
    "        #recent result\n",
    "        self.u0, self.u1 = self.u1, self.u0\n",
    "        \n",
    "            \n",
    "    def download(self):\n",
    "        return self.u0.copy()"
   ]
  },
  {
   "cell_type": "code",
   "execution_count": 5,
   "metadata": {},
   "outputs": [],
   "source": [
    "class HeatEquation1DGPU(object):\n",
    "    \"\"\"\n",
    "    This class approximates the solution of the heat eqution\n",
    "    using an explicit finite difference scheme on the GPU\n",
    "    \"\"\"\n",
    "    \n",
    "    def __init__(self):\n",
    "        pass\n",
    "    \n",
    "    def createKernel(self):\n",
    "        src = \"\"\"\n",
    "        __global__ void heatEquation(float* u1, const float* u0,\n",
    "                            float kappa, float dx, float dt,\n",
    "                            int nx) {\n",
    "            // Skip the first ghost cell, i.e., plus one\n",
    "            int i = blockIdx.x*blockDim.x + threadIdx.x + 1;\n",
    "            \n",
    "            //This handles internal cells \n",
    "            if (i >= 1 && i <= nx) {\n",
    "                u1[i] = u0[i] + kappa*dt/(dx*dx) *\n",
    "                            (u0[i-1] - 2.0f*u0[i] + u0[i+1]);\n",
    "            }\n",
    "            \n",
    "            //This handles the left boundary\n",
    "            if (i == 1) {\n",
    "                u1[0] = u0[i] + kappa*dt/(dx*dx) *\n",
    "                            (u0[i-1] - 2.0f*u0[i] + u0[i+1]);\n",
    "            }\n",
    "            \n",
    "            //This handles the right boundary\n",
    "            if (i == nx) {\n",
    "                u1[nx+1] = u0[i] + kappa*dt/(dx*dx) *\n",
    "                            (u0[i-1] - 2.0f*u0[i] + u0[i+1]);\n",
    "            }\n",
    "        }\n",
    "        \n",
    "        //This is a device function, which we can call from the kernel\n",
    "        __device__ float computePi() {\n",
    "            return 355.0f/113.0f;\n",
    "        }\n",
    "        \"\"\"\n",
    "        \n",
    "        # Compile the sourcecode\n",
    "        self.module = cuda_compiler.SourceModule(src, \\\n",
    "                                            options=['--use_fast_math'])\n",
    "        self.kernel = self.module.get_function(\"heatEquation\")\n",
    "        # The following arguments, PPfffi represent the arguments\n",
    "        # float* u1, const float* u0,\n",
    "        # float kappa, float dx, float dt,\n",
    "        # int nx\n",
    "        self.kernel.prepare(\"PPfffi\")\n",
    "    \n",
    "    def initialize(self, u0, kappa, dx, dt):\n",
    "        self.kappa = np.float32(kappa)\n",
    "        self.dx = np.float32(dx)\n",
    "        self.dt = np.float32(dt)\n",
    "        #Nx is u0.shape minus two because of boundaries\n",
    "        self.nx = np.int32(u0.shape[0] - 2)\n",
    "        \n",
    "        #Allocate data on the GPU and upload\n",
    "        assert u0.dtype == np.float32, \"u0 must be float\"\n",
    "        self.u0_g = GPUArray(u0.shape, u0.dtype)\n",
    "        self.u1_g = GPUArray(u0.shape, u0.dtype)\n",
    "        self.u0_g.set(u0)\n",
    "        \n",
    "        #Create the kernel\n",
    "        self.createKernel()\n",
    "        \n",
    "        #Create the block, grid, and stream\n",
    "        num_threads = 128\n",
    "        self.block_size = (num_threads, 1, 1)\n",
    "        self.grid_size = (int(np.ceil(self.u0_g.shape[0] / num_threads)), 1, 1)\n",
    "        self.stream = cuda_driver.Stream()\n",
    "        \n",
    "    def step(self):\n",
    "        #Launch kernel\n",
    "        self.kernel.prepared_async_call(\\\n",
    "                self.grid_size, self.block_size, self.stream, \\\n",
    "                self.u1_g.gpudata, self.u0_g.gpudata, \\\n",
    "                self.kappa, self.dx, self.dt, \\\n",
    "                self.nx)\n",
    "        \n",
    "        # We will fix the BC in the kernel!\n",
    "        #self.u1[0] = self.u1[1]\n",
    "        #self.u1[self.nx+1] = self.u1[self.nx]\n",
    "        \n",
    "        #Swap u1 and u0\n",
    "        #After step is complete, u0 is the most\n",
    "        #recent result\n",
    "        self.u0_g, self.u1_g = self.u1_g, self.u0_g\n",
    "        \n",
    "            \n",
    "    def download(self):\n",
    "        u0 = np.empty(self.u0_g.shape, self.u0_g.dtype)\n",
    "        self.u0_g.get(u0)\n",
    "        return u0"
   ]
  },
  {
   "cell_type": "code",
   "execution_count": 10,
   "metadata": {},
   "outputs": [
    {
     "data": {
      "text/plain": [
       "[<matplotlib.lines.Line2D at 0x89fa5fe9b0>]"
      ]
     },
     "execution_count": 10,
     "metadata": {},
     "output_type": "execute_result"
    },
    {
     "data": {
      "image/png": "[encoded data removed]",
      "text/plain": [
       "<Figure size 432x288 with 1 Axes>"
      ]
     },
     "metadata": {},
     "output_type": "display_data"
    }
   ],
   "source": [
    "u0 = np.zeros(13, dtype=np.float32)\n",
    "u0[6] = 1.0\n",
    "kappa = 1.0\n",
    "dx = 1.0\n",
    "dt = 0.4*dx**2.0/(2.0*kappa)\n",
    "\n",
    "gpu_simulator = HeatEquation1DGPU()\n",
    "gpu_simulator.initialize(u0, kappa, dx, dt)\n",
    "\n",
    "for i in range(10):\n",
    "    gpu_simulator.step()\n",
    "    \n",
    "result = gpu_simulator.download()\n",
    "fig = plt.figure()\n",
    "plt.plot(result)"
   ]
  },
  {
   "cell_type": "code",
   "execution_count": 5,
   "metadata": {},
   "outputs": [
    {
     "name": "stdout",
     "output_type": "stream",
     "text": [
      "<pycuda._driver.Function object at 0x7f64b821c570>\n"
     ]
    }
   ],
   "source": [
    "print(gpu_simulator.kernel)"
   ]
  },
  {
   "cell_type": "code",
   "execution_count": 11,
   "metadata": {},
   "outputs": [
    {
     "data": {
      "text/plain": [
       "[<matplotlib.lines.Line2D at 0x89fa661978>]"
      ]
     },
     "execution_count": 11,
     "metadata": {},
     "output_type": "execute_result"
    },
    {
     "data": {
      "image/png": "[encoded data removed]",
      "text/plain": [
       "<Figure size 432x288 with 1 Axes>"
      ]
     },
     "metadata": {},
     "output_type": "display_data"
    }
   ],
   "source": [
    "u0 = np.zeros(13)\n",
    "u0[6] = 1.0\n",
    "kappa = 1.0\n",
    "dx = 1.0\n",
    "dt = 0.4*dx**2.0/(2.0*kappa)\n",
    "\n",
    "simulator = HeatEquation1D(u0, kappa, dx, dt)\n",
    "for i in range(10):\n",
    "    simulator.step()\n",
    "result = simulator.download()\n",
    "fig = plt.figure()\n",
    "plt.plot(result)"
   ]
  },
  {
   "cell_type": "code",
   "execution_count": 21,
   "metadata": {},
   "outputs": [
    {
     "name": "stdout",
     "output_type": "stream",
     "text": [
      "============================= test session starts =============================\n",
      "platform win32 -- Python 3.6.5, pytest-3.8.0, py-1.5.3, pluggy-0.7.1 -- C:\\Users\\anbro\\AppData\\Local\\Continuum\\anaconda3\\python.exe\n",
      "cachedir: .pytest_cache\n",
      "rootdir: c:\\Users\\anbro\\Documents\\projects\\demos\\MilanoGPU2018\\notebooks, inifile:\n",
      "plugins: remotedata-0.2.1, openfiles-0.3.0, doctestplus-0.1.3, arraydiff-0.2\n",
      "collecting ... collected 2 items\n",
      "\n",
      "14 HeatEquation1D_noshmem.py::test_HeatEquation1D <- <ipython-input-21-4e4fccf0f963> PASSED [ 50%]\n",
      "14 HeatEquation1D_noshmem.py::test_HeatEquationGPU1D <- <ipython-input-21-4e4fccf0f963> PASSED [100%]\n",
      "\n",
      "============================== warnings summary ===============================\n",
      "C:\\Users\\anbro\\AppData\\Local\\Continuum\\anaconda3\\lib\\site-packages\\_pytest\\assertion\\rewrite.py:274: PytestWarning: Module already imported so cannot be rewritten: pytest_remotedata\n",
      "  self.config,\n",
      "C:\\Users\\anbro\\AppData\\Local\\Continuum\\anaconda3\\lib\\site-packages\\_pytest\\assertion\\rewrite.py:274: PytestWarning: Module already imported so cannot be rewritten: pytest_openfiles\n",
      "  self.config,\n",
      "C:\\Users\\anbro\\AppData\\Local\\Continuum\\anaconda3\\lib\\site-packages\\_pytest\\assertion\\rewrite.py:274: PytestWarning: Module already imported so cannot be rewritten: pytest_doctestplus\n",
      "  self.config,\n",
      "C:\\Users\\anbro\\AppData\\Local\\Continuum\\anaconda3\\lib\\site-packages\\_pytest\\assertion\\rewrite.py:274: PytestWarning: Module already imported so cannot be rewritten: pytest_arraydiff\n",
      "  self.config,\n",
      "\n",
      "-- Docs: https://docs.pytest.org/en/latest/warnings.html\n",
      "==================== 2 passed, 4 warnings in 0.12 seconds =====================\n"
     ]
    },
    {
     "data": {
      "text/plain": [
       "0"
      ]
     },
     "execution_count": 21,
     "metadata": {},
     "output_type": "execute_result"
    }
   ],
   "source": [
    "clean_tests()\n",
    "\n",
    "def test_HeatEquation1D():\n",
    "    u0 = np.zeros(15)\n",
    "    kappa = 1.0\n",
    "    dx = 1.0\n",
    "    dt = 0.4*dx**2.0/(2.0*kappa)\n",
    "\n",
    "    simulator = HeatEquation1D(u0, kappa, dx, dt)\n",
    "\n",
    "    assert np.all(u0 == simulator.u0)\n",
    "    assert simulator.u0.shape == simulator.u1.shape\n",
    "    assert kappa == simulator.kappa\n",
    "    assert dx == simulator.dx\n",
    "    assert dt == simulator.dt\n",
    "    \n",
    "    \n",
    "    \n",
    "    u0 = np.zeros(7)\n",
    "    u0[3] = 1.0\n",
    "    kappa = 1.0\n",
    "    dx = 1.0\n",
    "    dt = 0.4*dx**2.0/(2.0*kappa)\n",
    "\n",
    "    simulator = HeatEquation1D(u0, kappa, dx, dt)\n",
    "    for i in range(10):\n",
    "        simulator.step()\n",
    "        result = simulator.download()\n",
    "        print(result)\n",
    "        assert np.sum(result[1:-1]) == pytest.approx(1.0)\n",
    "        assert result[0] == result[1]\n",
    "        assert result[u0.shape[0]-1] ==  result[u0.shape[0]-2]\n",
    "        \n",
    "        \n",
    "def test_HeatEquationGPU1D():\n",
    "    u0 = np.zeros(15, dtype=np.float32)\n",
    "    u0[7] = 1.0\n",
    "    kappa = 1.0\n",
    "    dx = 1.0\n",
    "    dt = 0.4*dx**2.0/(2.0*kappa)\n",
    "    \n",
    "    cpu_simulator = HeatEquation1D(u0, kappa, dx, dt)\n",
    "    gpu_simulator = HeatEquation1DGPU()\n",
    "    gpu_simulator.initialize(u0, kappa, dx, dt)\n",
    "    \n",
    "    for i in range(10):\n",
    "        cpu_simulator.step()\n",
    "        gpu_simulator.step()\n",
    "        \n",
    "        cpu_result = cpu_simulator.download()\n",
    "        gpu_result = gpu_simulator.download()\n",
    "        \n",
    "        print(\"CPU: \", cpu_result[1:-1])\n",
    "        print(\"GPU: \", gpu_result[1:-1])\n",
    "        \n",
    "        #We trust the CPU version, check that GPU is very close to CPU\n",
    "        assert np.sum(np.abs(cpu_result[1:-1] - gpu_result[1:-1])) < 1.0e-6\n",
    "\n",
    "run_pytest(filename='14 HeatEquation1D_noshmem.ipynb', pytest_options=['-vvv'])"
   ]
  },
  {
   "cell_type": "code",
   "execution_count": null,
   "metadata": {},
   "outputs": [],
   "source": []
  }
 ],
 "metadata": {
  "kernelspec": {
   "display_name": "Python 3",
   "language": "python",
   "name": "python3"
  },
  "language_info": {
   "codemirror_mode": {
    "name": "ipython",
    "version": 3
   },
   "file_extension": ".py",
   "mimetype": "text/x-python",
   "name": "python",
   "nbconvert_exporter": "python",
   "pygments_lexer": "ipython3",
   "version": "3.6.5"
  }
 },
 "nbformat": 4,
 "nbformat_minor": 2
}
