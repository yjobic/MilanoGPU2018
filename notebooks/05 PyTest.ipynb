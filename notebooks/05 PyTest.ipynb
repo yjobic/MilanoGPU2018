{
 "cells": [
  {
   "cell_type": "markdown",
   "metadata": {},
   "source": [
    "# License\n",
    "\n",
    "    Jupyter notebook for demonstrating testing in Python\n",
    "    Copyright (C) 2018 Andre.Brodtkorb@ifi.uio.no\n",
    "\n",
    "    This program is free software: you can redistribute it and/or modify\n",
    "    it under the terms of the GNU General Public License as published by\n",
    "    the Free Software Foundation, either version 3 of the License, or\n",
    "    (at your option) any later version.\n",
    "\n",
    "    This program is distributed in the hope that it will be useful,\n",
    "    but WITHOUT ANY WARRANTY; without even the implied warranty of\n",
    "    MERCHANTABILITY or FITNESS FOR A PARTICULAR PURPOSE.  See the\n",
    "    GNU General Public License for more details.\n",
    "\n",
    "    You should have received a copy of the GNU General Public License\n",
    "    along with this program.  If not, see <http://www.gnu.org/licenses/>."
   ]
  },
  {
   "cell_type": "code",
   "execution_count": 7,
   "metadata": {},
   "outputs": [],
   "source": [
    "import pytest\n",
    "from ipytest import run_pytest, clean_tests"
   ]
  },
  {
   "cell_type": "markdown",
   "metadata": {},
   "source": [
    "# Documentation for pytest\n",
    "https://docs.pytest.org/en/latest/reference.html"
   ]
  },
  {
   "cell_type": "code",
   "execution_count": 8,
   "metadata": {},
   "outputs": [
    {
     "ename": "ImportError",
     "evalue": "No module named IPythonMagic",
     "output_type": "error",
     "traceback": [
      "\u001b[0;31m---------------------------------------------------------------------------\u001b[0m",
      "\u001b[0;31mImportError\u001b[0m                               Traceback (most recent call last)",
      "\u001b[0;32m<ipython-input-8-619804f595ad>\u001b[0m in \u001b[0;36m<module>\u001b[0;34m()\u001b[0m\n\u001b[1;32m      5\u001b[0m \u001b[0;32mimport\u001b[0m \u001b[0mpycuda\u001b[0m\u001b[0;34m.\u001b[0m\u001b[0mdriver\u001b[0m \u001b[0;32mas\u001b[0m \u001b[0mcuda_driver\u001b[0m\u001b[0;34m\u001b[0m\u001b[0m\n\u001b[1;32m      6\u001b[0m \u001b[0;34m\u001b[0m\u001b[0m\n\u001b[0;32m----> 7\u001b[0;31m \u001b[0;32mimport\u001b[0m \u001b[0mIPythonMagic\u001b[0m\u001b[0;34m\u001b[0m\u001b[0m\n\u001b[0m",
      "\u001b[0;31mImportError\u001b[0m: No module named IPythonMagic"
     ]
    }
   ],
   "source": [
    "#Import packages we need\n",
    "import numpy as np\n",
    "import pycuda.compiler as cuda_compiler\n",
    "from pycuda.gpuarray import GPUArray\n",
    "import pycuda.driver as cuda_driver\n",
    "\n",
    "import IPythonMagic"
   ]
  },
  {
   "cell_type": "code",
   "execution_count": 3,
   "metadata": {},
   "outputs": [],
   "source": [
    "%cuda_context_handler context"
   ]
  },
  {
   "cell_type": "code",
   "execution_count": 4,
   "metadata": {},
   "outputs": [],
   "source": [
    "cuda_kernel = \"\"\"\n",
    "__global__ void addKernel(float* c, float* a, float* b) {\n",
    "    unsigned int i = blockIdx.x*blockDim.x + threadIdx.x;\n",
    "    c[i] = a[i] + b[i];\n",
    "}\n",
    "\"\"\"\n",
    "module = cuda_compiler.SourceModule(cuda_kernel)\n",
    "add_kernel = module.get_function(\"addKernel\");\n",
    "\n",
    "\n",
    "def gpuAdd(a, b):\n",
    "    c = np.empty_like(a)\n",
    "\n",
    "    #Upload data to the device\n",
    "    a_g = GPUArray(a.shape, np.float32)\n",
    "    b_g = GPUArray(b.shape, np.float32)\n",
    "    a_g.set(a)\n",
    "    b_g.set(b)\n",
    "\n",
    "    #Allocate output data\n",
    "    c_g = GPUArray(c.shape, np.float32)\n",
    "\n",
    "    #Execute program on device\n",
    "    add_kernel(c_g, a_g, b_g, block=(a.shape[0], 1, 1), grid=(1,1))\n",
    "\n",
    "    #Copy data from device to host\n",
    "    c_g.get(c)\n",
    "    \n",
    "    return c"
   ]
  },
  {
   "cell_type": "code",
   "execution_count": 5,
   "metadata": {},
   "outputs": [
    {
     "name": "stdout",
     "output_type": "stream",
     "text": [
      "============================= test session starts ==============================\n",
      "platform linux -- Python 3.6.6, pytest-3.8.2, py-1.6.0, pluggy-0.7.1 -- /usr/bin/python3\n",
      "cachedir: .pytest_cache\n",
      "rootdir: /home/ubuntu/jupyter_notebooks/Andre Brodtkorb/MilanoGPU2018/notebooks, inifile:\n",
      "collecting ... collected 2 items\n",
      "\n",
      "05 PyTest.py::test_constants <- <ipython-input-5-5e94da710372> FAILED    [ 50%]\n",
      "05 PyTest.py::test_vector_add_gpu <- <ipython-input-5-5e94da710372> PASSED [100%]\n",
      "\n",
      "=================================== FAILURES ===================================\n",
      "________________________________ test_constants ________________________________\n",
      "\n",
      "    def test_constants():\n",
      "        assert True == True\n",
      "        assert 4 == 4\n",
      ">       assert 5 == 4\n",
      "E       AssertionError\n",
      "\n",
      "<ipython-input-5-5e94da710372>:6: AssertionError\n",
      "====================== 1 failed, 1 passed in 0.06 seconds ======================\n"
     ]
    },
    {
     "data": {
      "text/plain": [
       "1"
      ]
     },
     "execution_count": 5,
     "metadata": {},
     "output_type": "execute_result"
    }
   ],
   "source": [
    "clean_tests()\n",
    "\n",
    "def test_constants():\n",
    "    assert True == True\n",
    "    assert 4 == 4\n",
    "    assert 5 == 4\n",
    "\n",
    "def test_vector_add_gpu():\n",
    "    n = 50\n",
    "    \n",
    "    #Create test input / output data\n",
    "    a = np.random.rand(n).astype(np.float32)\n",
    "    b = np.random.rand(n).astype(np.float32)\n",
    "    assert gpuAdd(a, b) == pytest.approx(a + b)\n",
    "    \n",
    "    a = np.ones(n).astype(np.float32)\n",
    "    b = np.ones(n).astype(np.float32)\n",
    "    assert gpuAdd(a, b) == pytest.approx(2*np.ones(n))\n",
    "    \n",
    "\n",
    "run_pytest(filename='05 PyTest.ipynb', pytest_options=['-vvv'])"
   ]
  },
  {
   "cell_type": "code",
   "execution_count": null,
   "metadata": {},
   "outputs": [],
   "source": []
  }
 ],
 "metadata": {
  "kernelspec": {
   "display_name": "Python 2",
   "language": "python",
   "name": "python2"
  },
  "language_info": {
   "codemirror_mode": {
    "name": "ipython",
    "version": 2
   },
   "file_extension": ".py",
   "mimetype": "text/x-python",
   "name": "python",
   "nbconvert_exporter": "python",
   "pygments_lexer": "ipython2",
   "version": "2.7.5"
  }
 },
 "nbformat": 4,
 "nbformat_minor": 2
}
