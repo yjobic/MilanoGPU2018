{
 "cells": [
  {
   "cell_type": "markdown",
   "metadata": {},
   "source": [
    "# License\n",
    "\n",
    "    Jupyter notebook for accessing CUDA\n",
    "    Copyright (C) 2018 Andre.Brodtkorb@ifi.uio.no\n",
    "\n",
    "    This program is free software: you can redistribute it and/or modify\n",
    "    it under the terms of the GNU General Public License as published by\n",
    "    the Free Software Foundation, either version 3 of the License, or\n",
    "    (at your option) any later version.\n",
    "\n",
    "    This program is distributed in the hope that it will be useful,\n",
    "    but WITHOUT ANY WARRANTY; without even the implied warranty of\n",
    "    MERCHANTABILITY or FITNESS FOR A PARTICULAR PURPOSE.  See the\n",
    "    GNU General Public License for more details.\n",
    "\n",
    "    You should have received a copy of the GNU General Public License\n",
    "    along with this program.  If not, see <http://www.gnu.org/licenses/>."
   ]
  },
  {
   "cell_type": "code",
   "execution_count": 1,
   "metadata": {},
   "outputs": [],
   "source": [
    "#Lets have matplotlib \"inline\"\n",
    "%matplotlib inline\n",
    "\n",
    "#Import packages we need\n",
    "import numpy as np\n",
    "import pycuda.compiler as cuda_compiler\n",
    "from pycuda.gpuarray import GPUArray\n",
    "import pycuda.driver as cuda_driver\n",
    "\n",
    "from matplotlib import pyplot as plt"
   ]
  },
  {
   "cell_type": "code",
   "execution_count": 2,
   "metadata": {},
   "outputs": [],
   "source": [
    "#Initialize CUDA - must be first call to CUDA!\n",
    "cuda_driver.init()"
   ]
  },
  {
   "cell_type": "code",
   "execution_count": 3,
   "metadata": {},
   "outputs": [
    {
     "name": "stdout",
     "output_type": "stream",
     "text": [
      "Using 'Quadro K2000'\n",
      " => compute capability: (3, 0)\n",
      " => memory: 1893 / 1999 MB available\n"
     ]
    }
   ],
   "source": [
    "#Create CUDA context\n",
    "cuda_device = cuda_driver.Device(0)\n",
    "print(\"Using '{:s}'\".format(cuda_device.name()))\n",
    "print(\" => compute capability: {:s}\".format(str(cuda_device.compute_capability())))\n",
    "context = cuda_device.make_context()\n",
    "free, total = cuda_driver.mem_get_info()\n",
    "print(\" => memory: {:d} / {:d} MB available\".format(int(free/(1024*1024)), int(total/(1024*1024))))"
   ]
  },
  {
   "cell_type": "code",
   "execution_count": 4,
   "metadata": {},
   "outputs": [],
   "source": [
    "cuda_kernel = \"\"\"\n",
    "__global__ void addVectorKernel(float* c, float* a, float* b) {\n",
    "    unsigned int i = blockIdx.x*blockDim.x + threadIdx.x;\n",
    "    c[i] = a[i] + b[i];\n",
    "}\n",
    "\n",
    "__global__ void addMatrixKernel(float* c, float* a, float* b, int nbCols) {\n",
    "    unsigned int iX = blockIdx.x*blockDim.x + threadIdx.x;\n",
    "    unsigned int iY = blockIdx.y*blockDim.y + threadIdx.y;\n",
    "    unsigned int position = iY*nbCols + iX;\n",
    "    \n",
    "    c[position] = a[position] + b[position];\n",
    "}\n",
    "\"\"\"\n",
    "module = cuda_compiler.SourceModule(cuda_kernel)\n",
    "kernel = module.get_function(\"addMatrixKernel\");"
   ]
  },
  {
   "cell_type": "code",
   "execution_count": 5,
   "metadata": {},
   "outputs": [
    {
     "data": {
      "text/plain": [
       "<bound method Figure.show of <Figure size 864x576 with 2 Axes>>"
      ]
     },
     "execution_count": 5,
     "metadata": {},
     "output_type": "execute_result"
    },
    {
     "data": {
      "image/png": "[encoded data removed]",
      "text/plain": [
       "<Figure size 864x576 with 2 Axes>"
      ]
     },
     "metadata": {
      "needs_background": "light"
     },
     "output_type": "display_data"
    }
   ],
   "source": [
    "#Size of our test\n",
    "test_size = (16,24)\n",
    "\n",
    "#Create test input / output data\n",
    "a = np.random.random(test_size).astype(np.float32)\n",
    "b = np.random.random(test_size).astype(np.float32)\n",
    "c = np.empty_like(a)\n",
    "\n",
    "fig = plt.figure(figsize=(12,8))\n",
    "plt.imshow(a)\n",
    "plt.colorbar()\n",
    "fig.show"
   ]
  },
  {
   "cell_type": "code",
   "execution_count": 6,
   "metadata": {},
   "outputs": [
    {
     "name": "stdout",
     "output_type": "stream",
     "text": [
      "(16, 24)\n"
     ]
    }
   ],
   "source": [
    "print(a.shape)"
   ]
  },
  {
   "cell_type": "code",
   "execution_count": 7,
   "metadata": {},
   "outputs": [],
   "source": [
    "#Upload data to the device\n",
    "a_g = GPUArray(a.shape, np.float32)\n",
    "b_g = GPUArray(b.shape, np.float32)\n",
    "a_g.set(a)\n",
    "b_g.set(b)\n",
    "\n",
    "#Allocate output data\n",
    "c_g = GPUArray(c.shape, np.float32)"
   ]
  },
  {
   "cell_type": "code",
   "execution_count": 8,
   "metadata": {},
   "outputs": [
    {
     "name": "stdout",
     "output_type": "stream",
     "text": [
      "Domain size is(24, 16)\n",
      "Block size is(8, 8, 1)\n",
      "grid size is(3, 2, 1)\n"
     ]
    }
   ],
   "source": [
    "#a.shape = [rows, columns] => [y,x]\n",
    "domain_size = (a.shape[1], a.shape[0])\n",
    "block_size = (8,8,1)\n",
    "grid_size = (domain_size[0] // block_size[0], domain_size[1] // block_size[1], 1)\n",
    "\n",
    "print(\"Domain size is\" + str(domain_size))\n",
    "print(\"Block size is\" + str(block_size))\n",
    "print(\"grid size is\" + str(grid_size))"
   ]
  },
  {
   "cell_type": "code",
   "execution_count": 9,
   "metadata": {},
   "outputs": [],
   "source": [
    "#Execute program on device\n",
    "#Be careful of the number of columns, which is domain_size[0]\n",
    "#in order to be sur to pass an int32, we use np.int32\n",
    "kernel(c_g, a_g, b_g, np.int32(domain_size[0]), block=block_size, grid=grid_size)"
   ]
  },
  {
   "cell_type": "code",
   "execution_count": 10,
   "metadata": {},
   "outputs": [
    {
     "data": {
      "text/plain": [
       "array([[0.60322267, 1.0468098 , 1.1983753 , 1.9262348 , 0.89835006,\n",
       "        0.906222  , 1.4546161 , 1.6911205 , 1.978102  , 1.3054461 ,\n",
       "        1.0412226 , 1.35692   , 1.0133168 , 1.2303996 , 0.10033523,\n",
       "        1.2331028 , 1.5808566 , 1.2942475 , 0.5658936 , 0.8669513 ,\n",
       "        0.88242453, 1.2309461 , 0.82934564, 0.69193554],\n",
       "       [0.7168466 , 1.6120322 , 0.75725263, 1.157334  , 0.620676  ,\n",
       "        0.48420516, 0.4940294 , 1.6156669 , 1.105315  , 1.4619782 ,\n",
       "        0.62774295, 1.5831487 , 0.8725915 , 1.2806256 , 1.1019967 ,\n",
       "        1.5444654 , 1.162895  , 1.7543331 , 0.26421344, 1.0163856 ,\n",
       "        1.1796987 , 1.3012791 , 0.35339397, 0.40573174],\n",
       "       [1.6354585 , 1.4026561 , 1.5605586 , 0.26916593, 1.7632315 ,\n",
       "        0.3751415 , 0.72241926, 0.7698139 , 0.74775344, 0.7810175 ,\n",
       "        1.2501473 , 0.3789937 , 1.1904    , 0.5639826 , 1.3499365 ,\n",
       "        0.5003946 , 1.2212272 , 1.17519   , 1.2731848 , 0.99027365,\n",
       "        1.9214172 , 0.792005  , 1.4393531 , 0.5552401 ],\n",
       "       [1.6310323 , 1.4323742 , 1.4394674 , 0.9824313 , 0.20260848,\n",
       "        0.7571567 , 0.51081324, 0.98858726, 1.4202936 , 1.2065673 ,\n",
       "        0.44174558, 0.8911921 , 0.3639782 , 0.93059474, 1.7209935 ,\n",
       "        0.84164083, 1.284883  , 1.4625044 , 0.6014381 , 1.0777863 ,\n",
       "        0.6029905 , 0.6708625 , 1.2991055 , 1.5391129 ],\n",
       "       [1.1485084 , 1.2435647 , 1.1767273 , 0.9191135 , 0.63101935,\n",
       "        0.37020814, 1.0966072 , 1.076539  , 0.542154  , 1.2810491 ,\n",
       "        1.5016145 , 0.7866803 , 0.8514203 , 1.3940883 , 0.70581466,\n",
       "        1.551224  , 1.2518481 , 1.2649691 , 1.5193281 , 1.203485  ,\n",
       "        0.7930478 , 1.426892  , 0.7157978 , 0.33201343],\n",
       "       [0.8862651 , 1.011183  , 0.65784216, 0.46350494, 1.209239  ,\n",
       "        1.1669877 , 0.49741936, 0.72926915, 1.1426181 , 0.64136946,\n",
       "        1.558944  , 1.0272653 , 1.7217519 , 0.668938  , 1.2133468 ,\n",
       "        0.40099362, 0.5948678 , 1.1385906 , 0.58478403, 1.08863   ,\n",
       "        1.4806764 , 1.3525887 , 0.45253217, 0.8081757 ],\n",
       "       [1.7433097 , 0.6994705 , 0.69433165, 1.019089  , 0.8890346 ,\n",
       "        0.6025727 , 1.1681936 , 1.4138772 , 0.82210696, 0.52153915,\n",
       "        1.1271988 , 0.9508968 , 0.9713782 , 1.4018631 , 0.98951185,\n",
       "        0.9242028 , 0.4610624 , 0.9911142 , 1.353734  , 1.6801052 ,\n",
       "        1.2350438 , 1.4722986 , 1.5219601 , 0.9153894 ],\n",
       "       [0.6267245 , 0.52424675, 1.5485175 , 1.42834   , 1.6068562 ,\n",
       "        0.91755724, 0.83160293, 1.2079539 , 1.4155657 , 1.1069173 ,\n",
       "        0.59610426, 0.6188894 , 0.3920569 , 1.1594504 , 0.6826043 ,\n",
       "        1.100315  , 1.0579493 , 0.63590026, 0.9335899 , 1.1854875 ,\n",
       "        1.1497263 , 0.7757902 , 0.74684393, 1.1727026 ],\n",
       "       [0.85478836, 1.156169  , 0.36367574, 0.6202628 , 0.79001963,\n",
       "        1.2243454 , 1.3066607 , 1.2117168 , 0.6041934 , 0.13601074,\n",
       "        1.2746475 , 0.94570243, 1.0431576 , 1.2873147 , 1.1804416 ,\n",
       "        1.3414917 , 0.912102  , 0.7367116 , 1.5762236 , 1.0109661 ,\n",
       "        1.6120634 , 0.38138667, 0.6832311 , 0.5102203 ],\n",
       "       [1.50979   , 0.9401756 , 0.43925807, 0.13127331, 1.2020833 ,\n",
       "        0.95395905, 1.1955928 , 0.7111864 , 1.4664044 , 0.8224484 ,\n",
       "        0.82795525, 0.8910577 , 0.35625163, 0.47003365, 1.0866708 ,\n",
       "        1.0442944 , 1.6258311 , 0.8320414 , 1.0545318 , 1.1643783 ,\n",
       "        1.184213  , 1.1511245 , 1.5466684 , 0.7371241 ],\n",
       "       [0.5145764 , 1.319613  , 1.0414808 , 0.5837143 , 0.8450559 ,\n",
       "        1.2486473 , 1.1552936 , 1.0067132 , 1.8796751 , 1.3142956 ,\n",
       "        0.94735694, 1.2382154 , 1.2988327 , 0.27343974, 0.5210946 ,\n",
       "        0.5865929 , 0.50957745, 1.8036728 , 0.7847882 , 0.9316133 ,\n",
       "        1.2485898 , 1.256953  , 1.6185758 , 1.0821731 ],\n",
       "       [0.822012  , 1.4416392 , 1.4430637 , 0.8098394 , 0.705522  ,\n",
       "        0.21077575, 1.3064487 , 1.4875616 , 0.62011695, 1.328646  ,\n",
       "        0.6045274 , 1.0041995 , 0.88432175, 0.6400949 , 1.0545428 ,\n",
       "        0.10639927, 0.29672807, 0.6047482 , 0.7923242 , 1.1515739 ,\n",
       "        1.5134803 , 0.78813016, 1.0530972 , 1.6585193 ],\n",
       "       [0.56506455, 0.5270062 , 0.509964  , 0.9590681 , 0.6373201 ,\n",
       "        1.0230473 , 0.62895536, 0.759277  , 1.3303695 , 0.27601302,\n",
       "        0.5142789 , 0.11673883, 0.3596935 , 1.6608036 , 0.97236264,\n",
       "        1.3951573 , 0.89717627, 0.6065843 , 1.2728682 , 1.3160899 ,\n",
       "        1.4823694 , 0.52186245, 1.1924833 , 1.1335828 ],\n",
       "       [0.27605376, 0.80782473, 0.9886943 , 1.6621299 , 0.7295378 ,\n",
       "        1.3782997 , 1.8095515 , 0.8562267 , 0.80376047, 0.5757365 ,\n",
       "        0.98867834, 0.90088046, 0.75019646, 0.30581772, 0.5849701 ,\n",
       "        0.80223477, 1.1948868 , 0.5406758 , 0.2402701 , 0.49732155,\n",
       "        1.0898702 , 1.3779283 , 0.40763092, 1.6771045 ],\n",
       "       [0.49027765, 0.8427812 , 1.4476845 , 1.1215894 , 0.39942157,\n",
       "        0.7981601 , 1.4074719 , 1.6812236 , 0.764687  , 0.7172917 ,\n",
       "        1.2786666 , 0.7955405 , 1.7353091 , 1.690691  , 0.66382784,\n",
       "        0.79891384, 0.15837313, 1.3082771 , 0.5201666 , 1.3752239 ,\n",
       "        0.93522507, 0.5348663 , 0.876263  , 0.6086612 ],\n",
       "       [0.74650633, 1.1748239 , 0.5754337 , 1.25547   , 0.8436613 ,\n",
       "        0.78987026, 1.5766199 , 1.5118866 , 1.2604532 , 1.0463994 ,\n",
       "        0.15027907, 1.1043981 , 0.74550885, 0.63417816, 0.8037693 ,\n",
       "        1.1730917 , 0.8728522 , 1.1291479 , 0.6877918 , 1.1307448 ,\n",
       "        0.785441  , 1.4685528 , 0.8188604 , 0.44679728]], dtype=float32)"
      ]
     },
     "execution_count": 10,
     "metadata": {},
     "output_type": "execute_result"
    }
   ],
   "source": [
    "#Copy data from device to host\n",
    "c_g.get(c)"
   ]
  },
  {
   "cell_type": "code",
   "execution_count": 11,
   "metadata": {},
   "outputs": [
    {
     "name": "stdout",
     "output_type": "stream",
     "text": [
      "('C   = ', array([[0.60322267, 1.0468098 , 1.1983753 , 1.9262348 , 0.89835006,\n",
      "        0.906222  , 1.4546161 , 1.6911205 , 1.978102  , 1.3054461 ,\n",
      "        1.0412226 , 1.35692   , 1.0133168 , 1.2303996 , 0.10033523,\n",
      "        1.2331028 , 1.5808566 , 1.2942475 , 0.5658936 , 0.8669513 ,\n",
      "        0.88242453, 1.2309461 , 0.82934564, 0.69193554],\n",
      "       [0.7168466 , 1.6120322 , 0.75725263, 1.157334  , 0.620676  ,\n",
      "        0.48420516, 0.4940294 , 1.6156669 , 1.105315  , 1.4619782 ,\n",
      "        0.62774295, 1.5831487 , 0.8725915 , 1.2806256 , 1.1019967 ,\n",
      "        1.5444654 , 1.162895  , 1.7543331 , 0.26421344, 1.0163856 ,\n",
      "        1.1796987 , 1.3012791 , 0.35339397, 0.40573174],\n",
      "       [1.6354585 , 1.4026561 , 1.5605586 , 0.26916593, 1.7632315 ,\n",
      "        0.3751415 , 0.72241926, 0.7698139 , 0.74775344, 0.7810175 ,\n",
      "        1.2501473 , 0.3789937 , 1.1904    , 0.5639826 , 1.3499365 ,\n",
      "        0.5003946 , 1.2212272 , 1.17519   , 1.2731848 , 0.99027365,\n",
      "        1.9214172 , 0.792005  , 1.4393531 , 0.5552401 ],\n",
      "       [1.6310323 , 1.4323742 , 1.4394674 , 0.9824313 , 0.20260848,\n",
      "        0.7571567 , 0.51081324, 0.98858726, 1.4202936 , 1.2065673 ,\n",
      "        0.44174558, 0.8911921 , 0.3639782 , 0.93059474, 1.7209935 ,\n",
      "        0.84164083, 1.284883  , 1.4625044 , 0.6014381 , 1.0777863 ,\n",
      "        0.6029905 , 0.6708625 , 1.2991055 , 1.5391129 ],\n",
      "       [1.1485084 , 1.2435647 , 1.1767273 , 0.9191135 , 0.63101935,\n",
      "        0.37020814, 1.0966072 , 1.076539  , 0.542154  , 1.2810491 ,\n",
      "        1.5016145 , 0.7866803 , 0.8514203 , 1.3940883 , 0.70581466,\n",
      "        1.551224  , 1.2518481 , 1.2649691 , 1.5193281 , 1.203485  ,\n",
      "        0.7930478 , 1.426892  , 0.7157978 , 0.33201343],\n",
      "       [0.8862651 , 1.011183  , 0.65784216, 0.46350494, 1.209239  ,\n",
      "        1.1669877 , 0.49741936, 0.72926915, 1.1426181 , 0.64136946,\n",
      "        1.558944  , 1.0272653 , 1.7217519 , 0.668938  , 1.2133468 ,\n",
      "        0.40099362, 0.5948678 , 1.1385906 , 0.58478403, 1.08863   ,\n",
      "        1.4806764 , 1.3525887 , 0.45253217, 0.8081757 ],\n",
      "       [1.7433097 , 0.6994705 , 0.69433165, 1.019089  , 0.8890346 ,\n",
      "        0.6025727 , 1.1681936 , 1.4138772 , 0.82210696, 0.52153915,\n",
      "        1.1271988 , 0.9508968 , 0.9713782 , 1.4018631 , 0.98951185,\n",
      "        0.9242028 , 0.4610624 , 0.9911142 , 1.353734  , 1.6801052 ,\n",
      "        1.2350438 , 1.4722986 , 1.5219601 , 0.9153894 ],\n",
      "       [0.6267245 , 0.52424675, 1.5485175 , 1.42834   , 1.6068562 ,\n",
      "        0.91755724, 0.83160293, 1.2079539 , 1.4155657 , 1.1069173 ,\n",
      "        0.59610426, 0.6188894 , 0.3920569 , 1.1594504 , 0.6826043 ,\n",
      "        1.100315  , 1.0579493 , 0.63590026, 0.9335899 , 1.1854875 ,\n",
      "        1.1497263 , 0.7757902 , 0.74684393, 1.1727026 ],\n",
      "       [0.85478836, 1.156169  , 0.36367574, 0.6202628 , 0.79001963,\n",
      "        1.2243454 , 1.3066607 , 1.2117168 , 0.6041934 , 0.13601074,\n",
      "        1.2746475 , 0.94570243, 1.0431576 , 1.2873147 , 1.1804416 ,\n",
      "        1.3414917 , 0.912102  , 0.7367116 , 1.5762236 , 1.0109661 ,\n",
      "        1.6120634 , 0.38138667, 0.6832311 , 0.5102203 ],\n",
      "       [1.50979   , 0.9401756 , 0.43925807, 0.13127331, 1.2020833 ,\n",
      "        0.95395905, 1.1955928 , 0.7111864 , 1.4664044 , 0.8224484 ,\n",
      "        0.82795525, 0.8910577 , 0.35625163, 0.47003365, 1.0866708 ,\n",
      "        1.0442944 , 1.6258311 , 0.8320414 , 1.0545318 , 1.1643783 ,\n",
      "        1.184213  , 1.1511245 , 1.5466684 , 0.7371241 ],\n",
      "       [0.5145764 , 1.319613  , 1.0414808 , 0.5837143 , 0.8450559 ,\n",
      "        1.2486473 , 1.1552936 , 1.0067132 , 1.8796751 , 1.3142956 ,\n",
      "        0.94735694, 1.2382154 , 1.2988327 , 0.27343974, 0.5210946 ,\n",
      "        0.5865929 , 0.50957745, 1.8036728 , 0.7847882 , 0.9316133 ,\n",
      "        1.2485898 , 1.256953  , 1.6185758 , 1.0821731 ],\n",
      "       [0.822012  , 1.4416392 , 1.4430637 , 0.8098394 , 0.705522  ,\n",
      "        0.21077575, 1.3064487 , 1.4875616 , 0.62011695, 1.328646  ,\n",
      "        0.6045274 , 1.0041995 , 0.88432175, 0.6400949 , 1.0545428 ,\n",
      "        0.10639927, 0.29672807, 0.6047482 , 0.7923242 , 1.1515739 ,\n",
      "        1.5134803 , 0.78813016, 1.0530972 , 1.6585193 ],\n",
      "       [0.56506455, 0.5270062 , 0.509964  , 0.9590681 , 0.6373201 ,\n",
      "        1.0230473 , 0.62895536, 0.759277  , 1.3303695 , 0.27601302,\n",
      "        0.5142789 , 0.11673883, 0.3596935 , 1.6608036 , 0.97236264,\n",
      "        1.3951573 , 0.89717627, 0.6065843 , 1.2728682 , 1.3160899 ,\n",
      "        1.4823694 , 0.52186245, 1.1924833 , 1.1335828 ],\n",
      "       [0.27605376, 0.80782473, 0.9886943 , 1.6621299 , 0.7295378 ,\n",
      "        1.3782997 , 1.8095515 , 0.8562267 , 0.80376047, 0.5757365 ,\n",
      "        0.98867834, 0.90088046, 0.75019646, 0.30581772, 0.5849701 ,\n",
      "        0.80223477, 1.1948868 , 0.5406758 , 0.2402701 , 0.49732155,\n",
      "        1.0898702 , 1.3779283 , 0.40763092, 1.6771045 ],\n",
      "       [0.49027765, 0.8427812 , 1.4476845 , 1.1215894 , 0.39942157,\n",
      "        0.7981601 , 1.4074719 , 1.6812236 , 0.764687  , 0.7172917 ,\n",
      "        1.2786666 , 0.7955405 , 1.7353091 , 1.690691  , 0.66382784,\n",
      "        0.79891384, 0.15837313, 1.3082771 , 0.5201666 , 1.3752239 ,\n",
      "        0.93522507, 0.5348663 , 0.876263  , 0.6086612 ],\n",
      "       [0.74650633, 1.1748239 , 0.5754337 , 1.25547   , 0.8436613 ,\n",
      "        0.78987026, 1.5766199 , 1.5118866 , 1.2604532 , 1.0463994 ,\n",
      "        0.15027907, 1.1043981 , 0.74550885, 0.63417816, 0.8037693 ,\n",
      "        1.1730917 , 0.8728522 , 1.1291479 , 0.6877918 , 1.1307448 ,\n",
      "        0.785441  , 1.4685528 , 0.8188604 , 0.44679728]], dtype=float32))\n",
      "('Ref = ', array([[0.60322267, 1.0468098 , 1.1983753 , 1.9262348 , 0.89835006,\n",
      "        0.906222  , 1.4546161 , 1.6911205 , 1.978102  , 1.3054461 ,\n",
      "        1.0412226 , 1.35692   , 1.0133168 , 1.2303996 , 0.10033523,\n",
      "        1.2331028 , 1.5808566 , 1.2942475 , 0.5658936 , 0.8669513 ,\n",
      "        0.88242453, 1.2309461 , 0.82934564, 0.69193554],\n",
      "       [0.7168466 , 1.6120322 , 0.75725263, 1.157334  , 0.620676  ,\n",
      "        0.48420516, 0.4940294 , 1.6156669 , 1.105315  , 1.4619782 ,\n",
      "        0.62774295, 1.5831487 , 0.8725915 , 1.2806256 , 1.1019967 ,\n",
      "        1.5444654 , 1.162895  , 1.7543331 , 0.26421344, 1.0163856 ,\n",
      "        1.1796987 , 1.3012791 , 0.35339397, 0.40573174],\n",
      "       [1.6354585 , 1.4026561 , 1.5605586 , 0.26916593, 1.7632315 ,\n",
      "        0.3751415 , 0.72241926, 0.7698139 , 0.74775344, 0.7810175 ,\n",
      "        1.2501473 , 0.3789937 , 1.1904    , 0.5639826 , 1.3499365 ,\n",
      "        0.5003946 , 1.2212272 , 1.17519   , 1.2731848 , 0.99027365,\n",
      "        1.9214172 , 0.792005  , 1.4393531 , 0.5552401 ],\n",
      "       [1.6310323 , 1.4323742 , 1.4394674 , 0.9824313 , 0.20260848,\n",
      "        0.7571567 , 0.51081324, 0.98858726, 1.4202936 , 1.2065673 ,\n",
      "        0.44174558, 0.8911921 , 0.3639782 , 0.93059474, 1.7209935 ,\n",
      "        0.84164083, 1.284883  , 1.4625044 , 0.6014381 , 1.0777863 ,\n",
      "        0.6029905 , 0.6708625 , 1.2991055 , 1.5391129 ],\n",
      "       [1.1485084 , 1.2435647 , 1.1767273 , 0.9191135 , 0.63101935,\n",
      "        0.37020814, 1.0966072 , 1.076539  , 0.542154  , 1.2810491 ,\n",
      "        1.5016145 , 0.7866803 , 0.8514203 , 1.3940883 , 0.70581466,\n",
      "        1.551224  , 1.2518481 , 1.2649691 , 1.5193281 , 1.203485  ,\n",
      "        0.7930478 , 1.426892  , 0.7157978 , 0.33201343],\n",
      "       [0.8862651 , 1.011183  , 0.65784216, 0.46350494, 1.209239  ,\n",
      "        1.1669877 , 0.49741936, 0.72926915, 1.1426181 , 0.64136946,\n",
      "        1.558944  , 1.0272653 , 1.7217519 , 0.668938  , 1.2133468 ,\n",
      "        0.40099362, 0.5948678 , 1.1385906 , 0.58478403, 1.08863   ,\n",
      "        1.4806764 , 1.3525887 , 0.45253217, 0.8081757 ],\n",
      "       [1.7433097 , 0.6994705 , 0.69433165, 1.019089  , 0.8890346 ,\n",
      "        0.6025727 , 1.1681936 , 1.4138772 , 0.82210696, 0.52153915,\n",
      "        1.1271988 , 0.9508968 , 0.9713782 , 1.4018631 , 0.98951185,\n",
      "        0.9242028 , 0.4610624 , 0.9911142 , 1.353734  , 1.6801052 ,\n",
      "        1.2350438 , 1.4722986 , 1.5219601 , 0.9153894 ],\n",
      "       [0.6267245 , 0.52424675, 1.5485175 , 1.42834   , 1.6068562 ,\n",
      "        0.91755724, 0.83160293, 1.2079539 , 1.4155657 , 1.1069173 ,\n",
      "        0.59610426, 0.6188894 , 0.3920569 , 1.1594504 , 0.6826043 ,\n",
      "        1.100315  , 1.0579493 , 0.63590026, 0.9335899 , 1.1854875 ,\n",
      "        1.1497263 , 0.7757902 , 0.74684393, 1.1727026 ],\n",
      "       [0.85478836, 1.156169  , 0.36367574, 0.6202628 , 0.79001963,\n",
      "        1.2243454 , 1.3066607 , 1.2117168 , 0.6041934 , 0.13601074,\n",
      "        1.2746475 , 0.94570243, 1.0431576 , 1.2873147 , 1.1804416 ,\n",
      "        1.3414917 , 0.912102  , 0.7367116 , 1.5762236 , 1.0109661 ,\n",
      "        1.6120634 , 0.38138667, 0.6832311 , 0.5102203 ],\n",
      "       [1.50979   , 0.9401756 , 0.43925807, 0.13127331, 1.2020833 ,\n",
      "        0.95395905, 1.1955928 , 0.7111864 , 1.4664044 , 0.8224484 ,\n",
      "        0.82795525, 0.8910577 , 0.35625163, 0.47003365, 1.0866708 ,\n",
      "        1.0442944 , 1.6258311 , 0.8320414 , 1.0545318 , 1.1643783 ,\n",
      "        1.184213  , 1.1511245 , 1.5466684 , 0.7371241 ],\n",
      "       [0.5145764 , 1.319613  , 1.0414808 , 0.5837143 , 0.8450559 ,\n",
      "        1.2486473 , 1.1552936 , 1.0067132 , 1.8796751 , 1.3142956 ,\n",
      "        0.94735694, 1.2382154 , 1.2988327 , 0.27343974, 0.5210946 ,\n",
      "        0.5865929 , 0.50957745, 1.8036728 , 0.7847882 , 0.9316133 ,\n",
      "        1.2485898 , 1.256953  , 1.6185758 , 1.0821731 ],\n",
      "       [0.822012  , 1.4416392 , 1.4430637 , 0.8098394 , 0.705522  ,\n",
      "        0.21077575, 1.3064487 , 1.4875616 , 0.62011695, 1.328646  ,\n",
      "        0.6045274 , 1.0041995 , 0.88432175, 0.6400949 , 1.0545428 ,\n",
      "        0.10639927, 0.29672807, 0.6047482 , 0.7923242 , 1.1515739 ,\n",
      "        1.5134803 , 0.78813016, 1.0530972 , 1.6585193 ],\n",
      "       [0.56506455, 0.5270062 , 0.509964  , 0.9590681 , 0.6373201 ,\n",
      "        1.0230473 , 0.62895536, 0.759277  , 1.3303695 , 0.27601302,\n",
      "        0.5142789 , 0.11673883, 0.3596935 , 1.6608036 , 0.97236264,\n",
      "        1.3951573 , 0.89717627, 0.6065843 , 1.2728682 , 1.3160899 ,\n",
      "        1.4823694 , 0.52186245, 1.1924833 , 1.1335828 ],\n",
      "       [0.27605376, 0.80782473, 0.9886943 , 1.6621299 , 0.7295378 ,\n",
      "        1.3782997 , 1.8095515 , 0.8562267 , 0.80376047, 0.5757365 ,\n",
      "        0.98867834, 0.90088046, 0.75019646, 0.30581772, 0.5849701 ,\n",
      "        0.80223477, 1.1948868 , 0.5406758 , 0.2402701 , 0.49732155,\n",
      "        1.0898702 , 1.3779283 , 0.40763092, 1.6771045 ],\n",
      "       [0.49027765, 0.8427812 , 1.4476845 , 1.1215894 , 0.39942157,\n",
      "        0.7981601 , 1.4074719 , 1.6812236 , 0.764687  , 0.7172917 ,\n",
      "        1.2786666 , 0.7955405 , 1.7353091 , 1.690691  , 0.66382784,\n",
      "        0.79891384, 0.15837313, 1.3082771 , 0.5201666 , 1.3752239 ,\n",
      "        0.93522507, 0.5348663 , 0.876263  , 0.6086612 ],\n",
      "       [0.74650633, 1.1748239 , 0.5754337 , 1.25547   , 0.8436613 ,\n",
      "        0.78987026, 1.5766199 , 1.5118866 , 1.2604532 , 1.0463994 ,\n",
      "        0.15027907, 1.1043981 , 0.74550885, 0.63417816, 0.8037693 ,\n",
      "        1.1730917 , 0.8728522 , 1.1291479 , 0.6877918 , 1.1307448 ,\n",
      "        0.785441  , 1.4685528 , 0.8188604 , 0.44679728]], dtype=float32))\n",
      "('Sad = ', 0.0)\n"
     ]
    }
   ],
   "source": [
    "#Compute reference using Numpy\n",
    "c_ref = a + b\n",
    "\n",
    "#Print result\n",
    "print(\"C   = \", c)\n",
    "print(\"Ref = \", c_ref)\n",
    "print(\"Sad = \", np.sum(np.abs(c - c_ref)))"
   ]
  },
  {
   "cell_type": "code",
   "execution_count": 12,
   "metadata": {},
   "outputs": [
    {
     "data": {
      "text/plain": [
       "<matplotlib.image.AxesImage at 0x7fc9c5094910>"
      ]
     },
     "execution_count": 12,
     "metadata": {},
     "output_type": "execute_result"
    },
    {
     "data": {
      "image/png": "[encoded data removed]",
      "text/plain": [
       "<Figure size 864x576 with 2 Axes>"
      ]
     },
     "metadata": {
      "needs_background": "light"
     },
     "output_type": "display_data"
    }
   ],
   "source": [
    "plt.figure(figsize=(12,8))\n",
    "plt.subplot(1,2,1)\n",
    "plt.imshow(c)\n",
    "plt.subplot(1,2,2)\n",
    "plt.imshow(c_ref)"
   ]
  },
  {
   "cell_type": "code",
   "execution_count": 8,
   "metadata": {},
   "outputs": [
    {
     "name": "stdout",
     "output_type": "stream",
     "text": [
      "shqhin\n"
     ]
    }
   ],
   "source": [
    "print(\"shqhin\")"
   ]
  },
  {
   "cell_type": "code",
   "execution_count": null,
   "metadata": {},
   "outputs": [],
   "source": []
  }
 ],
 "metadata": {
  "kernelspec": {
   "display_name": "Python 2",
   "language": "python",
   "name": "python2"
  },
  "language_info": {
   "codemirror_mode": {
    "name": "ipython",
    "version": 2
   },
   "file_extension": ".py",
   "mimetype": "text/x-python",
   "name": "python",
   "nbconvert_exporter": "python",
   "pygments_lexer": "ipython2",
   "version": "2.7.5"
  }
 },
 "nbformat": 4,
 "nbformat_minor": 2
}
