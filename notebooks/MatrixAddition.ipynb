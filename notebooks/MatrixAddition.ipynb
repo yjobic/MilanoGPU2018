{
 "cells": [
  {
   "cell_type": "markdown",
   "metadata": {},
   "source": [
    "# License\n",
    "\n",
    "    Jupyter notebook for accessing CUDA\n",
    "    Copyright (C) 2018 Andre.Brodtkorb@ifi.uio.no\n",
    "\n",
    "    This program is free software: you can redistribute it and/or modify\n",
    "    it under the terms of the GNU General Public License as published by\n",
    "    the Free Software Foundation, either version 3 of the License, or\n",
    "    (at your option) any later version.\n",
    "\n",
    "    This program is distributed in the hope that it will be useful,\n",
    "    but WITHOUT ANY WARRANTY; without even the implied warranty of\n",
    "    MERCHANTABILITY or FITNESS FOR A PARTICULAR PURPOSE.  See the\n",
    "    GNU General Public License for more details.\n",
    "\n",
    "    You should have received a copy of the GNU General Public License\n",
    "    along with this program.  If not, see <http://www.gnu.org/licenses/>."
   ]
  },
  {
   "cell_type": "code",
   "execution_count": 1,
   "metadata": {},
   "outputs": [],
   "source": [
    "#Lets have matplotlib \"inline\"\n",
    "%matplotlib inline\n",
    "\n",
    "#Import packages we need\n",
    "import numpy as np\n",
    "import pycuda.compiler as cuda_compiler\n",
    "from pycuda.gpuarray import GPUArray\n",
    "import pycuda.driver as cuda_driver\n",
    "\n",
    "from matplotlib import pyplot as plt"
   ]
  },
  {
   "cell_type": "code",
   "execution_count": 2,
   "metadata": {},
   "outputs": [],
   "source": [
    "#Initialize CUDA - must be first call to CUDA!\n",
    "cuda_driver.init()"
   ]
  },
  {
   "cell_type": "code",
   "execution_count": 3,
   "metadata": {},
   "outputs": [
    {
     "name": "stdout",
     "output_type": "stream",
     "text": [
      "Using 'Tesla K80'\n",
      " => compute capability: (3, 7)\n",
      " => memory: 11248 / 11441 MB available\n"
     ]
    }
   ],
   "source": [
    "#Create CUDA context\n",
    "cuda_device = cuda_driver.Device(0)\n",
    "print(\"Using '{:s}'\".format(cuda_device.name()))\n",
    "print(\" => compute capability: {:s}\".format(str(cuda_device.compute_capability())))\n",
    "context = cuda_device.make_context()\n",
    "free, total = cuda_driver.mem_get_info()\n",
    "print(\" => memory: {:d} / {:d} MB available\".format(int(free/(1024*1024)), int(total/(1024*1024))))"
   ]
  },
  {
   "cell_type": "code",
   "execution_count": 10,
   "metadata": {},
   "outputs": [],
   "source": [
    "cuda_kernel = \"\"\"\n",
    "__global__ void addVectorKernel(float* c, float* a, float* b) {\n",
    "    unsigned int i = blockIdx.x*blockDim.x + threadIdx.x;\n",
    "    c[i] = a[i] + b[i];\n",
    "}\n",
    "\n",
    "__global__ void addMatrixKernel(float* c, float* a, float* b, int nbCols) {\n",
    "    unsigned int iX = blockIdx.x*blockDim.x + threadIdx.x;\n",
    "    unsigned int iY = blockIdx.y*blockDim.y + threadIdx.y;\n",
    "    unsigned int position = iY*nbCols + iX;\n",
    "    \n",
    "    c[position] = a[position] + b[position];\n",
    "}\n",
    "\"\"\"\n",
    "module = cuda_compiler.SourceModule(cuda_kernel)\n",
    "kernel = module.get_function(\"addMatrixKernel\");"
   ]
  },
  {
   "cell_type": "code",
   "execution_count": 14,
   "metadata": {},
   "outputs": [
    {
     "data": {
      "text/plain": [
       "<bound method Figure.show of <matplotlib.figure.Figure object at 0x7fc9801a3748>>"
      ]
     },
     "execution_count": 14,
     "metadata": {},
     "output_type": "execute_result"
    },
    {
     "data": {
      "image/png": "[encoded data removed]",
      "text/plain": [
       "<matplotlib.figure.Figure at 0x7fc9801a3748>"
      ]
     },
     "metadata": {
      "needs_background": "light"
     },
     "output_type": "display_data"
    }
   ],
   "source": [
    "#Size of our test\n",
    "test_size = (16,24)\n",
    "\n",
    "#Create test input / output data\n",
    "a = np.random.random(test_size).astype(np.float32)\n",
    "b = np.random.random(test_size).astype(np.float32)\n",
    "c = np.empty_like(a)\n",
    "\n",
    "fig = plt.figure(figsize=(12,8))\n",
    "plt.imshow(a)\n",
    "plt.colorbar()\n",
    "fig.show"
   ]
  },
  {
   "cell_type": "code",
   "execution_count": 15,
   "metadata": {},
   "outputs": [
    {
     "name": "stdout",
     "output_type": "stream",
     "text": [
      "(16, 24)\n"
     ]
    }
   ],
   "source": [
    "print(a.shape)"
   ]
  },
  {
   "cell_type": "code",
   "execution_count": 16,
   "metadata": {},
   "outputs": [],
   "source": [
    "#Upload data to the device\n",
    "a_g = GPUArray(a.shape, np.float32)\n",
    "b_g = GPUArray(b.shape, np.float32)\n",
    "a_g.set(a)\n",
    "b_g.set(b)\n",
    "\n",
    "#Allocate output data\n",
    "c_g = GPUArray(c.shape, np.float32)"
   ]
  },
  {
   "cell_type": "code",
   "execution_count": 44,
   "metadata": {},
   "outputs": [
    {
     "name": "stdout",
     "output_type": "stream",
     "text": [
      "Domain size is(24, 16)\n",
      "Block size is(8, 8, 1)\n",
      "grid size is(3, 2, 1)\n"
     ]
    }
   ],
   "source": [
    "#a.shape = [rows, columns] => [y,x]\n",
    "domain_size = (a.shape[1], a.shape[0])\n",
    "block_size = (8,8,1)\n",
    "grid_size = (domain_size[0] // block_size[0], domain_size[1] // block_size[1], 1)\n",
    "\n",
    "print(\"Domain size is\" + str(domain_size))\n",
    "print(\"Block size is\" + str(block_size))\n",
    "print(\"grid size is\" + str(grid_size))"
   ]
  },
  {
   "cell_type": "code",
   "execution_count": 43,
   "metadata": {},
   "outputs": [],
   "source": [
    "#Execute program on device\n",
    "#Be careful of the number of columns, which is domain_size[0]\n",
    "#in order to be sur to pass an int32, we use np.int32\n",
    "kernel(c_g, a_g, b_g, np.int32(domain_size[0]), block=block_size, grid=grid_size)"
   ]
  },
  {
   "cell_type": "code",
   "execution_count": 39,
   "metadata": {},
   "outputs": [
    {
     "data": {
      "text/plain": [
       "array([[1.1283193 , 0.31667048, 0.824615  , 1.2768942 , 0.40518612,\n",
       "        1.3820637 , 0.3156299 , 0.94191575, 1.2726105 , 0.57358146,\n",
       "        1.2108518 , 1.3740311 , 0.81758   , 1.0975591 , 1.457125  ,\n",
       "        0.689368  , 0.61287117, 0.2190557 , 0.5079118 , 0.9195402 ,\n",
       "        1.2072691 , 1.2164472 , 1.3324282 , 1.4888766 ],\n",
       "       [1.0637007 , 0.6710679 , 0.36069876, 0.4441018 , 0.9951946 ,\n",
       "        0.44849122, 0.6265882 , 1.1408472 , 1.3695643 , 0.64733994,\n",
       "        0.4878511 , 0.9902442 , 0.14928755, 0.40210307, 1.4091423 ,\n",
       "        0.87274516, 0.34248358, 1.3341243 , 0.8079238 , 0.01155278,\n",
       "        1.243092  , 1.2019053 , 1.0263193 , 1.0576187 ],\n",
       "       [1.1351644 , 1.3018385 , 0.42558438, 1.102217  , 1.289573  ,\n",
       "        0.9380795 , 1.7345    , 1.515516  , 1.8124967 , 0.99122524,\n",
       "        1.1471088 , 0.9489788 , 0.75885546, 0.65181446, 0.9186585 ,\n",
       "        1.4626269 , 1.0720685 , 0.72604465, 1.7774873 , 0.76774085,\n",
       "        1.5795324 , 1.2473282 , 0.6539892 , 0.2847533 ],\n",
       "       [0.2571902 , 1.0098451 , 1.1434008 , 0.3604671 , 0.7671746 ,\n",
       "        1.4266737 , 0.84600925, 1.342627  , 1.1867422 , 0.33216226,\n",
       "        0.68031734, 1.7382768 , 0.7438729 , 0.5456361 , 1.6226261 ,\n",
       "        1.0092031 , 1.1448776 , 1.1807789 , 1.4133134 , 0.30583274,\n",
       "        1.620599  , 1.4750893 , 1.5704639 , 0.6121668 ],\n",
       "       [1.0190489 , 0.5588972 , 0.8961236 , 1.4348843 , 0.7499066 ,\n",
       "        0.93317235, 0.10621694, 1.7958877 , 0.29705787, 0.98055714,\n",
       "        0.99803597, 0.9785488 , 1.4969282 , 1.2208203 , 0.9561982 ,\n",
       "        1.0562782 , 0.686586  , 0.41660866, 1.8062109 , 1.1918725 ,\n",
       "        1.571574  , 1.8151942 , 1.0909977 , 0.4829614 ],\n",
       "       [0.7093575 , 1.0313456 , 0.8274009 , 1.16473   , 0.5279489 ,\n",
       "        0.8794069 , 1.6147621 , 0.7771866 , 0.5252885 , 0.732171  ,\n",
       "        0.46237344, 1.0618699 , 1.1938585 , 1.3657267 , 0.87486017,\n",
       "        0.5710405 , 1.1353167 , 1.4373856 , 1.3520303 , 1.6991318 ,\n",
       "        0.45261538, 1.0464778 , 0.5528867 , 1.7037079 ],\n",
       "       [1.194181  , 1.6006116 , 0.52582836, 0.6758459 , 0.5361136 ,\n",
       "        0.84110254, 1.4604843 , 0.37279543, 1.6171118 , 1.0271645 ,\n",
       "        0.7222269 , 1.0078518 , 0.5917101 , 1.2513902 , 1.446707  ,\n",
       "        1.2101026 , 1.3312788 , 0.5439665 , 1.0816694 , 0.80442095,\n",
       "        1.2582235 , 0.8566327 , 1.0481651 , 0.95006347],\n",
       "       [1.0704231 , 0.40024394, 0.6076535 , 1.0245708 , 1.2784922 ,\n",
       "        1.4863551 , 1.2085767 , 1.6316773 , 0.4205505 , 1.5152872 ,\n",
       "        1.5145199 , 1.3789648 , 0.9077163 , 0.5995503 , 1.0554433 ,\n",
       "        1.8541813 , 0.53711   , 1.3829627 , 1.5466447 , 0.7065386 ,\n",
       "        1.3898256 , 1.8956141 , 1.7228756 , 1.1719135 ],\n",
       "       [0.7296504 , 1.5805771 , 0.56490934, 0.5514233 , 0.45708048,\n",
       "        0.98293245, 0.88334125, 1.6763241 , 1.2630799 , 0.3971831 ,\n",
       "        1.0345364 , 0.80154896, 1.1728622 , 0.43122876, 1.0470414 ,\n",
       "        1.0572584 , 0.08798431, 0.5453602 , 1.1765499 , 1.6505774 ,\n",
       "        0.75226635, 0.8638938 , 0.25543228, 0.7837919 ],\n",
       "       [1.0839989 , 0.7097547 , 0.5084772 , 1.0440372 , 1.8087194 ,\n",
       "        0.9306159 , 1.2038463 , 0.6878011 , 1.5898765 , 0.6384798 ,\n",
       "        0.4865259 , 1.271106  , 1.7518073 , 0.75899804, 1.4713973 ,\n",
       "        1.7560444 , 0.95575726, 0.7495198 , 1.1026397 , 0.41579333,\n",
       "        0.37787098, 1.4803789 , 0.5348031 , 0.2995189 ],\n",
       "       [0.8198276 , 1.231083  , 0.3976128 , 1.0915232 , 1.6847816 ,\n",
       "        0.6935288 , 0.82028246, 1.1760895 , 1.2352463 , 0.69396925,\n",
       "        1.0290866 , 1.7079425 , 1.0538731 , 0.3426942 , 1.7090986 ,\n",
       "        1.0558478 , 0.9759663 , 0.45859978, 0.98007536, 1.7371361 ,\n",
       "        1.0132238 , 0.978935  , 1.5925003 , 1.7683703 ],\n",
       "       [0.51490295, 0.7918464 , 1.0495473 , 1.2327234 , 0.8349744 ,\n",
       "        0.8252822 , 1.191875  , 1.0458671 , 1.4718847 , 0.7817376 ,\n",
       "        1.4555875 , 0.402829  , 1.2203156 , 0.6580829 , 0.8950108 ,\n",
       "        0.9091368 , 0.9316479 , 1.2549883 , 0.8572948 , 0.09629032,\n",
       "        1.1527054 , 1.3834916 , 0.8979604 , 0.9185148 ],\n",
       "       [0.45493656, 1.2329214 , 1.225043  , 1.4732608 , 0.76707226,\n",
       "        0.66749233, 0.37023583, 1.1567701 , 1.0210247 , 1.6971693 ,\n",
       "        0.08640972, 0.6719379 , 0.9730964 , 0.951072  , 1.5584053 ,\n",
       "        0.7399073 , 1.2875437 , 0.9848289 , 1.6861734 , 1.4907045 ,\n",
       "        0.72040856, 0.49598575, 1.229361  , 0.5586989 ],\n",
       "       [1.1757393 , 1.3555498 , 0.6640948 , 1.7299203 , 0.7123263 ,\n",
       "        1.3267124 , 0.8053378 , 1.3179483 , 0.3896705 , 0.22720945,\n",
       "        1.3568082 , 1.0252368 , 0.56412625, 0.5662123 , 1.2005346 ,\n",
       "        1.6787937 , 1.6635422 , 1.083364  , 0.3091883 , 1.5353363 ,\n",
       "        0.9896569 , 0.95094633, 1.4108374 , 1.1408076 ],\n",
       "       [1.384349  , 1.8497328 , 1.9156444 , 1.2753835 , 1.0052216 ,\n",
       "        0.60925525, 1.1383502 , 0.4814056 , 0.70526284, 0.7909841 ,\n",
       "        1.4019023 , 0.9736495 , 0.83651096, 0.9653683 , 0.79366475,\n",
       "        1.2587802 , 1.3645465 , 1.1392174 , 1.4250519 , 1.0366939 ,\n",
       "        0.57808936, 1.1941515 , 0.5884794 , 0.45640457],\n",
       "       [0.8249241 , 1.0763367 , 0.5284086 , 0.3576572 , 0.17603512,\n",
       "        1.7441438 , 1.3683736 , 1.8625827 , 1.8061354 , 1.1618602 ,\n",
       "        0.7490487 , 0.797115  , 1.4301993 , 1.1018533 , 1.3251126 ,\n",
       "        1.1393422 , 0.92904335, 0.79643685, 0.92003673, 0.29275557,\n",
       "        1.1689353 , 1.3081737 , 0.09654446, 1.2558241 ]], dtype=float32)"
      ]
     },
     "execution_count": 39,
     "metadata": {},
     "output_type": "execute_result"
    }
   ],
   "source": [
    "#Copy data from device to host\n",
    "c_g.get(c)"
   ]
  },
  {
   "cell_type": "code",
   "execution_count": 40,
   "metadata": {},
   "outputs": [
    {
     "name": "stdout",
     "output_type": "stream",
     "text": [
      "C   =  [[1.1283193  0.31667048 0.824615   1.2768942  0.40518612 1.3820637\n",
      "  0.3156299  0.94191575 1.2726105  0.57358146 1.2108518  1.3740311\n",
      "  0.81758    1.0975591  1.457125   0.689368   0.61287117 0.2190557\n",
      "  0.5079118  0.9195402  1.2072691  1.2164472  1.3324282  1.4888766 ]\n",
      " [1.0637007  0.6710679  0.36069876 0.4441018  0.9951946  0.44849122\n",
      "  0.6265882  1.1408472  1.3695643  0.64733994 0.4878511  0.9902442\n",
      "  0.14928755 0.40210307 1.4091423  0.87274516 0.34248358 1.3341243\n",
      "  0.8079238  0.01155278 1.243092   1.2019053  1.0263193  1.0576187 ]\n",
      " [1.1351644  1.3018385  0.42558438 1.102217   1.289573   0.9380795\n",
      "  1.7345     1.515516   1.8124967  0.99122524 1.1471088  0.9489788\n",
      "  0.75885546 0.65181446 0.9186585  1.4626269  1.0720685  0.72604465\n",
      "  1.7774873  0.76774085 1.5795324  1.2473282  0.6539892  0.2847533 ]\n",
      " [0.2571902  1.0098451  1.1434008  0.3604671  0.7671746  1.4266737\n",
      "  0.84600925 1.342627   1.1867422  0.33216226 0.68031734 1.7382768\n",
      "  0.7438729  0.5456361  1.6226261  1.0092031  1.1448776  1.1807789\n",
      "  1.4133134  0.30583274 1.620599   1.4750893  1.5704639  0.6121668 ]\n",
      " [1.0190489  0.5588972  0.8961236  1.4348843  0.7499066  0.93317235\n",
      "  0.10621694 1.7958877  0.29705787 0.98055714 0.99803597 0.9785488\n",
      "  1.4969282  1.2208203  0.9561982  1.0562782  0.686586   0.41660866\n",
      "  1.8062109  1.1918725  1.571574   1.8151942  1.0909977  0.4829614 ]\n",
      " [0.7093575  1.0313456  0.8274009  1.16473    0.5279489  0.8794069\n",
      "  1.6147621  0.7771866  0.5252885  0.732171   0.46237344 1.0618699\n",
      "  1.1938585  1.3657267  0.87486017 0.5710405  1.1353167  1.4373856\n",
      "  1.3520303  1.6991318  0.45261538 1.0464778  0.5528867  1.7037079 ]\n",
      " [1.194181   1.6006116  0.52582836 0.6758459  0.5361136  0.84110254\n",
      "  1.4604843  0.37279543 1.6171118  1.0271645  0.7222269  1.0078518\n",
      "  0.5917101  1.2513902  1.446707   1.2101026  1.3312788  0.5439665\n",
      "  1.0816694  0.80442095 1.2582235  0.8566327  1.0481651  0.95006347]\n",
      " [1.0704231  0.40024394 0.6076535  1.0245708  1.2784922  1.4863551\n",
      "  1.2085767  1.6316773  0.4205505  1.5152872  1.5145199  1.3789648\n",
      "  0.9077163  0.5995503  1.0554433  1.8541813  0.53711    1.3829627\n",
      "  1.5466447  0.7065386  1.3898256  1.8956141  1.7228756  1.1719135 ]\n",
      " [0.7296504  1.5805771  0.56490934 0.5514233  0.45708048 0.98293245\n",
      "  0.88334125 1.6763241  1.2630799  0.3971831  1.0345364  0.80154896\n",
      "  1.1728622  0.43122876 1.0470414  1.0572584  0.08798431 0.5453602\n",
      "  1.1765499  1.6505774  0.75226635 0.8638938  0.25543228 0.7837919 ]\n",
      " [1.0839989  0.7097547  0.5084772  1.0440372  1.8087194  0.9306159\n",
      "  1.2038463  0.6878011  1.5898765  0.6384798  0.4865259  1.271106\n",
      "  1.7518073  0.75899804 1.4713973  1.7560444  0.95575726 0.7495198\n",
      "  1.1026397  0.41579333 0.37787098 1.4803789  0.5348031  0.2995189 ]\n",
      " [0.8198276  1.231083   0.3976128  1.0915232  1.6847816  0.6935288\n",
      "  0.82028246 1.1760895  1.2352463  0.69396925 1.0290866  1.7079425\n",
      "  1.0538731  0.3426942  1.7090986  1.0558478  0.9759663  0.45859978\n",
      "  0.98007536 1.7371361  1.0132238  0.978935   1.5925003  1.7683703 ]\n",
      " [0.51490295 0.7918464  1.0495473  1.2327234  0.8349744  0.8252822\n",
      "  1.191875   1.0458671  1.4718847  0.7817376  1.4555875  0.402829\n",
      "  1.2203156  0.6580829  0.8950108  0.9091368  0.9316479  1.2549883\n",
      "  0.8572948  0.09629032 1.1527054  1.3834916  0.8979604  0.9185148 ]\n",
      " [0.45493656 1.2329214  1.225043   1.4732608  0.76707226 0.66749233\n",
      "  0.37023583 1.1567701  1.0210247  1.6971693  0.08640972 0.6719379\n",
      "  0.9730964  0.951072   1.5584053  0.7399073  1.2875437  0.9848289\n",
      "  1.6861734  1.4907045  0.72040856 0.49598575 1.229361   0.5586989 ]\n",
      " [1.1757393  1.3555498  0.6640948  1.7299203  0.7123263  1.3267124\n",
      "  0.8053378  1.3179483  0.3896705  0.22720945 1.3568082  1.0252368\n",
      "  0.56412625 0.5662123  1.2005346  1.6787937  1.6635422  1.083364\n",
      "  0.3091883  1.5353363  0.9896569  0.95094633 1.4108374  1.1408076 ]\n",
      " [1.384349   1.8497328  1.9156444  1.2753835  1.0052216  0.60925525\n",
      "  1.1383502  0.4814056  0.70526284 0.7909841  1.4019023  0.9736495\n",
      "  0.83651096 0.9653683  0.79366475 1.2587802  1.3645465  1.1392174\n",
      "  1.4250519  1.0366939  0.57808936 1.1941515  0.5884794  0.45640457]\n",
      " [0.8249241  1.0763367  0.5284086  0.3576572  0.17603512 1.7441438\n",
      "  1.3683736  1.8625827  1.8061354  1.1618602  0.7490487  0.797115\n",
      "  1.4301993  1.1018533  1.3251126  1.1393422  0.92904335 0.79643685\n",
      "  0.92003673 0.29275557 1.1689353  1.3081737  0.09654446 1.2558241 ]]\n",
      "Ref =  [[1.1283193  0.31667048 0.824615   1.2768942  0.40518612 1.3820637\n",
      "  0.3156299  0.94191575 1.2726105  0.57358146 1.2108518  1.3740311\n",
      "  0.81758    1.0975591  1.457125   0.689368   0.61287117 0.2190557\n",
      "  0.5079118  0.9195402  1.2072691  1.2164472  1.3324282  1.4888766 ]\n",
      " [1.0637007  0.6710679  0.36069876 0.4441018  0.9951946  0.44849122\n",
      "  0.6265882  1.1408472  1.3695643  0.64733994 0.4878511  0.9902442\n",
      "  0.14928755 0.40210307 1.4091423  0.87274516 0.34248358 1.3341243\n",
      "  0.8079238  0.01155278 1.243092   1.2019053  1.0263193  1.0576187 ]\n",
      " [1.1351644  1.3018385  0.42558438 1.102217   1.289573   0.9380795\n",
      "  1.7345     1.515516   1.8124967  0.99122524 1.1471088  0.9489788\n",
      "  0.75885546 0.65181446 0.9186585  1.4626269  1.0720685  0.72604465\n",
      "  1.7774873  0.76774085 1.5795324  1.2473282  0.6539892  0.2847533 ]\n",
      " [0.2571902  1.0098451  1.1434008  0.3604671  0.7671746  1.4266737\n",
      "  0.84600925 1.342627   1.1867422  0.33216226 0.68031734 1.7382768\n",
      "  0.7438729  0.5456361  1.6226261  1.0092031  1.1448776  1.1807789\n",
      "  1.4133134  0.30583274 1.620599   1.4750893  1.5704639  0.6121668 ]\n",
      " [1.0190489  0.5588972  0.8961236  1.4348843  0.7499066  0.93317235\n",
      "  0.10621694 1.7958877  0.29705787 0.98055714 0.99803597 0.9785488\n",
      "  1.4969282  1.2208203  0.9561982  1.0562782  0.686586   0.41660866\n",
      "  1.8062109  1.1918725  1.571574   1.8151942  1.0909977  0.4829614 ]\n",
      " [0.7093575  1.0313456  0.8274009  1.16473    0.5279489  0.8794069\n",
      "  1.6147621  0.7771866  0.5252885  0.732171   0.46237344 1.0618699\n",
      "  1.1938585  1.3657267  0.87486017 0.5710405  1.1353167  1.4373856\n",
      "  1.3520303  1.6991318  0.45261538 1.0464778  0.5528867  1.7037079 ]\n",
      " [1.194181   1.6006116  0.52582836 0.6758459  0.5361136  0.84110254\n",
      "  1.4604843  0.37279543 1.6171118  1.0271645  0.7222269  1.0078518\n",
      "  0.5917101  1.2513902  1.446707   1.2101026  1.3312788  0.5439665\n",
      "  1.0816694  0.80442095 1.2582235  0.8566327  1.0481651  0.95006347]\n",
      " [1.0704231  0.40024394 0.6076535  1.0245708  1.2784922  1.4863551\n",
      "  1.2085767  1.6316773  0.4205505  1.5152872  1.5145199  1.3789648\n",
      "  0.9077163  0.5995503  1.0554433  1.8541813  0.53711    1.3829627\n",
      "  1.5466447  0.7065386  1.3898256  1.8956141  1.7228756  1.1719135 ]\n",
      " [0.7296504  1.5805771  0.56490934 0.5514233  0.45708048 0.98293245\n",
      "  0.88334125 1.6763241  1.2630799  0.3971831  1.0345364  0.80154896\n",
      "  1.1728622  0.43122876 1.0470414  1.0572584  0.08798431 0.5453602\n",
      "  1.1765499  1.6505774  0.75226635 0.8638938  0.25543228 0.7837919 ]\n",
      " [1.0839989  0.7097547  0.5084772  1.0440372  1.8087194  0.9306159\n",
      "  1.2038463  0.6878011  1.5898765  0.6384798  0.4865259  1.271106\n",
      "  1.7518073  0.75899804 1.4713973  1.7560444  0.95575726 0.7495198\n",
      "  1.1026397  0.41579333 0.37787098 1.4803789  0.5348031  0.2995189 ]\n",
      " [0.8198276  1.231083   0.3976128  1.0915232  1.6847816  0.6935288\n",
      "  0.82028246 1.1760895  1.2352463  0.69396925 1.0290866  1.7079425\n",
      "  1.0538731  0.3426942  1.7090986  1.0558478  0.9759663  0.45859978\n",
      "  0.98007536 1.7371361  1.0132238  0.978935   1.5925003  1.7683703 ]\n",
      " [0.51490295 0.7918464  1.0495473  1.2327234  0.8349744  0.8252822\n",
      "  1.191875   1.0458671  1.4718847  0.7817376  1.4555875  0.402829\n",
      "  1.2203156  0.6580829  0.8950108  0.9091368  0.9316479  1.2549883\n",
      "  0.8572948  0.09629032 1.1527054  1.3834916  0.8979604  0.9185148 ]\n",
      " [0.45493656 1.2329214  1.225043   1.4732608  0.76707226 0.66749233\n",
      "  0.37023583 1.1567701  1.0210247  1.6971693  0.08640972 0.6719379\n",
      "  0.9730964  0.951072   1.5584053  0.7399073  1.2875437  0.9848289\n",
      "  1.6861734  1.4907045  0.72040856 0.49598575 1.229361   0.5586989 ]\n",
      " [1.1757393  1.3555498  0.6640948  1.7299203  0.7123263  1.3267124\n",
      "  0.8053378  1.3179483  0.3896705  0.22720945 1.3568082  1.0252368\n",
      "  0.56412625 0.5662123  1.2005346  1.6787937  1.6635422  1.083364\n",
      "  0.3091883  1.5353363  0.9896569  0.95094633 1.4108374  1.1408076 ]\n",
      " [1.384349   1.8497328  1.9156444  1.2753835  1.0052216  0.60925525\n",
      "  1.1383502  0.4814056  0.70526284 0.7909841  1.4019023  0.9736495\n",
      "  0.83651096 0.9653683  0.79366475 1.2587802  1.3645465  1.1392174\n",
      "  1.4250519  1.0366939  0.57808936 1.1941515  0.5884794  0.45640457]\n",
      " [0.8249241  1.0763367  0.5284086  0.3576572  0.17603512 1.7441438\n",
      "  1.3683736  1.8625827  1.8061354  1.1618602  0.7490487  0.797115\n",
      "  1.4301993  1.1018533  1.3251126  1.1393422  0.92904335 0.79643685\n",
      "  0.92003673 0.29275557 1.1689353  1.3081737  0.09654446 1.2558241 ]]\n",
      "Sad =  0.0\n"
     ]
    }
   ],
   "source": [
    "#Compute reference using Numpy\n",
    "c_ref = a + b\n",
    "\n",
    "#Print result\n",
    "print(\"C   = \", c)\n",
    "print(\"Ref = \", c_ref)\n",
    "print(\"Sad = \", np.sum(np.abs(c - c_ref)))"
   ]
  },
  {
   "cell_type": "code",
   "execution_count": 42,
   "metadata": {},
   "outputs": [
    {
     "data": {
      "text/plain": [
       "<matplotlib.image.AxesImage at 0x7fc965d96e10>"
      ]
     },
     "execution_count": 42,
     "metadata": {},
     "output_type": "execute_result"
    },
    {
     "data": {
      "image/png": "[encoded data removed]",
      "text/plain": [
       "<matplotlib.figure.Figure at 0x7fc965e1dd68>"
      ]
     },
     "metadata": {
      "needs_background": "light"
     },
     "output_type": "display_data"
    }
   ],
   "source": [
    "plt.figure(figsize=(12,8))\n",
    "plt.subplot(1,2,1)\n",
    "plt.imshow(c)\n",
    "plt.subplot(1,2,2)\n",
    "plt.imshow(c_ref)"
   ]
  },
  {
   "cell_type": "code",
   "execution_count": 8,
   "metadata": {},
   "outputs": [
    {
     "name": "stdout",
     "output_type": "stream",
     "text": [
      "shqhin\n"
     ]
    }
   ],
   "source": [
    "print(\"shqhin\")"
   ]
  },
  {
   "cell_type": "code",
   "execution_count": null,
   "metadata": {},
   "outputs": [],
   "source": []
  }
 ],
 "metadata": {
  "kernelspec": {
   "display_name": "Python 3",
   "language": "python",
   "name": "python3"
  },
  "language_info": {
   "codemirror_mode": {
    "name": "ipython",
    "version": 3
   },
   "file_extension": ".py",
   "mimetype": "text/x-python",
   "name": "python",
   "nbconvert_exporter": "python",
   "pygments_lexer": "ipython3",
   "version": "3.6.6"
  }
 },
 "nbformat": 4,
 "nbformat_minor": 2
}
