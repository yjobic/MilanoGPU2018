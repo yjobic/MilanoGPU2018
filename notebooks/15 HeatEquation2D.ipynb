{
 "cells": [
  {
   "cell_type": "markdown",
   "metadata": {},
   "source": [
    "# License\n",
    "    IPython notebook for simulating the linear wave equation with CUDA\n",
    "    Copyright (C) 2015, 2018 Andre.Brodtkorb@ifi.uio.no\n",
    "\n",
    "    This program is free software: you can redistribute it and/or modify\n",
    "    it under the terms of the GNU General Public License as published by\n",
    "    the Free Software Foundation, either version 3 of the License, or\n",
    "    (at your option) any later version.\n",
    "\n",
    "    This program is distributed in the hope that it will be useful,\n",
    "    but WITHOUT ANY WARRANTY; without even the implied warranty of\n",
    "    MERCHANTABILITY or FITNESS FOR A PARTICULAR PURPOSE.  See the\n",
    "    GNU General Public License for more details.\n",
    "\n",
    "    You should have received a copy of the GNU General Public License\n",
    "    along with this program.  If not, see <http://www.gnu.org/licenses/>."
   ]
  },
  {
   "cell_type": "code",
   "execution_count": 1,
   "metadata": {},
   "outputs": [],
   "source": [
    "%matplotlib inline \n",
    "\n",
    "#Import packages we need\n",
    "import numpy as np\n",
    "from matplotlib import animation, rc, cm\n",
    "from matplotlib import pyplot as plt\n",
    "\n",
    "import pycuda.compiler as cuda_compiler\n",
    "import pycuda.driver as cuda_driver\n",
    "from pycuda.gpuarray import GPUArray\n",
    "\n",
    "import IPythonMagic\n",
    "from Timer import Timer"
   ]
  },
  {
   "cell_type": "code",
   "execution_count": 2,
   "metadata": {},
   "outputs": [
    {
     "name": "stderr",
     "output_type": "stream",
     "text": [
      "Python version 3.6.5 |Anaconda custom (64-bit)| (default, Mar 29 2018, 13:32:41) [MSC v.1900 64 bit (AMD64)]\n",
      "Registering context in user workspace\n",
      "Creating context\n",
      "PyCUDA version 2017.1.1\n",
      "CUDA version (9, 1, 0)\n",
      "Driver version 9010\n",
      "Using 'GeForce 840M' GPU\n",
      " => compute capability: (5, 0)\n",
      " => memory: 1910 / 2048 MB available\n",
      "Created context handle <465889992032>\n",
      "Using CUDA cache dir c:\\Users\\anbro\\Documents\\projects\\demos\\MilanoGPU2018\\notebooks\\cuda_cache\n"
     ]
    }
   ],
   "source": [
    "%setup_logging\n",
    "%cuda_context_handler context"
   ]
  },
  {
   "cell_type": "markdown",
   "metadata": {},
   "source": [
    "# Heat equation in 2D\n",
    "The heat equation can be written\n",
    "$$\n",
    "\\begin{align}\n",
    "\\frac{\\partial u}{\\partial t} &= \\kappa \\nabla^2 u\\\\\n",
    "&=\\kappa \\left[ \\frac{\\partial^2 u}{\\partial x^2} +  \\frac{\\partial^2 u}{\\partial y^2} \\right]\n",
    "\\end{align}\n",
    "$$\n",
    "where $u$ is the temperature, and $\\kappa$ is the material specific heat conduction constant. \n",
    "\n",
    "By approximating the temporal derivative with a backward difference, and the spatial derivative with a central difference, we get\n",
    "$$\n",
    "\\frac{1}{\\Delta t} (u_{i, j}^{n+1} - u_{i, j}^{n}) \n",
    "= \\kappa \\left [\n",
    "\\frac{1}{\\Delta x^2}(u_{i-1, j}^n - 2u_{i, j}^n + u_{i+1, j}^n)\n",
    "+ \\frac{1}{\\Delta y^2}(u_{i, j-1}^n - 2u_{i, j}^n + u_{i, j+1}^n)\n",
    "\\right]\n",
    "$$\n",
    "and gathering $u^n+1$ on the left hand side and $u^n$on the right, we write\n",
    "$$\n",
    "u^{n+1}_{i,j} = u_{i,j}^n \n",
    "+ \\frac{\\kappa\\Delta t}{\\Delta x^2}(u_{i-1, j}^n - 2u_{i, j}^n + u_{i+1, j}^n)\n",
    "+ \\frac{\\kappa\\Delta t}{\\Delta y^2}(u_{i, j-1}^n - 2u_{i, j}^n + u_{i, j+1}^n)\n",
    "$$\n",
    "This discretization is unstable if the following CFL condition is not met\n",
    "$$\n",
    "\\frac{1}{2} \\gt \\frac{\\kappa\\Delta t}{\\Delta x^2}, \\qquad\n",
    "\\frac{1}{2} \\gt \\frac{\\kappa\\Delta t}{\\Delta y^2}\n",
    "$$\n",
    "or \n",
    "$$\n",
    "\\Delta t \\lt \\text{min}\\left(\\frac{\\Delta x^2}{2\\kappa}, \\frac{\\Delta y^2}{2\\kappa}\\right)\n",
    "$$# Linear Wave Equation in 2D\n",
    "The acoustic wave equation in 2D can be written\n",
    "$$\n",
    "\\begin{align}\n",
    "\\frac{\\partial^2 u}{\\partial t^2} &= c^2 \\nabla^2 u\\\\\n",
    "&= c^2 \\left[ \\frac{\\partial^2 u}{\\partial x^2} +  \\frac{\\partial^2 u}{\\partial y^2} \\right]\n",
    "\\end{align}\n",
    "$$\n",
    "where $u$ is the string position, and c is a material specific constant. \n",
    "\n",
    "By approximating the temporal derivative with a backward difference, and the spatial derivative with a central difference, we get\n",
    "$$\n",
    "\\frac{1}{\\Delta t^2} (u_{i, j}^{n+1} - 2u_{i, j}^{n} + u_{i, j}^{n-1}) \n",
    "= c \\left [\n",
    "\\frac{1}{\\Delta x^2}(u_{i-1, j}^n - 2u_{i, j}^n + u_{i+1, j}^n)\n",
    "+ \\frac{1}{\\Delta y^2}(u_{i, j-1}^n - 2u_{i, j}^n + u_{i, j+1}^n)\n",
    "\\right]\n",
    "$$\n",
    "and gathering $u^n+1$ on the left hand side and $u^n$on the right, we write\n",
    "$$\n",
    "u^{n+1}_{i,j} = 2u_{i,j}^n - u_{i, j}^{n-1}\n",
    "+ \\frac{\\kappa\\Delta t^2}{\\Delta x^2}(u_{i-1, j}^n - 2u_{i, j}^n + u_{i+1, j}^n)\n",
    "+ \\frac{\\kappa\\Delta t^2}{\\Delta y^2}(u_{i, j-1}^n - 2u_{i, j}^n + u_{i, j+1}^n)\n",
    "$$\n",
    "This discretization is unstable if the following CFL condition is not met\n",
    "$$\n",
    "\\frac{1}{2} \\gt \\frac{\\kappa\\Delta t}{\\Delta x^2}, \\qquad\n",
    "\\frac{1}{2} \\gt \\frac{\\kappa\\Delta t}{\\Delta y^2}\n",
    "$$\n",
    "or \n",
    "$$\n",
    "\\Delta t \\lt \\text{min}\\left(\\frac{\\Delta x^2}{2\\kappa}, \\frac{\\Delta y^2}{2\\kappa}\\right)\n",
    "$$"
   ]
  },
  {
   "cell_type": "code",
   "execution_count": 9,
   "metadata": {},
   "outputs": [
    {
     "name": "stderr",
     "output_type": "stream",
     "text": [
      "Initialization: 8.007526 ms\n"
     ]
    }
   ],
   "source": [
    "class HeatEquationGPU(object):\n",
    "    def __init__(self):\n",
    "        pass\n",
    "        \n",
    "    def initialize(self, u0, kappa, dx, dy, dt, block_width=8, block_height=8)        \n",
    "        self.kappa = np.float32(kappa)\n",
    "        self.dx = np.float32(dx)\n",
    "        self.dy = np.float32(dy)\n",
    "        self.dt = np.float32(dt)\n",
    "        self.nx = np.float32(u0.shape[1]-2)\n",
    "        self.ny = np.float32(u0.shape[0]-2)\n",
    "        \n",
    "        self.block_size = (block_width, block_height, 1)\n",
    "        self.grid_size = (int(np.ceil(self.nx / block_width)), int(np.ceil(self.ny / block_height)), 1)\n",
    "        self.stream = cuda_driver.Stream()\n",
    "        \n",
    "        self.u1_g = GPUArray(u0.shape, u0.dtype)\n",
    "        self.u0_g = GPUArray(u0.shape, u0.dtype)\n",
    "        \n",
    "        self.u0_g.set_async(u0, stream=self.stream)\n",
    "        \n",
    "        \n",
    "        cuda_kernel = \\\n",
    "        \"\"\"\n",
    "        #define BLOCK_WIDTH {:d}\n",
    "        #define BLOCK_HEIGHT {:d}\n",
    "        \"\"\".format(block_width, block_height) \\\n",
    "        + \\\n",
    "        \"\"\"\n",
    "        __global__ void heatEqn(float* u1, const float* u0, float kappa, float dx, float dy, float dt, int nx, int ny) {\n",
    "            //Plus one to skip the \"ghost cells\"\n",
    "            int i = blockIdx.x*blockDim.x + threadIdx.x + 1;\n",
    "            int j = blockIdx.y*blockDim.y + threadIdx.y + 1;\n",
    "            int tx = threadIdx.x + 1;\n",
    "            int ty = threadIdx.y + 1;\n",
    "\n",
    "            //First read into shared memory, including the local ghost cells / apron\n",
    "            __shared__ float u0_shared[BLOCK_HEIGHT+2][BLOCK_WIDTH+2];\n",
    "            for (int l=threadIdx.y; l<BLOCK_HEIGHT+2; l += blockDim.y) {\n",
    "                int t = min(blockIdx.y*blockDim.y + l, ny);\n",
    "                for (int k=threadIdx.x; k<BLOCK_WIDTH+2; k += blockDim.x) {\n",
    "                    int s = min(blockIdx.x*blockDim.x + k, nx);\n",
    "                    u0_shared[l][k] = u0[t*nx + s];\n",
    "                }\n",
    "            }\n",
    "            __syncthreads();\n",
    "\n",
    "            //Then fix the boundary conditions\n",
    "            if (i == 1) {\n",
    "                u0_shared[ty][tx-1] = u0_shared[ty][tx];\n",
    "            }\n",
    "            else if (i == nx) {\n",
    "                u0_shared[ty][tx+1] = u0_shared[ty][tx];\n",
    "            }\n",
    "            else if (j == 1) {\n",
    "                u0_shared[ty-1][tx] = u0_shared[ty][tx];\n",
    "            }\n",
    "            else if (j == ny) {\n",
    "                u0_shared[ty+1][tx] = u0_shared[ty][tx];\n",
    "            }\n",
    "            __syncthreads();\n",
    "\n",
    "            if (i >= 1 && i <= nx && j >= 1 && j <= ny) {\n",
    "                u1[j*nx + i] = u0_shared[ty][tx]\n",
    "                    + kappa*dt/(dx*dx) * (u0_shared[ty][tx-1] - 2.0f*u0_shared[ty][tx] + u0_shared[ty][tx+1])\n",
    "                    + kappa*dt/(dy*dy) * (u0_shared[ty-1][tx] - 2.0f*u0_shared[ty][tx] + u0_shared[ty+1][tx]);\n",
    "            }\n",
    "        }\n",
    "        \"\"\"\n",
    "        self.module = cuda_compiler.SourceModule(cuda_kernel, \\\n",
    "                                            options=['--use_fast_math'])\n",
    "        self.heat_eqn_kernel = self.module.get_function(\"heatEqn\");\n",
    "        self.heat_eqn_kernel.prepare(\"PPffffii\")\n",
    "        \n",
    "        \n",
    "        \n",
    "    def step(self):\n",
    "        self.heat_eqn_kernel.prepared_async_call(self.grid_size, self.block_size, self.stream, \\\n",
    "                                                    self.u1_g.gpudata, self.u0_g.gpudata, \\\n",
    "                                                    self.kappa, self.dx, self.dy, self.dt, self.nx, self.ny)\n",
    "        self.u0_g, self.u1_g = self.u1_g, self.u0_g\n",
    "    \n",
    "    \n",
    "    def download(self):\n",
    "        #self.u2 = cuda_driver.pagelocked_empty(u1.shape, u1.dtype)\n",
    "        u0 = np.empty(self.u0_g.shape, self.u0_g.dtype)\n",
    "        self.u0_g.get(u0)\n",
    "        return u0\n",
    "        \n",
    "        \n",
    "        \n",
    "        \n",
    "        \n",
    "#Create test input data\n",
    "kappa = 1.0\n",
    "nx, ny = 100, 50\n",
    "dx = 1.0\n",
    "dy = 2.0\n",
    "dt = 0.4*min(dx**2 / (2.0*kappa), dy**2 / (2.0*kappa))\n",
    "\n",
    "u0 = np.zeros((ny, nx), dtype=np.float32)\n",
    "for j in range(ny):\n",
    "    for i in range(nx):\n",
    "        x = (i - nx/2.0) * dx\n",
    "        y = (j - ny/2.0) * dy\n",
    "        if (np.sqrt(x**2 + y**2) < 10*min(dx, dy)):\n",
    "            u0[j, i] = 10.0\n",
    "\n",
    "with Timer(\"Initialization\") as t:\n",
    "    simulator = HeatEquationGPU()\n",
    "    simulator.initialize(u0, kappa, dx, dy, dt)"
   ]
  },
  {
   "cell_type": "code",
   "execution_count": 10,
   "metadata": {},
   "outputs": [
    {
     "name": "stderr",
     "output_type": "stream",
     "text": [
      "Animation.save using <class 'matplotlib.animation.FFMpegWriter'>\n",
      "frame size in pixels is 864 x 576\n",
      "MovieWriter.run: running command: ['ffmpeg', '-f', 'rawvideo', '-vcodec', 'rawvideo', '-s', '864x576', '-pix_fmt', 'rgba', '-r', '10.0', '-i', 'pipe:', '-vcodec', 'h264', '-pix_fmt', 'yuv420p', '-y', 'C:\\\\Users\\\\anbro\\\\AppData\\\\Local\\\\Temp\\\\tmp2_l9464_.m4v']\n"
     ]
    },
    {
     "name": "stdout",
     "output_type": "stream",
     "text": [
      ".."
     ]
    },
    {
     "name": "stderr",
     "output_type": "stream",
     "text": [
      "MovieWriter.grab_frame: Grabbing frame.\n"
     ]
    },
    {
     "name": "stdout",
     "output_type": "stream",
     "text": [
      "."
     ]
    },
    {
     "name": "stderr",
     "output_type": "stream",
     "text": [
      "MovieWriter.grab_frame: Grabbing frame.\n"
     ]
    },
    {
     "name": "stdout",
     "output_type": "stream",
     "text": [
      "."
     ]
    },
    {
     "name": "stderr",
     "output_type": "stream",
     "text": [
      "MovieWriter.grab_frame: Grabbing frame.\n"
     ]
    },
    {
     "name": "stdout",
     "output_type": "stream",
     "text": [
      "."
     ]
    },
    {
     "name": "stderr",
     "output_type": "stream",
     "text": [
      "MovieWriter.grab_frame: Grabbing frame.\n"
     ]
    },
    {
     "name": "stdout",
     "output_type": "stream",
     "text": [
      "."
     ]
    },
    {
     "name": "stderr",
     "output_type": "stream",
     "text": [
      "MovieWriter.grab_frame: Grabbing frame.\n"
     ]
    },
    {
     "name": "stdout",
     "output_type": "stream",
     "text": [
      "."
     ]
    },
    {
     "name": "stderr",
     "output_type": "stream",
     "text": [
      "MovieWriter.grab_frame: Grabbing frame.\n"
     ]
    },
    {
     "name": "stdout",
     "output_type": "stream",
     "text": [
      "."
     ]
    },
    {
     "name": "stderr",
     "output_type": "stream",
     "text": [
      "MovieWriter.grab_frame: Grabbing frame.\n"
     ]
    },
    {
     "name": "stdout",
     "output_type": "stream",
     "text": [
      "."
     ]
    },
    {
     "name": "stderr",
     "output_type": "stream",
     "text": [
      "MovieWriter.grab_frame: Grabbing frame.\n"
     ]
    },
    {
     "name": "stdout",
     "output_type": "stream",
     "text": [
      "."
     ]
    },
    {
     "name": "stderr",
     "output_type": "stream",
     "text": [
      "MovieWriter.grab_frame: Grabbing frame.\n"
     ]
    },
    {
     "name": "stdout",
     "output_type": "stream",
     "text": [
      "."
     ]
    },
    {
     "name": "stderr",
     "output_type": "stream",
     "text": [
      "MovieWriter.grab_frame: Grabbing frame.\n"
     ]
    },
    {
     "name": "stdout",
     "output_type": "stream",
     "text": [
      "."
     ]
    },
    {
     "name": "stderr",
     "output_type": "stream",
     "text": [
      "MovieWriter.grab_frame: Grabbing frame.\n"
     ]
    },
    {
     "name": "stdout",
     "output_type": "stream",
     "text": [
      "."
     ]
    },
    {
     "name": "stderr",
     "output_type": "stream",
     "text": [
      "MovieWriter.grab_frame: Grabbing frame.\n"
     ]
    },
    {
     "name": "stdout",
     "output_type": "stream",
     "text": [
      "."
     ]
    },
    {
     "name": "stderr",
     "output_type": "stream",
     "text": [
      "MovieWriter.grab_frame: Grabbing frame.\n"
     ]
    },
    {
     "name": "stdout",
     "output_type": "stream",
     "text": [
      "."
     ]
    },
    {
     "name": "stderr",
     "output_type": "stream",
     "text": [
      "MovieWriter.grab_frame: Grabbing frame.\n"
     ]
    },
    {
     "name": "stdout",
     "output_type": "stream",
     "text": [
      "."
     ]
    },
    {
     "name": "stderr",
     "output_type": "stream",
     "text": [
      "MovieWriter.grab_frame: Grabbing frame.\n"
     ]
    },
    {
     "name": "stdout",
     "output_type": "stream",
     "text": [
      "."
     ]
    },
    {
     "name": "stderr",
     "output_type": "stream",
     "text": [
      "MovieWriter.grab_frame: Grabbing frame.\n"
     ]
    },
    {
     "name": "stdout",
     "output_type": "stream",
     "text": [
      "."
     ]
    },
    {
     "name": "stderr",
     "output_type": "stream",
     "text": [
      "MovieWriter.grab_frame: Grabbing frame.\n"
     ]
    },
    {
     "name": "stdout",
     "output_type": "stream",
     "text": [
      "."
     ]
    },
    {
     "name": "stderr",
     "output_type": "stream",
     "text": [
      "MovieWriter.grab_frame: Grabbing frame.\n"
     ]
    },
    {
     "name": "stdout",
     "output_type": "stream",
     "text": [
      "."
     ]
    },
    {
     "name": "stderr",
     "output_type": "stream",
     "text": [
      "MovieWriter.grab_frame: Grabbing frame.\n"
     ]
    },
    {
     "name": "stdout",
     "output_type": "stream",
     "text": [
      "."
     ]
    },
    {
     "name": "stderr",
     "output_type": "stream",
     "text": [
      "MovieWriter.grab_frame: Grabbing frame.\n"
     ]
    },
    {
     "name": "stdout",
     "output_type": "stream",
     "text": [
      "."
     ]
    },
    {
     "name": "stderr",
     "output_type": "stream",
     "text": [
      "MovieWriter.grab_frame: Grabbing frame.\n"
     ]
    },
    {
     "name": "stdout",
     "output_type": "stream",
     "text": [
      "."
     ]
    },
    {
     "name": "stderr",
     "output_type": "stream",
     "text": [
      "MovieWriter.grab_frame: Grabbing frame.\n"
     ]
    },
    {
     "name": "stdout",
     "output_type": "stream",
     "text": [
      "."
     ]
    },
    {
     "name": "stderr",
     "output_type": "stream",
     "text": [
      "MovieWriter.grab_frame: Grabbing frame.\n"
     ]
    },
    {
     "name": "stdout",
     "output_type": "stream",
     "text": [
      "."
     ]
    },
    {
     "name": "stderr",
     "output_type": "stream",
     "text": [
      "MovieWriter.grab_frame: Grabbing frame.\n"
     ]
    },
    {
     "name": "stdout",
     "output_type": "stream",
     "text": [
      "."
     ]
    },
    {
     "name": "stderr",
     "output_type": "stream",
     "text": [
      "MovieWriter.grab_frame: Grabbing frame.\n"
     ]
    },
    {
     "name": "stdout",
     "output_type": "stream",
     "text": [
      "."
     ]
    },
    {
     "name": "stderr",
     "output_type": "stream",
     "text": [
      "MovieWriter.grab_frame: Grabbing frame.\n"
     ]
    },
    {
     "name": "stdout",
     "output_type": "stream",
     "text": [
      "."
     ]
    },
    {
     "name": "stderr",
     "output_type": "stream",
     "text": [
      "MovieWriter.grab_frame: Grabbing frame.\n"
     ]
    },
    {
     "name": "stdout",
     "output_type": "stream",
     "text": [
      "."
     ]
    },
    {
     "name": "stderr",
     "output_type": "stream",
     "text": [
      "MovieWriter.grab_frame: Grabbing frame.\n"
     ]
    },
    {
     "name": "stdout",
     "output_type": "stream",
     "text": [
      "."
     ]
    },
    {
     "name": "stderr",
     "output_type": "stream",
     "text": [
      "MovieWriter.grab_frame: Grabbing frame.\n"
     ]
    },
    {
     "name": "stdout",
     "output_type": "stream",
     "text": [
      "."
     ]
    },
    {
     "name": "stderr",
     "output_type": "stream",
     "text": [
      "MovieWriter.grab_frame: Grabbing frame.\n"
     ]
    },
    {
     "name": "stdout",
     "output_type": "stream",
     "text": [
      "."
     ]
    },
    {
     "name": "stderr",
     "output_type": "stream",
     "text": [
      "MovieWriter.grab_frame: Grabbing frame.\n"
     ]
    },
    {
     "name": "stdout",
     "output_type": "stream",
     "text": [
      "."
     ]
    },
    {
     "name": "stderr",
     "output_type": "stream",
     "text": [
      "MovieWriter.grab_frame: Grabbing frame.\n"
     ]
    },
    {
     "name": "stdout",
     "output_type": "stream",
     "text": [
      "."
     ]
    },
    {
     "name": "stderr",
     "output_type": "stream",
     "text": [
      "MovieWriter.grab_frame: Grabbing frame.\n"
     ]
    },
    {
     "name": "stdout",
     "output_type": "stream",
     "text": [
      "."
     ]
    },
    {
     "name": "stderr",
     "output_type": "stream",
     "text": [
      "MovieWriter.grab_frame: Grabbing frame.\n"
     ]
    },
    {
     "name": "stdout",
     "output_type": "stream",
     "text": [
      "."
     ]
    },
    {
     "name": "stderr",
     "output_type": "stream",
     "text": [
      "MovieWriter.grab_frame: Grabbing frame.\n"
     ]
    },
    {
     "name": "stdout",
     "output_type": "stream",
     "text": [
      "."
     ]
    },
    {
     "name": "stderr",
     "output_type": "stream",
     "text": [
      "MovieWriter.grab_frame: Grabbing frame.\n"
     ]
    },
    {
     "name": "stdout",
     "output_type": "stream",
     "text": [
      "."
     ]
    },
    {
     "name": "stderr",
     "output_type": "stream",
     "text": [
      "MovieWriter.grab_frame: Grabbing frame.\n"
     ]
    },
    {
     "name": "stdout",
     "output_type": "stream",
     "text": [
      "."
     ]
    },
    {
     "name": "stderr",
     "output_type": "stream",
     "text": [
      "MovieWriter.grab_frame: Grabbing frame.\n"
     ]
    },
    {
     "name": "stdout",
     "output_type": "stream",
     "text": [
      "."
     ]
    },
    {
     "name": "stderr",
     "output_type": "stream",
     "text": [
      "MovieWriter.grab_frame: Grabbing frame.\n"
     ]
    },
    {
     "name": "stdout",
     "output_type": "stream",
     "text": [
      "."
     ]
    },
    {
     "name": "stderr",
     "output_type": "stream",
     "text": [
      "MovieWriter.grab_frame: Grabbing frame.\n"
     ]
    },
    {
     "name": "stdout",
     "output_type": "stream",
     "text": [
      "."
     ]
    },
    {
     "name": "stderr",
     "output_type": "stream",
     "text": [
      "MovieWriter.grab_frame: Grabbing frame.\n"
     ]
    },
    {
     "name": "stdout",
     "output_type": "stream",
     "text": [
      "."
     ]
    },
    {
     "name": "stderr",
     "output_type": "stream",
     "text": [
      "MovieWriter.grab_frame: Grabbing frame.\n"
     ]
    },
    {
     "name": "stdout",
     "output_type": "stream",
     "text": [
      "."
     ]
    },
    {
     "name": "stderr",
     "output_type": "stream",
     "text": [
      "MovieWriter.grab_frame: Grabbing frame.\n"
     ]
    },
    {
     "name": "stdout",
     "output_type": "stream",
     "text": [
      "."
     ]
    },
    {
     "name": "stderr",
     "output_type": "stream",
     "text": [
      "MovieWriter.grab_frame: Grabbing frame.\n"
     ]
    },
    {
     "name": "stdout",
     "output_type": "stream",
     "text": [
      "."
     ]
    },
    {
     "name": "stderr",
     "output_type": "stream",
     "text": [
      "MovieWriter.grab_frame: Grabbing frame.\n"
     ]
    },
    {
     "name": "stdout",
     "output_type": "stream",
     "text": [
      "."
     ]
    },
    {
     "name": "stderr",
     "output_type": "stream",
     "text": [
      "MovieWriter.grab_frame: Grabbing frame.\n"
     ]
    },
    {
     "name": "stdout",
     "output_type": "stream",
     "text": [
      "."
     ]
    },
    {
     "name": "stderr",
     "output_type": "stream",
     "text": [
      "MovieWriter.grab_frame: Grabbing frame.\n"
     ]
    },
    {
     "name": "stdout",
     "output_type": "stream",
     "text": [
      "."
     ]
    },
    {
     "name": "stderr",
     "output_type": "stream",
     "text": [
      "MovieWriter.grab_frame: Grabbing frame.\n"
     ]
    },
    {
     "name": "stdout",
     "output_type": "stream",
     "text": [
      "."
     ]
    },
    {
     "name": "stderr",
     "output_type": "stream",
     "text": [
      "MovieWriter.grab_frame: Grabbing frame.\n"
     ]
    },
    {
     "name": "stdout",
     "output_type": "stream",
     "text": [
      "."
     ]
    },
    {
     "name": "stderr",
     "output_type": "stream",
     "text": [
      "MovieWriter.grab_frame: Grabbing frame.\n",
      "MovieWriter -- Command stdout:\n",
      "b''\n",
      "MovieWriter -- Command stderr:\n",
      "b\"ffmpeg version N-76278-gd897d4c Copyright (c) 2000-2015 the FFmpeg developers\\r\\n  built with gcc 5.2.0 (GCC)\\r\\n  configuration: --enable-gpl --enable-version3 --disable-w32threads --enable-avisynth --enable-bzlib --enable-fontconfig --enable-frei0r --enable-gnutls --enable-iconv --enable-libass --enable-libbluray --enable-libbs2b --enable-libcaca --enable-libdcadec --enable-libfreetype --enable-libgme --enable-libgsm --enable-libilbc --enable-libmodplug --enable-libmp3lame --enable-libopencore-amrnb --enable-libopencore-amrwb --enable-libopenjpeg --enable-libopus --enable-librtmp --enable-libschroedinger --enable-libsoxr --enable-libspeex --enable-libtheora --enable-libtwolame --enable-libvidstab --enable-libvo-aacenc --enable-libvo-amrwbenc --enable-libvorbis --enable-libvpx --enable-libwavpack --enable-libwebp --enable-libx264 --enable-libx265 --enable-libxavs --enable-libxvid --enable-lzma --enable-decklink --enable-zlib\\r\\n  libavutil      55.  4.100 / 55.  4.100\\r\\n  libavcodec     57. 10.100 / 57. 10.100\\r\\n  libavformat    57. 11.100 / 57. 11.100\\r\\n  libavdevice    57.  0.100 / 57.  0.100\\r\\n  libavfilter     6. 14.100 /  6. 14.100\\r\\n  libswscale      4.  0.100 /  4.  0.100\\r\\n  libswresample   2.  0.100 /  2.  0.100\\r\\n  libpostproc    54.  0.100 / 54.  0.100\\r\\nInput #0, rawvideo, from 'pipe:':\\r\\n  Duration: N/A, start: 0.000000, bitrate: 159252 kb/s\\r\\n    Stream #0:0: Video: rawvideo (RGBA / 0x41424752), rgba, 864x576, 159252 kb/s, 10 tbr, 10 tbn, 10 tbc\\r\\n[libx264 @ 0000004301a98de0] using cpu capabilities: MMX2 SSE2Fast SSSE3 SSE4.2 AVX FMA3 AVX2 LZCNT BMI2\\r\\n[libx264 @ 0000004301a98de0] profile High, level 3.1\\r\\n[libx264 @ 0000004301a98de0] 264 - core 148 r2638 7599210 - H.264/MPEG-4 AVC codec - Copyleft 2003-2015 - http://www.videolan.org/x264.html - options: cabac=1 ref=3 deblock=1:0:0 analyse=0x3:0x113 me=hex subme=7 psy=1 psy_rd=1.00:0.00 mixed_ref=1 me_range=16 chroma_me=1 trellis=1 8x8dct=1 cqm=0 deadzone=21,11 fast_pskip=1 chroma_qp_offset=-2 threads=6 lookahead_threads=1 sliced_threads=0 nr=0 decimate=1 interlaced=0 bluray_compat=0 constrained_intra=0 bframes=3 b_pyramid=2 b_adapt=1 b_bias=0 direct=1 weightb=1 open_gop=0 weightp=2 keyint=250 keyint_min=10 scenecut=40 intra_refresh=0 rc_lookahead=40 rc=crf mbtree=1 crf=23.0 qcomp=0.60 qpmin=0 qpmax=69 qpstep=4 ip_ratio=1.40 aq=1:1.00\\r\\nOutput #0, ipod, to 'C:\\\\Users\\\\anbro\\\\AppData\\\\Local\\\\Temp\\\\tmp2_l9464_.m4v':\\r\\n  Metadata:\\r\\n    encoder         : Lavf57.11.100\\r\\n    Stream #0:0: Video: h264 (libx264) (avc1 / 0x31637661), yuv420p, 864x576, q=-1--1, 10 fps, 10240 tbn, 10 tbc\\r\\n    Metadata:\\r\\n      encoder         : Lavc57.10.100 libx264\\r\\nStream mapping:\\r\\n  Stream #0:0 -> #0:0 (rawvideo (native) -> h264 (libx264))\\r\\nframe=    8 fps=0.0 q=0.0 size=       0kB time=00:00:00.00 bitrate=N/A    \\rframe=   14 fps= 12 q=0.0 size=       0kB time=00:00:00.00 bitrate=N/A    \\rframe=   19 fps= 11 q=0.0 size=       0kB time=00:00:00.00 bitrate=N/A    \\rframe=   25 fps= 11 q=0.0 size=       0kB time=00:00:00.00 bitrate=N/A    \\rframe=   30 fps= 11 q=0.0 size=       0kB time=00:00:00.00 bitrate=N/A    \\rframe=   36 fps= 11 q=0.0 size=       0kB time=00:00:00.00 bitrate=N/A    \\rframe=   42 fps= 11 q=0.0 size=       0kB time=00:00:00.00 bitrate=N/A    \\rframe=   48 fps= 11 q=0.0 size=       0kB time=00:00:00.00 bitrate=N/A    \\rframe=   50 fps= 10 q=-1.0 Lsize=      29kB time=00:00:04.80 bitrate=  49.2kbits/s    \\r\\nvideo:27kB audio:0kB subtitle:0kB other streams:0kB global headers:0kB muxing overhead: 5.201612%\\r\\n[libx264 @ 0000004301a98de0] frame I:1     Avg QP:14.62  size:  3934\\r\\n[libx264 @ 0000004301a98de0] frame P:13    Avg QP:13.42  size:  1083\\r\\n[libx264 @ 0000004301a98de0] frame B:36    Avg QP:15.27  size:   260\\r\\n[libx264 @ 0000004301a98de0] consecutive B-frames:  4.0%  0.0%  0.0% 96.0%\\r\\n[libx264 @ 0000004301a98de0] mb I  I16..4: 44.2% 49.8%  6.0%\\r\\n[libx264 @ 0000004301a98de0] mb P  I16..4:  2.3%  1.3%  0.3%  P16..4:  4.7%  1.7%  0.7%  0.0%  0.0%    skip:89.1%\\r\\n[libx264 @ 0000004301a98de0] mb B  I16..4:  0.1%  0.1%  0.0%  B16..8:  4.3%  0.6%  0.0%  direct: 0.3%  skip:94.7%  L0:48.5% L1:48.6% BI: 2.9%\\r\\n[libx264 @ 0000004301a98de0] 8x8 transform intra:45.0% inter:89.6%\\r\\n[libx264 @ 0000004301a98de0] coded y,uvDC,uvAC intra: 9.8% 29.4% 16.3% inter: 0.4% 1.7% 0.1%\\r\\n[libx264 @ 0000004301a98de0] i16 v,h,dc,p: 62% 25%  5%  8%\\r\\n[libx264 @ 0000004301a98de0] i8 v,h,dc,ddl,ddr,vr,hd,vl,hu: 57%  9% 33%  0%  0%  0%  0%  0%  0%\\r\\n[libx264 @ 0000004301a98de0] i4 v,h,dc,ddl,ddr,vr,hd,vl,hu: 54% 27% 14%  1%  1%  1%  1%  1%  1%\\r\\n[libx264 @ 0000004301a98de0] i8c dc,h,v,p: 64% 15% 11% 10%\\r\\n[libx264 @ 0000004301a98de0] Weighted P-Frames: Y:0.0% UV:0.0%\\r\\n[libx264 @ 0000004301a98de0] ref P L0: 73.5%  1.7% 18.0%  6.7%\\r\\n[libx264 @ 0000004301a98de0] ref B L0: 88.8%  9.7%  1.6%\\r\\n[libx264 @ 0000004301a98de0] ref B L1: 94.4%  5.6%\\r\\n[libx264 @ 0000004301a98de0] kb/s:43.78\\r\\n\"\n"
     ]
    },
    {
     "data": {
      "text/html": [
       "<video width=\"864\" height=\"576\" controls autoplay loop>\n",
       "  <source type=\"video/mp4\" src=\"data:video/mp4;base64,AAAAHGZ0eXBNNFYgAAACAGlzb21pc28yYXZjMQAAAAhmcmVlAABtmm1kYXQAAAKuBgX//6rcRem9\n",
       "5tlIt5Ys2CDZI+7veDI2NCAtIGNvcmUgMTQ4IHIyNjM4IDc1OTkyMTAgLSBILjI2NC9NUEVHLTQg\n",
       "QVZDIGNvZGVjIC0gQ29weWxlZnQgMjAwMy0yMDE1IC0gaHR0cDovL3d3dy52aWRlb2xhbi5vcmcv\n",
       "eDI2NC5odG1sIC0gb3B0aW9uczogY2FiYWM9MSByZWY9MyBkZWJsb2NrPTE6MDowIGFuYWx5c2U9\n",
       "MHgzOjB4MTEzIG1lPWhleCBzdWJtZT03IHBzeT0xIHBzeV9yZD0xLjAwOjAuMDAgbWl4ZWRfcmVm\n",
       "PTEgbWVfcmFuZ2U9MTYgY2hyb21hX21lPTEgdHJlbGxpcz0xIDh4OGRjdD0xIGNxbT0wIGRlYWR6\n",
       "b25lPTIxLDExIGZhc3RfcHNraXA9MSBjaHJvbWFfcXBfb2Zmc2V0PS0yIHRocmVhZHM9NiBsb29r\n",
       "YWhlYWRfdGhyZWFkcz0xIHNsaWNlZF90aHJlYWRzPTAgbnI9MCBkZWNpbWF0ZT0xIGludGVybGFj\n",
       "ZWQ9MCBibHVyYXlfY29tcGF0PTAgY29uc3RyYWluZWRfaW50cmE9MCBiZnJhbWVzPTMgYl9weXJh\n",
       "bWlkPTIgYl9hZGFwdD0xIGJfYmlhcz0wIGRpcmVjdD0xIHdlaWdodGI9MSBvcGVuX2dvcD0wIHdl\n",
       "aWdodHA9MiBrZXlpbnQ9MjUwIGtleWludF9taW49MTAgc2NlbmVjdXQ9NDAgaW50cmFfcmVmcmVz\n",
       "aD0wIHJjX2xvb2thaGVhZD00MCByYz1jcmYgbWJ0cmVlPTEgY3JmPTIzLjAgcWNvbXA9MC42MCBx\n",
       "cG1pbj0wIHFwbWF4PTY5IHFwc3RlcD00IGlwX3JhdGlvPTEuNDAgYXE9MToxLjAwAIAAAA9aZYiE\n",
       "ABH//veIHzLLafk613IR560urR9Q7kZxXqS9/iAAAAMAAAMAAAMACpJYniKH8XjN/AAAAwAAt4AX\n",
       "sAyCRaQOqetPEAhy1VPBOy3A1Z9WSfk1O25+vKNc7igTIG1RJlfW5xMFSM+vYPwaBOmxTQ+Tq3kz\n",
       "a//2EKDSwKBBBSiAEbj71e4g8p+UzmWoHt64icTYT9adVriVGZGWmZaXN3tF8uaEzMiAs/KEi4zS\n",
       "kXRIjR9hYpQLcg+QWxv7SoIqgbPwXgFDqcEPx7zH5R89dMT0eBfpWipNGZoWnybb9agToC87HLd2\n",
       "ogFopHGcIK8HBCmZDyYVllkuHzUjZ9B/CGvMEH+AAsmi6gfCCgCX0Dkov/Qf82O6/FAEkhyoZa5+\n",
       "s8NiwfcyoQ77CHwa8waa1EUlQAnwWmIGC4bFTStbFLVVcePkscRu5aqGEqbbiTHo2WNyHhQ10zej\n",
       "uyHk0MO4EOUHAJWWRTw+HLM2v8h/7z1hqftiLH5JlQvGjH5A3eAuHYSvC1xj9N2VvJUE/jRTmeoo\n",
       "5r+Bl3Uuw1LP8IIwVepXLwbBeekSBSLgIruaovIL9Ox4XSq95XzpOA9jpqLtfXTa5xobtQpROOOq\n",
       "MUg0uhBJPSwg/7BRp+adNrpTnNGO82MWBIMG0mNHTz5GP+IuX+1BShMZkBfMzItbzs0M4qRmGw6W\n",
       "VnmTJBWYat+8lS3iJUIunv/znbkA9z3Me2qanmQdJkhMiAlIBbdXbuW+o7Mpsm2Za0iNdDQC62it\n",
       "p7dsADjL53eHkiwjwcoFtGkA0N3GUEX+icJrN5Yf9VdVsjPqxzEXfB7lwTbkiTID3E83K76eTgaF\n",
       "POpcqgbVYe+tE9Xzt5r0AB6mkAFLTcM+eFAs6I/vbvsekhxrAlqpu9boT8mXaGldogs358krC/xb\n",
       "kpgv2OhLTdTNVMTsnHwhVgalxhrcQ1mdySGBPYKivcIgsXen9Fjf4ry5TQedo/+UpQoS93wpf1XL\n",
       "GeLo3p6kVQmdoqrQDyajXrTPFN5dA6F3T0f/Hxe6YOduxN5CSw3zDfM9XebDeGRAEx2uiHGgzfP4\n",
       "k/W+GRuRo3hdO+4UILwNaA5zyjGsdHK+m66yXwISHeMCHf2RKie2EUnxRpRlxbIxRhtFUSy2wUwW\n",
       "UnjLs3CBeZueDMO83E3eBn7eQGkZ4qMkEpflVskHeKLqrnNTVL8pDQ9d/0TEdVwxGxQs9rKLdVZ8\n",
       "VfLDo0H0W0QQGegOyOk64DZ+Wh4fKzT66SAxoZh0OlJY1Ly2kmrffq4cXdKLEt2qhtkQYUfX3GSl\n",
       "lu4XNhAFRO1PBKh1BRj+bS83icdrC0YuOd+vLJT04UovIR6z7SyJ0I5O/To9b0AHAM2jqd532wAv\n",
       "cU57v68DsBMVC4MYn72MLP5bcD4d2RpX4CrlhjBePwrH3wXLCiqmaewGbCwZ/gG8F79nPtJEAGYR\n",
       "5V+eH7P8Ih7HTJZIBZ13eVT9+x4o/Yfq96MXuYWK4FyaLIusOz8P5GZK0r2ki2LIQVsQXl2ZCFcY\n",
       "VfGg2raXCVgKsD2W6TvyH+rTCH6vtJ0CsdJyuGnGnkoeUNeA1oe4Oqyy+5JOzwABUO/nt1hyh5S8\n",
       "0nzOg6MjsBJacVEFlg2+/Fug/K0wn/wVskbMklMUSmcmqS8IqPrfVvAgSbXqY4gRjTxc19EWCkqr\n",
       "BxRJHn1sL355CoZiME1jJRX8lOdZUHP24k1YnKBhWSvkiukSUJwUvYqlaIbAF8bY5k435nrqK+tC\n",
       "i6Gu2MCzOVANjZAqcq5gKu75EPUMPOpVZPhKZh7yKMYNwrQHSJ1oKFYaSVCaEXq816v0D159avQG\n",
       "3qNKFLJMbrWxO1FaQX7j6ZeMmHaUeE9+vuthzsv/9LHkIZElovAVs2WNMqWIJ452YBNEbaTyjyzL\n",
       "q2m+X/6h6cmbogA0imV5sL71eJGyHEIvWVCUDEuKuiaUjAeCv18ChlNomL1li1DYpH0P/qsvSUs6\n",
       "MjClpK8ciZ1HnClAITZ8Rt9TSCeQXSRog9KUj/6Il5ZsFL6xnOH6K5tR1XCn9XNe29a9K0kNR5+b\n",
       "IEw4Ayy3wttlezgKgkQC2mxIOQDqGIANZQDHfZpvuL9Dl1dFOuvXUn43hetzt8DAW8oGy3UwIBga\n",
       "4s9bQTMjhKnw8BpELcJxWKWib9zoQdq30vN+48u6gRrb94poCExJY/QmdQSvuI0OM3nN7KmV48g0\n",
       "+P+sJb+AV6aGQGBdo3YR2Dx6dYDwv/gHCazvJ8Br3M+fNaunE0LfZSDUx10/iGU63FpAAIBvyOC/\n",
       "XMcoDPAN1k1EG362B9dRlWStATVvOBKecBl2n1AZKXSJzD1DtSGGtvOiMBI2X6AP1HHbotfWHRQ9\n",
       "VXl+SrVA6tF4vR+EPq6VyC5860rzhZDgz4E+g++lix8TtgIn0ijnqyZ2mdqO5CTP+nksTL+tQHYD\n",
       "htTc88Ooz//5DZaQhgDnmgQgRl0QjWB3FNY+PJrdVNTkwXsGGKZuNgwdle1tiJJ119iALzL0HRmE\n",
       "FwgB4Hl31j3TObHnmU1shhm9xZpkH3iGyj7zcLluS/I4yEf7a33sVcAqPAIkZi92YptZP5XIePdH\n",
       "B06XWc8Q5vdW1mZYWCQo3IW0DGYeTczr5xCJ+vYHhwx0PdDXEPRO4GgGBMmtGT+t1qEBM6GrDVO1\n",
       "pJ+J3LQRuxai9Wx1qJq2ZS7yzJAFIFQ64RHeAQtwlM+uaE/a/PtS/SV+ad/Cc51J2IDaLsWBeJDq\n",
       "rY5EMHpyO41HusAyVSFvG8L1XKedF56ffa6DQiB0hbXKYNX/JLl29VZpt0iaYrX5kT/XRv/huN8H\n",
       "mPOCw8z2Q/LxCPWnp6xM86qWQbPLSf6v0E06bBRRVNKYU11YaJXFlw4p+eitanQHToe3FrVHxMS1\n",
       "uyApZ6ComgBTC62k9tplkuushY++cJhKWeXIg7xpvfoTvRqVBu9UV2wAAzJVsnH+j/kh3IIj/HgB\n",
       "DUkET/8YuFw/xf1F9KebNOPHicdf257QTT0FpzOQNjxAj8WVRGX+kr933J3UOTxAgMdCuUh6QAz5\n",
       "2B3SzSVt4vwQHuLW1Wz+aSx1d0dRRQbAVoOS20SU8PhrsWQMhwYV5Ul44BQbDXLixAJYds79ttVe\n",
       "OHIphjw8TPngNBatN1FB5COsnqEXWHNvJd4Uyn0tZh8McSW7IOtAVfUWOfF4IubwCHVWOxVhi3md\n",
       "dXof6aqQqJIFNJyVDUA77/lkZuOceIUz8aK8tTQf2zgB2063q9IU9FFN1jymwnAbpJvq8wYXAAAY\n",
       "/BEe+EuWJ9tkQXCuWyqGVrnv1H80uYh/wttfNkjSbXN/4KN0ep3GkfdsNf8Y447SLdw2lCHYdJ+8\n",
       "LWLV5AHbhBuWxvSiTIeWK/V5H64zdLSE3039GgAG/1jNI1h+cmf2jqZWRm9+LjB39huvzhri1pog\n",
       "hRI1Ddgjgc/6uAkmcznnoQXNe/VOwxR/683y5Xp2Mu23bHslQOEFq7zfgQ6Y+oXxabi+XRd5AKRy\n",
       "JQPKyreQ+8FrqtEYu8k5RfNDgkUJingU1vxVMYVTN+Ksq62ddDBIQxUHwF97aEZ+m7egJwSXsA9/\n",
       "xWH8EyHu8dpgYzQb7QjiP3DCp8vcwyl55YQVIAwCwGSVAYbbJ8qVyZ/nN/X23WM+0DK2XucHee8U\n",
       "ELBhEE18Cjfxh71E05gV8RxfdrPlJGxNV1apkdHVrJFSFezHyyBdp5S0v6fbPxi8ifY2WER+w5xB\n",
       "Vwc8/zk+3cAQpsdsu+UQxN8PDzhN8hCNla8jCrtEvCMJgW4XG1tj8v2gDQtRwkR96akaEUwPcIAB\n",
       "TODh7gAm0viRpEfNtK9KkkUgnXB0d3d44gX8ESsbA/SXC7m/BngeiOSk1lAE9PNoo8MQUX3iKUC0\n",
       "25wxGK4VKm05TkDmG81ADBSWeJGp8l93t3JzfjpAsdwDrnhhRMXHcW9e04SLa20rWeuSPMoowy4C\n",
       "3AB+JxeQovDC6iCCcFbroRFWvBwXmo5G0qn6e8MyDAoXYVS712ARQDxtRxWC2pzWMGkfCV1aIwmO\n",
       "c1fq0V5eDYGAOGLNp/RTkxHTo3jRXrNI+5U99Mh9Y48+1hha3i5Ip9fdXsvCLyhgtkQTCCCsgiai\n",
       "myAM3B5F9pDdSerABNhy7cTkqkQTp9ms5Lir02rfvDiFa7eBsH3uLYJQqNWTixt5foKivT/7nGJ1\n",
       "/OngEGkcD6TQIz0mYFpTVlYGWmc4QXJ9GYwqD7Kmzj6WbcTzDqHhigjk09qNq9LP/Yu9mURVSn5a\n",
       "FZrnHNfixDmGQOkNZGhCVt0mq9b7WnKpCLnVSvrgMODa02DWHqWY8Ueb3Lt8vqIismfPVfuHvwxv\n",
       "qNmlulLZm4hFV8SQUECfsPgFgBXOqrj16+DgE2hRzPGx2KF6CdR0kQH0H+qdVgdUgEuEKmdRnjhX\n",
       "5z30c865mTIl3yhqAhkRMC1zhGrNnqP5RcxR51ccgMT44zb6db605zO+hE2lzD3yu06idtXghR8+\n",
       "giReaROg6qXShtqNNAAD0bOolC4rI6z7ve414dboy6CoPLoX72WALLAbd8dlxrZSGziYvvNePLcm\n",
       "xGWmbB0orad2hQAtI26FZ1semDEDdCee9/+P/kL7ziZyml+T6p3LpzxOi106QjzdtH8rUhO3kSJV\n",
       "xXJv34yB8B63lktpmbLhehTxZt7YzOTJXISTM+bzEW4YZdmZ9Hhpesnn6Hyi3qdoMtUIgD80h9am\n",
       "55Frfi7erkItY7i3oF0Qp2IQMl4Ce2f+DGZkMq+eZ8ZH6BaxoeL8uWw0gEC+ox5x3VReEDOb+I7T\n",
       "GphCmzaG7KvXAQAERFmtpH8KiIucYQoXQ2o0hfCMpvdGsnPs2uBewvkpWMcqb1HexkkaHIHO7TI1\n",
       "esNJQP9J/rJaGhRLpzP34Q4itPCrqfBePMtZSWpaIWcCQNvrwma66Gpinw4Sz7Ky45C/2MqomPl1\n",
       "skE8OOgA+XPas3UbC1uzyMC/a5EjWoLWVGUdtjWaqL89OMJ3lipFJ1qCVWixYhMmvLvmhhIQtwAZ\n",
       "MFRxwuHqaVUysTjDdO+2uZBggpnUNrQ2l+mW6Rnd8mkspVqZkeIFK0nTLXQRNCSrjW2RMaOZNuT3\n",
       "K+DA3zeDT6gFHt6+hwWP+GJtgD0fywQOYB97/4u5vYpkLGcMIYw2tsT6mlKy6HLKzH+kK3Q6184m\n",
       "SoUu2x07vU8q0nvb+T88AP7ke0env5tcX5uHN6QGAPrmBGhFIAOUAEaAAAADAAADAIeBAAAFzEGa\n",
       "JGxBH/61KoAAAKmbDPOPi54AznouEzc1LHZn0DlfeZ98SfndPaFTuVYuWA8tmKga1ECkaAJoVJwg\n",
       "G02PFD6BM1CWTN9qvxJxMX9PBkGff6aFB6wr7AyxRUfemKACB35g1VslpCgd9tcFgA57SZQAjt4n\n",
       "HvcyUyrCv3rFKwUvGjLz+04MUw0HvUwhKLa+NNSmCabrMplyWUOWWaiIQEyBMPqwk3ebgsIXZgnR\n",
       "k+Jzq/s3/Y27iH+Jt7DQ/mpJUyg/fe8nGXBnXCq395fBtKWBBYCH/gLgEAw02/T9EIQUZmUk9EAA\n",
       "+VmFc4mW3sZ+/OyCkXMJFBm9mlC1Cdq2ZNidfBYcbriQ57+M+YJ8QDOJodp+mJzQJYU4PXpeVqgO\n",
       "tc14ZJxBegEmDRpF7G95xW4GVzIYm4KVFNs10Smpyu2COX98HFje6Nb1Vvnt5Wg/mgokSbuAkhq7\n",
       "QL1GvArutdGnJxXRk+adMPv08SRhqz21j2PPN8b4GS8rZz4cIp0eek6qZjw+BAkzBQHlUt6Qalrg\n",
       "asOAlPN3E55BpIuTCx7T1CKZawbbSbTs71JQA1MBFNsVLzCVKwT8G2bf0ZV8IMPyyNuXxCGxA/WO\n",
       "PGrNIAS7SWM8cSoG6fc8Le+b9QRrdM5hBe8k7KF2hWoRxRSwt093Zux4ioqMiniT5ULDg69E8p3f\n",
       "xsTpe5IDkRYLDAEIgI1ThxQzegOO98mznfHt/FgBzvdxZ4GwpZmQxuUPZXoN1fk3U/OIAndkrrGY\n",
       "jpe0W2FuiDAbR+zVZVj9K73aP4fEjCWXnsNm/wmsFyi1eDXk4eFs9z+OfCxtjyf2BujzDdyrhae+\n",
       "GSccNddPqT++/yMjgr6YmQGjyNQvWrM75l/EcxTttChrtOKVBzrJLN7+XIo0RfZ4pXCFREBCBQB9\n",
       "1Lu/rtM+aHjdJJZdv5aLJw6jSEiNFSNP1e8rkRgliDmDckrIfjKX0t42ZkZvG/nh4thsVaZ+/AVo\n",
       "M7Ybzu6p8Fgmm4n/jd3blu78MQ3sFY/1oiW1S/lRJsmq6YxVGQQFJP2snNYxK4jeGXNqalnr90dA\n",
       "QNesi+ravXNV+Uhzw/Ns1JePY9JF2sGTK1wpAK6VPuBsvcBOLoW52FOYYmEVw5yywFrd3yPMkOgy\n",
       "lrcGzA5ScBjuEz4lG/wHGMTtN9xOgGy7htl5W5cigK+od0v36JbVORxU2Mt3epVXIohgNnW6qxt2\n",
       "xfZReZaFEFaAKRSpRbLf4Hpc3EPF2AaqPhZ3siNpHtyLuulMjxa36D4+/g2/b4ocssB86HiXo069\n",
       "BW9XvZl0lgT69Ayk8WcDpvk1Bd82C3FrhQpIYhH89lFr/9K1pUq1bfb+ErVil7mlQw/eTeBoUItA\n",
       "uuEBGeZth4C0Gs9Uq1LavdxiE+EXuhF9KlsFnsYaLW0HX8R6oPqTCN/9olzEBM0z4l5O0OzTaUe6\n",
       "2EDmnBhuepipby9buliabScqVPNLfbcXvfJVLUSf8FvtsdYAkWPp7Q2hzuWNUwL47ZzY2rJjcIYx\n",
       "Vmjs8D2KCZ/ITbicFYT3wwnQBhPcA05Ybpa8ASmJZ+Z21ZhzLhO+Dh5XQUCP29zV1nXZDztaoy6/\n",
       "RccBlOFgvjsPTSkyTFBeLA9MIrbQGThKHDmjRQ9AtUl/GoGpBl2sSapt/rfBPySC7C6Z4/3+XYCV\n",
       "uHlqgdn+xHzDQXEUHhm1WYVkZxtDlNwk1HVWaPo47Ha1X/0M9rblNx5jKmJTqQswErW8yitc8OvR\n",
       "afpk2ZxtJNchIMuCz4ARs2vlatJWhBzU/qOr6nYJlqx8cPo+Vf65TlzRvwskqg4wa4GB1ik7LwCe\n",
       "Y8irUDwDv/rSAFvoX23sYllUWbUqjXma4ozK3Y/y+BX0/75HWnKrmapaecg4ZrRGvXa04QXEgAVY\n",
       "Dd5sioI6tnxwsu95uFxOAclcmZdsu1ZdaFvjESLtOrxz6CJo9nS9eSbVj7L0IU3kBXqz0eaB8BZQ\n",
       "AAACpkGeQniHfwAAAwJw5PbfiCx8JXSk4ODfoUPJMNHcVUSk3PpRuSpRbDIPDly4ZNSOZRxeOi2e\n",
       "ch+VFFO17jvRGv6NF/A8jPt0ZaHY/BD5EXz/JY82jLiVhH5ZlmZ0wCWvhzh+biSdb5fXMH8A22OG\n",
       "TnkTfGXzkSynRYNi8TbhRYnPlajxP/vk9bWJodWV4pXpm4Iab7iCQjSWykSzKFouO3wj8p5FFLp4\n",
       "08zC4iroYZ3TgWiy3aOhBuLtFhZgVz4fR/G+TF6/mwY2Wld1GPfGTpeKJybr7BKELXAxv8BeUpE6\n",
       "6fTZIz4/9uwcPNHIaQCfsWoTvy1o3yYzWC1JVYWlYAd9JS8Zm+iPcFKgmbtAgghxcqiw5WIUjlOR\n",
       "NXTIo9sNy1awLG4nRKT0Ew08bGlLlT5ihzYjfwuvtiNKZ7riySSq339JhR1ToUb/A3m1gzBrbrQc\n",
       "Rnu8iR2S/0d6ljrhnPDBuMfNsWqkrD8A8K4NSwBtNoFLR9BXZtYBXrinn52KhI/VQ0VZwUR+bAi7\n",
       "x7MnIFrEOfsCjsimcSGgpmb99Q9sTJLgZ7H3AMZagVvtyZKZQknV63OQqTZqM8uJO9/hcEktNZix\n",
       "M31+12J0ZpnpI/CbcMvUyhtzbVj+LIPJVK8yXVsFF2XoCKBc+DFdEnmKewye+ZFHnGlQhOD46pgI\n",
       "6LwzXUBhv5CIwtwE7U/xkwvqgCGCvSyBINLv/C5Ct+NS1lZit2c1fDmp7gsPuVaQYAiSfpAS9TKe\n",
       "tvbVadbZsqe57x3pe6cuvCmBPvQk4PY9JZgmYj0SUHaRcfQP3+7ruvprZqyc2IDSMLwivTbFh27Z\n",
       "GbuvoH5/+f7DeBnbF49FCAZNelBlBFXYZthpiw9EiPGQpfW/yVCj+QaF8eQ4AigAASgKIJYCDwAA\n",
       "AggBnmF0Q38AAAMAAF0iSmpAVURDh6TfUWjSvu3zIPyFNaVYuEM1NljqDRUKPgAXI87JB3mBhfun\n",
       "Cmz5fetM39QCM8rq+v+btnc1I7WDujkILnF3BLB4Q/DzgPUdQdT23jE63wWUxP1fWhaCvysbJqPm\n",
       "NUSnHNoK2sgO4NTYd9RhzUWsW56RWfwuuPvntIhUR141QjqP0aOomt9GoGXwJrZTqyoGNYx4C5av\n",
       "ZLW7CroN9DKArLzuYXg+mK+VR0RlUa4QP8HfywuqFliHiLa03jOfLp/rYSgTy2vaRrtSt0n2V8J7\n",
       "kcZpbN+ZgnzAuRd21oEh8yMd8lKc5dNS9rXj+u3tWtw77ab9l2IMKWO4Iqb1KxzZL/sGar12XAxF\n",
       "9BHKbwAyKqYIdyy260081NkkINwo6JMNjzGBKrZTy9cJh/VtRXm98cfi6wREbaXLvlk32Z7PymMj\n",
       "VFRuBwPay6sBHLVA6JZFaouVWydjRkbX88LOqTNbdxIaZkROClw3KwjFVSwTBrLjQ7rks81Y3cTb\n",
       "e4hZLJ0GsE+XTVCFe1c1ER3XXSCK9YjnDP5mtQk0jA3biZFhRtkhEo48xh8n0nO+zM7sFrZVGyNg\n",
       "ln6QHd1VY0xnIDclWyAjPHx2Bw/NSN9JDakO0S9z6cHwSQS0ksi/MIbll3Czh93l/DdCAvcDKCFv\n",
       "yMAAOd76uAxYAAAAXAGeY2pDfwAAAwAN0XXk48zmGMlDWO4i9xQGEjAVrId6c28PyB4YqhbzL58a\n",
       "VK2iDhetU0SCRehpvWEs5Kq7uQtk7l0bltmKpluiji68SjjnEUhRzgADb4svgCXhAAAFNUGaaEmo\n",
       "QWiZTAgj//61KoAAAAMClE1egD0FMa5eAae+cdeRYxNYqUGEqUHz2+lM5Q3qitVVmkxhsVhCoYGy\n",
       "Z2ht8+NgsXm3PA06jOEPSmlxXDgyoJlMI/dcssYTDbkPnQI5UsGIOgftDzJb06U74DUcpACaVneI\n",
       "3+u7dGlscmSqQsnoGUnpkdGHCDlcL7s28UbpVfAtXyuwfwBT26ZDFJW5OWQnQu03Q5a3XVfzIu82\n",
       "KnckV82qHsVxYc5q/0aRQgrDBJpeg01naTqVnJIBOF5g4x8SIcMNmkRZUXys7IouFoQQYIw9OK67\n",
       "mr7jeni6K84OL2LKporvXxo5LBucQPd8v51Xn/OP0W3dgcB9XGh+HzPrQxXdpr465k7vz2Tu7Y2l\n",
       "IarGiONP0PmKRWTNyxAvopA3hgHsInnLN13tCfq4XBKsJtlwH2+GG1jvPC0tbWD5IOjm/n7pA0Wc\n",
       "HhONgbudujFwqrcvTggYEtqKPjKaphHAu16AsE40AvfHwk+1Z23yJnEbZVwLX49Qfhi7W0Clq6dK\n",
       "hTv6Au0hJ9ve1v04dg+jZYxSZwiK4Awh3PP3WPXuwNY1+/7Aca6YjWVYamagCt+lHpFn8WlH4F+0\n",
       "Y3hLd6QwzOTubhYBovkeWCEjDSRhJ+mWp9mWT3+1+9C8ZXlVj269VlJVnfAH+8oBw7Wvyplk/8TS\n",
       "bBIn+D0Bjqa3yjTJpvpzYoFXAw2qKaRlMHEdpUOuAZN/fE75/jquvxJQ3RPxOV6J9+/rGbHT98BL\n",
       "5aJsUQ1v4sJLOvUh3X5JF8Wdta6ZxMXB5C9YSmDk0d7JLYZk93m2xrRJ1YGRQaSZCTJSAe35CazW\n",
       "emZxrlXqeL2yulWr2Qj+mWXljUn9+UuOSUe1Qd1qINSfMbEc2xa6wCpoodfI6YPskkFr1cqA3Efw\n",
       "DMvOu1zM8vGjdovo6ebNxMtqkmMTXNo24Bq142oXBpfO2fbWAsX5flEkSNq1Uqk5c1FrgKdab4Ww\n",
       "4HFhXUa3nunviT2ciPf1mde+BeWQoOR7XMiOqWhdgAFGkS/ocRzQqJLLmPJaXEChEewsU4zLGx5N\n",
       "wDXdGjWB6/czFYT43BCx1A6uHydH+W0cd7PjIThmSuQbAZtsj405g6WQqWm74MwgY0lXTSA9dKg2\n",
       "Fh3HqbuG0+NNgn4qKkzNPNB7ZEjqF9QpZFUA34DGCJ4ZHTnv7u9ymjpgtL4XMsRBbiAaAEPqSGiQ\n",
       "bSP9DYUaE6hI9/GdLgNQT8BobZ2UjBGzSKN20W4W183/IQ/nmfwgCw5hTufGyQBSPVrUAy6wglfa\n",
       "RHFc2/1o93u0hRlp5ATORsjYXlxTGMEh3w24ayXPcCcdk0fpv8Mxf0jgW36DkIzf4MWHq6iS4sF3\n",
       "1pi/kQcpk55ML8Bq1t1Bps49oa8+UMVNt/EQ9l91i1k/JO020OtNfQnU4oiLxc8P2WgCc2smeEla\n",
       "GHYQWqlx6ivkiMJSqGwfeNuepGF3jdYAMywuSV1UsS8cSoHeGmTiRbwLmPzO9Z+C4sB+wD5uk6Ep\n",
       "MyIPpTYdzg1ySFLICbrdpmh6HKgwU/vMBE6PvnE7fwfZx2fbZGPdznbEvRn3C2L6CU7//JU/xwkI\n",
       "yuAQ78oZTkGRGRmVIgbirhoIixHNlXdM71GHrvBb2xL3H8OTPOK5uaoAaoKRmWWwo+s6vYZ6dnax\n",
       "aEH2Ebre+YvV1NWFY5rn1zr5XN9kdfTQC/nyR8lP4+6fT8vGDjbIT1ryJs4vsk/jX/DPZCUDuA9F\n",
       "qzqHn0LYnE20SxYtyOaSAVMAAAEJQZ6GRREsO/8AAAMACcOT5DrTIRxDB6WYgpMLkzpeldtPZTUM\n",
       "Y8dzN/jDhW6hWsCsfGWNRevx4evwdaPFD3yfAbuZQtT89HM9MOidnoTFY70c+IZsuzf61p7+QLn+\n",
       "b7gnkcyytFD3EoKNKZrMt4lhXuuss6nh8Q2bJggqXCPuD1E9lJgSPxYnhTQJxo0jrqb1vn3flK0y\n",
       "5oCS9uZ7CCyQdyHpjRTmvkHrXEBPShSMIK1Kt3/VXmPk/C9wNK6T0pHgVwS8NqzJmjQONRCWR6ff\n",
       "waQqD8/NjWET0bRSCcbyTumXNsMLTKak03YmR+ilUp8E8gdiYbUWoAOYAbZPVpQMjoAAOuRTfUA/\n",
       "wQAAAGYBnqV0Q38AAAMADc9XtJ+dl22zDdP/hRTh8r2vNIRZuKCNPl51QE22fXXFJ972mA/UuFc0\n",
       "4BhwY1Ywc1nTcvrXUVA9SicXT3XC85un94tnP+/5EIBIy88xdjvDjkqyAAASNqFAWUEAAAB5AZ6n\n",
       "akN/AAADAAWJ/d5yhjnwnp4LeEFK3tVi7BehO4CZXCvxj+r4ihZ+ntyh2xLEmuDpO2dCevxNI/yq\n",
       "4xNMh2H2i6TdbEKrXSXRICyNb7QoCJLlw5ahAIL7whbA2qjBtmc4HLqU1XKRZefmlMibjoqDgAMc\n",
       "7ow6YAAABWFBmqxJqEFsmUwII//+tSqAAAADA9X9XAJeNh9YgHZ+e56moqbJ36Ww92MR9H2AOIOz\n",
       "p1JWD6m30k6Mu+jI3oFogeCtIKv5qfA6fGFU/heoJTDp4VW9cks7/RhaqxwD7OazWOjLC2eJNsyl\n",
       "eJ0hTj1zkejxvjuyAhXt1RYQ/JSy8Mtq4cf3Vd1ZiCut2IqbWgXhuUF6iktpqO6e1+jwY1CQsHx7\n",
       "E76rL5vfdhyZP7CDoo/IrzgatGP7CfQu9MeoJ0IABo48KS97cKuGI64dvVEhwLA6NJcLKWFwnzUc\n",
       "4I8ffSoKvbMBAI6FV2tsD+6Spq4XgwgB0ljZTERWt4CLJnhcQqiy0BJSl8ZcrvHrRv+6Gwlkk4cv\n",
       "DZeNgRmgl4TiNb0wVymcVz3Al9/FBSC+++X1e2nVMxBW3mfkQSpU0vecqgyhmolNXKGAC6IeoVnc\n",
       "gR5FGnw6bZibNNIJvCXsPUriWhOOIL6VhsYuyOrjss6GEezRCf9WkH/hmtiRbsIZ+g3t8fbac4Qz\n",
       "h9lDdGedP8TFCb6WWHYNEBgoumcYqdh6G6pU0TLe8Kqi0ngpwSGkhD8FRFGs6WW3MLtV7GRWrUC/\n",
       "bWTRot04kBQWNLkEpow3y0XCZO49iAjcAinEpwUnhLuVPL6G/vZ1TSXmj4CeUectL/pahH60K3ma\n",
       "nCY7MlqlASQkrwbn60G+YrM1nxYiQJvlQL9Q8tx5ABpj3GmdD5fg7U7qwlRfjuw723vwAbKGXnHB\n",
       "tXJ6IS8KpGRQEgIbM4r6nKm6BlhrybAtibdM9A7qNQuzSqoY51B3C/vBzFH0cIeYVTAJ2wbvYdUW\n",
       "1INCYVOcZnwxCa20QAGzEbESZeqJZNJgMosuhhJC3CuFtzdnxnolcaWckeVEOQ1y20O3JfdDHdTU\n",
       "3H5cXQVdQoXXIb8sAVi+ji/cJKOEaIDa/FFKKONd8NHPC0vj/tG7MTiULWbWMAGNXvGRjEkoQDFf\n",
       "02qDScafDWOX9PBzqXHcagtcEWSjUjyAxoQtw1wb5hKRz3EGLvwmgSEstLGET6p8nAu1SVRQivCK\n",
       "3/dt3oL/Lfrl3iXyko4bysnd8Orv/zr2fzhRcqwuqMnlIaTK8EXJhz0OJ+MF4DZ8sTAjZ1dX3Iuk\n",
       "PzsSie/XiGA+wwspgMaajaS2k6Jnwaz9c94DAaSF1kh6un2A3jCXKGD1YSvwjyBaC7Vo8Ey0gYuD\n",
       "Gxd0KRNJqBXXgmv06+nhKcGGkTTrmzHcJkmEB5sAXu6XJNd+ucauSLUxq5/nUHvF5ZHsAEiMQnZ/\n",
       "jXYjdi5MTqUUzvPJq7uLMOs3gNbnZwnzFB5py8q60XPUEmrVlOQvVPqOAM0sCo5RNZ/gfW2+XtDb\n",
       "G+e6Zy7hEjqV2ePnaogBxonkW+VAVehzrC/DFTr0F6oPzCMAbKFDc+mR8Gci/saaIiGsRiJu0X+4\n",
       "vwtgR7wGN1IpcVkYN+zcXx2i08MBvd2w4bsTWz04CNkNMbpUt9oettltd6sYErvT95ruuhxO7Qdd\n",
       "oxYd9AzsxjvcGl3h5Ofg4R1+7JvDQjK0URp6rqVjWy/nMWyCnJRe85lmHNyMDhexBS49Lj/HjZ1m\n",
       "UsvGAn3UL/BSrZD5mBDsTZHuQa1E9XYn/6BTFdgFpfdVoVfHkkEt+Pvgz2zb4tZIOhNjjGehV6D0\n",
       "gofTPmKrnkOz4vSu9/pAWWu1IT0ub9jsKnAqxbGpVE2bSstwYDrWYQ5gcFHpxHFMGVqLWVGQGaJs\n",
       "tGZ5Icv4CErvMmLQTsngso01hC4WD7Xn/+W7QtrlzahV3HNjXV56BN/LjHhD3GCIQ1mpXsmAGbXK\n",
       "07gk0JBvfatx7ZMy/DgoMEAAAADdQZ7KRRUsO/8AAAMABAGe3OuYOQLzN4ESCzJEtmg1fbhMCG0/\n",
       "TxFCn1UMbwCsoEiSCdCaZqTgvV1JMERDFdG4PdeC+nBcxTpK2K6An8CJ1PkNx3OFBHuyrpXdWDjC\n",
       "O/9oMDubI3+JZrRw/tzb3w4WUXFj3rjbKUFU0TlyqUl906N1f/2HPD1WpscdfIZqRdZBMsQOXZ0q\n",
       "mA1vNJepUUeGTuNbY+mpZ5q8+OBJhpEnecQ2fvoyqeN1ZbZFwCRItoCS6+1G8JbTPNsPlFt1cnPQ\n",
       "KJNLAtk5gABolA7QOOEAAADEAZ7pdEN/AAADAAWuT8gEa4h0zJ+wIzRL/ojev/WmQJWNrxlxUu3d\n",
       "pVryTwhz2EdYs8isctf+DyOHsxTRZo8jjGTeSAGBilox883YCxYuPbN1EzP/p5mVVhO4Pt9zTffn\n",
       "ZOKpxVF1sy0ERfXjqO5UW4bnVPV6qWqBwFXITZFj/timFcSL/GBR+YYMNI9yXxLkjeMc+v3d/cl+\n",
       "7JDVMwXwIaJrh/Sock6nzLrqX74SLzrV23T8VNVavcxFm6dG4AB6ljAFtAAAAMQBnutqQ38AAAMA\n",
       "BdHL7dP9HQgWooxgN6f7/nHCGoHY8omwMKGrTpy/aNdl+XjtFzXmz2CRN/M8HWy66pCXg2TODhnX\n",
       "25tM/Jw2qqi32bAj/OyngjFfYeguotQbnp3uiNE8/coipG77jp1h2NAlPJYyjy9K7hq6jA0/5iTE\n",
       "Hzxp7gE/RGLdRux+dRpsd4iXvi0z+7QzhCyHpHMJwV/+s5aB7QgNvV+lgO+AJHs07s4T5iTaNFzf\n",
       "1eohL2B1EL7gBjvxwEXAAAAE7UGa8EmoQWyZTAgj//61KoAAAAQBv0MAkCMisxuCi3W+keXVkMST\n",
       "z1PRMzOYn7ynuXPruv5iDqXlxzqEfCPGSrGR3pDlEem73rzHKdswISS0xHTB2a8p3JoppF4etisU\n",
       "a251nsJGhci/Kd8XK9/7RU5U3Ih11lr7Og1D9aHw9aUXbq4zXGnRBKkjM9JWrLnijXNvZ80WO1KG\n",
       "Vvoa/CKIRpKV1TfPZQF/aexis8uad8n81la8HsXNEsvzFcC8QnaRlpJatlrLFzXqGmcWAgt4TFCe\n",
       "U15xBFDHr/H0RkYvabGgHZSQh//DJDfKr3MGAO9yeSRkVe0wpd/peRWtbVygg1cPVFKPbrfmMTHK\n",
       "yWJn4DL3UZ10WZGElfb/2v1tb5v72XyXH54GvCk607NcK1XY+XYpo87ujhZ73wUS97OeO8BvsluH\n",
       "5ce8io6rDAeztrlKjpcQKdaxfxA6QwrrJG+l+oqUJcW+oTds5xlO934uFxBLXXBXJWaQvnFcsPhx\n",
       "ekS/yVAu4oiFVVcXT/yMyQZOUuO6wd/TP99BYF0bOO7GAqQvIYvQRkTBfEvc3LycBWoSldAVYgXg\n",
       "geu9nF6+1rPDaCsQocIwJIBI5yMYpmUXywQQNpw+OqU19MGjWOdnqXAYLlWk/jF4R1QfJFXnIV8b\n",
       "SBX7vFVztYNudW33L8rhbhRfGHhihTGisQKy3+26mVLsTfxClc7GqWmdaZpwi5pW3y9fpNviw43A\n",
       "P27owkH9fo/tvTuH9F0bFrzU1geQbymORDBLxyM2wFNvw0m2sCnBznigvAX0rUHS5BaVDJErnewa\n",
       "U95RnuLI7ovrfQsSpK3OTo/1iBK5gq4+dbYisS4+RFztbqFzdF1QvfsAy6umv0DfMpEMsMl/4Zjy\n",
       "cmlghNxX+BS4zsf3/H3twoKHUcpVDKTqAtBoSk8HI2R44y139n9YNHkEk0TGwZvYImXV3nAV9FDD\n",
       "2Yu0m855CR1G4uKY6BPlJsJU7ulLhCZASf06UGqUfwioB1UUpO94d6Xljt5fgsuHr0nbPw4eytqN\n",
       "uQ4FN3UUsYiyH7aUW4Zf+cV9jILg1Ybo8xgdqYkKWQztpO5dk6qLzgf1jkBBG/2yzYCL2EOhR555\n",
       "XOhiuaSzyoKUOJHKXGF0ZsvwIYBY6UWB6Ug+sjn1vnEbJDwtuqLaFM38fW4sjQRYekg/3d4ihhNN\n",
       "thx4uaiktGtFi4IEqm8dIQLprTY2VISdHnbaIG+2Z5XoN8Wv06C514kQQxzwuGt568Km0zf2dWf0\n",
       "Z7EC9jYsySSbqHgKr5c1xlnav31JnAk0+BiF523f2fXz/d7hVTUkfd9/A6o39aorNY0vEV7epCTQ\n",
       "4+NbqhXoa+imYHSnAO0XMssxATuI4YbeNLs9rAArVv9bQGJfXnTMbTPJH6g8XkCAXRPnnQOXTQ4r\n",
       "5QFwirCkzv6OfUSogMRpdlTECLZ+4MdlNsL4sLUUDDe+bwHYdZtbKPVj+bsmfauKS4jZ0q7bINb4\n",
       "S+zcGkeGYdUzUz4i7hDaLP8OWtwmxW6a2tsq+cHvYjhF03OlmXH4NIpqyYiRiaK3ZQPl9ngbHxah\n",
       "SK2ALvnUJIHJFtYC1A8YVfmeXqTZ/KP9qyUJD6OtISp/l7BB665CWiVxlnQVobnVsvva5Gzb2xMp\n",
       "FMk2cgaoczoQ64vQTOcfcB9uVt632UZtg48AAAFCQZ8ORRUsO/8AAAMADj/4eZ/Dkg0E2H6GTCij\n",
       "+pajtkU44C5thiuXBw7n7WBqz0NlyxBozVyxGDOY8jtRllGafdgXuA6P3BqU7JSWOiz7Q/OV1sxg\n",
       "ia1MTY1AdT+0ws8nOhRI/Ext/E6KVr3T21dOlesDzs/au/G+WUpzTNzY8ik12839c9J7AqfqhIjt\n",
       "yGPaRlRq34XmVwQUQogj79l7rUCevKzlxifMaGFYp23ixxZtB+rM3Lg+59EpA1Hx/3iWchPfCbi8\n",
       "5sgLAKE8jXA3nRObiuO3tMQ4hDRmhxN+KHMUc+/dtGOmdtkyXiNS+k8hrrYMvp5RRCsIpi85YHKU\n",
       "EoIBQY7hcF2RyIOMl3jjS15cTr9xPCeiv8vh1g2wBcSl6dHMuIdgQsYBwsGfhzABdFasb1DQPJ4C\n",
       "kVd6AGEjxvAu4QAAAMQBny10Q38AAAMAFribNLifx9Yl4lfGPXHGS8YzOuMIzIrgXBAcGEG7QzBm\n",
       "q3qWXMwis4hk/qjDnnQQhq5TP6tAwBEa8ZlRkyt8EGonFg6C2mCugdtYMDIBC2ytAYKiZg1Fb6Ez\n",
       "j+8MLJRciXkSy0N4Io8A6YkkFxVlJ2101tSNa7MTGm43/HUeyHDfQnKNf4Xvj3C0NlZLF1MGtwyr\n",
       "5ZbaEfGuufMlnI1ees8dtAP1XihrI7YaV2uyx7C6SL4AEWSgtGVBAAAAxgGfL2pDfwAAAwAWtmkx\n",
       "a+gGopXBxmahAsc/AtrT3qHgII1wRa+V/4DTXQU1h+Q1XDl3FNKODfGDJHalTzaWU/AKP2ZOnydb\n",
       "IOhu3N7NneSuNTUUnjC/M/OJ2xW20rNIlKpfQTWUxfQZ36IBQe1R76gEFSCmVeTWD9T+7tybiV0g\n",
       "n05Q41Y/4fBcrzvwVvjMcESW+Cm7gq+RqUEW41cao8JBB/vxbC4nf1MXmB9rdDkMpKnhHAQLsBt9\n",
       "K78UGoHEAB5y5mDugAAABO1BmzRJqEFsmUwII//+tSqAAAAQH/H1EXGw+sQDs+3kNFEE0IB5pbqP\n",
       "u0SutSLUrCg9g+T0EnuNPyqR0TqU6HLgByqfoCNBFxHYDUYTqQNmdktVYN7v6sViMAef/GY6TYT9\n",
       "3d2WtmtmrZFHNPSqRI5U/HhtOXeECgQFo811rn6ihBxHLw+QKANH133q2zQZXAulNnt7Z17qwFIG\n",
       "I5lbG3XFJBxoN2yDTIwV+FrMX7J/xqAiYJ8ftZ2EsY8d1nA6jP0L4+bOUBCq7dQ6XMbEDtyO7VIB\n",
       "bcljkWFQsrlWXna+on/Ng/sHkxfVk78rmQ/xGbwD8PnSbyyyBwNRl0HMCvdC2z3+0ohj6J9SqEVM\n",
       "ff0ghGQa3SOrSHPQyibCQyUwTiNFuq4/f3BaPc8ymyt87+iDEMjsIQ0Ie1wj0q4RB5K9rwlyUnGX\n",
       "tTtSmiTYNi+0WPA82qX3USKvtpiWOORPvQJWD6eZp4b9KutoRNOOUuc6baFHaTGTFNqGRsXdQy7b\n",
       "F9BkjQwU2ILZFDIOqD0gMQ/58Yl6CtbRL1Fk5WLsX4pe5DmWocMGho8GIxpKArkTZ8ckM1LXfl58\n",
       "D8gwnQV5FY6QA3AZqAUCZcDMa6aZl2o7+xXW53tR+mKkX8WSagilW8m0Hs69Aih46YZ2fQXf1+c3\n",
       "W5Vg2/YbGtsuyizLuaFwI5ZrWfNnWC77L+1v8Fwl5NNt8UbEjPRDSWMInUoTSROJ+CCgbAbluhBg\n",
       "oU/vvw0yE8/2VFXlQgW53Db7Kp9Q693pAvuX7Nu2ww4B7KPJ0EF6kwNDDYV6YmjUvEXxlfWUfYUM\n",
       "+mQkmgp7KklXhfdjqPL0gF9kG0AXAT/lPWajAa2OObgYtRsxBiwSmarQZgzn8DeOLSKDyyPkwg8V\n",
       "NludNrB4YGDm2V7otXBcI+LcDDUmf617PH3LoMELUi3ollO/+qLWrnflimMQtWbwMYUkzaxsvhEw\n",
       "L1lV/6rxhPIVKnNDhKkbywwzg74KbqQ3eIXrDBsAYzH7Wxwofi/dq9G3vHfD7F7T2dr2RworCn0D\n",
       "wG76LAw6WTcgbpw+dUwG6KTlu5kRHEvNhd0pAsL0d0tq8t6wi7w0rC8vLZzP3BQ+KT16XRiOhYfe\n",
       "JelmrNaPqSSqhgEhQKDySwoVzscFvdWS5phpSooTwfIaqW9xHLv3goBQ2fbboSKdJlGLSj/Gk4/u\n",
       "XlfjPYdZ6RkhkVQ35/t3oQtlCg4xWZxlBTOnKorDuvsHCqm3Qw3hsWsXwjyFRr9HoQ4vgnAgziNc\n",
       "JsmPMB6WOg5iW5WcR6Nm0yujEItf4x6Ka0zV6/cjdk0DsS8dDgPdh1ObQmRyOH2hdp5ibkfeECUD\n",
       "mX6mER9pS4wnLsCXXEQprrO0L/52b8Ne2TRdZKE7pWzx2XfUJqExreGRkZTHoKV1MEvoUqdQhn+U\n",
       "QZ4mKZs5jO4TVvuPhfSfaZi+5IdRw1hubLCTkViZegUCCQdYWIR1xLn/GumhT3hQfVl5dNh+Hr48\n",
       "OJoBoYDKviS9t9VHU9GKphvbbXphZD9SyyWnDhIQXZpj3drrMit7nhE+ZJNVEZhUx2LsphhpLz+O\n",
       "hvEzZJuzrM5Pr4kcp3aCXxZSEMOZLsJQmodkSgwgmJgqagAH8ar5ixAO04FxkZmuvQilqkarxTWU\n",
       "G0JGCKcxT4g8cYb7uSoEAG3FHURbyD3QAAABKUGfUkUVLDv/AAADABCGeizm1x/rH3Nk2SRrBgyA\n",
       "7WeX4VWL6xGAXv+mOYdSqkr08L2wztVVkq1fau8ZVc2wLq+KWfdima6N/MLrHXYg0j7rbOLuoUEf\n",
       "UkAYwOebZMPClOacnqbsQn889nmisJQsUE2JVcR+rDWy13XTFTuvZnZ9hwnj6u1sIX5pVi2LIYi2\n",
       "zsWOSjb7GM65zfqwwz3tLIRtCkIA21SfregGO0kgU5oQmfcDy9xr2zv/ZS956+sD8lI3/gGDeCyy\n",
       "qIaECP88LGjyhtIiL9r9mCnnM0RiZ3c2HmVvdAdUUndnuQ0c1zReUdBe2j/U/MffgBaQQxdvXuk8\n",
       "+iQB43X6uLCeQNjuUwabaoykMCcEynWhUhEl0PddYy8pAAYqxnuKSQAAANIBn3F0Q38AAAMAFrmk\n",
       "cdBRASokPkz2ry+J69VfZRT6iu3yN0Flm7vacuqOxh1V5VTqjichW8UPicvrD28h+GUvBXgacsFJ\n",
       "VebFMilS9RL8fZHu5IbhFFRluSjyQi+Jq+qhghzt/NPVABvrIYXydzHe+8Q2dJibgJ/jfkdfetSz\n",
       "VIY6Rq1bokpqGFJhNmywvzaT6vwVSCD4c9TLqQUY0u+SKVbAbJNHWgNe7MHzOLSmMheDa6TujvDV\n",
       "0i/lnZ4pwev60QnZMx1HGGmi2NeAAA2gBQQAAADFAZ9zakN/AAADABdHo0qTIfXXNtqcMkBBiR3z\n",
       "gdRVcHER/MMrHK9oqaf5tib6zn53iUwWKlWoqv7ky46Epkrl+bdIntxitjLrJdXoHd3z3gzmnSdK\n",
       "rc1//vlwqzzTbi/p1UVpDhEIVd7Vqfd+eMpmzEcns0Tmdz604hTpieuz5Bpq/l75lz7GwTImS3Pa\n",
       "6SWmGXJU/ZnRu+OHfSV5SszJ2Szb9xBX23sV3P5QoERqno1fbOodO399kdQtKH0sgUtIQAfUA+YA\n",
       "AAS5QZt4SahBbJlMCCP//rUqgAAAEJ/x9RFxsPrEA7OAoT4f9W7J5lxuuFpLFfXed+WVL7bIml8w\n",
       "dxnfA7abKcZKA8iLld7+K67OphsIhiPvd547razCxF73GiqqzG/e+0QUtrwyFtVn5E7d2JoNX9oR\n",
       "nQCyr3f9TdWXehRmMmImlSnEXXAoDOjYOlXVIara+wVDbeQ9n3RtOOiLstLN3PoL7H/hLowJubKi\n",
       "al2kEBR+swZ693aOWCA97uhF4Q4yGf1msloaCtIqNy2Ve7J1j51CU7HqvHBHvJztrMaQ6o0tKErI\n",
       "Py/5LY7q2Plmcf/vRTfpU7l/Zy8vm3xnaCmr5+P5LhNE1OQ9zJoI0tnSQgRxBZa4Vdbl4aK7Fvln\n",
       "JncAr/rbk3iZ6TmcWnHkB7B8BQ5lco3tWaeuLCoTviWhqdUntGAgsWZ/pbJAdZlRapy/1dEO1IJ6\n",
       "VXHgL1PcgPu151BxqpAwkMoyeJxY+kF0YjYpvsUwE9RRCVbYz/8rtYgSN3g24V9o5sx6Otyix+zQ\n",
       "3jAmrhz4AedP67GvpU132W9Zs54+YWyPjoqXK/QcTbaHeB3vlxymExR4Vh6m9YjiAQJqZe8Q7qzC\n",
       "q+U6CnHhGEXjHLsEg5IytXMFsVuTpjNeumf6oIzVKNr26FZveYXm65vIK4eHWeQOKTwwlpwoGrHZ\n",
       "QPAFcmCj/7eOYAsaI3Un9nLuowpLeLw28l0A5dgcy789wvLhJNIhWGsqV5Tvp1186XIHcdOcu9tx\n",
       "fm6OA6Q8/dlAr4jWQHTnROUqTOy/DdNph5yQ61ftOsI3nPbOQpbuT7MrgnFjzuQ/MPGJC4nBp3d7\n",
       "gkruR/1TA1gpcoM5/Up4qFCZeS8Ma/XjYeKx+gFn9Gsir3aqo5WajIR4Vk3vNjxLtv176DbZl3qW\n",
       "B70eq+y6ZNcFQg+ZFLZ/MQSU8y3mRdWvVUE0xomNH2ggu63LbM661G9Trz4vmVlpLGUHchDX3npf\n",
       "BHyhscEN+mhv1GrVIR09Vg40NXmJuoBFkW6/M6To2IZLLrr+VsVTQ7JpiGi4dFILVHJPigMEyvD+\n",
       "L6dCUJKGckZVt/ct+B1ohOkef4JOp6u+PXBLwt4nqBg18ZJFsLDEDDrWiR/i7MQ7OC4YFV902J9H\n",
       "/jCQfBh74MgP8L91QT3GJ9uFAo+jfT40DB0MESlZSBDVAL68JHcHUvYbJe/wF0TBWZJsCcip1Wm4\n",
       "7f31zJDaLo0gtWpsj1eS+E7+xKIC4TaO1judvT8XGv9GcVJLZMBDs2PJn+j+3IB0+i2XmiAzembr\n",
       "NjdXp1FnECQYouh8eMXmQ0U8osF7ZYpy0Olq9MbQxvKiv8a1HrupP4AfMRaJQNwmhKLZ1pFRkv7S\n",
       "zDlvOjrQOif3ZjJSPbnhNFfQIUuqf+YMI6uadAKA6/iizNexRDUzNq6DOHhgM4sG8+pal4rBCTPN\n",
       "zADt1q7yL/8DgVEidd/cotIJS5Y/cKKWr48hf0uQdw35rryxni7CyMlmzMVbaF5dvY73MD0195jD\n",
       "Nhhe4zo4AtXOr0aecxFvngE9VHYUi+VrN+45hOnxtPT6BZT8S55sxJo5VXt7Yq9UdXo6vxh0OyLx\n",
       "Jpo7eomrhBRsUychFETBAAABRkGflkUVLDv/AAADAD5/4c1OTN7y34qOyIkgd21pwcxcjts/u9Cu\n",
       "Id0oNJUH3jL3HSSM4Ws8Py1YSW94FMGerA1al+z/gOLQ1zlb1DrbjK3VBdbS1Kamwrk26u68Dkd8\n",
       "wYZ8W+ai1zMqOZu5PhoziyVfR1EaGJ1X2zeroeXkz4CvdqA4TstCQdA2NmZAYtye8d9jhk9Xx/sV\n",
       "AWuc+sijDwrTyQ7JNKd0jZxBHX6kve8lpZd+e5JyHBvlps/qVH/1D+1qRI9ldeRZvWCwwXv7EFg1\n",
       "acjwmq3PFdj/O8NalrqTCH7fGkmy4J1hK8ejwF6f9W9VdudIpPh2ScFhLgPBuijko+PRi1s6or45\n",
       "1jPCL7/46XxY+kvC/Sv4eTJ9VRDdwG/XN9bX247aTuwHA8ZCIGeowxRtiI30ljoS75aYsAzAAzjK\n",
       "oAxYAAAAvwGftXRDfwAAAwBYokpp9HjjxzWSX6O6dCs7Gy3ysZ3LbOye0NtTfekQKD++sc29ywue\n",
       "6g2a5C/5taoJKiX5Hj1qxSB2DfulG4+z4o1pUCweZWvXYrKBboVT8qvAkdfS3g51dw8sCxH+YBDe\n",
       "oRs60bVORA9u3KEgFfkdvyL+SdUgZaGCsESowA68+jJmhxLNeIXmq/PUikJ6VkcDj4RBHKzDi/oF\n",
       "h3ZRoibYcss9LfWPWqnQA+QsRkFMrkAG0AKnAAAAuAGft2pDfwAAAwAX3tSlP2nEHT4W1CpIhH4i\n",
       "QA4PUO9XOaachiSQ8PGoMCE1r/HY+gedflcbYgMeCc+9e7kvaDcderOnUrybrbXRUL00y8rJ/qWZ\n",
       "k1i/J8Ot6UanISgS1gA2l6aRA/s3KDVvsiKkxFEDdSeb5XGAJatSi/9km7Tz1aJ0dSGpofrxe6Zi\n",
       "L87+WSY6QLk4dYrNozUrKZ+XQnr0OYA82res4V+siN0OxPwKsfD0ATkArYEAAAP6QZu8SahBbJlM\n",
       "CCP//rUqgAAAEQbtbUHsywYg9ndNfzjOpWLdsAddY2nO7+d/XBxnmP8YTurJPN7qMIVi4RgMIYM3\n",
       "LPrz1QKugdC5Ylawf1OGHXBZ3M0KJ60EYXb+7tBMEdEL7GB5Xtgu0iogHpQUr1zXAlYqDQ/JqwQ3\n",
       "9Nu9XWhrH9xx9oORtioYBzbKF/pcK3NE7yZEv2uovd7JHvI2lgDgYKa3118jpOnuShLBKPUSlktY\n",
       "d3rvey9i1djnNxkNlU7dr6jFUKFlGXknIdVdiwK2oaVWCX8hrN+P3+/00JdzlzCZL7+OA40PmbZi\n",
       "uhULaUC4kBXJCqh1fcfvfYdNbHVIwh9UtFoQKjoIOsTVd3oGZCtB1JpIXcabrcQEW0So2l0zEIJ3\n",
       "0R7EarmMFKTFj5IgczdCkcObV6vtH2eH19yYout5yYaMed68VkcJ2Np9ZrthMi8d1EBBX93hffnQ\n",
       "PQfutBNsngdmDo1cQ50qn9btkr9rG/jh/eoW3BiUMFleQVYfkNH7KcGK1ubnmZB34PMMzef6NS7O\n",
       "TujVVgTc2rSwzthK6jFjV2iB3LmwoDg9Z2C3tZT0IO1wzJSezravX8E9uFvaTaCkyLAWlL/FPCQg\n",
       "cS4bbaVsXBcDv36tUwhw3Le3by2ptfVanh7tEqfBfgwZh2wLe5LF9OdO5Zov2ysPwTAYgFiI4kIo\n",
       "wErsjGioIiXKDKfOiz93rKkxbUQE95pjsIzWJZl140nyPvTHVJbW2Yu4JU2R4Mr6B5X3RfOsl7I3\n",
       "e2ElpQdNZqDgnP6AN/BawUFSueEYKUj94vric3IBZAqoT2I2qXbEo/Ph97qtAL79IGXv/ObQK7x1\n",
       "Z5j6kAKuDus+WDVwGdIhCIw4aDScqMksssk82HnoMlO/N92FE5FU+dtEXTdbLInZz4EQqm5B7tHx\n",
       "/O+bnDob/m7icSjcIhmSQwtKG7DCZq+EHhIFx1M4LZZ2rj/7gbj6UwyJvLHrzvOAiRdgRlicuRAA\n",
       "dY1X/+EPD9qZCEoB5YphOdtoXMgUeRZ5Hyll8oM42tmZ89gG6jJkBBvSHs1WNHqoVpNLiE2p3iIA\n",
       "uNXICHNuyiQfeabjWTeAVs4fUKuQm429cWkmTgMf9QKYP8eBD8MhBNHaeRAes9Ks8jnBjGIptR/m\n",
       "CL2c/Y09hELSS1UgMZM2jHQ71NODXUhSSFLtmj9k/5CsGrVyLuuzZPqzv8+p27RegojA3a0EHPn2\n",
       "se5p4A4H19Ug5+0SRi3NcXb3f2uHiDJm97RQHmNNl708MkcRbEc1Kaoi0eAJvXQxZDBYKPJ8maeV\n",
       "Ph43GfbOUCcIjNnPlxEado6WTB18gEIojfprA1bWLHVYOkbiTgwHFAAAATdBn9pFFSw7/wAAAwBC\n",
       "JAaJCvDRDLngPymF4n2Pci6Sax0rZdaE2HmfFqDdhBX9bmZ7CXcu88d4BX4pASiAulaDxJ4UKVvp\n",
       "0tqqita+LoYeQ+Lnbi5Gf4ol1qgX3X/vRKNimUsw+LjuQfhgw3VYhbCY/0nHC+EeF6D0BEB/KFS/\n",
       "gOm+HkUk2qudJ6vviwnBk4NRXZUm4435sedDZDuw5NRo8VR/up7UZ6szj81569uFRoNh0b0JLfkW\n",
       "3LlqkDrMe83Hh2zlI2a1qgWmOjT3PDFa5H8nR9dO+1jXhjMMYm34QzpyUW/fWnlQyxg2sjYHkvWR\n",
       "fEeE3OHImbFcZDw/CNF4BBOwWWfY+c7xjcU4D9/xxQdD3KzbZxtiU+LDCAXhMgjbovT9jr3XvUAl\n",
       "TS8vdhXEuVIA/uIImQAAAMIBn/l0Q38AAAMAUeJWheNwd1zRezhbQXVmc9b0S5uviTdT3i+wBRhJ\n",
       "MrGVHhW9dkbOX4e7jBZnm5GLG1yvfTBAJItC49Cxgj9wVFaMde+R3PuUMSED3XfL4HuPzahCrfTC\n",
       "YmVCS5J1jwLxJ44YX/6FS0G/xdC4ZXUGNN2LGO5DkDQfMOxXw0aA8RdpyQTe1omxpaSyMtzkIDVl\n",
       "cyQiRiT0tEc8nx9s7DHqKGj8O3l3vQQxcM5ogTFdWpOTJ3aADmgmpAAAAM8Bn/tqQ38AAAMAX4bd\n",
       "hrv5Kl+gSiX04XhZmb1OPJaN0NoJSOUGF2kZVvoBnNUQdQATpQ4x4DEYDYkbzItq7bORpld5+0rl\n",
       "Otvg+eiW3ARa8yfhCvHteAzsjF1e4kf22mr5dnOXRaiU3Elb9QXpgMQDj4mhU9/Qz3bD0VdSyfyK\n",
       "PWVMMQSGLZo9llpO20/FKEpDjnFIP2fiNK401njwqbkP1TdxnEMXA/TiFrj+Gryfg7egmk3x7GeX\n",
       "M8vN4Af6EzgZEgeqSBjRD0V4AAoQBy0AAARUQZvgSahBbJlMCCP//rUqgAAAPm9rKILrW/amR6YZ\n",
       "qv3tUtMtKl1nRyJ1OUCXm9k83BJ1RBqeNpLO3zYVhiVOFbU757X9zqTtUK/cbvxEjNNpBJ0T0jEz\n",
       "iM5tq7O88tUmUk8ik0iw6gB8b+kmSb6PjtdPxodS+il8EZnFlngZGFJqtNyc0uSPFY/i+NSnMfrw\n",
       "AZlk3XGMyUY7+4hjjYFwtKSK/aJzTGFffHE5YRPZr4wgM4pLIzYTJEH8lnsjR7j0ctne+BIEy+AY\n",
       "HW9ljEx2U4dzO+Xuz23WxTUcjZ0ZQ2Ph/91/Is+M29mxkqM7ISQErKZNzqJWcvHkwbvNruwQAipb\n",
       "FS6t+6NmSkxKA839RJQCWx4/6lUsb9I6OHpMcEE7n/0Dxrbvzmu/cIJR+LnKNlMrbToom6nTs+bt\n",
       "UGb1BQPcLu0ONOXiNyff2NwJmza7yDT9aqInc3Dhcrg+W0K9O3hyHDuMhsYZll850kJdKjihqzpY\n",
       "aWy3QrusxauIIsjeqgwtGIUHB3yYfpFF/Vzk7o/zWr6tKztnJ5uTRQCpphc+55cJq+3Mw4uOzaew\n",
       "NSgLLCR8Gir+uKOv1YsuMm9XCWfedNvVUqIauFw9VjuxuukKvF0tW81asLpY0Zl3Um0sa9+rr4oz\n",
       "rctZtJbMNpI+FKP8jhdnZ2bzWeEhYlV0f2El8lknRyE/ta2KeCHmDMhN55rRA/o7GWPiZfbEgeWj\n",
       "zuacEI1Gu99yGUl98hbF60qycIem8cP9iGR4vbM3viemt2LeatFa/V0gCW003qKH30OowgbUjVxK\n",
       "W7MLbvbZcWoJ5SU7r5EvByqldXOdQYGqYKbpJzo6M6sDe3W6N7qMGwxZb7QEax8AWW5XTE1iiBJt\n",
       "e137nUrNdq7Miw8NeyHCcZA3dvwxwSeXbx6YSlkrFknDPjSawpDXBtGRvUKOrC33/IOneOne0oEx\n",
       "5hmjikvBWO5xr2MGpKrtTBqaQlzP6RWw49oxSNodOiTSMkQcU7+9qu4OXhTYNhR/PBCH6Y3BV8GU\n",
       "9zQfVjcRe/aGBbrwag9lvVNCXszCScNCv5NdM4Q6bNY49F9faqZFuafPvRHn4P/0ApUwSrpdl/cV\n",
       "Nk1F0fjXljoVF5aVOZDqhSeJqNufusnjGRRaJxj0NQBiHBuOI0Fy7a1cCD0QappqSuJobYmkNQmf\n",
       "j89qZowRS7b/Ni1PYglp5qFhTlF0ZJHbik1ipIKc/doKm1etUZCYJi8xgXJOOkrWvLTpRVXpGVtD\n",
       "kU/3JFvaafi6V+TNaS08mZ48dRyfiA6DCZxAOm2X/tgNa2dGpOhU+yNNOmrm0MCj7fVGVZqTtNMg\n",
       "kJRithgHV4tslDXAf5Wd26SVUfuxcssOIEpSC3ybzCMzsQjaoTtr39F0vkupekrjyXQd/wU7XqWd\n",
       "f5TbmQ00AsZS0hXy5z72Y/4sSsbsh5n9RKa0x65sur9pzpxeMratN8d6MJ1FAoF5MRdFawAAAZ1B\n",
       "nh5FFSw7/wAAAwD6NSqiLPJoysPo1kBpvjmnDIf+Ac9ZA56IIxn4XzFTAyniIQz35Fljmy5nHEdv\n",
       "1lbEiip0ErJV1JWkZOQBBHFE71zzrspDFc7FZA3QZ61mzRriWn0bsRzZQ0M3iNs5WRoDt/FdTzch\n",
       "9FwF6eee0/vyzlIv8roijEVvUTkYT5oK8uz6kfYionEyJgCUMJ8G98JLVTpdAGaVKF/7CILgQacI\n",
       "1qOxgSa77sVzldMhbqXllUMXrdvbY06bsy6BXeo22p2uSKG0c/f90CHquLjSwA7nhVP8SoUXi/Gx\n",
       "UXi/aEDwBwHQxIR5M/WTh0KPCGpKeJK/C5e9oNXzqE2vvVb7BLUtspdTsbkaFYptXPy2zL1in2dm\n",
       "03PQiYd500gnFMyCCiY9sOpL+CZgpVa0v3uB0/KOBBl6h5ZrBWRI0k/BwhKeVBUD45JN5GcEu1qc\n",
       "kTIF4CCpvcH8UIctIyLxxjXmTxfXF3o65q/DGDeEgTli4tZVTnSGx19nqb/cUzdS+Yo0g5aTYhW3\n",
       "Ib48UKioFm0wXIAPmAAAAN4Bnj10Q38AAAMAWI8IAZENyLYR7K8KMLY+2wEkYe6wAupBQjpFH+E5\n",
       "e1y9nDqBQUkW0HnB+AuO3uglCoLJ13L/GxdvYg+3jSQ8UHOKASz30qZEBpQ8Yx2EwzDjtH0ug/4k\n",
       "7NBkFmlCdIjpQ+MQtC25qIgyYkMOqYaihxCNcCOYLjaeY+UMc/fWiVJ5Qu63DU9JWbEDf22Z9Xs4\n",
       "KSiLDeGv2B3fWXQeVyzA7UnrGe5Lnp+75eNy2RHX+sHNMd/KWxPhddxu5dGeLm8IPC82J9mYaXry\n",
       "c8oOC/61uBPQCmgAAADLAZ4/akN/AAADAFzoge4IDoAs6wB2wZGWUTO4Fke9QRNSOBI2rHp8EJFF\n",
       "6ureALJMYRP6uGP0qlxAgI0kzpck8C+Ontmj653SvwGxILi9culyqeN7UUyhZZ3RYRwKonuq6uZM\n",
       "bTIvW6+yZ5hLJroLbug0cSd89apjGaKVfqEgbRx9xi0OhoohZkuy0r2HUq0mTnELvxHp3FcxKBF0\n",
       "b9RUD89heTeVIEcLOwEKr74/OrKZTID/TZukhoodHXSq/+alPRGz+2Um9eAAA7sAAAPrQZokSahB\n",
       "bJlMCCP//rUqgAAAQhtxAEw1p89bdsqkEoKYxae6NxnLbWA9zM+1ziAoCKrutA1Dk4lNs4WPeb6W\n",
       "ukqoBdmEfN/fe5xYd8Z/2z9SF9N33Yq3z5GHV2ga03g9v0jLpFxlRsZrN/w2HXQd7dI3PCUGYLlW\n",
       "4jNa8MiMGEwDKcaAjw/QFHMKaIxocM30XlP2D8N18c3HOEu89sBAHNzIhLQeagX14rg/hf3TA5ki\n",
       "0aIlBpDsa/3STMmONq8vKFXq7Gc99rlSGojWjyCeYbCsdoaSRrxhtAXGgGNG+5zg14TfWTghc4tq\n",
       "HsFjnIAPdbs3lFYrM0FX/nzph9VNnZqRQzt6Qy0ONEWSxrASTLBosoSx7pOj/sWHFu9e+fgjeZT9\n",
       "KFDHA8seNSmJrOmOBoYWeouQ8xdiMvO4VbJy9oUFn5JBvwzR289cdvG+PbWgdrs+BR2PfiLCab9v\n",
       "lDwJvLxcJQCQy3SkI+9vbOo5iw9qTFsi2gFgtNiOEr/X8UNhe5SbHD7+qzXP1BV8ZoOBZOyAeogd\n",
       "McsZs1wK8K3KsPrIASTDmg/SOAO41FtfaKfl6kUCQNEYGyvPbzeOaFFh/9PMBrfbszczclnNUCko\n",
       "T4W6G9nW6Z8rLsHYTG70M9GrNL15YU75/FRZ+yZkZMXHfg2l7jHV0FrQedNizXuy2gY0B+dxtKak\n",
       "D61WWxpgeYw6qdDRAcGcpq0moPpyLDarRnuHhIh2GAK/Zuxvru+jvoe3hkMy8EEKrM6/z2sONYn8\n",
       "N0voip0mdrZ2YT0dLlD5U59YhZp2940rW22dEsTGuawJeKTn293Kyi/wiDhyta5ViJxOo05HepEA\n",
       "r2flYj3waydvJTXslabHiUe031MoDjsvczZ5dgaHn5rjzL4/ZBoGCyZdPF4AeFvieU8Nirs7c5ss\n",
       "/xRHbsFxDuxMpFWp+ArKB+JhysBcA0N1fCpvez569VERjXKLgYvwX7XWOwR2p8F52HESQKhB5bdN\n",
       "/SUiqpFBuDBRRXzantRX0j2RHv46a6Uz99yrjjdRp5Vdh5GrrLWMN26NO/clcrPEKyN9DF/qrdRJ\n",
       "tq0OW/S2EYkrPS2qFrYDoke1htYUbW58Q1TAL6DXEEEjH09ILdLoDG/Cz2q/+T8upwe+j57ClVa8\n",
       "axLGNp2nsAfipQC+2s4nRh9NgDx/8ukvMJ+efK7xGm5FWssrUIyp0NiORBiehHWLDPGiG1G4TIUt\n",
       "SqzqzrmDcpEXtHzpjSjK5sQl2KlQkiOCBWqKIzE7WHVOZS2vu7fwakcTZmk1mfjtLyWQuZPQERT9\n",
       "GnLZ0yZ53DLxnWQnBFEBkNJ7jQ1/cCrYNr9iHQAAAVZBnkJFFSw7/wAAAwEA0YsqzESPIy1F11hY\n",
       "KzxbBcRXXb2JrljbMIrYt1AQrd+eDHm46xGLVe+7srXG8Lb2mRJvnH8Thq3j0bIFke0ZRvZFSNlY\n",
       "mCGWpbiCi3Rg4UIFDXQD6gNmnSVjVaAMMSZExmdKuk/efkqFtJRdCT8JjDeoL/TIsF2QcK9vG16Y\n",
       "JZuErnrL+Z1QO/iuFU7u5tmpCji89HL1w0jAaHt52GJg3I/THZcLanjwkf3Nb0c/GU1efNmntnHC\n",
       "ygph+G4ioofGoyElUcdI95uH3w3QhKlxMN+pt3v0zY5D4JAQuPvxxgJhMD+ZAjpHalJisX9LNjxZ\n",
       "6BHSrTk2ZoFqEEkyLncun2Mul6YodXVwrXIXKklFKoKBOWHwtfwwAs2JCJn/tG9xRx46HlcMbKkt\n",
       "YVFgKBA5tCbkoWRA4ey8fqRSjm081fVQ+8kfgHZsIeEAAAC6AZ5hdEN/AAADABnELfTKHa45iwNL\n",
       "vOWL5XPW0ArBMTXv+zVfvQucJxXSJLUBLXd44GOVnc2RZ2qjb2bjXS8LILn+PvFzNuOCLD/VTelT\n",
       "ZRUxt7ktbg1NFyb7BCZQ7sNMt5M1VJQqr7AgS3LrHwX8JYq/yPOU1yzfGUdQAOvlKBm5ABnlQNJ8\n",
       "F5+043vJTKElfSeORjrxOQ9qZCqrtl2ceeoRxEB/VMtML3ByS2eQX4mrlC0F/1AAADFgAAAA5gGe\n",
       "Y2pDfwAAAwBR0LP7EkdzHdFGJJGQhZg4b7ZFQg0ZSCdmFsC+ENVlcVLbgwudHB0+CQsUeB2yzGNJ\n",
       "svJaFOQ+5rC786vqBQm8bqGEsdzm4+Dh/bjkDcCNlUlC1oF4kSvZhR58awN/IddinA3/zPF48fV3\n",
       "HaHLtacf9KzDaUXd+QR3JqUKhXHcQR+PZ/uvnhsKAkUne4NcIwn/KvWhJk3PtEuTV7sHHBjLQ/v/\n",
       "7j4pqQEh22oLMVN7Y7TYcIFnCdqzfAX/V/AvP1PHit35JA0vlu6puanFe/vkiFZLS6OB0APGMJeB\n",
       "AAAELUGaaEmoQWyZTAgj//61KoAAAEQbcQCO61uY1Etyc6u7UzL1nRBWV7VVEuKqAJ3SP8pTGnOj\n",
       "vTrD+25Vna4z7uojPjevhUHfBt3Ed2S0+uEneHr31fSbUauHPyMNSZDXymELeA8QU4lIypy3taxt\n",
       "9R1vMxLIa+JtZ6gO7oMkezNe6Ct/zipYlIBwrH/BiWwPQade9HIajt3FeSwZ2NarnoZoItMUS0C5\n",
       "XTsq6zKeMffMEdmx7pC7kIHTuV7dtV6aTsgaAAEOZa514wS4TEesMsy15IA/vlEEJiEdhyE6c/UH\n",
       "0VIt3HJmHc63hzk2oUDHHinIW2ZPnJdcdi4ZGxoxxeiA7BOo/NVpKZIVaqiuFwJ7eJwBPkxrGjO3\n",
       "3eSEYOGNjPL5bVYruEyNtuqDFPKaXFuYeUJQ7xyOVEhI5VU3Y5jPbSGrQ/musiwWPeMwX2D7qlIa\n",
       "+BzDUjflo++uowG8ms2De13H4bkIGB02qq1SRqSaSI+fsZULKPzGR4pUa6pIVG5bsKUDNPEgGp2u\n",
       "oLURiNAydUJdhNOZBHybWWSb6fJbAxcqCFJZygEg50lGCHOI11Dv/3Egfrpx429YTT8eWAY5JrqJ\n",
       "5/jwX3s5o+kEweOUzkvuJJLoVYq0mJ2jLCNwJscIYBsWNOSujMFQBBM3JOqT/cRdmE283FGQmyAd\n",
       "2jKpWN4m8eA+uxd/qKnR8Ld00gUZm1ro4GZQcb8BWrwLISS5YdSsJYWTrQ6T1UWCDTqfC9XnzEBl\n",
       "/ENwifa3hYhdSBsP9ZGHUqZu602VKhQ6blLsoM4dXDy81TSQgKtfJpM2hawTFZHsJg2LUsVG8YwH\n",
       "O9uHcHmwVuuHGadxI9Y/BEWgfXoS/7agMeQnLGcIbuDS7JB+HPWGWrR2rvtymT5eE0AImWlif9os\n",
       "Ta70mIfS/QBvF2eYnIj9vK85k0UFEmy4rKLPDSmB6TNPsgagYnrJLnB188+n5YCl8pGitD0HFaRq\n",
       "BsmCdO4EIWKl9PRbWQMycHQ0GNV/Ga+N9oA/9Aqpzi1kYPAJVDg4giPV+su7bQ1uhzmtw3/cmUE/\n",
       "jVfnJf2ES37c3hQXkT1qANNBBju3ki0sO6ijSflm0V0rVJB70HYeUS9pjis89f2SR1ctIx0P9goR\n",
       "tmZPS/7enWQSanF+ZygrULZ6/u4cmxOJnbKpgNNLVu9fNB2EuD1R/NUBFJqDXbOcsOFSn9sOcF/t\n",
       "qIu2PSftAokul3YHoS/s6ZMLuSkhAH0WyGYO+B1T2V+2sdpkZhPq3MJqVx0/thTBGSizqQNcFGoI\n",
       "gF5PxCN88P72HwCz052L+dCJ2thUTEUsGGQGgeyeEq1PcXJOLtV686NExcNH2MOAX0NSVG3VtaSk\n",
       "laCkW/dhXZiE7S/3HEFFcCKOAS5OvskrLqmMh64Uhk051A7w21EIk8qWB4z6N4EAAAF0QZ6GRRUs\n",
       "O/8AAAMBCNGLKswn0AXjdmcxEOiCeEqczjYTlF5p9ZFtrDkgPkIZ3xbKA3g6pS5WEEt2WxWZKtt8\n",
       "gjJswz5yfSPbpZMbqYjAKDZa5a4ABMY4gX9E/QPj/KHTC6h/Bt3hLIcHj6QXLZAQqK/mNvp1pfel\n",
       "hw3JXzO05KgOOW2J01zRzT138ww4EOtKSf0e87WS8Llfwwxu4mC+M9z52VM+c/1YsrJJMWJilRfO\n",
       "jvlrIjAwaDzLP3JWDt1033FDVW0akWjkFm6JM8yne56gXwT6MAoL9iYeBxo/1C7hZ1NSHLML9oMh\n",
       "uYTYGg/qAQFg8T52e34oT6NRJKdB/ntJrrolHTb4E47+xlEZGapC0jaRVwbxQLhE1Trba0ra1H9m\n",
       "EUiQQkLd1Pxa3bXepNQuAYjGShr0lyQcY2T7j9uQa5D9YifGWgM2mhpX/gLW7NAFZib90K7O2SQY\n",
       "kt+LFFR0mOgzOf0xmmK/i/L5UAHqAKmBAAAAtQGepXRDfwAAAwFHiWGI+1E/vrK106se5abBkcww\n",
       "rRJADPCkbnje0y9NTYI4VQdN2VSILCDjd0i2E/RVA5eG/BQG9pltbOeLPD35Rpamr93pkfGmThUt\n",
       "ITNqBHPb+R8kHc30NC5SRy0DllIPj5+O8vchIhfo5W2QSBcDczD1HkJ3QJT6j3BnkTpZ2593s8CH\n",
       "eIcEMxvz8sa7G98chgz7opEar+DOMdHphTPFfYFbIDBfN4AAFTEAAAC6AZ6nakN/AAADAUMdvmzr\n",
       "IcbCIHvTC/TYiqc6YPQ4SgzPtc8dcBxENowG8507W/AC4fcJSylgPph3K5iQ7HjUytCuWNvJr4Zn\n",
       "jBSlhHV/uOadiyNNfTZ2In/BLy/qHeU0kwh/7oMBaz9GS76Mzv6WrZusBO/+mkxlTujR/RZ7dhTd\n",
       "oqtTJEZa2JW3RFGKmTx6P9Gw6Mx7/tdg0VqbVeyojrWqMxh1dKI4dDGkvUynYFRno+BGPTZJwAEX\n",
       "AAADTUGarEmoQWyZTAgh//6qVQAAAwIAfXKqJRNMVPa0C97OQ9xGBJpXRPFQlVosp43Mwfa4ytuO\n",
       "grbPftcV7URa083j4sVijvJBkBIh2/xOMmQpAjvLCWEhCey3d3crVfo/sW2CXpe60c+rr2fKHQle\n",
       "ESv7j4zC1yrkJvdq2lo15hF5PUEmOKz4lBSF2nJ/SIjyXiwKAj0RRcdYsvuycQb12egoo8YvffaI\n",
       "v8g29tDHVKx0bHV7ZmVarhQCp9aKHKXc6I03fKuVTqIpbRelpVrH67gE5OwpSgeGgK/+g1dv30ls\n",
       "McZuYbh4AP4jS4RbLXe02ZZs0qK5yJxewFRD8KmJBTbJj0zToVlIDAAJv0w32mTCnbMdmZWS99bp\n",
       "KDBILldp/RuykSyJsEMw9Hqv7d7hhLaWfR3fvPdqMiSWdquG9a5haMS6qitOBXYVP3m4zC9mzTmY\n",
       "YZ+sxLvqQ+1opQRPgL9FjqXfXE/hwdNjPAe6hfOhfjPee2fiN32RJTHPplNCJQUuJzy78sKFM78g\n",
       "h6tXQ78T1cJBogoEd3dT77bMCjH1z1vKBxwKPzgP4F9jtsgr1zmOzFJrhxV06ess5iF7TON+KOcO\n",
       "XHx6lrJySy97QETfl6tc4VHN3SSn8QFndF93eqH2Vr1atvRGcGPhIg7iUYDN70Ob57+Ff5/FnCrA\n",
       "zMBd0/DFMv1M1Cr7H6BJLeygyA02zrbHDNNJYIpFerL6etS+YKimvcT8762x1mpWT6TvabYNo5Qu\n",
       "glnc/c/APspSQrLsfK0VJ9UT/RqSn1tG+SI0ViTwg2RLtcDv/Lk4Kv1V78CnJBLuwUpYcj17tVh7\n",
       "PbLs/BdfkgoKytESkcMI2QdMOcINZSH0dBXMt/R4dgq48RfhM5i+7jSTVpps50tGA1d3rPAZWWBH\n",
       "M6pCjfuKRSCHUqSIHhoKYIOq3U85jfYskoIr4xpxR1TogAiVMG66QofYFH35P24jc/oywtXSWq1/\n",
       "PC+K+kc8l0beA3EKyQNZ6WQ85FJjawDk2Qz5Eh5o8qQOseIhXa8qCG3gLIloHo50M+lPavgSR/i6\n",
       "Zu1ZUHItqHRbVAK3QhdP4bnmgBech2J5Yl50z8LvXiAnkRGrwoBBNrklx+fxhaO0h1gwAAABSkGe\n",
       "ykUVLDv/AAADA9LUqoizyaMw4A5DnPmTp0NmCrHl/fbLDihCY314xAbm1AUTweL/JV77fvBLBbrI\n",
       "abSduZyInQ2GEx9fe8HOI/TfMONitd48ND08EaekqsOEC7aMIik7uOZ50iiVxbaP/aFrw5tujsV/\n",
       "famDmIr+ceRtthQxBav0lBpG3eiHD7bAZQ/YS9hGiSRV3cKUizzURvBBgWK8GsbPlnOzpvaG9SaL\n",
       "+gg2yB4x3KzTCqabyCgQd1SZVbdyiaSEkaOmbTKAjmay37X0GItKKBIydPbf6nNLwYInR+aloBgn\n",
       "BEoGWgj40rZH6W8E/ZnuioaDeKFBNjOTiRimD98WSj0ruS5bH9P8KztfgEmJlx/l7bdhwpHvUJuF\n",
       "4cH/zPSGo1v1Kg2mNsdU9AD3HOT4YZhz7DuOC8zYT1W8I6wl26M/IgApoQAAAPIBnul0Q38AAAMB\n",
       "fhybQMjeJvtJqyQKkAhMssUfW39Ckkr4zQtp0sUQT0iDSyZ/C8q8K5SI7jK3bEfXs59uoa1qagSp\n",
       "Z95x1fvsALPPGHFmzK8T9wsxupJUq/zAeCDn+DYOzQJaiSGBjiHAAozJIgyYYH4pf5+S1Y76SATg\n",
       "hhViNDIMWW0wKk753nWMBULR64vn9rnh8q0Ut/9KUVd3LUHarggjajPQPwS/3y+Nt16XwpcfE80f\n",
       "W5Ro5KgisRdmfMEGlc7pzWnRJK1/NFUziw5wFNhki7vso56anAvrKm/k4+PvPiAMLLAaX2dx0T1K\n",
       "AAAPaAAAANkBnutqQ38AAAMAZIukwvwEU8sFx1MLAJp+Sj+M6W60HvXbuGAkM6RaxQw+TD9+q6aT\n",
       "BN648NIKbTZRBDSND+yAZNK572PDJHVI5mBh1q/CWHkSRwVF1iuJgMrRn7nTVOl+/bb142n9Ay49\n",
       "we+6jW0QNncJVwqsc9lqJs26JlKodZv+LiwTRXtdj09jnaNhae6D4VkF7v2wejch03ORJomENy/y\n",
       "emx40MJUmPY+Epfrnz3PMG15/9765XvtejKUzsow+tunpE6ShUa5w6KFi+hMIT//tCYgABAwAAAC\n",
       "6kGa8EmoQWyZTAh3//6plgAACAGelVEWrNuyY2+NVoLKFV8WJdZ8tjI3ymYA5mwlJEt+7l2Tf+4Q\n",
       "Q8BIsTMqLY1sx3sjoYlUxMduoG8qBT5wJO2qFFdr4abo43vtDbb7WmjbCa4KNCaJkn3OcXI31Ywj\n",
       "CKna9TOKT5ejfDG4Wn98496bnUZD8lUpX0Kz8RKweDiOq+1xXyx5qm5QlVofHmyD5aYLqSIoHWVy\n",
       "Od+PQHSbpS5eL5R+9lBzehoblwQerHxE2cq6VUK3vTQPxihoWR09m9NIYZnPG4KbPVqyp6CMbVu2\n",
       "8b23zxjdcyV/bg3UK8SvRdZ23ZtTsXJIrwg+YaPtet+KuE6rWEctDN/H3ii3g8shs5c1ctEhXG5f\n",
       "f3vGi9auJmfo0igY3G0Sy9y04nWsHqXVMz7i+fLCTGOIp2JTCc8teNy+fJLVkjjoO3KTcLkfuhCv\n",
       "YcJAQW1ZUHVGn9StQk8RAeHMdDcTpeCpwp5OfkTtCrVNUxTPACSn6YiUgHvoAsHQmBpA3mc6cCs9\n",
       "Vv+QPgRC7zJT7+gNbZXI0qUGbTcV073l9dwcQbVEz1g6iyvUsoQino6vwJSPamHVlL60x8WFD9ps\n",
       "iCyovjItSJ0aX7gNZEVD4FVk9MJAzpgajon+qFVd3rFDzlHoSYRUSG5MPE0+EuQGHlcj/irhHrUR\n",
       "S3tM546tNtdewaOv7Dp+mV7MyohvtNeuDhWm36kVHJO7xy35WKmbzi1dDH8lpETTItwRfnQXvjvG\n",
       "XdZeAERh1aSrlx/oiZQJsjnJ/9XkrW8R1NjJxF6WfGRCONNUj0VhYc8X+W+vLDSY8P3CDKnitfAz\n",
       "M9FfEkAhPOaABZdu8BjiWxwx6lbyLOIesuTF49yGp0dI8bSIL/ZAiOxsxNaizOXZSBdIXHExyvHT\n",
       "0yBH5KqQF105PddHZOZRvPWyONi2prhT5rM/vRvoDJojfK89BQTKi/FocRId6CQrMgQymEdop4NK\n",
       "vNWEIiT7AAABqkGfDkUVLDv/AAAEA0YsqzJ8rMW6vgrbzokBlVx4sswC9baHbCP465GmUW28r7zw\n",
       "kY3RCow5buhj0PHyHx5QzdGTAy18zx/cNey70bIwQxX1esUHV/2bw9NJEUa4/fsuptgKYSlqD/cR\n",
       "w0LLppxjd7KbWp/jdy04VTD5N0eMce/VqtOUGom84AQr7/rc0G2Nh8kBPmmKLlEW3mAQd186yLdI\n",
       "Rg1abx/dLk72kHe7es/iJ8ZTnofwC1qFVIm9AV5cWt0HsBVjt1YHXycz8v0Vr/op1YJtTpHgZYji\n",
       "JYKp+XJGIg3vSCKL+3yWBZM+m6phvFDHtmRpiw8Z6Mjmfho1U6UGgPboMsqKqtUz2ZfM30yuXqya\n",
       "mx+cJuYdFRRnOIRDHhjXf1FnfgW8d9QUyLTLis2zOjK46vOTqDdgqTebxdujkoffQqkyD5LrmIxA\n",
       "faL5T6KNXlwHwmE2rvMKoSMRRsLwazp8Cjqv5mRjYbKV7btngEduYXUGoGYMYLvhvpvNSDxO/B9f\n",
       "2L8AWjfagKqXlstWc/7svPsQiWqawagcKKO0f7LnatACRljZgQAAAOwBny10Q38AAAMBiED4sjiN\n",
       "wDF9JZkNTGTD6/HBmtcZNzfaBfRTeug30IgH+ZEQA9lCt5dhZaG9bBIUTtIOxkT2d3BTM8sxw9Fo\n",
       "V/l/vQWLJKqtcO84uYixnev3eOcynnFHh99KCi9lOPlki8u4hn8LBoFOMOepf4vstgb3mds7XpCo\n",
       "j+3qDXH3Ef2BwAdz5zl0tfVO85PM613fOvlSNfHNxDuyGkkFzDCge9sOr/Yh/3NqdOce3Hp4uC9j\n",
       "4ed0x+twVOtRmubBd+lwl2taEQqQUCwgIEhdqoXbgwMPF0wr4GIXiqC2yyUQfQAEfQAAAMUBny9q\n",
       "Q38AAAMBiC8AWdnl6zbl4tv+nzqk6CsUi/wWelBRl3PYvUO8HfhShh6aGGALNR6vfgycKaBVYqR0\n",
       "bSod1g8MqqQkWK1DgLJ0ImH35ZLvAZ2ZugFt04CP0e9+7U4Y1cahkOUqD2vqTCtbNMnEs8/MqJX7\n",
       "3QZbV/EXKCh9eYY2mR7GXGm7JOrr1iOyD+FZVqv36LloxBJLUzso4QNrSqOO+oyHXywDcdnI7UWK\n",
       "qh3wMwLXwLXbhRK/HHt9g0qsoAAQcAAAATVBmzFJqEFsmUwIb//+p4QAABBSw4sjiNyQ1p/nGWOK\n",
       "U31bxGDOoCMCUUizkDk/kHueApXpcK/hSzS8UzKAvnL3fwm8qF4vcm72B6SmziXW1HwDVlDrGhFL\n",
       "IUh1qb73FUGoC090BQVyJDCjUApVNGXkTEIuNdS2FI1m2Zqxk+DdFBKgxyIhKHqQu1mS8PsNMgpX\n",
       "X+uNEiTrg4tDf8LdkF9iCIagBd09YfD97fX/KKB1TO1558HO7b35S6IaCcM0F09Un50iWwDRFReL\n",
       "ia83UzFf6WrxBLg/iuP2sGnHN2UGpiarfMD8vRhZZsFtLE6JM9nlUbzm3h+VA3fW/ts/rdfXLVdE\n",
       "iUuh62OMiUmkdNBMTC0kGIALKvBBHC3YqdL24H+BanRHgNBK+8Ab4pTZqFe/5qdey6AAAAWGbW9v\n",
       "dgAAAGxtdmhkAAAAAAAAAAAAAAAAAAAD6AAAE4gAAQAAAQAAAAAAAAAAAAAAAAEAAAAAAAAAAAAA\n",
       "AAAAAAABAAAAAAAAAAAAAAAAAABAAAAAAAAAAAAAAAAAAAAAAAAAAAAAAAAAAAAAAAAAAgAABLB0\n",
       "cmFrAAAAXHRraGQAAAADAAAAAAAAAAAAAAABAAAAAAAAE4gAAAAAAAAAAAAAAAAAAAAAAAEAAAAA\n",
       "AAAAAAAAAAAAAAABAAAAAAAAAAAAAAAAAABAAAAAA2AAAAJAAAAAAAAkZWR0cwAAABxlbHN0AAAA\n",
       "AAAAAAEAABOIAAAIAAABAAAAAAQobWRpYQAAACBtZGhkAAAAAAAAAAAAAAAAAAAoAAAAyABVxAAA\n",
       "AAAALWhkbHIAAAAAAAAAAHZpZGUAAAAAAAAAAAAAAABWaWRlb0hhbmRsZXIAAAAD021pbmYAAAAU\n",
       "dm1oZAAAAAEAAAAAAAAAAAAAACRkaW5mAAAAHGRyZWYAAAAAAAAAAQAAAAx1cmwgAAAAAQAAA5Nz\n",
       "dGJsAAAAs3N0c2QAAAAAAAAAAQAAAKNhdmMxAAAAAAAAAAEAAAAAAAAAAAAAAAAAAAAAA2ACQABI\n",
       "AAAASAAAAAAAAAABAAAAAAAAAAAAAAAAAAAAAAAAAAAAAAAAAAAAAAAAAAAAGP//AAAAMWF2Y0MB\n",
       "ZAAf/+EAGGdkAB+s2UDYEmhAAAADAEAAAAUDxgxlgAEABmjr48siwAAAABx1dWlka2hA8l8kT8W6\n",
       "OaUbzwMj8wAAAAAAAAAYc3R0cwAAAAAAAAABAAAAMgAABAAAAAAUc3RzcwAAAAAAAAABAAAAAQAA\n",
       "AaBjdHRzAAAAAAAAADIAAAABAAAIAAAAAAEAABQAAAAAAQAACAAAAAABAAAAAAAAAAEAAAQAAAAA\n",
       "AQAAFAAAAAABAAAIAAAAAAEAAAAAAAAAAQAABAAAAAABAAAUAAAAAAEAAAgAAAAAAQAAAAAAAAAB\n",
       "AAAEAAAAAAEAABQAAAAAAQAACAAAAAABAAAAAAAAAAEAAAQAAAAAAQAAFAAAAAABAAAIAAAAAAEA\n",
       "AAAAAAAAAQAABAAAAAABAAAUAAAAAAEAAAgAAAAAAQAAAAAAAAABAAAEAAAAAAEAABQAAAAAAQAA\n",
       "CAAAAAABAAAAAAAAAAEAAAQAAAAAAQAAFAAAAAABAAAIAAAAAAEAAAAAAAAAAQAABAAAAAABAAAU\n",
       "AAAAAAEAAAgAAAAAAQAAAAAAAAABAAAEAAAAAAEAABQAAAAAAQAACAAAAAABAAAAAAAAAAEAAAQA\n",
       "AAAAAQAAFAAAAAABAAAIAAAAAAEAAAAAAAAAAQAABAAAAAABAAAUAAAAAAEAAAgAAAAAAQAAAAAA\n",
       "AAABAAAEAAAAAAEAAAgAAAAAHHN0c2MAAAAAAAAAAQAAAAEAAAAyAAAAAQAAANxzdHN6AAAAAAAA\n",
       "AAAAAAAyAAASEAAABdAAAAKqAAACDAAAAGAAAAU5AAABDQAAAGoAAAB9AAAFZQAAAOEAAADIAAAA\n",
       "yAAABPEAAAFGAAAAyAAAAMoAAATxAAABLQAAANYAAADJAAAEvQAAAUoAAADDAAAAvAAAA/4AAAE7\n",
       "AAAAxgAAANMAAARYAAABoQAAAOIAAADPAAAD7wAAAVoAAAC+AAAA6gAABDEAAAF4AAAAuQAAAL4A\n",
       "AANRAAABTgAAAPYAAADdAAAC7gAAAa4AAADwAAAAyQAAATkAAAAUc3RjbwAAAAAAAAABAAAALAAA\n",
       "AGJ1ZHRhAAAAWm1ldGEAAAAAAAAAIWhkbHIAAAAAAAAAAG1kaXJhcHBsAAAAAAAAAAAAAAAALWls\n",
       "c3QAAAAlqXRvbwAAAB1kYXRhAAAAAQAAAABMYXZmNTcuMTEuMTAw\n",
       "\">\n",
       "  Your browser does not support the video tag.\n",
       "</video>"
      ],
      "text/plain": [
       "<matplotlib.animation.FuncAnimation at 0x6c02225e10>"
      ]
     },
     "execution_count": 10,
     "metadata": {},
     "output_type": "execute_result"
    }
   ],
   "source": [
    "fig = plt.figure(figsize=(12, 8))\n",
    "\n",
    "use_3d = False\n",
    "\n",
    "if (use_3d):\n",
    "    ax = fig.add_subplot(111, projection='3d') ###\n",
    "    X, Y = np.linspace(0, nx*dx, nx), np.linspace(0, ny*dy, ny)\n",
    "    X, Y = np.meshgrid(X, Y)\n",
    "    surf = ax.plot_surface(X, Y, u0, cmap=cm.coolwarm, linewidth=0, antialiased=True, vmin=-5, vmax=5)\n",
    "    ax.set_zlim(-5, 10)\n",
    "else:\n",
    "    domain_extent = [0, nx*dx, 0, ny*dy]\n",
    "    im = plt.imshow(u0, origin='bottom', interpolation='none', vmin=-5, vmax=5, extent=domain_extent)\n",
    "    plt.colorbar()\n",
    "\n",
    "def animate(i):\n",
    "    print(\".\", end='', flush=True)\n",
    "    if (i > 0):\n",
    "        for k in range(10):\n",
    "            simulator.step()\n",
    "    \n",
    "    u1 = simulator.download()\n",
    "    \n",
    "    if (use_3d):\n",
    "        ax.clear()\n",
    "        surf = ax.plot_surface(X, Y, u1, cmap=cm.coolwarm, linewidth=0, antialiased=True, vmin=-5, vmax=5)\n",
    "        ax.set_zlim(-5, 10)\n",
    "    else:\n",
    "        im.set_data(u1)\n",
    "    \n",
    "    \n",
    "\n",
    "plt.rcParams[\"animation.html\"] = \"html5\"\n",
    "anim = animation.FuncAnimation(fig, animate, range(50), interval=100)\n",
    "plt.close()\n",
    "anim"
   ]
  },
  {
   "cell_type": "code",
   "execution_count": null,
   "metadata": {},
   "outputs": [],
   "source": []
  }
 ],
 "metadata": {
  "kernelspec": {
   "display_name": "Python 3",
   "language": "python",
   "name": "python3"
  },
  "language_info": {
   "codemirror_mode": {
    "name": "ipython",
    "version": 3
   },
   "file_extension": ".py",
   "mimetype": "text/x-python",
   "name": "python",
   "nbconvert_exporter": "python",
   "pygments_lexer": "ipython3",
   "version": "3.6.5"
  }
 },
 "nbformat": 4,
 "nbformat_minor": 2
}
