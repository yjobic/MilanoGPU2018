{
 "cells": [
  {
   "cell_type": "markdown",
   "metadata": {},
   "source": [
    "# License\n",
    "    IPython notebook for simulating the linear wave equation with CUDA\n",
    "    Copyright (C) 2015, 2018 Andre.Brodtkorb@ifi.uio.no\n",
    "\n",
    "    This program is free software: you can redistribute it and/or modify\n",
    "    it under the terms of the GNU General Public License as published by\n",
    "    the Free Software Foundation, either version 3 of the License, or\n",
    "    (at your option) any later version.\n",
    "\n",
    "    This program is distributed in the hope that it will be useful,\n",
    "    but WITHOUT ANY WARRANTY; without even the implied warranty of\n",
    "    MERCHANTABILITY or FITNESS FOR A PARTICULAR PURPOSE.  See the\n",
    "    GNU General Public License for more details.\n",
    "\n",
    "    You should have received a copy of the GNU General Public License\n",
    "    along with this program.  If not, see <http://www.gnu.org/licenses/>."
   ]
  },
  {
   "cell_type": "code",
   "execution_count": 1,
   "metadata": {},
   "outputs": [],
   "source": [
    "%matplotlib inline \n",
    "\n",
    "#Import packages we need\n",
    "import numpy as np\n",
    "from matplotlib import animation, rc, cm\n",
    "from matplotlib import pyplot as plt\n",
    "\n",
    "import pycuda.compiler as cuda_compiler\n",
    "import pycuda.driver as cuda_driver\n",
    "from pycuda.gpuarray import GPUArray\n",
    "\n",
    "import IPythonMagic\n",
    "from Timer import Timer"
   ]
  },
  {
   "cell_type": "code",
   "execution_count": 2,
   "metadata": {},
   "outputs": [
    {
     "name": "stderr",
     "output_type": "stream",
     "text": [
      "Python version 3.6.6 | packaged by conda-forge | (default, Jul 26 2018, 09:53:17) \n",
      "[GCC 4.8.2 20140120 (Red Hat 4.8.2-15)]\n",
      "Registering context in user workspace\n",
      "Creating context\n",
      "PyCUDA version 2018.1.1\n",
      "CUDA version (8, 0, 0)\n",
      "Driver version 9010\n",
      "Using 'Quadro K2000' GPU\n",
      " => compute capability: (3, 0)\n",
      " => memory: 1892 / 1999 MB available\n",
      "Created context handle <51763216>\n",
      "Using CUDA cache dir /home/jobic/test/cuda/milan2018/MilanoGPU2018/notebooks/cuda_cache\n"
     ]
    }
   ],
   "source": [
    "%setup_logging\n",
    "%cuda_context_handler context"
   ]
  },
  {
   "cell_type": "markdown",
   "metadata": {},
   "source": [
    "# Heat equation in 2D\n",
    "The heat equation can be written\n",
    "$$\n",
    "\\begin{align}\n",
    "\\frac{\\partial u}{\\partial t} &= \\kappa \\nabla^2 u\\\\\n",
    "&=\\kappa \\left[ \\frac{\\partial^2 u}{\\partial x^2} +  \\frac{\\partial^2 u}{\\partial y^2} \\right]\n",
    "\\end{align}\n",
    "$$\n",
    "where $u$ is the temperature, and $\\kappa$ is the material specific heat conduction constant. \n",
    "\n",
    "By approximating the temporal derivative with a backward difference, and the spatial derivative with a central difference, we get\n",
    "$$\n",
    "\\frac{1}{\\Delta t} (u_{i, j}^{n+1} - u_{i, j}^{n}) \n",
    "= \\kappa \\left [\n",
    "\\frac{1}{\\Delta x^2}(u_{i-1, j}^n - 2u_{i, j}^n + u_{i+1, j}^n)\n",
    "+ \\frac{1}{\\Delta y^2}(u_{i, j-1}^n - 2u_{i, j}^n + u_{i, j+1}^n)\n",
    "\\right]\n",
    "$$\n",
    "and gathering $u^n+1$ on the left hand side and $u^n$on the right, we write\n",
    "$$\n",
    "u^{n+1}_{i,j} = u_{i,j}^n \n",
    "+ \\frac{\\kappa\\Delta t}{\\Delta x^2}(u_{i-1, j}^n - 2u_{i, j}^n + u_{i+1, j}^n)\n",
    "+ \\frac{\\kappa\\Delta t}{\\Delta y^2}(u_{i, j-1}^n - 2u_{i, j}^n + u_{i, j+1}^n)\n",
    "$$\n",
    "This discretization is unstable if the following CFL condition is not met\n",
    "$$\n",
    "\\frac{1}{2} \\gt \\frac{\\kappa\\Delta t}{\\Delta x^2}, \\qquad\n",
    "\\frac{1}{2} \\gt \\frac{\\kappa\\Delta t}{\\Delta y^2}\n",
    "$$\n",
    "or \n",
    "$$\n",
    "\\Delta t \\lt \\text{min}\\left(\\frac{\\Delta x^2}{2\\kappa}, \\frac{\\Delta y^2}{2\\kappa}\\right)\n",
    "$$# Linear Wave Equation in 2D\n",
    "The acoustic wave equation in 2D can be written\n",
    "$$\n",
    "\\begin{align}\n",
    "\\frac{\\partial^2 u}{\\partial t^2} &= c^2 \\nabla^2 u\\\\\n",
    "&= c^2 \\left[ \\frac{\\partial^2 u}{\\partial x^2} +  \\frac{\\partial^2 u}{\\partial y^2} \\right]\n",
    "\\end{align}\n",
    "$$\n",
    "where $u$ is the string position, and c is a material specific constant. \n",
    "\n",
    "By approximating the temporal derivative with a backward difference, and the spatial derivative with a central difference, we get\n",
    "$$\n",
    "\\frac{1}{\\Delta t^2} (u_{i, j}^{n+1} - 2u_{i, j}^{n} + u_{i, j}^{n-1}) \n",
    "= c \\left [\n",
    "\\frac{1}{\\Delta x^2}(u_{i-1, j}^n - 2u_{i, j}^n + u_{i+1, j}^n)\n",
    "+ \\frac{1}{\\Delta y^2}(u_{i, j-1}^n - 2u_{i, j}^n + u_{i, j+1}^n)\n",
    "\\right]\n",
    "$$\n",
    "and gathering $u^n+1$ on the left hand side and $u^n$on the right, we write\n",
    "$$\n",
    "u^{n+1}_{i,j} = 2u_{i,j}^n - u_{i, j}^{n-1}\n",
    "+ \\frac{\\kappa\\Delta t^2}{\\Delta x^2}(u_{i-1, j}^n - 2u_{i, j}^n + u_{i+1, j}^n)\n",
    "+ \\frac{\\kappa\\Delta t^2}{\\Delta y^2}(u_{i, j-1}^n - 2u_{i, j}^n + u_{i, j+1}^n)\n",
    "$$\n",
    "This discretization is unstable if the following CFL condition is not met\n",
    "$$\n",
    "\\frac{1}{2} \\gt \\frac{\\kappa\\Delta t}{\\Delta x^2}, \\qquad\n",
    "\\frac{1}{2} \\gt \\frac{\\kappa\\Delta t}{\\Delta y^2}\n",
    "$$\n",
    "or \n",
    "$$\n",
    "\\Delta t \\lt \\text{min}\\left(\\frac{\\Delta x^2}{2\\kappa}, \\frac{\\Delta y^2}{2\\kappa}\\right)\n",
    "$$"
   ]
  },
  {
   "cell_type": "code",
   "execution_count": 17,
   "metadata": {},
   "outputs": [
    {
     "name": "stderr",
     "output_type": "stream",
     "text": [
      "Initialization: 6.766558 ms\n"
      "kernel.cu\n",
      "\n",
      "Initialization: 1844.514132 ms\n"
     ]
    }
   ],
   "source": [
    "class HeatEquationGPU(object):\n",
    "    def __init__(self):\n",
    "        pass\n",
    "        \n",
    "    def initialize(self, u0, kappa, dx, dy, dt, block_width=8, block_height=8):\n",
    "        self.kappa = np.float32(kappa)\n",
    "        self.dx = np.float32(dx)\n",
    "        self.dy = np.float32(dy)\n",
    "        self.dt = np.float32(dt)\n",
    "        self.nx = np.int32(u0.shape[1]-2)\n",
    "        self.ny = np.int32(u0.shape[0]-2)\n",
    "        \n",
    "        self.block_size = (block_width, block_height, 1)\n",
    "        self.grid_size = (int(np.ceil(self.nx / block_width)), int(np.ceil(self.ny / block_height)), 1)\n",
    "        self.stream = cuda_driver.Stream()\n",
    "        \n",
    "        self.u1_g = GPUArray(u0.shape, u0.dtype)\n",
    "        self.u0_g = GPUArray(u0.shape, u0.dtype)\n",
    "        \n",
    "        self.u0_g.set_async(u0, stream=self.stream)\n",
    "        \n",
    "        \n",
    "        cuda_kernel = \\\n",
    "        \"\"\"\n",
    "        #define BLOCK_WIDTH {:d}\n",
    "        #define BLOCK_HEIGHT {:d}\n",
    "        \"\"\".format(block_width, block_height) \\\n",
    "        + \\\n",
    "        \"\"\"\n",
    "        __global__ void heatEqn(float* u1, const float* u0, float kappa, float dx, float dy, float dt, int nx, int ny) {\n",
    "            //Plus one to skip the \"ghost cells\"\n",
    "            int i = blockIdx.x*blockDim.x + threadIdx.x + 1;\n",
    "            int j = blockIdx.y*blockDim.y + threadIdx.y + 1;\n",
    "            int tx = threadIdx.x + 1;\n",
    "            int ty = threadIdx.y + 1;\n",
    "\n",
    "            //First read into shared memory, including the local ghost cells / apron\n",
    "            __shared__ float u0_shared[BLOCK_HEIGHT+2][BLOCK_WIDTH+2];\n",
    "            for (int l=threadIdx.y; l<BLOCK_HEIGHT+2; l += blockDim.y) {\n",
    "                int t = min(blockIdx.y*blockDim.y + l, ny);\n",
    "                for (int k=threadIdx.x; k<BLOCK_WIDTH+2; k += blockDim.x) {\n",
    "                    int s = min(blockIdx.x*blockDim.x + k, nx);\n",
    "                    u0_shared[l][k] = u0[t*(nx+2) + s];\n",
    "                }\n",
    "            }\n",
    "            __syncthreads();\n",
    "\n",
    "            //Then fix the boundary conditions\n",
    "            if (i == 1) {\n",
    "                u0_shared[ty][tx-1] = u0_shared[ty][tx];\n",
    "            }\n",
    "            else if (i == nx) {\n",
    "                u0_shared[ty][tx+1] = u0_shared[ty][tx];\n",
    "            }\n",
    "            else if (j == 1) {\n",
    "                u0_shared[ty-1][tx] = u0_shared[ty][tx];\n",
    "            }\n",
    "            else if (j == ny) {\n",
    "                u0_shared[ty+1][tx] = u0_shared[ty][tx];\n",
    "            }\n",
    "            __syncthreads();\n",
    "\n",
    "            if (i >= 1 && i <= nx && j >= 1 && j <= ny) {\n",
    "                u1[j*(nx+2) + i] = u0_shared[ty][tx]\n",
    "                    + kappa*dt/(dx*dx) * (u0_shared[ty][tx-1] - 2.0f*u0_shared[ty][tx] + u0_shared[ty][tx+1])\n",
    "                    + kappa*dt/(dy*dy) * (u0_shared[ty-1][tx] - 2.0f*u0_shared[ty][tx] + u0_shared[ty+1][tx]);\n",
    "            }\n",
    "        }\n",
    "        \"\"\"\n",
    "        self.module = cuda_compiler.SourceModule(cuda_kernel, \\\n",
    "                                            options=['--use_fast_math'])\n",
    "        self.heat_eqn_kernel = self.module.get_function(\"heatEqn\");\n",
    "        #float* u1, const float* u0, float kappa, float dx, float dy, float dt, int nx, int ny\n",
    "        self.heat_eqn_kernel.prepare(\"PPffffii\")\n",
    "        \n",
    "        \n",
    "        \n",
    "    def step(self):\n",
    "        self.heat_eqn_kernel.prepared_async_call(self.grid_size, self.block_size, self.stream, \\\n",
    "                                                    self.u1_g.gpudata, self.u0_g.gpudata, \\\n",
    "                                                    self.kappa, self.dx, self.dy, self.dt, self.nx, self.ny)\n",
    "        self.u0_g, self.u1_g = self.u1_g, self.u0_g\n",
    "    \n",
    "    \n",
    "    def download(self):\n",
    "        #self.u2 = cuda_driver.pagelocked_empty(u1.shape, u1.dtype)\n",
    "        u0 = np.empty(self.u0_g.shape, self.u0_g.dtype)\n",
    "        self.u0_g.get(u0)\n",
    "        return u0\n",
    "        \n",
    "        \n",
    "        \n",
    "        \n",
    "        \n",
    "#Create test input data\n",
    "kappa = 1.0\n",
    "nx, ny = 100, 50\n",
    "dx = 1.0\n",
    "dy = 2.0\n",
    "dt = 0.4*min(dx**2 / (2.0*kappa), dy**2 / (2.0*kappa))\n",
    "\n",
    "u0 = np.zeros((ny, nx), dtype=np.float32)\n",
    "for j in range(ny):\n",
    "    for i in range(nx):\n",
    "        x = (i - nx/2.0) * dx\n",
    "        y = (j - ny/2.0) * dy\n",
    "        if (np.sqrt(x**2 + y**2) < 10*min(dx, dy)):\n",
    "            u0[j, i] = 10.0\n",
    "\n",
    "with Timer(\"Initialization\") as t:\n",
    "    simulator = HeatEquationGPU()\n",
    "    simulator.initialize(u0, kappa, dx, dy, dt)"
   ]
  },
  {
   "cell_type": "code",
   "execution_count": 18,
   "metadata": {},
   "outputs": [
    {
     "name": "stderr",
     "output_type": "stream",
     "text": [
      "locator: <matplotlib.colorbar._ColorbarAutoLocator object at 0x7ffb255d56d8>\n",
      "Using auto colorbar locator on colorbar\n",
      "locator: <matplotlib.colorbar._ColorbarAutoLocator object at 0x7ffb255d56d8>\n",
      "Setting pcolormesh\n",
      "Animation.save using <class 'matplotlib.animation.FFMpegWriter'>\n",
      "frame size in pixels is 864 x 576\n",
      "MovieWriter.run: running command: ['ffmpeg', '-f', 'rawvideo', '-vcodec', 'rawvideo', '-s', '864x576', '-pix_fmt', 'rgba', '-r', '10.0', '-i', 'pipe:', '-vcodec', 'h264', '-pix_fmt', 'yuv420p', '-y', '/tmp/tmpejyvuns7/temp.m4v']\n"
     ]
    },
    {
     "name": "stdout",
     "output_type": "stream",
     "text": [
      ".."
     ]
    },
    {
     "name": "stderr",
     "output_type": "stream",
     "text": [
      "update_title_pos\n",
      "update_title_pos\n",
      "MovieWriter.grab_frame: Grabbing frame.\n",
      "update_title_pos\n",
      "update_title_pos\n"
     ]
    },
    {
     "name": "stdout",
     "output_type": "stream",
     "text": [
      "."
     ]
    },
    {
     "name": "stderr",
     "output_type": "stream",
     "text": [
      "update_title_pos\n",
      "update_title_pos\n",
      "MovieWriter.grab_frame: Grabbing frame.\n",
      "update_title_pos\n",
      "update_title_pos\n"
     ]
    },
    {
     "name": "stdout",
     "output_type": "stream",
     "text": [
      "."
     ]
    },
    {
     "name": "stderr",
     "output_type": "stream",
     "text": [
      "update_title_pos\n",
      "update_title_pos\n",
      "MovieWriter.grab_frame: Grabbing frame.\n",
      "update_title_pos\n",
      "update_title_pos\n"
     ]
    },
    {
     "name": "stdout",
     "output_type": "stream",
     "text": [
      "."
     ]
    },
    {
     "name": "stderr",
     "output_type": "stream",
     "text": [
      "update_title_pos\n",
      "update_title_pos\n",
      "MovieWriter.grab_frame: Grabbing frame.\n",
      "update_title_pos\n",
      "update_title_pos\n"
     ]
    },
    {
     "name": "stdout",
     "output_type": "stream",
     "text": [
      "."
     ]
    },
    {
     "name": "stderr",
     "output_type": "stream",
     "text": [
      "update_title_pos\n",
      "update_title_pos\n",
      "MovieWriter.grab_frame: Grabbing frame.\n",
      "update_title_pos\n",
      "update_title_pos\n"
     ]
    },
    {
     "name": "stdout",
     "output_type": "stream",
     "text": [
      "."
     ]
    },
    {
     "name": "stderr",
     "output_type": "stream",
     "text": [
      "update_title_pos\n",
      "update_title_pos\n",
      "MovieWriter.grab_frame: Grabbing frame.\n",
      "update_title_pos\n",
      "update_title_pos\n"
     ]
    },
    {
     "name": "stdout",
     "output_type": "stream",
     "text": [
      "."
     ]
    },
    {
     "name": "stderr",
     "output_type": "stream",
     "text": [
      "update_title_pos\n",
      "update_title_pos\n",
      "MovieWriter.grab_frame: Grabbing frame.\n",
      "update_title_pos\n",
      "update_title_pos\n"
     ]
    },
    {
     "name": "stdout",
     "output_type": "stream",
     "text": [
      "."
     ]
    },
    {
     "name": "stderr",
     "output_type": "stream",
     "text": [
      "update_title_pos\n",
      "update_title_pos\n",
      "MovieWriter.grab_frame: Grabbing frame.\n",
      "update_title_pos\n",
      "update_title_pos\n"
     ]
    },
    {
     "name": "stdout",
     "output_type": "stream",
     "text": [
      "."
     ]
    },
    {
     "name": "stderr",
     "output_type": "stream",
     "text": [
      "update_title_pos\n",
      "update_title_pos\n",
      "MovieWriter.grab_frame: Grabbing frame.\n",
      "update_title_pos\n",
      "update_title_pos\n"
     ]
    },
    {
     "name": "stdout",
     "output_type": "stream",
     "text": [
      "."
     ]
    },
    {
     "name": "stderr",
     "output_type": "stream",
     "text": [
      "update_title_pos\n",
      "update_title_pos\n",
      "MovieWriter.grab_frame: Grabbing frame.\n",
      "update_title_pos\n",
      "update_title_pos\n"
     ]
    },
    {
     "name": "stdout",
     "output_type": "stream",
     "text": [
      "."
     ]
    },
    {
     "name": "stderr",
     "output_type": "stream",
     "text": [
      "update_title_pos\n",
      "update_title_pos\n",
      "MovieWriter.grab_frame: Grabbing frame.\n",
      "update_title_pos\n",
      "update_title_pos\n"
     ]
    },
    {
     "name": "stdout",
     "output_type": "stream",
     "text": [
      "."
     ]
    },
    {
     "name": "stderr",
     "output_type": "stream",
     "text": [
      "update_title_pos\n",
      "update_title_pos\n",
      "MovieWriter.grab_frame: Grabbing frame.\n",
      "update_title_pos\n",
      "update_title_pos\n"
     ]
    },
    {
     "name": "stdout",
     "output_type": "stream",
     "text": [
      "."
     ]
    },
    {
     "name": "stderr",
     "output_type": "stream",
     "text": [
      "update_title_pos\n",
      "update_title_pos\n",
      "MovieWriter.grab_frame: Grabbing frame.\n",
      "update_title_pos\n",
      "update_title_pos\n"
     ]
    },
    {
     "name": "stdout",
     "output_type": "stream",
     "text": [
      "."
     ]
    },
    {
     "name": "stderr",
     "output_type": "stream",
     "text": [
      "update_title_pos\n",
      "update_title_pos\n",
      "MovieWriter.grab_frame: Grabbing frame.\n",
      "update_title_pos\n",
      "update_title_pos\n"
     ]
    },
    {
     "name": "stdout",
     "output_type": "stream",
     "text": [
      "."
     ]
    },
    {
     "name": "stderr",
     "output_type": "stream",
     "text": [
      "update_title_pos\n",
      "update_title_pos\n",
      "MovieWriter.grab_frame: Grabbing frame.\n",
      "update_title_pos\n",
      "update_title_pos\n"
     ]
    },
    {
     "name": "stdout",
     "output_type": "stream",
     "text": [
      "."
     ]
    },
    {
     "name": "stderr",
     "output_type": "stream",
     "text": [
      "update_title_pos\n",
      "update_title_pos\n",
      "MovieWriter.grab_frame: Grabbing frame.\n",
      "update_title_pos\n",
      "update_title_pos\n"
     ]
    },
    {
     "name": "stdout",
     "output_type": "stream",
     "text": [
      "."
     ]
    },
    {
     "name": "stderr",
     "output_type": "stream",
     "text": [
      "update_title_pos\n",
      "update_title_pos\n",
      "MovieWriter.grab_frame: Grabbing frame.\n",
      "update_title_pos\n",
      "update_title_pos\n"
     ]
    },
    {
     "name": "stdout",
     "output_type": "stream",
     "text": [
      "."
     ]
    },
    {
     "name": "stderr",
     "output_type": "stream",
     "text": [
      "update_title_pos\n",
      "update_title_pos\n",
      "MovieWriter.grab_frame: Grabbing frame.\n",
      "update_title_pos\n",
      "update_title_pos\n"
     ]
    },
    {
     "name": "stdout",
     "output_type": "stream",
     "text": [
      "."
     ]
    },
    {
     "name": "stderr",
     "output_type": "stream",
     "text": [
      "update_title_pos\n",
      "update_title_pos\n",
      "MovieWriter.grab_frame: Grabbing frame.\n",
      "update_title_pos\n",
      "update_title_pos\n"
     ]
    },
    {
     "name": "stdout",
     "output_type": "stream",
     "text": [
      "."
     ]
    },
    {
     "name": "stderr",
     "output_type": "stream",
     "text": [
      "update_title_pos\n",
      "update_title_pos\n",
      "MovieWriter.grab_frame: Grabbing frame.\n",
      "update_title_pos\n",
      "update_title_pos\n"
     ]
    },
    {
     "name": "stdout",
     "output_type": "stream",
     "text": [
      "."
     ]
    },
    {
     "name": "stderr",
     "output_type": "stream",
     "text": [
      "update_title_pos\n",
      "update_title_pos\n",
      "MovieWriter.grab_frame: Grabbing frame.\n",
      "update_title_pos\n",
      "update_title_pos\n"
     ]
    },
    {
     "name": "stdout",
     "output_type": "stream",
     "text": [
      "."
     ]
    },
    {
     "name": "stderr",
     "output_type": "stream",
     "text": [
      "update_title_pos\n",
      "update_title_pos\n",
      "MovieWriter.grab_frame: Grabbing frame.\n",
      "update_title_pos\n",
      "update_title_pos\n"
     ]
    },
    {
     "name": "stdout",
     "output_type": "stream",
     "text": [
      "."
     ]
    },
    {
     "name": "stderr",
     "output_type": "stream",
     "text": [
      "update_title_pos\n",
      "update_title_pos\n",
      "MovieWriter.grab_frame: Grabbing frame.\n",
      "update_title_pos\n",
      "update_title_pos\n"
     ]
    },
    {
     "name": "stdout",
     "output_type": "stream",
     "text": [
      "."
     ]
    },
    {
     "name": "stderr",
     "output_type": "stream",
     "text": [
      "update_title_pos\n",
      "update_title_pos\n",
      "MovieWriter.grab_frame: Grabbing frame.\n",
      "update_title_pos\n",
      "update_title_pos\n"
     ]
    },
    {
     "name": "stdout",
     "output_type": "stream",
     "text": [
      "."
     ]
    },
    {
     "name": "stderr",
     "output_type": "stream",
     "text": [
      "update_title_pos\n",
      "update_title_pos\n",
      "MovieWriter.grab_frame: Grabbing frame.\n",
      "update_title_pos\n",
      "update_title_pos\n"
     ]
    },
    {
     "name": "stdout",
     "output_type": "stream",
     "text": [
      "."
     ]
    },
    {
     "name": "stderr",
     "output_type": "stream",
     "text": [
      "update_title_pos\n",
      "update_title_pos\n",
      "MovieWriter.grab_frame: Grabbing frame.\n",
      "update_title_pos\n",
      "update_title_pos\n"
     ]
    },
    {
     "name": "stdout",
     "output_type": "stream",
     "text": [
      "."
     ]
    },
    {
     "name": "stderr",
     "output_type": "stream",
     "text": [
      "update_title_pos\n",
      "update_title_pos\n",
      "MovieWriter.grab_frame: Grabbing frame.\n",
      "update_title_pos\n",
      "update_title_pos\n"
     ]
    },
    {
     "name": "stdout",
     "output_type": "stream",
     "text": [
      "."
     ]
    },
    {
     "name": "stderr",
     "output_type": "stream",
     "text": [
      "update_title_pos\n",
      "update_title_pos\n",
      "MovieWriter.grab_frame: Grabbing frame.\n",
      "update_title_pos\n",
      "update_title_pos\n"
     ]
    },
    {
     "name": "stdout",
     "output_type": "stream",
     "text": [
      "."
     ]
    },
    {
     "name": "stderr",
     "output_type": "stream",
     "text": [
      "update_title_pos\n",
      "update_title_pos\n",
      "MovieWriter.grab_frame: Grabbing frame.\n",
      "update_title_pos\n",
      "update_title_pos\n"
     ]
    },
    {
     "name": "stdout",
     "output_type": "stream",
     "text": [
      "."
     ]
    },
    {
     "name": "stderr",
     "output_type": "stream",
     "text": [
      "update_title_pos\n",
      "update_title_pos\n",
      "MovieWriter.grab_frame: Grabbing frame.\n",
      "update_title_pos\n",
      "update_title_pos\n"
     ]
    },
    {
     "name": "stdout",
     "output_type": "stream",
     "text": [
      "."
     ]
    },
    {
     "name": "stderr",
     "output_type": "stream",
     "text": [
      "update_title_pos\n",
      "update_title_pos\n",
      "MovieWriter.grab_frame: Grabbing frame.\n",
      "update_title_pos\n",
      "update_title_pos\n"
     ]
    },
    {
     "name": "stdout",
     "output_type": "stream",
     "text": [
      "."
     ]
    },
    {
     "name": "stderr",
     "output_type": "stream",
     "text": [
      "update_title_pos\n",
      "update_title_pos\n",
      "MovieWriter.grab_frame: Grabbing frame.\n",
      "update_title_pos\n",
      "update_title_pos\n"
     ]
    },
    {
     "name": "stdout",
     "output_type": "stream",
     "text": [
      "."
     ]
    },
    {
     "name": "stderr",
     "output_type": "stream",
     "text": [
      "update_title_pos\n",
      "update_title_pos\n",
      "MovieWriter.grab_frame: Grabbing frame.\n",
      "update_title_pos\n",
      "update_title_pos\n"
     ]
    },
    {
     "name": "stdout",
     "output_type": "stream",
     "text": [
      "."
     ]
    },
    {
     "name": "stderr",
     "output_type": "stream",
     "text": [
      "update_title_pos\n",
      "update_title_pos\n",
      "MovieWriter.grab_frame: Grabbing frame.\n",
      "update_title_pos\n",
      "update_title_pos\n"
     ]
    },
    {
     "name": "stdout",
     "output_type": "stream",
     "text": [
      "."
     ]
    },
    {
     "name": "stderr",
     "output_type": "stream",
     "text": [
      "update_title_pos\n",
      "update_title_pos\n",
      "MovieWriter.grab_frame: Grabbing frame.\n",
      "update_title_pos\n",
      "update_title_pos\n"
     ]
    },
    {
     "name": "stdout",
     "output_type": "stream",
     "text": [
      "."
     ]
    },
    {
     "name": "stderr",
     "output_type": "stream",
     "text": [
      "update_title_pos\n",
      "update_title_pos\n",
      "MovieWriter.grab_frame: Grabbing frame.\n",
      "update_title_pos\n",
      "update_title_pos\n"
     ]
    },
    {
     "name": "stdout",
     "output_type": "stream",
     "text": [
      "."
     ]
    },
    {
     "name": "stderr",
     "output_type": "stream",
     "text": [
      "update_title_pos\n",
      "update_title_pos\n",
      "MovieWriter.grab_frame: Grabbing frame.\n",
      "update_title_pos\n",
      "update_title_pos\n"
     ]
    },
    {
     "name": "stdout",
     "output_type": "stream",
     "text": [
      "."
     ]
    },
    {
     "name": "stderr",
     "output_type": "stream",
     "text": [
      "update_title_pos\n",
      "update_title_pos\n",
      "MovieWriter.grab_frame: Grabbing frame.\n",
      "update_title_pos\n",
      "update_title_pos\n"
     ]
    },
    {
     "name": "stdout",
     "output_type": "stream",
     "text": [
      "."
     ]
    },
    {
     "name": "stderr",
     "output_type": "stream",
     "text": [
      "update_title_pos\n",
      "update_title_pos\n",
      "MovieWriter.grab_frame: Grabbing frame.\n",
      "update_title_pos\n",
      "update_title_pos\n"
     ]
    },
    {
     "name": "stdout",
     "output_type": "stream",
     "text": [
      "."
     ]
    },
    {
     "name": "stderr",
     "output_type": "stream",
     "text": [
      "update_title_pos\n",
      "update_title_pos\n",
      "MovieWriter.grab_frame: Grabbing frame.\n",
      "update_title_pos\n",
      "update_title_pos\n"
     ]
    },
    {
     "name": "stdout",
     "output_type": "stream",
     "text": [
      "."
     ]
    },
    {
     "name": "stderr",
     "output_type": "stream",
     "text": [
      "update_title_pos\n",
      "update_title_pos\n",
      "MovieWriter.grab_frame: Grabbing frame.\n",
      "update_title_pos\n",
      "update_title_pos\n"
     ]
    },
    {
     "name": "stdout",
     "output_type": "stream",
     "text": [
      "."
     ]
    },
    {
     "name": "stderr",
     "output_type": "stream",
     "text": [
      "update_title_pos\n",
      "update_title_pos\n",
      "MovieWriter.grab_frame: Grabbing frame.\n",
      "update_title_pos\n",
      "update_title_pos\n"
     ]
    },
    {
     "name": "stdout",
     "output_type": "stream",
     "text": [
      "."
     ]
    },
    {
     "name": "stderr",
     "output_type": "stream",
     "text": [
      "update_title_pos\n",
      "update_title_pos\n",
      "MovieWriter.grab_frame: Grabbing frame.\n",
      "update_title_pos\n",
      "update_title_pos\n"
     ]
    },
    {
     "name": "stdout",
     "output_type": "stream",
     "text": [
      "."
     ]
    },
    {
     "name": "stderr",
     "output_type": "stream",
     "text": [
      "update_title_pos\n",
      "update_title_pos\n",
      "MovieWriter.grab_frame: Grabbing frame.\n",
      "update_title_pos\n",
      "update_title_pos\n"
     ]
    },
    {
     "name": "stdout",
     "output_type": "stream",
     "text": [
      "."
     ]
    },
    {
     "name": "stderr",
     "output_type": "stream",
     "text": [
      "update_title_pos\n",
      "update_title_pos\n",
      "MovieWriter.grab_frame: Grabbing frame.\n",
      "update_title_pos\n",
      "update_title_pos\n"
     ]
    },
    {
     "name": "stdout",
     "output_type": "stream",
     "text": [
      "."
     ]
    },
    {
     "name": "stderr",
     "output_type": "stream",
     "text": [
      "update_title_pos\n",
      "update_title_pos\n",
      "MovieWriter.grab_frame: Grabbing frame.\n",
      "update_title_pos\n",
      "update_title_pos\n"
     ]
    },
    {
     "name": "stdout",
     "output_type": "stream",
     "text": [
      "."
     ]
    },
    {
     "name": "stderr",
     "output_type": "stream",
     "text": [
      "update_title_pos\n",
      "update_title_pos\n",
      "MovieWriter.grab_frame: Grabbing frame.\n",
      "update_title_pos\n",
      "update_title_pos\n"
     ]
    },
    {
     "name": "stdout",
     "output_type": "stream",
     "text": [
      "."
     ]
    },
    {
     "name": "stderr",
     "output_type": "stream",
     "text": [
      "update_title_pos\n",
      "update_title_pos\n",
      "MovieWriter.grab_frame: Grabbing frame.\n",
      "update_title_pos\n",
      "update_title_pos\n"
     ]
    },
    {
     "name": "stdout",
     "output_type": "stream",
     "text": [
      "."
     ]
    },
    {
     "name": "stderr",
     "output_type": "stream",
     "text": [
      "update_title_pos\n",
      "update_title_pos\n",
      "MovieWriter.grab_frame: Grabbing frame.\n",
      "update_title_pos\n",
      "update_title_pos\n"
     ]
    },
    {
     "name": "stdout",
     "output_type": "stream",
     "text": [
      "."
     ]
    },
    {
     "name": "stderr",
     "output_type": "stream",
     "text": [
      "update_title_pos\n",
      "update_title_pos\n",
      "MovieWriter.grab_frame: Grabbing frame.\n",
      "update_title_pos\n",
      "update_title_pos\n",
      "MovieWriter -- Command stdout:\n",
      "b''\n",
      "MovieWriter -- Command stderr:\n",
      "b\"ffmpeg version 4.0.2-static https://johnvansickle.com/ffmpeg/  Copyright (c) 2000-2018 the FFmpeg developers\\n  built with gcc 6.3.0 (Debian 6.3.0-18+deb9u1) 20170516\\n  configuration: --enable-gpl --enable-version3 --enable-static --disable-debug --disable-ffplay --disable-indev=sndio --disable-outdev=sndio --cc=gcc-6 --enable-fontconfig --enable-frei0r --enable-gnutls --enable-gray --enable-libaom --enable-libfribidi --enable-libass --enable-libvmaf --enable-libfreetype --enable-libmp3lame --enable-libopencore-amrnb --enable-libopencore-amrwb --enable-libopenjpeg --enable-librubberband --enable-libsoxr --enable-libspeex --enable-libvorbis --enable-libopus --enable-libtheora --enable-libvidstab --enable-libvo-amrwbenc --enable-libvpx --enable-libwebp --enable-libx264 --enable-libx265 --enable-libxml2 --enable-libxvid --enable-libzimg\\n  libavutil      56. 14.100 / 56. 14.100\\n  libavcodec     58. 18.100 / 58. 18.100\\n  libavformat    58. 12.100 / 58. 12.100\\n  libavdevice    58.  3.100 / 58.  3.100\\n  libavfilter     7. 16.100 /  7. 16.100\\n  libswscale      5.  1.100 /  5.  1.100\\n  libswresample   3.  1.100 /  3.  1.100\\n  libpostproc    55.  1.100 / 55.  1.100\\nInput #0, rawvideo, from 'pipe:':\\n  Duration: N/A, start: 0.000000, bitrate: 159252 kb/s\\n    Stream #0:0: Video: rawvideo (RGBA / 0x41424752), rgba, 864x576, 159252 kb/s, 10 tbr, 10 tbn, 10 tbc\\nStream mapping:\\n  Stream #0:0 -> #0:0 (rawvideo (native) -> h264 (libx264))\\n[libx264 @ 0x66a5780] using cpu capabilities: MMX2 SSE2Fast SSSE3 SSE4.2 AVX\\n[libx264 @ 0x66a5780] profile High, level 3.1\\n[libx264 @ 0x66a5780] 264 - core 155 r2901 7d0ff22 - H.264/MPEG-4 AVC codec - Copyleft 2003-2018 - http://www.videolan.org/x264.html - options: cabac=1 ref=3 deblock=1:0:0 analyse=0x3:0x113 me=hex subme=7 psy=1 psy_rd=1.00:0.00 mixed_ref=1 me_range=16 chroma_me=1 trellis=1 8x8dct=1 cqm=0 deadzone=21,11 fast_pskip=1 chroma_qp_offset=-2 threads=18 lookahead_threads=3 sliced_threads=0 nr=0 decimate=1 interlaced=0 bluray_compat=0 constrained_intra=0 bframes=3 b_pyramid=2 b_adapt=1 b_bias=0 direct=1 weightb=1 open_gop=0 weightp=2 keyint=250 keyint_min=10 scenecut=40 intra_refresh=0 rc_lookahead=40 rc=crf mbtree=1 crf=23.0 qcomp=0.60 qpmin=0 qpmax=69 qpstep=4 ip_ratio=1.40 aq=1:1.00\\nOutput #0, ipod, to '/tmp/tmpejyvuns7/temp.m4v':\\n  Metadata:\\n    encoder         : Lavf58.12.100\\n    Stream #0:0: Video: h264 (libx264) (avc1 / 0x31637661), yuv420p, 864x576, q=-1--1, 10 fps, 10240 tbn, 10 tbc\\n    Metadata:\\n      encoder         : Lavc58.18.100 libx264\\n    Side data:\\n      cpb: bitrate max/min/avg: 0/0/0 buffer size: 0 vbv_delay: -1\\nframe=    7 fps=0.0 q=0.0 size=       0kB time=00:00:00.00 bitrate=N/A speed=   0x    \\rframe=   13 fps= 11 q=0.0 size=       0kB time=00:00:00.00 bitrate=N/A speed=   0x    \\rframe=   19 fps= 11 q=0.0 size=       0kB time=00:00:00.00 bitrate=N/A speed=   0x    \\rframe=   25 fps= 11 q=0.0 size=       0kB time=00:00:00.00 bitrate=N/A speed=   0x    \\rframe=   31 fps= 11 q=0.0 size=       0kB time=00:00:00.00 bitrate=N/A speed=   0x    \\rframe=   37 fps= 11 q=0.0 size=       0kB time=00:00:00.00 bitrate=N/A speed=   0x    \\rframe=   43 fps= 11 q=0.0 size=       0kB time=00:00:00.00 bitrate=N/A speed=   0x    \\rframe=   49 fps= 11 q=0.0 size=       0kB time=00:00:00.00 bitrate=N/A speed=   0x    \\rframe=   50 fps= 11 q=-1.0 Lsize=      17kB time=00:00:04.70 bitrate=  29.2kbits/s speed=0.999x    \\nvideo:15kB audio:0kB subtitle:0kB other streams:0kB global headers:0kB muxing overhead: 9.111690%\\n[libx264 @ 0x66a5780] frame I:1     Avg QP:16.31  size:  3983\\n[libx264 @ 0x66a5780] frame P:15    Avg QP:10.46  size:   520\\n[libx264 @ 0x66a5780] frame B:34    Avg QP:10.90  size:    96\\n[libx264 @ 0x66a5780] consecutive B-frames:  6.0%  8.0%  6.0% 80.0%\\n[libx264 @ 0x66a5780] mb I  I16..4: 37.2% 56.6%  6.1%\\n[libx264 @ 0x66a5780] mb P  I16..4:  0.8%  1.6%  0.5%  P16..4:  0.7%  0.3%  0.1%  0.0%  0.0%    skip:96.0%\\n[libx264 @ 0x66a5780] mb B  I16..4:  0.0%  0.0%  0.0%  B16..8:  0.9%  0.1%  0.0%  direct: 0.0%  skip:98.8%  L0:47.6% L1:52.3% BI: 0.1%\\n[libx264 @ 0x66a5780] 8x8 transform intra:55.9% inter:38.7%\\n[libx264 @ 0x66a5780] coded y,uvDC,uvAC intra: 5.4% 11.2% 10.0% inter: 0.1% 0.2% 0.1%\\n[libx264 @ 0x66a5780] i16 v,h,dc,p: 81% 13%  6%  0%\\n[libx264 @ 0x66a5780] i8 v,h,dc,ddl,ddr,vr,hd,vl,hu: 57%  4% 39%  0%  0%  0%  0%  0%  0%\\n[libx264 @ 0x66a5780] i4 v,h,dc,ddl,ddr,vr,hd,vl,hu: 53% 27% 15%  0%  1%  1%  1%  1%  0%\\n[libx264 @ 0x66a5780] i8c dc,h,v,p: 81% 10%  9%  0%\\n[libx264 @ 0x66a5780] Weighted P-Frames: Y:0.0% UV:0.0%\\n[libx264 @ 0x66a5780] ref P L0: 86.5%  2.5% 10.4%  0.5%\\n[libx264 @ 0x66a5780] ref B L0: 79.3% 20.7%\\n[libx264 @ 0x66a5780] kb/s:24.09\\n\"\n"
     ]
    },
    {
     "data": {
      "text/html": [
       "<video width=\"864\" height=\"576\" controls autoplay loop>\n",
       "  <source type=\"video/mp4\" src=\"data:video/mp4;base64,AAAAHGZ0eXBNNFYgAAACAGlzb21pc28yYXZjMQAAAAhmcmVlAAA9jm1kYXQAAAKvBgX//6vcRem9\n",
       "5tlIt5Ys2CDZI+7veDI2NCAtIGNvcmUgMTU1IHIyOTAxIDdkMGZmMjIgLSBILjI2NC9NUEVHLTQg\n",
       "QVZDIGNvZGVjIC0gQ29weWxlZnQgMjAwMy0yMDE4IC0gaHR0cDovL3d3dy52aWRlb2xhbi5vcmcv\n",
       "eDI2NC5odG1sIC0gb3B0aW9uczogY2FiYWM9MSByZWY9MyBkZWJsb2NrPTE6MDowIGFuYWx5c2U9\n",
       "MHgzOjB4MTEzIG1lPWhleCBzdWJtZT03IHBzeT0xIHBzeV9yZD0xLjAwOjAuMDAgbWl4ZWRfcmVm\n",
       "PTEgbWVfcmFuZ2U9MTYgY2hyb21hX21lPTEgdHJlbGxpcz0xIDh4OGRjdD0xIGNxbT0wIGRlYWR6\n",
       "b25lPTIxLDExIGZhc3RfcHNraXA9MSBjaHJvbWFfcXBfb2Zmc2V0PS0yIHRocmVhZHM9MTggbG9v\n",
       "a2FoZWFkX3RocmVhZHM9MyBzbGljZWRfdGhyZWFkcz0wIG5yPTAgZGVjaW1hdGU9MSBpbnRlcmxh\n",
       "Y2VkPTAgYmx1cmF5X2NvbXBhdD0wIGNvbnN0cmFpbmVkX2ludHJhPTAgYmZyYW1lcz0zIGJfcHly\n",
       "YW1pZD0yIGJfYWRhcHQ9MSBiX2JpYXM9MCBkaXJlY3Q9MSB3ZWlnaHRiPTEgb3Blbl9nb3A9MCB3\n",
       "ZWlnaHRwPTIga2V5aW50PTI1MCBrZXlpbnRfbWluPTEwIHNjZW5lY3V0PTQwIGludHJhX3JlZnJl\n",
       "c2g9MCByY19sb29rYWhlYWQ9NDAgcmM9Y3JmIG1idHJlZT0xIGNyZj0yMy4wIHFjb21wPTAuNjAg\n",
       "cXBtaW49MCBxcG1heD02OSBxcHN0ZXA9NCBpcF9yYXRpbz0xLjQwIGFxPTE6MS4wMACAAAAPi2WI\n",
       "hAA///73aJ8Cm1pDeoDklcUl20+B/6tncHyP6QMAAAMAAAMAAAMAAHWhYYApg1fRYcAAAAMACaAB\n",
       "UACoSEflVT1E4AIa4K06zcfWsPJJW6YZ/HWhUslzukZwFiKZF7qdnbaAmPj1B09smpP2++B8wUwm\n",
       "tyPFuzw0sCgQQUogBG4+tnuIPKfgYAfd6leQp1E2E/UnneRydp4CVYBsLI7pCm05dbe/eCN8zrjN\n",
       "KRdEiNH2E/yfuCrZh2N/aVAhFcQPFyfh7Obj+GwVYCukU5/ThnIHFp/tlPGoUdNSCqoZyvCRPCKG\n",
       "aZuRWXrwYkjTjQIEZba3PRJ5k/GdiZT6JqyYc1IYBrqgfjW0rnDn3sgMw8zWMAO++lJ0pHnXIOHZ\n",
       "Jfbwf8WHc31TGTk1MscsyJl46soFWHzi+dsGhavAMxtygvO74yxlulTcIa6iiMGZCW2kSdXVzF7T\n",
       "gqe+Rm6Ga2YLeaJvpGjb7K0Aj/p9QL69wx5tPhKlrX3os9ITy1e6F7jf7ux3aYTbz3XSQGsrXn9f\n",
       "oBNJgImMuARXsAQ01i293jeMk4bYVZ8AwmtOHL7hMpGdMONxgfkACYmwuk0du+6FHd4WGCIF25J9\n",
       "xoUeSU4UOE4lPf4CJCXwZlWlRhHfQYOgcZ5C7OB/qg5SF41EKdFLNrNZq9HAvfDe4S2bSacSUrge\n",
       "REbxAATm3fLv2v/WHl3V6RzFKQ4+/D/TJtYjKbyE2Qc7NryV4pgJ9r0ohvGsP8DW8PGrHn/Aibrw\n",
       "SmHGsOfC6AYUhBYMDf8K1rXItu5Com349r9EVjITsgRLZyV9q0pwXIshxNaCyYqXWM/x4xdnRvFr\n",
       "kZjxkZ5UWU1clOM/DlKhnQhfzePAsSKZXyGXFtA1FOmqyQLecSACjJ6tDuFAs6I/vbwAi1LSY9aB\n",
       "BG3FUlNPh+zCstx8BcErRsS9jbrnW37JgVEGhgk6qh183Auw3cqshFfM1zyg8ghfyACor3CILFyN\n",
       "Nwsb/FeXKaDz0H/1KRtsnFD6RHVcsZ4ujenp2yHVE7u47QOtPzXYgfSvicYduTZ/8fF7pg51aUHk\n",
       "JLDfMN8z1d5sAqjW5Z0o17jWA7XGe3wLRFdKjRF+nXIj6w9WLAg5vkC9HE24fY0y0DXKTYBerpj5\n",
       "XvXFhGnZ8ialy0RYjA9pVAzXAVaV0nUje1kXYYwBTKlJWEQgox9Ip3Im/dAo8kAAAMHfKuNrg7QZ\n",
       "q6ur0HcCbjcCtbYDRvSnYQX2ZfIFrSYq6fTSXTgyggtBfGhV1klCRX/4WFuwAAPVCsA1HHwvVzZ3\n",
       "ujCzd/nIh2uQXX0XzrFynMEJynJuwH6Na4fwZQB/DdybEb8xWXzXCHIzOellRKvH3VeDhSYwSc/J\n",
       "yHsuHNsc/wCTOmjLG/zaj87QckEwIwuZA1VAvis4s6Om1dwYfs+ODIQmnMzhYOJ2uWHOjIinni/d\n",
       "XUSAFdo67LqyMVC4MYnDGW1P5bRcUFm5VgmxYYhjBePwf9JvQPrNIT4AAKoGwRIFPOJPxX96vCz1\n",
       "Bo3XhU7RjGfrzQ9bbLBIqU1jE3s/75RD/LgB9SuP02iWN8IeldigIhXanlB14omEkIQ0JUzWrv20\n",
       "BccBwjQNjz16aGBF7iSxpfjl1GaV2AaQ9m6k/Mh4TLpTacWxeo3mwufcD4+fi8GDEIOo8Yb/JM8Z\n",
       "28zQo7H/vENNdjUaqyVphP9YKA46/5eiiSTDyPd7ojp6+3gPqXr1McQJwJ48KfEWCkqrAxhMPKSM\n",
       "PdfhioZiME1jJRX8lUkQVy04Cx3/uw0mm3KCCMytNZgUMtyRkQ2AL42xrAS07IzHIlbt9+qfcwNw\n",
       "STuzV26hbxcctCaj6etKiNPWJRVeNDWiWeqZeJFX+ZN6xK6F2bFrL/wDCJJO9Vlb2LNFSRqH9OoQ\n",
       "8qAv5Pky8PK97hi2H+UItgaA//3u+JwGAUoKU0NrbsOyPujHOJOj8xGJCBZ7cqMz8WPdq7JIBgEu\n",
       "Ca7a3WCpIpCQq9uzug5RufMVFV0TeSucmupd4TqXUUUQp+pmAFb78/uUln2W0RftVxiialdZJ3tD\n",
       "ednzhGCeKh+YFuUE/JsGef/JyJc5FDGXHuUFRaKjqplPoea9h614eEOlHn5sgZFGSEOlEpiL094B\n",
       "lzO6quc/2T8KTON3JA2K9RJyOMR3BB51MKu+QetJZ/d+aLnv2rl1mA+YUXjHjUCZkXVT/SN2jhmK\n",
       "KzyarZmnYV5HTiB0duDGjrOO1QQfgMoz1zgyOTw3zOBdzzE9q+ZKb9x6dtoHlKy0n1fkSd/rpQGr\n",
       "zYGjdbvWtQov7YGfVUNRVLuz3jzbJEPmVEiFT1uLSAAQxF2WF+uY5QGeGOx3NsBszPZdkUW5kceX\n",
       "3W1d4xxIpupBAg6P4DiNLNk/Ua3Nzt7tp/dcJmtn8rasHehf1ngeMMOwCmVIGUWFR9v3Wz2UlxYi\n",
       "6441NlsUMqbdz0n4h9+CGkWcajqWngPnqyZ2mdp3yeXF+IMsTL+vwPuOLTqcf1Zo4v/vZfFC6oXB\n",
       "04U5eaj4jVn9eWQCCrI9yyVNMFg11WbiJdHKigiM210r4BX1Lz+oOkRnp9cPIgo9FKt/imrvd7Ad\n",
       "4FqqacD7xDeRpATwA4CgZ/EUoy8W31DeAmSS8Cw+EiCszEvSS0CEi94fvBG5xT0+6tncme0LdyH8\n",
       "XQkNgaMASkkYnf/WCvdgtNu6u6ksHoJefsAl3f0nL421ztUgV1KP32n/6JxqiS9yV2iV/CBlmSAK\n",
       "QKh1wiO8Ahi/dTgKCGwbipkVFF61I3J1PY5o/xjUk1trrpR4ABtcFWvOjjCTZCpcKrqRiHvycp50\n",
       "Xnp99roOeEOSGVcpg1f8kFrnPi1z5dE0xWtLYDQ2jf/Dcb4PMeb+Frnu++XiEeuCkO2i0Fl56lHE\n",
       "ViS/xo06bBKyz2DZIDXk22KWK/hfN5LMZyz2/yoSxZPZtYTa9xM7O6FciiU6/L3fxP8okmr0UcVg\n",
       "Snj39E+md3/yeYI/0ODXgfi1LeAAPP/8YuBXLitxhTEfERi8NR3eEKP+bZXSkVUAUSvbg9S70o3X\n",
       "CHghS0ljOSCQSzvbY+GJVrO+yR/lYPdfrkXBZL9BYe3B26hsUOr2GT93sp24AX1ASXRGQlgMFuG6\n",
       "u4Y8yyFK5UjbnYDwAvGegLRQRgejF/X6EXPKP4FmKVVfuVnowY02P7ki1oMo0boDC9f6kD1FHswz\n",
       "5/qQw7ya3EuNy3vCytpOwVpqdrZP6vCxOIIkG9nlnYoHOY8fceVjxVu5tyqMXfninOFIb7Ev+WRm\n",
       "2G4BLIabDlMwJo7e75zni1vV6Qp6KKbtfMrZ0pQ0xNwBOid4ACDcEUGFPr52uMbhMj0aL/g84g4p\n",
       "x9+f6sKAP/wHHCbzy9f+CjdHqdxpH3bDs/z9HS6uNxYoAI2ZuBa+6EcaJBZD9VjrVQEeId4jtio/\n",
       "4poW6WkI5gM/MAEdsRypFMq+W2xF5lBIz5TpFTr7gdSiW8Op+mBZe7ndL7qizqwof1TZWcDYnoVW\n",
       "VFDOm+0wvbcmCtDoJvKq6SwU5wZvaXwY/MfS5gtNxfLou8gFGawxbrVFUQ+8FronAcUp/uL8X2gk\n",
       "UJQuiCGjyqYwqZivVpfzctHWWTGCFomFRci2tQ4lGzeoq2ZrHPUBB/02CYkbXhWFxDoFvkrex7PG\n",
       "b5Ek0VIOABpsiwBNVIEo6+ZXsDXdYc2xlEGQqDjE6xOcls2AT5oHsk06sH+eVABJ7Sll+tJQEyed\n",
       "g7deTi7UUzHNloOfIYt5LK7/J2Io8RV/URLpoSgyMcwqAYMCVGOX24k0ZsV73S07v9BipipIB13d\n",
       "qVLJ5ywo6V9Gj+XScNulL5YQS/YTxVWqa6FcrXrlwGzOa8PfyGFMpfEp6fNAAdiIBZBLDmS1xsBC\n",
       "dDmJjifIvrKT1ZUBTnnpD4PYrkasXCsoan0s2sAw178AKoQYGxQLH9x7nVkApw3zlXhbbbf8esPf\n",
       "Iimyee8EFU9U3nbvECF/F5fOLFKtB4OHFB7bH202xASzmzemp222Xxm8AUfLKPdgp1MKXf+lmvhx\n",
       "DO7nx/qWpYWJEjQ3qO6JGGgfVTAT1PHLfZC1HxFM/hbuYzKKsMcmiLMUdVhnN/fQBituuM7Suvba\n",
       "HnN+elG6w5KeUVKudoQYznRy3XuVjRu4YBWfGzvRm1/QKkxHmDtgQW4k4+ejoW9sKNgZkSEvgCua\n",
       "y25ZzZG06oRW+3uz4E8ehCx9MxrEYxP26BuAjR1fJ0KlvTrhqRg0/4xVvqSO7lYpTl/+avP/UjEi\n",
       "IqE7hutHfhmRUYMnC/6I8EVvIUBu3TSFI/aD6Wwt/r/CDQnemJMYgiY6KKqaioogRcULO7s6ekL1\n",
       "WouPe2XYo64GAgPJjjttF25PrswdeUBMNGViQ1aktfDdgD+XX7VQ7WJmPe5tJw5prnclX5vQReUa\n",
       "ICprYXoc145LaSvBQObUgkfSPD4N7w2SMDKUDIOuGczk4n+zNWe+Y90iQ/nMNfkIaKHtDHKR/ACp\n",
       "dPMau6FmWjPS6cZKR2ytgF3VroLAI2xeiJLxbjSp41JGtrPu8tfgjA/HWpGtVaJMn+zn8jTnHoDP\n",
       "Sub7iyulmPwAAAMDu+hn9zog2FFYrYXYpDQn4qICkabaW6Yr7ht1TxrzLlQwvVG8g0Ks8YsMzVMc\n",
       "KmPrvIIL6AFLkgthh2kXswPCgctaP/7Z+Qvln7IFmro7bZ+fOeJ3KsmOxqgYG8WVhYN1fImgvzLi\n",
       "XVBJpQAcVdpMyjeGmgbqXZJZXyZtuw0JvXWFGl4/QB9FQou+/V9lnsdHxWzY8frQNaHYkT8xB5Cz\n",
       "gLQbSIU5BMmTGmwqsgsNVHZyElbuQt5GKcvxPL6hfZt0BhDwT4Qf/SAAp21RZ2M4M6C3Y+WYuWGF\n",
       "q604Rg2HKBFxQwEABERZraR/CnmE8W/13cMb0Qi1W+5g7AQXtJejQ1vyd2rbl44TtPMCiIIHQIaY\n",
       "1esNJQP6ILvJaOYxLpzP34Q5NiPCrqgSCa11whjmXrthpCMZ8I9iQCgnQyudFV31VZd9MZArZAq7\n",
       "UMiWhoTMJaUGut75IgWLBVsSI9xps3HRzmqi/caA8Amq4ScynwmnTGe2zpry75oYSELcAGnZwyue\n",
       "O+VhhMj6IAJq9UB/8Ri6OR4exPfA+5FjOnQZeGCP/ovXy3BU1cUN4BWY2dLrtb8iX6POaaTRwK2P\n",
       "JDdtF35KSl/bIraIpXywQOYB97/4u5qx06KHaMIYw2tz/+piMjmC01BtnUhW6HUqfAtdlAAcqunQ\n",
       "GsVwisi6Mq2A1SAK8TKSq05KlJFsZ6jEuUPs5BAErLlDnYAAAAMAAAMAAT8AAAkKQZohbEP//qmW\n",
       "AAK4IFABNKp2ntlLLCN2CxBYBT/p5jjHKZR2wWr/KuK5kF4mcQ8qtrjMO/QOrlChp1QXBOzEKJAY\n",
       "KZs5Ltb2+mNpXBSqHUQdL4EUwJMA9KnqehllquuYrX9t+WqolLkwgWdda5r29CPM2zVtLOYbcxAc\n",
       "NtyOUqpTXPE7c7SM7hAmdeG6/I6NJx8eyoaPZgwbgmGsUrorEQDNv2iY2KuPD2JgG+Qu88Vyi1WB\n",
       "Usy/u14DvufDGPV9H1m4GpzXLSMYmugJc8WvDSip/F6kJwg1JJ13Eoe1+XVPMJPCcS1YtzQKAnzh\n",
       "K0UMiM15I4fIHv9VHQeqONMSnKYkAilbdDCCD4UDMZrP4WksPiJNhgTsiA7j/m959QwyrZ70k4dP\n",
       "+kKYpgVRfbCoPq3VzaEuTrUfTKeebwHFHQy4vvpNAgDEv+wUxPywPAgxGt8q2FwS2CFG4C1Si2Fd\n",
       "d/fxaeLfYNZIpQVIDdmE9RXCQVk1D3LBFhe5XGzPJ3hQMz9H3AbMaNaMmiDxelGvT7Mc9yf8+bfF\n",
       "nu72Iw4AgEZCDsMlXYIIUDod1JTcQZzq+kxSxjulJFueC/isihIqhXn3ku0s2amK6pm4SXjv6M2w\n",
       "OL5eKO1eQ34MWsobG4R0XDedFPNCgwnq2xrSs2jvFUuiA2PZ9LjclmxcrMh95Gn5KjZU5vKQK7+2\n",
       "Mz24y14wAihizsO9JfSMFYgzioHdI6bMKLCiI6qBrplIh061Q7kOVgKv2WNVIfge4vKDQ0QN/BfF\n",
       "QsD3+wOoJYvFml9XrF4Z3zmo2RiQ87c9llAmJxKyuaHrVpjk5YQd2DfdY132gqsx1yW6fB6+gnzj\n",
       "ONhMJ+qYPyEErLakXl9EQbmNRckepkK9r/sjIF1xtSdFh6sZhloolC2ZKwi9/I1maTre0e7ZXI87\n",
       "ygbrB5zZlw+hYL61b5dI8qoSUEr3RDZ/6tjM2NWuvPVMbIWa8h/AKAqIEuGNGun3VFCJMIW7RLfi\n",
       "vFJlOV3LP+Ks+j/DDWyYuT7HJehekxn1k7MGsgj4hRPgNqUumu+IUYKuaV0HEsskYMflucx71OOl\n",
       "0qXXzQBfYJ4hNIxqITQzgjdh+Zv1VZbiCxPI1fKMJkjOAU0/uYQIJl4UrtNo9PJ0eqBjGG3G7DSw\n",
       "qdXWFqIbEzQ0kZ7trku51+/2/H9rML4k/gvg76+IxyOKmeou2qIiESuq/bh3NbbpKwYrjF2ifrfj\n",
       "GVsVOWb259drLcBechRyIuv+fRBWI5KlY+GjCSf0lfn0+a+XHjashHntub/djyxgMWplFvXWU1Jo\n",
       "udXRf2tqmtbbSaZ+uInZN3qZE7m9kN9XuutpVnfCDB2w6ea6bf4hCUddtgMoXRX85I6EiTPOfQ6/\n",
       "397jqSYzDg0zPkCRXuJd2V4IxvoEUnH1vaimpxKQ3PyY7gHyyI+lNP6x0aPx4OgEt1dhjzUqFPCS\n",
       "MgZFR6E9OqASgvfhthdbR1+gyZ++gA5AlmeasIURlv9xnkmi2aByu0gj1+sXmreZkIeAXgDKhujh\n",
       "w7gqMfe7dSAz4gtyVXORfM/JrhGRRdPWb3oxbAwy8GAxmDjf4s1KEKkddnffpSENwin2Hgqw4M3A\n",
       "jKfpxXFuXD5qRPDYL9GpJVgLh2MwC8ldy2xXWfW85JSxmSO3Lw43JjqM7m8NwR+CjO7Eqw2nxGJk\n",
       "74IdXTMF8ZtLQ4eIi85nh400pA+Lv8Tf2Z+7W01nSs6LZ9/xqhFmMA/irVGv51FA+L6Tsj3KjMwl\n",
       "2nlqtUoEY5Cv7QkHHKpeDsTUmxkSuhkbbtrXOTPhHqI49vNRlvyK3G99XIraqXUujzFq1Fm1W3zn\n",
       "DfKaClzKlldD4Z58eCfjMQPOUqKgWpGR7xXmsLwJ3ZVfph+RVSK3c58eMQXdoNOq0I2FtEf+kzAY\n",
       "MWQchNT98QvN6jnE3HPPBN/TQdNReIluaonZ/jDaaLHASNhbbHVjEqgVxqACOBCdPktYAD8a4UhC\n",
       "qEAuSyTHSGafgyizxkd4NCw30BStHGiR1h0dmDR8vbDoMkEA0huKPXeHay5M+3TUn29LyoNiIMoW\n",
       "iX/w8tC+f3XaYdYH8942W08B50VvA/AR7RBWuEkrbeJKqYmMofwGttCp6/UGRcrlR9UOX1ViPYA/\n",
       "roc/UOlr5Hudy2i2SeldAX/TE8yjcO4dQEVQJoI5dj5mCslgwT44W4IzgTwUNhb38IFUcELP9kiL\n",
       "i19mBOJ9TS8IX6y5exyMU9ojiB1ew+Tci5FeivjdKhSvvTgjXO65zJoO7KreC0pl37Z4lxFDaZYR\n",
       "IA+RR0xw0yuZmDf5z24dXVrMFErXW1XvplXCUo/KL1Kr/P1kRw13kybP7EJ0pfMqzPGhH+cQwrBE\n",
       "q9bgvdC8mFm2cILQnLKUB8S5rVDirjwQRgnDeL9WT55Ielb2dm4IHWgXL+Wu/eiPPddR+kS6j80E\n",
       "MW6N0FXOV0aJmslrI9ViexrbGdfakjAktL80LH7EUpwtJWsn3xw6dW6WaZXVNiQ0Ju7nr88fXASE\n",
       "Jb9J80qT1+PILODzRglXlABhW2YL9GTBCmwJ0C6MHsmgiy6P/tvM/Py7wJBfsCbkFYfBhDvnZ5yz\n",
       "h9589DbUH3J4/jeAxVQcNGQqXol0vJCOtfUWNfdlYwltQMbPuWQQQ/Czs9FmdOLkhR4JoF9nugAs\n",
       "b9IVOM3QgV1H9I8gIIZWHQFV6rRhTigzWWnVwJkwIEfjJh47fHprWCNvcf7rDgZN3WnYEFlHIc8G\n",
       "tyiDhykPWX0Fj70tOylN6xALyDl4rS9WGz4Lv58zTAoCZHny3/b2DY+E02gPuo6XQrygezLvKOmI\n",
       "7mX+c4vw9NwG10QXLCFPck6k6fc7gJCsSavAj8nFnYfLCcB3rGSc8eKXC1uiMVdgRx5RG2Gqzjhc\n",
       "dD+nbtpt2ayuV72H28WCDQxMJTuCoTib/KnzlOzRLLrwD6Y01S5mXAJJ6YHtz3nUl7jHKIV5NqfN\n",
       "KTi3PrFHODAU/uO7LIKe0IV4K+lWd94/huwBtMF/dd0pUhNEAxSy5UXJP/3hkKOhhMSW3zHPTXTs\n",
       "/mYT0v5+0EE/AK1YT0ankn8UWaOIJGKhiwAACLpBmkI8IZMphD///qmWAACuUQUGoB3Qr612aj8P\n",
       "rAbr+Ct4PkSu6El6bq1/3FvTgJisoglK/0/B0slsfbeClxlSR8KdIxsXq59qmc+A6mGouVhxo2Vs\n",
       "th7dq4SNmcdXAPdPB758L96tZGppcT/HxDhQq49Jqw4s0Zf+YzjMDBtxMlW1VNrnVgD4+3DU35TJ\n",
       "SgMHRBL4lD+6OA8CW+5Oy3anpQMdPxE7SHLjqacJ6awn5iO5irXbTxJqGT+r8a8luqC4ZGDc6ExN\n",
       "it+Lffulipnr+vNptLklLlv9ruYbzjYzYlAPcJnY795LGgQgiNX4tei94e46vey3u+8soM3iD0nu\n",
       "cE1on2GsPDhy4OzaDjx9LXlwzsFyswLTnSimsFe7o+tTL/7BlLPttFATa/Y0tsGB76sZ5MfxegD7\n",
       "P6zBgSevsZl8j/WAbugbFwaZxBEV7T2qe01PKSrmO3rju4RL40UwY6ZVmfCT1wPyCudEo8jdNFNq\n",
       "3s3EcrgMzTSL5BaVMKjqnE9anesfM4Jq0qTt+qvuIPzHYYBwgivzjYnEnmE16T+3Bp9K637cRSt1\n",
       "HMRSg4YJ76/udrvJnZ0LeldzZVujq3CifeTsS5+nngTTjU2yVRkGfebNdW4IWimUttgKSe29oLns\n",
       "lxpX00ElDp0h46IsveckD67XF5ArA4+L8ZeIJYsFNm8EH5z+zuFlOM+q8LwUvAQ3oCE+ZYpZIHay\n",
       "1sUaDlgOL/ICwLR7e5nPw3CsDmXJSG6ud81NQ1zt7KMllHkVXnAfHD24+A8BbIn5aeJZKJlOmF04\n",
       "Kj/1HJUIxfMlqk6Tsx0zZebKrfQRI0E1ydmWbGHQ3Te1WmGf5BFAEjEGRQ7LJMsyBU/fvN80TPmt\n",
       "LI66VN3X0/tCzlu6pu848yaI7xjChemoZDEybNkMqTmOR/Bo2Gk7cLJrDa7CBuwx6tJddLTpqOnX\n",
       "nPP8Shoc107sg56aqWVtgct+vQPpKt/ZhPSSCzKfIsiG9yTd0jNITGjTjm+PUkkFmsOOYKw5SeB1\n",
       "qZ/kry0pqxGxtma5RUSE8BxaJD5JJoVpOOOulYx4Rw/EDTdNKVXXok8p3eP70z2aP5rJ3bPHCIKW\n",
       "AxF20d6ovYpNrgDQiUHgLPzztZSOinJiKFuVrYpN5p1iwICrKJz12IhunsccriM1FgRXR6pYidgA\n",
       "XZwgbKfryKPc9G5O0cA5k/m5ko0+OWAhth9+x6B8k37xgyvajWpJuyM33NgDU2Yo3ximAI3qfTKY\n",
       "WU61aO7/m4FX2WiAud7MyA0Ix5wnAoP9+6cxmtmHUMLpRX7/34QN95gu9UEnL086XH3aJavtddaX\n",
       "QN7Kj0OheQaqPT27/jqytvGNWAMremMnyI8QHEtZo1GISO6ZcGMGxsLV16cVFHtK/TykzaIpOVGG\n",
       "UZmhPLpCTqCDLn0gf1ENQqNycSZ/gVH9SAag2XNrop4UpdI2C0VacangAc2vbErPod6zfOhJJah5\n",
       "h0Nu05CDjR12jaS3A1JeemkqyVIW0HhVtGpQTl1i/xeSZUQthB8steth04O3cDCbUlF5d6LuZEuv\n",
       "FG9qdXl6f1vfcyQcrgcH2xWb9hvdxlFDPPHjNv77ZG7FaVMgFn3460YDUXwDuPMF3HmnQYN/6hQ7\n",
       "HmwsJz8bWSXQ+TfA2s6T8DNGF/GNzzv3QJItcW5LzuLybs8e05IHJsWGv2vsam3dZtzfsUuONZBN\n",
       "r/N7MCd8Fmpbvei9kE+daLOV6mKHmowJo3Nha6u7yPr3IwluBBvUjuZGSU9Wsa+4rs1uuVDrgzzm\n",
       "gE1QVqzkXX7JcCW0Gd/K7WJx3fehs/ZHMN+OCa/Tc2uk5iZ819s9v8j1oWTp65sUpSrQCyj+29DZ\n",
       "IC7F4DY3oMl/so8h/ryC067kHuOY4Zf/nudc4uFlSFlbyDLx6AIi8c+hQTiUcM4tL612fhBjl+Jt\n",
       "GT4qz2nIhom2/aJsKo8wQm3uHkxScsYWUypd/azkxNyRMixwQ2TilYpGXXbeVOzKw9BffwRX176F\n",
       "FSOxP2MAyGw91dRk6opmxKihV0HHnXOX6HgLAHoKFPt2dSMgzpBRwLTLK8TtNQNSC1T0RYZx1p7G\n",
       "bBu/wyPFOznDw26RfLNY7oXQn93k3VAsl1gweGczwv5gWODWbRFVYHwWxHc4HeveyyyLvWYM4Wvm\n",
       "qc82IHHZU2OvXKkRHXtXRlaLG9MSnLlIXbPVuemmt4bx3ysPrRgquKbO4IxiI7S4GthgsVfVLGrx\n",
       "tQ1C3IpulEiVHflcs6Rvux3z7WHhFlGt2+8PPteryN4lmY9+YZK7sYi6ta5O5dZVKfTxnMguqT03\n",
       "e/oHkmYW2VnOwnjp/TGKpcgebvT/Dl3e0aJ8zz6LzGT12Itq7oydKZd+rLosksE1bVRyGv1NS0j3\n",
       "/bf/0SqaU63M15cmDU+Q2Fhqgs+zspwrzAq+SgZRj7Qj7EJWav/6h+GLtxiHNEtwEkwMNKZhdnUz\n",
       "bOqkpmBlnjcO+9/IN1aHtarTEDHtQjTNm6PpDwTBH55Lprwc7s0AbbwqPXGfY6jX3JlCoTdY7mOt\n",
       "j68xIuStSp9k06IFaIMtBdYSO3hwaXPWRVZlcmtp089k88OaXvpTfKlu4CqFuTA6ts3h3dpa8kVK\n",
       "c/wnC87d0SOmzkqo4wOZ+CnDs9LVn2jo3j1RlFQz4H2MRKjpGzspB+OLP+uw2mee3B45pHQwkNDC\n",
       "kidJ2U97vayiezlBERkj9IZ0WkRdK+Cv62+wpyKqTwfWPtSbBTQ4+aSuM4ZzOtXXaFNpbST3SWF+\n",
       "R78CI139jBB6iw3IutsiTBGtYEL3sZdyVWEI/xE5kyIXwxzYcSR25x49o4ukMIFZV1H/B3c4TdWM\n",
       "lTU36H7y9rJkE0r6HANg3DFF1cIKIP6yIBD8zkoydu9RF1e4A37V/DlMw78n/W1nU18/skifaZKF\n",
       "H5QfZ8uHYfphVImQ59dw8ksJ601mOmI79yLJmFwpH7UTzd9TICZ/QQAABlZBmmRJ4Q8mUwU8N//+\n",
       "p4QAASb6DbyHRXFQO7W/fazr/wAjC6H/kJRoWCXER+Grsvr8UhRY5MBjyIKY7XlAbWyR8o46HDS0\n",
       "+lnzuFHJrRTRSA7xn/IeiRE0crHIM+GwPSce7Xb9v6Ir/XV1qEobzNcID+3hov6+w0ObHUu7Ei0Z\n",
       "JRt4tAZ7AjcRDlWZdPIbJGOjYPXAVViY/sweKzgJUbKj/cF1O76H7rk6TeCg2GKZ4vrl8GI1vtw9\n",
       "sLpEn5uOKb1V1Mx6mmJ0OTb2jClKZ/8u34JZEIOu62ga8PxAkfBUwqBXuCtMg5xZxhpspEDDN9VE\n",
       "aRN2CeArE+nOlK06DcHwNprgGSOu+6P8nOsbWNFnxoGOINuJ6MA7NFc4v3blPOwycROPmZOIsZ4S\n",
       "AD0i3r8WiRPX6N+Bli2uke5Y84V5WiIv4vcCLlkJRL4iPsTKggAkMOULKqBbR9L1VPdxHdKX263j\n",
       "tTHhVPId7ez6h2OKXKAUY6KwDxsdrPx6yoDZRUVRgwoxfZSHtqUdpOzemJwo6+d9nqFx6LLzSgn0\n",
       "gcVadCJFyQR9I57FTfaHlTBu4vBXu/YE8+K59N0oEZWjHTHDEarnHB72GYCHHDo1n2z+jmfoYks/\n",
       "2QgCnqe5lwXm6SZq4lMXoYMGcbO4ohnJkI7TGgle44OkLkjQiyUcF6rUUaeLrCvGw/sNdoyy///6\n",
       "D4ARWT0HPwc2Uqy9X59j31+UVEAIO9eb9bQbZTyssp+KkaNwt+Q/jNQgzdYJ4V0QieqKkjrKr0XD\n",
       "0rMv97mELa2DBLuSrrnck1gEab3fiTWxef+XAIg9+xU9m6XAKQg7rCtYg7hOJM0HZGvkBdLKxIAJ\n",
       "SwFhlKYP9KHj/38tkEUxeMVxYOQoALAAbSifIW76OL3JLsBXrmvUTfcKbbUBg00GsRBlm23MWbyy\n",
       "+Yit4YUPu03Y7GrfPdpGXNTMAeaccAji9CpJ++gYPbTWRp7uZc5MkpZBBUp7uQJAK9WPWlholEpU\n",
       "8Erxuh8t78bvGHI1M7nX/wf5t9u9x8E/ta+6Vrm3iujIJ6oBin0bNVZRvYuEXzRBiZM0kDDbxrCu\n",
       "qEqgQ52AVXkMeXRsOa5QFXAbHgebzIlweD3b0kfDbhNQVAq6HiYnZDA75IshwTPsydK68Azgehoy\n",
       "FzlsqBkUSv0/5b1vXIkUME3+txU3TNGbu6pEXWdhc/BKOKe24QdMkHhxwGYifd86ZPumKuSm7IAK\n",
       "jDRJfq0ocjeW0cYnWHE4WZGhABjkJv5HdsZLWjRWBZCi8C+WWHWOdMHBZJSy9dMAbKzae04dsNh5\n",
       "iC11E88k3RHPeWwv+iMoeIy4rco1CS/qhfBFTA145Rma3/EQQ7T/8zkXQeWqMBwmBS6IJF8kk8cr\n",
       "tz9I1iCmmYHsos7IMYhISJDJyAnD6LfLWESUobsR39bnU68Z9GFMIarS7VTw3aiZUOlpfVUG+ef9\n",
       "hM6+b5UO+N8JZqgGaUqDMTQ8svzpJbDsh9lTJMs1NUnM9cuCrBXv3Or4QL7iYu2zrK/IU2OpLru/\n",
       "cJ+eWhrnhV+5tp5yK5iaK6x3dJ25PuuY0+ydLdbTA3wKXnG4LvwGp3EPM6kEOfmyZgH6FuRwA8u8\n",
       "iifnZAHRg/KeQImC8NuYy/eY5MXywcI0QmRg+Wiu1x7Yh4Mq0hKnYR3RO/UhOc5ipJja7fgHlSYR\n",
       "g4YMMPpvX26EiQr5aBeaGgiNflnBKlPGf8NxqqOIroKdVjuM3Z5/hfrSZ6IcbBTZf+SmdUjzme2q\n",
       "hArNPDka3mywxfGf5REstEOtWCGNKpJrCeWOBHIf97o+v+O1vl/wPPIUgwgaWXUdV4Mrxki1TBG0\n",
       "PV0Mpq11sS9LShMNRgRnvby2y9z9EvRUf3JkvhOsHZ5SFwRNlK9f+4CCbdUl28OVTRbimzri0snH\n",
       "cTE7s8PxLuTFRe8tt0DMdVOeYmOjyFffrTe9w8/UNpCm0ivBRloVEWxK754K0n4A7NCtpgoFwYQm\n",
       "WBOLhFkgyr5bfeSDautiL3+PFcWldN5YBVFDSl4nyZH8WZfmGHOkaA+4rZVPl580VEqatQzF8PgB\n",
       "Wr4EVTgdXs/v6cgAGYzpEgC7CitloizcXunH34mGGj5C486wQ2RDtoeq0oNV6dgewz+SxAVHN7wq\n",
       "dm/RmvYZOS2BfF2DgAAABOsBnoNqQ38AAGmAFDWPNfxZ94i0U783rjuvX2L2yQv/OE0xRU/mhI6h\n",
       "j8RsFFUYdwRAPGAGyjyj4P1X7hkIs4oYzfcQiYx4EFwT6yrzpELPxQ58DRINegRk2xG6oLey7Wu0\n",
       "j2ZxxHeeewqYY2/aWHq8sI4FZI0qnLDdPHtkeb50+0wt9Gv4BeFP3cUC3TALQfReRlAuIvN/FYOW\n",
       "yYuUOMcHmr1Eg9ujG/tHvL7riKLP6F8Hx++DcFXEylbx3VIM/kvwNcymyNGRnbvvWfaVx4TUzsys\n",
       "XnzBbFguZ9+K0aLcx98AeAjZVNkQZijJjtBZTlTmGbysfQHgN/IcIPGvkmuKPZoqVGi1K4daJqkt\n",
       "famwc1QrNIEEnIfKocj43o8ojhOb19Ttmnp5xHraI66jlfN1Zw7MkXEWjxjNuu0v0HHoM8nRKd2X\n",
       "uw64sNYhJdmm4/3agExYJnI/yVg4JJ/w//Au34/S+z7+B+9RYCKe1nRNgy4q+LmTG2t+t/zxLMUk\n",
       "q/kGcjdZdRQJYXU9Q25LdYwiIN6yQvLFrCMQXbWuIFOAysUOgRXFgolMS4LBtgINlqweW/r3W6WV\n",
       "1pWGYvOu+8L4KY3Icj474Ots0k/EeMSZ6H3Ub2j/+H3IFDJQjmTechbZxmf8yZF9PNcIxkvjjKsx\n",
       "v8Lp9WO7lKYF2Tcmbh0ZHx9ZA/brOUvrxacTSfCPZdNGEnWZlmFmf189tH5uil3/TC/ZIqBJVhFZ\n",
       "nsX0LJhiNQ3yT2FkBJ2/ivWFz1keiHaBZne98ZBQX4EDOrdiVgvThEdZw7/3qaKRcpYIjT0fKMU4\n",
       "YUH+iPPsllCSrnpKBxlHTZ7f8+B8YPm9NaXRxGxRO4YmHspiBpLePYd7A6o2wYScjj/79RYvQAfn\n",
       "g/nPSFEJRghv0cTKsCPndBJRuDaWaW64lkPuvjj4Rm41bg5ebzTmRF65iFBvfWfpWYVElgIBNTsr\n",
       "YsFyIkNSOTScpDMvm2i2b6LBQcFthol0jJt6sJiNUZGF4CeKlnI7m1Z7SKWqW/vH/BDtCktgqBj7\n",
       "hmXMmSc45O+jEIo1IWQ4rIcFn3sDMoW1767OEysXyE/KFDWPvlz6C/o+rgCcqQcRQT6sXPlycuzx\n",
       "IEWIWbj8T0QcPw9wzBUqLNBrv97xWvi5mQteoqJSPPARmsWIvGFGQ9VfJYtiP2UQCrRiGYbLlRtn\n",
       "OVfIXcn1RYwSHruMq2JTz/DLy2IMYi1jm1vuU1IwCKD8QK1P8ZFcUAqqBTW1wyGRnGwAXn9NNJQb\n",
       "tys3I4coplgRXwpyiMIPEtc5GqjrlgU2/LZsYTpuSfaYE68uWjbbxPIWeRSIZI7SRcZCZpBcsTi7\n",
       "ReOMooQls9SUbm06Kh/9V7UJWghu+9jSaFQgbkf+6CF7kDINFiLqH1xRRiONGJf1jqbAloL+VIoQ\n",
       "yQwYDQDyMUH9TmJ/i1hKlfFCmvHM+6l/gWOYTtJ8g2DiwihXLatVYC4SzXTXxxViMWKXW4pZtLd+\n",
       "nXYfXmsWmRQTZr6YIK04L7FMgtAoNPMc96RSg4RrN2pkqf/Fx5G9egw+VV2Q5DOFqMK+ZmEToqwa\n",
       "lbqVw62L29yVzmUCsoJoINx+l7P0EV487yx5zKSjo/EP/D9QkpQayYMv3ARQmGlhJIPsKc1zx7xr\n",
       "zy8SakSicuaBbcUfU2u2QJZR9gATMQAABHRBmoZJ4Q8mUwU8O//+qZYAAH1/OmACMYarflOJ7JLJ\n",
       "s/XfKfynlueVA3xd61mRZyNE0WvYl2ypegABjaAixbKuQTmZjUtSqtbJ/fN1xPEBKPcUdQWYZKr1\n",
       "MgMyT6jEi0ybHymS22nQr8Ga2pyqTV8Zo+FeR62QIIik37uuOLxfZS1bU2ImebPRT4GUOxbKMhm6\n",
       "cYnmwtFdA2Qld6yVMPyXP7IdbpCtT10IPWSSuoJOFG28FZxbssA/dFMi6klM01KAhthqJ+9X/rVG\n",
       "Kx6CHWssQHaDnu9pxXJhkrVWAyMTJLGxBRa7EIewLnUzGJ1+JpdRxN/tVUIT6qCHwVmV+vgcFLVv\n",
       "0YWOvp5Ou4dBXDb0wSrkJxsTSLsmrq+oui9RtTSoCI2AKQocnvt/uX33DuFqlEfopP2wfvRuiPVG\n",
       "AT+mjbibnqgREXGYw1ZIC+M1PGOhT0iRKK1TgrdYNsHcJ8yG0knq+27EiB4SEorzRjXRdI24YAhq\n",
       "o8nAUgLXYZusvLSYL1oK5EN6yoWObdezdtQ6YySDK7bC6emgilluLxQG80ZxW5kWIuotpBfawOd0\n",
       "M2Trt4CNfXY/Ki/6+F8V8KNbko50qn1e/Y3cVWyIv+rK4Za8BnqZEiuAFEmy21FYDBxypCUpf/U0\n",
       "u5kPG5rF4Gqn7Sv4Ac6iyYWYJU20oJfkPm9Gf1TbJuekSEGW59gtGHgwsIPZGmgY+CMILAbIPA+D\n",
       "4hTYrYDWc6ch54A9UVaEvqZKz6jGFMf0nIE6hWfcCtXdhS6F19s95JBdb/v2uJXQNTkRGpuP+eJM\n",
       "XnAKxwuFJbUurkR6OQdrCSNmwqACL8vFh/3TiPWwaixcN73U1M6aH8wezGoViOJ3oUM3/dnSSJNu\n",
       "oJkC3FOPL/vW4UWqD7RzGfkdi7t2K7egao/19asWIGYRAtUczzAkUYGWM4k5qdTsbzwjrY5uGEtM\n",
       "aIV9StVlga2W1Fx41sVHvT0TNq8fUJn9qkoS4D5YqPFEvp4fswu98f0EIDGQooN/dxIIBGqRRqHF\n",
       "tJk2JnM41cAdheY4NnI4NQ+FhVyuOZfeBgmQnl3Ql77yvdXeilXQyDdat8rWPwBrEgyLUpoOaFSC\n",
       "Vf6GMJM+cqQoC4sumGoDNhGJX9SeBOLXUkzNp+ytC4rRCo4SGeXJlprlLTrXkNed95W8Fui3ni/L\n",
       "+R3TRSGlmsRtyGN+zzmKoHrYkhrYL9PJTj5aI+VKr1LqxtdoKxTZOmyPbY/quLrEqbdS4x2eUpVx\n",
       "SchQ7vri+e0ZNFx3rLgRm9ZypXQ+uJIFK7VQ+zSBWDUa0egA7ydX8wZEavrwTax1/yPlrb6qzOM6\n",
       "3KDy7F/WTEAGNDzPcHHGTUzbPmI8IvA98Ln4NOkeitx7Cn81fPtgZ+rZOkASRiPS2JwkqCzJFRvV\n",
       "9FXbPt4p0DO7/URAQveEdSS1YLF9cMowPIuVDMAVD8oWGxNMJRRwySzIPGbNuRryKmH6TswV9OK9\n",
       "YAHPJemXr7guOCkcsoTl2J8wLkU8W4SANmEAAAJ1AZ6lakN/AABa06Q1iY2sBTt2y1nzdeEB2pAB\n",
       "+1DMsn+AgULuqNFPzC2zh5bmr3q4Y/y8T6XjBL1ksQrCbXAt/I/kWKzwdmbywowC2oKE4RtCKav6\n",
       "eg5jRmQWTiFc+TNuOicKBGcobz3B/eR3qgz/LmXFab7pEA1Q4cqKPoNleUfOAQW9w1Wbyu5J/lU/\n",
       "qJYXn2AK7Vn3zS3LTRqhjxGTaKjwo1DAu99gGVny3GrbhZ9LsUBgRIFs1Tcsa/2exeZ0hWv67Q6f\n",
       "3BcTe4GYGePGsy6ETq+lvg1xv3MnB7fXxinkNUjyURMsI9W6iLHo7LArD3qtn195yvmlPnL3AE7F\n",
       "eE1JMYhGQ/8zE6yOWWAqAdDnRXlqbHKrwEnFngrWxPaIi7pTx2VGrcD95QI8kn/Q3fCx7WpPfW18\n",
       "QvYPVDlhBpdibzEDkCLVzskWcBUQcii060SImRv4Jwpo2ZepkwqdfeJEx+rASx07Rkfni/gF7BZa\n",
       "6QqWIoqDW6oLugWvDR2OpphBYRSx/+iEI018zFa6XPhiRN8xNbv8+OBFt05Gn0j3yg/N0iMBkpa0\n",
       "g2hYXyZr7QKzawSBI9bkFpe0ycdzTiscLBLE8kYmSlcGygIxIQo/1pJgsxdeEtJu4qzdrxd5qDhU\n",
       "kj2+n8bW3EUF5/SssWDOHcm/JREdVoSQsQYwRjFWWcqLlQxJhdQm6/e67e52E5x6Apc2XaeB7Ds2\n",
       "k+xX1XLVcmVmpBHSoPTqMjs2DCQ9cZmsuPIyGhoTt9GwfsDms4Y6Q9PBlqHG9qUi9M7S0hmdlVb2\n",
       "fCP9Rgo44AfEwZUK1QwNChhwvj2c0dDx/xRdr7PAC2kAAAB9QZqqSeEPJlMCCP/+tSqAAAUv5x7J\n",
       "Ik3Zd1NEr8Y4Kolg/Hs3rGCnwHejKPeABMznxEAnYmMXNBBdtkIeFSi9X73pJvHnaC5idF3aYAAL\n",
       "9OtFkXs7aRWdudnSVUk6Uc3DoxcXM3do9Z/b1OtGEiOBfxLEq1BIgfPBb4AAR8EAAABCQZ7IRRE8\n",
       "O/8AAAMAAz20ttmEZrUVjb7+JphOHTNhPUYvVdg8oTUwkdVeh7Y8BOc9hT0y3IE0/GFwqXyABkrw\n",
       "VipgAAABOAGe53RDfwAAAwAElfWa9Idp//Sh9UG6vsno0sSNh1TMCK8MTaDykCOEARlcSXBy8xgg\n",
       "qsjP07iQyCdW8/Dp7tjn+lJB/jwJpt0GsSJGiMv6lN+EF4FiJs7E06y12GKJL2Kj/8R/9smzvIEn\n",
       "tltamFdJtJY5mP55kLbE5TJzPHfMVQN7duR+j+SGvu1nEIMOd/i7l7NIf5z/cBPEx0IR7J1wYkvW\n",
       "Y9iuQ/VqLmbrd4jxkHCYWdGjHNv0S8uLVPVcgPTkhyBzdh3IPbx91k3z62qG5PGBQ9oQ15qIyGya\n",
       "WoeQgcMI8IiBK921MejP5Eg6r5rva/8ttEHaXxTPadtHP9vykdt7yq3ZLZ7X4gCegVbElMTcVbjK\n",
       "Ys0Klw2gc0CWGPvFRJKea2BeZov367LJ+lW5NBcACqAM+AAAABwBnulqQ38AAAMAAD+FDpQEwrVs\n",
       "0S0qAJBVRfuBAAAAH0Ga7kmoQWiZTAgj//61KoAAAAMAAAMAAAMAAAMAesAAAAAgQZ8MRREsO/8A\n",
       "AAMAAD0kaskYbGQMYFzrK6pwAVJeyW0AAAAbAZ8rdEN/AAADAAA/enaUBMGVb+ADrAFY3RfvAAAA\n",
       "HAGfLWpDfwAAAwAAP4UOlATCtWzRLSoAkFVF+4EAAAAfQZsySahBbJlMCCP//rUqgAAAAwAAAwAA\n",
       "AwAAAwB6wQAAACBBn1BFFSw7/wAAAwAAPSRqyRhsZAxgXOsrqnABUl7JbQAAABsBn290Q38AAAMA\n",
       "AD96dpQEwZVv4AOsAVjdF+4AAAAcAZ9xakN/AAADAAA/hQ6UBMK1bNEtKgCQVUX7gQAAAB9Bm3ZJ\n",
       "qEFsmUwII//+tSqAAAADAAADAAADAAADAHrAAAAAIEGflEUVLDv/AAADAAA9JGrJGGxkDGBc6yuq\n",
       "cAFSXsltAAAAGwGfs3RDfwAAAwAAP3p2lATBlW/gA6wBWN0X7wAAABwBn7VqQ38AAAMAAD+FDpQE\n",
       "wrVs0S0qAJBVRfuAAAAAH0GbukmoQWyZTAgj//61KoAAAAMAAAMAAAMAAAMAesEAAAAgQZ/YRRUs\n",
       "O/8AAAMAAD0kaskYbGQMYFzrK6pwAVJeyW0AAAAbAZ/3dEN/AAADAAA/enaUBMGVb+ADrAFY3Rfu\n",
       "AAAAHAGf+WpDfwAAAwAAP4UOlATCtWzRLSoAkFVF+4EAAAAfQZv+SahBbJlMCCP//rUqgAAAAwAA\n",
       "AwAAAwAAAwB6wAAAACBBnhxFFSw7/wAAAwAAPSRqyRhsZAxgXOsrqnABUl7JbQAAABsBnjt0Q38A\n",
       "AAMAAD96dpQEwZVv4AOsAVjdF+8AAAAcAZ49akN/AAADAAA/hQ6UBMK1bNEtKgCQVUX7gAAAAB9B\n",
       "miJJqEFsmUwII//+tSqAAAADAAADAAADAAADAHrAAAAAIEGeQEUVLDv/AAADAAA9JGrJGGxkDGBc\n",
       "6yuqcAFSXsltAAAAGwGef3RDfwAAAwAAP3p2lATBlW/gA6wBWN0X7gAAABwBnmFqQ38AAAMAAD+F\n",
       "DpQEwrVs0S0qAJBVRfuBAAAAH0GaZkmoQWyZTAgj//61KoAAAAMAAAMAAAMAAAMAesAAAAAgQZ6E\n",
       "RRUsO/8AAAMAAD0kaskYbGQMYFzrK6pwAVJeyW0AAAAbAZ6jdEN/AAADAAA/enaUBMGVb+ADrAFY\n",
       "3RfvAAAAHAGepWpDfwAAAwAAP4UOlATCtWzRLSoAkFVF+4EAAAAfQZqqSahBbJlMCCH//qpVAAAD\n",
       "AAADAAADAAADAAD1gQAAACBBnshFFSw7/wAAAwAAPSRqyRhsZAxgXOsrqnABUl7JbQAAABsBnud0\n",
       "Q38AAAMAAD96dpQEwZVv4AOsAVjdF+4AAAAcAZ7pakN/AAADAAA/hQ6UBMK1bNEtKgCQVUX7gQAA\n",
       "AB5Bmu5JqEFsmUwIf//+qZYAAAMAAAMAAAMAAAMAA8IAAAAgQZ8MRRUsO/8AAAMAAD0kaskYbGQM\n",
       "YFzrK6pwAVJeyW0AAAAbAZ8rdEN/AAADAAA/enaUBMGVb+ADrAFY3RfvAAAAHAGfLWpDfwAAAwAA\n",
       "P4UOlATCtWzRLSoAkFVF+4EAAAAeQZsxSahBbJlMCG///qeEAAADAAADAAADAAADAAd1AAAAIEGf\n",
       "T0UVLDf/AAADAABYpgoiBbmQMYYzTgtRYAyIO1DwAAAAHAGfcGpDfwAAAwAAP4UOlATCtWzRLSoA\n",
       "kFVF+4AAAAVubW9vdgAAAGxtdmhkAAAAAAAAAAAAAAAAAAAD6AAAE4gAAQAAAQAAAAAAAAAAAAAA\n",
       "AAEAAAAAAAAAAAAAAAAAAAABAAAAAAAAAAAAAAAAAABAAAAAAAAAAAAAAAAAAAAAAAAAAAAAAAAA\n",
       "AAAAAAAAAgAABJh0cmFrAAAAXHRraGQAAAADAAAAAAAAAAAAAAABAAAAAAAAE4gAAAAAAAAAAAAA\n",
       "AAAAAAAAAAEAAAAAAAAAAAAAAAAAAAABAAAAAAAAAAAAAAAAAABAAAAAA2AAAAJAAAAAAAAkZWR0\n",
       "cwAAABxlbHN0AAAAAAAAAAEAABOIAAAIAAABAAAAAAQQbWRpYQAAACBtZGhkAAAAAAAAAAAAAAAA\n",
       "AAAoAAAAyABVxAAAAAAALWhkbHIAAAAAAAAAAHZpZGUAAAAAAAAAAAAAAABWaWRlb0hhbmRsZXIA\n",
       "AAADu21pbmYAAAAUdm1oZAAAAAEAAAAAAAAAAAAAACRkaW5mAAAAHGRyZWYAAAAAAAAAAQAAAAx1\n",
       "cmwgAAAAAQAAA3tzdGJsAAAAs3N0c2QAAAAAAAAAAQAAAKNhdmMxAAAAAAAAAAEAAAAAAAAAAAAA\n",
       "AAAAAAAAA2ACQABIAAAASAAAAAAAAAABAAAAAAAAAAAAAAAAAAAAAAAAAAAAAAAAAAAAAAAAAAAA\n",
       "GP//AAAAMWF2Y0MBZAAf/+EAGGdkAB+s2UDYEmhAAAADAEAAAAUDxgxlgAEABmjr48siwAAAABx1\n",
       "dWlka2hA8l8kT8W6OaUbzwMj8wAAAAAAAAAYc3R0cwAAAAAAAAABAAAAMgAABAAAAAAUc3RzcwAA\n",
       "AAAAAAABAAAAAQAAAYhjdHRzAAAAAAAAAC8AAAADAAAIAAAAAAEAAAwAAAAAAQAABAAAAAABAAAM\n",
       "AAAAAAEAAAQAAAAAAQAAFAAAAAABAAAIAAAAAAEAAAAAAAAAAQAABAAAAAABAAAUAAAAAAEAAAgA\n",
       "AAAAAQAAAAAAAAABAAAEAAAAAAEAABQAAAAAAQAACAAAAAABAAAAAAAAAAEAAAQAAAAAAQAAFAAA\n",
       "AAABAAAIAAAAAAEAAAAAAAAAAQAABAAAAAABAAAUAAAAAAEAAAgAAAAAAQAAAAAAAAABAAAEAAAA\n",
       "AAEAABQAAAAAAQAACAAAAAABAAAAAAAAAAEAAAQAAAAAAQAAFAAAAAABAAAIAAAAAAEAAAAAAAAA\n",
       "AQAABAAAAAABAAAUAAAAAAEAAAgAAAAAAQAAAAAAAAABAAAEAAAAAAEAABQAAAAAAQAACAAAAAAB\n",
       "AAAAAAAAAAEAAAQAAAAAAQAAFAAAAAABAAAIAAAAAAEAAAAAAAAAAQAABAAAAAABAAAQAAAAAAIA\n",
       "AAQAAAAAHHN0c2MAAAAAAAAAAQAAAAEAAAAyAAAAAQAAANxzdHN6AAAAAAAAAAAAAAAyAAASQgAA\n",
       "CQ4AAAi+AAAGWgAABO8AAAR4AAACeQAAAIEAAABGAAABPAAAACAAAAAjAAAAJAAAAB8AAAAgAAAA\n",
       "IwAAACQAAAAfAAAAIAAAACMAAAAkAAAAHwAAACAAAAAjAAAAJAAAAB8AAAAgAAAAIwAAACQAAAAf\n",
       "AAAAIAAAACMAAAAkAAAAHwAAACAAAAAjAAAAJAAAAB8AAAAgAAAAIwAAACQAAAAfAAAAIAAAACIA\n",
       "AAAkAAAAHwAAACAAAAAiAAAAJAAAACAAAAAUc3RjbwAAAAAAAAABAAAALAAAAGJ1ZHRhAAAAWm1l\n",
       "dGEAAAAAAAAAIWhkbHIAAAAAAAAAAG1kaXJhcHBsAAAAAAAAAAAAAAAALWlsc3QAAAAlqXRvbwAA\n",
       "AB1kYXRhAAAAAQAAAABMYXZmNTguMTIuMTAw\n",
       "\">\n",
       "  Your browser does not support the video tag.\n",
       "</video>"
      ],
      "text/plain": [
       "<matplotlib.animation.FuncAnimation at 0x7ffb255f8a20>"
      ]
     },
     "execution_count": 18,
     "metadata": {},
     "output_type": "execute_result"
    }
   ],
   "source": [
    "fig = plt.figure(figsize=(12, 8))\n",
    "\n",
    "use_3d = False\n",
    "\n",
    "if (use_3d):\n",
    "    ax = fig.add_subplot(111, projection='3d') ###\n",
    "    X, Y = np.linspace(0, nx*dx, nx), np.linspace(0, ny*dy, ny)\n",
    "    X, Y = np.meshgrid(X, Y)\n",
    "    surf = ax.plot_surface(X, Y, u0, cmap=cm.coolwarm, linewidth=0, antialiased=True, vmin=-5, vmax=5)\n",
    "    ax.set_zlim(-5, 10)\n",
    "else:\n",
    "    domain_extent = [0, nx*dx, 0, ny*dy]\n",
    "    im = plt.imshow(u0, origin='bottom', interpolation='none', vmin=-5, vmax=5, extent=domain_extent)\n",
    "    plt.colorbar()\n",
    "\n",
    "def animate(i):\n",
    "    print(\".\", end='', flush=True)\n",
    "    if (i > 0):\n",
    "        for k in range(10):\n",
    "            simulator.step()\n",
    "    \n",
    "    u1 = simulator.download()\n",
    "    \n",
    "    if (use_3d):\n",
    "        ax.clear()\n",
    "        surf = ax.plot_surface(X, Y, u1, cmap=cm.coolwarm, linewidth=0, antialiased=True, vmin=-5, vmax=5)\n",
    "        ax.set_zlim(-5, 10)\n",
    "    else:\n",
    "        im.set_data(u1)\n",
    "    \n",
    "    \n",
    "\n",
    "plt.rcParams[\"animation.html\"] = \"html5\"\n",
    "anim = animation.FuncAnimation(fig, animate, range(50), interval=100)\n",
    "plt.close()\n",
    "anim"
   ]
  },
  {
   "cell_type": "code",
   "execution_count": null,
   "metadata": {},
   "outputs": [],
   "source": []
  }
 ],
 "metadata": {
  "kernelspec": {
   "display_name": "Python [conda env:gpudev]",
   "language": "python",
   "name": "conda-env-gpudev-py"
  },
  "language_info": {
   "codemirror_mode": {
    "name": "ipython",
    "version": 3
   },
   "file_extension": ".py",
   "mimetype": "text/x-python",
   "name": "python",
   "nbconvert_exporter": "python",
   "pygments_lexer": "ipython3",
   "version": "3.6.6"
  }
 },
 "nbformat": 4,
 "nbformat_minor": 2
}
