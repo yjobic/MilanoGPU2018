{
 "cells": [
  {
   "cell_type": "markdown",
   "metadata": {},
   "source": [
    "# License\n",
    "\n",
    "    Jupyter notebook for accessing CUDA\n",
    "    Copyright (C) 2018 Andre.Brodtkorb@ifi.uio.no\n",
    "\n",
    "    This program is free software: you can redistribute it and/or modify\n",
    "    it under the terms of the GNU General Public License as published by\n",
    "    the Free Software Foundation, either version 3 of the License, or\n",
    "    (at your option) any later version.\n",
    "\n",
    "    This program is distributed in the hope that it will be useful,\n",
    "    but WITHOUT ANY WARRANTY; without even the implied warranty of\n",
    "    MERCHANTABILITY or FITNESS FOR A PARTICULAR PURPOSE.  See the\n",
    "    GNU General Public License for more details.\n",
    "\n",
    "    You should have received a copy of the GNU General Public License\n",
    "    along with this program.  If not, see <http://www.gnu.org/licenses/>."
   ]
  },
  {
   "cell_type": "code",
   "execution_count": 1,
   "metadata": {},
   "outputs": [],
   "source": [
    "%matplotlib inline \n",
    "\n",
    "#Import packages we need\n",
    "import numpy as np\n",
    "from matplotlib import animation, rc, cm\n",
    "from matplotlib import pyplot as plt\n",
    "\n",
    "import pycuda.compiler as cuda_compiler\n",
    "import pycuda.driver as cuda_driver\n",
    "from pycuda.gpuarray import GPUArray\n",
    "\n",
    "import IPythonMagic\n",
    "from Timer import Timer"
   ]
  },
  {
   "cell_type": "code",
   "execution_count": 2,
   "metadata": {},
   "outputs": [
    {
     "name": "stderr",
     "output_type": "stream",
     "text": [
      "Python version 3.6.6 | packaged by conda-forge | (default, Jul 26 2018, 09:53:17) \n",
      "[GCC 4.8.2 20140120 (Red Hat 4.8.2-15)]\n",
      "Registering context in user workspace\n",
      "Creating context\n",
      "PyCUDA version 2018.1.1\n",
      "CUDA version (8, 0, 0)\n",
      "Driver version 9010\n",
      "Using 'Quadro K2000' GPU\n",
      " => compute capability: (3, 0)\n",
      " => memory: 1877 / 1999 MB available\n",
      "Created context handle <23686608>\n",
      "Using CUDA cache dir /home/jobic/test/cuda/milan2018/MilanoGPU2018/notebooks/cuda_cache\n"
     ]
    }
   ],
   "source": [
    "%setup_logging\n",
    "%cuda_context_handler context"
   ]
  },
  {
   "cell_type": "markdown",
   "metadata": {},
   "source": [
    "# Heat equation in 2D\n",
    "The heat equation can be written\n",
    "$$\n",
    "\\begin{align}\n",
    "\\frac{\\partial u}{\\partial t} &= \\kappa \\nabla^2 u\\\\\n",
    "&=\\kappa \\left[ \\frac{\\partial^2 u}{\\partial x^2} +  \\frac{\\partial^2 u}{\\partial y^2} \\right]\n",
    "\\end{align}\n",
    "$$\n",
    "where $u$ is the temperature, and $\\kappa$ is the material specific heat conduction constant. \n",
    "\n",
    "By approximating the temporal derivative with a backward difference, and the spatial derivative with a central difference, we get\n",
    "$$\n",
    "\\frac{1}{\\Delta t} (u_{i, j}^{n+1} - u_{i, j}^{n}) \n",
    "= \\kappa \\left [\n",
    "\\frac{1}{\\Delta x^2}(u_{i-1, j}^n - 2u_{i, j}^n + u_{i+1, j}^n)\n",
    "+ \\frac{1}{\\Delta y^2}(u_{i, j-1}^n - 2u_{i, j}^n + u_{i, j+1}^n)\n",
    "\\right]\n",
    "$$\n",
    "and gathering $u^n+1$ on the left hand side and $u^n$on the right, we write\n",
    "$$\n",
    "u^{n+1}_{i,j} = u_{i,j}^n \n",
    "+ \\frac{\\kappa\\Delta t}{\\Delta x^2}(u_{i-1, j}^n - 2u_{i, j}^n + u_{i+1, j}^n)\n",
    "+ \\frac{\\kappa\\Delta t}{\\Delta y^2}(u_{i, j-1}^n - 2u_{i, j}^n + u_{i, j+1}^n)\n",
    "$$\n",
    "This discretization is unstable if the following CFL condition is not met\n",
    "$$\n",
    "\\frac{1}{2} \\gt \\frac{\\kappa\\Delta t}{\\Delta x^2}, \\qquad\n",
    "\\frac{1}{2} \\gt \\frac{\\kappa\\Delta t}{\\Delta y^2}\n",
    "$$\n",
    "or \n",
    "$$\n",
    "\\Delta t \\lt \\text{min}\\left(\\frac{\\Delta x^2}{2\\kappa}, \\frac{\\Delta y^2}{2\\kappa}\\right)\n",
    "$$# Linear Wave Equation in 2D\n",
    "The acoustic wave equation in 2D can be written\n",
    "$$\n",
    "\\begin{align}\n",
    "\\frac{\\partial^2 u}{\\partial t^2} &= c^2 \\nabla^2 u\\\\\n",
    "&= c^2 \\left[ \\frac{\\partial^2 u}{\\partial x^2} +  \\frac{\\partial^2 u}{\\partial y^2} \\right]\n",
    "\\end{align}\n",
    "$$\n",
    "where $u$ is the string position, and c is a material specific constant. \n",
    "\n",
    "By approximating the temporal derivative with a backward difference, and the spatial derivative with a central difference, we get\n",
    "$$\n",
    "\\frac{1}{\\Delta t^2} (u_{i, j}^{n+1} - 2u_{i, j}^{n} + u_{i, j}^{n-1}) \n",
    "= c \\left [\n",
    "\\frac{1}{\\Delta x^2}(u_{i-1, j}^n - 2u_{i, j}^n + u_{i+1, j}^n)\n",
    "+ \\frac{1}{\\Delta y^2}(u_{i, j-1}^n - 2u_{i, j}^n + u_{i, j+1}^n)\n",
    "\\right]\n",
    "$$\n",
    "and gathering $u^n+1$ on the left hand side and $u^n$on the right, we write\n",
    "$$\n",
    "u^{n+1}_{i,j} = 2u_{i,j}^n - u_{i, j}^{n-1}\n",
    "+ \\frac{\\kappa\\Delta t^2}{\\Delta x^2}(u_{i-1, j}^n - 2u_{i, j}^n + u_{i+1, j}^n)\n",
    "+ \\frac{\\kappa\\Delta t^2}{\\Delta y^2}(u_{i, j-1}^n - 2u_{i, j}^n + u_{i, j+1}^n)\n",
    "$$\n",
    "This discretization is unstable if the following CFL condition is not met\n",
    "$$\n",
    "\\frac{1}{2} \\gt \\frac{\\kappa\\Delta t}{\\Delta x^2}, \\qquad\n",
    "\\frac{1}{2} \\gt \\frac{\\kappa\\Delta t}{\\Delta y^2}\n",
    "$$\n",
    "or \n",
    "$$\n",
    "\\Delta t \\lt \\text{min}\\left(\\frac{\\Delta x^2}{2\\kappa}, \\frac{\\Delta y^2}{2\\kappa}\\right)\n",
    "$$"
   ]
  },
  {
   "cell_type": "code",
   "execution_count": 3,
   "metadata": {},
   "outputs": [],
   "source": [
    "class HeatEquationGPU(object):\n",
    "    def __init__(self):\n",
    "        pass\n",
    "        \n",
    "    def initialize(self, u0, kappa, dx, dy, dt, block_width=8, block_height=8):\n",
    "        self.kappa = np.float32(kappa)\n",
    "        self.dx = np.float32(dx)\n",
    "        self.dy = np.float32(dy)\n",
    "        self.dt = np.float32(dt)\n",
    "        self.nx = np.int32(u0.shape[1]-2)\n",
    "        self.ny = np.int32(u0.shape[0]-2)\n",
    "        \n",
    "        self.block_size = (block_width, block_height, 1)\n",
    "        self.grid_size = (int(np.ceil(self.nx / block_width)), int(np.ceil(self.ny / block_height)), 1)\n",
    "        self.stream = cuda_driver.Stream()\n",
    "        \n",
    "        self.u1_g = GPUArray(u0.shape, u0.dtype)\n",
    "        self.u0_g = GPUArray(u0.shape, u0.dtype)\n",
    "        \n",
    "        self.u0_g.set_async(u0, stream=self.stream)\n",
    "        \n",
    "        \n",
    "        cuda_kernel = \\\n",
    "        \"\"\"\n",
    "        #define BLOCK_WIDTH {:d}\n",
    "        #define BLOCK_HEIGHT {:d}\n",
    "        \"\"\".format(block_width, block_height) \\\n",
    "        + \\\n",
    "        \"\"\"\n",
    "        __global__ void heatEqn(float* u1, const float* u0, float kappa, float dx, float dy, float dt, int nx, int ny) {\n",
    "            //Plus one to skip the \"ghost cells\"\n",
    "            int i = blockIdx.x*blockDim.x + threadIdx.x + 1;\n",
    "            int j = blockIdx.y*blockDim.y + threadIdx.y + 1;\n",
    "            int tx = threadIdx.x + 1;\n",
    "            int ty = threadIdx.y + 1;\n",
    "\n",
    "            //First read into shared memory, including the local ghost cells / apron\n",
    "            __shared__ float u0_shared[BLOCK_HEIGHT+2][BLOCK_WIDTH+2];\n",
    "            for (int l=threadIdx.y; l<BLOCK_HEIGHT+2; l += blockDim.y) {\n",
    "                int t = min(blockIdx.y*blockDim.y + l, ny);\n",
    "                for (int k=threadIdx.x; k<BLOCK_WIDTH+2; k += blockDim.x) {\n",
    "                    int s = min(blockIdx.x*blockDim.x + k, nx);\n",
    "                    u0_shared[l][k] = u0[t*(nx+2) + s];\n",
    "                }\n",
    "            }\n",
    "            __syncthreads();\n",
    "\n",
    "            //Then fix the boundary conditions\n",
    "            if (i == 1) {\n",
    "                u0_shared[ty][tx-1] = u0_shared[ty][tx];\n",
    "            }\n",
    "            else if (i == nx) {\n",
    "                u0_shared[ty][tx+1] = u0_shared[ty][tx];\n",
    "            }\n",
    "            else if (j == 1) {\n",
    "                u0_shared[ty-1][tx] = u0_shared[ty][tx];\n",
    "            }\n",
    "            else if (j == ny) {\n",
    "                u0_shared[ty+1][tx] = u0_shared[ty][tx];\n",
    "            }\n",
    "            __syncthreads();\n",
    "\n",
    "            if (i >= 1 && i <= nx && j >= 1 && j <= ny) {\n",
    "                u1[j*(nx+2) + i] = u0_shared[ty][tx]\n",
    "                    + kappa*dt/(dx*dx) * (u0_shared[ty][tx-1] - 2.0f*u0_shared[ty][tx] + u0_shared[ty][tx+1])\n",
    "                    + kappa*dt/(dy*dy) * (u0_shared[ty-1][tx] - 2.0f*u0_shared[ty][tx] + u0_shared[ty+1][tx]);\n",
    "            }\n",
    "        }\n",
    "        \"\"\"\n",
    "        self.module = cuda_compiler.SourceModule(cuda_kernel, \\\n",
    "                                            options=['--use_fast_math'])\n",
    "        self.heat_eqn_kernel = self.module.get_function(\"heatEqn\");\n",
    "        self.heat_eqn_kernel.prepare(\"PPffffii\")\n",
    "        \n",
    "        \n",
    "        \n",
    "    def step(self):\n",
    "        self.heat_eqn_kernel.prepared_async_call(self.grid_size, self.block_size, self.stream, \\\n",
    "                                                    self.u1_g.gpudata, self.u0_g.gpudata, \\\n",
    "                                                    self.kappa, self.dx, self.dy, self.dt, self.nx, self.ny)\n",
    "        self.u0_g, self.u1_g = self.u1_g, self.u0_g\n",
    "    \n",
    "    \n",
    "    def download(self):\n",
    "        #self.u2 = cuda_driver.pagelocked_empty(u1.shape, u1.dtype)\n",
    "        u0 = np.empty(self.u0_g.shape, self.u0_g.dtype)\n",
    "        self.u0_g.get(u0)\n",
    "        return u0\n"
   ]
  },
  {
   "cell_type": "code",
   "execution_count": 4,
   "metadata": {},
   "outputs": [
    {
     "name": "stderr",
     "output_type": "stream",
     "text": [
      "Initialization: 348.536968 ms\n"
     ]
    }
   ],
   "source": [
    "#Create test input data\n",
    "kappa = 1.0\n",
    "nx, ny = 100, 50\n",
    "dx = 1.0\n",
    "dy = 2.0\n",
    "dt = 0.4*min(dx**2 / (2.0*kappa), dy**2 / (2.0*kappa))\n",
    "\n",
    "u0 = np.zeros((ny, nx), dtype=np.float32)\n",
    "for j in range(ny):\n",
    "    for i in range(nx):\n",
    "        x = (i - nx/2.0) * dx\n",
    "        y = (j - ny/2.0) * dy\n",
    "        if (np.sqrt(x**2 + y**2) < 10*min(dx, dy)):\n",
    "            u0[j, i] = 10.0\n",
    "\n",
    "with Timer(\"Initialization\") as t:\n",
    "    simulator = HeatEquationGPU()\n",
    "    simulator.initialize(u0, kappa, dx, dy, dt)"
   ]
  },
  {
   "cell_type": "code",
   "execution_count": 6,
   "metadata": {},
   "outputs": [
    {
     "name": "stderr",
     "output_type": "stream",
     "text": [
      "locator: <matplotlib.colorbar._ColorbarAutoLocator object at 0x7fcb530b74a8>\n",
      "Using auto colorbar locator on colorbar\n",
      "locator: <matplotlib.colorbar._ColorbarAutoLocator object at 0x7fcb530b74a8>\n",
      "Setting pcolormesh\n"
     ]
    },
    {
     "data": {
      "text/plain": [
       "<matplotlib.colorbar.Colorbar at 0x7fcb530b72e8>"
      ]
     },
     "execution_count": 6,
     "metadata": {},
     "output_type": "execute_result"
    },
    {
     "name": "stderr",
     "output_type": "stream",
     "text": [
      "update_title_pos\n",
      "findfont: Matching :family=sans-serif:style=normal:variant=normal:weight=normal:stretch=normal:size=10.0 to DejaVu Sans ('/home/jobic/anaconda3/envs/gpudev/lib/python3.6/site-packages/matplotlib/mpl-data/fonts/ttf/DejaVuSans.ttf') with score of 0.050000.\n",
      "update_title_pos\n",
      "update_title_pos\n",
      "update_title_pos\n",
      "update_title_pos\n",
      "update_title_pos\n",
      "update_title_pos\n",
      "update_title_pos\n",
      "update_title_pos\n",
      "update_title_pos\n"
     ]
    },
    {
     "data": {
      "image/png": "[encoded data removed]",
      "text/plain": [
       "<Figure size 432x288 with 2 Axes>"
      ]
     },
     "metadata": {
      "needs_background": "light"
     },
     "output_type": "display_data"
    }
   ],
   "source": [
    "#Init\n",
    "domain_extent = [0, nx*dx, 0, ny*dy]\n",
    "im = plt.imshow(u0, origin='bottom', interpolation='none', vmin=-5, vmax=5, extent=domain_extent)\n",
    "plt.colorbar()"
   ]
  },
  {
   "cell_type": "code",
   "execution_count": 7,
   "metadata": {},
   "outputs": [
    {
     "name": "stderr",
     "output_type": "stream",
     "text": [
      "locator: <matplotlib.colorbar._ColorbarAutoLocator object at 0x7fcb52df3da0>\n",
      "Using auto colorbar locator on colorbar\n",
      "locator: <matplotlib.colorbar._ColorbarAutoLocator object at 0x7fcb52df3da0>\n",
      "Setting pcolormesh\n"
     ]
    },
    {
     "data": {
      "text/plain": [
       "<matplotlib.colorbar.Colorbar at 0x7fcb52df3b70>"
      ]
     },
     "execution_count": 7,
     "metadata": {},
     "output_type": "execute_result"
    },
    {
     "name": "stderr",
     "output_type": "stream",
     "text": [
      "update_title_pos\n",
      "update_title_pos\n",
      "update_title_pos\n",
      "update_title_pos\n",
      "update_title_pos\n",
      "update_title_pos\n",
      "update_title_pos\n",
      "update_title_pos\n",
      "update_title_pos\n",
      "update_title_pos\n"
     ]
    },
    {
     "data": {
      "image/png": "[encoded data removed]",
      "text/plain": [
       "<Figure size 432x288 with 2 Axes>"
      ]
     },
     "metadata": {
      "needs_background": "light"
     },
     "output_type": "display_data"
    }
   ],
   "source": [
    "#Une iteration\n",
    "simulator.step()\n",
    "u1 = simulator.download()\n",
    "domain_extent = [0, nx*dx, 0, ny*dy]\n",
    "im = plt.imshow(u1, origin='bottom', interpolation='none', vmin=-5, vmax=5, extent=domain_extent)\n",
    "plt.colorbar()"
   ]
  },
  {
   "cell_type": "code",
   "execution_count": 8,
   "metadata": {},
   "outputs": [
    {
     "name": "stderr",
     "output_type": "stream",
     "text": [
      "locator: <matplotlib.colorbar._ColorbarAutoLocator object at 0x7fcb52d8fd68>\n",
      "Using auto colorbar locator on colorbar\n",
      "locator: <matplotlib.colorbar._ColorbarAutoLocator object at 0x7fcb52d8fd68>\n",
      "Setting pcolormesh\n"
     ]
    },
    {
     "data": {
      "text/plain": [
       "<matplotlib.colorbar.Colorbar at 0x7fcb52d8fb00>"
      ]
     },
     "execution_count": 8,
     "metadata": {},
     "output_type": "execute_result"
    },
    {
     "name": "stderr",
     "output_type": "stream",
     "text": [
      "update_title_pos\n",
      "update_title_pos\n",
      "update_title_pos\n",
      "update_title_pos\n",
      "update_title_pos\n",
      "update_title_pos\n",
      "update_title_pos\n",
      "update_title_pos\n",
      "update_title_pos\n",
      "update_title_pos\n"
     ]
    },
    {
     "data": {
      "image/png": "[encoded data removed]",
      "text/plain": [
       "<Figure size 432x288 with 2 Axes>"
      ]
     },
     "metadata": {
      "needs_background": "light"
     },
     "output_type": "display_data"
    }
   ],
   "source": [
    "#Une deuxieme iteration\n",
    "simulator.step()\n",
    "u1 = simulator.download()\n",
    "domain_extent = [0, nx*dx, 0, ny*dy]\n",
    "im = plt.imshow(u1, origin='bottom', interpolation='none', vmin=-5, vmax=5, extent=domain_extent)\n",
    "plt.colorbar()"
   ]
  },
  {
   "cell_type": "code",
   "execution_count": 9,
   "metadata": {},
   "outputs": [
    {
     "name": "stderr",
     "output_type": "stream",
     "text": [
      "locator: <matplotlib.colorbar._ColorbarAutoLocator object at 0x7fcb52ca2b00>\n",
      "Using auto colorbar locator on colorbar\n",
      "locator: <matplotlib.colorbar._ColorbarAutoLocator object at 0x7fcb52ca2b00>\n",
      "Setting pcolormesh\n"
     ]
    },
    {
     "data": {
      "text/plain": [
       "<matplotlib.colorbar.Colorbar at 0x7fcb52ca2898>"
      ]
     },
     "execution_count": 9,
     "metadata": {},
     "output_type": "execute_result"
    },
    {
     "name": "stderr",
     "output_type": "stream",
     "text": [
      "update_title_pos\n",
      "update_title_pos\n",
      "update_title_pos\n",
      "update_title_pos\n",
      "update_title_pos\n",
      "update_title_pos\n",
      "update_title_pos\n",
      "update_title_pos\n",
      "update_title_pos\n",
      "update_title_pos\n"
     ]
    },
    {
     "data": {
      "image/png": "[encoded data removed]",
      "text/plain": [
       "<Figure size 432x288 with 2 Axes>"
      ]
     },
     "metadata": {
      "needs_background": "light"
     },
     "output_type": "display_data"
    }
   ],
   "source": [
    "#Une 3 iteration\n",
    "simulator.step()\n",
    "u1 = simulator.download()\n",
    "domain_extent = [0, nx*dx, 0, ny*dy]\n",
    "im = plt.imshow(u1, origin='bottom', interpolation='none', vmin=-5, vmax=5, extent=domain_extent)\n",
    "plt.colorbar()"
   ]
  },
  {
   "cell_type": "code",
   "execution_count": 10,
   "metadata": {},
   "outputs": [
    {
     "name": "stderr",
     "output_type": "stream",
     "text": [
      "locator: <matplotlib.colorbar._ColorbarAutoLocator object at 0x7fcb52c3a748>\n",
      "Using auto colorbar locator on colorbar\n",
      "locator: <matplotlib.colorbar._ColorbarAutoLocator object at 0x7fcb52c3a748>\n",
      "Setting pcolormesh\n"
     ]
    },
    {
     "data": {
      "text/plain": [
       "<matplotlib.colorbar.Colorbar at 0x7fcb52c3a4e0>"
      ]
     },
     "execution_count": 10,
     "metadata": {},
     "output_type": "execute_result"
    },
    {
     "name": "stderr",
     "output_type": "stream",
     "text": [
      "update_title_pos\n",
      "update_title_pos\n",
      "update_title_pos\n",
      "update_title_pos\n",
      "update_title_pos\n",
      "update_title_pos\n",
      "update_title_pos\n",
      "update_title_pos\n",
      "update_title_pos\n",
      "update_title_pos\n"
     ]
    },
    {
     "data": {
      "image/png": "[encoded data removed]",
      "text/plain": [
       "<Figure size 432x288 with 2 Axes>"
      ]
     },
     "metadata": {
      "needs_background": "light"
     },
     "output_type": "display_data"
    }
   ],
   "source": [
    "#Une 4 iteration\n",
    "simulator.step()\n",
    "u1 = simulator.download()\n",
    "domain_extent = [0, nx*dx, 0, ny*dy]\n",
    "im = plt.imshow(u1, origin='bottom', interpolation='none', vmin=-5, vmax=5, extent=domain_extent)\n",
    "plt.colorbar()"
   ]
  },
  {
   "cell_type": "code",
   "execution_count": 11,
   "metadata": {},
   "outputs": [
    {
     "name": "stdout",
     "output_type": "stream",
     "text": [
      "10.0\n",
      "0.0\n"
     ]
    }
   ],
   "source": [
    "print(np.max(u1))\n",
    "print(np.min(u1))"
   ]
  },
  {
   "cell_type": "code",
   "execution_count": null,
   "metadata": {},
   "outputs": [],
   "source": [
    "fig = plt.figure(figsize=(12, 8))\n",
    "\n",
    "use_3d = False\n",
    "\n",
    "if (use_3d):\n",
    "    ax = fig.add_subplot(111, projection='3d') ###\n",
    "    X, Y = np.linspace(0, nx*dx, nx), np.linspace(0, ny*dy, ny)\n",
    "    X, Y = np.meshgrid(X, Y)\n",
    "    surf = ax.plot_surface(X, Y, u0, cmap=cm.coolwarm, linewidth=0, antialiased=True, vmin=-5, vmax=5)\n",
    "    ax.set_zlim(-5, 10)\n",
    "else:\n",
    "    domain_extent = [0, nx*dx, 0, ny*dy]\n",
    "    im = plt.imshow(u0, origin='bottom', interpolation='none', vmin=-5, vmax=5, extent=domain_extent)\n",
    "    plt.colorbar()\n",
    "\n",
    "def animate(i):\n",
    "    print(\".\", end='', flush=True)\n",
    "    if (i > 0):\n",
    "        for k in range(10):\n",
    "            simulator.step()\n",
    "    \n",
    "    u1 = simulator.download()\n",
    "    \n",
    "    if (use_3d):\n",
    "        ax.clear()\n",
    "        surf = ax.plot_surface(X, Y, u1, cmap=cm.coolwarm, linewidth=0, antialiased=True, vmin=-5, vmax=5)\n",
    "        ax.set_zlim(-5, 10)\n",
    "    else:\n",
    "        im.set_data(u1)\n",
    "    \n",
    "    \n",
    "\n",
    "plt.rcParams[\"animation.html\"] = \"html5\"\n",
    "anim = animation.FuncAnimation(fig, animate, range(50), interval=100)\n",
    "plt.close()\n",
    "anim"
   ]
  },
  {
   "cell_type": "code",
   "execution_count": null,
   "metadata": {},
   "outputs": [],
   "source": []
  }
 ],
 "metadata": {
  "kernelspec": {
   "display_name": "Python [conda env:gpudev]",
   "language": "python",
   "name": "conda-env-gpudev-py"
  },
  "language_info": {
   "codemirror_mode": {
    "name": "ipython",
    "version": 3
   },
   "file_extension": ".py",
   "mimetype": "text/x-python",
   "name": "python",
   "nbconvert_exporter": "python",
   "pygments_lexer": "ipython3",
   "version": "3.6.6"
  }
 },
 "nbformat": 4,
 "nbformat_minor": 2
}
