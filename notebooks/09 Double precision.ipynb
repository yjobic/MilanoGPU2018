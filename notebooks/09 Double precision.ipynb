{
 "cells": [
  {
   "cell_type": "markdown",
   "metadata": {},
   "source": [
    "# License\n",
    "\n",
    "    IPython notebook for running a trivial OpenCL program\n",
    "    Copyright (C) 2018 Andre.Brodtkorb@ifi.uio.no\n",
    "\n",
    "    This program is free software: you can redistribute it and/or modify\n",
    "    it under the terms of the GNU General Public License as published by\n",
    "    the Free Software Foundation, either version 3 of the License, or\n",
    "    (at your option) any later version.\n",
    "\n",
    "    This program is distributed in the hope that it will be useful,\n",
    "    but WITHOUT ANY WARRANTY; without even the implied warranty of\n",
    "    MERCHANTABILITY or FITNESS FOR A PARTICULAR PURPOSE.  See the\n",
    "    GNU General Public License for more details.\n",
    "\n",
    "    You should have received a copy of the GNU General Public License\n",
    "    along with this program.  If not, see <http://www.gnu.org/licenses/>."
   ]
  },
  {
   "cell_type": "code",
   "execution_count": 1,
   "metadata": {},
   "outputs": [],
   "source": [
    "#Lets have matplotlib \"inline\"\n",
    "%matplotlib inline\n",
    "\n",
    "#Import packages we need\n",
    "import numpy as np\n",
    "import pycuda.compiler as cuda_compiler\n",
    "from pycuda.gpuarray import GPUArray\n",
    "import pycuda.driver as cuda_driver\n",
    "\n",
    "from matplotlib import pyplot as plt\n",
    "\n",
    "import IPythonMagic"
   ]
  },
  {
   "cell_type": "code",
   "execution_count": 2,
   "metadata": {},
   "outputs": [
    {
     "name": "stderr",
     "output_type": "stream",
     "text": [
      "Python version 3.6.6 (default, Sep 12 2018, 18:26:19) \n",
      "[GCC 8.0.1 20180414 (experimental) [trunk revision 259383]]\n",
      "Registering context in user workspace\n",
      "Creating context\n",
      "PyCUDA version 2018.1.1\n",
      "CUDA version (9, 1, 0)\n",
      "Driver version 10000\n",
      "Using 'Tesla K80' GPU\n",
      " => compute capability: (3, 7)\n",
      " => memory: 11249 / 11441 MB available\n",
      "Created context handle <40697600>\n",
      "Using CUDA cache dir /home/ubuntu/jupyter_notebooks/Andre Brodtkorb/MilanoGPU2018/notebooks/cuda_cache\n"
     ]
    }
   ],
   "source": [
    "%setup_logging\n",
    "%cuda_context_handler context"
   ]
  },
  {
   "cell_type": "code",
   "execution_count": 3,
   "metadata": {},
   "outputs": [],
   "source": [
    "cuda_kernel = \"\"\"\n",
    "__global__ void doubleKernel(double* c, double* a, double* b) {\n",
    "    unsigned int i = blockIdx.x*blockDim.x + threadIdx.x;\n",
    "    c[i] = a[i] + b[i];\n",
    "}\n",
    "\"\"\"\n",
    "module = cuda_compiler.SourceModule(cuda_kernel)\n",
    "kernel = module.get_function(\"doubleKernel\");"
   ]
  },
  {
   "cell_type": "code",
   "execution_count": 4,
   "metadata": {},
   "outputs": [
    {
     "data": {
      "text/plain": [
       "array([1.86840671, 0.60788442, 1.16183315, 0.93398355, 1.01698442,\n",
       "       1.65371811, 0.60201705, 1.2489957 , 1.66534129, 0.4016315 ,\n",
       "       0.07442312, 1.43393781, 1.12693824, 1.39684025, 0.23236278,\n",
       "       1.55005324, 1.38090095, 1.36604282, 1.45334558, 1.79433806,\n",
       "       1.35917034, 0.1968755 , 0.96317226, 0.78824297, 0.88890496,\n",
       "       0.49848643, 0.32256396, 1.19586739, 0.65051421, 0.68897144,\n",
       "       1.6196743 , 1.00232138, 1.02198374, 1.39501627, 1.4627116 ,\n",
       "       1.30711725, 1.46017959, 0.45777574, 1.01729755, 0.81160026,\n",
       "       1.04365044, 0.49241634, 1.31239648, 1.00011464, 0.34610888,\n",
       "       1.01845463, 0.4271567 , 0.23169926, 0.9866758 , 0.59005584])"
      ]
     },
     "execution_count": 4,
     "metadata": {},
     "output_type": "execute_result"
    }
   ],
   "source": [
    "#Size of our test\n",
    "n = 50\n",
    "\n",
    "#Create test input / output data\n",
    "a = np.random.rand(n)\n",
    "b = np.random.rand(n)\n",
    "c = np.empty_like(a)\n",
    "\n",
    "#Upload data to the device\n",
    "a_g = GPUArray(a.shape, a.dtype)\n",
    "b_g = GPUArray(b.shape, b.dtype)\n",
    "a_g.set(a)\n",
    "b_g.set(b)\n",
    "\n",
    "#Allocate output data\n",
    "c_g = GPUArray(c.shape, a.dtype)\n",
    "\n",
    "#Execute program on device\n",
    "kernel(c_g, a_g, b_g, block=(n, 1, 1), grid=(1,1))\n",
    "\n",
    "#Copy data from device to host\n",
    "c_g.get(c)"
   ]
  },
  {
   "cell_type": "code",
   "execution_count": 5,
   "metadata": {},
   "outputs": [
    {
     "name": "stdout",
     "output_type": "stream",
     "text": [
      "C   =  [1.86840671 0.60788442 1.16183315 0.93398355 1.01698442 1.65371811\n",
      " 0.60201705 1.2489957  1.66534129 0.4016315  0.07442312 1.43393781\n",
      " 1.12693824 1.39684025 0.23236278 1.55005324 1.38090095 1.36604282\n",
      " 1.45334558 1.79433806 1.35917034 0.1968755  0.96317226 0.78824297\n",
      " 0.88890496 0.49848643 0.32256396 1.19586739 0.65051421 0.68897144\n",
      " 1.6196743  1.00232138 1.02198374 1.39501627 1.4627116  1.30711725\n",
      " 1.46017959 0.45777574 1.01729755 0.81160026 1.04365044 0.49241634\n",
      " 1.31239648 1.00011464 0.34610888 1.01845463 0.4271567  0.23169926\n",
      " 0.9866758  0.59005584]\n",
      "Ref =  [1.86840671 0.60788442 1.16183315 0.93398355 1.01698442 1.65371811\n",
      " 0.60201705 1.2489957  1.66534129 0.4016315  0.07442312 1.43393781\n",
      " 1.12693824 1.39684025 0.23236278 1.55005324 1.38090095 1.36604282\n",
      " 1.45334558 1.79433806 1.35917034 0.1968755  0.96317226 0.78824297\n",
      " 0.88890496 0.49848643 0.32256396 1.19586739 0.65051421 0.68897144\n",
      " 1.6196743  1.00232138 1.02198374 1.39501627 1.4627116  1.30711725\n",
      " 1.46017959 0.45777574 1.01729755 0.81160026 1.04365044 0.49241634\n",
      " 1.31239648 1.00011464 0.34610888 1.01845463 0.4271567  0.23169926\n",
      " 0.9866758  0.59005584]\n",
      "Sad =  0.0\n"
     ]
    }
   ],
   "source": [
    "#Compute reference using Numpy\n",
    "c_ref = a + b\n",
    "\n",
    "#Print result\n",
    "print(\"C   = \", c)\n",
    "print(\"Ref = \", c_ref)\n",
    "print(\"Sad = \", np.sum(np.abs(c - c_ref)))"
   ]
  },
  {
   "cell_type": "code",
   "execution_count": 6,
   "metadata": {},
   "outputs": [
    {
     "data": {
      "text/plain": [
       "[<matplotlib.lines.Line2D at 0x7fc2b2920e10>]"
      ]
     },
     "execution_count": 6,
     "metadata": {},
     "output_type": "execute_result"
    },
    {
     "data": {
      "image/png": "[encoded data removed]",
      "text/plain": [
       "<matplotlib.figure.Figure at 0x7fc2b2904e10>"
      ]
     },
     "metadata": {
      "needs_background": "light"
     },
     "output_type": "display_data"
    }
   ],
   "source": [
    "plt.figure(figsize=(12,8))\n",
    "plt.plot(c, '+r')\n",
    "plt.plot(c_ref, 'xb')"
   ]
  },
  {
   "cell_type": "code",
   "execution_count": null,
   "metadata": {},
   "outputs": [],
   "source": []
  }
 ],
 "metadata": {
  "kernelspec": {
   "display_name": "Python 3",
   "language": "python",
   "name": "python3"
  },
  "language_info": {
   "codemirror_mode": {
    "name": "ipython",
    "version": 3
   },
   "file_extension": ".py",
   "mimetype": "text/x-python",
   "name": "python",
   "nbconvert_exporter": "python",
   "pygments_lexer": "ipython3",
   "version": "3.6.6"
  }
 },
 "nbformat": 4,
 "nbformat_minor": 2
}
